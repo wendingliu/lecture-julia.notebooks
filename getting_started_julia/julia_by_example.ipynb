{
 "cells": [
  {
   "cell_type": "markdown",
   "id": "87a549d7",
   "metadata": {},
   "source": [
    "\n",
    "<a id='julia-by-example'></a>"
   ]
  },
  {
   "cell_type": "markdown",
   "id": "ca05b81c",
   "metadata": {},
   "source": [
    "# Introductory Examples"
   ]
  },
  {
   "cell_type": "markdown",
   "id": "69104f57",
   "metadata": {},
   "source": [
    "## Contents\n",
    "\n",
    "- [Introductory Examples](#Introductory-Examples)  \n",
    "  - [Overview](#Overview)  \n",
    "  - [Example: Plotting a White Noise Process](#Example:-Plotting-a-White-Noise-Process)  \n",
    "  - [Example: Variations on Fixed Points](#Example:-Variations-on-Fixed-Points)  \n",
    "  - [Exercises](#Exercises)  \n",
    "  - [Solutions](#Solutions)  "
   ]
  },
  {
   "cell_type": "markdown",
   "id": "3d555c96",
   "metadata": {},
   "source": [
    "## Overview\n",
    "\n",
    "We’re now ready to start learning the Julia language itself."
   ]
  },
  {
   "cell_type": "markdown",
   "id": "3d33918d",
   "metadata": {},
   "source": [
    "### Level\n",
    "\n",
    "Our approach is aimed at those who already have at least some knowledge of programming — perhaps experience with Python, MATLAB, Fortran, C or similar.\n",
    "\n",
    "In particular, we assume you have some familiarity with fundamental programming concepts such as\n",
    "\n",
    "- variables  \n",
    "- arrays or vectors  \n",
    "- loops  \n",
    "- conditionals (if/else)  \n",
    "\n",
    "\n",
    "\n",
    "<a id='intro-resources'></a>"
   ]
  },
  {
   "cell_type": "markdown",
   "id": "42a1afe6",
   "metadata": {},
   "source": [
    "### (Optional) Resources for Introductory Programming\n",
    "\n",
    "If Julia is your first programming language, then you may want to examine other resources before proceeding through these chapters.\n",
    "\n",
    "First, you will want to ensure that you have [installed Conda](https://julia.quantecon.org/getting_started.html#install-jupyter), [Julia](https://julia.quantecon.org/getting_started.html#intro-repl) in the previous section, and are able to [launch Jupyter Lab](https://julia.quantecon.org/getting_started.html#running-jupyterlab).  Then, even without downloading these lecture notes you can start learning Julia.\n",
    "\n",
    "Some resources for users with little to no programming experience are the:\n",
    "\n",
    "1. [Introduction to Julia](https://juliaacademy.com/p/intro-to-julia) which is appropriate for those with little programming experience.  \n",
    "  - You will need to sign up for this course to access it, but it is free.  \n",
    "  - Avoid the initial lecture on the installation of Julia and nteract.  \n",
    "  - The Jupyter Notebooks for this class are available [online](https://github.com/JuliaAcademy/Introduction-to-Julia)  \n",
    "1. [Julia for Beginners](https://www.youtube.com/playlist?list=PLhQ2JMBcfAsi_3g2AFJ6B84d8c5jw5kXp) from the [julia for talented amateurs](https://www.youtube.com/c/juliafortalentedamateurs) channel.  \n",
    "  - If you watch these, ignore the environment.  It is using a different open-source editor (i.e. Atom, which is being slowly phased out) and the REPL.  However the content itself is independent of the environment. Skip any setup instructions and just use Jupyter.  \n",
    "1. [Julia Programming for Nervous Beginners](https://www.youtube.com/playlist?list=PLP8iPy9hna6Qpx0MgGyElJ5qFlaIXYf1R) youtube tutorials.  \n",
    "  - These get advanced fairly quickly, but have plenty of great content.  \n",
    "  - This may be less gentle of an introduction for new users given the tooling choices.  \n",
    "\n",
    "\n",
    "However, if you have even introductory experience with any programming language (e.g. you do not need to review what a loop, array, variable, or conditional “if” statement is), you should be able to start directly with these lectures."
   ]
  },
  {
   "cell_type": "markdown",
   "id": "87288da2",
   "metadata": {},
   "source": [
    "### Approach\n",
    "\n",
    "In this lecture we will write and then pick apart small Julia programs.\n",
    "\n",
    "At this stage the objective is to introduce you to basic syntax and data structures.\n",
    "\n",
    "Deeper concepts—how things work—will be covered in later lectures.\n",
    "\n",
    "Since we are looking for simplicity the examples are a little contrived\n",
    "\n",
    "In this lecture, we will often start with a direct MATLAB/FORTRAN approach which often is **poor coding style** in Julia, but then move towards more **elegant code** which is tightly connected to the mathematics.\n",
    "\n",
    "We assume that you’ve worked your way through [our getting started lecture](https://julia.quantecon.org/getting_started.html) already.\n",
    "\n",
    "The definitive reference is [Julia’s own documentation](https://docs.julialang.org/).  The manual is thoughtfully written but is also quite dense.\n",
    "\n",
    "The presentation in this and our remaining lectures is more of a tutorial style based around examples."
   ]
  },
  {
   "cell_type": "markdown",
   "id": "9ad55184",
   "metadata": {},
   "source": [
    "## Example: Plotting a White Noise Process\n",
    "\n",
    "To begin, let’s suppose that we want to simulate and plot the white noise\n",
    "process $ \\epsilon_0, \\epsilon_1, \\ldots, \\epsilon_T $, where each draw $ \\epsilon_t $ is independent standard normal."
   ]
  },
  {
   "cell_type": "markdown",
   "id": "506c7fd2",
   "metadata": {},
   "source": [
    "### Introduction to Packages\n",
    "\n",
    "Assuming that you followed  [our getting started lecture](https://julia.quantecon.org/getting_started.html) you will have installed all packages required for your notebooks to run.\n",
    "\n",
    "More generally, there are two ways to install packages and versions (where the first method is discouraged, since Julia provides a state-of-the-art setup for reproducible environments)\n",
    "\n",
    "1. `add` the packages directly into your global installation (e.g. `Pkg.add(\"MyPackage\")` or `] add MyPackage`) without any project activated.  \n",
    "  - We [installed](https://julia.quantecon.org/getting_started.html#intro-repl) the `IJulia` package in this way, since it must be accessible in every project.  \n",
    "  - As a reminder, the `]` enters the package mode, and with some terminals you can directly copy in the whole `] add MyPackage` string.  \n",
    "1. using a directory with a `Project.toml` and `Manifest.toml` files, which provides an isolated set of packages for a particular project.  \n",
    "  - If you load a jupyter notebook, it will automatically look up the tree for the project files to activate, but will not automatically install them.  This can be done with `] instantiate`, as we did in our [installation](https://julia.quantecon.org/getting_started.html#install-packages)  \n",
    "  - The project files can be in parent folders relative to the notebooks and sourcecode.  \n",
    "\n",
    "\n",
    "The project provides the environment for running code is **reproducible**, so that anyone can replicate the precise set of package and versions used in construction.\n",
    "\n",
    "After the installation and activation, `using` provides a way to say that a particular code or notebook will use the package."
   ]
  },
  {
   "cell_type": "code",
   "execution_count": 1,
   "id": "a2185acc",
   "metadata": {
    "hide-output": false
   },
   "outputs": [],
   "source": [
    "using LinearAlgebra, Statistics, Plots"
   ]
  },
  {
   "cell_type": "markdown",
   "id": "b18e9a76",
   "metadata": {},
   "source": [
    "If these packages were not in your project file or global package environment, you will see an error requiring installation.  To reinforce the point aove: Ideally you should be using a local `Project.toml` with these in them, in which case you might simply need to `] instantiate` it.  Without a project file, you can manually add them as required (e.g. `] add Plots`).  See [here](https://julia.quantecon.org/getting_started.html#install-packages) for more on instantiation and activation of projects.\n",
    "\n",
    "\n",
    "<a id='import'></a>"
   ]
  },
  {
   "cell_type": "markdown",
   "id": "f5466cea",
   "metadata": {},
   "source": [
    "### Using Functions from a Package\n",
    "\n",
    "Some functions are built into the base Julia, such as `randn`, which returns a single draw from a normal distribution with mean 0 and variance 1 if given no parameters."
   ]
  },
  {
   "cell_type": "code",
   "execution_count": 2,
   "id": "152d1307",
   "metadata": {
    "hide-output": false
   },
   "outputs": [
    {
     "data": {
      "text/plain": [
       "-0.9740083023000078"
      ]
     },
     "execution_count": 2,
     "metadata": {},
     "output_type": "execute_result"
    }
   ],
   "source": [
    "randn()"
   ]
  },
  {
   "cell_type": "markdown",
   "id": "f2816f74",
   "metadata": {},
   "source": [
    "Other functions require importing all of the names from an external library"
   ]
  },
  {
   "cell_type": "code",
   "execution_count": 3,
   "id": "73ad4374",
   "metadata": {
    "hide-output": false
   },
   "outputs": [
    {
     "data": {
      "image/svg+xml": [
       "<?xml version=\"1.0\" encoding=\"utf-8\"?>\n",
       "<svg xmlns=\"http://www.w3.org/2000/svg\" xmlns:xlink=\"http://www.w3.org/1999/xlink\" width=\"600\" height=\"400\" viewBox=\"0 0 2400 1600\">\n",
       "<defs>\n",
       "  <clipPath id=\"clip160\">\n",
       "    <rect x=\"0\" y=\"0\" width=\"2400\" height=\"1600\"/>\n",
       "  </clipPath>\n",
       "</defs>\n",
       "<path clip-path=\"url(#clip160)\" d=\"\n",
       "M0 1600 L2400 1600 L2400 0 L0 0  Z\n",
       "  \" fill=\"#ffffff\" fill-rule=\"evenodd\" fill-opacity=\"1\"/>\n",
       "<defs>\n",
       "  <clipPath id=\"clip161\">\n",
       "    <rect x=\"480\" y=\"0\" width=\"1681\" height=\"1600\"/>\n",
       "  </clipPath>\n",
       "</defs>\n",
       "<path clip-path=\"url(#clip160)\" d=\"\n",
       "M147.478 1486.45 L2352.76 1486.45 L2352.76 47.2441 L147.478 47.2441  Z\n",
       "  \" fill=\"#ffffff\" fill-rule=\"evenodd\" fill-opacity=\"1\"/>\n",
       "<defs>\n",
       "  <clipPath id=\"clip162\">\n",
       "    <rect x=\"147\" y=\"47\" width=\"2206\" height=\"1440\"/>\n",
       "  </clipPath>\n",
       "</defs>\n",
       "<polyline clip-path=\"url(#clip162)\" style=\"stroke:#000000; stroke-linecap:butt; stroke-linejoin:round; stroke-width:2; stroke-opacity:0.1; fill:none\" points=\"\n",
       "  188.877,1486.45 188.877,47.2441 \n",
       "  \"/>\n",
       "<polyline clip-path=\"url(#clip162)\" style=\"stroke:#000000; stroke-linecap:butt; stroke-linejoin:round; stroke-width:2; stroke-opacity:0.1; fill:none\" points=\"\n",
       "  714.243,1486.45 714.243,47.2441 \n",
       "  \"/>\n",
       "<polyline clip-path=\"url(#clip162)\" style=\"stroke:#000000; stroke-linecap:butt; stroke-linejoin:round; stroke-width:2; stroke-opacity:0.1; fill:none\" points=\"\n",
       "  1239.61,1486.45 1239.61,47.2441 \n",
       "  \"/>\n",
       "<polyline clip-path=\"url(#clip162)\" style=\"stroke:#000000; stroke-linecap:butt; stroke-linejoin:round; stroke-width:2; stroke-opacity:0.1; fill:none\" points=\"\n",
       "  1764.98,1486.45 1764.98,47.2441 \n",
       "  \"/>\n",
       "<polyline clip-path=\"url(#clip162)\" style=\"stroke:#000000; stroke-linecap:butt; stroke-linejoin:round; stroke-width:2; stroke-opacity:0.1; fill:none\" points=\"\n",
       "  2290.34,1486.45 2290.34,47.2441 \n",
       "  \"/>\n",
       "<polyline clip-path=\"url(#clip160)\" style=\"stroke:#000000; stroke-linecap:butt; stroke-linejoin:round; stroke-width:4; stroke-opacity:1; fill:none\" points=\"\n",
       "  147.478,1486.45 2352.76,1486.45 \n",
       "  \"/>\n",
       "<polyline clip-path=\"url(#clip160)\" style=\"stroke:#000000; stroke-linecap:butt; stroke-linejoin:round; stroke-width:4; stroke-opacity:1; fill:none\" points=\"\n",
       "  188.877,1486.45 188.877,1467.55 \n",
       "  \"/>\n",
       "<polyline clip-path=\"url(#clip160)\" style=\"stroke:#000000; stroke-linecap:butt; stroke-linejoin:round; stroke-width:4; stroke-opacity:1; fill:none\" points=\"\n",
       "  714.243,1486.45 714.243,1467.55 \n",
       "  \"/>\n",
       "<polyline clip-path=\"url(#clip160)\" style=\"stroke:#000000; stroke-linecap:butt; stroke-linejoin:round; stroke-width:4; stroke-opacity:1; fill:none\" points=\"\n",
       "  1239.61,1486.45 1239.61,1467.55 \n",
       "  \"/>\n",
       "<polyline clip-path=\"url(#clip160)\" style=\"stroke:#000000; stroke-linecap:butt; stroke-linejoin:round; stroke-width:4; stroke-opacity:1; fill:none\" points=\"\n",
       "  1764.98,1486.45 1764.98,1467.55 \n",
       "  \"/>\n",
       "<polyline clip-path=\"url(#clip160)\" style=\"stroke:#000000; stroke-linecap:butt; stroke-linejoin:round; stroke-width:4; stroke-opacity:1; fill:none\" points=\"\n",
       "  2290.34,1486.45 2290.34,1467.55 \n",
       "  \"/>\n",
       "<path clip-path=\"url(#clip160)\" d=\"M188.877 1517.37 Q185.266 1517.37 183.437 1520.93 Q181.631 1524.47 181.631 1531.6 Q181.631 1538.71 183.437 1542.27 Q185.266 1545.82 188.877 1545.82 Q192.511 1545.82 194.317 1542.27 Q196.145 1538.71 196.145 1531.6 Q196.145 1524.47 194.317 1520.93 Q192.511 1517.37 188.877 1517.37 M188.877 1513.66 Q194.687 1513.66 197.742 1518.27 Q200.821 1522.85 200.821 1531.6 Q200.821 1540.33 197.742 1544.94 Q194.687 1549.52 188.877 1549.52 Q183.067 1549.52 179.988 1544.94 Q176.932 1540.33 176.932 1531.6 Q176.932 1522.85 179.988 1518.27 Q183.067 1513.66 188.877 1513.66 Z\" fill=\"#000000\" fill-rule=\"evenodd\" fill-opacity=\"1\" /><path clip-path=\"url(#clip160)\" d=\"M693.514 1544.91 L709.833 1544.91 L709.833 1548.85 L687.889 1548.85 L687.889 1544.91 Q690.551 1542.16 695.134 1537.53 Q699.741 1532.88 700.921 1531.53 Q703.167 1529.01 704.046 1527.27 Q704.949 1525.51 704.949 1523.82 Q704.949 1521.07 703.005 1519.33 Q701.084 1517.6 697.982 1517.6 Q695.783 1517.6 693.329 1518.36 Q690.898 1519.13 688.121 1520.68 L688.121 1515.95 Q690.945 1514.82 693.398 1514.24 Q695.852 1513.66 697.889 1513.66 Q703.259 1513.66 706.454 1516.35 Q709.648 1519.03 709.648 1523.52 Q709.648 1525.65 708.838 1527.57 Q708.051 1529.47 705.945 1532.07 Q705.366 1532.74 702.264 1535.95 Q699.162 1539.15 693.514 1544.91 Z\" fill=\"#000000\" fill-rule=\"evenodd\" fill-opacity=\"1\" /><path clip-path=\"url(#clip160)\" d=\"M719.695 1514.29 L738.051 1514.29 L738.051 1518.22 L723.977 1518.22 L723.977 1526.7 Q724.995 1526.35 726.014 1526.19 Q727.032 1526 728.051 1526 Q733.838 1526 737.218 1529.17 Q740.597 1532.34 740.597 1537.76 Q740.597 1543.34 737.125 1546.44 Q733.653 1549.52 727.333 1549.52 Q725.157 1549.52 722.889 1549.15 Q720.644 1548.78 718.236 1548.04 L718.236 1543.34 Q720.32 1544.47 722.542 1545.03 Q724.764 1545.58 727.241 1545.58 Q731.245 1545.58 733.583 1543.48 Q735.921 1541.37 735.921 1537.76 Q735.921 1534.15 733.583 1532.04 Q731.245 1529.94 727.241 1529.94 Q725.366 1529.94 723.491 1530.35 Q721.639 1530.77 719.695 1531.65 L719.695 1514.29 Z\" fill=\"#000000\" fill-rule=\"evenodd\" fill-opacity=\"1\" /><path clip-path=\"url(#clip160)\" d=\"M1214.31 1514.29 L1232.67 1514.29 L1232.67 1518.22 L1218.59 1518.22 L1218.59 1526.7 Q1219.61 1526.35 1220.63 1526.19 Q1221.65 1526 1222.67 1526 Q1228.45 1526 1231.83 1529.17 Q1235.21 1532.34 1235.21 1537.76 Q1235.21 1543.34 1231.74 1546.44 Q1228.27 1549.52 1221.95 1549.52 Q1219.77 1549.52 1217.5 1549.15 Q1215.26 1548.78 1212.85 1548.04 L1212.85 1543.34 Q1214.93 1544.47 1217.16 1545.03 Q1219.38 1545.58 1221.86 1545.58 Q1225.86 1545.58 1228.2 1543.48 Q1230.54 1541.37 1230.54 1537.76 Q1230.54 1534.15 1228.2 1532.04 Q1225.86 1529.94 1221.86 1529.94 Q1219.98 1529.94 1218.11 1530.35 Q1216.25 1530.77 1214.31 1531.65 L1214.31 1514.29 Z\" fill=\"#000000\" fill-rule=\"evenodd\" fill-opacity=\"1\" /><path clip-path=\"url(#clip160)\" d=\"M1254.42 1517.37 Q1250.81 1517.37 1248.98 1520.93 Q1247.18 1524.47 1247.18 1531.6 Q1247.18 1538.71 1248.98 1542.27 Q1250.81 1545.82 1254.42 1545.82 Q1258.06 1545.82 1259.86 1542.27 Q1261.69 1538.71 1261.69 1531.6 Q1261.69 1524.47 1259.86 1520.93 Q1258.06 1517.37 1254.42 1517.37 M1254.42 1513.66 Q1260.23 1513.66 1263.29 1518.27 Q1266.37 1522.85 1266.37 1531.6 Q1266.37 1540.33 1263.29 1544.94 Q1260.23 1549.52 1254.42 1549.52 Q1248.61 1549.52 1245.54 1544.94 Q1242.48 1540.33 1242.48 1531.6 Q1242.48 1522.85 1245.54 1518.27 Q1248.61 1513.66 1254.42 1513.66 Z\" fill=\"#000000\" fill-rule=\"evenodd\" fill-opacity=\"1\" /><path clip-path=\"url(#clip160)\" d=\"M1738.83 1514.29 L1761.05 1514.29 L1761.05 1516.28 L1748.51 1548.85 L1743.62 1548.85 L1755.43 1518.22 L1738.83 1518.22 L1738.83 1514.29 Z\" fill=\"#000000\" fill-rule=\"evenodd\" fill-opacity=\"1\" /><path clip-path=\"url(#clip160)\" d=\"M1770.22 1514.29 L1788.58 1514.29 L1788.58 1518.22 L1774.5 1518.22 L1774.5 1526.7 Q1775.52 1526.35 1776.54 1526.19 Q1777.56 1526 1778.58 1526 Q1784.36 1526 1787.74 1529.17 Q1791.12 1532.34 1791.12 1537.76 Q1791.12 1543.34 1787.65 1546.44 Q1784.18 1549.52 1777.86 1549.52 Q1775.68 1549.52 1773.41 1549.15 Q1771.17 1548.78 1768.76 1548.04 L1768.76 1543.34 Q1770.84 1544.47 1773.07 1545.03 Q1775.29 1545.58 1777.77 1545.58 Q1781.77 1545.58 1784.11 1543.48 Q1786.45 1541.37 1786.45 1537.76 Q1786.45 1534.15 1784.11 1532.04 Q1781.77 1529.94 1777.77 1529.94 Q1775.89 1529.94 1774.02 1530.35 Q1772.16 1530.77 1770.22 1531.65 L1770.22 1514.29 Z\" fill=\"#000000\" fill-rule=\"evenodd\" fill-opacity=\"1\" /><path clip-path=\"url(#clip160)\" d=\"M2249.95 1544.91 L2257.59 1544.91 L2257.59 1518.55 L2249.28 1520.21 L2249.28 1515.95 L2257.54 1514.29 L2262.22 1514.29 L2262.22 1544.91 L2269.86 1544.91 L2269.86 1548.85 L2249.95 1548.85 L2249.95 1544.91 Z\" fill=\"#000000\" fill-rule=\"evenodd\" fill-opacity=\"1\" /><path clip-path=\"url(#clip160)\" d=\"M2289.3 1517.37 Q2285.69 1517.37 2283.86 1520.93 Q2282.06 1524.47 2282.06 1531.6 Q2282.06 1538.71 2283.86 1542.27 Q2285.69 1545.82 2289.3 1545.82 Q2292.93 1545.82 2294.74 1542.27 Q2296.57 1538.71 2296.57 1531.6 Q2296.57 1524.47 2294.74 1520.93 Q2292.93 1517.37 2289.3 1517.37 M2289.3 1513.66 Q2295.11 1513.66 2298.17 1518.27 Q2301.25 1522.85 2301.25 1531.6 Q2301.25 1540.33 2298.17 1544.94 Q2295.11 1549.52 2289.3 1549.52 Q2283.49 1549.52 2280.41 1544.94 Q2277.36 1540.33 2277.36 1531.6 Q2277.36 1522.85 2280.41 1518.27 Q2283.49 1513.66 2289.3 1513.66 Z\" fill=\"#000000\" fill-rule=\"evenodd\" fill-opacity=\"1\" /><path clip-path=\"url(#clip160)\" d=\"M2319.46 1517.37 Q2315.85 1517.37 2314.02 1520.93 Q2312.22 1524.47 2312.22 1531.6 Q2312.22 1538.71 2314.02 1542.27 Q2315.85 1545.82 2319.46 1545.82 Q2323.1 1545.82 2324.9 1542.27 Q2326.73 1538.71 2326.73 1531.6 Q2326.73 1524.47 2324.9 1520.93 Q2323.1 1517.37 2319.46 1517.37 M2319.46 1513.66 Q2325.27 1513.66 2328.33 1518.27 Q2331.41 1522.85 2331.41 1531.6 Q2331.41 1540.33 2328.33 1544.94 Q2325.27 1549.52 2319.46 1549.52 Q2313.65 1549.52 2310.57 1544.94 Q2307.52 1540.33 2307.52 1531.6 Q2307.52 1522.85 2310.57 1518.27 Q2313.65 1513.66 2319.46 1513.66 Z\" fill=\"#000000\" fill-rule=\"evenodd\" fill-opacity=\"1\" /><polyline clip-path=\"url(#clip162)\" style=\"stroke:#000000; stroke-linecap:butt; stroke-linejoin:round; stroke-width:2; stroke-opacity:0.1; fill:none\" points=\"\n",
       "  147.478,1230.37 2352.76,1230.37 \n",
       "  \"/>\n",
       "<polyline clip-path=\"url(#clip162)\" style=\"stroke:#000000; stroke-linecap:butt; stroke-linejoin:round; stroke-width:2; stroke-opacity:0.1; fill:none\" points=\"\n",
       "  147.478,954.799 2352.76,954.799 \n",
       "  \"/>\n",
       "<polyline clip-path=\"url(#clip162)\" style=\"stroke:#000000; stroke-linecap:butt; stroke-linejoin:round; stroke-width:2; stroke-opacity:0.1; fill:none\" points=\"\n",
       "  147.478,679.233 2352.76,679.233 \n",
       "  \"/>\n",
       "<polyline clip-path=\"url(#clip162)\" style=\"stroke:#000000; stroke-linecap:butt; stroke-linejoin:round; stroke-width:2; stroke-opacity:0.1; fill:none\" points=\"\n",
       "  147.478,403.667 2352.76,403.667 \n",
       "  \"/>\n",
       "<polyline clip-path=\"url(#clip162)\" style=\"stroke:#000000; stroke-linecap:butt; stroke-linejoin:round; stroke-width:2; stroke-opacity:0.1; fill:none\" points=\"\n",
       "  147.478,128.101 2352.76,128.101 \n",
       "  \"/>\n",
       "<polyline clip-path=\"url(#clip160)\" style=\"stroke:#000000; stroke-linecap:butt; stroke-linejoin:round; stroke-width:4; stroke-opacity:1; fill:none\" points=\"\n",
       "  147.478,1486.45 147.478,47.2441 \n",
       "  \"/>\n",
       "<polyline clip-path=\"url(#clip160)\" style=\"stroke:#000000; stroke-linecap:butt; stroke-linejoin:round; stroke-width:4; stroke-opacity:1; fill:none\" points=\"\n",
       "  147.478,1230.37 166.376,1230.37 \n",
       "  \"/>\n",
       "<polyline clip-path=\"url(#clip160)\" style=\"stroke:#000000; stroke-linecap:butt; stroke-linejoin:round; stroke-width:4; stroke-opacity:1; fill:none\" points=\"\n",
       "  147.478,954.799 166.376,954.799 \n",
       "  \"/>\n",
       "<polyline clip-path=\"url(#clip160)\" style=\"stroke:#000000; stroke-linecap:butt; stroke-linejoin:round; stroke-width:4; stroke-opacity:1; fill:none\" points=\"\n",
       "  147.478,679.233 166.376,679.233 \n",
       "  \"/>\n",
       "<polyline clip-path=\"url(#clip160)\" style=\"stroke:#000000; stroke-linecap:butt; stroke-linejoin:round; stroke-width:4; stroke-opacity:1; fill:none\" points=\"\n",
       "  147.478,403.667 166.376,403.667 \n",
       "  \"/>\n",
       "<polyline clip-path=\"url(#clip160)\" style=\"stroke:#000000; stroke-linecap:butt; stroke-linejoin:round; stroke-width:4; stroke-opacity:1; fill:none\" points=\"\n",
       "  147.478,128.101 166.376,128.101 \n",
       "  \"/>\n",
       "<path clip-path=\"url(#clip160)\" d=\"M51.3625 1230.82 L81.0383 1230.82 L81.0383 1234.75 L51.3625 1234.75 L51.3625 1230.82 Z\" fill=\"#000000\" fill-rule=\"evenodd\" fill-opacity=\"1\" /><path clip-path=\"url(#clip160)\" d=\"M95.1586 1243.71 L111.478 1243.71 L111.478 1247.65 L89.5336 1247.65 L89.5336 1243.71 Q92.1956 1240.96 96.7789 1236.33 Q101.385 1231.67 102.566 1230.33 Q104.811 1227.81 105.691 1226.07 Q106.594 1224.31 106.594 1222.62 Q106.594 1219.87 104.649 1218.13 Q102.728 1216.4 99.6261 1216.4 Q97.4271 1216.4 94.9734 1217.16 Q92.5428 1217.92 89.7651 1219.47 L89.7651 1214.75 Q92.5891 1213.62 95.0428 1213.04 Q97.4965 1212.46 99.5335 1212.46 Q104.904 1212.46 108.098 1215.15 Q111.293 1217.83 111.293 1222.32 Q111.293 1224.45 110.483 1226.37 Q109.696 1228.27 107.589 1230.86 Q107.01 1231.53 103.909 1234.75 Q100.807 1237.95 95.1586 1243.71 Z\" fill=\"#000000\" fill-rule=\"evenodd\" fill-opacity=\"1\" /><path clip-path=\"url(#clip160)\" d=\"M50.9921 955.25 L80.6679 955.25 L80.6679 959.186 L50.9921 959.186 L50.9921 955.25 Z\" fill=\"#000000\" fill-rule=\"evenodd\" fill-opacity=\"1\" /><path clip-path=\"url(#clip160)\" d=\"M91.5706 968.144 L99.2095 968.144 L99.2095 941.778 L90.8993 943.445 L90.8993 939.186 L99.1632 937.519 L103.839 937.519 L103.839 968.144 L111.478 968.144 L111.478 972.079 L91.5706 972.079 L91.5706 968.144 Z\" fill=\"#000000\" fill-rule=\"evenodd\" fill-opacity=\"1\" /><path clip-path=\"url(#clip160)\" d=\"M99.5335 665.032 Q95.9224 665.032 94.0937 668.597 Q92.2882 672.138 92.2882 679.268 Q92.2882 686.374 94.0937 689.939 Q95.9224 693.481 99.5335 693.481 Q103.168 693.481 104.973 689.939 Q106.802 686.374 106.802 679.268 Q106.802 672.138 104.973 668.597 Q103.168 665.032 99.5335 665.032 M99.5335 661.328 Q105.344 661.328 108.399 665.935 Q111.478 670.518 111.478 679.268 Q111.478 687.995 108.399 692.601 Q105.344 697.184 99.5335 697.184 Q93.7234 697.184 90.6447 692.601 Q87.5892 687.995 87.5892 679.268 Q87.5892 670.518 90.6447 665.935 Q93.7234 661.328 99.5335 661.328 Z\" fill=\"#000000\" fill-rule=\"evenodd\" fill-opacity=\"1\" /><path clip-path=\"url(#clip160)\" d=\"M91.5706 417.012 L99.2095 417.012 L99.2095 390.646 L90.8993 392.313 L90.8993 388.054 L99.1632 386.387 L103.839 386.387 L103.839 417.012 L111.478 417.012 L111.478 420.947 L91.5706 420.947 L91.5706 417.012 Z\" fill=\"#000000\" fill-rule=\"evenodd\" fill-opacity=\"1\" /><path clip-path=\"url(#clip160)\" d=\"M95.1586 141.446 L111.478 141.446 L111.478 145.381 L89.5336 145.381 L89.5336 141.446 Q92.1956 138.692 96.7789 134.062 Q101.385 129.409 102.566 128.067 Q104.811 125.543 105.691 123.807 Q106.594 122.048 106.594 120.358 Q106.594 117.604 104.649 115.868 Q102.728 114.131 99.6261 114.131 Q97.4271 114.131 94.9734 114.895 Q92.5428 115.659 89.7651 117.21 L89.7651 112.488 Q92.5891 111.354 95.0428 110.775 Q97.4965 110.196 99.5335 110.196 Q104.904 110.196 108.098 112.881 Q111.293 115.567 111.293 120.057 Q111.293 122.187 110.483 124.108 Q109.696 126.006 107.589 128.599 Q107.01 129.27 103.909 132.488 Q100.807 135.682 95.1586 141.446 Z\" fill=\"#000000\" fill-rule=\"evenodd\" fill-opacity=\"1\" /><polyline clip-path=\"url(#clip162)\" style=\"stroke:#009af9; stroke-linecap:butt; stroke-linejoin:round; stroke-width:4; stroke-opacity:1; fill:none\" points=\"\n",
       "  209.891,706.968 230.906,940.531 251.921,87.9763 272.935,957.187 293.95,1043.46 314.965,1155.5 335.979,780.912 356.994,761.759 378.009,1406.73 399.023,1163.28 \n",
       "  420.038,734.262 441.053,1012.77 462.067,820.44 483.082,797.605 504.097,964.958 525.111,451.22 546.126,707.396 567.141,813.043 588.155,549.232 609.17,412.248 \n",
       "  630.185,494.434 651.199,929.231 672.214,1266.79 693.229,717.414 714.243,347.339 735.258,470.862 756.272,400.321 777.287,696.238 798.302,724.315 819.316,827.059 \n",
       "  840.331,746.462 861.346,239.842 882.36,915.006 903.375,554.854 924.39,601.247 945.404,339.276 966.419,429.824 987.434,769.758 1008.45,915.257 1029.46,905.831 \n",
       "  1050.48,790.124 1071.49,624.527 1092.51,147.975 1113.52,856.925 1134.54,697.115 1155.55,1148.08 1176.57,448.036 1197.58,400.065 1218.59,288.63 1239.61,379.932 \n",
       "  1260.62,681.628 1281.64,800.184 1302.65,1016.94 1323.67,750.831 1344.68,646.233 1365.7,236.57 1386.71,352.977 1407.73,808.832 1428.74,567.499 1449.76,1005.53 \n",
       "  1470.77,1445.72 1491.79,740.31 1512.8,1026.57 1533.81,909.352 1554.83,885.698 1575.84,874.124 1596.86,997.821 1617.87,1010.87 1638.89,822.702 1659.9,776.513 \n",
       "  1680.92,599.95 1701.93,540.428 1722.95,456.916 1743.96,906.683 1764.98,204.975 1785.99,665.853 1807.01,1064.43 1828.02,1389.09 1849.03,399.825 1870.05,1001.8 \n",
       "  1891.06,501.716 1912.08,809.728 1933.09,997.073 1954.11,372.881 1975.12,326.715 1996.14,472.686 2017.15,632.731 2038.17,732.939 2059.18,532.015 2080.2,1002.12 \n",
       "  2101.21,748.59 2122.23,960.455 2143.24,392.983 2164.25,972.796 2185.27,1077.68 2206.28,743.515 2227.3,692.842 2248.31,817.812 2269.33,611.645 2290.34,243.488 \n",
       "  \n",
       "  \"/>\n",
       "<path clip-path=\"url(#clip160)\" d=\"\n",
       "M1981.79 198.898 L2279.25 198.898 L2279.25 95.2176 L1981.79 95.2176  Z\n",
       "  \" fill=\"#ffffff\" fill-rule=\"evenodd\" fill-opacity=\"1\"/>\n",
       "<polyline clip-path=\"url(#clip160)\" style=\"stroke:#000000; stroke-linecap:butt; stroke-linejoin:round; stroke-width:4; stroke-opacity:1; fill:none\" points=\"\n",
       "  1981.79,198.898 2279.25,198.898 2279.25,95.2176 1981.79,95.2176 1981.79,198.898 \n",
       "  \"/>\n",
       "<polyline clip-path=\"url(#clip160)\" style=\"stroke:#009af9; stroke-linecap:butt; stroke-linejoin:round; stroke-width:4; stroke-opacity:1; fill:none\" points=\"\n",
       "  2006.29,147.058 2153.31,147.058 \n",
       "  \"/>\n",
       "<path clip-path=\"url(#clip160)\" d=\"M2191.65 166.745 Q2189.85 171.375 2188.13 172.787 Q2186.42 174.199 2183.55 174.199 L2180.15 174.199 L2180.15 170.634 L2182.65 170.634 Q2184.41 170.634 2185.38 169.8 Q2186.35 168.967 2187.53 165.865 L2188.3 163.921 L2177.81 138.412 L2182.32 138.412 L2190.43 158.689 L2198.53 138.412 L2203.04 138.412 L2191.65 166.745 Z\" fill=\"#000000\" fill-rule=\"evenodd\" fill-opacity=\"1\" /><path clip-path=\"url(#clip160)\" d=\"M2210.33 160.402 L2217.97 160.402 L2217.97 134.037 L2209.66 135.703 L2209.66 131.444 L2217.93 129.778 L2222.6 129.778 L2222.6 160.402 L2230.24 160.402 L2230.24 164.338 L2210.33 164.338 L2210.33 160.402 Z\" fill=\"#000000\" fill-rule=\"evenodd\" fill-opacity=\"1\" /></svg>\n"
      ]
     },
     "execution_count": 3,
     "metadata": {},
     "output_type": "execute_result"
    }
   ],
   "source": [
    "using Plots\n",
    "\n",
    "n = 100\n",
    "ϵ = randn(n)\n",
    "plot(1:n, ϵ)"
   ]
  },
  {
   "cell_type": "markdown",
   "id": "ab5f70e4",
   "metadata": {},
   "source": [
    "Let’s break this down and see how it works.\n",
    "\n",
    "The effect of the statement `using Plots` is to make all the names exported by the `Plots` module available.\n",
    "\n",
    "If a project file was activated (i.e., running jupyter with the project files local to the notebook), it will use whatever version of `Plots.jl` that was specified in the `Project.toml` and `Manifest.toml` files.\n",
    "\n",
    "The other packages `LinearAlgebra` and `Statistics` are base Julia libraries, but require an explicit using.\n",
    "\n",
    "The arguments to `plot` are the numbers `1,2, ..., n` for the x-axis, a vector `ϵ` for the y-axis, and (optional) settings.\n",
    "\n",
    "The function `randn(n)` returns a column vector `n` random draws from a normal distribution with mean 0 and variance 1."
   ]
  },
  {
   "cell_type": "markdown",
   "id": "0140059e",
   "metadata": {},
   "source": [
    "### Arrays\n",
    "\n",
    "As a language intended for mathematical and scientific computing, Julia has\n",
    "strong support for using unicode characters.\n",
    "\n",
    "In the above case, the `ϵ` and many other symbols can be typed in most Julia editor by providing the LaTeX and `<TAB>`, i.e. `\\epsilon<TAB>`.\n",
    "\n",
    "The return type is one of the most fundamental Julia data types: an array"
   ]
  },
  {
   "cell_type": "code",
   "execution_count": 4,
   "id": "821887bf",
   "metadata": {
    "hide-output": false
   },
   "outputs": [
    {
     "data": {
      "text/plain": [
       "Vector{Float64} (alias for Array{Float64, 1})"
      ]
     },
     "execution_count": 4,
     "metadata": {},
     "output_type": "execute_result"
    }
   ],
   "source": [
    "typeof(ϵ)"
   ]
  },
  {
   "cell_type": "code",
   "execution_count": 5,
   "id": "608e863c",
   "metadata": {
    "hide-output": false
   },
   "outputs": [
    {
     "data": {
      "text/plain": [
       "5-element Vector{Float64}:\n",
       " -0.10064805234902642\n",
       " -0.9482218625716823\n",
       "  2.145609580629277\n",
       " -1.0086666428263822\n",
       " -1.3217316670458228"
      ]
     },
     "execution_count": 5,
     "metadata": {},
     "output_type": "execute_result"
    }
   ],
   "source": [
    "ϵ[1:5]"
   ]
  },
  {
   "cell_type": "markdown",
   "id": "76b6afe5",
   "metadata": {},
   "source": [
    "The information from `typeof()` tells us that `ϵ` is an array of 64 bit floating point values, of dimension 1.\n",
    "\n",
    "In Julia, one-dimensional arrays are interpreted as column vectors for purposes of linear algebra.\n",
    "\n",
    "The `ϵ[1:5]` returns an array of the first 5 elements of `ϵ`.\n",
    "\n",
    "Notice from the above that\n",
    "\n",
    "- array indices start at 1 (like MATLAB and Fortran, but unlike Python and C)  \n",
    "- array elements are referenced using square brackets (unlike MATLAB and Fortran)  \n",
    "\n",
    "\n",
    "To get **help and examples** in Jupyter or other julia editors, use the `?` before a function name or syntax."
   ]
  },
  {
   "cell_type": "code",
   "execution_count": 6,
   "id": "19ce9062",
   "metadata": {
    "hide-output": false
   },
   "outputs": [
    {
     "name": "stdout",
     "output_type": "stream",
     "text": [
      "search: \u001b[0m\u001b[1mt\u001b[22m\u001b[0m\u001b[1my\u001b[22m\u001b[0m\u001b[1mp\u001b[22m\u001b[0m\u001b[1me\u001b[22m\u001b[0m\u001b[1mo\u001b[22m\u001b[0m\u001b[1mf\u001b[22m \u001b[0m\u001b[1mt\u001b[22m\u001b[0m\u001b[1my\u001b[22m\u001b[0m\u001b[1mp\u001b[22m\u001b[0m\u001b[1me\u001b[22mj\u001b[0m\u001b[1mo\u001b[22min \u001b[0m\u001b[1mT\u001b[22m\u001b[0m\u001b[1my\u001b[22m\u001b[0m\u001b[1mp\u001b[22m\u001b[0m\u001b[1me\u001b[22mErr\u001b[0m\u001b[1mo\u001b[22mr\n",
      "\n"
     ]
    },
    {
     "data": {
      "text/latex": [
       "\\begin{verbatim}\n",
       "typeof(x)\n",
       "\\end{verbatim}\n",
       "Get the concrete type of \\texttt{x}.\n",
       "\n",
       "See also \\href{@ref}{\\texttt{eltype}}.\n",
       "\n",
       "\\section{Examples}\n",
       "\\begin{verbatim}\n",
       "julia> a = 1//2;\n",
       "\n",
       "julia> typeof(a)\n",
       "Rational{Int64}\n",
       "\n",
       "julia> M = [1 2; 3.5 4];\n",
       "\n",
       "julia> typeof(M)\n",
       "Matrix{Float64} (alias for Array{Float64, 2})\n",
       "\\end{verbatim}\n"
      ],
      "text/markdown": [
       "```\n",
       "typeof(x)\n",
       "```\n",
       "\n",
       "Get the concrete type of `x`.\n",
       "\n",
       "See also [`eltype`](@ref).\n",
       "\n",
       "# Examples\n",
       "\n",
       "```jldoctest\n",
       "julia> a = 1//2;\n",
       "\n",
       "julia> typeof(a)\n",
       "Rational{Int64}\n",
       "\n",
       "julia> M = [1 2; 3.5 4];\n",
       "\n",
       "julia> typeof(M)\n",
       "Matrix{Float64} (alias for Array{Float64, 2})\n",
       "```\n"
      ],
      "text/plain": [
       "\u001b[36m  typeof(x)\u001b[39m\n",
       "\n",
       "  Get the concrete type of \u001b[36mx\u001b[39m.\n",
       "\n",
       "  See also \u001b[36meltype\u001b[39m.\n",
       "\n",
       "\u001b[1m  Examples\u001b[22m\n",
       "\u001b[1m  ≡≡≡≡≡≡≡≡≡≡\u001b[22m\n",
       "\n",
       "\u001b[36m  julia> a = 1//2;\u001b[39m\n",
       "\u001b[36m  \u001b[39m\n",
       "\u001b[36m  julia> typeof(a)\u001b[39m\n",
       "\u001b[36m  Rational{Int64}\u001b[39m\n",
       "\u001b[36m  \u001b[39m\n",
       "\u001b[36m  julia> M = [1 2; 3.5 4];\u001b[39m\n",
       "\u001b[36m  \u001b[39m\n",
       "\u001b[36m  julia> typeof(M)\u001b[39m\n",
       "\u001b[36m  Matrix{Float64} (alias for Array{Float64, 2})\u001b[39m"
      ]
     },
     "execution_count": 6,
     "metadata": {},
     "output_type": "execute_result"
    }
   ],
   "source": [
    "?typeof"
   ]
  },
  {
   "cell_type": "markdown",
   "id": "3654911c",
   "metadata": {},
   "source": [
    "### For Loops\n",
    "\n",
    "Although there’s no need in terms of what we wanted to achieve with our\n",
    "program, for the sake of learning syntax let’s rewrite our program to use a\n",
    "`for` loop for generating the data.\n",
    "\n",
    ">**Note**\n",
    ">\n",
    ">The rules for variables accessed in `for` and `while` loops can be sensitive to how they are used (and variables can sometimes require a `global` as part of the declaration).  **We strongly advise you to avoid top level (i.e. outside of functions) `for` and `while` loops when working with `.jl`.**  This scoping issue does not apply when used within functions, and will not be seen in the REPL or Jupyter notebooks.\n",
    "\n",
    "Starting with the most direct version, and pretending we are in a world where `randn` can only return a single value"
   ]
  },
  {
   "cell_type": "code",
   "execution_count": 7,
   "id": "ab1ed21c",
   "metadata": {
    "hide-output": false
   },
   "outputs": [],
   "source": [
    "# poor style\n",
    "n = 100\n",
    "ϵ = zeros(n)\n",
    "for i ∈ 1:n\n",
    "    ϵ[i] = randn()\n",
    "end"
   ]
  },
  {
   "cell_type": "code",
   "execution_count": 8,
   "id": "058fab2b",
   "metadata": {},
   "outputs": [
    {
     "data": {
      "text/plain": [
       "3-element Vector{Float64}:\n",
       " 0.9558508970638391\n",
       " 0.8347513069718188\n",
       " 0.22521807745103195"
      ]
     },
     "execution_count": 8,
     "metadata": {},
     "output_type": "execute_result"
    }
   ],
   "source": [
    "ϵ[1:3]"
   ]
  },
  {
   "cell_type": "markdown",
   "id": "c688afbb",
   "metadata": {},
   "source": [
    "Here we first declared `ϵ` to be a vector of `n` numbers, initialized by the floating point `0.0`.\n",
    "\n",
    "The `for` loop then populates this array by successive calls to `randn()`.\n",
    "\n",
    "Like all code blocks in Julia, the end of the `for` loop code block (which is just one line here) is indicated by the keyword `end`.\n",
    "\n",
    "The word `in` from the `for` loop can be replaced by either `∈` or `=`.\n",
    "\n",
    "The index variable is looped over for all integers from `1:n` – but this does not actually create a vector of those indices.\n",
    "\n",
    "Instead, it creates an **iterator** that is looped over – in this case the **range** of integers from `1` to `n`.\n",
    "\n",
    "While this example successfully fills in `ϵ` with the correct values, it is very indirect as the connection between the index `i` and the `ϵ` vector is unclear.\n",
    "\n",
    "To fix this, use `eachindex`"
   ]
  },
  {
   "cell_type": "code",
   "execution_count": 9,
   "id": "0a96c6ec",
   "metadata": {
    "hide-output": false
   },
   "outputs": [],
   "source": [
    "# better style\n",
    "n = 100\n",
    "ϵ = zeros(n)\n",
    "for i in eachindex(ϵ)\n",
    "    ϵ[i] = randn()\n",
    "end"
   ]
  },
  {
   "cell_type": "code",
   "execution_count": 10,
   "id": "6156d0b1",
   "metadata": {},
   "outputs": [
    {
     "data": {
      "text/plain": [
       "2-element Vector{Int64}:\n",
       "   1\n",
       " 100"
      ]
     },
     "execution_count": 10,
     "metadata": {},
     "output_type": "execute_result"
    }
   ],
   "source": [
    "Array(eachindex(ϵ))[[1,100]]"
   ]
  },
  {
   "cell_type": "markdown",
   "id": "d57817f2",
   "metadata": {},
   "source": [
    "Here, `eachindex(ϵ)` returns an iterator of indices which can be used to access `ϵ`.\n",
    "\n",
    "While iterators are memory efficient because the elements are generated on the fly rather than stored in memory, the main benefit is (1) it can lead to code which is clearer and less prone to typos; and (2) it allows the compiler flexibility to creatively generate fast code.\n",
    "\n",
    "In Julia you can also **loop directly over arrays themselves**, like so"
   ]
  },
  {
   "cell_type": "code",
   "execution_count": 12,
   "id": "7f1edbc2",
   "metadata": {
    "hide-output": false
   },
   "outputs": [
    {
     "data": {
      "text/plain": [
       "0.12327149525533662"
      ]
     },
     "execution_count": 12,
     "metadata": {},
     "output_type": "execute_result"
    }
   ],
   "source": [
    "ϵ_sum = 0.0 # careful to use 0.0 here, instead of 0\n",
    "m = 5\n",
    "for ϵ_val in ϵ[1:m]\n",
    "    ϵ_sum = ϵ_sum + ϵ_val\n",
    "end\n",
    "ϵ_mean = ϵ_sum / m"
   ]
  },
  {
   "cell_type": "markdown",
   "id": "df8dfc6b",
   "metadata": {},
   "source": [
    "where `ϵ[1:m]` returns the elements of the vector at indices `1` to `m`.\n",
    "\n",
    "Of course, in Julia there are built in functions to perform this calculation which we can compare against"
   ]
  },
  {
   "cell_type": "code",
   "execution_count": 23,
   "id": "642253ae",
   "metadata": {
    "hide-output": false
   },
   "outputs": [
    {
     "name": "stdout",
     "output_type": "stream",
     "text": [
      "true\n",
      "true\n",
      "true\n"
     ]
    }
   ],
   "source": [
    "println(ϵ_mean ≈ mean(ϵ[1:m]))\n",
    "println(ϵ_mean == mean(ϵ[1:m]))\n",
    "println(ϵ_mean ≈ sum(ϵ[1:m]) / m)"
   ]
  },
  {
   "cell_type": "code",
   "execution_count": 32,
   "id": "bd8cfcc7",
   "metadata": {},
   "outputs": [
    {
     "data": {
      "text/plain": [
       "true"
      ]
     },
     "execution_count": 32,
     "metadata": {},
     "output_type": "execute_result"
    }
   ],
   "source": [
    "exp(im * π) ≈ -1"
   ]
  },
  {
   "cell_type": "markdown",
   "id": "faad9f0a",
   "metadata": {},
   "source": [
    "In these examples, note the use of `≈` to test equality, rather than `==`, which is appropriate for integers and other types.\n",
    "\n",
    "Approximately equal, typed with `\\approx<TAB>`, is the appropriate way to compare any floating point numbers due to the standard issues of [floating point math](https://floating-point-gui.de/).\n",
    "\n",
    "\n",
    "<a id='user-defined-functions'></a>"
   ]
  },
  {
   "cell_type": "markdown",
   "id": "d17ddcb3",
   "metadata": {},
   "source": [
    "### User-Defined Functions\n",
    "\n",
    "For the sake of the exercise, let’s go back to the `for` loop but restructure our program so that generation of random variables takes place within a user-defined function.\n",
    "\n",
    "To make things more interesting, instead of directly plotting the draws from the distribution, let’s plot the squares of these draws"
   ]
  },
  {
   "cell_type": "code",
   "execution_count": 33,
   "id": "8bd4c53e",
   "metadata": {
    "hide-output": false
   },
   "outputs": [
    {
     "data": {
      "image/svg+xml": [
       "<?xml version=\"1.0\" encoding=\"utf-8\"?>\n",
       "<svg xmlns=\"http://www.w3.org/2000/svg\" xmlns:xlink=\"http://www.w3.org/1999/xlink\" width=\"600\" height=\"400\" viewBox=\"0 0 2400 1600\">\n",
       "<defs>\n",
       "  <clipPath id=\"clip200\">\n",
       "    <rect x=\"0\" y=\"0\" width=\"2400\" height=\"1600\"/>\n",
       "  </clipPath>\n",
       "</defs>\n",
       "<path clip-path=\"url(#clip200)\" d=\"\n",
       "M0 1600 L2400 1600 L2400 0 L0 0  Z\n",
       "  \" fill=\"#ffffff\" fill-rule=\"evenodd\" fill-opacity=\"1\"/>\n",
       "<defs>\n",
       "  <clipPath id=\"clip201\">\n",
       "    <rect x=\"480\" y=\"0\" width=\"1681\" height=\"1600\"/>\n",
       "  </clipPath>\n",
       "</defs>\n",
       "<path clip-path=\"url(#clip200)\" d=\"\n",
       "M112.177 1486.45 L2352.76 1486.45 L2352.76 47.2441 L112.177 47.2441  Z\n",
       "  \" fill=\"#ffffff\" fill-rule=\"evenodd\" fill-opacity=\"1\"/>\n",
       "<defs>\n",
       "  <clipPath id=\"clip202\">\n",
       "    <rect x=\"112\" y=\"47\" width=\"2242\" height=\"1440\"/>\n",
       "  </clipPath>\n",
       "</defs>\n",
       "<polyline clip-path=\"url(#clip202)\" style=\"stroke:#000000; stroke-linecap:butt; stroke-linejoin:round; stroke-width:2; stroke-opacity:0.1; fill:none\" points=\"\n",
       "  410.451,1486.45 410.451,47.2441 \n",
       "  \"/>\n",
       "<polyline clip-path=\"url(#clip202)\" style=\"stroke:#000000; stroke-linecap:butt; stroke-linejoin:round; stroke-width:2; stroke-opacity:0.1; fill:none\" points=\"\n",
       "  880.174,1486.45 880.174,47.2441 \n",
       "  \"/>\n",
       "<polyline clip-path=\"url(#clip202)\" style=\"stroke:#000000; stroke-linecap:butt; stroke-linejoin:round; stroke-width:2; stroke-opacity:0.1; fill:none\" points=\"\n",
       "  1349.9,1486.45 1349.9,47.2441 \n",
       "  \"/>\n",
       "<polyline clip-path=\"url(#clip202)\" style=\"stroke:#000000; stroke-linecap:butt; stroke-linejoin:round; stroke-width:2; stroke-opacity:0.1; fill:none\" points=\"\n",
       "  1819.62,1486.45 1819.62,47.2441 \n",
       "  \"/>\n",
       "<polyline clip-path=\"url(#clip202)\" style=\"stroke:#000000; stroke-linecap:butt; stroke-linejoin:round; stroke-width:2; stroke-opacity:0.1; fill:none\" points=\"\n",
       "  2289.34,1486.45 2289.34,47.2441 \n",
       "  \"/>\n",
       "<polyline clip-path=\"url(#clip200)\" style=\"stroke:#000000; stroke-linecap:butt; stroke-linejoin:round; stroke-width:4; stroke-opacity:1; fill:none\" points=\"\n",
       "  112.177,1486.45 2352.76,1486.45 \n",
       "  \"/>\n",
       "<polyline clip-path=\"url(#clip200)\" style=\"stroke:#000000; stroke-linecap:butt; stroke-linejoin:round; stroke-width:4; stroke-opacity:1; fill:none\" points=\"\n",
       "  410.451,1486.45 410.451,1467.55 \n",
       "  \"/>\n",
       "<polyline clip-path=\"url(#clip200)\" style=\"stroke:#000000; stroke-linecap:butt; stroke-linejoin:round; stroke-width:4; stroke-opacity:1; fill:none\" points=\"\n",
       "  880.174,1486.45 880.174,1467.55 \n",
       "  \"/>\n",
       "<polyline clip-path=\"url(#clip200)\" style=\"stroke:#000000; stroke-linecap:butt; stroke-linejoin:round; stroke-width:4; stroke-opacity:1; fill:none\" points=\"\n",
       "  1349.9,1486.45 1349.9,1467.55 \n",
       "  \"/>\n",
       "<polyline clip-path=\"url(#clip200)\" style=\"stroke:#000000; stroke-linecap:butt; stroke-linejoin:round; stroke-width:4; stroke-opacity:1; fill:none\" points=\"\n",
       "  1819.62,1486.45 1819.62,1467.55 \n",
       "  \"/>\n",
       "<polyline clip-path=\"url(#clip200)\" style=\"stroke:#000000; stroke-linecap:butt; stroke-linejoin:round; stroke-width:4; stroke-opacity:1; fill:none\" points=\"\n",
       "  2289.34,1486.45 2289.34,1467.55 \n",
       "  \"/>\n",
       "<path clip-path=\"url(#clip200)\" d=\"M405.104 1544.91 L421.423 1544.91 L421.423 1548.85 L399.479 1548.85 L399.479 1544.91 Q402.141 1542.16 406.724 1537.53 Q411.331 1532.88 412.511 1531.53 Q414.757 1529.01 415.636 1527.27 Q416.539 1525.51 416.539 1523.82 Q416.539 1521.07 414.595 1519.33 Q412.673 1517.6 409.572 1517.6 Q407.373 1517.6 404.919 1518.36 Q402.488 1519.13 399.711 1520.68 L399.711 1515.95 Q402.535 1514.82 404.988 1514.24 Q407.442 1513.66 409.479 1513.66 Q414.849 1513.66 418.044 1516.35 Q421.238 1519.03 421.238 1523.52 Q421.238 1525.65 420.428 1527.57 Q419.641 1529.47 417.535 1532.07 Q416.956 1532.74 413.854 1535.95 Q410.752 1539.15 405.104 1544.91 Z\" fill=\"#000000\" fill-rule=\"evenodd\" fill-opacity=\"1\" /><path clip-path=\"url(#clip200)\" d=\"M883.184 1518.36 L871.378 1536.81 L883.184 1536.81 L883.184 1518.36 M881.957 1514.29 L887.836 1514.29 L887.836 1536.81 L892.767 1536.81 L892.767 1540.7 L887.836 1540.7 L887.836 1548.85 L883.184 1548.85 L883.184 1540.7 L867.582 1540.7 L867.582 1536.19 L881.957 1514.29 Z\" fill=\"#000000\" fill-rule=\"evenodd\" fill-opacity=\"1\" /><path clip-path=\"url(#clip200)\" d=\"M1350.3 1529.7 Q1347.15 1529.7 1345.3 1531.86 Q1343.47 1534.01 1343.47 1537.76 Q1343.47 1541.49 1345.3 1543.66 Q1347.15 1545.82 1350.3 1545.82 Q1353.45 1545.82 1355.28 1543.66 Q1357.13 1541.49 1357.13 1537.76 Q1357.13 1534.01 1355.28 1531.86 Q1353.45 1529.7 1350.3 1529.7 M1359.58 1515.05 L1359.58 1519.31 Q1357.83 1518.48 1356.02 1518.04 Q1354.24 1517.6 1352.48 1517.6 Q1347.85 1517.6 1345.4 1520.72 Q1342.96 1523.85 1342.62 1530.17 Q1343.98 1528.15 1346.04 1527.09 Q1348.1 1526 1350.58 1526 Q1355.79 1526 1358.8 1529.17 Q1361.83 1532.32 1361.83 1537.76 Q1361.83 1543.08 1358.68 1546.3 Q1355.53 1549.52 1350.3 1549.52 Q1344.31 1549.52 1341.14 1544.94 Q1337.96 1540.33 1337.96 1531.6 Q1337.96 1523.41 1341.85 1518.55 Q1345.74 1513.66 1352.29 1513.66 Q1354.05 1513.66 1355.83 1514.01 Q1357.64 1514.36 1359.58 1515.05 Z\" fill=\"#000000\" fill-rule=\"evenodd\" fill-opacity=\"1\" /><path clip-path=\"url(#clip200)\" d=\"M1819.62 1532.44 Q1816.29 1532.44 1814.37 1534.22 Q1812.47 1536 1812.47 1539.13 Q1812.47 1542.25 1814.37 1544.03 Q1816.29 1545.82 1819.62 1545.82 Q1822.95 1545.82 1824.87 1544.03 Q1826.8 1542.23 1826.8 1539.13 Q1826.8 1536 1824.87 1534.22 Q1822.98 1532.44 1819.62 1532.44 M1814.94 1530.45 Q1811.94 1529.7 1810.25 1527.64 Q1808.58 1525.58 1808.58 1522.62 Q1808.58 1518.48 1811.52 1516.07 Q1814.48 1513.66 1819.62 1513.66 Q1824.78 1513.66 1827.72 1516.07 Q1830.66 1518.48 1830.66 1522.62 Q1830.66 1525.58 1828.97 1527.64 Q1827.31 1529.7 1824.32 1530.45 Q1827.7 1531.23 1829.57 1533.52 Q1831.47 1535.82 1831.47 1539.13 Q1831.47 1544.15 1828.39 1546.83 Q1825.34 1549.52 1819.62 1549.52 Q1813.9 1549.52 1810.82 1546.83 Q1807.77 1544.15 1807.77 1539.13 Q1807.77 1535.82 1809.67 1533.52 Q1811.56 1531.23 1814.94 1530.45 M1813.23 1523.06 Q1813.23 1525.75 1814.9 1527.25 Q1816.59 1528.76 1819.62 1528.76 Q1822.63 1528.76 1824.32 1527.25 Q1826.03 1525.75 1826.03 1523.06 Q1826.03 1520.38 1824.32 1518.87 Q1822.63 1517.37 1819.62 1517.37 Q1816.59 1517.37 1814.9 1518.87 Q1813.23 1520.38 1813.23 1523.06 Z\" fill=\"#000000\" fill-rule=\"evenodd\" fill-opacity=\"1\" /><path clip-path=\"url(#clip200)\" d=\"M2264.03 1544.91 L2271.67 1544.91 L2271.67 1518.55 L2263.36 1520.21 L2263.36 1515.95 L2271.62 1514.29 L2276.3 1514.29 L2276.3 1544.91 L2283.94 1544.91 L2283.94 1548.85 L2264.03 1548.85 L2264.03 1544.91 Z\" fill=\"#000000\" fill-rule=\"evenodd\" fill-opacity=\"1\" /><path clip-path=\"url(#clip200)\" d=\"M2303.38 1517.37 Q2299.77 1517.37 2297.94 1520.93 Q2296.14 1524.47 2296.14 1531.6 Q2296.14 1538.71 2297.94 1542.27 Q2299.77 1545.82 2303.38 1545.82 Q2307.02 1545.82 2308.82 1542.27 Q2310.65 1538.71 2310.65 1531.6 Q2310.65 1524.47 2308.82 1520.93 Q2307.02 1517.37 2303.38 1517.37 M2303.38 1513.66 Q2309.19 1513.66 2312.25 1518.27 Q2315.33 1522.85 2315.33 1531.6 Q2315.33 1540.33 2312.25 1544.94 Q2309.19 1549.52 2303.38 1549.52 Q2297.57 1549.52 2294.49 1544.94 Q2291.44 1540.33 2291.44 1531.6 Q2291.44 1522.85 2294.49 1518.27 Q2297.57 1513.66 2303.38 1513.66 Z\" fill=\"#000000\" fill-rule=\"evenodd\" fill-opacity=\"1\" /><polyline clip-path=\"url(#clip202)\" style=\"stroke:#000000; stroke-linecap:butt; stroke-linejoin:round; stroke-width:2; stroke-opacity:0.1; fill:none\" points=\"\n",
       "  112.177,1448.01 2352.76,1448.01 \n",
       "  \"/>\n",
       "<polyline clip-path=\"url(#clip202)\" style=\"stroke:#000000; stroke-linecap:butt; stroke-linejoin:round; stroke-width:2; stroke-opacity:0.1; fill:none\" points=\"\n",
       "  112.177,1216.42 2352.76,1216.42 \n",
       "  \"/>\n",
       "<polyline clip-path=\"url(#clip202)\" style=\"stroke:#000000; stroke-linecap:butt; stroke-linejoin:round; stroke-width:2; stroke-opacity:0.1; fill:none\" points=\"\n",
       "  112.177,984.84 2352.76,984.84 \n",
       "  \"/>\n",
       "<polyline clip-path=\"url(#clip202)\" style=\"stroke:#000000; stroke-linecap:butt; stroke-linejoin:round; stroke-width:2; stroke-opacity:0.1; fill:none\" points=\"\n",
       "  112.177,753.256 2352.76,753.256 \n",
       "  \"/>\n",
       "<polyline clip-path=\"url(#clip202)\" style=\"stroke:#000000; stroke-linecap:butt; stroke-linejoin:round; stroke-width:2; stroke-opacity:0.1; fill:none\" points=\"\n",
       "  112.177,521.672 2352.76,521.672 \n",
       "  \"/>\n",
       "<polyline clip-path=\"url(#clip202)\" style=\"stroke:#000000; stroke-linecap:butt; stroke-linejoin:round; stroke-width:2; stroke-opacity:0.1; fill:none\" points=\"\n",
       "  112.177,290.088 2352.76,290.088 \n",
       "  \"/>\n",
       "<polyline clip-path=\"url(#clip202)\" style=\"stroke:#000000; stroke-linecap:butt; stroke-linejoin:round; stroke-width:2; stroke-opacity:0.1; fill:none\" points=\"\n",
       "  112.177,58.5039 2352.76,58.5039 \n",
       "  \"/>\n",
       "<polyline clip-path=\"url(#clip200)\" style=\"stroke:#000000; stroke-linecap:butt; stroke-linejoin:round; stroke-width:4; stroke-opacity:1; fill:none\" points=\"\n",
       "  112.177,1486.45 112.177,47.2441 \n",
       "  \"/>\n",
       "<polyline clip-path=\"url(#clip200)\" style=\"stroke:#000000; stroke-linecap:butt; stroke-linejoin:round; stroke-width:4; stroke-opacity:1; fill:none\" points=\"\n",
       "  112.177,1448.01 131.075,1448.01 \n",
       "  \"/>\n",
       "<polyline clip-path=\"url(#clip200)\" style=\"stroke:#000000; stroke-linecap:butt; stroke-linejoin:round; stroke-width:4; stroke-opacity:1; fill:none\" points=\"\n",
       "  112.177,1216.42 131.075,1216.42 \n",
       "  \"/>\n",
       "<polyline clip-path=\"url(#clip200)\" style=\"stroke:#000000; stroke-linecap:butt; stroke-linejoin:round; stroke-width:4; stroke-opacity:1; fill:none\" points=\"\n",
       "  112.177,984.84 131.075,984.84 \n",
       "  \"/>\n",
       "<polyline clip-path=\"url(#clip200)\" style=\"stroke:#000000; stroke-linecap:butt; stroke-linejoin:round; stroke-width:4; stroke-opacity:1; fill:none\" points=\"\n",
       "  112.177,753.256 131.075,753.256 \n",
       "  \"/>\n",
       "<polyline clip-path=\"url(#clip200)\" style=\"stroke:#000000; stroke-linecap:butt; stroke-linejoin:round; stroke-width:4; stroke-opacity:1; fill:none\" points=\"\n",
       "  112.177,521.672 131.075,521.672 \n",
       "  \"/>\n",
       "<polyline clip-path=\"url(#clip200)\" style=\"stroke:#000000; stroke-linecap:butt; stroke-linejoin:round; stroke-width:4; stroke-opacity:1; fill:none\" points=\"\n",
       "  112.177,290.088 131.075,290.088 \n",
       "  \"/>\n",
       "<polyline clip-path=\"url(#clip200)\" style=\"stroke:#000000; stroke-linecap:butt; stroke-linejoin:round; stroke-width:4; stroke-opacity:1; fill:none\" points=\"\n",
       "  112.177,58.5039 131.075,58.5039 \n",
       "  \"/>\n",
       "<path clip-path=\"url(#clip200)\" d=\"M64.2328 1433.81 Q60.6217 1433.81 58.793 1437.37 Q56.9875 1440.91 56.9875 1448.04 Q56.9875 1455.15 58.793 1458.71 Q60.6217 1462.26 64.2328 1462.26 Q67.867 1462.26 69.6726 1458.71 Q71.5013 1455.15 71.5013 1448.04 Q71.5013 1440.91 69.6726 1437.37 Q67.867 1433.81 64.2328 1433.81 M64.2328 1430.1 Q70.0429 1430.1 73.0985 1434.71 Q76.1772 1439.29 76.1772 1448.04 Q76.1772 1456.77 73.0985 1461.38 Q70.0429 1465.96 64.2328 1465.96 Q58.4226 1465.96 55.344 1461.38 Q52.2884 1456.77 52.2884 1448.04 Q52.2884 1439.29 55.344 1434.71 Q58.4226 1430.1 64.2328 1430.1 Z\" fill=\"#000000\" fill-rule=\"evenodd\" fill-opacity=\"1\" /><path clip-path=\"url(#clip200)\" d=\"M56.2699 1229.77 L63.9087 1229.77 L63.9087 1203.4 L55.5986 1205.07 L55.5986 1200.81 L63.8624 1199.14 L68.5383 1199.14 L68.5383 1229.77 L76.1772 1229.77 L76.1772 1233.7 L56.2699 1233.7 L56.2699 1229.77 Z\" fill=\"#000000\" fill-rule=\"evenodd\" fill-opacity=\"1\" /><path clip-path=\"url(#clip200)\" d=\"M59.8578 998.185 L76.1772 998.185 L76.1772 1002.12 L54.2328 1002.12 L54.2328 998.185 Q56.8949 995.431 61.4782 990.801 Q66.0846 986.148 67.2652 984.806 Q69.5105 982.283 70.3902 980.546 Q71.2929 978.787 71.2929 977.097 Q71.2929 974.343 69.3485 972.607 Q67.4272 970.871 64.3254 970.871 Q62.1263 970.871 59.6726 971.634 Q57.2421 972.398 54.4643 973.949 L54.4643 969.227 Q57.2884 968.093 59.7421 967.514 Q62.1958 966.935 64.2328 966.935 Q69.6031 966.935 72.7976 969.621 Q75.992 972.306 75.992 976.796 Q75.992 978.926 75.1818 980.847 Q74.3948 982.745 72.2883 985.338 Q71.7096 986.009 68.6078 989.227 Q65.5059 992.421 59.8578 998.185 Z\" fill=\"#000000\" fill-rule=\"evenodd\" fill-opacity=\"1\" /><path clip-path=\"url(#clip200)\" d=\"M69.0476 751.902 Q72.404 752.62 74.279 754.888 Q76.1772 757.157 76.1772 760.49 Q76.1772 765.606 72.6587 768.407 Q69.1402 771.208 62.6587 771.208 Q60.4828 771.208 58.168 770.768 Q55.8764 770.351 53.4227 769.495 L53.4227 764.981 Q55.3671 766.115 57.6819 766.694 Q59.9967 767.272 62.5198 767.272 Q66.918 767.272 69.2096 765.536 Q71.5244 763.8 71.5244 760.49 Q71.5244 757.434 69.3717 755.722 Q67.242 753.985 63.4226 753.985 L59.3949 753.985 L59.3949 750.143 L63.6078 750.143 Q67.0569 750.143 68.8855 748.777 Q70.7142 747.388 70.7142 744.796 Q70.7142 742.134 68.8161 740.722 Q66.9411 739.286 63.4226 739.286 Q61.5013 739.286 59.3023 739.703 Q57.1032 740.12 54.4643 740.999 L54.4643 736.833 Q57.1264 736.092 59.4412 735.722 Q61.7791 735.351 63.8393 735.351 Q69.1633 735.351 72.2652 737.782 Q75.367 740.189 75.367 744.31 Q75.367 747.18 73.7235 749.171 Q72.08 751.138 69.0476 751.902 Z\" fill=\"#000000\" fill-rule=\"evenodd\" fill-opacity=\"1\" /><path clip-path=\"url(#clip200)\" d=\"M66.5939 508.466 L54.7884 526.915 L66.5939 526.915 L66.5939 508.466 M65.367 504.392 L71.2466 504.392 L71.2466 526.915 L76.1772 526.915 L76.1772 530.804 L71.2466 530.804 L71.2466 538.952 L66.5939 538.952 L66.5939 530.804 L50.9921 530.804 L50.9921 526.29 L65.367 504.392 Z\" fill=\"#000000\" fill-rule=\"evenodd\" fill-opacity=\"1\" /><path clip-path=\"url(#clip200)\" d=\"M55.2745 272.808 L73.6309 272.808 L73.6309 276.743 L59.5569 276.743 L59.5569 285.215 Q60.5754 284.868 61.5939 284.706 Q62.6124 284.521 63.6309 284.521 Q69.418 284.521 72.7976 287.692 Q76.1772 290.863 76.1772 296.28 Q76.1772 301.859 72.705 304.961 Q69.2328 308.039 62.9134 308.039 Q60.7374 308.039 58.4689 307.669 Q56.2236 307.299 53.8162 306.558 L53.8162 301.859 Q55.8995 302.993 58.1217 303.549 Q60.3439 304.104 62.8208 304.104 Q66.8254 304.104 69.1633 301.998 Q71.5013 299.891 71.5013 296.28 Q71.5013 292.669 69.1633 290.563 Q66.8254 288.456 62.8208 288.456 Q60.9458 288.456 59.0708 288.873 Q57.2189 289.289 55.2745 290.169 L55.2745 272.808 Z\" fill=\"#000000\" fill-rule=\"evenodd\" fill-opacity=\"1\" /><path clip-path=\"url(#clip200)\" d=\"M64.6495 56.6405 Q61.5013 56.6405 59.6495 58.7933 Q57.8208 60.946 57.8208 64.696 Q57.8208 68.4228 59.6495 70.5988 Q61.5013 72.7515 64.6495 72.7515 Q67.7976 72.7515 69.6263 70.5988 Q71.4781 68.4228 71.4781 64.696 Q71.4781 60.946 69.6263 58.7933 Q67.7976 56.6405 64.6495 56.6405 M73.9318 41.9878 L73.9318 46.247 Q72.1726 45.4137 70.367 44.9739 Q68.5846 44.5341 66.8254 44.5341 Q62.1958 44.5341 59.7421 47.6591 Q57.3115 50.784 56.9643 57.1035 Q58.33 55.0896 60.3902 54.0248 Q62.4504 52.9368 64.9272 52.9368 Q70.1355 52.9368 73.1448 56.1081 Q76.1772 59.2562 76.1772 64.696 Q76.1772 70.0201 73.029 73.2376 Q69.8809 76.4552 64.6495 76.4552 Q58.6541 76.4552 55.4828 71.8719 Q52.3116 67.2654 52.3116 58.5386 Q52.3116 50.3442 56.2004 45.4831 Q60.0893 40.5989 66.6402 40.5989 Q68.3994 40.5989 70.1818 40.9461 Q71.9874 41.2934 73.9318 41.9878 Z\" fill=\"#000000\" fill-rule=\"evenodd\" fill-opacity=\"1\" /><polyline clip-path=\"url(#clip202)\" style=\"stroke:#009af9; stroke-linecap:butt; stroke-linejoin:round; stroke-width:4; stroke-opacity:1; fill:none\" points=\"\n",
       "  175.59,1373.05 410.451,550.512 645.313,723.948 880.174,87.9763 1115.04,1397.31 1349.9,1445.72 1584.76,1438.71 1819.62,1375.78 2054.48,1386.23 2289.34,1325.29 \n",
       "  \n",
       "  \"/>\n",
       "<path clip-path=\"url(#clip200)\" d=\"\n",
       "M1976.69 198.898 L2278.07 198.898 L2278.07 95.2176 L1976.69 95.2176  Z\n",
       "  \" fill=\"#ffffff\" fill-rule=\"evenodd\" fill-opacity=\"1\"/>\n",
       "<polyline clip-path=\"url(#clip200)\" style=\"stroke:#000000; stroke-linecap:butt; stroke-linejoin:round; stroke-width:4; stroke-opacity:1; fill:none\" points=\"\n",
       "  1976.69,198.898 2278.07,198.898 2278.07,95.2176 1976.69,95.2176 1976.69,198.898 \n",
       "  \"/>\n",
       "<polyline clip-path=\"url(#clip200)\" style=\"stroke:#009af9; stroke-linecap:butt; stroke-linejoin:round; stroke-width:4; stroke-opacity:1; fill:none\" points=\"\n",
       "  2001.58,147.058 2150.95,147.058 \n",
       "  \"/>\n",
       "<path clip-path=\"url(#clip200)\" d=\"M2189.69 166.745 Q2187.89 171.375 2186.17 172.787 Q2184.46 174.199 2181.59 174.199 L2178.19 174.199 L2178.19 170.634 L2180.69 170.634 Q2182.45 170.634 2183.42 169.8 Q2184.39 168.967 2185.57 165.865 L2186.34 163.921 L2175.85 138.412 L2180.36 138.412 L2188.46 158.689 L2196.57 138.412 L2201.08 138.412 L2189.69 166.745 Z\" fill=\"#000000\" fill-rule=\"evenodd\" fill-opacity=\"1\" /><path clip-path=\"url(#clip200)\" d=\"M2208.37 160.402 L2216.01 160.402 L2216.01 134.037 L2207.7 135.703 L2207.7 131.444 L2215.96 129.778 L2220.64 129.778 L2220.64 160.402 L2228.28 160.402 L2228.28 164.338 L2208.37 164.338 L2208.37 160.402 Z\" fill=\"#000000\" fill-rule=\"evenodd\" fill-opacity=\"1\" /></svg>\n"
      ]
     },
     "execution_count": 33,
     "metadata": {},
     "output_type": "execute_result"
    }
   ],
   "source": [
    "# poor style\n",
    "function generatedata(n)\n",
    "    ϵ = zeros(n)\n",
    "    for i in eachindex(ϵ)\n",
    "        ϵ[i] = (randn())^2 # squaring the result\n",
    "    end\n",
    "    return ϵ\n",
    "end\n",
    "\n",
    "data = generatedata(10)\n",
    "plot(data)"
   ]
  },
  {
   "cell_type": "markdown",
   "id": "394a36af",
   "metadata": {},
   "source": [
    "Here\n",
    "\n",
    "- `function` is a Julia keyword that indicates the start of a function definition  \n",
    "- `generatedata` is an arbitrary name for the function  \n",
    "- `return` is a keyword indicating the return value, as is often unnecessary  \n",
    "\n",
    "\n",
    "Let us make this example slightly better by “remembering” that `randn` can return a vectors."
   ]
  },
  {
   "cell_type": "code",
   "execution_count": 34,
   "id": "72c0dbe0",
   "metadata": {
    "hide-output": false
   },
   "outputs": [
    {
     "data": {
      "text/plain": [
       "5-element Vector{Float64}:\n",
       " 0.4840915051057128\n",
       " 0.35471225549998714\n",
       " 1.202797642033786\n",
       " 0.5053895998289492\n",
       " 0.22418506554866002"
      ]
     },
     "execution_count": 34,
     "metadata": {},
     "output_type": "execute_result"
    }
   ],
   "source": [
    "# still poor style\n",
    "function generatedata(n)\n",
    "    ϵ = randn(n) # use built in function\n",
    "\n",
    "    for i in eachindex(ϵ)\n",
    "        ϵ[i] = ϵ[i]^2 # squaring the result\n",
    "    end\n",
    "\n",
    "    return ϵ\n",
    "end\n",
    "data = generatedata(5)"
   ]
  },
  {
   "cell_type": "markdown",
   "id": "6257bb44",
   "metadata": {},
   "source": [
    "While better, the looping over the `i` index to square the results is difficult to read.\n",
    "\n",
    "Instead of looping, we can **broadcast** the `^2` square function over a vector using a `.`.\n",
    "\n",
    "To be clear, unlike Python, R, and MATLAB (to a lesser extent), the reason to drop the `for` is **not** for performance reasons, but rather because of code clarity.\n",
    "\n",
    "Loops of this sort are at least as efficient as vectorized approach in compiled languages like Julia, so use a for loop if you think it makes the code more clear."
   ]
  },
  {
   "cell_type": "code",
   "execution_count": 35,
   "id": "c933be77",
   "metadata": {
    "hide-output": false
   },
   "outputs": [
    {
     "data": {
      "text/plain": [
       "5-element Vector{Float64}:\n",
       " 0.2809825354865747\n",
       " 0.17547874955778647\n",
       " 1.920761984865769\n",
       " 0.6241249926413053\n",
       " 0.01667086645326387"
      ]
     },
     "execution_count": 35,
     "metadata": {},
     "output_type": "execute_result"
    }
   ],
   "source": [
    "# better style\n",
    "function generatedata(n)\n",
    "    ϵ = randn(n) # use built in function\n",
    "    return ϵ.^2\n",
    " end\n",
    "data = generatedata(5)"
   ]
  },
  {
   "cell_type": "markdown",
   "id": "98f0a602",
   "metadata": {},
   "source": [
    "We can even drop the `function` if we define it on a single line."
   ]
  },
  {
   "cell_type": "code",
   "execution_count": 36,
   "id": "7128c3af",
   "metadata": {
    "hide-output": false
   },
   "outputs": [
    {
     "data": {
      "text/plain": [
       "5-element Vector{Float64}:\n",
       " 1.4317729092558755\n",
       " 0.07134047934553014\n",
       " 0.4522247314919708\n",
       " 0.9069561469669434\n",
       " 0.8368040436951736"
      ]
     },
     "execution_count": 36,
     "metadata": {},
     "output_type": "execute_result"
    }
   ],
   "source": [
    "# good style\n",
    "generatedata_new(n) = randn(n).^2\n",
    "data = generatedata_new(5)"
   ]
  },
  {
   "cell_type": "markdown",
   "id": "b3ee1bcd",
   "metadata": {},
   "source": [
    "Finally, we can broadcast any function, where squaring is only a special case."
   ]
  },
  {
   "cell_type": "code",
   "execution_count": 39,
   "id": "cb9bac62",
   "metadata": {
    "hide-output": false
   },
   "outputs": [
    {
     "data": {
      "text/plain": [
       "5-element Vector{Float64}:\n",
       " 1.0\n",
       " 1.0\n",
       " 1.0\n",
       " 1.0\n",
       " 1.0"
      ]
     },
     "execution_count": 39,
     "metadata": {},
     "output_type": "execute_result"
    }
   ],
   "source": [
    "# good style\n",
    "f(x) = x/x # simple divide function\n",
    "generatedata(n) = f.(randn(n)) # uses broadcast for some function `f`\n",
    "data = generatedata(5)"
   ]
  },
  {
   "cell_type": "markdown",
   "id": "32e39932",
   "metadata": {},
   "source": [
    "As a final – abstract – approach, we can make the `generatedata` function able to generically apply to a function."
   ]
  },
  {
   "cell_type": "code",
   "execution_count": 41,
   "id": "3f94fa35",
   "metadata": {
    "hide-output": false
   },
   "outputs": [
    {
     "data": {
      "text/plain": [
       "5-element Vector{Float64}:\n",
       " 1.0\n",
       " 1.0\n",
       " 1.0\n",
       " 1.0\n",
       " 1.0"
      ]
     },
     "execution_count": 41,
     "metadata": {},
     "output_type": "execute_result"
    }
   ],
   "source": [
    "generatedata(n, f) = f.(randn(n)) # uses broadcast for some function `f`\n",
    "\n",
    "f(x) = x/x # simple divide function\n",
    "data = generatedata(5, f) # applies f"
   ]
  },
  {
   "cell_type": "markdown",
   "id": "8e4eaeed",
   "metadata": {},
   "source": [
    "Whether this example is better or worse than the previous version depends on how it is used.\n",
    "\n",
    "High degrees of abstraction and generality, e.g. passing in a function `f` in this case, can make code either clearer or more confusing, but Julia enables you to use these techniques **with no performance overhead**.\n",
    "\n",
    "For this particular case, the clearest and most general solution is probably the simplest."
   ]
  },
  {
   "cell_type": "code",
   "execution_count": 44,
   "id": "7bba6d10",
   "metadata": {
    "hide-output": false
   },
   "outputs": [
    {
     "data": {
      "image/svg+xml": [
       "<?xml version=\"1.0\" encoding=\"utf-8\"?>\n",
       "<svg xmlns=\"http://www.w3.org/2000/svg\" xmlns:xlink=\"http://www.w3.org/1999/xlink\" width=\"600\" height=\"400\" viewBox=\"0 0 2400 1600\">\n",
       "<defs>\n",
       "  <clipPath id=\"clip320\">\n",
       "    <rect x=\"0\" y=\"0\" width=\"2400\" height=\"1600\"/>\n",
       "  </clipPath>\n",
       "</defs>\n",
       "<path clip-path=\"url(#clip320)\" d=\"\n",
       "M0 1600 L2400 1600 L2400 0 L0 0  Z\n",
       "  \" fill=\"#ffffff\" fill-rule=\"evenodd\" fill-opacity=\"1\"/>\n",
       "<defs>\n",
       "  <clipPath id=\"clip321\">\n",
       "    <rect x=\"480\" y=\"0\" width=\"1681\" height=\"1600\"/>\n",
       "  </clipPath>\n",
       "</defs>\n",
       "<path clip-path=\"url(#clip320)\" d=\"\n",
       "M147.108 1486.45 L2352.76 1486.45 L2352.76 47.2441 L147.108 47.2441  Z\n",
       "  \" fill=\"#ffffff\" fill-rule=\"evenodd\" fill-opacity=\"1\"/>\n",
       "<defs>\n",
       "  <clipPath id=\"clip322\">\n",
       "    <rect x=\"147\" y=\"47\" width=\"2207\" height=\"1440\"/>\n",
       "  </clipPath>\n",
       "</defs>\n",
       "<polyline clip-path=\"url(#clip322)\" style=\"stroke:#000000; stroke-linecap:butt; stroke-linejoin:round; stroke-width:2; stroke-opacity:0.1; fill:none\" points=\"\n",
       "  188.513,1486.45 188.513,47.2441 \n",
       "  \"/>\n",
       "<polyline clip-path=\"url(#clip322)\" style=\"stroke:#000000; stroke-linecap:butt; stroke-linejoin:round; stroke-width:2; stroke-opacity:0.1; fill:none\" points=\"\n",
       "  713.968,1486.45 713.968,47.2441 \n",
       "  \"/>\n",
       "<polyline clip-path=\"url(#clip322)\" style=\"stroke:#000000; stroke-linecap:butt; stroke-linejoin:round; stroke-width:2; stroke-opacity:0.1; fill:none\" points=\"\n",
       "  1239.42,1486.45 1239.42,47.2441 \n",
       "  \"/>\n",
       "<polyline clip-path=\"url(#clip322)\" style=\"stroke:#000000; stroke-linecap:butt; stroke-linejoin:round; stroke-width:2; stroke-opacity:0.1; fill:none\" points=\"\n",
       "  1764.88,1486.45 1764.88,47.2441 \n",
       "  \"/>\n",
       "<polyline clip-path=\"url(#clip322)\" style=\"stroke:#000000; stroke-linecap:butt; stroke-linejoin:round; stroke-width:2; stroke-opacity:0.1; fill:none\" points=\"\n",
       "  2290.33,1486.45 2290.33,47.2441 \n",
       "  \"/>\n",
       "<polyline clip-path=\"url(#clip320)\" style=\"stroke:#000000; stroke-linecap:butt; stroke-linejoin:round; stroke-width:4; stroke-opacity:1; fill:none\" points=\"\n",
       "  147.108,1486.45 2352.76,1486.45 \n",
       "  \"/>\n",
       "<polyline clip-path=\"url(#clip320)\" style=\"stroke:#000000; stroke-linecap:butt; stroke-linejoin:round; stroke-width:4; stroke-opacity:1; fill:none\" points=\"\n",
       "  188.513,1486.45 188.513,1467.55 \n",
       "  \"/>\n",
       "<polyline clip-path=\"url(#clip320)\" style=\"stroke:#000000; stroke-linecap:butt; stroke-linejoin:round; stroke-width:4; stroke-opacity:1; fill:none\" points=\"\n",
       "  713.968,1486.45 713.968,1467.55 \n",
       "  \"/>\n",
       "<polyline clip-path=\"url(#clip320)\" style=\"stroke:#000000; stroke-linecap:butt; stroke-linejoin:round; stroke-width:4; stroke-opacity:1; fill:none\" points=\"\n",
       "  1239.42,1486.45 1239.42,1467.55 \n",
       "  \"/>\n",
       "<polyline clip-path=\"url(#clip320)\" style=\"stroke:#000000; stroke-linecap:butt; stroke-linejoin:round; stroke-width:4; stroke-opacity:1; fill:none\" points=\"\n",
       "  1764.88,1486.45 1764.88,1467.55 \n",
       "  \"/>\n",
       "<polyline clip-path=\"url(#clip320)\" style=\"stroke:#000000; stroke-linecap:butt; stroke-linejoin:round; stroke-width:4; stroke-opacity:1; fill:none\" points=\"\n",
       "  2290.33,1486.45 2290.33,1467.55 \n",
       "  \"/>\n",
       "<path clip-path=\"url(#clip320)\" d=\"M188.513 1517.37 Q184.902 1517.37 183.074 1520.93 Q181.268 1524.47 181.268 1531.6 Q181.268 1538.71 183.074 1542.27 Q184.902 1545.82 188.513 1545.82 Q192.148 1545.82 193.953 1542.27 Q195.782 1538.71 195.782 1531.6 Q195.782 1524.47 193.953 1520.93 Q192.148 1517.37 188.513 1517.37 M188.513 1513.66 Q194.324 1513.66 197.379 1518.27 Q200.458 1522.85 200.458 1531.6 Q200.458 1540.33 197.379 1544.94 Q194.324 1549.52 188.513 1549.52 Q182.703 1549.52 179.625 1544.94 Q176.569 1540.33 176.569 1531.6 Q176.569 1522.85 179.625 1518.27 Q182.703 1513.66 188.513 1513.66 Z\" fill=\"#000000\" fill-rule=\"evenodd\" fill-opacity=\"1\" /><path clip-path=\"url(#clip320)\" d=\"M693.239 1544.91 L709.558 1544.91 L709.558 1548.85 L687.614 1548.85 L687.614 1544.91 Q690.276 1542.16 694.859 1537.53 Q699.466 1532.88 700.646 1531.53 Q702.892 1529.01 703.771 1527.27 Q704.674 1525.51 704.674 1523.82 Q704.674 1521.07 702.73 1519.33 Q700.808 1517.6 697.707 1517.6 Q695.507 1517.6 693.054 1518.36 Q690.623 1519.13 687.845 1520.68 L687.845 1515.95 Q690.67 1514.82 693.123 1514.24 Q695.577 1513.66 697.614 1513.66 Q702.984 1513.66 706.179 1516.35 Q709.373 1519.03 709.373 1523.52 Q709.373 1525.65 708.563 1527.57 Q707.776 1529.47 705.669 1532.07 Q705.091 1532.74 701.989 1535.95 Q698.887 1539.15 693.239 1544.91 Z\" fill=\"#000000\" fill-rule=\"evenodd\" fill-opacity=\"1\" /><path clip-path=\"url(#clip320)\" d=\"M719.419 1514.29 L737.776 1514.29 L737.776 1518.22 L723.702 1518.22 L723.702 1526.7 Q724.72 1526.35 725.739 1526.19 Q726.757 1526 727.776 1526 Q733.563 1526 736.942 1529.17 Q740.322 1532.34 740.322 1537.76 Q740.322 1543.34 736.85 1546.44 Q733.378 1549.52 727.058 1549.52 Q724.882 1549.52 722.614 1549.15 Q720.368 1548.78 717.961 1548.04 L717.961 1543.34 Q720.044 1544.47 722.267 1545.03 Q724.489 1545.58 726.966 1545.58 Q730.97 1545.58 733.308 1543.48 Q735.646 1541.37 735.646 1537.76 Q735.646 1534.15 733.308 1532.04 Q730.97 1529.94 726.966 1529.94 Q725.091 1529.94 723.216 1530.35 Q721.364 1530.77 719.419 1531.65 L719.419 1514.29 Z\" fill=\"#000000\" fill-rule=\"evenodd\" fill-opacity=\"1\" /><path clip-path=\"url(#clip320)\" d=\"M1214.12 1514.29 L1232.48 1514.29 L1232.48 1518.22 L1218.4 1518.22 L1218.4 1526.7 Q1219.42 1526.35 1220.44 1526.19 Q1221.46 1526 1222.48 1526 Q1228.27 1526 1231.64 1529.17 Q1235.02 1532.34 1235.02 1537.76 Q1235.02 1543.34 1231.55 1546.44 Q1228.08 1549.52 1221.76 1549.52 Q1219.58 1549.52 1217.32 1549.15 Q1215.07 1548.78 1212.66 1548.04 L1212.66 1543.34 Q1214.75 1544.47 1216.97 1545.03 Q1219.19 1545.58 1221.67 1545.58 Q1225.67 1545.58 1228.01 1543.48 Q1230.35 1541.37 1230.35 1537.76 Q1230.35 1534.15 1228.01 1532.04 Q1225.67 1529.94 1221.67 1529.94 Q1219.79 1529.94 1217.92 1530.35 Q1216.07 1530.77 1214.12 1531.65 L1214.12 1514.29 Z\" fill=\"#000000\" fill-rule=\"evenodd\" fill-opacity=\"1\" /><path clip-path=\"url(#clip320)\" d=\"M1254.24 1517.37 Q1250.63 1517.37 1248.8 1520.93 Q1246.99 1524.47 1246.99 1531.6 Q1246.99 1538.71 1248.8 1542.27 Q1250.63 1545.82 1254.24 1545.82 Q1257.87 1545.82 1259.68 1542.27 Q1261.51 1538.71 1261.51 1531.6 Q1261.51 1524.47 1259.68 1520.93 Q1257.87 1517.37 1254.24 1517.37 M1254.24 1513.66 Q1260.05 1513.66 1263.1 1518.27 Q1266.18 1522.85 1266.18 1531.6 Q1266.18 1540.33 1263.1 1544.94 Q1260.05 1549.52 1254.24 1549.52 Q1248.43 1549.52 1245.35 1544.94 Q1242.29 1540.33 1242.29 1531.6 Q1242.29 1522.85 1245.35 1518.27 Q1248.43 1513.66 1254.24 1513.66 Z\" fill=\"#000000\" fill-rule=\"evenodd\" fill-opacity=\"1\" /><path clip-path=\"url(#clip320)\" d=\"M1738.73 1514.29 L1760.95 1514.29 L1760.95 1516.28 L1748.41 1548.85 L1743.52 1548.85 L1755.33 1518.22 L1738.73 1518.22 L1738.73 1514.29 Z\" fill=\"#000000\" fill-rule=\"evenodd\" fill-opacity=\"1\" /><path clip-path=\"url(#clip320)\" d=\"M1770.12 1514.29 L1788.48 1514.29 L1788.48 1518.22 L1774.4 1518.22 L1774.4 1526.7 Q1775.42 1526.35 1776.44 1526.19 Q1777.46 1526 1778.48 1526 Q1784.26 1526 1787.64 1529.17 Q1791.02 1532.34 1791.02 1537.76 Q1791.02 1543.34 1787.55 1546.44 Q1784.08 1549.52 1777.76 1549.52 Q1775.58 1549.52 1773.31 1549.15 Q1771.07 1548.78 1768.66 1548.04 L1768.66 1543.34 Q1770.75 1544.47 1772.97 1545.03 Q1775.19 1545.58 1777.67 1545.58 Q1781.67 1545.58 1784.01 1543.48 Q1786.35 1541.37 1786.35 1537.76 Q1786.35 1534.15 1784.01 1532.04 Q1781.67 1529.94 1777.67 1529.94 Q1775.79 1529.94 1773.92 1530.35 Q1772.06 1530.77 1770.12 1531.65 L1770.12 1514.29 Z\" fill=\"#000000\" fill-rule=\"evenodd\" fill-opacity=\"1\" /><path clip-path=\"url(#clip320)\" d=\"M2249.94 1544.91 L2257.58 1544.91 L2257.58 1518.55 L2249.27 1520.21 L2249.27 1515.95 L2257.53 1514.29 L2262.21 1514.29 L2262.21 1544.91 L2269.85 1544.91 L2269.85 1548.85 L2249.94 1548.85 L2249.94 1544.91 Z\" fill=\"#000000\" fill-rule=\"evenodd\" fill-opacity=\"1\" /><path clip-path=\"url(#clip320)\" d=\"M2289.29 1517.37 Q2285.68 1517.37 2283.85 1520.93 Q2282.04 1524.47 2282.04 1531.6 Q2282.04 1538.71 2283.85 1542.27 Q2285.68 1545.82 2289.29 1545.82 Q2292.92 1545.82 2294.73 1542.27 Q2296.56 1538.71 2296.56 1531.6 Q2296.56 1524.47 2294.73 1520.93 Q2292.92 1517.37 2289.29 1517.37 M2289.29 1513.66 Q2295.1 1513.66 2298.16 1518.27 Q2301.23 1522.85 2301.23 1531.6 Q2301.23 1540.33 2298.16 1544.94 Q2295.1 1549.52 2289.29 1549.52 Q2283.48 1549.52 2280.4 1544.94 Q2277.35 1540.33 2277.35 1531.6 Q2277.35 1522.85 2280.4 1518.27 Q2283.48 1513.66 2289.29 1513.66 Z\" fill=\"#000000\" fill-rule=\"evenodd\" fill-opacity=\"1\" /><path clip-path=\"url(#clip320)\" d=\"M2319.45 1517.37 Q2315.84 1517.37 2314.01 1520.93 Q2312.21 1524.47 2312.21 1531.6 Q2312.21 1538.71 2314.01 1542.27 Q2315.84 1545.82 2319.45 1545.82 Q2323.09 1545.82 2324.89 1542.27 Q2326.72 1538.71 2326.72 1531.6 Q2326.72 1524.47 2324.89 1520.93 Q2323.09 1517.37 2319.45 1517.37 M2319.45 1513.66 Q2325.26 1513.66 2328.32 1518.27 Q2331.4 1522.85 2331.4 1531.6 Q2331.4 1540.33 2328.32 1544.94 Q2325.26 1549.52 2319.45 1549.52 Q2313.64 1549.52 2310.56 1544.94 Q2307.51 1540.33 2307.51 1531.6 Q2307.51 1522.85 2310.56 1518.27 Q2313.64 1513.66 2319.45 1513.66 Z\" fill=\"#000000\" fill-rule=\"evenodd\" fill-opacity=\"1\" /><polyline clip-path=\"url(#clip322)\" style=\"stroke:#000000; stroke-linecap:butt; stroke-linejoin:round; stroke-width:2; stroke-opacity:0.1; fill:none\" points=\"\n",
       "  147.108,1358.74 2352.76,1358.74 \n",
       "  \"/>\n",
       "<polyline clip-path=\"url(#clip322)\" style=\"stroke:#000000; stroke-linecap:butt; stroke-linejoin:round; stroke-width:2; stroke-opacity:0.1; fill:none\" points=\"\n",
       "  147.108,1068.49 2352.76,1068.49 \n",
       "  \"/>\n",
       "<polyline clip-path=\"url(#clip322)\" style=\"stroke:#000000; stroke-linecap:butt; stroke-linejoin:round; stroke-width:2; stroke-opacity:0.1; fill:none\" points=\"\n",
       "  147.108,778.237 2352.76,778.237 \n",
       "  \"/>\n",
       "<polyline clip-path=\"url(#clip322)\" style=\"stroke:#000000; stroke-linecap:butt; stroke-linejoin:round; stroke-width:2; stroke-opacity:0.1; fill:none\" points=\"\n",
       "  147.108,487.983 2352.76,487.983 \n",
       "  \"/>\n",
       "<polyline clip-path=\"url(#clip322)\" style=\"stroke:#000000; stroke-linecap:butt; stroke-linejoin:round; stroke-width:2; stroke-opacity:0.1; fill:none\" points=\"\n",
       "  147.108,197.73 2352.76,197.73 \n",
       "  \"/>\n",
       "<polyline clip-path=\"url(#clip320)\" style=\"stroke:#000000; stroke-linecap:butt; stroke-linejoin:round; stroke-width:4; stroke-opacity:1; fill:none\" points=\"\n",
       "  147.108,1486.45 147.108,47.2441 \n",
       "  \"/>\n",
       "<polyline clip-path=\"url(#clip320)\" style=\"stroke:#000000; stroke-linecap:butt; stroke-linejoin:round; stroke-width:4; stroke-opacity:1; fill:none\" points=\"\n",
       "  147.108,1358.74 166.005,1358.74 \n",
       "  \"/>\n",
       "<polyline clip-path=\"url(#clip320)\" style=\"stroke:#000000; stroke-linecap:butt; stroke-linejoin:round; stroke-width:4; stroke-opacity:1; fill:none\" points=\"\n",
       "  147.108,1068.49 166.005,1068.49 \n",
       "  \"/>\n",
       "<polyline clip-path=\"url(#clip320)\" style=\"stroke:#000000; stroke-linecap:butt; stroke-linejoin:round; stroke-width:4; stroke-opacity:1; fill:none\" points=\"\n",
       "  147.108,778.237 166.005,778.237 \n",
       "  \"/>\n",
       "<polyline clip-path=\"url(#clip320)\" style=\"stroke:#000000; stroke-linecap:butt; stroke-linejoin:round; stroke-width:4; stroke-opacity:1; fill:none\" points=\"\n",
       "  147.108,487.983 166.005,487.983 \n",
       "  \"/>\n",
       "<polyline clip-path=\"url(#clip320)\" style=\"stroke:#000000; stroke-linecap:butt; stroke-linejoin:round; stroke-width:4; stroke-opacity:1; fill:none\" points=\"\n",
       "  147.108,197.73 166.005,197.73 \n",
       "  \"/>\n",
       "<path clip-path=\"url(#clip320)\" d=\"M50.9921 1359.2 L80.6679 1359.2 L80.6679 1363.13 L50.9921 1363.13 L50.9921 1359.2 Z\" fill=\"#000000\" fill-rule=\"evenodd\" fill-opacity=\"1\" /><path clip-path=\"url(#clip320)\" d=\"M94.7882 1372.09 L111.108 1372.09 L111.108 1376.02 L89.1632 1376.02 L89.1632 1372.09 Q91.8252 1369.33 96.4085 1364.7 Q101.015 1360.05 102.196 1358.71 Q104.441 1356.19 105.321 1354.45 Q106.223 1352.69 106.223 1351 Q106.223 1348.25 104.279 1346.51 Q102.358 1344.77 99.2558 1344.77 Q97.0567 1344.77 94.603 1345.54 Q92.1725 1346.3 89.3947 1347.85 L89.3947 1343.13 Q92.2188 1342 94.6724 1341.42 Q97.1261 1340.84 99.1632 1340.84 Q104.534 1340.84 107.728 1343.52 Q110.922 1346.21 110.922 1350.7 Q110.922 1352.83 110.112 1354.75 Q109.325 1356.65 107.219 1359.24 Q106.64 1359.91 103.538 1363.13 Q100.436 1366.33 94.7882 1372.09 Z\" fill=\"#000000\" fill-rule=\"evenodd\" fill-opacity=\"1\" /><path clip-path=\"url(#clip320)\" d=\"M99.1632 1054.29 Q95.5521 1054.29 93.7234 1057.85 Q91.9178 1061.4 91.9178 1068.53 Q91.9178 1075.63 93.7234 1079.2 Q95.5521 1082.74 99.1632 1082.74 Q102.797 1082.74 104.603 1079.2 Q106.432 1075.63 106.432 1068.53 Q106.432 1061.4 104.603 1057.85 Q102.797 1054.29 99.1632 1054.29 M99.1632 1050.59 Q104.973 1050.59 108.029 1055.19 Q111.108 1059.78 111.108 1068.53 Q111.108 1077.25 108.029 1081.86 Q104.973 1086.44 99.1632 1086.44 Q93.353 1086.44 90.2743 1081.86 Q87.2188 1077.25 87.2188 1068.53 Q87.2188 1059.78 90.2743 1055.19 Q93.353 1050.59 99.1632 1050.59 Z\" fill=\"#000000\" fill-rule=\"evenodd\" fill-opacity=\"1\" /><path clip-path=\"url(#clip320)\" d=\"M94.7882 791.582 L111.108 791.582 L111.108 795.517 L89.1632 795.517 L89.1632 791.582 Q91.8252 788.827 96.4085 784.198 Q101.015 779.545 102.196 778.202 Q104.441 775.679 105.321 773.943 Q106.223 772.184 106.223 770.494 Q106.223 767.739 104.279 766.003 Q102.358 764.267 99.2558 764.267 Q97.0567 764.267 94.603 765.031 Q92.1725 765.795 89.3947 767.346 L89.3947 762.624 Q92.2188 761.489 94.6724 760.911 Q97.1261 760.332 99.1632 760.332 Q104.534 760.332 107.728 763.017 Q110.922 765.702 110.922 770.193 Q110.922 772.323 110.112 774.244 Q109.325 776.142 107.219 778.735 Q106.64 779.406 103.538 782.623 Q100.436 785.818 94.7882 791.582 Z\" fill=\"#000000\" fill-rule=\"evenodd\" fill-opacity=\"1\" /><path clip-path=\"url(#clip320)\" d=\"M101.524 474.777 L89.7188 493.226 L101.524 493.226 L101.524 474.777 M100.297 470.703 L106.177 470.703 L106.177 493.226 L111.108 493.226 L111.108 497.115 L106.177 497.115 L106.177 505.263 L101.524 505.263 L101.524 497.115 L85.9225 497.115 L85.9225 492.601 L100.297 470.703 Z\" fill=\"#000000\" fill-rule=\"evenodd\" fill-opacity=\"1\" /><path clip-path=\"url(#clip320)\" d=\"M99.5798 195.866 Q96.4317 195.866 94.5799 198.019 Q92.7512 200.172 92.7512 203.922 Q92.7512 207.649 94.5799 209.825 Q96.4317 211.977 99.5798 211.977 Q102.728 211.977 104.557 209.825 Q106.408 207.649 106.408 203.922 Q106.408 200.172 104.557 198.019 Q102.728 195.866 99.5798 195.866 M108.862 181.214 L108.862 185.473 Q107.103 184.64 105.297 184.2 Q103.515 183.76 101.756 183.76 Q97.1261 183.76 94.6724 186.885 Q92.2419 190.01 91.8947 196.329 Q93.2604 194.315 95.3206 193.251 Q97.3808 192.163 99.8576 192.163 Q105.066 192.163 108.075 195.334 Q111.108 198.482 111.108 203.922 Q111.108 209.246 107.959 212.463 Q104.811 215.681 99.5798 215.681 Q93.5845 215.681 90.4132 211.098 Q87.2419 206.491 87.2419 197.764 Q87.2419 189.57 91.1308 184.709 Q95.0197 179.825 101.571 179.825 Q103.33 179.825 105.112 180.172 Q106.918 180.519 108.862 181.214 Z\" fill=\"#000000\" fill-rule=\"evenodd\" fill-opacity=\"1\" /><polyline clip-path=\"url(#clip322)\" style=\"stroke:#009af9; stroke-linecap:butt; stroke-linejoin:round; stroke-width:4; stroke-opacity:1; fill:none\" points=\"\n",
       "  209.532,1023.07 230.55,846.63 251.568,986.584 272.586,859.149 293.604,483.461 314.622,1066.24 335.641,1066.55 356.659,646.278 377.677,853.552 398.695,1002.26 \n",
       "  419.713,1055.75 440.732,1068.05 461.75,1019.24 482.768,1018.06 503.786,935.53 524.804,635.138 545.823,1064.59 566.841,726.211 587.859,935.7 608.877,1043.95 \n",
       "  629.895,1058.35 650.913,1025.6 671.932,1047.47 692.95,1007.87 713.968,233.576 734.986,1007.65 756.004,985.17 777.023,1054.59 798.041,1048.77 819.059,1051.24 \n",
       "  840.077,1053.14 861.095,1036.25 882.113,1068.38 903.132,1041.47 924.15,955.325 945.168,1068.49 966.186,1058.6 987.204,1066.48 1008.22,783.072 1029.24,1040.52 \n",
       "  1050.26,994.771 1071.28,810.91 1092.3,1057.37 1113.31,1027.92 1134.33,1007.24 1155.35,1056.64 1176.37,665.116 1197.39,922.88 1218.4,1064.21 1239.42,1047.48 \n",
       "  1260.44,889.172 1281.46,1047.75 1302.48,907.908 1323.5,983.268 1344.51,906.81 1365.53,1068.49 1386.55,663.262 1407.57,900.467 1428.59,845.333 1449.6,928.644 \n",
       "  1470.62,1060.77 1491.64,1057.41 1512.66,975.736 1533.68,1054.59 1554.7,917.064 1575.71,933.718 1596.73,1023.52 1617.75,1004.78 1638.77,871.498 1659.79,1000.8 \n",
       "  1680.8,902.795 1701.82,881.126 1722.84,1019.1 1743.86,850.809 1764.88,818.002 1785.9,1033.88 1806.91,1060.05 1827.93,895.157 1848.95,1007.36 1869.97,1025.62 \n",
       "  1890.99,1066.38 1912,562.464 1933.02,1066 1954.04,896.732 1975.06,1061.27 1996.08,470.699 2017.1,606.419 2038.11,1053.39 2059.13,1067.96 2080.15,962.302 \n",
       "  2101.17,992.889 2122.19,1051.6 2143.2,1068.2 2164.22,1059.98 2185.24,919.649 2206.26,374.19 2227.28,787.321 2248.3,1043.61 2269.31,889.519 2290.33,87.9763 \n",
       "  \n",
       "  \"/>\n",
       "<polyline clip-path=\"url(#clip322)\" style=\"stroke:#e26f46; stroke-linecap:butt; stroke-linejoin:round; stroke-width:4; stroke-opacity:1; fill:none\" points=\"\n",
       "  209.532,1149.68 230.55,889.053 251.568,1177.52 272.586,894.189 293.604,777.108 314.622,1086.56 335.641,1085.29 356.659,1316.03 377.677,1245.11 398.695,1166.53 \n",
       "  419.713,1025.5 440.732,1076.51 461.75,1153.03 482.768,982.939 503.786,929.58 524.804,817.709 545.823,1092.29 566.841,1291.37 587.859,1207.31 608.877,1008.81 \n",
       "  629.895,1030.13 650.913,1147.39 671.932,1013.26 692.95,974.698 713.968,720.398 734.986,1162.46 756.004,958.527 777.023,1113.41 798.041,1015 819.059,1018.45 \n",
       "  840.077,1021.29 861.095,1000.09 882.113,1064.44 903.132,1005.87 924.15,940.337 945.168,1068.12 966.186,1106.37 987.204,1051.42 1008.22,1272.01 1029.24,1004.77 \n",
       "  1050.26,965.056 1071.28,1261.83 1092.3,1028.31 1113.31,1145.23 1134.33,1162.78 1155.35,1027.03 1176.37,826.539 1197.39,923.122 1218.4,1093.42 1239.42,1013.27 \n",
       "  1260.44,1229.81 1281.46,1013.62 1302.48,1221.15 1323.5,957.279 1344.51,915.31 1365.53,1068.03 1386.55,1311 1407.57,912.334 1428.59,1248.45 1449.6,926.028 \n",
       "  1470.62,1101.97 1491.64,1108.59 1512.66,952.468 1533.68,1023.57 1554.7,920.247 1575.71,928.637 1596.73,1149.28 1617.75,1164.64 1638.77,899.408 1659.79,1167.6 \n",
       "  1680.8,913.42 1701.82,1233.39 1722.84,1153.16 1743.86,1246.23 1764.88,877.827 1785.9,997.622 1806.91,1103.49 1827.93,1227.09 1848.95,1162.68 1869.97,989.613 \n",
       "  1890.99,1051 1912,1339.49 1933.02,1049.5 1954.04,1226.37 1975.06,1036.11 1996.08,773.947 2017.1,809.533 2038.11,1021.67 2059.13,1077.25 2080.15,1192.63 \n",
       "  2101.17,1173.24 2122.19,1018.98 2143.2,1061.95 2164.22,1103.64 2185.24,1215.46 2206.26,751.061 2227.28,1270.49 2248.3,1128.58 2269.31,907.327 2290.33,1445.72 \n",
       "  \n",
       "  \"/>\n",
       "<path clip-path=\"url(#clip320)\" d=\"\n",
       "M1942.33 250.738 L2279.23 250.738 L2279.23 95.2176 L1942.33 95.2176  Z\n",
       "  \" fill=\"#ffffff\" fill-rule=\"evenodd\" fill-opacity=\"1\"/>\n",
       "<polyline clip-path=\"url(#clip320)\" style=\"stroke:#000000; stroke-linecap:butt; stroke-linejoin:round; stroke-width:4; stroke-opacity:1; fill:none\" points=\"\n",
       "  1942.33,250.738 2279.23,250.738 2279.23,95.2176 1942.33,95.2176 1942.33,250.738 \n",
       "  \"/>\n",
       "<polyline clip-path=\"url(#clip320)\" style=\"stroke:#009af9; stroke-linecap:butt; stroke-linejoin:round; stroke-width:4; stroke-opacity:1; fill:none\" points=\"\n",
       "  1966.84,147.058 2113.88,147.058 \n",
       "  \"/>\n",
       "<path clip-path=\"url(#clip320)\" d=\"M2163.04 138.412 L2153.67 151.027 L2163.53 164.338 L2158.51 164.338 L2150.96 154.152 L2143.41 164.338 L2138.39 164.338 L2148.46 150.773 L2139.25 138.412 L2144.27 138.412 L2151.15 147.648 L2158.02 138.412 L2163.04 138.412 Z\" fill=\"#000000\" fill-rule=\"evenodd\" fill-opacity=\"1\" /><path clip-path=\"url(#clip320)\" d=\"M2187.21 129.778 L2199.78 142.671 L2195.13 142.671 L2184.94 133.528 L2174.76 142.671 L2170.1 142.671 L2182.67 129.778 L2187.21 129.778 Z\" fill=\"#000000\" fill-rule=\"evenodd\" fill-opacity=\"1\" /><path clip-path=\"url(#clip320)\" d=\"M2213.9 160.402 L2230.22 160.402 L2230.22 164.338 L2208.28 164.338 L2208.28 160.402 Q2210.94 157.648 2215.52 153.018 Q2220.13 148.365 2221.31 147.023 Q2223.55 144.5 2224.43 142.764 Q2225.34 141.004 2225.34 139.315 Q2225.34 136.56 2223.39 134.824 Q2221.47 133.088 2218.37 133.088 Q2216.17 133.088 2213.72 133.852 Q2211.28 134.615 2208.51 136.166 L2208.51 131.444 Q2211.33 130.31 2213.78 129.731 Q2216.24 129.153 2218.28 129.153 Q2223.65 129.153 2226.84 131.838 Q2230.03 134.523 2230.03 139.014 Q2230.03 141.143 2229.22 143.065 Q2228.44 144.963 2226.33 147.555 Q2225.75 148.227 2222.65 151.444 Q2219.55 154.639 2213.9 160.402 Z\" fill=\"#000000\" fill-rule=\"evenodd\" fill-opacity=\"1\" /><polyline clip-path=\"url(#clip320)\" style=\"stroke:#e26f46; stroke-linecap:butt; stroke-linejoin:round; stroke-width:4; stroke-opacity:1; fill:none\" points=\"\n",
       "  1966.84,198.898 2113.88,198.898 \n",
       "  \"/>\n",
       "<path clip-path=\"url(#clip320)\" d=\"M2163.04 190.252 L2153.67 202.867 L2163.53 216.178 L2158.51 216.178 L2150.96 205.992 L2143.41 216.178 L2138.39 216.178 L2148.46 202.613 L2139.25 190.252 L2144.27 190.252 L2151.15 199.488 L2158.02 190.252 L2163.04 190.252 Z\" fill=\"#000000\" fill-rule=\"evenodd\" fill-opacity=\"1\" /></svg>\n"
      ]
     },
     "execution_count": 44,
     "metadata": {},
     "output_type": "execute_result"
    }
   ],
   "source": [
    "# direct solution with broadcasting, and small user-defined function\n",
    "n = 100\n",
    "f(x) = x^2\n",
    "\n",
    "x = randn(n)\n",
    "plot(f.(x), label=\"x^2\")\n",
    "plot!(x, label=\"x\") # layer on the same plot"
   ]
  },
  {
   "cell_type": "markdown",
   "id": "b0587e54",
   "metadata": {},
   "source": [
    "While broadcasting above superficially looks like vectorizing functions in MATLAB, or Python ufuncs, it is much richer and built on core foundations of the language.\n",
    "\n",
    "The other additional function `plot!` adds a graph to the existing plot.\n",
    "\n",
    "This follows a general convention in Julia, **where a function that modifies the arguments or a global state has a `!` at the end of its name.**"
   ]
  },
  {
   "cell_type": "markdown",
   "id": "4a34a6a1",
   "metadata": {},
   "source": [
    "#### A Slightly More Useful Function\n",
    "\n",
    "Let’s make a slightly more useful function.\n",
    "\n",
    "This function will be passed in a choice of probability distribution and respond by plotting a histogram of observations.\n",
    "\n",
    "In doing so we’ll make use of the `Distributions` package, which we assume was instantiated above with the project.\n",
    "\n",
    "Here’s the code"
   ]
  },
  {
   "cell_type": "code",
   "execution_count": 45,
   "id": "a30b6e9c",
   "metadata": {
    "hide-output": false
   },
   "outputs": [
    {
     "data": {
      "image/svg+xml": [
       "<?xml version=\"1.0\" encoding=\"utf-8\"?>\n",
       "<svg xmlns=\"http://www.w3.org/2000/svg\" xmlns:xlink=\"http://www.w3.org/1999/xlink\" width=\"600\" height=\"400\" viewBox=\"0 0 2400 1600\">\n",
       "<defs>\n",
       "  <clipPath id=\"clip360\">\n",
       "    <rect x=\"0\" y=\"0\" width=\"2400\" height=\"1600\"/>\n",
       "  </clipPath>\n",
       "</defs>\n",
       "<path clip-path=\"url(#clip360)\" d=\"\n",
       "M0 1600 L2400 1600 L2400 0 L0 0  Z\n",
       "  \" fill=\"#ffffff\" fill-rule=\"evenodd\" fill-opacity=\"1\"/>\n",
       "<defs>\n",
       "  <clipPath id=\"clip361\">\n",
       "    <rect x=\"480\" y=\"0\" width=\"1681\" height=\"1600\"/>\n",
       "  </clipPath>\n",
       "</defs>\n",
       "<path clip-path=\"url(#clip360)\" d=\"\n",
       "M169.121 1486.45 L2352.76 1486.45 L2352.76 47.2441 L169.121 47.2441  Z\n",
       "  \" fill=\"#ffffff\" fill-rule=\"evenodd\" fill-opacity=\"1\"/>\n",
       "<defs>\n",
       "  <clipPath id=\"clip362\">\n",
       "    <rect x=\"169\" y=\"47\" width=\"2185\" height=\"1440\"/>\n",
       "  </clipPath>\n",
       "</defs>\n",
       "<polyline clip-path=\"url(#clip362)\" style=\"stroke:#000000; stroke-linecap:butt; stroke-linejoin:round; stroke-width:2; stroke-opacity:0.1; fill:none\" points=\"\n",
       "  600.173,1486.45 600.173,47.2441 \n",
       "  \"/>\n",
       "<polyline clip-path=\"url(#clip362)\" style=\"stroke:#000000; stroke-linecap:butt; stroke-linejoin:round; stroke-width:2; stroke-opacity:0.1; fill:none\" points=\"\n",
       "  1066.6,1486.45 1066.6,47.2441 \n",
       "  \"/>\n",
       "<polyline clip-path=\"url(#clip362)\" style=\"stroke:#000000; stroke-linecap:butt; stroke-linejoin:round; stroke-width:2; stroke-opacity:0.1; fill:none\" points=\"\n",
       "  1533.02,1486.45 1533.02,47.2441 \n",
       "  \"/>\n",
       "<polyline clip-path=\"url(#clip362)\" style=\"stroke:#000000; stroke-linecap:butt; stroke-linejoin:round; stroke-width:2; stroke-opacity:0.1; fill:none\" points=\"\n",
       "  1999.44,1486.45 1999.44,47.2441 \n",
       "  \"/>\n",
       "<polyline clip-path=\"url(#clip360)\" style=\"stroke:#000000; stroke-linecap:butt; stroke-linejoin:round; stroke-width:4; stroke-opacity:1; fill:none\" points=\"\n",
       "  169.121,1486.45 2352.76,1486.45 \n",
       "  \"/>\n",
       "<polyline clip-path=\"url(#clip360)\" style=\"stroke:#000000; stroke-linecap:butt; stroke-linejoin:round; stroke-width:4; stroke-opacity:1; fill:none\" points=\"\n",
       "  600.173,1486.45 600.173,1467.55 \n",
       "  \"/>\n",
       "<polyline clip-path=\"url(#clip360)\" style=\"stroke:#000000; stroke-linecap:butt; stroke-linejoin:round; stroke-width:4; stroke-opacity:1; fill:none\" points=\"\n",
       "  1066.6,1486.45 1066.6,1467.55 \n",
       "  \"/>\n",
       "<polyline clip-path=\"url(#clip360)\" style=\"stroke:#000000; stroke-linecap:butt; stroke-linejoin:round; stroke-width:4; stroke-opacity:1; fill:none\" points=\"\n",
       "  1533.02,1486.45 1533.02,1467.55 \n",
       "  \"/>\n",
       "<polyline clip-path=\"url(#clip360)\" style=\"stroke:#000000; stroke-linecap:butt; stroke-linejoin:round; stroke-width:4; stroke-opacity:1; fill:none\" points=\"\n",
       "  1999.44,1486.45 1999.44,1467.55 \n",
       "  \"/>\n",
       "<path clip-path=\"url(#clip360)\" d=\"M569.641 1532.02 L599.317 1532.02 L599.317 1535.95 L569.641 1535.95 L569.641 1532.02 Z\" fill=\"#000000\" fill-rule=\"evenodd\" fill-opacity=\"1\" /><path clip-path=\"url(#clip360)\" d=\"M623.576 1530.21 Q626.933 1530.93 628.808 1533.2 Q630.706 1535.47 630.706 1538.8 Q630.706 1543.92 627.187 1546.72 Q623.669 1549.52 617.187 1549.52 Q615.011 1549.52 612.697 1549.08 Q610.405 1548.66 607.951 1547.81 L607.951 1543.29 Q609.896 1544.43 612.21 1545.01 Q614.525 1545.58 617.048 1545.58 Q621.446 1545.58 623.738 1543.85 Q626.053 1542.11 626.053 1538.8 Q626.053 1535.75 623.9 1534.03 Q621.771 1532.3 617.951 1532.3 L613.923 1532.3 L613.923 1528.45 L618.136 1528.45 Q621.585 1528.45 623.414 1527.09 Q625.243 1525.7 625.243 1523.11 Q625.243 1520.45 623.345 1519.03 Q621.47 1517.6 617.951 1517.6 Q616.03 1517.6 613.831 1518.01 Q611.632 1518.43 608.993 1519.31 L608.993 1515.14 Q611.655 1514.4 613.97 1514.03 Q616.308 1513.66 618.368 1513.66 Q623.692 1513.66 626.794 1516.09 Q629.895 1518.5 629.895 1522.62 Q629.895 1525.49 628.252 1527.48 Q626.608 1529.45 623.576 1530.21 Z\" fill=\"#000000\" fill-rule=\"evenodd\" fill-opacity=\"1\" /><path clip-path=\"url(#clip360)\" d=\"M1066.6 1517.37 Q1062.98 1517.37 1061.16 1520.93 Q1059.35 1524.47 1059.35 1531.6 Q1059.35 1538.71 1061.16 1542.27 Q1062.98 1545.82 1066.6 1545.82 Q1070.23 1545.82 1072.04 1542.27 Q1073.86 1538.71 1073.86 1531.6 Q1073.86 1524.47 1072.04 1520.93 Q1070.23 1517.37 1066.6 1517.37 M1066.6 1513.66 Q1072.41 1513.66 1075.46 1518.27 Q1078.54 1522.85 1078.54 1531.6 Q1078.54 1540.33 1075.46 1544.94 Q1072.41 1549.52 1066.6 1549.52 Q1060.79 1549.52 1057.71 1544.94 Q1054.65 1540.33 1054.65 1531.6 Q1054.65 1522.85 1057.71 1518.27 Q1060.79 1513.66 1066.6 1513.66 Z\" fill=\"#000000\" fill-rule=\"evenodd\" fill-opacity=\"1\" /><path clip-path=\"url(#clip360)\" d=\"M1537.27 1530.21 Q1540.62 1530.93 1542.5 1533.2 Q1544.4 1535.47 1544.4 1538.8 Q1544.4 1543.92 1540.88 1546.72 Q1537.36 1549.52 1530.88 1549.52 Q1528.7 1549.52 1526.39 1549.08 Q1524.09 1548.66 1521.64 1547.81 L1521.64 1543.29 Q1523.59 1544.43 1525.9 1545.01 Q1528.22 1545.58 1530.74 1545.58 Q1535.14 1545.58 1537.43 1543.85 Q1539.74 1542.11 1539.74 1538.8 Q1539.74 1535.75 1537.59 1534.03 Q1535.46 1532.3 1531.64 1532.3 L1527.61 1532.3 L1527.61 1528.45 L1531.83 1528.45 Q1535.28 1528.45 1537.1 1527.09 Q1538.93 1525.7 1538.93 1523.11 Q1538.93 1520.45 1537.03 1519.03 Q1535.16 1517.6 1531.64 1517.6 Q1529.72 1517.6 1527.52 1518.01 Q1525.32 1518.43 1522.68 1519.31 L1522.68 1515.14 Q1525.34 1514.4 1527.66 1514.03 Q1530 1513.66 1532.06 1513.66 Q1537.38 1513.66 1540.48 1516.09 Q1543.59 1518.5 1543.59 1522.62 Q1543.59 1525.49 1541.94 1527.48 Q1540.3 1529.45 1537.27 1530.21 Z\" fill=\"#000000\" fill-rule=\"evenodd\" fill-opacity=\"1\" /><path clip-path=\"url(#clip360)\" d=\"M1999.85 1529.7 Q1996.7 1529.7 1994.85 1531.86 Q1993.02 1534.01 1993.02 1537.76 Q1993.02 1541.49 1994.85 1543.66 Q1996.7 1545.82 1999.85 1545.82 Q2002.99 1545.82 2004.82 1543.66 Q2006.67 1541.49 2006.67 1537.76 Q2006.67 1534.01 2004.82 1531.86 Q2002.99 1529.7 1999.85 1529.7 M2009.13 1515.05 L2009.13 1519.31 Q2007.37 1518.48 2005.56 1518.04 Q2003.78 1517.6 2002.02 1517.6 Q1997.39 1517.6 1994.94 1520.72 Q1992.51 1523.85 1992.16 1530.17 Q1993.53 1528.15 1995.59 1527.09 Q1997.65 1526 2000.12 1526 Q2005.33 1526 2008.34 1529.17 Q2011.37 1532.32 2011.37 1537.76 Q2011.37 1543.08 2008.23 1546.3 Q2005.08 1549.52 1999.85 1549.52 Q1993.85 1549.52 1990.68 1544.94 Q1987.51 1540.33 1987.51 1531.6 Q1987.51 1523.41 1991.4 1518.55 Q1995.29 1513.66 2001.84 1513.66 Q2003.6 1513.66 2005.38 1514.01 Q2007.18 1514.36 2009.13 1515.05 Z\" fill=\"#000000\" fill-rule=\"evenodd\" fill-opacity=\"1\" /><polyline clip-path=\"url(#clip362)\" style=\"stroke:#000000; stroke-linecap:butt; stroke-linejoin:round; stroke-width:2; stroke-opacity:0.1; fill:none\" points=\"\n",
       "  169.121,1445.72 2352.76,1445.72 \n",
       "  \"/>\n",
       "<polyline clip-path=\"url(#clip362)\" style=\"stroke:#000000; stroke-linecap:butt; stroke-linejoin:round; stroke-width:2; stroke-opacity:0.1; fill:none\" points=\"\n",
       "  169.121,1119.34 2352.76,1119.34 \n",
       "  \"/>\n",
       "<polyline clip-path=\"url(#clip362)\" style=\"stroke:#000000; stroke-linecap:butt; stroke-linejoin:round; stroke-width:2; stroke-opacity:0.1; fill:none\" points=\"\n",
       "  169.121,792.956 2352.76,792.956 \n",
       "  \"/>\n",
       "<polyline clip-path=\"url(#clip362)\" style=\"stroke:#000000; stroke-linecap:butt; stroke-linejoin:round; stroke-width:2; stroke-opacity:0.1; fill:none\" points=\"\n",
       "  169.121,466.577 2352.76,466.577 \n",
       "  \"/>\n",
       "<polyline clip-path=\"url(#clip362)\" style=\"stroke:#000000; stroke-linecap:butt; stroke-linejoin:round; stroke-width:2; stroke-opacity:0.1; fill:none\" points=\"\n",
       "  169.121,140.197 2352.76,140.197 \n",
       "  \"/>\n",
       "<polyline clip-path=\"url(#clip360)\" style=\"stroke:#000000; stroke-linecap:butt; stroke-linejoin:round; stroke-width:4; stroke-opacity:1; fill:none\" points=\"\n",
       "  169.121,1486.45 169.121,47.2441 \n",
       "  \"/>\n",
       "<polyline clip-path=\"url(#clip360)\" style=\"stroke:#000000; stroke-linecap:butt; stroke-linejoin:round; stroke-width:4; stroke-opacity:1; fill:none\" points=\"\n",
       "  169.121,1445.72 188.019,1445.72 \n",
       "  \"/>\n",
       "<polyline clip-path=\"url(#clip360)\" style=\"stroke:#000000; stroke-linecap:butt; stroke-linejoin:round; stroke-width:4; stroke-opacity:1; fill:none\" points=\"\n",
       "  169.121,1119.34 188.019,1119.34 \n",
       "  \"/>\n",
       "<polyline clip-path=\"url(#clip360)\" style=\"stroke:#000000; stroke-linecap:butt; stroke-linejoin:round; stroke-width:4; stroke-opacity:1; fill:none\" points=\"\n",
       "  169.121,792.956 188.019,792.956 \n",
       "  \"/>\n",
       "<polyline clip-path=\"url(#clip360)\" style=\"stroke:#000000; stroke-linecap:butt; stroke-linejoin:round; stroke-width:4; stroke-opacity:1; fill:none\" points=\"\n",
       "  169.121,466.577 188.019,466.577 \n",
       "  \"/>\n",
       "<polyline clip-path=\"url(#clip360)\" style=\"stroke:#000000; stroke-linecap:butt; stroke-linejoin:round; stroke-width:4; stroke-opacity:1; fill:none\" points=\"\n",
       "  169.121,140.197 188.019,140.197 \n",
       "  \"/>\n",
       "<path clip-path=\"url(#clip360)\" d=\"M121.177 1431.51 Q117.566 1431.51 115.737 1435.08 Q113.932 1438.62 113.932 1445.75 Q113.932 1452.86 115.737 1456.42 Q117.566 1459.96 121.177 1459.96 Q124.811 1459.96 126.617 1456.42 Q128.445 1452.86 128.445 1445.75 Q128.445 1438.62 126.617 1435.08 Q124.811 1431.51 121.177 1431.51 M121.177 1427.81 Q126.987 1427.81 130.043 1432.42 Q133.121 1437 133.121 1445.75 Q133.121 1454.48 130.043 1459.08 Q126.987 1463.67 121.177 1463.67 Q115.367 1463.67 112.288 1459.08 Q109.233 1454.48 109.233 1445.75 Q109.233 1437 112.288 1432.42 Q115.367 1427.81 121.177 1427.81 Z\" fill=\"#000000\" fill-rule=\"evenodd\" fill-opacity=\"1\" /><path clip-path=\"url(#clip360)\" d=\"M86.0382 1132.68 L102.358 1132.68 L102.358 1136.62 L80.4133 1136.62 L80.4133 1132.68 Q83.0753 1129.93 87.6586 1125.3 Q92.2651 1120.64 93.4456 1119.3 Q95.691 1116.78 96.5706 1115.04 Q97.4734 1113.28 97.4734 1111.59 Q97.4734 1108.84 95.5289 1107.1 Q93.6076 1105.37 90.5058 1105.37 Q88.3067 1105.37 85.8531 1106.13 Q83.4225 1106.89 80.6447 1108.44 L80.6447 1103.72 Q83.4688 1102.59 85.9225 1102.01 Q88.3762 1101.43 90.4132 1101.43 Q95.7836 1101.43 98.978 1104.12 Q102.172 1106.8 102.172 1111.29 Q102.172 1113.42 101.362 1115.34 Q100.575 1117.24 98.4687 1119.83 Q97.89 1120.5 94.7882 1123.72 Q91.6864 1126.92 86.0382 1132.68 Z\" fill=\"#000000\" fill-rule=\"evenodd\" fill-opacity=\"1\" /><path clip-path=\"url(#clip360)\" d=\"M112.219 1102.06 L130.575 1102.06 L130.575 1105.99 L116.501 1105.99 L116.501 1114.46 Q117.52 1114.12 118.538 1113.95 Q119.557 1113.77 120.575 1113.77 Q126.362 1113.77 129.742 1116.94 Q133.121 1120.11 133.121 1125.53 Q133.121 1131.11 129.649 1134.21 Q126.177 1137.29 119.857 1137.29 Q117.682 1137.29 115.413 1136.92 Q113.168 1136.55 110.76 1135.81 L110.76 1131.11 Q112.844 1132.24 115.066 1132.8 Q117.288 1133.35 119.765 1133.35 Q123.77 1133.35 126.107 1131.25 Q128.445 1129.14 128.445 1125.53 Q128.445 1121.92 126.107 1119.81 Q123.77 1117.7 119.765 1117.7 Q117.89 1117.7 116.015 1118.12 Q114.163 1118.54 112.219 1119.42 L112.219 1102.06 Z\" fill=\"#000000\" fill-rule=\"evenodd\" fill-opacity=\"1\" /><path clip-path=\"url(#clip360)\" d=\"M81.0614 775.676 L99.4178 775.676 L99.4178 779.612 L85.3438 779.612 L85.3438 788.084 Q86.3623 787.736 87.3808 787.574 Q88.3993 787.389 89.4178 787.389 Q95.2049 787.389 98.5845 790.561 Q101.964 793.732 101.964 799.148 Q101.964 804.727 98.4919 807.829 Q95.0197 810.908 88.7003 810.908 Q86.5243 810.908 84.2558 810.537 Q82.0105 810.167 79.6031 809.426 L79.6031 804.727 Q81.6864 805.861 83.9086 806.417 Q86.1308 806.972 88.6077 806.972 Q92.6123 806.972 94.9502 804.866 Q97.2882 802.76 97.2882 799.148 Q97.2882 795.537 94.9502 793.431 Q92.6123 791.324 88.6077 791.324 Q86.7327 791.324 84.8577 791.741 Q83.0058 792.158 81.0614 793.037 L81.0614 775.676 Z\" fill=\"#000000\" fill-rule=\"evenodd\" fill-opacity=\"1\" /><path clip-path=\"url(#clip360)\" d=\"M121.177 778.755 Q117.566 778.755 115.737 782.32 Q113.932 785.861 113.932 792.991 Q113.932 800.098 115.737 803.662 Q117.566 807.204 121.177 807.204 Q124.811 807.204 126.617 803.662 Q128.445 800.098 128.445 792.991 Q128.445 785.861 126.617 782.32 Q124.811 778.755 121.177 778.755 M121.177 775.051 Q126.987 775.051 130.043 779.658 Q133.121 784.241 133.121 792.991 Q133.121 801.718 130.043 806.324 Q126.987 810.908 121.177 810.908 Q115.367 810.908 112.288 806.324 Q109.233 801.718 109.233 792.991 Q109.233 784.241 112.288 779.658 Q115.367 775.051 121.177 775.051 Z\" fill=\"#000000\" fill-rule=\"evenodd\" fill-opacity=\"1\" /><path clip-path=\"url(#clip360)\" d=\"M80.8299 449.297 L103.052 449.297 L103.052 451.287 L90.5058 483.857 L85.6216 483.857 L97.4271 453.232 L80.8299 453.232 L80.8299 449.297 Z\" fill=\"#000000\" fill-rule=\"evenodd\" fill-opacity=\"1\" /><path clip-path=\"url(#clip360)\" d=\"M112.219 449.297 L130.575 449.297 L130.575 453.232 L116.501 453.232 L116.501 461.704 Q117.52 461.357 118.538 461.195 Q119.557 461.01 120.575 461.01 Q126.362 461.01 129.742 464.181 Q133.121 467.352 133.121 472.769 Q133.121 478.347 129.649 481.449 Q126.177 484.528 119.857 484.528 Q117.682 484.528 115.413 484.158 Q113.168 483.787 110.76 483.047 L110.76 478.347 Q112.844 479.482 115.066 480.037 Q117.288 480.593 119.765 480.593 Q123.77 480.593 126.107 478.486 Q128.445 476.38 128.445 472.769 Q128.445 469.158 126.107 467.051 Q123.77 464.945 119.765 464.945 Q117.89 464.945 116.015 465.361 Q114.163 465.778 112.219 466.658 L112.219 449.297 Z\" fill=\"#000000\" fill-rule=\"evenodd\" fill-opacity=\"1\" /><path clip-path=\"url(#clip360)\" d=\"M51.6634 153.542 L59.3023 153.542 L59.3023 127.176 L50.9921 128.843 L50.9921 124.584 L59.256 122.917 L63.9319 122.917 L63.9319 153.542 L71.5707 153.542 L71.5707 157.477 L51.6634 157.477 L51.6634 153.542 Z\" fill=\"#000000\" fill-rule=\"evenodd\" fill-opacity=\"1\" /><path clip-path=\"url(#clip360)\" d=\"M91.0151 125.996 Q87.404 125.996 85.5753 129.561 Q83.7697 133.102 83.7697 140.232 Q83.7697 147.338 85.5753 150.903 Q87.404 154.445 91.0151 154.445 Q94.6493 154.445 96.4548 150.903 Q98.2835 147.338 98.2835 140.232 Q98.2835 133.102 96.4548 129.561 Q94.6493 125.996 91.0151 125.996 M91.0151 122.292 Q96.8252 122.292 99.8808 126.898 Q102.959 131.482 102.959 140.232 Q102.959 148.959 99.8808 153.565 Q96.8252 158.148 91.0151 158.148 Q85.2049 158.148 82.1262 153.565 Q79.0707 148.959 79.0707 140.232 Q79.0707 131.482 82.1262 126.898 Q85.2049 122.292 91.0151 122.292 Z\" fill=\"#000000\" fill-rule=\"evenodd\" fill-opacity=\"1\" /><path clip-path=\"url(#clip360)\" d=\"M121.177 125.996 Q117.566 125.996 115.737 129.561 Q113.932 133.102 113.932 140.232 Q113.932 147.338 115.737 150.903 Q117.566 154.445 121.177 154.445 Q124.811 154.445 126.617 150.903 Q128.445 147.338 128.445 140.232 Q128.445 133.102 126.617 129.561 Q124.811 125.996 121.177 125.996 M121.177 122.292 Q126.987 122.292 130.043 126.898 Q133.121 131.482 133.121 140.232 Q133.121 148.959 130.043 153.565 Q126.987 158.148 121.177 158.148 Q115.367 158.148 112.288 153.565 Q109.233 148.959 109.233 140.232 Q109.233 131.482 112.288 126.898 Q115.367 122.292 121.177 122.292 Z\" fill=\"#000000\" fill-rule=\"evenodd\" fill-opacity=\"1\" /><path clip-path=\"url(#clip362)\" d=\"\n",
       "M289.225 1406.55 L289.225 1445.72 L366.962 1445.72 L366.962 1406.55 L289.225 1406.55 L289.225 1406.55  Z\n",
       "  \" fill=\"#009af9\" fill-rule=\"evenodd\" fill-opacity=\"1\"/>\n",
       "<polyline clip-path=\"url(#clip362)\" style=\"stroke:#000000; stroke-linecap:butt; stroke-linejoin:round; stroke-width:4; stroke-opacity:1; fill:none\" points=\"\n",
       "  289.225,1406.55 289.225,1445.72 366.962,1445.72 366.962,1406.55 289.225,1406.55 \n",
       "  \"/>\n",
       "<path clip-path=\"url(#clip362)\" d=\"\n",
       "M366.962 1419.61 L366.962 1445.72 L444.699 1445.72 L444.699 1419.61 L366.962 1419.61 L366.962 1419.61  Z\n",
       "  \" fill=\"#009af9\" fill-rule=\"evenodd\" fill-opacity=\"1\"/>\n",
       "<polyline clip-path=\"url(#clip362)\" style=\"stroke:#000000; stroke-linecap:butt; stroke-linejoin:round; stroke-width:4; stroke-opacity:1; fill:none\" points=\"\n",
       "  366.962,1419.61 366.962,1445.72 444.699,1445.72 444.699,1419.61 366.962,1419.61 \n",
       "  \"/>\n",
       "<path clip-path=\"url(#clip362)\" d=\"\n",
       "M444.699 1445.72 L444.699 1445.72 L522.436 1445.72 L522.436 1445.72 L444.699 1445.72 L444.699 1445.72  Z\n",
       "  \" fill=\"#009af9\" fill-rule=\"evenodd\" fill-opacity=\"1\"/>\n",
       "<polyline clip-path=\"url(#clip362)\" style=\"stroke:#000000; stroke-linecap:butt; stroke-linejoin:round; stroke-width:4; stroke-opacity:1; fill:none\" points=\"\n",
       "  444.699,1445.72 444.699,1445.72 522.436,1445.72 444.699,1445.72 \n",
       "  \"/>\n",
       "<path clip-path=\"url(#clip362)\" d=\"\n",
       "M522.436 1380.44 L522.436 1445.72 L600.173 1445.72 L600.173 1380.44 L522.436 1380.44 L522.436 1380.44  Z\n",
       "  \" fill=\"#009af9\" fill-rule=\"evenodd\" fill-opacity=\"1\"/>\n",
       "<polyline clip-path=\"url(#clip362)\" style=\"stroke:#000000; stroke-linecap:butt; stroke-linejoin:round; stroke-width:4; stroke-opacity:1; fill:none\" points=\"\n",
       "  522.436,1380.44 522.436,1445.72 600.173,1445.72 600.173,1380.44 522.436,1380.44 \n",
       "  \"/>\n",
       "<path clip-path=\"url(#clip362)\" d=\"\n",
       "M600.173 1328.22 L600.173 1445.72 L677.911 1445.72 L677.911 1328.22 L600.173 1328.22 L600.173 1328.22  Z\n",
       "  \" fill=\"#009af9\" fill-rule=\"evenodd\" fill-opacity=\"1\"/>\n",
       "<polyline clip-path=\"url(#clip362)\" style=\"stroke:#000000; stroke-linecap:butt; stroke-linejoin:round; stroke-width:4; stroke-opacity:1; fill:none\" points=\"\n",
       "  600.173,1328.22 600.173,1445.72 677.911,1445.72 677.911,1328.22 600.173,1328.22 \n",
       "  \"/>\n",
       "<path clip-path=\"url(#clip362)\" d=\"\n",
       "M677.911 1341.27 L677.911 1445.72 L755.648 1445.72 L755.648 1341.27 L677.911 1341.27 L677.911 1341.27  Z\n",
       "  \" fill=\"#009af9\" fill-rule=\"evenodd\" fill-opacity=\"1\"/>\n",
       "<polyline clip-path=\"url(#clip362)\" style=\"stroke:#000000; stroke-linecap:butt; stroke-linejoin:round; stroke-width:4; stroke-opacity:1; fill:none\" points=\"\n",
       "  677.911,1341.27 677.911,1445.72 755.648,1445.72 755.648,1341.27 677.911,1341.27 \n",
       "  \"/>\n",
       "<path clip-path=\"url(#clip362)\" d=\"\n",
       "M755.648 1210.72 L755.648 1445.72 L833.385 1445.72 L833.385 1210.72 L755.648 1210.72 L755.648 1210.72  Z\n",
       "  \" fill=\"#009af9\" fill-rule=\"evenodd\" fill-opacity=\"1\"/>\n",
       "<polyline clip-path=\"url(#clip362)\" style=\"stroke:#000000; stroke-linecap:butt; stroke-linejoin:round; stroke-width:4; stroke-opacity:1; fill:none\" points=\"\n",
       "  755.648,1210.72 755.648,1445.72 833.385,1445.72 833.385,1210.72 755.648,1210.72 \n",
       "  \"/>\n",
       "<path clip-path=\"url(#clip362)\" d=\"\n",
       "M833.385 1041 L833.385 1445.72 L911.122 1445.72 L911.122 1041 L833.385 1041 L833.385 1041  Z\n",
       "  \" fill=\"#009af9\" fill-rule=\"evenodd\" fill-opacity=\"1\"/>\n",
       "<polyline clip-path=\"url(#clip362)\" style=\"stroke:#000000; stroke-linecap:butt; stroke-linejoin:round; stroke-width:4; stroke-opacity:1; fill:none\" points=\"\n",
       "  833.385,1041 833.385,1445.72 911.122,1445.72 911.122,1041 833.385,1041 \n",
       "  \"/>\n",
       "<path clip-path=\"url(#clip362)\" d=\"\n",
       "M911.122 701.57 L911.122 1445.72 L988.859 1445.72 L988.859 701.57 L911.122 701.57 L911.122 701.57  Z\n",
       "  \" fill=\"#009af9\" fill-rule=\"evenodd\" fill-opacity=\"1\"/>\n",
       "<polyline clip-path=\"url(#clip362)\" style=\"stroke:#000000; stroke-linecap:butt; stroke-linejoin:round; stroke-width:4; stroke-opacity:1; fill:none\" points=\"\n",
       "  911.122,701.57 911.122,1445.72 988.859,1445.72 988.859,701.57 911.122,701.57 \n",
       "  \"/>\n",
       "<path clip-path=\"url(#clip362)\" d=\"\n",
       "M988.859 87.9763 L988.859 1445.72 L1066.6 1445.72 L1066.6 87.9763 L988.859 87.9763 L988.859 87.9763  Z\n",
       "  \" fill=\"#009af9\" fill-rule=\"evenodd\" fill-opacity=\"1\"/>\n",
       "<polyline clip-path=\"url(#clip362)\" style=\"stroke:#000000; stroke-linecap:butt; stroke-linejoin:round; stroke-width:4; stroke-opacity:1; fill:none\" points=\"\n",
       "  988.859,87.9763 988.859,1445.72 1066.6,1445.72 1066.6,87.9763 988.859,87.9763 \n",
       "  \"/>\n",
       "<path clip-path=\"url(#clip362)\" d=\"\n",
       "M1066.6 231.583 L1066.6 1445.72 L1144.33 1445.72 L1144.33 231.583 L1066.6 231.583 L1066.6 231.583  Z\n",
       "  \" fill=\"#009af9\" fill-rule=\"evenodd\" fill-opacity=\"1\"/>\n",
       "<polyline clip-path=\"url(#clip362)\" style=\"stroke:#000000; stroke-linecap:butt; stroke-linejoin:round; stroke-width:4; stroke-opacity:1; fill:none\" points=\"\n",
       "  1066.6,231.583 1066.6,1445.72 1144.33,1445.72 1144.33,231.583 1066.6,231.583 \n",
       "  \"/>\n",
       "<path clip-path=\"url(#clip362)\" d=\"\n",
       "M1144.33 662.404 L1144.33 1445.72 L1222.07 1445.72 L1222.07 662.404 L1144.33 662.404 L1144.33 662.404  Z\n",
       "  \" fill=\"#009af9\" fill-rule=\"evenodd\" fill-opacity=\"1\"/>\n",
       "<polyline clip-path=\"url(#clip362)\" style=\"stroke:#000000; stroke-linecap:butt; stroke-linejoin:round; stroke-width:4; stroke-opacity:1; fill:none\" points=\"\n",
       "  1144.33,662.404 1144.33,1445.72 1222.07,1445.72 1222.07,662.404 1144.33,662.404 \n",
       "  \"/>\n",
       "<path clip-path=\"url(#clip362)\" d=\"\n",
       "M1222.07 845.177 L1222.07 1445.72 L1299.81 1445.72 L1299.81 845.177 L1222.07 845.177 L1222.07 845.177  Z\n",
       "  \" fill=\"#009af9\" fill-rule=\"evenodd\" fill-opacity=\"1\"/>\n",
       "<polyline clip-path=\"url(#clip362)\" style=\"stroke:#000000; stroke-linecap:butt; stroke-linejoin:round; stroke-width:4; stroke-opacity:1; fill:none\" points=\"\n",
       "  1222.07,845.177 1222.07,1445.72 1299.81,1445.72 1299.81,845.177 1222.07,845.177 \n",
       "  \"/>\n",
       "<path clip-path=\"url(#clip362)\" d=\"\n",
       "M1299.81 1132.39 L1299.81 1445.72 L1377.54 1445.72 L1377.54 1132.39 L1299.81 1132.39 L1299.81 1132.39  Z\n",
       "  \" fill=\"#009af9\" fill-rule=\"evenodd\" fill-opacity=\"1\"/>\n",
       "<polyline clip-path=\"url(#clip362)\" style=\"stroke:#000000; stroke-linecap:butt; stroke-linejoin:round; stroke-width:4; stroke-opacity:1; fill:none\" points=\"\n",
       "  1299.81,1132.39 1299.81,1445.72 1377.54,1445.72 1377.54,1132.39 1299.81,1132.39 \n",
       "  \"/>\n",
       "<path clip-path=\"url(#clip362)\" d=\"\n",
       "M1377.54 1249.89 L1377.54 1445.72 L1455.28 1445.72 L1455.28 1249.89 L1377.54 1249.89 L1377.54 1249.89  Z\n",
       "  \" fill=\"#009af9\" fill-rule=\"evenodd\" fill-opacity=\"1\"/>\n",
       "<polyline clip-path=\"url(#clip362)\" style=\"stroke:#000000; stroke-linecap:butt; stroke-linejoin:round; stroke-width:4; stroke-opacity:1; fill:none\" points=\"\n",
       "  1377.54,1249.89 1377.54,1445.72 1455.28,1445.72 1455.28,1249.89 1377.54,1249.89 \n",
       "  \"/>\n",
       "<path clip-path=\"url(#clip362)\" d=\"\n",
       "M1455.28 1328.22 L1455.28 1445.72 L1533.02 1445.72 L1533.02 1328.22 L1455.28 1328.22 L1455.28 1328.22  Z\n",
       "  \" fill=\"#009af9\" fill-rule=\"evenodd\" fill-opacity=\"1\"/>\n",
       "<polyline clip-path=\"url(#clip362)\" style=\"stroke:#000000; stroke-linecap:butt; stroke-linejoin:round; stroke-width:4; stroke-opacity:1; fill:none\" points=\"\n",
       "  1455.28,1328.22 1455.28,1445.72 1533.02,1445.72 1533.02,1328.22 1455.28,1328.22 \n",
       "  \"/>\n",
       "<path clip-path=\"url(#clip362)\" d=\"\n",
       "M1533.02 1354.33 L1533.02 1445.72 L1610.76 1445.72 L1610.76 1354.33 L1533.02 1354.33 L1533.02 1354.33  Z\n",
       "  \" fill=\"#009af9\" fill-rule=\"evenodd\" fill-opacity=\"1\"/>\n",
       "<polyline clip-path=\"url(#clip362)\" style=\"stroke:#000000; stroke-linecap:butt; stroke-linejoin:round; stroke-width:4; stroke-opacity:1; fill:none\" points=\"\n",
       "  1533.02,1354.33 1533.02,1445.72 1610.76,1445.72 1610.76,1354.33 1533.02,1354.33 \n",
       "  \"/>\n",
       "<path clip-path=\"url(#clip362)\" d=\"\n",
       "M1610.76 1419.61 L1610.76 1445.72 L1688.49 1445.72 L1688.49 1419.61 L1610.76 1419.61 L1610.76 1419.61  Z\n",
       "  \" fill=\"#009af9\" fill-rule=\"evenodd\" fill-opacity=\"1\"/>\n",
       "<polyline clip-path=\"url(#clip362)\" style=\"stroke:#000000; stroke-linecap:butt; stroke-linejoin:round; stroke-width:4; stroke-opacity:1; fill:none\" points=\"\n",
       "  1610.76,1419.61 1610.76,1445.72 1688.49,1445.72 1688.49,1419.61 1610.76,1419.61 \n",
       "  \"/>\n",
       "<path clip-path=\"url(#clip362)\" d=\"\n",
       "M1688.49 1393.49 L1688.49 1445.72 L1766.23 1445.72 L1766.23 1393.49 L1688.49 1393.49 L1688.49 1393.49  Z\n",
       "  \" fill=\"#009af9\" fill-rule=\"evenodd\" fill-opacity=\"1\"/>\n",
       "<polyline clip-path=\"url(#clip362)\" style=\"stroke:#000000; stroke-linecap:butt; stroke-linejoin:round; stroke-width:4; stroke-opacity:1; fill:none\" points=\"\n",
       "  1688.49,1393.49 1688.49,1445.72 1766.23,1445.72 1766.23,1393.49 1688.49,1393.49 \n",
       "  \"/>\n",
       "<path clip-path=\"url(#clip362)\" d=\"\n",
       "M1766.23 1445.72 L1766.23 1445.72 L1843.97 1445.72 L1843.97 1445.72 L1766.23 1445.72 L1766.23 1445.72  Z\n",
       "  \" fill=\"#009af9\" fill-rule=\"evenodd\" fill-opacity=\"1\"/>\n",
       "<polyline clip-path=\"url(#clip362)\" style=\"stroke:#000000; stroke-linecap:butt; stroke-linejoin:round; stroke-width:4; stroke-opacity:1; fill:none\" points=\"\n",
       "  1766.23,1445.72 1766.23,1445.72 1843.97,1445.72 1766.23,1445.72 \n",
       "  \"/>\n",
       "<path clip-path=\"url(#clip362)\" d=\"\n",
       "M1843.97 1419.61 L1843.97 1445.72 L1921.7 1445.72 L1921.7 1419.61 L1843.97 1419.61 L1843.97 1419.61  Z\n",
       "  \" fill=\"#009af9\" fill-rule=\"evenodd\" fill-opacity=\"1\"/>\n",
       "<polyline clip-path=\"url(#clip362)\" style=\"stroke:#000000; stroke-linecap:butt; stroke-linejoin:round; stroke-width:4; stroke-opacity:1; fill:none\" points=\"\n",
       "  1843.97,1419.61 1843.97,1445.72 1921.7,1445.72 1921.7,1419.61 1843.97,1419.61 \n",
       "  \"/>\n",
       "<path clip-path=\"url(#clip362)\" d=\"\n",
       "M1921.7 1445.72 L1921.7 1445.72 L1999.44 1445.72 L1999.44 1445.72 L1921.7 1445.72 L1921.7 1445.72  Z\n",
       "  \" fill=\"#009af9\" fill-rule=\"evenodd\" fill-opacity=\"1\"/>\n",
       "<polyline clip-path=\"url(#clip362)\" style=\"stroke:#000000; stroke-linecap:butt; stroke-linejoin:round; stroke-width:4; stroke-opacity:1; fill:none\" points=\"\n",
       "  1921.7,1445.72 1921.7,1445.72 1999.44,1445.72 1921.7,1445.72 \n",
       "  \"/>\n",
       "<path clip-path=\"url(#clip362)\" d=\"\n",
       "M1999.44 1445.72 L1999.44 1445.72 L2077.18 1445.72 L2077.18 1445.72 L1999.44 1445.72 L1999.44 1445.72  Z\n",
       "  \" fill=\"#009af9\" fill-rule=\"evenodd\" fill-opacity=\"1\"/>\n",
       "<polyline clip-path=\"url(#clip362)\" style=\"stroke:#000000; stroke-linecap:butt; stroke-linejoin:round; stroke-width:4; stroke-opacity:1; fill:none\" points=\"\n",
       "  1999.44,1445.72 1999.44,1445.72 2077.18,1445.72 1999.44,1445.72 \n",
       "  \"/>\n",
       "<path clip-path=\"url(#clip362)\" d=\"\n",
       "M2077.18 1445.72 L2077.18 1445.72 L2154.92 1445.72 L2154.92 1445.72 L2077.18 1445.72 L2077.18 1445.72  Z\n",
       "  \" fill=\"#009af9\" fill-rule=\"evenodd\" fill-opacity=\"1\"/>\n",
       "<polyline clip-path=\"url(#clip362)\" style=\"stroke:#000000; stroke-linecap:butt; stroke-linejoin:round; stroke-width:4; stroke-opacity:1; fill:none\" points=\"\n",
       "  2077.18,1445.72 2077.18,1445.72 2154.92,1445.72 2077.18,1445.72 \n",
       "  \"/>\n",
       "<path clip-path=\"url(#clip362)\" d=\"\n",
       "M2154.92 1432.66 L2154.92 1445.72 L2232.65 1445.72 L2232.65 1432.66 L2154.92 1432.66 L2154.92 1432.66  Z\n",
       "  \" fill=\"#009af9\" fill-rule=\"evenodd\" fill-opacity=\"1\"/>\n",
       "<polyline clip-path=\"url(#clip362)\" style=\"stroke:#000000; stroke-linecap:butt; stroke-linejoin:round; stroke-width:4; stroke-opacity:1; fill:none\" points=\"\n",
       "  2154.92,1432.66 2154.92,1445.72 2232.65,1445.72 2232.65,1432.66 2154.92,1432.66 \n",
       "  \"/>\n",
       "<circle clip-path=\"url(#clip362)\" style=\"fill:#009af9; stroke:none; fill-opacity:0\" cx=\"328.094\" cy=\"1406.55\" r=\"2\"/>\n",
       "<circle clip-path=\"url(#clip362)\" style=\"fill:#009af9; stroke:none; fill-opacity:0\" cx=\"405.831\" cy=\"1419.61\" r=\"2\"/>\n",
       "<circle clip-path=\"url(#clip362)\" style=\"fill:#009af9; stroke:none; fill-opacity:0\" cx=\"483.568\" cy=\"1445.72\" r=\"2\"/>\n",
       "<circle clip-path=\"url(#clip362)\" style=\"fill:#009af9; stroke:none; fill-opacity:0\" cx=\"561.305\" cy=\"1380.44\" r=\"2\"/>\n",
       "<circle clip-path=\"url(#clip362)\" style=\"fill:#009af9; stroke:none; fill-opacity:0\" cx=\"639.042\" cy=\"1328.22\" r=\"2\"/>\n",
       "<circle clip-path=\"url(#clip362)\" style=\"fill:#009af9; stroke:none; fill-opacity:0\" cx=\"716.779\" cy=\"1341.27\" r=\"2\"/>\n",
       "<circle clip-path=\"url(#clip362)\" style=\"fill:#009af9; stroke:none; fill-opacity:0\" cx=\"794.516\" cy=\"1210.72\" r=\"2\"/>\n",
       "<circle clip-path=\"url(#clip362)\" style=\"fill:#009af9; stroke:none; fill-opacity:0\" cx=\"872.253\" cy=\"1041\" r=\"2\"/>\n",
       "<circle clip-path=\"url(#clip362)\" style=\"fill:#009af9; stroke:none; fill-opacity:0\" cx=\"949.99\" cy=\"701.57\" r=\"2\"/>\n",
       "<circle clip-path=\"url(#clip362)\" style=\"fill:#009af9; stroke:none; fill-opacity:0\" cx=\"1027.73\" cy=\"87.9763\" r=\"2\"/>\n",
       "<circle clip-path=\"url(#clip362)\" style=\"fill:#009af9; stroke:none; fill-opacity:0\" cx=\"1105.46\" cy=\"231.583\" r=\"2\"/>\n",
       "<circle clip-path=\"url(#clip362)\" style=\"fill:#009af9; stroke:none; fill-opacity:0\" cx=\"1183.2\" cy=\"662.404\" r=\"2\"/>\n",
       "<circle clip-path=\"url(#clip362)\" style=\"fill:#009af9; stroke:none; fill-opacity:0\" cx=\"1260.94\" cy=\"845.177\" r=\"2\"/>\n",
       "<circle clip-path=\"url(#clip362)\" style=\"fill:#009af9; stroke:none; fill-opacity:0\" cx=\"1338.68\" cy=\"1132.39\" r=\"2\"/>\n",
       "<circle clip-path=\"url(#clip362)\" style=\"fill:#009af9; stroke:none; fill-opacity:0\" cx=\"1416.41\" cy=\"1249.89\" r=\"2\"/>\n",
       "<circle clip-path=\"url(#clip362)\" style=\"fill:#009af9; stroke:none; fill-opacity:0\" cx=\"1494.15\" cy=\"1328.22\" r=\"2\"/>\n",
       "<circle clip-path=\"url(#clip362)\" style=\"fill:#009af9; stroke:none; fill-opacity:0\" cx=\"1571.89\" cy=\"1354.33\" r=\"2\"/>\n",
       "<circle clip-path=\"url(#clip362)\" style=\"fill:#009af9; stroke:none; fill-opacity:0\" cx=\"1649.62\" cy=\"1419.61\" r=\"2\"/>\n",
       "<circle clip-path=\"url(#clip362)\" style=\"fill:#009af9; stroke:none; fill-opacity:0\" cx=\"1727.36\" cy=\"1393.49\" r=\"2\"/>\n",
       "<circle clip-path=\"url(#clip362)\" style=\"fill:#009af9; stroke:none; fill-opacity:0\" cx=\"1805.1\" cy=\"1445.72\" r=\"2\"/>\n",
       "<circle clip-path=\"url(#clip362)\" style=\"fill:#009af9; stroke:none; fill-opacity:0\" cx=\"1882.84\" cy=\"1419.61\" r=\"2\"/>\n",
       "<circle clip-path=\"url(#clip362)\" style=\"fill:#009af9; stroke:none; fill-opacity:0\" cx=\"1960.57\" cy=\"1445.72\" r=\"2\"/>\n",
       "<circle clip-path=\"url(#clip362)\" style=\"fill:#009af9; stroke:none; fill-opacity:0\" cx=\"2038.31\" cy=\"1445.72\" r=\"2\"/>\n",
       "<circle clip-path=\"url(#clip362)\" style=\"fill:#009af9; stroke:none; fill-opacity:0\" cx=\"2116.05\" cy=\"1445.72\" r=\"2\"/>\n",
       "<circle clip-path=\"url(#clip362)\" style=\"fill:#009af9; stroke:none; fill-opacity:0\" cx=\"2193.78\" cy=\"1432.66\" r=\"2\"/>\n",
       "<path clip-path=\"url(#clip360)\" d=\"\n",
       "M1984.91 198.898 L2279.97 198.898 L2279.97 95.2176 L1984.91 95.2176  Z\n",
       "  \" fill=\"#ffffff\" fill-rule=\"evenodd\" fill-opacity=\"1\"/>\n",
       "<polyline clip-path=\"url(#clip360)\" style=\"stroke:#000000; stroke-linecap:butt; stroke-linejoin:round; stroke-width:4; stroke-opacity:1; fill:none\" points=\"\n",
       "  1984.91,198.898 2279.97,198.898 2279.97,95.2176 1984.91,95.2176 1984.91,198.898 \n",
       "  \"/>\n",
       "<path clip-path=\"url(#clip360)\" d=\"\n",
       "M2009.17 167.794 L2154.75 167.794 L2154.75 126.322 L2009.17 126.322 L2009.17 167.794  Z\n",
       "  \" fill=\"#009af9\" fill-rule=\"evenodd\" fill-opacity=\"1\"/>\n",
       "<polyline clip-path=\"url(#clip360)\" style=\"stroke:#000000; stroke-linecap:butt; stroke-linejoin:round; stroke-width:4; stroke-opacity:1; fill:none\" points=\"\n",
       "  2009.17,167.794 2154.75,167.794 2154.75,126.322 2009.17,126.322 2009.17,167.794 \n",
       "  \"/>\n",
       "<path clip-path=\"url(#clip360)\" d=\"M2192.86 166.745 Q2191.05 171.375 2189.34 172.787 Q2187.62 174.199 2184.75 174.199 L2181.35 174.199 L2181.35 170.634 L2183.85 170.634 Q2185.61 170.634 2186.58 169.8 Q2187.55 168.967 2188.73 165.865 L2189.5 163.921 L2179.01 138.412 L2183.53 138.412 L2191.63 158.689 L2199.73 138.412 L2204.24 138.412 L2192.86 166.745 Z\" fill=\"#000000\" fill-rule=\"evenodd\" fill-opacity=\"1\" /><path clip-path=\"url(#clip360)\" d=\"M2211.54 160.402 L2219.17 160.402 L2219.17 134.037 L2210.86 135.703 L2210.86 131.444 L2219.13 129.778 L2223.8 129.778 L2223.8 160.402 L2231.44 160.402 L2231.44 164.338 L2211.54 164.338 L2211.54 160.402 Z\" fill=\"#000000\" fill-rule=\"evenodd\" fill-opacity=\"1\" /></svg>\n"
      ]
     },
     "execution_count": 45,
     "metadata": {},
     "output_type": "execute_result"
    }
   ],
   "source": [
    "using Distributions\n",
    "\n",
    "function plothistogram(distribution, n)\n",
    "    ϵ = rand(distribution, n)  # n draws from distribution\n",
    "    histogram(ϵ)\n",
    "end\n",
    "\n",
    "lp = Laplace()\n",
    "plothistogram(lp, 500)"
   ]
  },
  {
   "cell_type": "markdown",
   "id": "ca7fba14",
   "metadata": {},
   "source": [
    "Let’s have a casual discussion of how all this works while leaving technical details for later in the lectures.\n",
    "\n",
    "First, `lp = Laplace()` creates **an instance of a data type** defined\n",
    "in the `Distributions` module that represents the Laplace distribution.\n",
    "\n",
    "The name `lp` is bound to this value.\n",
    "\n",
    "When we make the function call `plothistogram(lp, 500)` the code in the body\n",
    "of the function `plothistogram` is run with\n",
    "\n",
    "- the name `distribution` bound to the same value as `lp`  \n",
    "- the name `n` bound to the integer `500`  "
   ]
  },
  {
   "cell_type": "markdown",
   "id": "1fe6423d",
   "metadata": {},
   "source": [
    "#### A Mystery\n",
    "\n",
    "Now consider the function call `rand(distribution, n)`.\n",
    "\n",
    "This looks like something of a mystery.\n",
    "\n",
    "The function `rand()` is defined in the base library such that `rand(n)` returns `n` uniform random variables on $ [0, 1) $."
   ]
  },
  {
   "cell_type": "code",
   "execution_count": 46,
   "id": "0b9c56e8",
   "metadata": {
    "hide-output": false
   },
   "outputs": [
    {
     "data": {
      "text/plain": [
       "3-element Vector{Float64}:\n",
       " 0.020434608725004688\n",
       " 0.3384708253167099\n",
       " 0.7681655638871215"
      ]
     },
     "execution_count": 46,
     "metadata": {},
     "output_type": "execute_result"
    },
    {
     "name": "stderr",
     "output_type": "stream",
     "text": [
      "WARNING: both Plots and LinearAlgebra export \"rotate!\"; uses of it in module Main must be qualified\n"
     ]
    }
   ],
   "source": [
    "rand(3)"
   ]
  },
  {
   "cell_type": "markdown",
   "id": "9203348b",
   "metadata": {},
   "source": [
    "On the other hand, `distribution` points to a data type representing the Laplace distribution that has been defined in a third party package.\n",
    "\n",
    "So how can it be that `rand()` is able to take this kind of value as an\n",
    "argument and return the output that we want?\n",
    "\n",
    "The answer in a nutshell is **multiple dispatch**, which Julia uses to implement **generic programming**.\n",
    "\n",
    "This refers to the idea that **functions in Julia can have different behavior\n",
    "depending on the particular arguments that they’re passed.**\n",
    "\n",
    "Hence in Julia we can take an existing function and give it a new behavior by defining how it acts on a new type of value.\n",
    "\n",
    "The compiler knows which function definition to apply to in a given setting by looking at the types of the values the function is called on.\n",
    "\n",
    "In Julia these alternative versions of a function are called **methods**."
   ]
  },
  {
   "cell_type": "markdown",
   "id": "71ff7fea",
   "metadata": {},
   "source": [
    "## Example: Variations on Fixed Points\n",
    "\n",
    "Take a mapping $ f : X \\to X $ for some set $ X $.\n",
    "\n",
    "If there exists an $ x^* \\in X $ such that $ f(x^*) = x^* $, then $ x^* $: is called a “fixed point” of $ f $.\n",
    "\n",
    "For our second example, we will start with a simple example of determining fixed points of a function.\n",
    "\n",
    "The goal is to start with code in a MATLAB style, and move towards a more **Julian** style with high mathematical clarity."
   ]
  },
  {
   "cell_type": "markdown",
   "id": "6e9db18e",
   "metadata": {},
   "source": [
    "### Fixed Point Maps\n",
    "\n",
    "Consider the simple equation, where the scalars $ p,\\beta $ are given, and  $ v $ is the scalar we wish to solve for\n",
    "\n",
    "$$\n",
    "v = p + \\beta v\n",
    "$$\n",
    "\n",
    "Of course, in this simple example, with parameter restrictions this can be solved as $ v = p/(1 - \\beta) $.\n",
    "\n",
    "Rearrange the equation in terms of a map $ f(x) : \\mathbb R \\to \\mathbb R $\n",
    "\n",
    "\n",
    "<a id='equation-fixed-point-map'></a>\n",
    "$$\n",
    "v = f(v) \\tag{2.1}\n",
    "$$\n",
    "\n",
    "where\n",
    "\n",
    "$$\n",
    "f(v) := p + \\beta v\n",
    "$$\n",
    "\n",
    "Therefore, a fixed point $ v^* $ of $ f(\\cdot) $ is a solution to the above problem."
   ]
  },
  {
   "cell_type": "markdown",
   "id": "73d6a6d7",
   "metadata": {},
   "source": [
    "### While Loops\n",
    "\n",
    "One approach to finding a fixed point of [(2.1)](#equation-fixed-point-map) is to start with an initial value, and iterate the map\n",
    "\n",
    "\n",
    "<a id='equation-fixed-point-naive'></a>\n",
    "$$\n",
    "v^{n+1} = f(v^n) \\tag{2.2}\n",
    "$$\n",
    "\n",
    "For this exact `f` function,  we can see the convergence to $ v = p/(1-\\beta) $ when $ |\\beta| < 1 $ by iterating backwards and taking $ n\\to\\infty $\n",
    "\n",
    "$$\n",
    "v^{n+1} = p + \\beta v^n = p + \\beta p + \\beta^2 v^{n-1} = p \\sum_{i=0}^{n-1} \\beta^i + \\beta^n v_0\n",
    "$$\n",
    "\n",
    "To implement the iteration in [(2.2)](#equation-fixed-point-naive), we start by solving this problem with a `while` loop.\n",
    "\n",
    "The syntax for the while loop contains no surprises, and looks nearly identical to a MATLAB implementation."
   ]
  },
  {
   "cell_type": "code",
   "execution_count": 49,
   "id": "a57d71df",
   "metadata": {
    "hide-output": false
   },
   "outputs": [
    {
     "name": "stdout",
     "output_type": "stream",
     "text": [
      "Fixed point = 9.999999173706609, and |f(x) - x| = 9.181037796679448e-8 in 155 iterations\n"
     ]
    }
   ],
   "source": [
    "# poor style\n",
    "p = 1.0 # note 1.0 rather than 1\n",
    "β = 0.9\n",
    "maxiter = 1000\n",
    "tolerance = 1.0E-7\n",
    "v_iv = 0.8 # initial condition\n",
    "\n",
    "# setup the algorithm\n",
    "v_old = v_iv\n",
    "normdiff = Inf\n",
    "iter = 1\n",
    "while normdiff > tolerance && iter <= maxiter\n",
    "    v_new = p + β * v_old # the f(v) map\n",
    "    normdiff = norm(v_new - v_old)\n",
    "\n",
    "    # replace and continue\n",
    "    v_old = v_new\n",
    "    iter = iter + 1\n",
    "end\n",
    "println(\"Fixed point = $v_old, and |f(x) - x| = $normdiff in $iter iterations\")"
   ]
  },
  {
   "cell_type": "markdown",
   "id": "7a9df8e5",
   "metadata": {},
   "source": [
    "The `while` loop, like the `for` loop should only be used directly in Jupyter or the inside of a function.\n",
    "\n",
    "Here, we have used the `norm` function (from the `LinearAlgebra` base library) to compare the values.\n",
    "\n",
    "The other new function is the `println` with the string interpolation, which splices the value of an expression or variable prefixed by \\$ into a string.\n",
    "\n",
    "An alternative approach is to use a `for` loop, and check for convergence in each iteration."
   ]
  },
  {
   "cell_type": "code",
   "execution_count": 50,
   "id": "d49db22c",
   "metadata": {
    "hide-output": false
   },
   "outputs": [
    {
     "name": "stdout",
     "output_type": "stream",
     "text": [
      "Fixed point = 9.999999081896231, and |f(x) - x| = 9.181037796679448e-8 in 154 iterations\n"
     ]
    }
   ],
   "source": [
    "# setup the algorithm\n",
    "v_iv = 0.8\n",
    "v_old = v_iv\n",
    "normdiff = Inf\n",
    "iter = 1\n",
    "for i in 1:maxiter\n",
    "    v_new = p + β * v_old # the f(v) map\n",
    "    normdiff = norm(v_new - v_old)\n",
    "    if normdiff < tolerance # check convergence\n",
    "        iter = i\n",
    "        break # converged, exit loop\n",
    "    end\n",
    "    # replace and continue\n",
    "    v_old = v_new\n",
    "end\n",
    "println(\"Fixed point = $v_old, and |f(x) - x| = $normdiff in $iter iterations\")"
   ]
  },
  {
   "cell_type": "markdown",
   "id": "a5efa28c",
   "metadata": {},
   "source": [
    "The new feature there is `break` , which leaves a `for` or `while` loop."
   ]
  },
  {
   "cell_type": "markdown",
   "id": "d36952a5",
   "metadata": {},
   "source": [
    "### Using a Function\n",
    "\n",
    "The first problem with this setup is that it depends on being sequentially run – which can be easily remedied with a function."
   ]
  },
  {
   "cell_type": "code",
   "execution_count": 51,
   "id": "a260a661",
   "metadata": {
    "hide-output": false
   },
   "outputs": [
    {
     "name": "stdout",
     "output_type": "stream",
     "text": [
      "Fixed point = 9.999999173706609, and |f(x) - x| = 9.181037796679448e-8 in 155 iterations\n"
     ]
    }
   ],
   "source": [
    "# better, but still poor style\n",
    "function v_fp(β, ρ, v_iv, tolerance, maxiter)\n",
    "    # setup the algorithm\n",
    "    v_old = v_iv\n",
    "    normdiff = Inf\n",
    "    iter = 1\n",
    "    while normdiff > tolerance && iter <= maxiter\n",
    "        v_new = p + β * v_old # the f(v) map\n",
    "        normdiff = norm(v_new - v_old)\n",
    "\n",
    "        # replace and continue\n",
    "        v_old = v_new\n",
    "        iter = iter + 1\n",
    "    end\n",
    "    return (v_old, normdiff, iter) # returns a tuple\n",
    "end\n",
    "\n",
    "# some values\n",
    "p = 1.0 # note 1.0 rather than 1\n",
    "β = 0.9\n",
    "maxiter = 1000\n",
    "tolerance = 1.0E-7\n",
    "v_initial = 0.8 # initial condition\n",
    "\n",
    "v_star, normdiff, iter = v_fp(β, p, v_initial, tolerance, maxiter)\n",
    "println(\"Fixed point = $v_star, and |f(x) - x| = $normdiff in $iter iterations\")"
   ]
  },
  {
   "cell_type": "markdown",
   "id": "f4b968e7",
   "metadata": {},
   "source": [
    "While better, there could still be improvements."
   ]
  },
  {
   "cell_type": "markdown",
   "id": "8358bded",
   "metadata": {},
   "source": [
    "### Passing a Function\n",
    "\n",
    "The chief issue is that the algorithm (finding a fixed point) is reusable and generic, while the function we calculate `p + β * v` is specific to our problem.\n",
    "\n",
    "A key feature of languages like Julia, is the ability to efficiently handle functions passed to other functions."
   ]
  },
  {
   "cell_type": "code",
   "execution_count": 52,
   "id": "bdd5e753",
   "metadata": {
    "hide-output": false
   },
   "outputs": [
    {
     "name": "stdout",
     "output_type": "stream",
     "text": [
      "Fixed point = 9.999999173706609, and |f(x) - x| = 9.181037796679448e-8 in 155 iterations\n"
     ]
    }
   ],
   "source": [
    "# better style\n",
    "function fixedpointmap(f, iv, tolerance, maxiter)\n",
    "    # setup the algorithm\n",
    "    x_old = iv\n",
    "    normdiff = Inf\n",
    "    iter = 1\n",
    "    while normdiff > tolerance && iter <= maxiter\n",
    "        x_new = f(x_old) # use the passed in map\n",
    "        normdiff = norm(x_new - x_old)\n",
    "        x_old = x_new\n",
    "        iter = iter + 1\n",
    "    end\n",
    "    return (x_old, normdiff, iter)\n",
    "end\n",
    "\n",
    "# define a map and parameters\n",
    "p = 1.0\n",
    "β = 0.9\n",
    "f(v) = p + β * v # note that p and β are used in the function!\n",
    "\n",
    "maxiter = 1000\n",
    "tolerance = 1.0E-7\n",
    "v_initial = 0.8 # initial condition\n",
    "\n",
    "v_star, normdiff, iter = fixedpointmap(f, v_initial, tolerance, maxiter)\n",
    "println(\"Fixed point = $v_star, and |f(x) - x| = $normdiff in $iter iterations\")"
   ]
  },
  {
   "cell_type": "markdown",
   "id": "e7f7c591",
   "metadata": {},
   "source": [
    "Much closer, but there are still hidden bugs if the user orders the settings or returns types wrong."
   ]
  },
  {
   "cell_type": "markdown",
   "id": "cf28351c",
   "metadata": {},
   "source": [
    "### Named Arguments and Return Values\n",
    "\n",
    "To enable this, Julia has two features:  named function parameters, and named tuples"
   ]
  },
  {
   "cell_type": "code",
   "execution_count": 74,
   "id": "d39126f1",
   "metadata": {
    "hide-output": false
   },
   "outputs": [
    {
     "name": "stdout",
     "output_type": "stream",
     "text": [
      "Fixed point = 9.999999173706609, and |f(x) - x| = 9.181037796679448e-8 in 155 iterations\n"
     ]
    }
   ],
   "source": [
    "# good style\n",
    "function fixedpointmap(f; iv, tolerance=1E-7, maxiter=1000)\n",
    "    # setup the algorithm\n",
    "    x_old = iv\n",
    "    normdiff = Inf\n",
    "    iter = 1\n",
    "    while normdiff > tolerance && iter <= maxiter\n",
    "        x_new = f(x_old) # use the passed in map\n",
    "        normdiff = norm(x_new - x_old)\n",
    "        x_old = x_new\n",
    "        iter = iter + 1\n",
    "    end\n",
    "    return (value = x_old, normdiff=normdiff, iter=iter) # A named tuple!!!\n",
    "end\n",
    "\n",
    "# define a map and parameters\n",
    "p = 1.0\n",
    "β = 0.9\n",
    "f(v) = p + β * v # note that p and β are used in the function!\n",
    "\n",
    "sol = fixedpointmap(f, iv=0.8) # don't need to pass\n",
    "println(\"Fixed point = $(sol.value), and |f(x) - x| = $(sol.normdiff) in $(sol.iter)\"*\n",
    "        \" iterations\")"
   ]
  },
  {
   "cell_type": "markdown",
   "id": "6851303c",
   "metadata": {},
   "source": [
    "**In this example, all function parameters after the `;` in the list, must be called by name.**\n",
    "\n",
    "Furthermore, a default value may be enabled – so the named parameter `iv` is required while `tolerance` and `maxiter` have default values.\n",
    "\n",
    "**The return type of the function also has named fields, `value, normdiff,` and `iter` – all accessed intuitively using `.`.**\n",
    "\n",
    "To show the flexibilty of this code, we can use it to find a fixed point of the non-linear logistic equation, $ x = f(x) $ where $ f(x) := r x (1-x) $."
   ]
  },
  {
   "cell_type": "code",
   "execution_count": 79,
   "id": "6423a80f",
   "metadata": {
    "hide-output": false
   },
   "outputs": [
    {
     "name": "stdout",
     "output_type": "stream",
     "text": [
      "Fixed point = 0.4999999999999968, and |f(x) - x| = 3.979330237546819e-8 in 7 iterations\n"
     ]
    }
   ],
   "source": [
    "r = 2.0\n",
    "f(x) = r * x * (1 - x)\n",
    "\n",
    "sol, x, y = fixedpointmap(f, iv=0.8)\n",
    "# println(\"Fixed point = $(sol.value), and |f(x) - x| = $(sol.normdiff) in $(sol.iter) iterations\")\n",
    "println(\"Fixed point = $sol, and |f(x) - x| = $(x) in $y iterations\")"
   ]
  },
  {
   "cell_type": "markdown",
   "id": "4bf84d45",
   "metadata": {},
   "source": [
    "### Using a Package\n",
    "\n",
    "But best of all is to avoid writing code altogether."
   ]
  },
  {
   "cell_type": "code",
   "execution_count": 87,
   "id": "e91ef3eb",
   "metadata": {
    "hide-output": false
   },
   "outputs": [
    {
     "name": "stdout",
     "output_type": "stream",
     "text": [
      "Fixed point = [9.999999909587816], and |f(x) - x| = 9.041219328764782e-9 in 176 iterations\n"
     ]
    }
   ],
   "source": [
    "# best style\n",
    "using NLsolve\n",
    "\n",
    "p = 1.0\n",
    "β = 0.9\n",
    "f(v) = p .+ β * v # broadcast the +\n",
    "sol = fixedpoint(f, [0.8]; m=0)\n",
    "# Naive \"Picard\"-style iteration can be achieved by setting m=0\n",
    "println(\"Fixed point = $(sol.zero), and |f(x) - x| = $(norm(f(sol.zero) - sol.zero)) in \" *\n",
    "        \"$(sol.iterations) iterations\")"
   ]
  },
  {
   "cell_type": "markdown",
   "id": "281ea096",
   "metadata": {},
   "source": [
    "The `fixedpoint` function from the `NLsolve.jl` library implements the simple fixed point iteration scheme above.\n",
    "\n",
    "Since the `NLsolve` library only accepts vector based inputs, we needed to make the `f(v)` function broadcast on the `+` sign, and pass in the initial condition as a vector of length 1 with `[0.8]`.\n",
    "\n",
    "While a key benefit of using a package is that the code is clearer, and the implementation is tested, by using an orthogonal library we also enable performance improvements."
   ]
  },
  {
   "cell_type": "code",
   "execution_count": 90,
   "id": "03361eac",
   "metadata": {
    "hide-output": false
   },
   "outputs": [
    {
     "name": "stdout",
     "output_type": "stream",
     "text": [
      "Fixed point = [9.999999999999972], and |f(x) - x| = 3.552713678800501e-15 in 3 iterations\n"
     ]
    }
   ],
   "source": [
    "# best style\n",
    "p = 1.0\n",
    "β = 0.9\n",
    "iv = [0.8]\n",
    "sol = fixedpoint(v -> p .+ β * v, iv)  # m=5\n",
    "println(\"Fixed point = $(sol.zero), and |f(x) - x| = $(norm(f(sol.zero) - sol.zero)) in \" *\n",
    "        \"$(sol.iterations) iterations\")"
   ]
  },
  {
   "cell_type": "markdown",
   "id": "70e10c19",
   "metadata": {},
   "source": [
    "Note that this completes in `3` iterations vs `176` for the naive fixed point iteration algorithm.\n",
    "\n",
    "Since Anderson iteration is doing more calculations in an iteration,  whether it is faster or not would depend on the complexity of the `f` function.\n",
    "\n",
    "But this demonstrates the value of keeping the math separate from the algorithm, since by decoupling the mathematical definition of the fixed point from the implementation in [(2.2)](#equation-fixed-point-naive), we were able to exploit new algorithms for finding a fixed point.\n",
    "\n",
    "The only other change in this function is the move from directly defining `f(v)` and using an **anonymous** function.\n",
    "\n",
    "Similar to anonymous functions in MATLAB, and lambda functions in Python, Julia enables the creation of small functions without any names.\n",
    "\n",
    "The code `v -> p .+ β * v` defines a function of a dummy argument, `v` with the same body as our `f(x)`."
   ]
  },
  {
   "cell_type": "markdown",
   "id": "5053b383",
   "metadata": {},
   "source": [
    "### Composing Packages\n",
    "\n",
    "A key benefit of using Julia is that you can compose various packages, types, and techniques, without making changes to your underlying source.\n",
    "\n",
    "As an example, consider if we want to solve the model with a higher-precision, as floating points cannot be distinguished beyond the machine epsilon for that type (recall that computers approximate real numbers to the nearest binary  of a given precision; the *machine epsilon* is the smallest nonzero magnitude).\n",
    "\n",
    "In Julia, this number can be calculated as"
   ]
  },
  {
   "cell_type": "code",
   "execution_count": null,
   "id": "e10d1abb",
   "metadata": {
    "hide-output": false
   },
   "outputs": [],
   "source": [
    "eps()"
   ]
  },
  {
   "cell_type": "markdown",
   "id": "f8a819cc",
   "metadata": {},
   "source": [
    "For many cases, this is sufficient precision – but consider that in iterative algorithms applied millions of times, those small differences can add up.\n",
    "\n",
    "The only change we will need to our model in order to use a different floating point type is to call the function with an arbitrary precision floating point, `BigFloat`, for the initial value."
   ]
  },
  {
   "cell_type": "code",
   "execution_count": null,
   "id": "d7e760f2",
   "metadata": {
    "hide-output": false
   },
   "outputs": [],
   "source": [
    "# use arbitrary precision floating points\n",
    "p = 1.0\n",
    "β = 0.9\n",
    "iv = [BigFloat(0.8)] # higher precision\n",
    "\n",
    "# otherwise identical\n",
    "sol = fixedpoint(v -> p .+ β * v, iv)\n",
    "println(\"Fixed point = $(sol.zero), and |f(x) - x| = $(norm(f(sol.zero) - sol.zero)) in \" *\n",
    "        \"$(sol.iterations) iterations\")"
   ]
  },
  {
   "cell_type": "markdown",
   "id": "f2522b42",
   "metadata": {},
   "source": [
    "Here, the literal `BigFloat(0.8)` takes the number `0.8` and changes it to an arbitrary precision number.\n",
    "\n",
    "The result is that the residual is now **exactly** `0.0` since it is able to use arbitrary precision in the calculations, and the solution has a finite-precision solution with those parameters."
   ]
  },
  {
   "cell_type": "markdown",
   "id": "90fcfda9",
   "metadata": {},
   "source": [
    "### Multivariate Fixed Point Maps\n",
    "\n",
    "The above example can be extended to multivariate maps without any modifications to the fixed point iteration code.\n",
    "\n",
    "Using our own, homegrown iteration and simply passing in a bivariate map:"
   ]
  },
  {
   "cell_type": "code",
   "execution_count": null,
   "id": "09165e05",
   "metadata": {
    "hide-output": false
   },
   "outputs": [],
   "source": [
    "p = [1.0, 2.0]\n",
    "β = 0.9\n",
    "iv = [0.8, 2.0]\n",
    "f(v) = p .+ β * v # note that p and β are used in the function!\n",
    "\n",
    "sol = fixedpointmap(f, iv = iv, tolerance = 1.0E-8)\n",
    "println(\"Fixed point = $(sol.value), and |f(x) - x| = $(sol.normdiff) in $(sol.iter)\"*\n",
    "\"iterations\")"
   ]
  },
  {
   "cell_type": "markdown",
   "id": "3c2baecd",
   "metadata": {},
   "source": [
    "This also works without any modifications with the `fixedpoint` library function."
   ]
  },
  {
   "cell_type": "code",
   "execution_count": null,
   "id": "20298d4b",
   "metadata": {
    "hide-output": false
   },
   "outputs": [],
   "source": [
    "using NLsolve\n",
    "\n",
    "p = [1.0, 2.0, 0.1]\n",
    "β = 0.9\n",
    "iv =[0.8, 2.0, 51.0]\n",
    "f(v) = p .+ β * v\n",
    "\n",
    "sol = fixedpoint(v -> p .+ β * v, iv)\n",
    "println(\"Fixed point = $(sol.zero), and |f(x) - x| = $(norm(f(sol.zero) - sol.zero)) in \" *\n",
    "        \"$(sol.iterations) iterations\")"
   ]
  },
  {
   "cell_type": "markdown",
   "id": "0a54e0a4",
   "metadata": {},
   "source": [
    "Finally, to demonstrate the importance of composing different libraries, use a `StaticArrays.jl` type, which provides an efficient implementation for small arrays and matrices."
   ]
  },
  {
   "cell_type": "code",
   "execution_count": null,
   "id": "7c5231c1",
   "metadata": {
    "hide-output": false
   },
   "outputs": [],
   "source": [
    "using NLsolve, StaticArrays\n",
    "p = @SVector [1.0, 2.0, 0.1]\n",
    "β = 0.9\n",
    "iv = [0.8, 2.0, 51.0]\n",
    "f(v) = p .+ β * v\n",
    "\n",
    "sol = fixedpoint(v -> p .+ β * v, iv)\n",
    "println(\"Fixed point = $(sol.zero), and |f(x) - x| = $(norm(f(sol.zero) - sol.zero)) in \" *\n",
    "        \"$(sol.iterations) iterations\")"
   ]
  },
  {
   "cell_type": "markdown",
   "id": "ff5832e7",
   "metadata": {},
   "source": [
    "The `@SVector` in front of the `[1.0, 2.0, 0.1]` is a macro for turning a vector literal into a static vector.\n",
    "\n",
    "All macros in Julia are prefixed by `@` in the name, and manipulate the code prior to compilation.\n",
    "\n",
    "We will see a variety of macros, and discuss the “metaprogramming” behind them in a later lecture."
   ]
  },
  {
   "cell_type": "markdown",
   "id": "91972f54",
   "metadata": {},
   "source": [
    "## Exercises\n",
    "\n",
    "\n",
    "<a id='jbe-ex1'></a>"
   ]
  },
  {
   "cell_type": "markdown",
   "id": "746cf90c",
   "metadata": {},
   "source": [
    "### Exercise 1\n",
    "\n",
    "Recall that $ n! $ is read as “$ n $ factorial” and defined as\n",
    "$ n! = n \\times (n - 1) \\times \\cdots \\times 2 \\times 1 $.\n",
    "\n",
    "In Julia you can compute this value with `factorial(n)`.\n",
    "\n",
    "Write your own version of this function, called `factorial2`, using a `for` loop.\n",
    "\n",
    "\n",
    "<a id='jbe-ex2'></a>"
   ]
  },
  {
   "cell_type": "markdown",
   "id": "3f81ee77",
   "metadata": {},
   "source": [
    "### Exercise 2\n",
    "\n",
    "The [binomial random variable](https://en.wikipedia.org/wiki/Binomial_distribution) $ Y \\sim Bin(n, p) $ represents\n",
    "\n",
    "- number of successes in $ n $ binary trials  \n",
    "- each trial succeeds with probability $ p $  \n",
    "\n",
    "\n",
    "Using only `rand()` from the set of Julia’s built-in random number\n",
    "generators (not the `Distributions` package), write a function `binomial_rv` such that `binomial_rv(n, p)` generates one draw of $ Y $.\n",
    "\n",
    "Hint: If $ U $ is uniform on $ (0, 1) $ and $ p \\in (0,1) $, then the expression `U < p` evaluates to `true` with probability $ p $.\n",
    "\n",
    "\n",
    "<a id='jbe-ex3'></a>"
   ]
  },
  {
   "cell_type": "markdown",
   "id": "ccd8a79c",
   "metadata": {},
   "source": [
    "### Exercise 3\n",
    "\n",
    "Compute an approximation to $ \\pi $ using Monte Carlo.\n",
    "\n",
    "For random number generation use only `rand()`.\n",
    "\n",
    "Your hints are as follows:\n",
    "\n",
    "- If $ U $ is a bivariate uniform random variable on the unit square $ (0, 1)^2 $, then the probability that $ U $ lies in a subset $ B $ of $ (0,1)^2 $ is equal to the area of $ B $.  \n",
    "- If $ U_1,\\ldots,U_n $ are iid copies of $ U $, then, as $ n $ gets larger, the fraction that falls in $ B $ converges to the probability of landing in $ B $.  \n",
    "- For a circle, area = π * $ radius^2 $.  \n",
    "\n",
    "\n",
    "\n",
    "<a id='jbe-ex4'></a>"
   ]
  },
  {
   "cell_type": "markdown",
   "id": "4c1f8311",
   "metadata": {},
   "source": [
    "### Exercise 4\n",
    "\n",
    "Write a program that prints one realization of the following random device:\n",
    "\n",
    "- Flip an unbiased coin 10 times.  \n",
    "- If 3 consecutive heads occur one or more times within this sequence, pay one dollar.  \n",
    "- If not, pay nothing.  \n",
    "\n",
    "\n",
    "Once again use only `rand()` as your random number generator.\n",
    "\n",
    "\n",
    "<a id='jbe-ex5'></a>"
   ]
  },
  {
   "cell_type": "markdown",
   "id": "11f116fc",
   "metadata": {},
   "source": [
    "### Exercise 5\n",
    "\n",
    "Simulate and plot the correlated time series\n",
    "\n",
    "$$\n",
    "x_{t+1} = \\alpha \\, x_t + \\epsilon_{t+1}\n",
    "\\quad \\text{where} \\quad\n",
    "x_0 = 0\n",
    "\\quad \\text{and} \\quad t = 0,\\ldots,n\n",
    "$$\n",
    "\n",
    "The sequence of shocks $ \\{\\epsilon_t\\} $ is assumed to be iid and standard normal.\n",
    "\n",
    "Set $ n = 200 $ and $ \\alpha = 0.9 $.\n",
    "\n",
    "\n",
    "<a id='jbe-ex6'></a>"
   ]
  },
  {
   "cell_type": "markdown",
   "id": "ab18b2c3",
   "metadata": {},
   "source": [
    "### Exercise 6\n",
    "\n",
    "Plot three simulated time series, one for each of the cases $ \\alpha = 0 $, $ \\alpha = 0.8 $ and $ \\alpha = 0.98 $.\n",
    "\n",
    "(The figure will illustrate how time series with the same one-step-ahead conditional volatilities, as these three processes have, can have very different unconditional volatilities)\n",
    "\n",
    "\n",
    "<a id='jbe-ex7'></a>"
   ]
  },
  {
   "cell_type": "markdown",
   "id": "dafb0384",
   "metadata": {},
   "source": [
    "### Exercise 7\n",
    "\n",
    "This exercise is more challenging.\n",
    "\n",
    "Take a random walk, starting from $ x_0 = 1 $\n",
    "\n",
    "$$\n",
    "x_{t+1} = \\, \\alpha \\, x_t + \\sigma\\, \\epsilon_{t+1}\n",
    "\\quad \\text{where} \\quad\n",
    "x_0 = 1\n",
    "\\quad \\text{and} \\quad t = 0,\\ldots,t_{\\max}\n",
    "$$\n",
    "\n",
    "- Furthermore, assume that the $ x_{t_{\\max}} = 0 $  (i.e. at $ t_{\\max} $, the value drops to zero, regardless of its current state).  \n",
    "- The sequence of shocks $ \\{\\epsilon_t\\} $ is assumed to be iid and standard normal.  \n",
    "- For a given path $ \\{x_t\\} $ define a **first-passage time** as $ T_a = \\min\\{t\\, |\\, x_t \\leq a\\} $, where by the assumption of the process $ T_a \\leq t_{\\max} $.  \n",
    "\n",
    "\n",
    "Start with $ \\sigma = 0.2, \\alpha = 1.0 $\n",
    "\n",
    "1. calculate the first-passage time, $ T_0 $, for 100 simulated random walks – to a $ t_{\\max} = 200 $ and plot a histogram  \n",
    "1. plot the sample mean of $ T_0 $ from the simulation for $ \\alpha \\in \\{0.8, 1.0, 1.2\\} $  \n",
    "\n",
    "\n",
    "\n",
    "<a id='jbe-ex8a'></a>"
   ]
  },
  {
   "cell_type": "markdown",
   "id": "c817beee",
   "metadata": {},
   "source": [
    "### Exercise 8(a)\n",
    "\n",
    "This exercise is more challenging.\n",
    "\n",
    "The root of a univariate function $ f(\\cdot) $ is an $ x $ such that $ f(x) = 0 $.\n",
    "\n",
    "One solution method to find local roots of smooth functions is called Newton’s method.\n",
    "\n",
    "Starting with an $ x_0 $ guess, a function $ f(\\cdot) $ and the first-derivative $ f'(\\cdot) $, the algorithm is to repeat\n",
    "\n",
    "$$\n",
    "x^{n+1} = x^n - \\frac{f(x^n)}{f'(x^n)}\n",
    "$$\n",
    "\n",
    "until $ | x^{n+1} - x^n| $ is below a tolerance\n",
    "\n",
    "1. Use a variation of the `fixedpointmap` code to implement Newton’s method, where the function would accept arguments `f, f_prime, x_0, tolerance, maxiter`.  \n",
    "1. Test it with $ f(x) = (x-1)^3 $ and another function of your choice where you can analytically find the derivative.  "
   ]
  },
  {
   "cell_type": "markdown",
   "id": "2276c014",
   "metadata": {},
   "source": [
    "### Exercise 8(b)\n",
    "\n",
    "For those impatient to use more advanced features of Julia, implement a version of Exercise 8(a) where `f_prime` is calculated with auto-differentiation."
   ]
  },
  {
   "cell_type": "code",
   "execution_count": null,
   "id": "862cee47",
   "metadata": {
    "hide-output": false
   },
   "outputs": [],
   "source": [
    "using ForwardDiff\n",
    "\n",
    "# operator to get the derivative of this function using AD\n",
    "D(f) = x -> ForwardDiff.derivative(f, x)\n",
    "\n",
    "# example usage: create a function and get the derivative\n",
    "f(x) = x^2\n",
    "f_prime = D(f)\n",
    "\n",
    "f(0.1), f_prime(0.1)"
   ]
  },
  {
   "cell_type": "markdown",
   "id": "da82b9dd",
   "metadata": {},
   "source": [
    "1. Using the `D(f)` operator definition above, implement a version of Newton’s method that does not require the user to provide an analytical derivative.  \n",
    "1. Test the sorts of `f` functions which can be automatically integrated by `ForwardDff.jl`.  "
   ]
  },
  {
   "cell_type": "markdown",
   "id": "a8c9bf09",
   "metadata": {},
   "source": [
    "## Solutions"
   ]
  },
  {
   "cell_type": "markdown",
   "id": "9fabc12c",
   "metadata": {},
   "source": [
    "### Exercise 1"
   ]
  },
  {
   "cell_type": "code",
   "execution_count": null,
   "id": "76e2ca77",
   "metadata": {
    "hide-output": false
   },
   "outputs": [],
   "source": [
    "function factorial2(n)\n",
    "    k = 1\n",
    "    for i in 1:n\n",
    "        k *= i  # or k = k * i\n",
    "    end\n",
    "    return k\n",
    "end\n",
    "\n",
    "factorial2(4)"
   ]
  },
  {
   "cell_type": "code",
   "execution_count": null,
   "id": "375178c3",
   "metadata": {
    "hide-output": false
   },
   "outputs": [],
   "source": [
    "factorial2(4) == factorial(4) # built-in function"
   ]
  },
  {
   "cell_type": "markdown",
   "id": "77ddb04a",
   "metadata": {},
   "source": [
    "### Exercise 2"
   ]
  },
  {
   "cell_type": "code",
   "execution_count": null,
   "id": "eedb39ba",
   "metadata": {
    "hide-output": false
   },
   "outputs": [],
   "source": [
    "function binomial_rv(n, p)\n",
    "    count = 0\n",
    "    U = rand(n)\n",
    "    for i in 1:n\n",
    "        if U[i] < p\n",
    "            count += 1 # or count = count + 1\n",
    "        end\n",
    "    end\n",
    "    return count\n",
    "end\n",
    "\n",
    "for j in 1:25\n",
    "    b = binomial_rv(10, 0.5)\n",
    "    print(\"$b, \")\n",
    "end"
   ]
  },
  {
   "cell_type": "markdown",
   "id": "010dd753",
   "metadata": {},
   "source": [
    "### Exercise 3\n",
    "\n",
    "Consider a circle with diameter 1 embedded in a unit square.\n",
    "\n",
    "Let $ A $ be its area and let $ r = 1/2 $ be its radius.\n",
    "\n",
    "If we know $ \\pi $ then we can compute $ A $ via\n",
    "$ A = \\pi r^2 $.\n",
    "\n",
    "But the point here is to compute $ \\pi $, which we can do by\n",
    "$ \\pi = A / r^2 $.\n",
    "\n",
    "Summary: If we can estimate the area of the unit circle, then dividing\n",
    "by $ r^2 = (1/2)^2 = 1/4 $ gives an estimate of $ \\pi $.\n",
    "\n",
    "We estimate the area by sampling bivariate uniforms and looking at the\n",
    "fraction that fall into the unit circle."
   ]
  },
  {
   "cell_type": "code",
   "execution_count": null,
   "id": "657e6044",
   "metadata": {
    "hide-output": false
   },
   "outputs": [],
   "source": [
    "n = 1000000\n",
    "count = 0\n",
    "for i in 1:n\n",
    "    u, v = rand(2)\n",
    "    d = sqrt((u - 0.5)^2 + (v - 0.5)^2)  # distance from middle of square\n",
    "    if d < 0.5\n",
    "        count += 1\n",
    "    end\n",
    "end\n",
    "\n",
    "area_estimate = count / n\n",
    "\n",
    "print(area_estimate * 4)  # dividing by radius**2"
   ]
  },
  {
   "cell_type": "markdown",
   "id": "b45cadfb",
   "metadata": {},
   "source": [
    "### Exercise 4"
   ]
  },
  {
   "cell_type": "code",
   "execution_count": null,
   "id": "04ff6d91",
   "metadata": {
    "hide-output": false
   },
   "outputs": [],
   "source": [
    "payoff = 0\n",
    "count = 0\n",
    "\n",
    "print(\"Count = \")\n",
    "\n",
    "for i in 1:10\n",
    "    U = rand()\n",
    "    if U < 0.5\n",
    "        count += 1\n",
    "    else\n",
    "        count = 0\n",
    "    end\n",
    "    print(count)\n",
    "    if count == 3\n",
    "        payoff = 1\n",
    "    end\n",
    "end\n",
    "println(\"\\npayoff = $payoff\")"
   ]
  },
  {
   "cell_type": "markdown",
   "id": "c0cc6128",
   "metadata": {},
   "source": [
    "We can simplify this somewhat using the **ternary operator**. Here are\n",
    "some examples"
   ]
  },
  {
   "cell_type": "code",
   "execution_count": null,
   "id": "52a837e2",
   "metadata": {
    "hide-output": false
   },
   "outputs": [],
   "source": [
    "a = 1  < 2 ? \"foo\" : \"bar\""
   ]
  },
  {
   "cell_type": "code",
   "execution_count": null,
   "id": "c869c298",
   "metadata": {
    "hide-output": false
   },
   "outputs": [],
   "source": [
    "a = 1 > 2 ? \"foo\" : \"bar\""
   ]
  },
  {
   "cell_type": "markdown",
   "id": "7138ad48",
   "metadata": {},
   "source": [
    "Using this construction:"
   ]
  },
  {
   "cell_type": "code",
   "execution_count": null,
   "id": "5505632c",
   "metadata": {
    "hide-output": false
   },
   "outputs": [],
   "source": [
    "payoff = 0.0\n",
    "count = 0.0\n",
    "\n",
    "print(\"Count = \")\n",
    "\n",
    "for i in 1:10\n",
    "    U = rand()\n",
    "    count = U < 0.5 ? count + 1 : 0\n",
    "    print(count)\n",
    "    if count == 3\n",
    "        payoff = 1\n",
    "    end\n",
    "end\n",
    "println(\"\\npayoff = $payoff\")"
   ]
  },
  {
   "cell_type": "markdown",
   "id": "673b59a5",
   "metadata": {},
   "source": [
    "### Exercise 5\n",
    "\n",
    "Here’s one solution"
   ]
  },
  {
   "cell_type": "code",
   "execution_count": null,
   "id": "629b2a25",
   "metadata": {
    "hide-output": false
   },
   "outputs": [],
   "source": [
    "using Plots\n",
    "α = 0.9\n",
    "n = 200\n",
    "x = zeros(n + 1)\n",
    "\n",
    "for t in 1:n\n",
    "    x[t+1] = α * x[t] + randn()\n",
    "end\n",
    "plot(x)"
   ]
  },
  {
   "cell_type": "markdown",
   "id": "1621c018",
   "metadata": {},
   "source": [
    "### Exercise 6"
   ]
  },
  {
   "cell_type": "code",
   "execution_count": null,
   "id": "d72e2f0b",
   "metadata": {
    "hide-output": false
   },
   "outputs": [],
   "source": [
    "αs = [0.0, 0.8, 0.98]\n",
    "n = 200\n",
    "p = plot() # naming a plot to add to\n",
    "\n",
    "for α in αs\n",
    "    x = zeros(n + 1)\n",
    "    x[1] = 0.0\n",
    "    for t in 1:n\n",
    "        x[t+1] = α * x[t] + randn()\n",
    "    end\n",
    "    plot!(p, x, label = \"alpha = $α\") # add to plot p\n",
    "end\n",
    "p # display plot"
   ]
  },
  {
   "cell_type": "markdown",
   "id": "0af0e198",
   "metadata": {},
   "source": [
    "### Exercise 7: Hint\n",
    "\n",
    "As a hint, notice the following pattern for finding the number of draws of a uniform random number until it is below a given threshold"
   ]
  },
  {
   "cell_type": "code",
   "execution_count": null,
   "id": "82d513ce",
   "metadata": {
    "hide-output": false
   },
   "outputs": [],
   "source": [
    "function drawsuntilthreshold(threshold; maxdraws=100)\n",
    "    for i in 1:maxdraws\n",
    "        val = rand()\n",
    "        if val < threshold # checks threshold\n",
    "            return i # leaves function, returning draw number\n",
    "        end\n",
    "    end\n",
    "    return Inf # if here, reached maxdraws\n",
    "end\n",
    "\n",
    "draws = drawsuntilthreshold(0.2, maxdraws=100)"
   ]
  },
  {
   "cell_type": "markdown",
   "id": "a57c925f",
   "metadata": {},
   "source": [
    "Additionally, it is sometimes convenient to add to just push numbers onto an array without indexing it directly"
   ]
  },
  {
   "cell_type": "code",
   "execution_count": null,
   "id": "07237057",
   "metadata": {
    "hide-output": false
   },
   "outputs": [],
   "source": [
    "vals = zeros(0) # empty vector\n",
    "\n",
    "for i in 1:100\n",
    "    val = rand()\n",
    "    if val < 0.5\n",
    "        push!(vals, val)\n",
    "    end\n",
    "end\n",
    "println(\"There were $(length(vals)) below 0.5\")"
   ]
  }
 ],
 "metadata": {
  "date": 1643875378.4925077,
  "filename": "julia_by_example.md",
  "kernelspec": {
   "display_name": "Julia 1.7.1",
   "language": "julia",
   "name": "julia-1.7"
  },
  "language_info": {
   "file_extension": ".jl",
   "mimetype": "application/julia",
   "name": "julia",
   "version": "1.7.1"
  },
  "title": "Introductory Examples",
  "toc": {
   "base_numbering": 1,
   "nav_menu": {},
   "number_sections": true,
   "sideBar": true,
   "skip_h1_title": false,
   "title_cell": "Table of Contents",
   "title_sidebar": "Contents",
   "toc_cell": false,
   "toc_position": {},
   "toc_section_display": true,
   "toc_window_display": false
  },
  "varInspector": {
   "cols": {
    "lenName": 16,
    "lenType": 16,
    "lenVar": 40
   },
   "kernels_config": {
    "python": {
     "delete_cmd_postfix": "",
     "delete_cmd_prefix": "del ",
     "library": "var_list.py",
     "varRefreshCmd": "print(var_dic_list())"
    },
    "r": {
     "delete_cmd_postfix": ") ",
     "delete_cmd_prefix": "rm(",
     "library": "var_list.r",
     "varRefreshCmd": "cat(var_dic_list()) "
    }
   },
   "types_to_exclude": [
    "module",
    "function",
    "builtin_function_or_method",
    "instance",
    "_Feature"
   ],
   "window_display": false
  }
 },
 "nbformat": 4,
 "nbformat_minor": 5
}
