{
 "cells": [
  {
   "cell_type": "markdown",
   "id": "87a549d7",
   "metadata": {},
   "source": [
    "\n",
    "<a id='julia-by-example'></a>"
   ]
  },
  {
   "cell_type": "markdown",
   "id": "ca05b81c",
   "metadata": {},
   "source": [
    "# Introductory Examples"
   ]
  },
  {
   "cell_type": "markdown",
   "id": "69104f57",
   "metadata": {},
   "source": [
    "## Contents\n",
    "\n",
    "- [Introductory Examples](#Introductory-Examples)  \n",
    "  - [Overview](#Overview)  \n",
    "  - [Example: Plotting a White Noise Process](#Example:-Plotting-a-White-Noise-Process)  \n",
    "  - [Example: Variations on Fixed Points](#Example:-Variations-on-Fixed-Points)  \n",
    "  - [Exercises](#Exercises)  \n",
    "  - [Solutions](#Solutions)  "
   ]
  },
  {
   "cell_type": "markdown",
   "id": "3d555c96",
   "metadata": {},
   "source": [
    "## Overview\n",
    "\n",
    "We’re now ready to start learning the Julia language itself."
   ]
  },
  {
   "cell_type": "markdown",
   "id": "3d33918d",
   "metadata": {},
   "source": [
    "### Level\n",
    "\n",
    "Our approach is aimed at those who already have at least some knowledge of programming — perhaps experience with Python, MATLAB, Fortran, C or similar.\n",
    "\n",
    "In particular, we assume you have some familiarity with fundamental programming concepts such as\n",
    "\n",
    "- variables  \n",
    "- arrays or vectors  \n",
    "- loops  \n",
    "- conditionals (if/else)  \n",
    "\n",
    "\n",
    "\n",
    "<a id='intro-resources'></a>"
   ]
  },
  {
   "cell_type": "markdown",
   "id": "42a1afe6",
   "metadata": {},
   "source": [
    "### (Optional) Resources for Introductory Programming\n",
    "\n",
    "If Julia is your first programming language, then you may want to examine other resources before proceeding through these chapters.\n",
    "\n",
    "First, you will want to ensure that you have [installed Conda](https://julia.quantecon.org/getting_started.html#install-jupyter), [Julia](https://julia.quantecon.org/getting_started.html#intro-repl) in the previous section, and are able to [launch Jupyter Lab](https://julia.quantecon.org/getting_started.html#running-jupyterlab).  Then, even without downloading these lecture notes you can start learning Julia.\n",
    "\n",
    "Some resources for users with little to no programming experience are the:\n",
    "\n",
    "1. [Introduction to Julia](https://juliaacademy.com/p/intro-to-julia) which is appropriate for those with little programming experience.  \n",
    "  - You will need to sign up for this course to access it, but it is free.  \n",
    "  - Avoid the initial lecture on the installation of Julia and nteract.  \n",
    "  - The Jupyter Notebooks for this class are available [online](https://github.com/JuliaAcademy/Introduction-to-Julia)  \n",
    "1. [Julia for Beginners](https://www.youtube.com/playlist?list=PLhQ2JMBcfAsi_3g2AFJ6B84d8c5jw5kXp) from the [julia for talented amateurs](https://www.youtube.com/c/juliafortalentedamateurs) channel.  \n",
    "  - If you watch these, ignore the environment.  It is using a different open-source editor (i.e. Atom, which is being slowly phased out) and the REPL.  However the content itself is independent of the environment. Skip any setup instructions and just use Jupyter.  \n",
    "1. [Julia Programming for Nervous Beginners](https://www.youtube.com/playlist?list=PLP8iPy9hna6Qpx0MgGyElJ5qFlaIXYf1R) youtube tutorials.  \n",
    "  - These get advanced fairly quickly, but have plenty of great content.  \n",
    "  - This may be less gentle of an introduction for new users given the tooling choices.  \n",
    "\n",
    "\n",
    "However, if you have even introductory experience with any programming language (e.g. you do not need to review what a loop, array, variable, or conditional “if” statement is), you should be able to start directly with these lectures."
   ]
  },
  {
   "cell_type": "markdown",
   "id": "87288da2",
   "metadata": {},
   "source": [
    "### Approach\n",
    "\n",
    "In this lecture we will write and then pick apart small Julia programs.\n",
    "\n",
    "At this stage the objective is to introduce you to basic syntax and data structures.\n",
    "\n",
    "Deeper concepts—how things work—will be covered in later lectures.\n",
    "\n",
    "Since we are looking for simplicity the examples are a little contrived\n",
    "\n",
    "In this lecture, we will often start with a direct MATLAB/FORTRAN approach which often is **poor coding style** in Julia, but then move towards more **elegant code** which is tightly connected to the mathematics.\n",
    "\n",
    "We assume that you’ve worked your way through [our getting started lecture](https://julia.quantecon.org/getting_started.html) already.\n",
    "\n",
    "The definitive reference is [Julia’s own documentation](https://docs.julialang.org/).  The manual is thoughtfully written but is also quite dense.\n",
    "\n",
    "The presentation in this and our remaining lectures is more of a tutorial style based around examples."
   ]
  },
  {
   "cell_type": "markdown",
   "id": "9ad55184",
   "metadata": {},
   "source": [
    "## Example: Plotting a White Noise Process\n",
    "\n",
    "To begin, let’s suppose that we want to simulate and plot the white noise\n",
    "process $ \\epsilon_0, \\epsilon_1, \\ldots, \\epsilon_T $, where each draw $ \\epsilon_t $ is independent standard normal."
   ]
  },
  {
   "cell_type": "markdown",
   "id": "506c7fd2",
   "metadata": {},
   "source": [
    "### Introduction to Packages\n",
    "\n",
    "Assuming that you followed  [our getting started lecture](https://julia.quantecon.org/getting_started.html) you will have installed all packages required for your notebooks to run.\n",
    "\n",
    "More generally, there are two ways to install packages and versions (where the first method is discouraged, since Julia provides a state-of-the-art setup for reproducible environments)\n",
    "\n",
    "1. `add` the packages directly into your global installation (e.g. `Pkg.add(\"MyPackage\")` or `] add MyPackage`) without any project activated.  \n",
    "  - We [installed](https://julia.quantecon.org/getting_started.html#intro-repl) the `IJulia` package in this way, since it must be accessible in every project.  \n",
    "  - As a reminder, the `]` enters the package mode, and with some terminals you can directly copy in the whole `] add MyPackage` string.  \n",
    "1. using a directory with a `Project.toml` and `Manifest.toml` files, which provides an isolated set of packages for a particular project.  \n",
    "  - If you load a jupyter notebook, it will automatically look up the tree for the project files to activate, but will not automatically install them.  This can be done with `] instantiate`, as we did in our [installation](https://julia.quantecon.org/getting_started.html#install-packages)  \n",
    "  - The project files can be in parent folders relative to the notebooks and sourcecode.  \n",
    "\n",
    "\n",
    "The project provides the environment for running code is **reproducible**, so that anyone can replicate the precise set of package and versions used in construction.\n",
    "\n",
    "After the installation and activation, `using` provides a way to say that a particular code or notebook will use the package."
   ]
  },
  {
   "cell_type": "code",
   "execution_count": 1,
   "id": "a2185acc",
   "metadata": {
    "hide-output": false
   },
   "outputs": [],
   "source": [
    "using LinearAlgebra, Statistics, Plots"
   ]
  },
  {
   "cell_type": "markdown",
   "id": "b18e9a76",
   "metadata": {},
   "source": [
    "If these packages were not in your project file or global package environment, you will see an error requiring installation.  To reinforce the point aove: Ideally you should be using a local `Project.toml` with these in them, in which case you might simply need to `] instantiate` it.  Without a project file, you can manually add them as required (e.g. `] add Plots`).  See [here](https://julia.quantecon.org/getting_started.html#install-packages) for more on instantiation and activation of projects.\n",
    "\n",
    "\n",
    "<a id='import'></a>"
   ]
  },
  {
   "cell_type": "markdown",
   "id": "f5466cea",
   "metadata": {},
   "source": [
    "### Using Functions from a Package\n",
    "\n",
    "Some functions are built into the base Julia, such as `randn`, which returns a single draw from a normal distribution with mean 0 and variance 1 if given no parameters."
   ]
  },
  {
   "cell_type": "code",
   "execution_count": 2,
   "id": "152d1307",
   "metadata": {
    "hide-output": false
   },
   "outputs": [
    {
     "data": {
      "text/plain": [
       "-0.9740083023000078"
      ]
     },
     "execution_count": 2,
     "metadata": {},
     "output_type": "execute_result"
    }
   ],
   "source": [
    "randn()"
   ]
  },
  {
   "cell_type": "markdown",
   "id": "f2816f74",
   "metadata": {},
   "source": [
    "Other functions require importing all of the names from an external library"
   ]
  },
  {
   "cell_type": "code",
   "execution_count": 3,
   "id": "73ad4374",
   "metadata": {
    "hide-output": false
   },
   "outputs": [
    {
     "data": {
      "image/svg+xml": [
       "<?xml version=\"1.0\" encoding=\"utf-8\"?>\n",
       "<svg xmlns=\"http://www.w3.org/2000/svg\" xmlns:xlink=\"http://www.w3.org/1999/xlink\" width=\"600\" height=\"400\" viewBox=\"0 0 2400 1600\">\n",
       "<defs>\n",
       "  <clipPath id=\"clip160\">\n",
       "    <rect x=\"0\" y=\"0\" width=\"2400\" height=\"1600\"/>\n",
       "  </clipPath>\n",
       "</defs>\n",
       "<path clip-path=\"url(#clip160)\" d=\"\n",
       "M0 1600 L2400 1600 L2400 0 L0 0  Z\n",
       "  \" fill=\"#ffffff\" fill-rule=\"evenodd\" fill-opacity=\"1\"/>\n",
       "<defs>\n",
       "  <clipPath id=\"clip161\">\n",
       "    <rect x=\"480\" y=\"0\" width=\"1681\" height=\"1600\"/>\n",
       "  </clipPath>\n",
       "</defs>\n",
       "<path clip-path=\"url(#clip160)\" d=\"\n",
       "M147.478 1486.45 L2352.76 1486.45 L2352.76 47.2441 L147.478 47.2441  Z\n",
       "  \" fill=\"#ffffff\" fill-rule=\"evenodd\" fill-opacity=\"1\"/>\n",
       "<defs>\n",
       "  <clipPath id=\"clip162\">\n",
       "    <rect x=\"147\" y=\"47\" width=\"2206\" height=\"1440\"/>\n",
       "  </clipPath>\n",
       "</defs>\n",
       "<polyline clip-path=\"url(#clip162)\" style=\"stroke:#000000; stroke-linecap:butt; stroke-linejoin:round; stroke-width:2; stroke-opacity:0.1; fill:none\" points=\"\n",
       "  188.877,1486.45 188.877,47.2441 \n",
       "  \"/>\n",
       "<polyline clip-path=\"url(#clip162)\" style=\"stroke:#000000; stroke-linecap:butt; stroke-linejoin:round; stroke-width:2; stroke-opacity:0.1; fill:none\" points=\"\n",
       "  714.243,1486.45 714.243,47.2441 \n",
       "  \"/>\n",
       "<polyline clip-path=\"url(#clip162)\" style=\"stroke:#000000; stroke-linecap:butt; stroke-linejoin:round; stroke-width:2; stroke-opacity:0.1; fill:none\" points=\"\n",
       "  1239.61,1486.45 1239.61,47.2441 \n",
       "  \"/>\n",
       "<polyline clip-path=\"url(#clip162)\" style=\"stroke:#000000; stroke-linecap:butt; stroke-linejoin:round; stroke-width:2; stroke-opacity:0.1; fill:none\" points=\"\n",
       "  1764.98,1486.45 1764.98,47.2441 \n",
       "  \"/>\n",
       "<polyline clip-path=\"url(#clip162)\" style=\"stroke:#000000; stroke-linecap:butt; stroke-linejoin:round; stroke-width:2; stroke-opacity:0.1; fill:none\" points=\"\n",
       "  2290.34,1486.45 2290.34,47.2441 \n",
       "  \"/>\n",
       "<polyline clip-path=\"url(#clip160)\" style=\"stroke:#000000; stroke-linecap:butt; stroke-linejoin:round; stroke-width:4; stroke-opacity:1; fill:none\" points=\"\n",
       "  147.478,1486.45 2352.76,1486.45 \n",
       "  \"/>\n",
       "<polyline clip-path=\"url(#clip160)\" style=\"stroke:#000000; stroke-linecap:butt; stroke-linejoin:round; stroke-width:4; stroke-opacity:1; fill:none\" points=\"\n",
       "  188.877,1486.45 188.877,1467.55 \n",
       "  \"/>\n",
       "<polyline clip-path=\"url(#clip160)\" style=\"stroke:#000000; stroke-linecap:butt; stroke-linejoin:round; stroke-width:4; stroke-opacity:1; fill:none\" points=\"\n",
       "  714.243,1486.45 714.243,1467.55 \n",
       "  \"/>\n",
       "<polyline clip-path=\"url(#clip160)\" style=\"stroke:#000000; stroke-linecap:butt; stroke-linejoin:round; stroke-width:4; stroke-opacity:1; fill:none\" points=\"\n",
       "  1239.61,1486.45 1239.61,1467.55 \n",
       "  \"/>\n",
       "<polyline clip-path=\"url(#clip160)\" style=\"stroke:#000000; stroke-linecap:butt; stroke-linejoin:round; stroke-width:4; stroke-opacity:1; fill:none\" points=\"\n",
       "  1764.98,1486.45 1764.98,1467.55 \n",
       "  \"/>\n",
       "<polyline clip-path=\"url(#clip160)\" style=\"stroke:#000000; stroke-linecap:butt; stroke-linejoin:round; stroke-width:4; stroke-opacity:1; fill:none\" points=\"\n",
       "  2290.34,1486.45 2290.34,1467.55 \n",
       "  \"/>\n",
       "<path clip-path=\"url(#clip160)\" d=\"M188.877 1517.37 Q185.266 1517.37 183.437 1520.93 Q181.631 1524.47 181.631 1531.6 Q181.631 1538.71 183.437 1542.27 Q185.266 1545.82 188.877 1545.82 Q192.511 1545.82 194.317 1542.27 Q196.145 1538.71 196.145 1531.6 Q196.145 1524.47 194.317 1520.93 Q192.511 1517.37 188.877 1517.37 M188.877 1513.66 Q194.687 1513.66 197.742 1518.27 Q200.821 1522.85 200.821 1531.6 Q200.821 1540.33 197.742 1544.94 Q194.687 1549.52 188.877 1549.52 Q183.067 1549.52 179.988 1544.94 Q176.932 1540.33 176.932 1531.6 Q176.932 1522.85 179.988 1518.27 Q183.067 1513.66 188.877 1513.66 Z\" fill=\"#000000\" fill-rule=\"evenodd\" fill-opacity=\"1\" /><path clip-path=\"url(#clip160)\" d=\"M693.514 1544.91 L709.833 1544.91 L709.833 1548.85 L687.889 1548.85 L687.889 1544.91 Q690.551 1542.16 695.134 1537.53 Q699.741 1532.88 700.921 1531.53 Q703.167 1529.01 704.046 1527.27 Q704.949 1525.51 704.949 1523.82 Q704.949 1521.07 703.005 1519.33 Q701.084 1517.6 697.982 1517.6 Q695.783 1517.6 693.329 1518.36 Q690.898 1519.13 688.121 1520.68 L688.121 1515.95 Q690.945 1514.82 693.398 1514.24 Q695.852 1513.66 697.889 1513.66 Q703.259 1513.66 706.454 1516.35 Q709.648 1519.03 709.648 1523.52 Q709.648 1525.65 708.838 1527.57 Q708.051 1529.47 705.945 1532.07 Q705.366 1532.74 702.264 1535.95 Q699.162 1539.15 693.514 1544.91 Z\" fill=\"#000000\" fill-rule=\"evenodd\" fill-opacity=\"1\" /><path clip-path=\"url(#clip160)\" d=\"M719.695 1514.29 L738.051 1514.29 L738.051 1518.22 L723.977 1518.22 L723.977 1526.7 Q724.995 1526.35 726.014 1526.19 Q727.032 1526 728.051 1526 Q733.838 1526 737.218 1529.17 Q740.597 1532.34 740.597 1537.76 Q740.597 1543.34 737.125 1546.44 Q733.653 1549.52 727.333 1549.52 Q725.157 1549.52 722.889 1549.15 Q720.644 1548.78 718.236 1548.04 L718.236 1543.34 Q720.32 1544.47 722.542 1545.03 Q724.764 1545.58 727.241 1545.58 Q731.245 1545.58 733.583 1543.48 Q735.921 1541.37 735.921 1537.76 Q735.921 1534.15 733.583 1532.04 Q731.245 1529.94 727.241 1529.94 Q725.366 1529.94 723.491 1530.35 Q721.639 1530.77 719.695 1531.65 L719.695 1514.29 Z\" fill=\"#000000\" fill-rule=\"evenodd\" fill-opacity=\"1\" /><path clip-path=\"url(#clip160)\" d=\"M1214.31 1514.29 L1232.67 1514.29 L1232.67 1518.22 L1218.59 1518.22 L1218.59 1526.7 Q1219.61 1526.35 1220.63 1526.19 Q1221.65 1526 1222.67 1526 Q1228.45 1526 1231.83 1529.17 Q1235.21 1532.34 1235.21 1537.76 Q1235.21 1543.34 1231.74 1546.44 Q1228.27 1549.52 1221.95 1549.52 Q1219.77 1549.52 1217.5 1549.15 Q1215.26 1548.78 1212.85 1548.04 L1212.85 1543.34 Q1214.93 1544.47 1217.16 1545.03 Q1219.38 1545.58 1221.86 1545.58 Q1225.86 1545.58 1228.2 1543.48 Q1230.54 1541.37 1230.54 1537.76 Q1230.54 1534.15 1228.2 1532.04 Q1225.86 1529.94 1221.86 1529.94 Q1219.98 1529.94 1218.11 1530.35 Q1216.25 1530.77 1214.31 1531.65 L1214.31 1514.29 Z\" fill=\"#000000\" fill-rule=\"evenodd\" fill-opacity=\"1\" /><path clip-path=\"url(#clip160)\" d=\"M1254.42 1517.37 Q1250.81 1517.37 1248.98 1520.93 Q1247.18 1524.47 1247.18 1531.6 Q1247.18 1538.71 1248.98 1542.27 Q1250.81 1545.82 1254.42 1545.82 Q1258.06 1545.82 1259.86 1542.27 Q1261.69 1538.71 1261.69 1531.6 Q1261.69 1524.47 1259.86 1520.93 Q1258.06 1517.37 1254.42 1517.37 M1254.42 1513.66 Q1260.23 1513.66 1263.29 1518.27 Q1266.37 1522.85 1266.37 1531.6 Q1266.37 1540.33 1263.29 1544.94 Q1260.23 1549.52 1254.42 1549.52 Q1248.61 1549.52 1245.54 1544.94 Q1242.48 1540.33 1242.48 1531.6 Q1242.48 1522.85 1245.54 1518.27 Q1248.61 1513.66 1254.42 1513.66 Z\" fill=\"#000000\" fill-rule=\"evenodd\" fill-opacity=\"1\" /><path clip-path=\"url(#clip160)\" d=\"M1738.83 1514.29 L1761.05 1514.29 L1761.05 1516.28 L1748.51 1548.85 L1743.62 1548.85 L1755.43 1518.22 L1738.83 1518.22 L1738.83 1514.29 Z\" fill=\"#000000\" fill-rule=\"evenodd\" fill-opacity=\"1\" /><path clip-path=\"url(#clip160)\" d=\"M1770.22 1514.29 L1788.58 1514.29 L1788.58 1518.22 L1774.5 1518.22 L1774.5 1526.7 Q1775.52 1526.35 1776.54 1526.19 Q1777.56 1526 1778.58 1526 Q1784.36 1526 1787.74 1529.17 Q1791.12 1532.34 1791.12 1537.76 Q1791.12 1543.34 1787.65 1546.44 Q1784.18 1549.52 1777.86 1549.52 Q1775.68 1549.52 1773.41 1549.15 Q1771.17 1548.78 1768.76 1548.04 L1768.76 1543.34 Q1770.84 1544.47 1773.07 1545.03 Q1775.29 1545.58 1777.77 1545.58 Q1781.77 1545.58 1784.11 1543.48 Q1786.45 1541.37 1786.45 1537.76 Q1786.45 1534.15 1784.11 1532.04 Q1781.77 1529.94 1777.77 1529.94 Q1775.89 1529.94 1774.02 1530.35 Q1772.16 1530.77 1770.22 1531.65 L1770.22 1514.29 Z\" fill=\"#000000\" fill-rule=\"evenodd\" fill-opacity=\"1\" /><path clip-path=\"url(#clip160)\" d=\"M2249.95 1544.91 L2257.59 1544.91 L2257.59 1518.55 L2249.28 1520.21 L2249.28 1515.95 L2257.54 1514.29 L2262.22 1514.29 L2262.22 1544.91 L2269.86 1544.91 L2269.86 1548.85 L2249.95 1548.85 L2249.95 1544.91 Z\" fill=\"#000000\" fill-rule=\"evenodd\" fill-opacity=\"1\" /><path clip-path=\"url(#clip160)\" d=\"M2289.3 1517.37 Q2285.69 1517.37 2283.86 1520.93 Q2282.06 1524.47 2282.06 1531.6 Q2282.06 1538.71 2283.86 1542.27 Q2285.69 1545.82 2289.3 1545.82 Q2292.93 1545.82 2294.74 1542.27 Q2296.57 1538.71 2296.57 1531.6 Q2296.57 1524.47 2294.74 1520.93 Q2292.93 1517.37 2289.3 1517.37 M2289.3 1513.66 Q2295.11 1513.66 2298.17 1518.27 Q2301.25 1522.85 2301.25 1531.6 Q2301.25 1540.33 2298.17 1544.94 Q2295.11 1549.52 2289.3 1549.52 Q2283.49 1549.52 2280.41 1544.94 Q2277.36 1540.33 2277.36 1531.6 Q2277.36 1522.85 2280.41 1518.27 Q2283.49 1513.66 2289.3 1513.66 Z\" fill=\"#000000\" fill-rule=\"evenodd\" fill-opacity=\"1\" /><path clip-path=\"url(#clip160)\" d=\"M2319.46 1517.37 Q2315.85 1517.37 2314.02 1520.93 Q2312.22 1524.47 2312.22 1531.6 Q2312.22 1538.71 2314.02 1542.27 Q2315.85 1545.82 2319.46 1545.82 Q2323.1 1545.82 2324.9 1542.27 Q2326.73 1538.71 2326.73 1531.6 Q2326.73 1524.47 2324.9 1520.93 Q2323.1 1517.37 2319.46 1517.37 M2319.46 1513.66 Q2325.27 1513.66 2328.33 1518.27 Q2331.41 1522.85 2331.41 1531.6 Q2331.41 1540.33 2328.33 1544.94 Q2325.27 1549.52 2319.46 1549.52 Q2313.65 1549.52 2310.57 1544.94 Q2307.52 1540.33 2307.52 1531.6 Q2307.52 1522.85 2310.57 1518.27 Q2313.65 1513.66 2319.46 1513.66 Z\" fill=\"#000000\" fill-rule=\"evenodd\" fill-opacity=\"1\" /><polyline clip-path=\"url(#clip162)\" style=\"stroke:#000000; stroke-linecap:butt; stroke-linejoin:round; stroke-width:2; stroke-opacity:0.1; fill:none\" points=\"\n",
       "  147.478,1230.37 2352.76,1230.37 \n",
       "  \"/>\n",
       "<polyline clip-path=\"url(#clip162)\" style=\"stroke:#000000; stroke-linecap:butt; stroke-linejoin:round; stroke-width:2; stroke-opacity:0.1; fill:none\" points=\"\n",
       "  147.478,954.799 2352.76,954.799 \n",
       "  \"/>\n",
       "<polyline clip-path=\"url(#clip162)\" style=\"stroke:#000000; stroke-linecap:butt; stroke-linejoin:round; stroke-width:2; stroke-opacity:0.1; fill:none\" points=\"\n",
       "  147.478,679.233 2352.76,679.233 \n",
       "  \"/>\n",
       "<polyline clip-path=\"url(#clip162)\" style=\"stroke:#000000; stroke-linecap:butt; stroke-linejoin:round; stroke-width:2; stroke-opacity:0.1; fill:none\" points=\"\n",
       "  147.478,403.667 2352.76,403.667 \n",
       "  \"/>\n",
       "<polyline clip-path=\"url(#clip162)\" style=\"stroke:#000000; stroke-linecap:butt; stroke-linejoin:round; stroke-width:2; stroke-opacity:0.1; fill:none\" points=\"\n",
       "  147.478,128.101 2352.76,128.101 \n",
       "  \"/>\n",
       "<polyline clip-path=\"url(#clip160)\" style=\"stroke:#000000; stroke-linecap:butt; stroke-linejoin:round; stroke-width:4; stroke-opacity:1; fill:none\" points=\"\n",
       "  147.478,1486.45 147.478,47.2441 \n",
       "  \"/>\n",
       "<polyline clip-path=\"url(#clip160)\" style=\"stroke:#000000; stroke-linecap:butt; stroke-linejoin:round; stroke-width:4; stroke-opacity:1; fill:none\" points=\"\n",
       "  147.478,1230.37 166.376,1230.37 \n",
       "  \"/>\n",
       "<polyline clip-path=\"url(#clip160)\" style=\"stroke:#000000; stroke-linecap:butt; stroke-linejoin:round; stroke-width:4; stroke-opacity:1; fill:none\" points=\"\n",
       "  147.478,954.799 166.376,954.799 \n",
       "  \"/>\n",
       "<polyline clip-path=\"url(#clip160)\" style=\"stroke:#000000; stroke-linecap:butt; stroke-linejoin:round; stroke-width:4; stroke-opacity:1; fill:none\" points=\"\n",
       "  147.478,679.233 166.376,679.233 \n",
       "  \"/>\n",
       "<polyline clip-path=\"url(#clip160)\" style=\"stroke:#000000; stroke-linecap:butt; stroke-linejoin:round; stroke-width:4; stroke-opacity:1; fill:none\" points=\"\n",
       "  147.478,403.667 166.376,403.667 \n",
       "  \"/>\n",
       "<polyline clip-path=\"url(#clip160)\" style=\"stroke:#000000; stroke-linecap:butt; stroke-linejoin:round; stroke-width:4; stroke-opacity:1; fill:none\" points=\"\n",
       "  147.478,128.101 166.376,128.101 \n",
       "  \"/>\n",
       "<path clip-path=\"url(#clip160)\" d=\"M51.3625 1230.82 L81.0383 1230.82 L81.0383 1234.75 L51.3625 1234.75 L51.3625 1230.82 Z\" fill=\"#000000\" fill-rule=\"evenodd\" fill-opacity=\"1\" /><path clip-path=\"url(#clip160)\" d=\"M95.1586 1243.71 L111.478 1243.71 L111.478 1247.65 L89.5336 1247.65 L89.5336 1243.71 Q92.1956 1240.96 96.7789 1236.33 Q101.385 1231.67 102.566 1230.33 Q104.811 1227.81 105.691 1226.07 Q106.594 1224.31 106.594 1222.62 Q106.594 1219.87 104.649 1218.13 Q102.728 1216.4 99.6261 1216.4 Q97.4271 1216.4 94.9734 1217.16 Q92.5428 1217.92 89.7651 1219.47 L89.7651 1214.75 Q92.5891 1213.62 95.0428 1213.04 Q97.4965 1212.46 99.5335 1212.46 Q104.904 1212.46 108.098 1215.15 Q111.293 1217.83 111.293 1222.32 Q111.293 1224.45 110.483 1226.37 Q109.696 1228.27 107.589 1230.86 Q107.01 1231.53 103.909 1234.75 Q100.807 1237.95 95.1586 1243.71 Z\" fill=\"#000000\" fill-rule=\"evenodd\" fill-opacity=\"1\" /><path clip-path=\"url(#clip160)\" d=\"M50.9921 955.25 L80.6679 955.25 L80.6679 959.186 L50.9921 959.186 L50.9921 955.25 Z\" fill=\"#000000\" fill-rule=\"evenodd\" fill-opacity=\"1\" /><path clip-path=\"url(#clip160)\" d=\"M91.5706 968.144 L99.2095 968.144 L99.2095 941.778 L90.8993 943.445 L90.8993 939.186 L99.1632 937.519 L103.839 937.519 L103.839 968.144 L111.478 968.144 L111.478 972.079 L91.5706 972.079 L91.5706 968.144 Z\" fill=\"#000000\" fill-rule=\"evenodd\" fill-opacity=\"1\" /><path clip-path=\"url(#clip160)\" d=\"M99.5335 665.032 Q95.9224 665.032 94.0937 668.597 Q92.2882 672.138 92.2882 679.268 Q92.2882 686.374 94.0937 689.939 Q95.9224 693.481 99.5335 693.481 Q103.168 693.481 104.973 689.939 Q106.802 686.374 106.802 679.268 Q106.802 672.138 104.973 668.597 Q103.168 665.032 99.5335 665.032 M99.5335 661.328 Q105.344 661.328 108.399 665.935 Q111.478 670.518 111.478 679.268 Q111.478 687.995 108.399 692.601 Q105.344 697.184 99.5335 697.184 Q93.7234 697.184 90.6447 692.601 Q87.5892 687.995 87.5892 679.268 Q87.5892 670.518 90.6447 665.935 Q93.7234 661.328 99.5335 661.328 Z\" fill=\"#000000\" fill-rule=\"evenodd\" fill-opacity=\"1\" /><path clip-path=\"url(#clip160)\" d=\"M91.5706 417.012 L99.2095 417.012 L99.2095 390.646 L90.8993 392.313 L90.8993 388.054 L99.1632 386.387 L103.839 386.387 L103.839 417.012 L111.478 417.012 L111.478 420.947 L91.5706 420.947 L91.5706 417.012 Z\" fill=\"#000000\" fill-rule=\"evenodd\" fill-opacity=\"1\" /><path clip-path=\"url(#clip160)\" d=\"M95.1586 141.446 L111.478 141.446 L111.478 145.381 L89.5336 145.381 L89.5336 141.446 Q92.1956 138.692 96.7789 134.062 Q101.385 129.409 102.566 128.067 Q104.811 125.543 105.691 123.807 Q106.594 122.048 106.594 120.358 Q106.594 117.604 104.649 115.868 Q102.728 114.131 99.6261 114.131 Q97.4271 114.131 94.9734 114.895 Q92.5428 115.659 89.7651 117.21 L89.7651 112.488 Q92.5891 111.354 95.0428 110.775 Q97.4965 110.196 99.5335 110.196 Q104.904 110.196 108.098 112.881 Q111.293 115.567 111.293 120.057 Q111.293 122.187 110.483 124.108 Q109.696 126.006 107.589 128.599 Q107.01 129.27 103.909 132.488 Q100.807 135.682 95.1586 141.446 Z\" fill=\"#000000\" fill-rule=\"evenodd\" fill-opacity=\"1\" /><polyline clip-path=\"url(#clip162)\" style=\"stroke:#009af9; stroke-linecap:butt; stroke-linejoin:round; stroke-width:4; stroke-opacity:1; fill:none\" points=\"\n",
       "  209.891,706.968 230.906,940.531 251.921,87.9763 272.935,957.187 293.95,1043.46 314.965,1155.5 335.979,780.912 356.994,761.759 378.009,1406.73 399.023,1163.28 \n",
       "  420.038,734.262 441.053,1012.77 462.067,820.44 483.082,797.605 504.097,964.958 525.111,451.22 546.126,707.396 567.141,813.043 588.155,549.232 609.17,412.248 \n",
       "  630.185,494.434 651.199,929.231 672.214,1266.79 693.229,717.414 714.243,347.339 735.258,470.862 756.272,400.321 777.287,696.238 798.302,724.315 819.316,827.059 \n",
       "  840.331,746.462 861.346,239.842 882.36,915.006 903.375,554.854 924.39,601.247 945.404,339.276 966.419,429.824 987.434,769.758 1008.45,915.257 1029.46,905.831 \n",
       "  1050.48,790.124 1071.49,624.527 1092.51,147.975 1113.52,856.925 1134.54,697.115 1155.55,1148.08 1176.57,448.036 1197.58,400.065 1218.59,288.63 1239.61,379.932 \n",
       "  1260.62,681.628 1281.64,800.184 1302.65,1016.94 1323.67,750.831 1344.68,646.233 1365.7,236.57 1386.71,352.977 1407.73,808.832 1428.74,567.499 1449.76,1005.53 \n",
       "  1470.77,1445.72 1491.79,740.31 1512.8,1026.57 1533.81,909.352 1554.83,885.698 1575.84,874.124 1596.86,997.821 1617.87,1010.87 1638.89,822.702 1659.9,776.513 \n",
       "  1680.92,599.95 1701.93,540.428 1722.95,456.916 1743.96,906.683 1764.98,204.975 1785.99,665.853 1807.01,1064.43 1828.02,1389.09 1849.03,399.825 1870.05,1001.8 \n",
       "  1891.06,501.716 1912.08,809.728 1933.09,997.073 1954.11,372.881 1975.12,326.715 1996.14,472.686 2017.15,632.731 2038.17,732.939 2059.18,532.015 2080.2,1002.12 \n",
       "  2101.21,748.59 2122.23,960.455 2143.24,392.983 2164.25,972.796 2185.27,1077.68 2206.28,743.515 2227.3,692.842 2248.31,817.812 2269.33,611.645 2290.34,243.488 \n",
       "  \n",
       "  \"/>\n",
       "<path clip-path=\"url(#clip160)\" d=\"\n",
       "M1981.79 198.898 L2279.25 198.898 L2279.25 95.2176 L1981.79 95.2176  Z\n",
       "  \" fill=\"#ffffff\" fill-rule=\"evenodd\" fill-opacity=\"1\"/>\n",
       "<polyline clip-path=\"url(#clip160)\" style=\"stroke:#000000; stroke-linecap:butt; stroke-linejoin:round; stroke-width:4; stroke-opacity:1; fill:none\" points=\"\n",
       "  1981.79,198.898 2279.25,198.898 2279.25,95.2176 1981.79,95.2176 1981.79,198.898 \n",
       "  \"/>\n",
       "<polyline clip-path=\"url(#clip160)\" style=\"stroke:#009af9; stroke-linecap:butt; stroke-linejoin:round; stroke-width:4; stroke-opacity:1; fill:none\" points=\"\n",
       "  2006.29,147.058 2153.31,147.058 \n",
       "  \"/>\n",
       "<path clip-path=\"url(#clip160)\" d=\"M2191.65 166.745 Q2189.85 171.375 2188.13 172.787 Q2186.42 174.199 2183.55 174.199 L2180.15 174.199 L2180.15 170.634 L2182.65 170.634 Q2184.41 170.634 2185.38 169.8 Q2186.35 168.967 2187.53 165.865 L2188.3 163.921 L2177.81 138.412 L2182.32 138.412 L2190.43 158.689 L2198.53 138.412 L2203.04 138.412 L2191.65 166.745 Z\" fill=\"#000000\" fill-rule=\"evenodd\" fill-opacity=\"1\" /><path clip-path=\"url(#clip160)\" d=\"M2210.33 160.402 L2217.97 160.402 L2217.97 134.037 L2209.66 135.703 L2209.66 131.444 L2217.93 129.778 L2222.6 129.778 L2222.6 160.402 L2230.24 160.402 L2230.24 164.338 L2210.33 164.338 L2210.33 160.402 Z\" fill=\"#000000\" fill-rule=\"evenodd\" fill-opacity=\"1\" /></svg>\n"
      ]
     },
     "execution_count": 3,
     "metadata": {},
     "output_type": "execute_result"
    }
   ],
   "source": [
    "using Plots\n",
    "\n",
    "n = 100\n",
    "ϵ = randn(n)\n",
    "plot(1:n, ϵ)"
   ]
  },
  {
   "cell_type": "markdown",
   "id": "ab5f70e4",
   "metadata": {},
   "source": [
    "Let’s break this down and see how it works.\n",
    "\n",
    "The effect of the statement `using Plots` is to make all the names exported by the `Plots` module available.\n",
    "\n",
    "If a project file was activated (i.e., running jupyter with the project files local to the notebook), it will use whatever version of `Plots.jl` that was specified in the `Project.toml` and `Manifest.toml` files.\n",
    "\n",
    "The other packages `LinearAlgebra` and `Statistics` are base Julia libraries, but require an explicit using.\n",
    "\n",
    "The arguments to `plot` are the numbers `1,2, ..., n` for the x-axis, a vector `ϵ` for the y-axis, and (optional) settings.\n",
    "\n",
    "The function `randn(n)` returns a column vector `n` random draws from a normal distribution with mean 0 and variance 1."
   ]
  },
  {
   "cell_type": "markdown",
   "id": "0140059e",
   "metadata": {},
   "source": [
    "### Arrays\n",
    "\n",
    "As a language intended for mathematical and scientific computing, Julia has\n",
    "strong support for using unicode characters.\n",
    "\n",
    "In the above case, the `ϵ` and many other symbols can be typed in most Julia editor by providing the LaTeX and `<TAB>`, i.e. `\\epsilon<TAB>`.\n",
    "\n",
    "The return type is one of the most fundamental Julia data types: an array"
   ]
  },
  {
   "cell_type": "code",
   "execution_count": 4,
   "id": "821887bf",
   "metadata": {
    "hide-output": false
   },
   "outputs": [
    {
     "data": {
      "text/plain": [
       "Vector{Float64} (alias for Array{Float64, 1})"
      ]
     },
     "execution_count": 4,
     "metadata": {},
     "output_type": "execute_result"
    }
   ],
   "source": [
    "typeof(ϵ)"
   ]
  },
  {
   "cell_type": "code",
   "execution_count": 5,
   "id": "608e863c",
   "metadata": {
    "hide-output": false
   },
   "outputs": [
    {
     "data": {
      "text/plain": [
       "5-element Vector{Float64}:\n",
       " -0.10064805234902642\n",
       " -0.9482218625716823\n",
       "  2.145609580629277\n",
       " -1.0086666428263822\n",
       " -1.3217316670458228"
      ]
     },
     "execution_count": 5,
     "metadata": {},
     "output_type": "execute_result"
    }
   ],
   "source": [
    "ϵ[1:5]"
   ]
  },
  {
   "cell_type": "markdown",
   "id": "76b6afe5",
   "metadata": {},
   "source": [
    "The information from `typeof()` tells us that `ϵ` is an array of 64 bit floating point values, of dimension 1.\n",
    "\n",
    "In Julia, one-dimensional arrays are interpreted as column vectors for purposes of linear algebra.\n",
    "\n",
    "The `ϵ[1:5]` returns an array of the first 5 elements of `ϵ`.\n",
    "\n",
    "Notice from the above that\n",
    "\n",
    "- array indices start at 1 (like MATLAB and Fortran, but unlike Python and C)  \n",
    "- array elements are referenced using square brackets (unlike MATLAB and Fortran)  \n",
    "\n",
    "\n",
    "To get **help and examples** in Jupyter or other julia editors, use the `?` before a function name or syntax."
   ]
  },
  {
   "cell_type": "code",
   "execution_count": 6,
   "id": "19ce9062",
   "metadata": {
    "hide-output": false
   },
   "outputs": [
    {
     "name": "stdout",
     "output_type": "stream",
     "text": [
      "search: \u001b[0m\u001b[1mt\u001b[22m\u001b[0m\u001b[1my\u001b[22m\u001b[0m\u001b[1mp\u001b[22m\u001b[0m\u001b[1me\u001b[22m\u001b[0m\u001b[1mo\u001b[22m\u001b[0m\u001b[1mf\u001b[22m \u001b[0m\u001b[1mt\u001b[22m\u001b[0m\u001b[1my\u001b[22m\u001b[0m\u001b[1mp\u001b[22m\u001b[0m\u001b[1me\u001b[22mj\u001b[0m\u001b[1mo\u001b[22min \u001b[0m\u001b[1mT\u001b[22m\u001b[0m\u001b[1my\u001b[22m\u001b[0m\u001b[1mp\u001b[22m\u001b[0m\u001b[1me\u001b[22mErr\u001b[0m\u001b[1mo\u001b[22mr\n",
      "\n"
     ]
    },
    {
     "data": {
      "text/latex": [
       "\\begin{verbatim}\n",
       "typeof(x)\n",
       "\\end{verbatim}\n",
       "Get the concrete type of \\texttt{x}.\n",
       "\n",
       "See also \\href{@ref}{\\texttt{eltype}}.\n",
       "\n",
       "\\section{Examples}\n",
       "\\begin{verbatim}\n",
       "julia> a = 1//2;\n",
       "\n",
       "julia> typeof(a)\n",
       "Rational{Int64}\n",
       "\n",
       "julia> M = [1 2; 3.5 4];\n",
       "\n",
       "julia> typeof(M)\n",
       "Matrix{Float64} (alias for Array{Float64, 2})\n",
       "\\end{verbatim}\n"
      ],
      "text/markdown": [
       "```\n",
       "typeof(x)\n",
       "```\n",
       "\n",
       "Get the concrete type of `x`.\n",
       "\n",
       "See also [`eltype`](@ref).\n",
       "\n",
       "# Examples\n",
       "\n",
       "```jldoctest\n",
       "julia> a = 1//2;\n",
       "\n",
       "julia> typeof(a)\n",
       "Rational{Int64}\n",
       "\n",
       "julia> M = [1 2; 3.5 4];\n",
       "\n",
       "julia> typeof(M)\n",
       "Matrix{Float64} (alias for Array{Float64, 2})\n",
       "```\n"
      ],
      "text/plain": [
       "\u001b[36m  typeof(x)\u001b[39m\n",
       "\n",
       "  Get the concrete type of \u001b[36mx\u001b[39m.\n",
       "\n",
       "  See also \u001b[36meltype\u001b[39m.\n",
       "\n",
       "\u001b[1m  Examples\u001b[22m\n",
       "\u001b[1m  ≡≡≡≡≡≡≡≡≡≡\u001b[22m\n",
       "\n",
       "\u001b[36m  julia> a = 1//2;\u001b[39m\n",
       "\u001b[36m  \u001b[39m\n",
       "\u001b[36m  julia> typeof(a)\u001b[39m\n",
       "\u001b[36m  Rational{Int64}\u001b[39m\n",
       "\u001b[36m  \u001b[39m\n",
       "\u001b[36m  julia> M = [1 2; 3.5 4];\u001b[39m\n",
       "\u001b[36m  \u001b[39m\n",
       "\u001b[36m  julia> typeof(M)\u001b[39m\n",
       "\u001b[36m  Matrix{Float64} (alias for Array{Float64, 2})\u001b[39m"
      ]
     },
     "execution_count": 6,
     "metadata": {},
     "output_type": "execute_result"
    }
   ],
   "source": [
    "?typeof"
   ]
  },
  {
   "cell_type": "markdown",
   "id": "3654911c",
   "metadata": {},
   "source": [
    "### For Loops\n",
    "\n",
    "Although there’s no need in terms of what we wanted to achieve with our\n",
    "program, for the sake of learning syntax let’s rewrite our program to use a\n",
    "`for` loop for generating the data.\n",
    "\n",
    ">**Note**\n",
    ">\n",
    ">The rules for variables accessed in `for` and `while` loops can be sensitive to how they are used (and variables can sometimes require a `global` as part of the declaration).  **We strongly advise you to avoid top level (i.e. outside of functions) `for` and `while` loops when working with `.jl`.**  This scoping issue does not apply when used within functions, and will not be seen in the REPL or Jupyter notebooks.\n",
    "\n",
    "Starting with the most direct version, and pretending we are in a world where `randn` can only return a single value"
   ]
  },
  {
   "cell_type": "code",
   "execution_count": 7,
   "id": "ab1ed21c",
   "metadata": {
    "hide-output": false
   },
   "outputs": [],
   "source": [
    "# poor style\n",
    "n = 100\n",
    "ϵ = zeros(n)\n",
    "for i ∈ 1:n\n",
    "    ϵ[i] = randn()\n",
    "end"
   ]
  },
  {
   "cell_type": "code",
   "execution_count": 8,
   "id": "058fab2b",
   "metadata": {},
   "outputs": [
    {
     "data": {
      "text/plain": [
       "3-element Vector{Float64}:\n",
       " 0.9558508970638391\n",
       " 0.8347513069718188\n",
       " 0.22521807745103195"
      ]
     },
     "execution_count": 8,
     "metadata": {},
     "output_type": "execute_result"
    }
   ],
   "source": [
    "ϵ[1:3]"
   ]
  },
  {
   "cell_type": "markdown",
   "id": "c688afbb",
   "metadata": {},
   "source": [
    "Here we first declared `ϵ` to be a vector of `n` numbers, initialized by the floating point `0.0`.\n",
    "\n",
    "The `for` loop then populates this array by successive calls to `randn()`.\n",
    "\n",
    "Like all code blocks in Julia, the end of the `for` loop code block (which is just one line here) is indicated by the keyword `end`.\n",
    "\n",
    "The word `in` from the `for` loop can be replaced by either `∈` or `=`.\n",
    "\n",
    "The index variable is looped over for all integers from `1:n` – but this does not actually create a vector of those indices.\n",
    "\n",
    "Instead, it creates an **iterator** that is looped over – in this case the **range** of integers from `1` to `n`.\n",
    "\n",
    "While this example successfully fills in `ϵ` with the correct values, it is very indirect as the connection between the index `i` and the `ϵ` vector is unclear.\n",
    "\n",
    "To fix this, use `eachindex`"
   ]
  },
  {
   "cell_type": "code",
   "execution_count": 9,
   "id": "0a96c6ec",
   "metadata": {
    "hide-output": false
   },
   "outputs": [],
   "source": [
    "# better style\n",
    "n = 100\n",
    "ϵ = zeros(n)\n",
    "for i in eachindex(ϵ)\n",
    "    ϵ[i] = randn()\n",
    "end"
   ]
  },
  {
   "cell_type": "code",
   "execution_count": 10,
   "id": "6156d0b1",
   "metadata": {},
   "outputs": [
    {
     "data": {
      "text/plain": [
       "2-element Vector{Int64}:\n",
       "   1\n",
       " 100"
      ]
     },
     "execution_count": 10,
     "metadata": {},
     "output_type": "execute_result"
    }
   ],
   "source": [
    "Array(eachindex(ϵ))[[1,100]]"
   ]
  },
  {
   "cell_type": "markdown",
   "id": "d57817f2",
   "metadata": {},
   "source": [
    "Here, `eachindex(ϵ)` returns an iterator of indices which can be used to access `ϵ`.\n",
    "\n",
    "While iterators are memory efficient because the elements are generated on the fly rather than stored in memory, the main benefit is (1) it can lead to code which is clearer and less prone to typos; and (2) it allows the compiler flexibility to creatively generate fast code.\n",
    "\n",
    "In Julia you can also **loop directly over arrays themselves**, like so"
   ]
  },
  {
   "cell_type": "code",
   "execution_count": 12,
   "id": "7f1edbc2",
   "metadata": {
    "hide-output": false
   },
   "outputs": [
    {
     "data": {
      "text/plain": [
       "0.12327149525533662"
      ]
     },
     "execution_count": 12,
     "metadata": {},
     "output_type": "execute_result"
    }
   ],
   "source": [
    "ϵ_sum = 0.0 # careful to use 0.0 here, instead of 0\n",
    "m = 5\n",
    "for ϵ_val in ϵ[1:m]\n",
    "    ϵ_sum = ϵ_sum + ϵ_val\n",
    "end\n",
    "ϵ_mean = ϵ_sum / m"
   ]
  },
  {
   "cell_type": "markdown",
   "id": "df8dfc6b",
   "metadata": {},
   "source": [
    "where `ϵ[1:m]` returns the elements of the vector at indices `1` to `m`.\n",
    "\n",
    "Of course, in Julia there are built in functions to perform this calculation which we can compare against"
   ]
  },
  {
   "cell_type": "code",
   "execution_count": 23,
   "id": "642253ae",
   "metadata": {
    "hide-output": false
   },
   "outputs": [
    {
     "name": "stdout",
     "output_type": "stream",
     "text": [
      "true\n",
      "true\n",
      "true\n"
     ]
    }
   ],
   "source": [
    "println(ϵ_mean ≈ mean(ϵ[1:m]))\n",
    "println(ϵ_mean == mean(ϵ[1:m]))\n",
    "println(ϵ_mean ≈ sum(ϵ[1:m]) / m)"
   ]
  },
  {
   "cell_type": "code",
   "execution_count": 32,
   "id": "bd8cfcc7",
   "metadata": {},
   "outputs": [
    {
     "data": {
      "text/plain": [
       "true"
      ]
     },
     "execution_count": 32,
     "metadata": {},
     "output_type": "execute_result"
    }
   ],
   "source": [
    "exp(im * π) ≈ -1"
   ]
  },
  {
   "cell_type": "markdown",
   "id": "faad9f0a",
   "metadata": {},
   "source": [
    "In these examples, note the use of `≈` to test equality, rather than `==`, which is appropriate for integers and other types.\n",
    "\n",
    "Approximately equal, typed with `\\approx<TAB>`, is the appropriate way to compare any floating point numbers due to the standard issues of [floating point math](https://floating-point-gui.de/).\n",
    "\n",
    "\n",
    "<a id='user-defined-functions'></a>"
   ]
  },
  {
   "cell_type": "markdown",
   "id": "d17ddcb3",
   "metadata": {},
   "source": [
    "### User-Defined Functions\n",
    "\n",
    "For the sake of the exercise, let’s go back to the `for` loop but restructure our program so that generation of random variables takes place within a user-defined function.\n",
    "\n",
    "To make things more interesting, instead of directly plotting the draws from the distribution, let’s plot the squares of these draws"
   ]
  },
  {
   "cell_type": "code",
   "execution_count": 33,
   "id": "8bd4c53e",
   "metadata": {
    "hide-output": false
   },
   "outputs": [
    {
     "data": {
      "image/svg+xml": [
       "<?xml version=\"1.0\" encoding=\"utf-8\"?>\n",
       "<svg xmlns=\"http://www.w3.org/2000/svg\" xmlns:xlink=\"http://www.w3.org/1999/xlink\" width=\"600\" height=\"400\" viewBox=\"0 0 2400 1600\">\n",
       "<defs>\n",
       "  <clipPath id=\"clip200\">\n",
       "    <rect x=\"0\" y=\"0\" width=\"2400\" height=\"1600\"/>\n",
       "  </clipPath>\n",
       "</defs>\n",
       "<path clip-path=\"url(#clip200)\" d=\"\n",
       "M0 1600 L2400 1600 L2400 0 L0 0  Z\n",
       "  \" fill=\"#ffffff\" fill-rule=\"evenodd\" fill-opacity=\"1\"/>\n",
       "<defs>\n",
       "  <clipPath id=\"clip201\">\n",
       "    <rect x=\"480\" y=\"0\" width=\"1681\" height=\"1600\"/>\n",
       "  </clipPath>\n",
       "</defs>\n",
       "<path clip-path=\"url(#clip200)\" d=\"\n",
       "M112.177 1486.45 L2352.76 1486.45 L2352.76 47.2441 L112.177 47.2441  Z\n",
       "  \" fill=\"#ffffff\" fill-rule=\"evenodd\" fill-opacity=\"1\"/>\n",
       "<defs>\n",
       "  <clipPath id=\"clip202\">\n",
       "    <rect x=\"112\" y=\"47\" width=\"2242\" height=\"1440\"/>\n",
       "  </clipPath>\n",
       "</defs>\n",
       "<polyline clip-path=\"url(#clip202)\" style=\"stroke:#000000; stroke-linecap:butt; stroke-linejoin:round; stroke-width:2; stroke-opacity:0.1; fill:none\" points=\"\n",
       "  410.451,1486.45 410.451,47.2441 \n",
       "  \"/>\n",
       "<polyline clip-path=\"url(#clip202)\" style=\"stroke:#000000; stroke-linecap:butt; stroke-linejoin:round; stroke-width:2; stroke-opacity:0.1; fill:none\" points=\"\n",
       "  880.174,1486.45 880.174,47.2441 \n",
       "  \"/>\n",
       "<polyline clip-path=\"url(#clip202)\" style=\"stroke:#000000; stroke-linecap:butt; stroke-linejoin:round; stroke-width:2; stroke-opacity:0.1; fill:none\" points=\"\n",
       "  1349.9,1486.45 1349.9,47.2441 \n",
       "  \"/>\n",
       "<polyline clip-path=\"url(#clip202)\" style=\"stroke:#000000; stroke-linecap:butt; stroke-linejoin:round; stroke-width:2; stroke-opacity:0.1; fill:none\" points=\"\n",
       "  1819.62,1486.45 1819.62,47.2441 \n",
       "  \"/>\n",
       "<polyline clip-path=\"url(#clip202)\" style=\"stroke:#000000; stroke-linecap:butt; stroke-linejoin:round; stroke-width:2; stroke-opacity:0.1; fill:none\" points=\"\n",
       "  2289.34,1486.45 2289.34,47.2441 \n",
       "  \"/>\n",
       "<polyline clip-path=\"url(#clip200)\" style=\"stroke:#000000; stroke-linecap:butt; stroke-linejoin:round; stroke-width:4; stroke-opacity:1; fill:none\" points=\"\n",
       "  112.177,1486.45 2352.76,1486.45 \n",
       "  \"/>\n",
       "<polyline clip-path=\"url(#clip200)\" style=\"stroke:#000000; stroke-linecap:butt; stroke-linejoin:round; stroke-width:4; stroke-opacity:1; fill:none\" points=\"\n",
       "  410.451,1486.45 410.451,1467.55 \n",
       "  \"/>\n",
       "<polyline clip-path=\"url(#clip200)\" style=\"stroke:#000000; stroke-linecap:butt; stroke-linejoin:round; stroke-width:4; stroke-opacity:1; fill:none\" points=\"\n",
       "  880.174,1486.45 880.174,1467.55 \n",
       "  \"/>\n",
       "<polyline clip-path=\"url(#clip200)\" style=\"stroke:#000000; stroke-linecap:butt; stroke-linejoin:round; stroke-width:4; stroke-opacity:1; fill:none\" points=\"\n",
       "  1349.9,1486.45 1349.9,1467.55 \n",
       "  \"/>\n",
       "<polyline clip-path=\"url(#clip200)\" style=\"stroke:#000000; stroke-linecap:butt; stroke-linejoin:round; stroke-width:4; stroke-opacity:1; fill:none\" points=\"\n",
       "  1819.62,1486.45 1819.62,1467.55 \n",
       "  \"/>\n",
       "<polyline clip-path=\"url(#clip200)\" style=\"stroke:#000000; stroke-linecap:butt; stroke-linejoin:round; stroke-width:4; stroke-opacity:1; fill:none\" points=\"\n",
       "  2289.34,1486.45 2289.34,1467.55 \n",
       "  \"/>\n",
       "<path clip-path=\"url(#clip200)\" d=\"M405.104 1544.91 L421.423 1544.91 L421.423 1548.85 L399.479 1548.85 L399.479 1544.91 Q402.141 1542.16 406.724 1537.53 Q411.331 1532.88 412.511 1531.53 Q414.757 1529.01 415.636 1527.27 Q416.539 1525.51 416.539 1523.82 Q416.539 1521.07 414.595 1519.33 Q412.673 1517.6 409.572 1517.6 Q407.373 1517.6 404.919 1518.36 Q402.488 1519.13 399.711 1520.68 L399.711 1515.95 Q402.535 1514.82 404.988 1514.24 Q407.442 1513.66 409.479 1513.66 Q414.849 1513.66 418.044 1516.35 Q421.238 1519.03 421.238 1523.52 Q421.238 1525.65 420.428 1527.57 Q419.641 1529.47 417.535 1532.07 Q416.956 1532.74 413.854 1535.95 Q410.752 1539.15 405.104 1544.91 Z\" fill=\"#000000\" fill-rule=\"evenodd\" fill-opacity=\"1\" /><path clip-path=\"url(#clip200)\" d=\"M883.184 1518.36 L871.378 1536.81 L883.184 1536.81 L883.184 1518.36 M881.957 1514.29 L887.836 1514.29 L887.836 1536.81 L892.767 1536.81 L892.767 1540.7 L887.836 1540.7 L887.836 1548.85 L883.184 1548.85 L883.184 1540.7 L867.582 1540.7 L867.582 1536.19 L881.957 1514.29 Z\" fill=\"#000000\" fill-rule=\"evenodd\" fill-opacity=\"1\" /><path clip-path=\"url(#clip200)\" d=\"M1350.3 1529.7 Q1347.15 1529.7 1345.3 1531.86 Q1343.47 1534.01 1343.47 1537.76 Q1343.47 1541.49 1345.3 1543.66 Q1347.15 1545.82 1350.3 1545.82 Q1353.45 1545.82 1355.28 1543.66 Q1357.13 1541.49 1357.13 1537.76 Q1357.13 1534.01 1355.28 1531.86 Q1353.45 1529.7 1350.3 1529.7 M1359.58 1515.05 L1359.58 1519.31 Q1357.83 1518.48 1356.02 1518.04 Q1354.24 1517.6 1352.48 1517.6 Q1347.85 1517.6 1345.4 1520.72 Q1342.96 1523.85 1342.62 1530.17 Q1343.98 1528.15 1346.04 1527.09 Q1348.1 1526 1350.58 1526 Q1355.79 1526 1358.8 1529.17 Q1361.83 1532.32 1361.83 1537.76 Q1361.83 1543.08 1358.68 1546.3 Q1355.53 1549.52 1350.3 1549.52 Q1344.31 1549.52 1341.14 1544.94 Q1337.96 1540.33 1337.96 1531.6 Q1337.96 1523.41 1341.85 1518.55 Q1345.74 1513.66 1352.29 1513.66 Q1354.05 1513.66 1355.83 1514.01 Q1357.64 1514.36 1359.58 1515.05 Z\" fill=\"#000000\" fill-rule=\"evenodd\" fill-opacity=\"1\" /><path clip-path=\"url(#clip200)\" d=\"M1819.62 1532.44 Q1816.29 1532.44 1814.37 1534.22 Q1812.47 1536 1812.47 1539.13 Q1812.47 1542.25 1814.37 1544.03 Q1816.29 1545.82 1819.62 1545.82 Q1822.95 1545.82 1824.87 1544.03 Q1826.8 1542.23 1826.8 1539.13 Q1826.8 1536 1824.87 1534.22 Q1822.98 1532.44 1819.62 1532.44 M1814.94 1530.45 Q1811.94 1529.7 1810.25 1527.64 Q1808.58 1525.58 1808.58 1522.62 Q1808.58 1518.48 1811.52 1516.07 Q1814.48 1513.66 1819.62 1513.66 Q1824.78 1513.66 1827.72 1516.07 Q1830.66 1518.48 1830.66 1522.62 Q1830.66 1525.58 1828.97 1527.64 Q1827.31 1529.7 1824.32 1530.45 Q1827.7 1531.23 1829.57 1533.52 Q1831.47 1535.82 1831.47 1539.13 Q1831.47 1544.15 1828.39 1546.83 Q1825.34 1549.52 1819.62 1549.52 Q1813.9 1549.52 1810.82 1546.83 Q1807.77 1544.15 1807.77 1539.13 Q1807.77 1535.82 1809.67 1533.52 Q1811.56 1531.23 1814.94 1530.45 M1813.23 1523.06 Q1813.23 1525.75 1814.9 1527.25 Q1816.59 1528.76 1819.62 1528.76 Q1822.63 1528.76 1824.32 1527.25 Q1826.03 1525.75 1826.03 1523.06 Q1826.03 1520.38 1824.32 1518.87 Q1822.63 1517.37 1819.62 1517.37 Q1816.59 1517.37 1814.9 1518.87 Q1813.23 1520.38 1813.23 1523.06 Z\" fill=\"#000000\" fill-rule=\"evenodd\" fill-opacity=\"1\" /><path clip-path=\"url(#clip200)\" d=\"M2264.03 1544.91 L2271.67 1544.91 L2271.67 1518.55 L2263.36 1520.21 L2263.36 1515.95 L2271.62 1514.29 L2276.3 1514.29 L2276.3 1544.91 L2283.94 1544.91 L2283.94 1548.85 L2264.03 1548.85 L2264.03 1544.91 Z\" fill=\"#000000\" fill-rule=\"evenodd\" fill-opacity=\"1\" /><path clip-path=\"url(#clip200)\" d=\"M2303.38 1517.37 Q2299.77 1517.37 2297.94 1520.93 Q2296.14 1524.47 2296.14 1531.6 Q2296.14 1538.71 2297.94 1542.27 Q2299.77 1545.82 2303.38 1545.82 Q2307.02 1545.82 2308.82 1542.27 Q2310.65 1538.71 2310.65 1531.6 Q2310.65 1524.47 2308.82 1520.93 Q2307.02 1517.37 2303.38 1517.37 M2303.38 1513.66 Q2309.19 1513.66 2312.25 1518.27 Q2315.33 1522.85 2315.33 1531.6 Q2315.33 1540.33 2312.25 1544.94 Q2309.19 1549.52 2303.38 1549.52 Q2297.57 1549.52 2294.49 1544.94 Q2291.44 1540.33 2291.44 1531.6 Q2291.44 1522.85 2294.49 1518.27 Q2297.57 1513.66 2303.38 1513.66 Z\" fill=\"#000000\" fill-rule=\"evenodd\" fill-opacity=\"1\" /><polyline clip-path=\"url(#clip202)\" style=\"stroke:#000000; stroke-linecap:butt; stroke-linejoin:round; stroke-width:2; stroke-opacity:0.1; fill:none\" points=\"\n",
       "  112.177,1448.01 2352.76,1448.01 \n",
       "  \"/>\n",
       "<polyline clip-path=\"url(#clip202)\" style=\"stroke:#000000; stroke-linecap:butt; stroke-linejoin:round; stroke-width:2; stroke-opacity:0.1; fill:none\" points=\"\n",
       "  112.177,1216.42 2352.76,1216.42 \n",
       "  \"/>\n",
       "<polyline clip-path=\"url(#clip202)\" style=\"stroke:#000000; stroke-linecap:butt; stroke-linejoin:round; stroke-width:2; stroke-opacity:0.1; fill:none\" points=\"\n",
       "  112.177,984.84 2352.76,984.84 \n",
       "  \"/>\n",
       "<polyline clip-path=\"url(#clip202)\" style=\"stroke:#000000; stroke-linecap:butt; stroke-linejoin:round; stroke-width:2; stroke-opacity:0.1; fill:none\" points=\"\n",
       "  112.177,753.256 2352.76,753.256 \n",
       "  \"/>\n",
       "<polyline clip-path=\"url(#clip202)\" style=\"stroke:#000000; stroke-linecap:butt; stroke-linejoin:round; stroke-width:2; stroke-opacity:0.1; fill:none\" points=\"\n",
       "  112.177,521.672 2352.76,521.672 \n",
       "  \"/>\n",
       "<polyline clip-path=\"url(#clip202)\" style=\"stroke:#000000; stroke-linecap:butt; stroke-linejoin:round; stroke-width:2; stroke-opacity:0.1; fill:none\" points=\"\n",
       "  112.177,290.088 2352.76,290.088 \n",
       "  \"/>\n",
       "<polyline clip-path=\"url(#clip202)\" style=\"stroke:#000000; stroke-linecap:butt; stroke-linejoin:round; stroke-width:2; stroke-opacity:0.1; fill:none\" points=\"\n",
       "  112.177,58.5039 2352.76,58.5039 \n",
       "  \"/>\n",
       "<polyline clip-path=\"url(#clip200)\" style=\"stroke:#000000; stroke-linecap:butt; stroke-linejoin:round; stroke-width:4; stroke-opacity:1; fill:none\" points=\"\n",
       "  112.177,1486.45 112.177,47.2441 \n",
       "  \"/>\n",
       "<polyline clip-path=\"url(#clip200)\" style=\"stroke:#000000; stroke-linecap:butt; stroke-linejoin:round; stroke-width:4; stroke-opacity:1; fill:none\" points=\"\n",
       "  112.177,1448.01 131.075,1448.01 \n",
       "  \"/>\n",
       "<polyline clip-path=\"url(#clip200)\" style=\"stroke:#000000; stroke-linecap:butt; stroke-linejoin:round; stroke-width:4; stroke-opacity:1; fill:none\" points=\"\n",
       "  112.177,1216.42 131.075,1216.42 \n",
       "  \"/>\n",
       "<polyline clip-path=\"url(#clip200)\" style=\"stroke:#000000; stroke-linecap:butt; stroke-linejoin:round; stroke-width:4; stroke-opacity:1; fill:none\" points=\"\n",
       "  112.177,984.84 131.075,984.84 \n",
       "  \"/>\n",
       "<polyline clip-path=\"url(#clip200)\" style=\"stroke:#000000; stroke-linecap:butt; stroke-linejoin:round; stroke-width:4; stroke-opacity:1; fill:none\" points=\"\n",
       "  112.177,753.256 131.075,753.256 \n",
       "  \"/>\n",
       "<polyline clip-path=\"url(#clip200)\" style=\"stroke:#000000; stroke-linecap:butt; stroke-linejoin:round; stroke-width:4; stroke-opacity:1; fill:none\" points=\"\n",
       "  112.177,521.672 131.075,521.672 \n",
       "  \"/>\n",
       "<polyline clip-path=\"url(#clip200)\" style=\"stroke:#000000; stroke-linecap:butt; stroke-linejoin:round; stroke-width:4; stroke-opacity:1; fill:none\" points=\"\n",
       "  112.177,290.088 131.075,290.088 \n",
       "  \"/>\n",
       "<polyline clip-path=\"url(#clip200)\" style=\"stroke:#000000; stroke-linecap:butt; stroke-linejoin:round; stroke-width:4; stroke-opacity:1; fill:none\" points=\"\n",
       "  112.177,58.5039 131.075,58.5039 \n",
       "  \"/>\n",
       "<path clip-path=\"url(#clip200)\" d=\"M64.2328 1433.81 Q60.6217 1433.81 58.793 1437.37 Q56.9875 1440.91 56.9875 1448.04 Q56.9875 1455.15 58.793 1458.71 Q60.6217 1462.26 64.2328 1462.26 Q67.867 1462.26 69.6726 1458.71 Q71.5013 1455.15 71.5013 1448.04 Q71.5013 1440.91 69.6726 1437.37 Q67.867 1433.81 64.2328 1433.81 M64.2328 1430.1 Q70.0429 1430.1 73.0985 1434.71 Q76.1772 1439.29 76.1772 1448.04 Q76.1772 1456.77 73.0985 1461.38 Q70.0429 1465.96 64.2328 1465.96 Q58.4226 1465.96 55.344 1461.38 Q52.2884 1456.77 52.2884 1448.04 Q52.2884 1439.29 55.344 1434.71 Q58.4226 1430.1 64.2328 1430.1 Z\" fill=\"#000000\" fill-rule=\"evenodd\" fill-opacity=\"1\" /><path clip-path=\"url(#clip200)\" d=\"M56.2699 1229.77 L63.9087 1229.77 L63.9087 1203.4 L55.5986 1205.07 L55.5986 1200.81 L63.8624 1199.14 L68.5383 1199.14 L68.5383 1229.77 L76.1772 1229.77 L76.1772 1233.7 L56.2699 1233.7 L56.2699 1229.77 Z\" fill=\"#000000\" fill-rule=\"evenodd\" fill-opacity=\"1\" /><path clip-path=\"url(#clip200)\" d=\"M59.8578 998.185 L76.1772 998.185 L76.1772 1002.12 L54.2328 1002.12 L54.2328 998.185 Q56.8949 995.431 61.4782 990.801 Q66.0846 986.148 67.2652 984.806 Q69.5105 982.283 70.3902 980.546 Q71.2929 978.787 71.2929 977.097 Q71.2929 974.343 69.3485 972.607 Q67.4272 970.871 64.3254 970.871 Q62.1263 970.871 59.6726 971.634 Q57.2421 972.398 54.4643 973.949 L54.4643 969.227 Q57.2884 968.093 59.7421 967.514 Q62.1958 966.935 64.2328 966.935 Q69.6031 966.935 72.7976 969.621 Q75.992 972.306 75.992 976.796 Q75.992 978.926 75.1818 980.847 Q74.3948 982.745 72.2883 985.338 Q71.7096 986.009 68.6078 989.227 Q65.5059 992.421 59.8578 998.185 Z\" fill=\"#000000\" fill-rule=\"evenodd\" fill-opacity=\"1\" /><path clip-path=\"url(#clip200)\" d=\"M69.0476 751.902 Q72.404 752.62 74.279 754.888 Q76.1772 757.157 76.1772 760.49 Q76.1772 765.606 72.6587 768.407 Q69.1402 771.208 62.6587 771.208 Q60.4828 771.208 58.168 770.768 Q55.8764 770.351 53.4227 769.495 L53.4227 764.981 Q55.3671 766.115 57.6819 766.694 Q59.9967 767.272 62.5198 767.272 Q66.918 767.272 69.2096 765.536 Q71.5244 763.8 71.5244 760.49 Q71.5244 757.434 69.3717 755.722 Q67.242 753.985 63.4226 753.985 L59.3949 753.985 L59.3949 750.143 L63.6078 750.143 Q67.0569 750.143 68.8855 748.777 Q70.7142 747.388 70.7142 744.796 Q70.7142 742.134 68.8161 740.722 Q66.9411 739.286 63.4226 739.286 Q61.5013 739.286 59.3023 739.703 Q57.1032 740.12 54.4643 740.999 L54.4643 736.833 Q57.1264 736.092 59.4412 735.722 Q61.7791 735.351 63.8393 735.351 Q69.1633 735.351 72.2652 737.782 Q75.367 740.189 75.367 744.31 Q75.367 747.18 73.7235 749.171 Q72.08 751.138 69.0476 751.902 Z\" fill=\"#000000\" fill-rule=\"evenodd\" fill-opacity=\"1\" /><path clip-path=\"url(#clip200)\" d=\"M66.5939 508.466 L54.7884 526.915 L66.5939 526.915 L66.5939 508.466 M65.367 504.392 L71.2466 504.392 L71.2466 526.915 L76.1772 526.915 L76.1772 530.804 L71.2466 530.804 L71.2466 538.952 L66.5939 538.952 L66.5939 530.804 L50.9921 530.804 L50.9921 526.29 L65.367 504.392 Z\" fill=\"#000000\" fill-rule=\"evenodd\" fill-opacity=\"1\" /><path clip-path=\"url(#clip200)\" d=\"M55.2745 272.808 L73.6309 272.808 L73.6309 276.743 L59.5569 276.743 L59.5569 285.215 Q60.5754 284.868 61.5939 284.706 Q62.6124 284.521 63.6309 284.521 Q69.418 284.521 72.7976 287.692 Q76.1772 290.863 76.1772 296.28 Q76.1772 301.859 72.705 304.961 Q69.2328 308.039 62.9134 308.039 Q60.7374 308.039 58.4689 307.669 Q56.2236 307.299 53.8162 306.558 L53.8162 301.859 Q55.8995 302.993 58.1217 303.549 Q60.3439 304.104 62.8208 304.104 Q66.8254 304.104 69.1633 301.998 Q71.5013 299.891 71.5013 296.28 Q71.5013 292.669 69.1633 290.563 Q66.8254 288.456 62.8208 288.456 Q60.9458 288.456 59.0708 288.873 Q57.2189 289.289 55.2745 290.169 L55.2745 272.808 Z\" fill=\"#000000\" fill-rule=\"evenodd\" fill-opacity=\"1\" /><path clip-path=\"url(#clip200)\" d=\"M64.6495 56.6405 Q61.5013 56.6405 59.6495 58.7933 Q57.8208 60.946 57.8208 64.696 Q57.8208 68.4228 59.6495 70.5988 Q61.5013 72.7515 64.6495 72.7515 Q67.7976 72.7515 69.6263 70.5988 Q71.4781 68.4228 71.4781 64.696 Q71.4781 60.946 69.6263 58.7933 Q67.7976 56.6405 64.6495 56.6405 M73.9318 41.9878 L73.9318 46.247 Q72.1726 45.4137 70.367 44.9739 Q68.5846 44.5341 66.8254 44.5341 Q62.1958 44.5341 59.7421 47.6591 Q57.3115 50.784 56.9643 57.1035 Q58.33 55.0896 60.3902 54.0248 Q62.4504 52.9368 64.9272 52.9368 Q70.1355 52.9368 73.1448 56.1081 Q76.1772 59.2562 76.1772 64.696 Q76.1772 70.0201 73.029 73.2376 Q69.8809 76.4552 64.6495 76.4552 Q58.6541 76.4552 55.4828 71.8719 Q52.3116 67.2654 52.3116 58.5386 Q52.3116 50.3442 56.2004 45.4831 Q60.0893 40.5989 66.6402 40.5989 Q68.3994 40.5989 70.1818 40.9461 Q71.9874 41.2934 73.9318 41.9878 Z\" fill=\"#000000\" fill-rule=\"evenodd\" fill-opacity=\"1\" /><polyline clip-path=\"url(#clip202)\" style=\"stroke:#009af9; stroke-linecap:butt; stroke-linejoin:round; stroke-width:4; stroke-opacity:1; fill:none\" points=\"\n",
       "  175.59,1373.05 410.451,550.512 645.313,723.948 880.174,87.9763 1115.04,1397.31 1349.9,1445.72 1584.76,1438.71 1819.62,1375.78 2054.48,1386.23 2289.34,1325.29 \n",
       "  \n",
       "  \"/>\n",
       "<path clip-path=\"url(#clip200)\" d=\"\n",
       "M1976.69 198.898 L2278.07 198.898 L2278.07 95.2176 L1976.69 95.2176  Z\n",
       "  \" fill=\"#ffffff\" fill-rule=\"evenodd\" fill-opacity=\"1\"/>\n",
       "<polyline clip-path=\"url(#clip200)\" style=\"stroke:#000000; stroke-linecap:butt; stroke-linejoin:round; stroke-width:4; stroke-opacity:1; fill:none\" points=\"\n",
       "  1976.69,198.898 2278.07,198.898 2278.07,95.2176 1976.69,95.2176 1976.69,198.898 \n",
       "  \"/>\n",
       "<polyline clip-path=\"url(#clip200)\" style=\"stroke:#009af9; stroke-linecap:butt; stroke-linejoin:round; stroke-width:4; stroke-opacity:1; fill:none\" points=\"\n",
       "  2001.58,147.058 2150.95,147.058 \n",
       "  \"/>\n",
       "<path clip-path=\"url(#clip200)\" d=\"M2189.69 166.745 Q2187.89 171.375 2186.17 172.787 Q2184.46 174.199 2181.59 174.199 L2178.19 174.199 L2178.19 170.634 L2180.69 170.634 Q2182.45 170.634 2183.42 169.8 Q2184.39 168.967 2185.57 165.865 L2186.34 163.921 L2175.85 138.412 L2180.36 138.412 L2188.46 158.689 L2196.57 138.412 L2201.08 138.412 L2189.69 166.745 Z\" fill=\"#000000\" fill-rule=\"evenodd\" fill-opacity=\"1\" /><path clip-path=\"url(#clip200)\" d=\"M2208.37 160.402 L2216.01 160.402 L2216.01 134.037 L2207.7 135.703 L2207.7 131.444 L2215.96 129.778 L2220.64 129.778 L2220.64 160.402 L2228.28 160.402 L2228.28 164.338 L2208.37 164.338 L2208.37 160.402 Z\" fill=\"#000000\" fill-rule=\"evenodd\" fill-opacity=\"1\" /></svg>\n"
      ]
     },
     "execution_count": 33,
     "metadata": {},
     "output_type": "execute_result"
    }
   ],
   "source": [
    "# poor style\n",
    "function generatedata(n)\n",
    "    ϵ = zeros(n)\n",
    "    for i in eachindex(ϵ)\n",
    "        ϵ[i] = (randn())^2 # squaring the result\n",
    "    end\n",
    "    return ϵ\n",
    "end\n",
    "\n",
    "data = generatedata(10)\n",
    "plot(data)"
   ]
  },
  {
   "cell_type": "markdown",
   "id": "394a36af",
   "metadata": {},
   "source": [
    "Here\n",
    "\n",
    "- `function` is a Julia keyword that indicates the start of a function definition  \n",
    "- `generatedata` is an arbitrary name for the function  \n",
    "- `return` is a keyword indicating the return value, as is often unnecessary  \n",
    "\n",
    "\n",
    "Let us make this example slightly better by “remembering” that `randn` can return a vectors."
   ]
  },
  {
   "cell_type": "code",
   "execution_count": 34,
   "id": "72c0dbe0",
   "metadata": {
    "hide-output": false
   },
   "outputs": [
    {
     "data": {
      "text/plain": [
       "5-element Vector{Float64}:\n",
       " 0.4840915051057128\n",
       " 0.35471225549998714\n",
       " 1.202797642033786\n",
       " 0.5053895998289492\n",
       " 0.22418506554866002"
      ]
     },
     "execution_count": 34,
     "metadata": {},
     "output_type": "execute_result"
    }
   ],
   "source": [
    "# still poor style\n",
    "function generatedata(n)\n",
    "    ϵ = randn(n) # use built in function\n",
    "\n",
    "    for i in eachindex(ϵ)\n",
    "        ϵ[i] = ϵ[i]^2 # squaring the result\n",
    "    end\n",
    "\n",
    "    return ϵ\n",
    "end\n",
    "data = generatedata(5)"
   ]
  },
  {
   "cell_type": "markdown",
   "id": "6257bb44",
   "metadata": {},
   "source": [
    "While better, the looping over the `i` index to square the results is difficult to read.\n",
    "\n",
    "Instead of looping, we can **broadcast** the `^2` square function over a vector using a `.`.\n",
    "\n",
    "To be clear, unlike Python, R, and MATLAB (to a lesser extent), the reason to drop the `for` is **not** for performance reasons, but rather because of code clarity.\n",
    "\n",
    "Loops of this sort are at least as efficient as vectorized approach in compiled languages like Julia, so use a for loop if you think it makes the code more clear."
   ]
  },
  {
   "cell_type": "code",
   "execution_count": 35,
   "id": "c933be77",
   "metadata": {
    "hide-output": false
   },
   "outputs": [
    {
     "data": {
      "text/plain": [
       "5-element Vector{Float64}:\n",
       " 0.2809825354865747\n",
       " 0.17547874955778647\n",
       " 1.920761984865769\n",
       " 0.6241249926413053\n",
       " 0.01667086645326387"
      ]
     },
     "execution_count": 35,
     "metadata": {},
     "output_type": "execute_result"
    }
   ],
   "source": [
    "# better style\n",
    "function generatedata(n)\n",
    "    ϵ = randn(n) # use built in function\n",
    "    return ϵ.^2\n",
    " end\n",
    "data = generatedata(5)"
   ]
  },
  {
   "cell_type": "markdown",
   "id": "98f0a602",
   "metadata": {},
   "source": [
    "We can even drop the `function` if we define it on a single line."
   ]
  },
  {
   "cell_type": "code",
   "execution_count": 36,
   "id": "7128c3af",
   "metadata": {
    "hide-output": false
   },
   "outputs": [
    {
     "data": {
      "text/plain": [
       "5-element Vector{Float64}:\n",
       " 1.4317729092558755\n",
       " 0.07134047934553014\n",
       " 0.4522247314919708\n",
       " 0.9069561469669434\n",
       " 0.8368040436951736"
      ]
     },
     "execution_count": 36,
     "metadata": {},
     "output_type": "execute_result"
    }
   ],
   "source": [
    "# good style\n",
    "generatedata_new(n) = randn(n).^2\n",
    "data = generatedata_new(5)"
   ]
  },
  {
   "cell_type": "markdown",
   "id": "b3ee1bcd",
   "metadata": {},
   "source": [
    "Finally, we can broadcast any function, where squaring is only a special case."
   ]
  },
  {
   "cell_type": "code",
   "execution_count": 39,
   "id": "cb9bac62",
   "metadata": {
    "hide-output": false
   },
   "outputs": [
    {
     "data": {
      "text/plain": [
       "5-element Vector{Float64}:\n",
       " 1.0\n",
       " 1.0\n",
       " 1.0\n",
       " 1.0\n",
       " 1.0"
      ]
     },
     "execution_count": 39,
     "metadata": {},
     "output_type": "execute_result"
    }
   ],
   "source": [
    "# good style\n",
    "f(x) = x/x # simple divide function\n",
    "generatedata(n) = f.(randn(n)) # uses broadcast for some function `f`\n",
    "data = generatedata(5)"
   ]
  },
  {
   "cell_type": "markdown",
   "id": "32e39932",
   "metadata": {},
   "source": [
    "As a final – abstract – approach, we can make the `generatedata` function able to generically apply to a function."
   ]
  },
  {
   "cell_type": "code",
   "execution_count": 41,
   "id": "3f94fa35",
   "metadata": {
    "hide-output": false
   },
   "outputs": [
    {
     "data": {
      "text/plain": [
       "5-element Vector{Float64}:\n",
       " 1.0\n",
       " 1.0\n",
       " 1.0\n",
       " 1.0\n",
       " 1.0"
      ]
     },
     "execution_count": 41,
     "metadata": {},
     "output_type": "execute_result"
    }
   ],
   "source": [
    "generatedata(n, f) = f.(randn(n)) # uses broadcast for some function `f`\n",
    "\n",
    "f(x) = x/x # simple divide function\n",
    "data = generatedata(5, f) # applies f"
   ]
  },
  {
   "cell_type": "markdown",
   "id": "8e4eaeed",
   "metadata": {},
   "source": [
    "Whether this example is better or worse than the previous version depends on how it is used.\n",
    "\n",
    "High degrees of abstraction and generality, e.g. passing in a function `f` in this case, can make code either clearer or more confusing, but Julia enables you to use these techniques **with no performance overhead**.\n",
    "\n",
    "For this particular case, the clearest and most general solution is probably the simplest."
   ]
  },
  {
   "cell_type": "code",
   "execution_count": 44,
   "id": "7bba6d10",
   "metadata": {
    "hide-output": false
   },
   "outputs": [
    {
     "data": {
      "image/svg+xml": [
       "<?xml version=\"1.0\" encoding=\"utf-8\"?>\n",
       "<svg xmlns=\"http://www.w3.org/2000/svg\" xmlns:xlink=\"http://www.w3.org/1999/xlink\" width=\"600\" height=\"400\" viewBox=\"0 0 2400 1600\">\n",
       "<defs>\n",
       "  <clipPath id=\"clip320\">\n",
       "    <rect x=\"0\" y=\"0\" width=\"2400\" height=\"1600\"/>\n",
       "  </clipPath>\n",
       "</defs>\n",
       "<path clip-path=\"url(#clip320)\" d=\"\n",
       "M0 1600 L2400 1600 L2400 0 L0 0  Z\n",
       "  \" fill=\"#ffffff\" fill-rule=\"evenodd\" fill-opacity=\"1\"/>\n",
       "<defs>\n",
       "  <clipPath id=\"clip321\">\n",
       "    <rect x=\"480\" y=\"0\" width=\"1681\" height=\"1600\"/>\n",
       "  </clipPath>\n",
       "</defs>\n",
       "<path clip-path=\"url(#clip320)\" d=\"\n",
       "M147.108 1486.45 L2352.76 1486.45 L2352.76 47.2441 L147.108 47.2441  Z\n",
       "  \" fill=\"#ffffff\" fill-rule=\"evenodd\" fill-opacity=\"1\"/>\n",
       "<defs>\n",
       "  <clipPath id=\"clip322\">\n",
       "    <rect x=\"147\" y=\"47\" width=\"2207\" height=\"1440\"/>\n",
       "  </clipPath>\n",
       "</defs>\n",
       "<polyline clip-path=\"url(#clip322)\" style=\"stroke:#000000; stroke-linecap:butt; stroke-linejoin:round; stroke-width:2; stroke-opacity:0.1; fill:none\" points=\"\n",
       "  188.513,1486.45 188.513,47.2441 \n",
       "  \"/>\n",
       "<polyline clip-path=\"url(#clip322)\" style=\"stroke:#000000; stroke-linecap:butt; stroke-linejoin:round; stroke-width:2; stroke-opacity:0.1; fill:none\" points=\"\n",
       "  713.968,1486.45 713.968,47.2441 \n",
       "  \"/>\n",
       "<polyline clip-path=\"url(#clip322)\" style=\"stroke:#000000; stroke-linecap:butt; stroke-linejoin:round; stroke-width:2; stroke-opacity:0.1; fill:none\" points=\"\n",
       "  1239.42,1486.45 1239.42,47.2441 \n",
       "  \"/>\n",
       "<polyline clip-path=\"url(#clip322)\" style=\"stroke:#000000; stroke-linecap:butt; stroke-linejoin:round; stroke-width:2; stroke-opacity:0.1; fill:none\" points=\"\n",
       "  1764.88,1486.45 1764.88,47.2441 \n",
       "  \"/>\n",
       "<polyline clip-path=\"url(#clip322)\" style=\"stroke:#000000; stroke-linecap:butt; stroke-linejoin:round; stroke-width:2; stroke-opacity:0.1; fill:none\" points=\"\n",
       "  2290.33,1486.45 2290.33,47.2441 \n",
       "  \"/>\n",
       "<polyline clip-path=\"url(#clip320)\" style=\"stroke:#000000; stroke-linecap:butt; stroke-linejoin:round; stroke-width:4; stroke-opacity:1; fill:none\" points=\"\n",
       "  147.108,1486.45 2352.76,1486.45 \n",
       "  \"/>\n",
       "<polyline clip-path=\"url(#clip320)\" style=\"stroke:#000000; stroke-linecap:butt; stroke-linejoin:round; stroke-width:4; stroke-opacity:1; fill:none\" points=\"\n",
       "  188.513,1486.45 188.513,1467.55 \n",
       "  \"/>\n",
       "<polyline clip-path=\"url(#clip320)\" style=\"stroke:#000000; stroke-linecap:butt; stroke-linejoin:round; stroke-width:4; stroke-opacity:1; fill:none\" points=\"\n",
       "  713.968,1486.45 713.968,1467.55 \n",
       "  \"/>\n",
       "<polyline clip-path=\"url(#clip320)\" style=\"stroke:#000000; stroke-linecap:butt; stroke-linejoin:round; stroke-width:4; stroke-opacity:1; fill:none\" points=\"\n",
       "  1239.42,1486.45 1239.42,1467.55 \n",
       "  \"/>\n",
       "<polyline clip-path=\"url(#clip320)\" style=\"stroke:#000000; stroke-linecap:butt; stroke-linejoin:round; stroke-width:4; stroke-opacity:1; fill:none\" points=\"\n",
       "  1764.88,1486.45 1764.88,1467.55 \n",
       "  \"/>\n",
       "<polyline clip-path=\"url(#clip320)\" style=\"stroke:#000000; stroke-linecap:butt; stroke-linejoin:round; stroke-width:4; stroke-opacity:1; fill:none\" points=\"\n",
       "  2290.33,1486.45 2290.33,1467.55 \n",
       "  \"/>\n",
       "<path clip-path=\"url(#clip320)\" d=\"M188.513 1517.37 Q184.902 1517.37 183.074 1520.93 Q181.268 1524.47 181.268 1531.6 Q181.268 1538.71 183.074 1542.27 Q184.902 1545.82 188.513 1545.82 Q192.148 1545.82 193.953 1542.27 Q195.782 1538.71 195.782 1531.6 Q195.782 1524.47 193.953 1520.93 Q192.148 1517.37 188.513 1517.37 M188.513 1513.66 Q194.324 1513.66 197.379 1518.27 Q200.458 1522.85 200.458 1531.6 Q200.458 1540.33 197.379 1544.94 Q194.324 1549.52 188.513 1549.52 Q182.703 1549.52 179.625 1544.94 Q176.569 1540.33 176.569 1531.6 Q176.569 1522.85 179.625 1518.27 Q182.703 1513.66 188.513 1513.66 Z\" fill=\"#000000\" fill-rule=\"evenodd\" fill-opacity=\"1\" /><path clip-path=\"url(#clip320)\" d=\"M693.239 1544.91 L709.558 1544.91 L709.558 1548.85 L687.614 1548.85 L687.614 1544.91 Q690.276 1542.16 694.859 1537.53 Q699.466 1532.88 700.646 1531.53 Q702.892 1529.01 703.771 1527.27 Q704.674 1525.51 704.674 1523.82 Q704.674 1521.07 702.73 1519.33 Q700.808 1517.6 697.707 1517.6 Q695.507 1517.6 693.054 1518.36 Q690.623 1519.13 687.845 1520.68 L687.845 1515.95 Q690.67 1514.82 693.123 1514.24 Q695.577 1513.66 697.614 1513.66 Q702.984 1513.66 706.179 1516.35 Q709.373 1519.03 709.373 1523.52 Q709.373 1525.65 708.563 1527.57 Q707.776 1529.47 705.669 1532.07 Q705.091 1532.74 701.989 1535.95 Q698.887 1539.15 693.239 1544.91 Z\" fill=\"#000000\" fill-rule=\"evenodd\" fill-opacity=\"1\" /><path clip-path=\"url(#clip320)\" d=\"M719.419 1514.29 L737.776 1514.29 L737.776 1518.22 L723.702 1518.22 L723.702 1526.7 Q724.72 1526.35 725.739 1526.19 Q726.757 1526 727.776 1526 Q733.563 1526 736.942 1529.17 Q740.322 1532.34 740.322 1537.76 Q740.322 1543.34 736.85 1546.44 Q733.378 1549.52 727.058 1549.52 Q724.882 1549.52 722.614 1549.15 Q720.368 1548.78 717.961 1548.04 L717.961 1543.34 Q720.044 1544.47 722.267 1545.03 Q724.489 1545.58 726.966 1545.58 Q730.97 1545.58 733.308 1543.48 Q735.646 1541.37 735.646 1537.76 Q735.646 1534.15 733.308 1532.04 Q730.97 1529.94 726.966 1529.94 Q725.091 1529.94 723.216 1530.35 Q721.364 1530.77 719.419 1531.65 L719.419 1514.29 Z\" fill=\"#000000\" fill-rule=\"evenodd\" fill-opacity=\"1\" /><path clip-path=\"url(#clip320)\" d=\"M1214.12 1514.29 L1232.48 1514.29 L1232.48 1518.22 L1218.4 1518.22 L1218.4 1526.7 Q1219.42 1526.35 1220.44 1526.19 Q1221.46 1526 1222.48 1526 Q1228.27 1526 1231.64 1529.17 Q1235.02 1532.34 1235.02 1537.76 Q1235.02 1543.34 1231.55 1546.44 Q1228.08 1549.52 1221.76 1549.52 Q1219.58 1549.52 1217.32 1549.15 Q1215.07 1548.78 1212.66 1548.04 L1212.66 1543.34 Q1214.75 1544.47 1216.97 1545.03 Q1219.19 1545.58 1221.67 1545.58 Q1225.67 1545.58 1228.01 1543.48 Q1230.35 1541.37 1230.35 1537.76 Q1230.35 1534.15 1228.01 1532.04 Q1225.67 1529.94 1221.67 1529.94 Q1219.79 1529.94 1217.92 1530.35 Q1216.07 1530.77 1214.12 1531.65 L1214.12 1514.29 Z\" fill=\"#000000\" fill-rule=\"evenodd\" fill-opacity=\"1\" /><path clip-path=\"url(#clip320)\" d=\"M1254.24 1517.37 Q1250.63 1517.37 1248.8 1520.93 Q1246.99 1524.47 1246.99 1531.6 Q1246.99 1538.71 1248.8 1542.27 Q1250.63 1545.82 1254.24 1545.82 Q1257.87 1545.82 1259.68 1542.27 Q1261.51 1538.71 1261.51 1531.6 Q1261.51 1524.47 1259.68 1520.93 Q1257.87 1517.37 1254.24 1517.37 M1254.24 1513.66 Q1260.05 1513.66 1263.1 1518.27 Q1266.18 1522.85 1266.18 1531.6 Q1266.18 1540.33 1263.1 1544.94 Q1260.05 1549.52 1254.24 1549.52 Q1248.43 1549.52 1245.35 1544.94 Q1242.29 1540.33 1242.29 1531.6 Q1242.29 1522.85 1245.35 1518.27 Q1248.43 1513.66 1254.24 1513.66 Z\" fill=\"#000000\" fill-rule=\"evenodd\" fill-opacity=\"1\" /><path clip-path=\"url(#clip320)\" d=\"M1738.73 1514.29 L1760.95 1514.29 L1760.95 1516.28 L1748.41 1548.85 L1743.52 1548.85 L1755.33 1518.22 L1738.73 1518.22 L1738.73 1514.29 Z\" fill=\"#000000\" fill-rule=\"evenodd\" fill-opacity=\"1\" /><path clip-path=\"url(#clip320)\" d=\"M1770.12 1514.29 L1788.48 1514.29 L1788.48 1518.22 L1774.4 1518.22 L1774.4 1526.7 Q1775.42 1526.35 1776.44 1526.19 Q1777.46 1526 1778.48 1526 Q1784.26 1526 1787.64 1529.17 Q1791.02 1532.34 1791.02 1537.76 Q1791.02 1543.34 1787.55 1546.44 Q1784.08 1549.52 1777.76 1549.52 Q1775.58 1549.52 1773.31 1549.15 Q1771.07 1548.78 1768.66 1548.04 L1768.66 1543.34 Q1770.75 1544.47 1772.97 1545.03 Q1775.19 1545.58 1777.67 1545.58 Q1781.67 1545.58 1784.01 1543.48 Q1786.35 1541.37 1786.35 1537.76 Q1786.35 1534.15 1784.01 1532.04 Q1781.67 1529.94 1777.67 1529.94 Q1775.79 1529.94 1773.92 1530.35 Q1772.06 1530.77 1770.12 1531.65 L1770.12 1514.29 Z\" fill=\"#000000\" fill-rule=\"evenodd\" fill-opacity=\"1\" /><path clip-path=\"url(#clip320)\" d=\"M2249.94 1544.91 L2257.58 1544.91 L2257.58 1518.55 L2249.27 1520.21 L2249.27 1515.95 L2257.53 1514.29 L2262.21 1514.29 L2262.21 1544.91 L2269.85 1544.91 L2269.85 1548.85 L2249.94 1548.85 L2249.94 1544.91 Z\" fill=\"#000000\" fill-rule=\"evenodd\" fill-opacity=\"1\" /><path clip-path=\"url(#clip320)\" d=\"M2289.29 1517.37 Q2285.68 1517.37 2283.85 1520.93 Q2282.04 1524.47 2282.04 1531.6 Q2282.04 1538.71 2283.85 1542.27 Q2285.68 1545.82 2289.29 1545.82 Q2292.92 1545.82 2294.73 1542.27 Q2296.56 1538.71 2296.56 1531.6 Q2296.56 1524.47 2294.73 1520.93 Q2292.92 1517.37 2289.29 1517.37 M2289.29 1513.66 Q2295.1 1513.66 2298.16 1518.27 Q2301.23 1522.85 2301.23 1531.6 Q2301.23 1540.33 2298.16 1544.94 Q2295.1 1549.52 2289.29 1549.52 Q2283.48 1549.52 2280.4 1544.94 Q2277.35 1540.33 2277.35 1531.6 Q2277.35 1522.85 2280.4 1518.27 Q2283.48 1513.66 2289.29 1513.66 Z\" fill=\"#000000\" fill-rule=\"evenodd\" fill-opacity=\"1\" /><path clip-path=\"url(#clip320)\" d=\"M2319.45 1517.37 Q2315.84 1517.37 2314.01 1520.93 Q2312.21 1524.47 2312.21 1531.6 Q2312.21 1538.71 2314.01 1542.27 Q2315.84 1545.82 2319.45 1545.82 Q2323.09 1545.82 2324.89 1542.27 Q2326.72 1538.71 2326.72 1531.6 Q2326.72 1524.47 2324.89 1520.93 Q2323.09 1517.37 2319.45 1517.37 M2319.45 1513.66 Q2325.26 1513.66 2328.32 1518.27 Q2331.4 1522.85 2331.4 1531.6 Q2331.4 1540.33 2328.32 1544.94 Q2325.26 1549.52 2319.45 1549.52 Q2313.64 1549.52 2310.56 1544.94 Q2307.51 1540.33 2307.51 1531.6 Q2307.51 1522.85 2310.56 1518.27 Q2313.64 1513.66 2319.45 1513.66 Z\" fill=\"#000000\" fill-rule=\"evenodd\" fill-opacity=\"1\" /><polyline clip-path=\"url(#clip322)\" style=\"stroke:#000000; stroke-linecap:butt; stroke-linejoin:round; stroke-width:2; stroke-opacity:0.1; fill:none\" points=\"\n",
       "  147.108,1358.74 2352.76,1358.74 \n",
       "  \"/>\n",
       "<polyline clip-path=\"url(#clip322)\" style=\"stroke:#000000; stroke-linecap:butt; stroke-linejoin:round; stroke-width:2; stroke-opacity:0.1; fill:none\" points=\"\n",
       "  147.108,1068.49 2352.76,1068.49 \n",
       "  \"/>\n",
       "<polyline clip-path=\"url(#clip322)\" style=\"stroke:#000000; stroke-linecap:butt; stroke-linejoin:round; stroke-width:2; stroke-opacity:0.1; fill:none\" points=\"\n",
       "  147.108,778.237 2352.76,778.237 \n",
       "  \"/>\n",
       "<polyline clip-path=\"url(#clip322)\" style=\"stroke:#000000; stroke-linecap:butt; stroke-linejoin:round; stroke-width:2; stroke-opacity:0.1; fill:none\" points=\"\n",
       "  147.108,487.983 2352.76,487.983 \n",
       "  \"/>\n",
       "<polyline clip-path=\"url(#clip322)\" style=\"stroke:#000000; stroke-linecap:butt; stroke-linejoin:round; stroke-width:2; stroke-opacity:0.1; fill:none\" points=\"\n",
       "  147.108,197.73 2352.76,197.73 \n",
       "  \"/>\n",
       "<polyline clip-path=\"url(#clip320)\" style=\"stroke:#000000; stroke-linecap:butt; stroke-linejoin:round; stroke-width:4; stroke-opacity:1; fill:none\" points=\"\n",
       "  147.108,1486.45 147.108,47.2441 \n",
       "  \"/>\n",
       "<polyline clip-path=\"url(#clip320)\" style=\"stroke:#000000; stroke-linecap:butt; stroke-linejoin:round; stroke-width:4; stroke-opacity:1; fill:none\" points=\"\n",
       "  147.108,1358.74 166.005,1358.74 \n",
       "  \"/>\n",
       "<polyline clip-path=\"url(#clip320)\" style=\"stroke:#000000; stroke-linecap:butt; stroke-linejoin:round; stroke-width:4; stroke-opacity:1; fill:none\" points=\"\n",
       "  147.108,1068.49 166.005,1068.49 \n",
       "  \"/>\n",
       "<polyline clip-path=\"url(#clip320)\" style=\"stroke:#000000; stroke-linecap:butt; stroke-linejoin:round; stroke-width:4; stroke-opacity:1; fill:none\" points=\"\n",
       "  147.108,778.237 166.005,778.237 \n",
       "  \"/>\n",
       "<polyline clip-path=\"url(#clip320)\" style=\"stroke:#000000; stroke-linecap:butt; stroke-linejoin:round; stroke-width:4; stroke-opacity:1; fill:none\" points=\"\n",
       "  147.108,487.983 166.005,487.983 \n",
       "  \"/>\n",
       "<polyline clip-path=\"url(#clip320)\" style=\"stroke:#000000; stroke-linecap:butt; stroke-linejoin:round; stroke-width:4; stroke-opacity:1; fill:none\" points=\"\n",
       "  147.108,197.73 166.005,197.73 \n",
       "  \"/>\n",
       "<path clip-path=\"url(#clip320)\" d=\"M50.9921 1359.2 L80.6679 1359.2 L80.6679 1363.13 L50.9921 1363.13 L50.9921 1359.2 Z\" fill=\"#000000\" fill-rule=\"evenodd\" fill-opacity=\"1\" /><path clip-path=\"url(#clip320)\" d=\"M94.7882 1372.09 L111.108 1372.09 L111.108 1376.02 L89.1632 1376.02 L89.1632 1372.09 Q91.8252 1369.33 96.4085 1364.7 Q101.015 1360.05 102.196 1358.71 Q104.441 1356.19 105.321 1354.45 Q106.223 1352.69 106.223 1351 Q106.223 1348.25 104.279 1346.51 Q102.358 1344.77 99.2558 1344.77 Q97.0567 1344.77 94.603 1345.54 Q92.1725 1346.3 89.3947 1347.85 L89.3947 1343.13 Q92.2188 1342 94.6724 1341.42 Q97.1261 1340.84 99.1632 1340.84 Q104.534 1340.84 107.728 1343.52 Q110.922 1346.21 110.922 1350.7 Q110.922 1352.83 110.112 1354.75 Q109.325 1356.65 107.219 1359.24 Q106.64 1359.91 103.538 1363.13 Q100.436 1366.33 94.7882 1372.09 Z\" fill=\"#000000\" fill-rule=\"evenodd\" fill-opacity=\"1\" /><path clip-path=\"url(#clip320)\" d=\"M99.1632 1054.29 Q95.5521 1054.29 93.7234 1057.85 Q91.9178 1061.4 91.9178 1068.53 Q91.9178 1075.63 93.7234 1079.2 Q95.5521 1082.74 99.1632 1082.74 Q102.797 1082.74 104.603 1079.2 Q106.432 1075.63 106.432 1068.53 Q106.432 1061.4 104.603 1057.85 Q102.797 1054.29 99.1632 1054.29 M99.1632 1050.59 Q104.973 1050.59 108.029 1055.19 Q111.108 1059.78 111.108 1068.53 Q111.108 1077.25 108.029 1081.86 Q104.973 1086.44 99.1632 1086.44 Q93.353 1086.44 90.2743 1081.86 Q87.2188 1077.25 87.2188 1068.53 Q87.2188 1059.78 90.2743 1055.19 Q93.353 1050.59 99.1632 1050.59 Z\" fill=\"#000000\" fill-rule=\"evenodd\" fill-opacity=\"1\" /><path clip-path=\"url(#clip320)\" d=\"M94.7882 791.582 L111.108 791.582 L111.108 795.517 L89.1632 795.517 L89.1632 791.582 Q91.8252 788.827 96.4085 784.198 Q101.015 779.545 102.196 778.202 Q104.441 775.679 105.321 773.943 Q106.223 772.184 106.223 770.494 Q106.223 767.739 104.279 766.003 Q102.358 764.267 99.2558 764.267 Q97.0567 764.267 94.603 765.031 Q92.1725 765.795 89.3947 767.346 L89.3947 762.624 Q92.2188 761.489 94.6724 760.911 Q97.1261 760.332 99.1632 760.332 Q104.534 760.332 107.728 763.017 Q110.922 765.702 110.922 770.193 Q110.922 772.323 110.112 774.244 Q109.325 776.142 107.219 778.735 Q106.64 779.406 103.538 782.623 Q100.436 785.818 94.7882 791.582 Z\" fill=\"#000000\" fill-rule=\"evenodd\" fill-opacity=\"1\" /><path clip-path=\"url(#clip320)\" d=\"M101.524 474.777 L89.7188 493.226 L101.524 493.226 L101.524 474.777 M100.297 470.703 L106.177 470.703 L106.177 493.226 L111.108 493.226 L111.108 497.115 L106.177 497.115 L106.177 505.263 L101.524 505.263 L101.524 497.115 L85.9225 497.115 L85.9225 492.601 L100.297 470.703 Z\" fill=\"#000000\" fill-rule=\"evenodd\" fill-opacity=\"1\" /><path clip-path=\"url(#clip320)\" d=\"M99.5798 195.866 Q96.4317 195.866 94.5799 198.019 Q92.7512 200.172 92.7512 203.922 Q92.7512 207.649 94.5799 209.825 Q96.4317 211.977 99.5798 211.977 Q102.728 211.977 104.557 209.825 Q106.408 207.649 106.408 203.922 Q106.408 200.172 104.557 198.019 Q102.728 195.866 99.5798 195.866 M108.862 181.214 L108.862 185.473 Q107.103 184.64 105.297 184.2 Q103.515 183.76 101.756 183.76 Q97.1261 183.76 94.6724 186.885 Q92.2419 190.01 91.8947 196.329 Q93.2604 194.315 95.3206 193.251 Q97.3808 192.163 99.8576 192.163 Q105.066 192.163 108.075 195.334 Q111.108 198.482 111.108 203.922 Q111.108 209.246 107.959 212.463 Q104.811 215.681 99.5798 215.681 Q93.5845 215.681 90.4132 211.098 Q87.2419 206.491 87.2419 197.764 Q87.2419 189.57 91.1308 184.709 Q95.0197 179.825 101.571 179.825 Q103.33 179.825 105.112 180.172 Q106.918 180.519 108.862 181.214 Z\" fill=\"#000000\" fill-rule=\"evenodd\" fill-opacity=\"1\" /><polyline clip-path=\"url(#clip322)\" style=\"stroke:#009af9; stroke-linecap:butt; stroke-linejoin:round; stroke-width:4; stroke-opacity:1; fill:none\" points=\"\n",
       "  209.532,1023.07 230.55,846.63 251.568,986.584 272.586,859.149 293.604,483.461 314.622,1066.24 335.641,1066.55 356.659,646.278 377.677,853.552 398.695,1002.26 \n",
       "  419.713,1055.75 440.732,1068.05 461.75,1019.24 482.768,1018.06 503.786,935.53 524.804,635.138 545.823,1064.59 566.841,726.211 587.859,935.7 608.877,1043.95 \n",
       "  629.895,1058.35 650.913,1025.6 671.932,1047.47 692.95,1007.87 713.968,233.576 734.986,1007.65 756.004,985.17 777.023,1054.59 798.041,1048.77 819.059,1051.24 \n",
       "  840.077,1053.14 861.095,1036.25 882.113,1068.38 903.132,1041.47 924.15,955.325 945.168,1068.49 966.186,1058.6 987.204,1066.48 1008.22,783.072 1029.24,1040.52 \n",
       "  1050.26,994.771 1071.28,810.91 1092.3,1057.37 1113.31,1027.92 1134.33,1007.24 1155.35,1056.64 1176.37,665.116 1197.39,922.88 1218.4,1064.21 1239.42,1047.48 \n",
       "  1260.44,889.172 1281.46,1047.75 1302.48,907.908 1323.5,983.268 1344.51,906.81 1365.53,1068.49 1386.55,663.262 1407.57,900.467 1428.59,845.333 1449.6,928.644 \n",
       "  1470.62,1060.77 1491.64,1057.41 1512.66,975.736 1533.68,1054.59 1554.7,917.064 1575.71,933.718 1596.73,1023.52 1617.75,1004.78 1638.77,871.498 1659.79,1000.8 \n",
       "  1680.8,902.795 1701.82,881.126 1722.84,1019.1 1743.86,850.809 1764.88,818.002 1785.9,1033.88 1806.91,1060.05 1827.93,895.157 1848.95,1007.36 1869.97,1025.62 \n",
       "  1890.99,1066.38 1912,562.464 1933.02,1066 1954.04,896.732 1975.06,1061.27 1996.08,470.699 2017.1,606.419 2038.11,1053.39 2059.13,1067.96 2080.15,962.302 \n",
       "  2101.17,992.889 2122.19,1051.6 2143.2,1068.2 2164.22,1059.98 2185.24,919.649 2206.26,374.19 2227.28,787.321 2248.3,1043.61 2269.31,889.519 2290.33,87.9763 \n",
       "  \n",
       "  \"/>\n",
       "<polyline clip-path=\"url(#clip322)\" style=\"stroke:#e26f46; stroke-linecap:butt; stroke-linejoin:round; stroke-width:4; stroke-opacity:1; fill:none\" points=\"\n",
       "  209.532,1149.68 230.55,889.053 251.568,1177.52 272.586,894.189 293.604,777.108 314.622,1086.56 335.641,1085.29 356.659,1316.03 377.677,1245.11 398.695,1166.53 \n",
       "  419.713,1025.5 440.732,1076.51 461.75,1153.03 482.768,982.939 503.786,929.58 524.804,817.709 545.823,1092.29 566.841,1291.37 587.859,1207.31 608.877,1008.81 \n",
       "  629.895,1030.13 650.913,1147.39 671.932,1013.26 692.95,974.698 713.968,720.398 734.986,1162.46 756.004,958.527 777.023,1113.41 798.041,1015 819.059,1018.45 \n",
       "  840.077,1021.29 861.095,1000.09 882.113,1064.44 903.132,1005.87 924.15,940.337 945.168,1068.12 966.186,1106.37 987.204,1051.42 1008.22,1272.01 1029.24,1004.77 \n",
       "  1050.26,965.056 1071.28,1261.83 1092.3,1028.31 1113.31,1145.23 1134.33,1162.78 1155.35,1027.03 1176.37,826.539 1197.39,923.122 1218.4,1093.42 1239.42,1013.27 \n",
       "  1260.44,1229.81 1281.46,1013.62 1302.48,1221.15 1323.5,957.279 1344.51,915.31 1365.53,1068.03 1386.55,1311 1407.57,912.334 1428.59,1248.45 1449.6,926.028 \n",
       "  1470.62,1101.97 1491.64,1108.59 1512.66,952.468 1533.68,1023.57 1554.7,920.247 1575.71,928.637 1596.73,1149.28 1617.75,1164.64 1638.77,899.408 1659.79,1167.6 \n",
       "  1680.8,913.42 1701.82,1233.39 1722.84,1153.16 1743.86,1246.23 1764.88,877.827 1785.9,997.622 1806.91,1103.49 1827.93,1227.09 1848.95,1162.68 1869.97,989.613 \n",
       "  1890.99,1051 1912,1339.49 1933.02,1049.5 1954.04,1226.37 1975.06,1036.11 1996.08,773.947 2017.1,809.533 2038.11,1021.67 2059.13,1077.25 2080.15,1192.63 \n",
       "  2101.17,1173.24 2122.19,1018.98 2143.2,1061.95 2164.22,1103.64 2185.24,1215.46 2206.26,751.061 2227.28,1270.49 2248.3,1128.58 2269.31,907.327 2290.33,1445.72 \n",
       "  \n",
       "  \"/>\n",
       "<path clip-path=\"url(#clip320)\" d=\"\n",
       "M1942.33 250.738 L2279.23 250.738 L2279.23 95.2176 L1942.33 95.2176  Z\n",
       "  \" fill=\"#ffffff\" fill-rule=\"evenodd\" fill-opacity=\"1\"/>\n",
       "<polyline clip-path=\"url(#clip320)\" style=\"stroke:#000000; stroke-linecap:butt; stroke-linejoin:round; stroke-width:4; stroke-opacity:1; fill:none\" points=\"\n",
       "  1942.33,250.738 2279.23,250.738 2279.23,95.2176 1942.33,95.2176 1942.33,250.738 \n",
       "  \"/>\n",
       "<polyline clip-path=\"url(#clip320)\" style=\"stroke:#009af9; stroke-linecap:butt; stroke-linejoin:round; stroke-width:4; stroke-opacity:1; fill:none\" points=\"\n",
       "  1966.84,147.058 2113.88,147.058 \n",
       "  \"/>\n",
       "<path clip-path=\"url(#clip320)\" d=\"M2163.04 138.412 L2153.67 151.027 L2163.53 164.338 L2158.51 164.338 L2150.96 154.152 L2143.41 164.338 L2138.39 164.338 L2148.46 150.773 L2139.25 138.412 L2144.27 138.412 L2151.15 147.648 L2158.02 138.412 L2163.04 138.412 Z\" fill=\"#000000\" fill-rule=\"evenodd\" fill-opacity=\"1\" /><path clip-path=\"url(#clip320)\" d=\"M2187.21 129.778 L2199.78 142.671 L2195.13 142.671 L2184.94 133.528 L2174.76 142.671 L2170.1 142.671 L2182.67 129.778 L2187.21 129.778 Z\" fill=\"#000000\" fill-rule=\"evenodd\" fill-opacity=\"1\" /><path clip-path=\"url(#clip320)\" d=\"M2213.9 160.402 L2230.22 160.402 L2230.22 164.338 L2208.28 164.338 L2208.28 160.402 Q2210.94 157.648 2215.52 153.018 Q2220.13 148.365 2221.31 147.023 Q2223.55 144.5 2224.43 142.764 Q2225.34 141.004 2225.34 139.315 Q2225.34 136.56 2223.39 134.824 Q2221.47 133.088 2218.37 133.088 Q2216.17 133.088 2213.72 133.852 Q2211.28 134.615 2208.51 136.166 L2208.51 131.444 Q2211.33 130.31 2213.78 129.731 Q2216.24 129.153 2218.28 129.153 Q2223.65 129.153 2226.84 131.838 Q2230.03 134.523 2230.03 139.014 Q2230.03 141.143 2229.22 143.065 Q2228.44 144.963 2226.33 147.555 Q2225.75 148.227 2222.65 151.444 Q2219.55 154.639 2213.9 160.402 Z\" fill=\"#000000\" fill-rule=\"evenodd\" fill-opacity=\"1\" /><polyline clip-path=\"url(#clip320)\" style=\"stroke:#e26f46; stroke-linecap:butt; stroke-linejoin:round; stroke-width:4; stroke-opacity:1; fill:none\" points=\"\n",
       "  1966.84,198.898 2113.88,198.898 \n",
       "  \"/>\n",
       "<path clip-path=\"url(#clip320)\" d=\"M2163.04 190.252 L2153.67 202.867 L2163.53 216.178 L2158.51 216.178 L2150.96 205.992 L2143.41 216.178 L2138.39 216.178 L2148.46 202.613 L2139.25 190.252 L2144.27 190.252 L2151.15 199.488 L2158.02 190.252 L2163.04 190.252 Z\" fill=\"#000000\" fill-rule=\"evenodd\" fill-opacity=\"1\" /></svg>\n"
      ]
     },
     "execution_count": 44,
     "metadata": {},
     "output_type": "execute_result"
    }
   ],
   "source": [
    "# direct solution with broadcasting, and small user-defined function\n",
    "n = 100\n",
    "f(x) = x^2\n",
    "\n",
    "x = randn(n)\n",
    "plot(f.(x), label=\"x^2\")\n",
    "plot!(x, label=\"x\") # layer on the same plot"
   ]
  },
  {
   "cell_type": "markdown",
   "id": "b0587e54",
   "metadata": {},
   "source": [
    "While broadcasting above superficially looks like vectorizing functions in MATLAB, or Python ufuncs, it is much richer and built on core foundations of the language.\n",
    "\n",
    "The other additional function `plot!` adds a graph to the existing plot.\n",
    "\n",
    "This follows a general convention in Julia, **where a function that modifies the arguments or a global state has a `!` at the end of its name.**"
   ]
  },
  {
   "cell_type": "markdown",
   "id": "4a34a6a1",
   "metadata": {},
   "source": [
    "#### A Slightly More Useful Function\n",
    "\n",
    "Let’s make a slightly more useful function.\n",
    "\n",
    "This function will be passed in a choice of probability distribution and respond by plotting a histogram of observations.\n",
    "\n",
    "In doing so we’ll make use of the `Distributions` package, which we assume was instantiated above with the project.\n",
    "\n",
    "Here’s the code"
   ]
  },
  {
   "cell_type": "code",
   "execution_count": 45,
   "id": "a30b6e9c",
   "metadata": {
    "hide-output": false
   },
   "outputs": [
    {
     "data": {
      "image/svg+xml": [
       "<?xml version=\"1.0\" encoding=\"utf-8\"?>\n",
       "<svg xmlns=\"http://www.w3.org/2000/svg\" xmlns:xlink=\"http://www.w3.org/1999/xlink\" width=\"600\" height=\"400\" viewBox=\"0 0 2400 1600\">\n",
       "<defs>\n",
       "  <clipPath id=\"clip360\">\n",
       "    <rect x=\"0\" y=\"0\" width=\"2400\" height=\"1600\"/>\n",
       "  </clipPath>\n",
       "</defs>\n",
       "<path clip-path=\"url(#clip360)\" d=\"\n",
       "M0 1600 L2400 1600 L2400 0 L0 0  Z\n",
       "  \" fill=\"#ffffff\" fill-rule=\"evenodd\" fill-opacity=\"1\"/>\n",
       "<defs>\n",
       "  <clipPath id=\"clip361\">\n",
       "    <rect x=\"480\" y=\"0\" width=\"1681\" height=\"1600\"/>\n",
       "  </clipPath>\n",
       "</defs>\n",
       "<path clip-path=\"url(#clip360)\" d=\"\n",
       "M169.121 1486.45 L2352.76 1486.45 L2352.76 47.2441 L169.121 47.2441  Z\n",
       "  \" fill=\"#ffffff\" fill-rule=\"evenodd\" fill-opacity=\"1\"/>\n",
       "<defs>\n",
       "  <clipPath id=\"clip362\">\n",
       "    <rect x=\"169\" y=\"47\" width=\"2185\" height=\"1440\"/>\n",
       "  </clipPath>\n",
       "</defs>\n",
       "<polyline clip-path=\"url(#clip362)\" style=\"stroke:#000000; stroke-linecap:butt; stroke-linejoin:round; stroke-width:2; stroke-opacity:0.1; fill:none\" points=\"\n",
       "  600.173,1486.45 600.173,47.2441 \n",
       "  \"/>\n",
       "<polyline clip-path=\"url(#clip362)\" style=\"stroke:#000000; stroke-linecap:butt; stroke-linejoin:round; stroke-width:2; stroke-opacity:0.1; fill:none\" points=\"\n",
       "  1066.6,1486.45 1066.6,47.2441 \n",
       "  \"/>\n",
       "<polyline clip-path=\"url(#clip362)\" style=\"stroke:#000000; stroke-linecap:butt; stroke-linejoin:round; stroke-width:2; stroke-opacity:0.1; fill:none\" points=\"\n",
       "  1533.02,1486.45 1533.02,47.2441 \n",
       "  \"/>\n",
       "<polyline clip-path=\"url(#clip362)\" style=\"stroke:#000000; stroke-linecap:butt; stroke-linejoin:round; stroke-width:2; stroke-opacity:0.1; fill:none\" points=\"\n",
       "  1999.44,1486.45 1999.44,47.2441 \n",
       "  \"/>\n",
       "<polyline clip-path=\"url(#clip360)\" style=\"stroke:#000000; stroke-linecap:butt; stroke-linejoin:round; stroke-width:4; stroke-opacity:1; fill:none\" points=\"\n",
       "  169.121,1486.45 2352.76,1486.45 \n",
       "  \"/>\n",
       "<polyline clip-path=\"url(#clip360)\" style=\"stroke:#000000; stroke-linecap:butt; stroke-linejoin:round; stroke-width:4; stroke-opacity:1; fill:none\" points=\"\n",
       "  600.173,1486.45 600.173,1467.55 \n",
       "  \"/>\n",
       "<polyline clip-path=\"url(#clip360)\" style=\"stroke:#000000; stroke-linecap:butt; stroke-linejoin:round; stroke-width:4; stroke-opacity:1; fill:none\" points=\"\n",
       "  1066.6,1486.45 1066.6,1467.55 \n",
       "  \"/>\n",
       "<polyline clip-path=\"url(#clip360)\" style=\"stroke:#000000; stroke-linecap:butt; stroke-linejoin:round; stroke-width:4; stroke-opacity:1; fill:none\" points=\"\n",
       "  1533.02,1486.45 1533.02,1467.55 \n",
       "  \"/>\n",
       "<polyline clip-path=\"url(#clip360)\" style=\"stroke:#000000; stroke-linecap:butt; stroke-linejoin:round; stroke-width:4; stroke-opacity:1; fill:none\" points=\"\n",
       "  1999.44,1486.45 1999.44,1467.55 \n",
       "  \"/>\n",
       "<path clip-path=\"url(#clip360)\" d=\"M569.641 1532.02 L599.317 1532.02 L599.317 1535.95 L569.641 1535.95 L569.641 1532.02 Z\" fill=\"#000000\" fill-rule=\"evenodd\" fill-opacity=\"1\" /><path clip-path=\"url(#clip360)\" d=\"M623.576 1530.21 Q626.933 1530.93 628.808 1533.2 Q630.706 1535.47 630.706 1538.8 Q630.706 1543.92 627.187 1546.72 Q623.669 1549.52 617.187 1549.52 Q615.011 1549.52 612.697 1549.08 Q610.405 1548.66 607.951 1547.81 L607.951 1543.29 Q609.896 1544.43 612.21 1545.01 Q614.525 1545.58 617.048 1545.58 Q621.446 1545.58 623.738 1543.85 Q626.053 1542.11 626.053 1538.8 Q626.053 1535.75 623.9 1534.03 Q621.771 1532.3 617.951 1532.3 L613.923 1532.3 L613.923 1528.45 L618.136 1528.45 Q621.585 1528.45 623.414 1527.09 Q625.243 1525.7 625.243 1523.11 Q625.243 1520.45 623.345 1519.03 Q621.47 1517.6 617.951 1517.6 Q616.03 1517.6 613.831 1518.01 Q611.632 1518.43 608.993 1519.31 L608.993 1515.14 Q611.655 1514.4 613.97 1514.03 Q616.308 1513.66 618.368 1513.66 Q623.692 1513.66 626.794 1516.09 Q629.895 1518.5 629.895 1522.62 Q629.895 1525.49 628.252 1527.48 Q626.608 1529.45 623.576 1530.21 Z\" fill=\"#000000\" fill-rule=\"evenodd\" fill-opacity=\"1\" /><path clip-path=\"url(#clip360)\" d=\"M1066.6 1517.37 Q1062.98 1517.37 1061.16 1520.93 Q1059.35 1524.47 1059.35 1531.6 Q1059.35 1538.71 1061.16 1542.27 Q1062.98 1545.82 1066.6 1545.82 Q1070.23 1545.82 1072.04 1542.27 Q1073.86 1538.71 1073.86 1531.6 Q1073.86 1524.47 1072.04 1520.93 Q1070.23 1517.37 1066.6 1517.37 M1066.6 1513.66 Q1072.41 1513.66 1075.46 1518.27 Q1078.54 1522.85 1078.54 1531.6 Q1078.54 1540.33 1075.46 1544.94 Q1072.41 1549.52 1066.6 1549.52 Q1060.79 1549.52 1057.71 1544.94 Q1054.65 1540.33 1054.65 1531.6 Q1054.65 1522.85 1057.71 1518.27 Q1060.79 1513.66 1066.6 1513.66 Z\" fill=\"#000000\" fill-rule=\"evenodd\" fill-opacity=\"1\" /><path clip-path=\"url(#clip360)\" d=\"M1537.27 1530.21 Q1540.62 1530.93 1542.5 1533.2 Q1544.4 1535.47 1544.4 1538.8 Q1544.4 1543.92 1540.88 1546.72 Q1537.36 1549.52 1530.88 1549.52 Q1528.7 1549.52 1526.39 1549.08 Q1524.09 1548.66 1521.64 1547.81 L1521.64 1543.29 Q1523.59 1544.43 1525.9 1545.01 Q1528.22 1545.58 1530.74 1545.58 Q1535.14 1545.58 1537.43 1543.85 Q1539.74 1542.11 1539.74 1538.8 Q1539.74 1535.75 1537.59 1534.03 Q1535.46 1532.3 1531.64 1532.3 L1527.61 1532.3 L1527.61 1528.45 L1531.83 1528.45 Q1535.28 1528.45 1537.1 1527.09 Q1538.93 1525.7 1538.93 1523.11 Q1538.93 1520.45 1537.03 1519.03 Q1535.16 1517.6 1531.64 1517.6 Q1529.72 1517.6 1527.52 1518.01 Q1525.32 1518.43 1522.68 1519.31 L1522.68 1515.14 Q1525.34 1514.4 1527.66 1514.03 Q1530 1513.66 1532.06 1513.66 Q1537.38 1513.66 1540.48 1516.09 Q1543.59 1518.5 1543.59 1522.62 Q1543.59 1525.49 1541.94 1527.48 Q1540.3 1529.45 1537.27 1530.21 Z\" fill=\"#000000\" fill-rule=\"evenodd\" fill-opacity=\"1\" /><path clip-path=\"url(#clip360)\" d=\"M1999.85 1529.7 Q1996.7 1529.7 1994.85 1531.86 Q1993.02 1534.01 1993.02 1537.76 Q1993.02 1541.49 1994.85 1543.66 Q1996.7 1545.82 1999.85 1545.82 Q2002.99 1545.82 2004.82 1543.66 Q2006.67 1541.49 2006.67 1537.76 Q2006.67 1534.01 2004.82 1531.86 Q2002.99 1529.7 1999.85 1529.7 M2009.13 1515.05 L2009.13 1519.31 Q2007.37 1518.48 2005.56 1518.04 Q2003.78 1517.6 2002.02 1517.6 Q1997.39 1517.6 1994.94 1520.72 Q1992.51 1523.85 1992.16 1530.17 Q1993.53 1528.15 1995.59 1527.09 Q1997.65 1526 2000.12 1526 Q2005.33 1526 2008.34 1529.17 Q2011.37 1532.32 2011.37 1537.76 Q2011.37 1543.08 2008.23 1546.3 Q2005.08 1549.52 1999.85 1549.52 Q1993.85 1549.52 1990.68 1544.94 Q1987.51 1540.33 1987.51 1531.6 Q1987.51 1523.41 1991.4 1518.55 Q1995.29 1513.66 2001.84 1513.66 Q2003.6 1513.66 2005.38 1514.01 Q2007.18 1514.36 2009.13 1515.05 Z\" fill=\"#000000\" fill-rule=\"evenodd\" fill-opacity=\"1\" /><polyline clip-path=\"url(#clip362)\" style=\"stroke:#000000; stroke-linecap:butt; stroke-linejoin:round; stroke-width:2; stroke-opacity:0.1; fill:none\" points=\"\n",
       "  169.121,1445.72 2352.76,1445.72 \n",
       "  \"/>\n",
       "<polyline clip-path=\"url(#clip362)\" style=\"stroke:#000000; stroke-linecap:butt; stroke-linejoin:round; stroke-width:2; stroke-opacity:0.1; fill:none\" points=\"\n",
       "  169.121,1119.34 2352.76,1119.34 \n",
       "  \"/>\n",
       "<polyline clip-path=\"url(#clip362)\" style=\"stroke:#000000; stroke-linecap:butt; stroke-linejoin:round; stroke-width:2; stroke-opacity:0.1; fill:none\" points=\"\n",
       "  169.121,792.956 2352.76,792.956 \n",
       "  \"/>\n",
       "<polyline clip-path=\"url(#clip362)\" style=\"stroke:#000000; stroke-linecap:butt; stroke-linejoin:round; stroke-width:2; stroke-opacity:0.1; fill:none\" points=\"\n",
       "  169.121,466.577 2352.76,466.577 \n",
       "  \"/>\n",
       "<polyline clip-path=\"url(#clip362)\" style=\"stroke:#000000; stroke-linecap:butt; stroke-linejoin:round; stroke-width:2; stroke-opacity:0.1; fill:none\" points=\"\n",
       "  169.121,140.197 2352.76,140.197 \n",
       "  \"/>\n",
       "<polyline clip-path=\"url(#clip360)\" style=\"stroke:#000000; stroke-linecap:butt; stroke-linejoin:round; stroke-width:4; stroke-opacity:1; fill:none\" points=\"\n",
       "  169.121,1486.45 169.121,47.2441 \n",
       "  \"/>\n",
       "<polyline clip-path=\"url(#clip360)\" style=\"stroke:#000000; stroke-linecap:butt; stroke-linejoin:round; stroke-width:4; stroke-opacity:1; fill:none\" points=\"\n",
       "  169.121,1445.72 188.019,1445.72 \n",
       "  \"/>\n",
       "<polyline clip-path=\"url(#clip360)\" style=\"stroke:#000000; stroke-linecap:butt; stroke-linejoin:round; stroke-width:4; stroke-opacity:1; fill:none\" points=\"\n",
       "  169.121,1119.34 188.019,1119.34 \n",
       "  \"/>\n",
       "<polyline clip-path=\"url(#clip360)\" style=\"stroke:#000000; stroke-linecap:butt; stroke-linejoin:round; stroke-width:4; stroke-opacity:1; fill:none\" points=\"\n",
       "  169.121,792.956 188.019,792.956 \n",
       "  \"/>\n",
       "<polyline clip-path=\"url(#clip360)\" style=\"stroke:#000000; stroke-linecap:butt; stroke-linejoin:round; stroke-width:4; stroke-opacity:1; fill:none\" points=\"\n",
       "  169.121,466.577 188.019,466.577 \n",
       "  \"/>\n",
       "<polyline clip-path=\"url(#clip360)\" style=\"stroke:#000000; stroke-linecap:butt; stroke-linejoin:round; stroke-width:4; stroke-opacity:1; fill:none\" points=\"\n",
       "  169.121,140.197 188.019,140.197 \n",
       "  \"/>\n",
       "<path clip-path=\"url(#clip360)\" d=\"M121.177 1431.51 Q117.566 1431.51 115.737 1435.08 Q113.932 1438.62 113.932 1445.75 Q113.932 1452.86 115.737 1456.42 Q117.566 1459.96 121.177 1459.96 Q124.811 1459.96 126.617 1456.42 Q128.445 1452.86 128.445 1445.75 Q128.445 1438.62 126.617 1435.08 Q124.811 1431.51 121.177 1431.51 M121.177 1427.81 Q126.987 1427.81 130.043 1432.42 Q133.121 1437 133.121 1445.75 Q133.121 1454.48 130.043 1459.08 Q126.987 1463.67 121.177 1463.67 Q115.367 1463.67 112.288 1459.08 Q109.233 1454.48 109.233 1445.75 Q109.233 1437 112.288 1432.42 Q115.367 1427.81 121.177 1427.81 Z\" fill=\"#000000\" fill-rule=\"evenodd\" fill-opacity=\"1\" /><path clip-path=\"url(#clip360)\" d=\"M86.0382 1132.68 L102.358 1132.68 L102.358 1136.62 L80.4133 1136.62 L80.4133 1132.68 Q83.0753 1129.93 87.6586 1125.3 Q92.2651 1120.64 93.4456 1119.3 Q95.691 1116.78 96.5706 1115.04 Q97.4734 1113.28 97.4734 1111.59 Q97.4734 1108.84 95.5289 1107.1 Q93.6076 1105.37 90.5058 1105.37 Q88.3067 1105.37 85.8531 1106.13 Q83.4225 1106.89 80.6447 1108.44 L80.6447 1103.72 Q83.4688 1102.59 85.9225 1102.01 Q88.3762 1101.43 90.4132 1101.43 Q95.7836 1101.43 98.978 1104.12 Q102.172 1106.8 102.172 1111.29 Q102.172 1113.42 101.362 1115.34 Q100.575 1117.24 98.4687 1119.83 Q97.89 1120.5 94.7882 1123.72 Q91.6864 1126.92 86.0382 1132.68 Z\" fill=\"#000000\" fill-rule=\"evenodd\" fill-opacity=\"1\" /><path clip-path=\"url(#clip360)\" d=\"M112.219 1102.06 L130.575 1102.06 L130.575 1105.99 L116.501 1105.99 L116.501 1114.46 Q117.52 1114.12 118.538 1113.95 Q119.557 1113.77 120.575 1113.77 Q126.362 1113.77 129.742 1116.94 Q133.121 1120.11 133.121 1125.53 Q133.121 1131.11 129.649 1134.21 Q126.177 1137.29 119.857 1137.29 Q117.682 1137.29 115.413 1136.92 Q113.168 1136.55 110.76 1135.81 L110.76 1131.11 Q112.844 1132.24 115.066 1132.8 Q117.288 1133.35 119.765 1133.35 Q123.77 1133.35 126.107 1131.25 Q128.445 1129.14 128.445 1125.53 Q128.445 1121.92 126.107 1119.81 Q123.77 1117.7 119.765 1117.7 Q117.89 1117.7 116.015 1118.12 Q114.163 1118.54 112.219 1119.42 L112.219 1102.06 Z\" fill=\"#000000\" fill-rule=\"evenodd\" fill-opacity=\"1\" /><path clip-path=\"url(#clip360)\" d=\"M81.0614 775.676 L99.4178 775.676 L99.4178 779.612 L85.3438 779.612 L85.3438 788.084 Q86.3623 787.736 87.3808 787.574 Q88.3993 787.389 89.4178 787.389 Q95.2049 787.389 98.5845 790.561 Q101.964 793.732 101.964 799.148 Q101.964 804.727 98.4919 807.829 Q95.0197 810.908 88.7003 810.908 Q86.5243 810.908 84.2558 810.537 Q82.0105 810.167 79.6031 809.426 L79.6031 804.727 Q81.6864 805.861 83.9086 806.417 Q86.1308 806.972 88.6077 806.972 Q92.6123 806.972 94.9502 804.866 Q97.2882 802.76 97.2882 799.148 Q97.2882 795.537 94.9502 793.431 Q92.6123 791.324 88.6077 791.324 Q86.7327 791.324 84.8577 791.741 Q83.0058 792.158 81.0614 793.037 L81.0614 775.676 Z\" fill=\"#000000\" fill-rule=\"evenodd\" fill-opacity=\"1\" /><path clip-path=\"url(#clip360)\" d=\"M121.177 778.755 Q117.566 778.755 115.737 782.32 Q113.932 785.861 113.932 792.991 Q113.932 800.098 115.737 803.662 Q117.566 807.204 121.177 807.204 Q124.811 807.204 126.617 803.662 Q128.445 800.098 128.445 792.991 Q128.445 785.861 126.617 782.32 Q124.811 778.755 121.177 778.755 M121.177 775.051 Q126.987 775.051 130.043 779.658 Q133.121 784.241 133.121 792.991 Q133.121 801.718 130.043 806.324 Q126.987 810.908 121.177 810.908 Q115.367 810.908 112.288 806.324 Q109.233 801.718 109.233 792.991 Q109.233 784.241 112.288 779.658 Q115.367 775.051 121.177 775.051 Z\" fill=\"#000000\" fill-rule=\"evenodd\" fill-opacity=\"1\" /><path clip-path=\"url(#clip360)\" d=\"M80.8299 449.297 L103.052 449.297 L103.052 451.287 L90.5058 483.857 L85.6216 483.857 L97.4271 453.232 L80.8299 453.232 L80.8299 449.297 Z\" fill=\"#000000\" fill-rule=\"evenodd\" fill-opacity=\"1\" /><path clip-path=\"url(#clip360)\" d=\"M112.219 449.297 L130.575 449.297 L130.575 453.232 L116.501 453.232 L116.501 461.704 Q117.52 461.357 118.538 461.195 Q119.557 461.01 120.575 461.01 Q126.362 461.01 129.742 464.181 Q133.121 467.352 133.121 472.769 Q133.121 478.347 129.649 481.449 Q126.177 484.528 119.857 484.528 Q117.682 484.528 115.413 484.158 Q113.168 483.787 110.76 483.047 L110.76 478.347 Q112.844 479.482 115.066 480.037 Q117.288 480.593 119.765 480.593 Q123.77 480.593 126.107 478.486 Q128.445 476.38 128.445 472.769 Q128.445 469.158 126.107 467.051 Q123.77 464.945 119.765 464.945 Q117.89 464.945 116.015 465.361 Q114.163 465.778 112.219 466.658 L112.219 449.297 Z\" fill=\"#000000\" fill-rule=\"evenodd\" fill-opacity=\"1\" /><path clip-path=\"url(#clip360)\" d=\"M51.6634 153.542 L59.3023 153.542 L59.3023 127.176 L50.9921 128.843 L50.9921 124.584 L59.256 122.917 L63.9319 122.917 L63.9319 153.542 L71.5707 153.542 L71.5707 157.477 L51.6634 157.477 L51.6634 153.542 Z\" fill=\"#000000\" fill-rule=\"evenodd\" fill-opacity=\"1\" /><path clip-path=\"url(#clip360)\" d=\"M91.0151 125.996 Q87.404 125.996 85.5753 129.561 Q83.7697 133.102 83.7697 140.232 Q83.7697 147.338 85.5753 150.903 Q87.404 154.445 91.0151 154.445 Q94.6493 154.445 96.4548 150.903 Q98.2835 147.338 98.2835 140.232 Q98.2835 133.102 96.4548 129.561 Q94.6493 125.996 91.0151 125.996 M91.0151 122.292 Q96.8252 122.292 99.8808 126.898 Q102.959 131.482 102.959 140.232 Q102.959 148.959 99.8808 153.565 Q96.8252 158.148 91.0151 158.148 Q85.2049 158.148 82.1262 153.565 Q79.0707 148.959 79.0707 140.232 Q79.0707 131.482 82.1262 126.898 Q85.2049 122.292 91.0151 122.292 Z\" fill=\"#000000\" fill-rule=\"evenodd\" fill-opacity=\"1\" /><path clip-path=\"url(#clip360)\" d=\"M121.177 125.996 Q117.566 125.996 115.737 129.561 Q113.932 133.102 113.932 140.232 Q113.932 147.338 115.737 150.903 Q117.566 154.445 121.177 154.445 Q124.811 154.445 126.617 150.903 Q128.445 147.338 128.445 140.232 Q128.445 133.102 126.617 129.561 Q124.811 125.996 121.177 125.996 M121.177 122.292 Q126.987 122.292 130.043 126.898 Q133.121 131.482 133.121 140.232 Q133.121 148.959 130.043 153.565 Q126.987 158.148 121.177 158.148 Q115.367 158.148 112.288 153.565 Q109.233 148.959 109.233 140.232 Q109.233 131.482 112.288 126.898 Q115.367 122.292 121.177 122.292 Z\" fill=\"#000000\" fill-rule=\"evenodd\" fill-opacity=\"1\" /><path clip-path=\"url(#clip362)\" d=\"\n",
       "M289.225 1406.55 L289.225 1445.72 L366.962 1445.72 L366.962 1406.55 L289.225 1406.55 L289.225 1406.55  Z\n",
       "  \" fill=\"#009af9\" fill-rule=\"evenodd\" fill-opacity=\"1\"/>\n",
       "<polyline clip-path=\"url(#clip362)\" style=\"stroke:#000000; stroke-linecap:butt; stroke-linejoin:round; stroke-width:4; stroke-opacity:1; fill:none\" points=\"\n",
       "  289.225,1406.55 289.225,1445.72 366.962,1445.72 366.962,1406.55 289.225,1406.55 \n",
       "  \"/>\n",
       "<path clip-path=\"url(#clip362)\" d=\"\n",
       "M366.962 1419.61 L366.962 1445.72 L444.699 1445.72 L444.699 1419.61 L366.962 1419.61 L366.962 1419.61  Z\n",
       "  \" fill=\"#009af9\" fill-rule=\"evenodd\" fill-opacity=\"1\"/>\n",
       "<polyline clip-path=\"url(#clip362)\" style=\"stroke:#000000; stroke-linecap:butt; stroke-linejoin:round; stroke-width:4; stroke-opacity:1; fill:none\" points=\"\n",
       "  366.962,1419.61 366.962,1445.72 444.699,1445.72 444.699,1419.61 366.962,1419.61 \n",
       "  \"/>\n",
       "<path clip-path=\"url(#clip362)\" d=\"\n",
       "M444.699 1445.72 L444.699 1445.72 L522.436 1445.72 L522.436 1445.72 L444.699 1445.72 L444.699 1445.72  Z\n",
       "  \" fill=\"#009af9\" fill-rule=\"evenodd\" fill-opacity=\"1\"/>\n",
       "<polyline clip-path=\"url(#clip362)\" style=\"stroke:#000000; stroke-linecap:butt; stroke-linejoin:round; stroke-width:4; stroke-opacity:1; fill:none\" points=\"\n",
       "  444.699,1445.72 444.699,1445.72 522.436,1445.72 444.699,1445.72 \n",
       "  \"/>\n",
       "<path clip-path=\"url(#clip362)\" d=\"\n",
       "M522.436 1380.44 L522.436 1445.72 L600.173 1445.72 L600.173 1380.44 L522.436 1380.44 L522.436 1380.44  Z\n",
       "  \" fill=\"#009af9\" fill-rule=\"evenodd\" fill-opacity=\"1\"/>\n",
       "<polyline clip-path=\"url(#clip362)\" style=\"stroke:#000000; stroke-linecap:butt; stroke-linejoin:round; stroke-width:4; stroke-opacity:1; fill:none\" points=\"\n",
       "  522.436,1380.44 522.436,1445.72 600.173,1445.72 600.173,1380.44 522.436,1380.44 \n",
       "  \"/>\n",
       "<path clip-path=\"url(#clip362)\" d=\"\n",
       "M600.173 1328.22 L600.173 1445.72 L677.911 1445.72 L677.911 1328.22 L600.173 1328.22 L600.173 1328.22  Z\n",
       "  \" fill=\"#009af9\" fill-rule=\"evenodd\" fill-opacity=\"1\"/>\n",
       "<polyline clip-path=\"url(#clip362)\" style=\"stroke:#000000; stroke-linecap:butt; stroke-linejoin:round; stroke-width:4; stroke-opacity:1; fill:none\" points=\"\n",
       "  600.173,1328.22 600.173,1445.72 677.911,1445.72 677.911,1328.22 600.173,1328.22 \n",
       "  \"/>\n",
       "<path clip-path=\"url(#clip362)\" d=\"\n",
       "M677.911 1341.27 L677.911 1445.72 L755.648 1445.72 L755.648 1341.27 L677.911 1341.27 L677.911 1341.27  Z\n",
       "  \" fill=\"#009af9\" fill-rule=\"evenodd\" fill-opacity=\"1\"/>\n",
       "<polyline clip-path=\"url(#clip362)\" style=\"stroke:#000000; stroke-linecap:butt; stroke-linejoin:round; stroke-width:4; stroke-opacity:1; fill:none\" points=\"\n",
       "  677.911,1341.27 677.911,1445.72 755.648,1445.72 755.648,1341.27 677.911,1341.27 \n",
       "  \"/>\n",
       "<path clip-path=\"url(#clip362)\" d=\"\n",
       "M755.648 1210.72 L755.648 1445.72 L833.385 1445.72 L833.385 1210.72 L755.648 1210.72 L755.648 1210.72  Z\n",
       "  \" fill=\"#009af9\" fill-rule=\"evenodd\" fill-opacity=\"1\"/>\n",
       "<polyline clip-path=\"url(#clip362)\" style=\"stroke:#000000; stroke-linecap:butt; stroke-linejoin:round; stroke-width:4; stroke-opacity:1; fill:none\" points=\"\n",
       "  755.648,1210.72 755.648,1445.72 833.385,1445.72 833.385,1210.72 755.648,1210.72 \n",
       "  \"/>\n",
       "<path clip-path=\"url(#clip362)\" d=\"\n",
       "M833.385 1041 L833.385 1445.72 L911.122 1445.72 L911.122 1041 L833.385 1041 L833.385 1041  Z\n",
       "  \" fill=\"#009af9\" fill-rule=\"evenodd\" fill-opacity=\"1\"/>\n",
       "<polyline clip-path=\"url(#clip362)\" style=\"stroke:#000000; stroke-linecap:butt; stroke-linejoin:round; stroke-width:4; stroke-opacity:1; fill:none\" points=\"\n",
       "  833.385,1041 833.385,1445.72 911.122,1445.72 911.122,1041 833.385,1041 \n",
       "  \"/>\n",
       "<path clip-path=\"url(#clip362)\" d=\"\n",
       "M911.122 701.57 L911.122 1445.72 L988.859 1445.72 L988.859 701.57 L911.122 701.57 L911.122 701.57  Z\n",
       "  \" fill=\"#009af9\" fill-rule=\"evenodd\" fill-opacity=\"1\"/>\n",
       "<polyline clip-path=\"url(#clip362)\" style=\"stroke:#000000; stroke-linecap:butt; stroke-linejoin:round; stroke-width:4; stroke-opacity:1; fill:none\" points=\"\n",
       "  911.122,701.57 911.122,1445.72 988.859,1445.72 988.859,701.57 911.122,701.57 \n",
       "  \"/>\n",
       "<path clip-path=\"url(#clip362)\" d=\"\n",
       "M988.859 87.9763 L988.859 1445.72 L1066.6 1445.72 L1066.6 87.9763 L988.859 87.9763 L988.859 87.9763  Z\n",
       "  \" fill=\"#009af9\" fill-rule=\"evenodd\" fill-opacity=\"1\"/>\n",
       "<polyline clip-path=\"url(#clip362)\" style=\"stroke:#000000; stroke-linecap:butt; stroke-linejoin:round; stroke-width:4; stroke-opacity:1; fill:none\" points=\"\n",
       "  988.859,87.9763 988.859,1445.72 1066.6,1445.72 1066.6,87.9763 988.859,87.9763 \n",
       "  \"/>\n",
       "<path clip-path=\"url(#clip362)\" d=\"\n",
       "M1066.6 231.583 L1066.6 1445.72 L1144.33 1445.72 L1144.33 231.583 L1066.6 231.583 L1066.6 231.583  Z\n",
       "  \" fill=\"#009af9\" fill-rule=\"evenodd\" fill-opacity=\"1\"/>\n",
       "<polyline clip-path=\"url(#clip362)\" style=\"stroke:#000000; stroke-linecap:butt; stroke-linejoin:round; stroke-width:4; stroke-opacity:1; fill:none\" points=\"\n",
       "  1066.6,231.583 1066.6,1445.72 1144.33,1445.72 1144.33,231.583 1066.6,231.583 \n",
       "  \"/>\n",
       "<path clip-path=\"url(#clip362)\" d=\"\n",
       "M1144.33 662.404 L1144.33 1445.72 L1222.07 1445.72 L1222.07 662.404 L1144.33 662.404 L1144.33 662.404  Z\n",
       "  \" fill=\"#009af9\" fill-rule=\"evenodd\" fill-opacity=\"1\"/>\n",
       "<polyline clip-path=\"url(#clip362)\" style=\"stroke:#000000; stroke-linecap:butt; stroke-linejoin:round; stroke-width:4; stroke-opacity:1; fill:none\" points=\"\n",
       "  1144.33,662.404 1144.33,1445.72 1222.07,1445.72 1222.07,662.404 1144.33,662.404 \n",
       "  \"/>\n",
       "<path clip-path=\"url(#clip362)\" d=\"\n",
       "M1222.07 845.177 L1222.07 1445.72 L1299.81 1445.72 L1299.81 845.177 L1222.07 845.177 L1222.07 845.177  Z\n",
       "  \" fill=\"#009af9\" fill-rule=\"evenodd\" fill-opacity=\"1\"/>\n",
       "<polyline clip-path=\"url(#clip362)\" style=\"stroke:#000000; stroke-linecap:butt; stroke-linejoin:round; stroke-width:4; stroke-opacity:1; fill:none\" points=\"\n",
       "  1222.07,845.177 1222.07,1445.72 1299.81,1445.72 1299.81,845.177 1222.07,845.177 \n",
       "  \"/>\n",
       "<path clip-path=\"url(#clip362)\" d=\"\n",
       "M1299.81 1132.39 L1299.81 1445.72 L1377.54 1445.72 L1377.54 1132.39 L1299.81 1132.39 L1299.81 1132.39  Z\n",
       "  \" fill=\"#009af9\" fill-rule=\"evenodd\" fill-opacity=\"1\"/>\n",
       "<polyline clip-path=\"url(#clip362)\" style=\"stroke:#000000; stroke-linecap:butt; stroke-linejoin:round; stroke-width:4; stroke-opacity:1; fill:none\" points=\"\n",
       "  1299.81,1132.39 1299.81,1445.72 1377.54,1445.72 1377.54,1132.39 1299.81,1132.39 \n",
       "  \"/>\n",
       "<path clip-path=\"url(#clip362)\" d=\"\n",
       "M1377.54 1249.89 L1377.54 1445.72 L1455.28 1445.72 L1455.28 1249.89 L1377.54 1249.89 L1377.54 1249.89  Z\n",
       "  \" fill=\"#009af9\" fill-rule=\"evenodd\" fill-opacity=\"1\"/>\n",
       "<polyline clip-path=\"url(#clip362)\" style=\"stroke:#000000; stroke-linecap:butt; stroke-linejoin:round; stroke-width:4; stroke-opacity:1; fill:none\" points=\"\n",
       "  1377.54,1249.89 1377.54,1445.72 1455.28,1445.72 1455.28,1249.89 1377.54,1249.89 \n",
       "  \"/>\n",
       "<path clip-path=\"url(#clip362)\" d=\"\n",
       "M1455.28 1328.22 L1455.28 1445.72 L1533.02 1445.72 L1533.02 1328.22 L1455.28 1328.22 L1455.28 1328.22  Z\n",
       "  \" fill=\"#009af9\" fill-rule=\"evenodd\" fill-opacity=\"1\"/>\n",
       "<polyline clip-path=\"url(#clip362)\" style=\"stroke:#000000; stroke-linecap:butt; stroke-linejoin:round; stroke-width:4; stroke-opacity:1; fill:none\" points=\"\n",
       "  1455.28,1328.22 1455.28,1445.72 1533.02,1445.72 1533.02,1328.22 1455.28,1328.22 \n",
       "  \"/>\n",
       "<path clip-path=\"url(#clip362)\" d=\"\n",
       "M1533.02 1354.33 L1533.02 1445.72 L1610.76 1445.72 L1610.76 1354.33 L1533.02 1354.33 L1533.02 1354.33  Z\n",
       "  \" fill=\"#009af9\" fill-rule=\"evenodd\" fill-opacity=\"1\"/>\n",
       "<polyline clip-path=\"url(#clip362)\" style=\"stroke:#000000; stroke-linecap:butt; stroke-linejoin:round; stroke-width:4; stroke-opacity:1; fill:none\" points=\"\n",
       "  1533.02,1354.33 1533.02,1445.72 1610.76,1445.72 1610.76,1354.33 1533.02,1354.33 \n",
       "  \"/>\n",
       "<path clip-path=\"url(#clip362)\" d=\"\n",
       "M1610.76 1419.61 L1610.76 1445.72 L1688.49 1445.72 L1688.49 1419.61 L1610.76 1419.61 L1610.76 1419.61  Z\n",
       "  \" fill=\"#009af9\" fill-rule=\"evenodd\" fill-opacity=\"1\"/>\n",
       "<polyline clip-path=\"url(#clip362)\" style=\"stroke:#000000; stroke-linecap:butt; stroke-linejoin:round; stroke-width:4; stroke-opacity:1; fill:none\" points=\"\n",
       "  1610.76,1419.61 1610.76,1445.72 1688.49,1445.72 1688.49,1419.61 1610.76,1419.61 \n",
       "  \"/>\n",
       "<path clip-path=\"url(#clip362)\" d=\"\n",
       "M1688.49 1393.49 L1688.49 1445.72 L1766.23 1445.72 L1766.23 1393.49 L1688.49 1393.49 L1688.49 1393.49  Z\n",
       "  \" fill=\"#009af9\" fill-rule=\"evenodd\" fill-opacity=\"1\"/>\n",
       "<polyline clip-path=\"url(#clip362)\" style=\"stroke:#000000; stroke-linecap:butt; stroke-linejoin:round; stroke-width:4; stroke-opacity:1; fill:none\" points=\"\n",
       "  1688.49,1393.49 1688.49,1445.72 1766.23,1445.72 1766.23,1393.49 1688.49,1393.49 \n",
       "  \"/>\n",
       "<path clip-path=\"url(#clip362)\" d=\"\n",
       "M1766.23 1445.72 L1766.23 1445.72 L1843.97 1445.72 L1843.97 1445.72 L1766.23 1445.72 L1766.23 1445.72  Z\n",
       "  \" fill=\"#009af9\" fill-rule=\"evenodd\" fill-opacity=\"1\"/>\n",
       "<polyline clip-path=\"url(#clip362)\" style=\"stroke:#000000; stroke-linecap:butt; stroke-linejoin:round; stroke-width:4; stroke-opacity:1; fill:none\" points=\"\n",
       "  1766.23,1445.72 1766.23,1445.72 1843.97,1445.72 1766.23,1445.72 \n",
       "  \"/>\n",
       "<path clip-path=\"url(#clip362)\" d=\"\n",
       "M1843.97 1419.61 L1843.97 1445.72 L1921.7 1445.72 L1921.7 1419.61 L1843.97 1419.61 L1843.97 1419.61  Z\n",
       "  \" fill=\"#009af9\" fill-rule=\"evenodd\" fill-opacity=\"1\"/>\n",
       "<polyline clip-path=\"url(#clip362)\" style=\"stroke:#000000; stroke-linecap:butt; stroke-linejoin:round; stroke-width:4; stroke-opacity:1; fill:none\" points=\"\n",
       "  1843.97,1419.61 1843.97,1445.72 1921.7,1445.72 1921.7,1419.61 1843.97,1419.61 \n",
       "  \"/>\n",
       "<path clip-path=\"url(#clip362)\" d=\"\n",
       "M1921.7 1445.72 L1921.7 1445.72 L1999.44 1445.72 L1999.44 1445.72 L1921.7 1445.72 L1921.7 1445.72  Z\n",
       "  \" fill=\"#009af9\" fill-rule=\"evenodd\" fill-opacity=\"1\"/>\n",
       "<polyline clip-path=\"url(#clip362)\" style=\"stroke:#000000; stroke-linecap:butt; stroke-linejoin:round; stroke-width:4; stroke-opacity:1; fill:none\" points=\"\n",
       "  1921.7,1445.72 1921.7,1445.72 1999.44,1445.72 1921.7,1445.72 \n",
       "  \"/>\n",
       "<path clip-path=\"url(#clip362)\" d=\"\n",
       "M1999.44 1445.72 L1999.44 1445.72 L2077.18 1445.72 L2077.18 1445.72 L1999.44 1445.72 L1999.44 1445.72  Z\n",
       "  \" fill=\"#009af9\" fill-rule=\"evenodd\" fill-opacity=\"1\"/>\n",
       "<polyline clip-path=\"url(#clip362)\" style=\"stroke:#000000; stroke-linecap:butt; stroke-linejoin:round; stroke-width:4; stroke-opacity:1; fill:none\" points=\"\n",
       "  1999.44,1445.72 1999.44,1445.72 2077.18,1445.72 1999.44,1445.72 \n",
       "  \"/>\n",
       "<path clip-path=\"url(#clip362)\" d=\"\n",
       "M2077.18 1445.72 L2077.18 1445.72 L2154.92 1445.72 L2154.92 1445.72 L2077.18 1445.72 L2077.18 1445.72  Z\n",
       "  \" fill=\"#009af9\" fill-rule=\"evenodd\" fill-opacity=\"1\"/>\n",
       "<polyline clip-path=\"url(#clip362)\" style=\"stroke:#000000; stroke-linecap:butt; stroke-linejoin:round; stroke-width:4; stroke-opacity:1; fill:none\" points=\"\n",
       "  2077.18,1445.72 2077.18,1445.72 2154.92,1445.72 2077.18,1445.72 \n",
       "  \"/>\n",
       "<path clip-path=\"url(#clip362)\" d=\"\n",
       "M2154.92 1432.66 L2154.92 1445.72 L2232.65 1445.72 L2232.65 1432.66 L2154.92 1432.66 L2154.92 1432.66  Z\n",
       "  \" fill=\"#009af9\" fill-rule=\"evenodd\" fill-opacity=\"1\"/>\n",
       "<polyline clip-path=\"url(#clip362)\" style=\"stroke:#000000; stroke-linecap:butt; stroke-linejoin:round; stroke-width:4; stroke-opacity:1; fill:none\" points=\"\n",
       "  2154.92,1432.66 2154.92,1445.72 2232.65,1445.72 2232.65,1432.66 2154.92,1432.66 \n",
       "  \"/>\n",
       "<circle clip-path=\"url(#clip362)\" style=\"fill:#009af9; stroke:none; fill-opacity:0\" cx=\"328.094\" cy=\"1406.55\" r=\"2\"/>\n",
       "<circle clip-path=\"url(#clip362)\" style=\"fill:#009af9; stroke:none; fill-opacity:0\" cx=\"405.831\" cy=\"1419.61\" r=\"2\"/>\n",
       "<circle clip-path=\"url(#clip362)\" style=\"fill:#009af9; stroke:none; fill-opacity:0\" cx=\"483.568\" cy=\"1445.72\" r=\"2\"/>\n",
       "<circle clip-path=\"url(#clip362)\" style=\"fill:#009af9; stroke:none; fill-opacity:0\" cx=\"561.305\" cy=\"1380.44\" r=\"2\"/>\n",
       "<circle clip-path=\"url(#clip362)\" style=\"fill:#009af9; stroke:none; fill-opacity:0\" cx=\"639.042\" cy=\"1328.22\" r=\"2\"/>\n",
       "<circle clip-path=\"url(#clip362)\" style=\"fill:#009af9; stroke:none; fill-opacity:0\" cx=\"716.779\" cy=\"1341.27\" r=\"2\"/>\n",
       "<circle clip-path=\"url(#clip362)\" style=\"fill:#009af9; stroke:none; fill-opacity:0\" cx=\"794.516\" cy=\"1210.72\" r=\"2\"/>\n",
       "<circle clip-path=\"url(#clip362)\" style=\"fill:#009af9; stroke:none; fill-opacity:0\" cx=\"872.253\" cy=\"1041\" r=\"2\"/>\n",
       "<circle clip-path=\"url(#clip362)\" style=\"fill:#009af9; stroke:none; fill-opacity:0\" cx=\"949.99\" cy=\"701.57\" r=\"2\"/>\n",
       "<circle clip-path=\"url(#clip362)\" style=\"fill:#009af9; stroke:none; fill-opacity:0\" cx=\"1027.73\" cy=\"87.9763\" r=\"2\"/>\n",
       "<circle clip-path=\"url(#clip362)\" style=\"fill:#009af9; stroke:none; fill-opacity:0\" cx=\"1105.46\" cy=\"231.583\" r=\"2\"/>\n",
       "<circle clip-path=\"url(#clip362)\" style=\"fill:#009af9; stroke:none; fill-opacity:0\" cx=\"1183.2\" cy=\"662.404\" r=\"2\"/>\n",
       "<circle clip-path=\"url(#clip362)\" style=\"fill:#009af9; stroke:none; fill-opacity:0\" cx=\"1260.94\" cy=\"845.177\" r=\"2\"/>\n",
       "<circle clip-path=\"url(#clip362)\" style=\"fill:#009af9; stroke:none; fill-opacity:0\" cx=\"1338.68\" cy=\"1132.39\" r=\"2\"/>\n",
       "<circle clip-path=\"url(#clip362)\" style=\"fill:#009af9; stroke:none; fill-opacity:0\" cx=\"1416.41\" cy=\"1249.89\" r=\"2\"/>\n",
       "<circle clip-path=\"url(#clip362)\" style=\"fill:#009af9; stroke:none; fill-opacity:0\" cx=\"1494.15\" cy=\"1328.22\" r=\"2\"/>\n",
       "<circle clip-path=\"url(#clip362)\" style=\"fill:#009af9; stroke:none; fill-opacity:0\" cx=\"1571.89\" cy=\"1354.33\" r=\"2\"/>\n",
       "<circle clip-path=\"url(#clip362)\" style=\"fill:#009af9; stroke:none; fill-opacity:0\" cx=\"1649.62\" cy=\"1419.61\" r=\"2\"/>\n",
       "<circle clip-path=\"url(#clip362)\" style=\"fill:#009af9; stroke:none; fill-opacity:0\" cx=\"1727.36\" cy=\"1393.49\" r=\"2\"/>\n",
       "<circle clip-path=\"url(#clip362)\" style=\"fill:#009af9; stroke:none; fill-opacity:0\" cx=\"1805.1\" cy=\"1445.72\" r=\"2\"/>\n",
       "<circle clip-path=\"url(#clip362)\" style=\"fill:#009af9; stroke:none; fill-opacity:0\" cx=\"1882.84\" cy=\"1419.61\" r=\"2\"/>\n",
       "<circle clip-path=\"url(#clip362)\" style=\"fill:#009af9; stroke:none; fill-opacity:0\" cx=\"1960.57\" cy=\"1445.72\" r=\"2\"/>\n",
       "<circle clip-path=\"url(#clip362)\" style=\"fill:#009af9; stroke:none; fill-opacity:0\" cx=\"2038.31\" cy=\"1445.72\" r=\"2\"/>\n",
       "<circle clip-path=\"url(#clip362)\" style=\"fill:#009af9; stroke:none; fill-opacity:0\" cx=\"2116.05\" cy=\"1445.72\" r=\"2\"/>\n",
       "<circle clip-path=\"url(#clip362)\" style=\"fill:#009af9; stroke:none; fill-opacity:0\" cx=\"2193.78\" cy=\"1432.66\" r=\"2\"/>\n",
       "<path clip-path=\"url(#clip360)\" d=\"\n",
       "M1984.91 198.898 L2279.97 198.898 L2279.97 95.2176 L1984.91 95.2176  Z\n",
       "  \" fill=\"#ffffff\" fill-rule=\"evenodd\" fill-opacity=\"1\"/>\n",
       "<polyline clip-path=\"url(#clip360)\" style=\"stroke:#000000; stroke-linecap:butt; stroke-linejoin:round; stroke-width:4; stroke-opacity:1; fill:none\" points=\"\n",
       "  1984.91,198.898 2279.97,198.898 2279.97,95.2176 1984.91,95.2176 1984.91,198.898 \n",
       "  \"/>\n",
       "<path clip-path=\"url(#clip360)\" d=\"\n",
       "M2009.17 167.794 L2154.75 167.794 L2154.75 126.322 L2009.17 126.322 L2009.17 167.794  Z\n",
       "  \" fill=\"#009af9\" fill-rule=\"evenodd\" fill-opacity=\"1\"/>\n",
       "<polyline clip-path=\"url(#clip360)\" style=\"stroke:#000000; stroke-linecap:butt; stroke-linejoin:round; stroke-width:4; stroke-opacity:1; fill:none\" points=\"\n",
       "  2009.17,167.794 2154.75,167.794 2154.75,126.322 2009.17,126.322 2009.17,167.794 \n",
       "  \"/>\n",
       "<path clip-path=\"url(#clip360)\" d=\"M2192.86 166.745 Q2191.05 171.375 2189.34 172.787 Q2187.62 174.199 2184.75 174.199 L2181.35 174.199 L2181.35 170.634 L2183.85 170.634 Q2185.61 170.634 2186.58 169.8 Q2187.55 168.967 2188.73 165.865 L2189.5 163.921 L2179.01 138.412 L2183.53 138.412 L2191.63 158.689 L2199.73 138.412 L2204.24 138.412 L2192.86 166.745 Z\" fill=\"#000000\" fill-rule=\"evenodd\" fill-opacity=\"1\" /><path clip-path=\"url(#clip360)\" d=\"M2211.54 160.402 L2219.17 160.402 L2219.17 134.037 L2210.86 135.703 L2210.86 131.444 L2219.13 129.778 L2223.8 129.778 L2223.8 160.402 L2231.44 160.402 L2231.44 164.338 L2211.54 164.338 L2211.54 160.402 Z\" fill=\"#000000\" fill-rule=\"evenodd\" fill-opacity=\"1\" /></svg>\n"
      ]
     },
     "execution_count": 45,
     "metadata": {},
     "output_type": "execute_result"
    }
   ],
   "source": [
    "using Distributions\n",
    "\n",
    "function plothistogram(distribution, n)\n",
    "    ϵ = rand(distribution, n)  # n draws from distribution\n",
    "    histogram(ϵ)\n",
    "end\n",
    "\n",
    "lp = Laplace()\n",
    "plothistogram(lp, 500)"
   ]
  },
  {
   "cell_type": "markdown",
   "id": "ca7fba14",
   "metadata": {},
   "source": [
    "Let’s have a casual discussion of how all this works while leaving technical details for later in the lectures.\n",
    "\n",
    "First, `lp = Laplace()` creates **an instance of a data type** defined\n",
    "in the `Distributions` module that represents the Laplace distribution.\n",
    "\n",
    "The name `lp` is bound to this value.\n",
    "\n",
    "When we make the function call `plothistogram(lp, 500)` the code in the body\n",
    "of the function `plothistogram` is run with\n",
    "\n",
    "- the name `distribution` bound to the same value as `lp`  \n",
    "- the name `n` bound to the integer `500`  "
   ]
  },
  {
   "cell_type": "markdown",
   "id": "1fe6423d",
   "metadata": {},
   "source": [
    "#### A Mystery\n",
    "\n",
    "Now consider the function call `rand(distribution, n)`.\n",
    "\n",
    "This looks like something of a mystery.\n",
    "\n",
    "The function `rand()` is defined in the base library such that `rand(n)` returns `n` uniform random variables on $ [0, 1) $."
   ]
  },
  {
   "cell_type": "code",
   "execution_count": 46,
   "id": "0b9c56e8",
   "metadata": {
    "hide-output": false
   },
   "outputs": [
    {
     "data": {
      "text/plain": [
       "3-element Vector{Float64}:\n",
       " 0.020434608725004688\n",
       " 0.3384708253167099\n",
       " 0.7681655638871215"
      ]
     },
     "execution_count": 46,
     "metadata": {},
     "output_type": "execute_result"
    },
    {
     "name": "stderr",
     "output_type": "stream",
     "text": [
      "WARNING: both Plots and LinearAlgebra export \"rotate!\"; uses of it in module Main must be qualified\n"
     ]
    }
   ],
   "source": [
    "rand(3)"
   ]
  },
  {
   "cell_type": "markdown",
   "id": "9203348b",
   "metadata": {},
   "source": [
    "On the other hand, `distribution` points to a data type representing the Laplace distribution that has been defined in a third party package.\n",
    "\n",
    "So how can it be that `rand()` is able to take this kind of value as an\n",
    "argument and return the output that we want?\n",
    "\n",
    "The answer in a nutshell is **multiple dispatch**, which Julia uses to implement **generic programming**.\n",
    "\n",
    "This refers to the idea that **functions in Julia can have different behavior\n",
    "depending on the particular arguments that they’re passed.**\n",
    "\n",
    "Hence in Julia we can take an existing function and give it a new behavior by defining how it acts on a new type of value.\n",
    "\n",
    "The compiler knows which function definition to apply to in a given setting by looking at the types of the values the function is called on.\n",
    "\n",
    "In Julia these alternative versions of a function are called **methods**."
   ]
  },
  {
   "cell_type": "markdown",
   "id": "71ff7fea",
   "metadata": {},
   "source": [
    "## Example: Variations on Fixed Points\n",
    "\n",
    "Take a mapping $ f : X \\to X $ for some set $ X $.\n",
    "\n",
    "If there exists an $ x^* \\in X $ such that $ f(x^*) = x^* $, then $ x^* $: is called a “fixed point” of $ f $.\n",
    "\n",
    "For our second example, we will start with a simple example of determining fixed points of a function.\n",
    "\n",
    "The goal is to start with code in a MATLAB style, and move towards a more **Julian** style with high mathematical clarity."
   ]
  },
  {
   "cell_type": "markdown",
   "id": "6e9db18e",
   "metadata": {},
   "source": [
    "### Fixed Point Maps\n",
    "\n",
    "Consider the simple equation, where the scalars $ p,\\beta $ are given, and  $ v $ is the scalar we wish to solve for\n",
    "\n",
    "$$\n",
    "v = p + \\beta v\n",
    "$$\n",
    "\n",
    "Of course, in this simple example, with parameter restrictions this can be solved as $ v = p/(1 - \\beta) $.\n",
    "\n",
    "Rearrange the equation in terms of a map $ f(x) : \\mathbb R \\to \\mathbb R $\n",
    "\n",
    "\n",
    "<a id='equation-fixed-point-map'></a>\n",
    "$$\n",
    "v = f(v) \\tag{2.1}\n",
    "$$\n",
    "\n",
    "where\n",
    "\n",
    "$$\n",
    "f(v) := p + \\beta v\n",
    "$$\n",
    "\n",
    "Therefore, a fixed point $ v^* $ of $ f(\\cdot) $ is a solution to the above problem."
   ]
  },
  {
   "cell_type": "markdown",
   "id": "73d6a6d7",
   "metadata": {},
   "source": [
    "### While Loops\n",
    "\n",
    "One approach to finding a fixed point of [(2.1)](#equation-fixed-point-map) is to start with an initial value, and iterate the map\n",
    "\n",
    "\n",
    "<a id='equation-fixed-point-naive'></a>\n",
    "$$\n",
    "v^{n+1} = f(v^n) \\tag{2.2}\n",
    "$$\n",
    "\n",
    "For this exact `f` function,  we can see the convergence to $ v = p/(1-\\beta) $ when $ |\\beta| < 1 $ by iterating backwards and taking $ n\\to\\infty $\n",
    "\n",
    "$$\n",
    "v^{n+1} = p + \\beta v^n = p + \\beta p + \\beta^2 v^{n-1} = p \\sum_{i=0}^{n-1} \\beta^i + \\beta^n v_0\n",
    "$$\n",
    "\n",
    "To implement the iteration in [(2.2)](#equation-fixed-point-naive), we start by solving this problem with a `while` loop.\n",
    "\n",
    "The syntax for the while loop contains no surprises, and looks nearly identical to a MATLAB implementation."
   ]
  },
  {
   "cell_type": "code",
   "execution_count": 49,
   "id": "a57d71df",
   "metadata": {
    "hide-output": false
   },
   "outputs": [
    {
     "name": "stdout",
     "output_type": "stream",
     "text": [
      "Fixed point = 9.999999173706609, and |f(x) - x| = 9.181037796679448e-8 in 155 iterations\n"
     ]
    }
   ],
   "source": [
    "# poor style\n",
    "p = 1.0 # note 1.0 rather than 1\n",
    "β = 0.9\n",
    "maxiter = 1000\n",
    "tolerance = 1.0E-7\n",
    "v_iv = 0.8 # initial condition\n",
    "\n",
    "# setup the algorithm\n",
    "v_old = v_iv\n",
    "normdiff = Inf\n",
    "iter = 1\n",
    "while normdiff > tolerance && iter <= maxiter\n",
    "    v_new = p + β * v_old # the f(v) map\n",
    "    normdiff = norm(v_new - v_old)\n",
    "\n",
    "    # replace and continue\n",
    "    v_old = v_new\n",
    "    iter = iter + 1\n",
    "end\n",
    "println(\"Fixed point = $v_old, and |f(x) - x| = $normdiff in $iter iterations\")"
   ]
  },
  {
   "cell_type": "markdown",
   "id": "7a9df8e5",
   "metadata": {},
   "source": [
    "The `while` loop, like the `for` loop should only be used directly in Jupyter or the inside of a function.\n",
    "\n",
    "Here, we have used the `norm` function (from the `LinearAlgebra` base library) to compare the values.\n",
    "\n",
    "The other new function is the `println` with the string interpolation, which splices the value of an expression or variable prefixed by \\$ into a string.\n",
    "\n",
    "An alternative approach is to use a `for` loop, and check for convergence in each iteration."
   ]
  },
  {
   "cell_type": "code",
   "execution_count": 50,
   "id": "d49db22c",
   "metadata": {
    "hide-output": false
   },
   "outputs": [
    {
     "name": "stdout",
     "output_type": "stream",
     "text": [
      "Fixed point = 9.999999081896231, and |f(x) - x| = 9.181037796679448e-8 in 154 iterations\n"
     ]
    }
   ],
   "source": [
    "# setup the algorithm\n",
    "v_iv = 0.8\n",
    "v_old = v_iv\n",
    "normdiff = Inf\n",
    "iter = 1\n",
    "for i in 1:maxiter\n",
    "    v_new = p + β * v_old # the f(v) map\n",
    "    normdiff = norm(v_new - v_old)\n",
    "    if normdiff < tolerance # check convergence\n",
    "        iter = i\n",
    "        break # converged, exit loop\n",
    "    end\n",
    "    # replace and continue\n",
    "    v_old = v_new\n",
    "end\n",
    "println(\"Fixed point = $v_old, and |f(x) - x| = $normdiff in $iter iterations\")"
   ]
  },
  {
   "cell_type": "markdown",
   "id": "a5efa28c",
   "metadata": {},
   "source": [
    "The new feature there is `break` , which leaves a `for` or `while` loop."
   ]
  },
  {
   "cell_type": "markdown",
   "id": "d36952a5",
   "metadata": {},
   "source": [
    "### Using a Function\n",
    "\n",
    "The first problem with this setup is that it depends on being sequentially run – which can be easily remedied with a function."
   ]
  },
  {
   "cell_type": "code",
   "execution_count": 51,
   "id": "a260a661",
   "metadata": {
    "hide-output": false
   },
   "outputs": [
    {
     "name": "stdout",
     "output_type": "stream",
     "text": [
      "Fixed point = 9.999999173706609, and |f(x) - x| = 9.181037796679448e-8 in 155 iterations\n"
     ]
    }
   ],
   "source": [
    "# better, but still poor style\n",
    "function v_fp(β, ρ, v_iv, tolerance, maxiter)\n",
    "    # setup the algorithm\n",
    "    v_old = v_iv\n",
    "    normdiff = Inf\n",
    "    iter = 1\n",
    "    while normdiff > tolerance && iter <= maxiter\n",
    "        v_new = p + β * v_old # the f(v) map\n",
    "        normdiff = norm(v_new - v_old)\n",
    "\n",
    "        # replace and continue\n",
    "        v_old = v_new\n",
    "        iter = iter + 1\n",
    "    end\n",
    "    return (v_old, normdiff, iter) # returns a tuple\n",
    "end\n",
    "\n",
    "# some values\n",
    "p = 1.0 # note 1.0 rather than 1\n",
    "β = 0.9\n",
    "maxiter = 1000\n",
    "tolerance = 1.0E-7\n",
    "v_initial = 0.8 # initial condition\n",
    "\n",
    "v_star, normdiff, iter = v_fp(β, p, v_initial, tolerance, maxiter)\n",
    "println(\"Fixed point = $v_star, and |f(x) - x| = $normdiff in $iter iterations\")"
   ]
  },
  {
   "cell_type": "markdown",
   "id": "f4b968e7",
   "metadata": {},
   "source": [
    "While better, there could still be improvements."
   ]
  },
  {
   "cell_type": "markdown",
   "id": "8358bded",
   "metadata": {},
   "source": [
    "### Passing a Function\n",
    "\n",
    "The chief issue is that the algorithm (finding a fixed point) is reusable and generic, while the function we calculate `p + β * v` is specific to our problem.\n",
    "\n",
    "A key feature of languages like Julia, is the ability to efficiently handle functions passed to other functions."
   ]
  },
  {
   "cell_type": "code",
   "execution_count": 52,
   "id": "bdd5e753",
   "metadata": {
    "hide-output": false
   },
   "outputs": [
    {
     "name": "stdout",
     "output_type": "stream",
     "text": [
      "Fixed point = 9.999999173706609, and |f(x) - x| = 9.181037796679448e-8 in 155 iterations\n"
     ]
    }
   ],
   "source": [
    "# better style\n",
    "function fixedpointmap(f, iv, tolerance, maxiter)\n",
    "    # setup the algorithm\n",
    "    x_old = iv\n",
    "    normdiff = Inf\n",
    "    iter = 1\n",
    "    while normdiff > tolerance && iter <= maxiter\n",
    "        x_new = f(x_old) # use the passed in map\n",
    "        normdiff = norm(x_new - x_old)\n",
    "        x_old = x_new\n",
    "        iter = iter + 1\n",
    "    end\n",
    "    return (x_old, normdiff, iter)\n",
    "end\n",
    "\n",
    "# define a map and parameters\n",
    "p = 1.0\n",
    "β = 0.9\n",
    "f(v) = p + β * v # note that p and β are used in the function!\n",
    "\n",
    "maxiter = 1000\n",
    "tolerance = 1.0E-7\n",
    "v_initial = 0.8 # initial condition\n",
    "\n",
    "v_star, normdiff, iter = fixedpointmap(f, v_initial, tolerance, maxiter)\n",
    "println(\"Fixed point = $v_star, and |f(x) - x| = $normdiff in $iter iterations\")"
   ]
  },
  {
   "cell_type": "markdown",
   "id": "e7f7c591",
   "metadata": {},
   "source": [
    "Much closer, but there are still hidden bugs if the user orders the settings or returns types wrong."
   ]
  },
  {
   "cell_type": "markdown",
   "id": "cf28351c",
   "metadata": {},
   "source": [
    "### Named Arguments and Return Values\n",
    "\n",
    "To enable this, Julia has two features:  named function parameters, and named tuples"
   ]
  },
  {
   "cell_type": "code",
   "execution_count": 5,
   "id": "d39126f1",
   "metadata": {
    "hide-output": false
   },
   "outputs": [
    {
     "name": "stdout",
     "output_type": "stream",
     "text": [
      "Fixed point = 9.999999173706609, and |f(x) - x| = 9.181037796679448e-8 in 155 iterations\n"
     ]
    }
   ],
   "source": [
    "# good style\n",
    "function fixedpointmap(f; iv, tolerance=1E-7, maxiter=1000)\n",
    "    # setup the algorithm\n",
    "    x_old = iv\n",
    "    normdiff = Inf\n",
    "    iter = 1\n",
    "    while normdiff > tolerance && iter <= maxiter\n",
    "        x_new = f(x_old) # use the passed in map\n",
    "        normdiff = norm(x_new - x_old)\n",
    "        x_old = x_new\n",
    "        iter = iter + 1\n",
    "    end\n",
    "    return (value = x_old, normdiff=normdiff, iter=iter) # A named tuple!!!\n",
    "end\n",
    "\n",
    "# define a map and parameters\n",
    "p = 1.0\n",
    "β = 0.9\n",
    "f(v) = p + β * v # note that p and β are used in the function!\n",
    "\n",
    "sol = fixedpointmap(f, iv=0.8) # don't need to pass\n",
    "println(\"Fixed point = $(sol.value), and |f(x) - x| = $(sol.normdiff) in $(sol.iter)\"*\n",
    "        \" iterations\")"
   ]
  },
  {
   "cell_type": "markdown",
   "id": "6851303c",
   "metadata": {},
   "source": [
    "**In this example, all function parameters after the `;` in the list, must be called by name.**\n",
    "\n",
    "Furthermore, a default value may be enabled – so the named parameter `iv` is required while `tolerance` and `maxiter` have default values.\n",
    "\n",
    "**The return type of the function also has named fields, `value, normdiff,` and `iter` – all accessed intuitively using `.`.**\n",
    "\n",
    "To show the flexibilty of this code, we can use it to find a fixed point of the non-linear logistic equation, $ x = f(x) $ where $ f(x) := r x (1-x) $."
   ]
  },
  {
   "cell_type": "code",
   "execution_count": 79,
   "id": "6423a80f",
   "metadata": {
    "hide-output": false
   },
   "outputs": [
    {
     "name": "stdout",
     "output_type": "stream",
     "text": [
      "Fixed point = 0.4999999999999968, and |f(x) - x| = 3.979330237546819e-8 in 7 iterations\n"
     ]
    }
   ],
   "source": [
    "r = 2.0\n",
    "f(x) = r * x * (1 - x)\n",
    "\n",
    "sol, x, y = fixedpointmap(f, iv=0.8)\n",
    "# println(\"Fixed point = $(sol.value), and |f(x) - x| = $(sol.normdiff) in $(sol.iter) iterations\")\n",
    "println(\"Fixed point = $sol, and |f(x) - x| = $(x) in $y iterations\")"
   ]
  },
  {
   "cell_type": "markdown",
   "id": "4bf84d45",
   "metadata": {},
   "source": [
    "### Using a Package\n",
    "\n",
    "But best of all is to avoid writing code altogether."
   ]
  },
  {
   "cell_type": "code",
   "execution_count": 87,
   "id": "e91ef3eb",
   "metadata": {
    "hide-output": false
   },
   "outputs": [
    {
     "name": "stdout",
     "output_type": "stream",
     "text": [
      "Fixed point = [9.999999909587816], and |f(x) - x| = 9.041219328764782e-9 in 176 iterations\n"
     ]
    }
   ],
   "source": [
    "# best style\n",
    "using NLsolve\n",
    "\n",
    "p = 1.0\n",
    "β = 0.9\n",
    "f(v) = p .+ β * v # broadcast the +\n",
    "sol = fixedpoint(f, [0.8]; m=0)\n",
    "# Naive \"Picard\"-style iteration can be achieved by setting m=0\n",
    "println(\"Fixed point = $(sol.zero), and |f(x) - x| = $(norm(f(sol.zero) - sol.zero)) in \" *\n",
    "        \"$(sol.iterations) iterations\")"
   ]
  },
  {
   "cell_type": "markdown",
   "id": "281ea096",
   "metadata": {},
   "source": [
    "The `fixedpoint` function from the `NLsolve.jl` library implements the simple fixed point iteration scheme above.\n",
    "\n",
    "Since the `NLsolve` library only accepts vector based inputs, we needed to make the `f(v)` function broadcast on the `+` sign, and pass in the initial condition as a vector of length 1 with `[0.8]`.\n",
    "\n",
    "While a key benefit of using a package is that the code is clearer, and the implementation is tested, by using an orthogonal library we also enable performance improvements."
   ]
  },
  {
   "cell_type": "code",
   "execution_count": 90,
   "id": "03361eac",
   "metadata": {
    "hide-output": false
   },
   "outputs": [
    {
     "name": "stdout",
     "output_type": "stream",
     "text": [
      "Fixed point = [9.999999999999972], and |f(x) - x| = 3.552713678800501e-15 in 3 iterations\n"
     ]
    }
   ],
   "source": [
    "# best style\n",
    "p = 1.0\n",
    "β = 0.9\n",
    "iv = [0.8]\n",
    "sol = fixedpoint(v -> p .+ β * v, iv)  # m=5\n",
    "println(\"Fixed point = $(sol.zero), and |f(x) - x| = $(norm(f(sol.zero) - sol.zero)) in \" *\n",
    "        \"$(sol.iterations) iterations\")"
   ]
  },
  {
   "cell_type": "markdown",
   "id": "70e10c19",
   "metadata": {},
   "source": [
    "Note that this completes in `3` iterations vs `176` for the naive fixed point iteration algorithm.\n",
    "\n",
    "Since Anderson iteration is doing more calculations in an iteration,  whether it is faster or not would depend on the complexity of the `f` function.\n",
    "\n",
    "But this demonstrates the value of keeping the math separate from the algorithm, since by decoupling the mathematical definition of the fixed point from the implementation in [(2.2)](#equation-fixed-point-naive), we were able to exploit new algorithms for finding a fixed point.\n",
    "\n",
    "The only other change in this function is the move from directly defining `f(v)` and using an **anonymous** function.\n",
    "\n",
    "Similar to anonymous functions in MATLAB, and lambda functions in Python, Julia enables the creation of small functions without any names.\n",
    "\n",
    "The code `v -> p .+ β * v` defines a function of a dummy argument, `v` with the same body as our `f(x)`."
   ]
  },
  {
   "cell_type": "markdown",
   "id": "5053b383",
   "metadata": {},
   "source": [
    "### Composing Packages\n",
    "\n",
    "A key benefit of using Julia is that you can compose various packages, types, and techniques, without making changes to your underlying source.\n",
    "\n",
    "As an example, consider if we want to solve the model with a higher-precision, as floating points cannot be distinguished beyond the machine epsilon for that type (recall that computers approximate real numbers to the nearest binary  of a given precision; the *machine epsilon* is the smallest nonzero magnitude).\n",
    "\n",
    "In Julia, this number can be calculated as"
   ]
  },
  {
   "cell_type": "code",
   "execution_count": 1,
   "id": "e10d1abb",
   "metadata": {
    "hide-output": false
   },
   "outputs": [
    {
     "data": {
      "text/plain": [
       "2.220446049250313e-16"
      ]
     },
     "execution_count": 1,
     "metadata": {},
     "output_type": "execute_result"
    }
   ],
   "source": [
    "eps()"
   ]
  },
  {
   "cell_type": "markdown",
   "id": "f8a819cc",
   "metadata": {},
   "source": [
    "For many cases, this is sufficient precision – but consider that in iterative algorithms applied millions of times, those small differences can add up.\n",
    "\n",
    "The only change we will need to our model in order to use a different floating point type is to call the function with an arbitrary precision floating point, `BigFloat`, for the initial value."
   ]
  },
  {
   "cell_type": "code",
   "execution_count": 3,
   "id": "d7e760f2",
   "metadata": {
    "hide-output": false
   },
   "outputs": [
    {
     "name": "stdout",
     "output_type": "stream",
     "text": [
      "Fixed point = BigFloat[10.00000000000000222044604925031357388532909931412848377287867809936811555686155], and |f(x) - x| = 0.0 in 3 iterations\n"
     ]
    }
   ],
   "source": [
    "# use arbitrary precision floating points\n",
    "using NLsolve, Plots, Statistics, LinearAlgebra\n",
    "p = 1.0\n",
    "β = 0.9\n",
    "iv = [BigFloat(0.8)] # higher precision\n",
    "\n",
    "# otherwise identical\n",
    "f(v) = p .+ β * v\n",
    "sol = fixedpoint(v -> p .+ β * v, iv)\n",
    "println(\"Fixed point = $(sol.zero), and |f(x) - x| = $(norm(f(sol.zero) - sol.zero)) in \" *\n",
    "        \"$(sol.iterations) iterations\")"
   ]
  },
  {
   "cell_type": "markdown",
   "id": "f2522b42",
   "metadata": {},
   "source": [
    "Here, the literal `BigFloat(0.8)` takes the number `0.8` and changes it to an arbitrary precision number.\n",
    "\n",
    "The result is that the residual is now **exactly** `0.0` since it is able to use arbitrary precision in the calculations, and the solution has a finite-precision solution with those parameters."
   ]
  },
  {
   "cell_type": "markdown",
   "id": "90fcfda9",
   "metadata": {},
   "source": [
    "### Multivariate Fixed Point Maps\n",
    "\n",
    "The above example can be extended to multivariate maps without any modifications to the fixed point iteration code.\n",
    "\n",
    "Using our own, homegrown iteration and simply passing in a bivariate map:"
   ]
  },
  {
   "cell_type": "code",
   "execution_count": 6,
   "id": "09165e05",
   "metadata": {
    "hide-output": false
   },
   "outputs": [
    {
     "name": "stdout",
     "output_type": "stream",
     "text": [
      "Fixed point = [9.999999961080519, 19.999999923853192], and |f(x) - x| = 9.501826248250528e-9 in 184iterations\n"
     ]
    }
   ],
   "source": [
    "p = [1.0, 2.0]\n",
    "β = 0.9\n",
    "iv = [0.8, 2.0]\n",
    "f(v) = p .+ β * v # note that p and β are used in the function!\n",
    "\n",
    "sol = fixedpointmap(f, iv = iv, tolerance = 1.0E-8)\n",
    "println(\"Fixed point = $(sol.value), and |f(x) - x| = $(sol.normdiff) in $(sol.iter)\"*\n",
    "\"iterations\")"
   ]
  },
  {
   "cell_type": "markdown",
   "id": "3c2baecd",
   "metadata": {},
   "source": [
    "This also works without any modifications with the `fixedpoint` library function."
   ]
  },
  {
   "cell_type": "code",
   "execution_count": 7,
   "id": "20298d4b",
   "metadata": {
    "hide-output": false
   },
   "outputs": [
    {
     "name": "stdout",
     "output_type": "stream",
     "text": [
      "Fixed point = [10.000000000000002, 20.000000000000007, 0.9999999999999858], and |f(x) - x| = 1.4432899320127035e-15 in 3 iterations\n"
     ]
    }
   ],
   "source": [
    "using NLsolve\n",
    "\n",
    "p = [1.0, 2.0, 0.1]\n",
    "β = 0.9\n",
    "iv =[0.8, 2.0, 51.0]\n",
    "f(v) = p .+ β * v\n",
    "\n",
    "sol = fixedpoint(v -> p .+ β * v, iv)\n",
    "println(\"Fixed point = $(sol.zero), and |f(x) - x| = $(norm(f(sol.zero) - sol.zero)) in \" *\n",
    "        \"$(sol.iterations) iterations\")"
   ]
  },
  {
   "cell_type": "markdown",
   "id": "0a54e0a4",
   "metadata": {},
   "source": [
    "Finally, to demonstrate the importance of composing different libraries, use a `StaticArrays.jl` type, which provides an efficient implementation for small arrays and matrices."
   ]
  },
  {
   "cell_type": "code",
   "execution_count": 8,
   "id": "7c5231c1",
   "metadata": {
    "hide-output": false
   },
   "outputs": [
    {
     "name": "stdout",
     "output_type": "stream",
     "text": [
      "Fixed point = [10.000000000000002, 20.000000000000007, 0.9999999999999858], and |f(x) - x| = 1.4432899320127035e-15 in 3 iterations\n"
     ]
    }
   ],
   "source": [
    "using NLsolve, StaticArrays\n",
    "p = @SVector [1.0, 2.0, 0.1]\n",
    "β = 0.9\n",
    "iv = [0.8, 2.0, 51.0]\n",
    "f(v) = p .+ β * v\n",
    "\n",
    "sol = fixedpoint(v -> p .+ β * v, iv)\n",
    "println(\"Fixed point = $(sol.zero), and |f(x) - x| = $(norm(f(sol.zero) - sol.zero)) in \" *\n",
    "        \"$(sol.iterations) iterations\")"
   ]
  },
  {
   "cell_type": "markdown",
   "id": "ff5832e7",
   "metadata": {},
   "source": [
    "The `@SVector` in front of the `[1.0, 2.0, 0.1]` is a macro for turning a vector literal into a static vector.\n",
    "\n",
    "All macros in Julia are prefixed by `@` in the name, and manipulate the code prior to compilation.\n",
    "\n",
    "We will see a variety of macros, and discuss the “metaprogramming” behind them in a later lecture."
   ]
  },
  {
   "cell_type": "markdown",
   "id": "91972f54",
   "metadata": {},
   "source": [
    "## Exercises\n",
    "\n",
    "\n",
    "<a id='jbe-ex1'></a>"
   ]
  },
  {
   "cell_type": "markdown",
   "id": "746cf90c",
   "metadata": {},
   "source": [
    "### Exercise 1\n",
    "\n",
    "Recall that $ n! $ is read as “$ n $ factorial” and defined as\n",
    "$ n! = n \\times (n - 1) \\times \\cdots \\times 2 \\times 1 $.\n",
    "\n",
    "In Julia you can compute this value with `factorial(n)`.\n",
    "\n",
    "Write your own version of this function, called `factorial2`, using a `for` loop.\n",
    "\n",
    "\n",
    "<a id='jbe-ex2'></a>"
   ]
  },
  {
   "cell_type": "code",
   "execution_count": 9,
   "id": "b28bc947",
   "metadata": {},
   "outputs": [
    {
     "data": {
      "text/plain": [
       "3628800"
      ]
     },
     "execution_count": 9,
     "metadata": {},
     "output_type": "execute_result"
    }
   ],
   "source": [
    "factorial(10)\n"
   ]
  },
  {
   "cell_type": "code",
   "execution_count": 10,
   "id": "ffc421ce",
   "metadata": {},
   "outputs": [
    {
     "data": {
      "text/plain": [
       "factorial2 (generic function with 1 method)"
      ]
     },
     "execution_count": 10,
     "metadata": {},
     "output_type": "execute_result"
    }
   ],
   "source": [
    "function factorial2(n)\n",
    "    ans = 1\n",
    "    for i in 1:n\n",
    "        ans *= i\n",
    "    end\n",
    "    ans\n",
    "end"
   ]
  },
  {
   "cell_type": "code",
   "execution_count": 13,
   "id": "66c262d5",
   "metadata": {},
   "outputs": [
    {
     "data": {
      "text/plain": [
       "3628800"
      ]
     },
     "execution_count": 13,
     "metadata": {},
     "output_type": "execute_result"
    },
    {
     "name": "stderr",
     "output_type": "stream",
     "text": [
      "WARNING: both LinearAlgebra and Plots export \"rotate!\"; uses of it in module Main must be qualified\n"
     ]
    }
   ],
   "source": [
    "factorial2(10)"
   ]
  },
  {
   "cell_type": "markdown",
   "id": "3f81ee77",
   "metadata": {},
   "source": [
    "### Exercise 2\n",
    "\n",
    "The [binomial random variable](https://en.wikipedia.org/wiki/Binomial_distribution) $ Y \\sim Bin(n, p) $ represents\n",
    "\n",
    "- number of successes in $ n $ binary trials  \n",
    "- each trial succeeds with probability $ p $  \n",
    "\n",
    "\n",
    "Using only `rand()` from the set of Julia’s built-in random number\n",
    "generators (not the `Distributions` package), write a function `binomial_rv` such that `binomial_rv(n, p)` generates one draw of $ Y $.\n",
    "\n",
    "Hint: If $ U $ is uniform on $ (0, 1) $ and $ p \\in (0,1) $, then the expression `U < p` evaluates to `true` with probability $ p $.\n",
    "\n",
    "\n",
    "<a id='jbe-ex3'></a>"
   ]
  },
  {
   "cell_type": "code",
   "execution_count": 24,
   "id": "4b369e8c",
   "metadata": {},
   "outputs": [
    {
     "data": {
      "text/plain": [
       "binomial_rv (generic function with 1 method)"
      ]
     },
     "execution_count": 24,
     "metadata": {},
     "output_type": "execute_result"
    }
   ],
   "source": [
    "function binomial_rv(n, p)\n",
    "    x = 0\n",
    "    for i in 1:n\n",
    "        if rand() < p\n",
    "            x += 1\n",
    "        end\n",
    "    end\n",
    "    x\n",
    "end"
   ]
  },
  {
   "cell_type": "code",
   "execution_count": 29,
   "id": "2e3db0e6",
   "metadata": {},
   "outputs": [
    {
     "data": {
      "text/plain": [
       "512"
      ]
     },
     "execution_count": 29,
     "metadata": {},
     "output_type": "execute_result"
    }
   ],
   "source": [
    "binomial_rv(1000, 0.5)"
   ]
  },
  {
   "cell_type": "markdown",
   "id": "ccd8a79c",
   "metadata": {},
   "source": [
    "### Exercise 3\n",
    "\n",
    "Compute an approximation to $ \\pi $ using Monte Carlo.\n",
    "\n",
    "For random number generation use only `rand()`.\n",
    "\n",
    "Your hints are as follows:\n",
    "\n",
    "- If $ U $ is a bivariate uniform random variable on the unit square $ (0, 1)^2 $, then the probability that $ U $ lies in a subset $ B $ of $ (0,1)^2 $ is equal to the area of $ B $.  \n",
    "- If $ U_1,\\ldots,U_n $ are iid copies of $ U $, then, as $ n $ gets larger, the fraction that falls in $ B $ converges to the probability of landing in $ B $.  \n",
    "- For a circle, area = π * $ radius^2 $.  \n",
    "\n",
    "\n",
    "\n",
    "<a id='jbe-ex4'></a>"
   ]
  },
  {
   "cell_type": "code",
   "execution_count": 9,
   "id": "363abca5",
   "metadata": {},
   "outputs": [
    {
     "data": {
      "text/plain": [
       "cal_pi"
      ]
     },
     "execution_count": 9,
     "metadata": {},
     "output_type": "execute_result"
    }
   ],
   "source": [
    "\"\"\"n is the number of simulations\"\"\"\n",
    "function cal_pi(n)\n",
    "    land = 0\n",
    "    for i in 1:n\n",
    "        x, y = rand(), rand()\n",
    "        if x^2 + y^2 ≤ 1\n",
    "            land += 1\n",
    "        end\n",
    "    end\n",
    "    4land / n\n",
    "end"
   ]
  },
  {
   "cell_type": "code",
   "execution_count": 10,
   "id": "1fd2205b",
   "metadata": {},
   "outputs": [
    {
     "data": {
      "text/plain": [
       "3.14163468"
      ]
     },
     "execution_count": 10,
     "metadata": {},
     "output_type": "execute_result"
    }
   ],
   "source": [
    "cal_pi(1E9)"
   ]
  },
  {
   "cell_type": "markdown",
   "id": "4c1f8311",
   "metadata": {},
   "source": [
    "### Exercise 4\n",
    "\n",
    "Write a program that prints one realization of the following random device:\n",
    "\n",
    "- Flip an unbiased coin 10 times.  \n",
    "- If 3 consecutive heads occur one or more times within this sequence, pay one dollar.  \n",
    "- If not, pay nothing.  \n",
    "\n",
    "\n",
    "Once again use only `rand()` as your random number generator.\n",
    "\n",
    "\n",
    "<a id='jbe-ex5'></a>"
   ]
  },
  {
   "cell_type": "code",
   "execution_count": 41,
   "id": "df838d47",
   "metadata": {},
   "outputs": [
    {
     "data": {
      "text/plain": [
       "flip (generic function with 2 methods)"
      ]
     },
     "execution_count": 41,
     "metadata": {},
     "output_type": "execute_result"
    }
   ],
   "source": [
    "function flip(n)\n",
    "    i = 1\n",
    "    head = 0\n",
    "    while i <= n        \n",
    "        if rand() > 0.5\n",
    "            head += 1\n",
    "        else\n",
    "            head = 0\n",
    "        end\n",
    "        i += 1\n",
    "        if head == 3\n",
    "            return 1\n",
    "        end\n",
    "    end\n",
    "        return 0\n",
    "    end        "
   ]
  },
  {
   "cell_type": "code",
   "execution_count": 43,
   "id": "71c9ba6c",
   "metadata": {},
   "outputs": [
    {
     "name": "stdout",
     "output_type": "stream",
     "text": [
      "0.1249292\n"
     ]
    }
   ],
   "source": [
    "j = 0\n",
    "for i in 1:10000000\n",
    "    if flip(3)==1\n",
    "        j += 1\n",
    "    end\n",
    "end\n",
    "println(j/10000000)"
   ]
  },
  {
   "cell_type": "markdown",
   "id": "11f116fc",
   "metadata": {},
   "source": [
    "### Exercise 5\n",
    "\n",
    "Simulate and plot the correlated time series\n",
    "\n",
    "$$\n",
    "x_{t+1} = \\alpha \\, x_t + \\epsilon_{t+1}\n",
    "\\quad \\text{where} \\quad\n",
    "x_0 = 0\n",
    "\\quad \\text{and} \\quad t = 0,\\ldots,n\n",
    "$$\n",
    "\n",
    "The sequence of shocks $ \\{\\epsilon_t\\} $ is assumed to be iid and standard normal.\n",
    "\n",
    "Set $ n = 200 $ and $ \\alpha = 0.9 $.\n",
    "\n",
    "\n",
    "<a id='jbe-ex6'></a>"
   ]
  },
  {
   "cell_type": "code",
   "execution_count": 56,
   "id": "6bdd7d25",
   "metadata": {},
   "outputs": [
    {
     "data": {
      "image/svg+xml": [
       "<?xml version=\"1.0\" encoding=\"utf-8\"?>\n",
       "<svg xmlns=\"http://www.w3.org/2000/svg\" xmlns:xlink=\"http://www.w3.org/1999/xlink\" width=\"600\" height=\"400\" viewBox=\"0 0 2400 1600\">\n",
       "<defs>\n",
       "  <clipPath id=\"clip090\">\n",
       "    <rect x=\"0\" y=\"0\" width=\"2400\" height=\"1600\"/>\n",
       "  </clipPath>\n",
       "</defs>\n",
       "<path clip-path=\"url(#clip090)\" d=\"\n",
       "M0 1600 L2400 1600 L2400 0 L0 0  Z\n",
       "  \" fill=\"#ffffff\" fill-rule=\"evenodd\" fill-opacity=\"1\"/>\n",
       "<defs>\n",
       "  <clipPath id=\"clip091\">\n",
       "    <rect x=\"480\" y=\"0\" width=\"1681\" height=\"1600\"/>\n",
       "  </clipPath>\n",
       "</defs>\n",
       "<path clip-path=\"url(#clip090)\" d=\"\n",
       "M149.191 1486.45 L2352.76 1486.45 L2352.76 47.2441 L149.191 47.2441  Z\n",
       "  \" fill=\"#ffffff\" fill-rule=\"evenodd\" fill-opacity=\"1\"/>\n",
       "<defs>\n",
       "  <clipPath id=\"clip092\">\n",
       "    <rect x=\"149\" y=\"47\" width=\"2205\" height=\"1440\"/>\n",
       "  </clipPath>\n",
       "</defs>\n",
       "<polyline clip-path=\"url(#clip092)\" style=\"stroke:#000000; stroke-linecap:butt; stroke-linejoin:round; stroke-width:2; stroke-opacity:0.1; fill:none\" points=\"\n",
       "  201.162,1486.45 201.162,47.2441 \n",
       "  \"/>\n",
       "<polyline clip-path=\"url(#clip092)\" style=\"stroke:#000000; stroke-linecap:butt; stroke-linejoin:round; stroke-width:2; stroke-opacity:0.1; fill:none\" points=\"\n",
       "  720.87,1486.45 720.87,47.2441 \n",
       "  \"/>\n",
       "<polyline clip-path=\"url(#clip092)\" style=\"stroke:#000000; stroke-linecap:butt; stroke-linejoin:round; stroke-width:2; stroke-opacity:0.1; fill:none\" points=\"\n",
       "  1240.58,1486.45 1240.58,47.2441 \n",
       "  \"/>\n",
       "<polyline clip-path=\"url(#clip092)\" style=\"stroke:#000000; stroke-linecap:butt; stroke-linejoin:round; stroke-width:2; stroke-opacity:0.1; fill:none\" points=\"\n",
       "  1760.29,1486.45 1760.29,47.2441 \n",
       "  \"/>\n",
       "<polyline clip-path=\"url(#clip092)\" style=\"stroke:#000000; stroke-linecap:butt; stroke-linejoin:round; stroke-width:2; stroke-opacity:0.1; fill:none\" points=\"\n",
       "  2280,1486.45 2280,47.2441 \n",
       "  \"/>\n",
       "<polyline clip-path=\"url(#clip090)\" style=\"stroke:#000000; stroke-linecap:butt; stroke-linejoin:round; stroke-width:4; stroke-opacity:1; fill:none\" points=\"\n",
       "  149.191,1486.45 2352.76,1486.45 \n",
       "  \"/>\n",
       "<polyline clip-path=\"url(#clip090)\" style=\"stroke:#000000; stroke-linecap:butt; stroke-linejoin:round; stroke-width:4; stroke-opacity:1; fill:none\" points=\"\n",
       "  201.162,1486.45 201.162,1467.55 \n",
       "  \"/>\n",
       "<polyline clip-path=\"url(#clip090)\" style=\"stroke:#000000; stroke-linecap:butt; stroke-linejoin:round; stroke-width:4; stroke-opacity:1; fill:none\" points=\"\n",
       "  720.87,1486.45 720.87,1467.55 \n",
       "  \"/>\n",
       "<polyline clip-path=\"url(#clip090)\" style=\"stroke:#000000; stroke-linecap:butt; stroke-linejoin:round; stroke-width:4; stroke-opacity:1; fill:none\" points=\"\n",
       "  1240.58,1486.45 1240.58,1467.55 \n",
       "  \"/>\n",
       "<polyline clip-path=\"url(#clip090)\" style=\"stroke:#000000; stroke-linecap:butt; stroke-linejoin:round; stroke-width:4; stroke-opacity:1; fill:none\" points=\"\n",
       "  1760.29,1486.45 1760.29,1467.55 \n",
       "  \"/>\n",
       "<polyline clip-path=\"url(#clip090)\" style=\"stroke:#000000; stroke-linecap:butt; stroke-linejoin:round; stroke-width:4; stroke-opacity:1; fill:none\" points=\"\n",
       "  2280,1486.45 2280,1467.55 \n",
       "  \"/>\n",
       "<path clip-path=\"url(#clip090)\" d=\"M201.162 1517.37 Q197.551 1517.37 195.722 1520.93 Q193.916 1524.47 193.916 1531.6 Q193.916 1538.71 195.722 1542.27 Q197.551 1545.82 201.162 1545.82 Q204.796 1545.82 206.602 1542.27 Q208.43 1538.71 208.43 1531.6 Q208.43 1524.47 206.602 1520.93 Q204.796 1517.37 201.162 1517.37 M201.162 1513.66 Q206.972 1513.66 210.027 1518.27 Q213.106 1522.85 213.106 1531.6 Q213.106 1540.33 210.027 1544.94 Q206.972 1549.52 201.162 1549.52 Q195.352 1549.52 192.273 1544.94 Q189.217 1540.33 189.217 1531.6 Q189.217 1522.85 192.273 1518.27 Q195.352 1513.66 201.162 1513.66 Z\" fill=\"#000000\" fill-rule=\"evenodd\" fill-opacity=\"1\" /><path clip-path=\"url(#clip090)\" d=\"M695.57 1514.29 L713.926 1514.29 L713.926 1518.22 L699.852 1518.22 L699.852 1526.7 Q700.871 1526.35 701.889 1526.19 Q702.908 1526 703.926 1526 Q709.713 1526 713.093 1529.17 Q716.472 1532.34 716.472 1537.76 Q716.472 1543.34 713 1546.44 Q709.528 1549.52 703.209 1549.52 Q701.033 1549.52 698.764 1549.15 Q696.519 1548.78 694.111 1548.04 L694.111 1543.34 Q696.195 1544.47 698.417 1545.03 Q700.639 1545.58 703.116 1545.58 Q707.121 1545.58 709.458 1543.48 Q711.796 1541.37 711.796 1537.76 Q711.796 1534.15 709.458 1532.04 Q707.121 1529.94 703.116 1529.94 Q701.241 1529.94 699.366 1530.35 Q697.514 1530.77 695.57 1531.65 L695.57 1514.29 Z\" fill=\"#000000\" fill-rule=\"evenodd\" fill-opacity=\"1\" /><path clip-path=\"url(#clip090)\" d=\"M735.685 1517.37 Q732.074 1517.37 730.245 1520.93 Q728.44 1524.47 728.44 1531.6 Q728.44 1538.71 730.245 1542.27 Q732.074 1545.82 735.685 1545.82 Q739.319 1545.82 741.125 1542.27 Q742.954 1538.71 742.954 1531.6 Q742.954 1524.47 741.125 1520.93 Q739.319 1517.37 735.685 1517.37 M735.685 1513.66 Q741.495 1513.66 744.551 1518.27 Q747.63 1522.85 747.63 1531.6 Q747.63 1540.33 744.551 1544.94 Q741.495 1549.52 735.685 1549.52 Q729.875 1549.52 726.796 1544.94 Q723.741 1540.33 723.741 1531.6 Q723.741 1522.85 726.796 1518.27 Q729.875 1513.66 735.685 1513.66 Z\" fill=\"#000000\" fill-rule=\"evenodd\" fill-opacity=\"1\" /><path clip-path=\"url(#clip090)\" d=\"M1200.19 1544.91 L1207.82 1544.91 L1207.82 1518.55 L1199.51 1520.21 L1199.51 1515.95 L1207.78 1514.29 L1212.45 1514.29 L1212.45 1544.91 L1220.09 1544.91 L1220.09 1548.85 L1200.19 1548.85 L1200.19 1544.91 Z\" fill=\"#000000\" fill-rule=\"evenodd\" fill-opacity=\"1\" /><path clip-path=\"url(#clip090)\" d=\"M1239.54 1517.37 Q1235.93 1517.37 1234.1 1520.93 Q1232.29 1524.47 1232.29 1531.6 Q1232.29 1538.71 1234.1 1542.27 Q1235.93 1545.82 1239.54 1545.82 Q1243.17 1545.82 1244.98 1542.27 Q1246.81 1538.71 1246.81 1531.6 Q1246.81 1524.47 1244.98 1520.93 Q1243.17 1517.37 1239.54 1517.37 M1239.54 1513.66 Q1245.35 1513.66 1248.4 1518.27 Q1251.48 1522.85 1251.48 1531.6 Q1251.48 1540.33 1248.4 1544.94 Q1245.35 1549.52 1239.54 1549.52 Q1233.73 1549.52 1230.65 1544.94 Q1227.59 1540.33 1227.59 1531.6 Q1227.59 1522.85 1230.65 1518.27 Q1233.73 1513.66 1239.54 1513.66 Z\" fill=\"#000000\" fill-rule=\"evenodd\" fill-opacity=\"1\" /><path clip-path=\"url(#clip090)\" d=\"M1269.7 1517.37 Q1266.09 1517.37 1264.26 1520.93 Q1262.45 1524.47 1262.45 1531.6 Q1262.45 1538.71 1264.26 1542.27 Q1266.09 1545.82 1269.7 1545.82 Q1273.33 1545.82 1275.14 1542.27 Q1276.97 1538.71 1276.97 1531.6 Q1276.97 1524.47 1275.14 1520.93 Q1273.33 1517.37 1269.7 1517.37 M1269.7 1513.66 Q1275.51 1513.66 1278.57 1518.27 Q1281.64 1522.85 1281.64 1531.6 Q1281.64 1540.33 1278.57 1544.94 Q1275.51 1549.52 1269.7 1549.52 Q1263.89 1549.52 1260.81 1544.94 Q1257.76 1540.33 1257.76 1531.6 Q1257.76 1522.85 1260.81 1518.27 Q1263.89 1513.66 1269.7 1513.66 Z\" fill=\"#000000\" fill-rule=\"evenodd\" fill-opacity=\"1\" /><path clip-path=\"url(#clip090)\" d=\"M1719.89 1544.91 L1727.53 1544.91 L1727.53 1518.55 L1719.22 1520.21 L1719.22 1515.95 L1727.49 1514.29 L1732.16 1514.29 L1732.16 1544.91 L1739.8 1544.91 L1739.8 1548.85 L1719.89 1548.85 L1719.89 1544.91 Z\" fill=\"#000000\" fill-rule=\"evenodd\" fill-opacity=\"1\" /><path clip-path=\"url(#clip090)\" d=\"M1749.29 1514.29 L1767.65 1514.29 L1767.65 1518.22 L1753.58 1518.22 L1753.58 1526.7 Q1754.59 1526.35 1755.61 1526.19 Q1756.63 1526 1757.65 1526 Q1763.44 1526 1766.82 1529.17 Q1770.2 1532.34 1770.2 1537.76 Q1770.2 1543.34 1766.72 1546.44 Q1763.25 1549.52 1756.93 1549.52 Q1754.76 1549.52 1752.49 1549.15 Q1750.24 1548.78 1747.83 1548.04 L1747.83 1543.34 Q1749.92 1544.47 1752.14 1545.03 Q1754.36 1545.58 1756.84 1545.58 Q1760.84 1545.58 1763.18 1543.48 Q1765.52 1541.37 1765.52 1537.76 Q1765.52 1534.15 1763.18 1532.04 Q1760.84 1529.94 1756.84 1529.94 Q1754.96 1529.94 1753.09 1530.35 Q1751.24 1530.77 1749.29 1531.65 L1749.29 1514.29 Z\" fill=\"#000000\" fill-rule=\"evenodd\" fill-opacity=\"1\" /><path clip-path=\"url(#clip090)\" d=\"M1789.41 1517.37 Q1785.8 1517.37 1783.97 1520.93 Q1782.16 1524.47 1782.16 1531.6 Q1782.16 1538.71 1783.97 1542.27 Q1785.8 1545.82 1789.41 1545.82 Q1793.04 1545.82 1794.85 1542.27 Q1796.68 1538.71 1796.68 1531.6 Q1796.68 1524.47 1794.85 1520.93 Q1793.04 1517.37 1789.41 1517.37 M1789.41 1513.66 Q1795.22 1513.66 1798.27 1518.27 Q1801.35 1522.85 1801.35 1531.6 Q1801.35 1540.33 1798.27 1544.94 Q1795.22 1549.52 1789.41 1549.52 Q1783.6 1549.52 1780.52 1544.94 Q1777.46 1540.33 1777.46 1531.6 Q1777.46 1522.85 1780.52 1518.27 Q1783.6 1513.66 1789.41 1513.66 Z\" fill=\"#000000\" fill-rule=\"evenodd\" fill-opacity=\"1\" /><path clip-path=\"url(#clip090)\" d=\"M2243.69 1544.91 L2260.01 1544.91 L2260.01 1548.85 L2238.06 1548.85 L2238.06 1544.91 Q2240.73 1542.16 2245.31 1537.53 Q2249.92 1532.88 2251.1 1531.53 Q2253.34 1529.01 2254.22 1527.27 Q2255.12 1525.51 2255.12 1523.82 Q2255.12 1521.07 2253.18 1519.33 Q2251.26 1517.6 2248.16 1517.6 Q2245.96 1517.6 2243.5 1518.36 Q2241.07 1519.13 2238.3 1520.68 L2238.3 1515.95 Q2241.12 1514.82 2243.57 1514.24 Q2246.03 1513.66 2248.06 1513.66 Q2253.43 1513.66 2256.63 1516.35 Q2259.82 1519.03 2259.82 1523.52 Q2259.82 1525.65 2259.01 1527.57 Q2258.23 1529.47 2256.12 1532.07 Q2255.54 1532.74 2252.44 1535.95 Q2249.34 1539.15 2243.69 1544.91 Z\" fill=\"#000000\" fill-rule=\"evenodd\" fill-opacity=\"1\" /><path clip-path=\"url(#clip090)\" d=\"M2279.82 1517.37 Q2276.21 1517.37 2274.38 1520.93 Q2272.58 1524.47 2272.58 1531.6 Q2272.58 1538.71 2274.38 1542.27 Q2276.21 1545.82 2279.82 1545.82 Q2283.46 1545.82 2285.26 1542.27 Q2287.09 1538.71 2287.09 1531.6 Q2287.09 1524.47 2285.26 1520.93 Q2283.46 1517.37 2279.82 1517.37 M2279.82 1513.66 Q2285.63 1513.66 2288.69 1518.27 Q2291.77 1522.85 2291.77 1531.6 Q2291.77 1540.33 2288.69 1544.94 Q2285.63 1549.52 2279.82 1549.52 Q2274.01 1549.52 2270.93 1544.94 Q2267.88 1540.33 2267.88 1531.6 Q2267.88 1522.85 2270.93 1518.27 Q2274.01 1513.66 2279.82 1513.66 Z\" fill=\"#000000\" fill-rule=\"evenodd\" fill-opacity=\"1\" /><path clip-path=\"url(#clip090)\" d=\"M2309.98 1517.37 Q2306.37 1517.37 2304.55 1520.93 Q2302.74 1524.47 2302.74 1531.6 Q2302.74 1538.71 2304.55 1542.27 Q2306.37 1545.82 2309.98 1545.82 Q2313.62 1545.82 2315.42 1542.27 Q2317.25 1538.71 2317.25 1531.6 Q2317.25 1524.47 2315.42 1520.93 Q2313.62 1517.37 2309.98 1517.37 M2309.98 1513.66 Q2315.8 1513.66 2318.85 1518.27 Q2321.93 1522.85 2321.93 1531.6 Q2321.93 1540.33 2318.85 1544.94 Q2315.8 1549.52 2309.98 1549.52 Q2304.17 1549.52 2301.1 1544.94 Q2298.04 1540.33 2298.04 1531.6 Q2298.04 1522.85 2301.1 1518.27 Q2304.17 1513.66 2309.98 1513.66 Z\" fill=\"#000000\" fill-rule=\"evenodd\" fill-opacity=\"1\" /><polyline clip-path=\"url(#clip092)\" style=\"stroke:#000000; stroke-linecap:butt; stroke-linejoin:round; stroke-width:2; stroke-opacity:0.1; fill:none\" points=\"\n",
       "  149.191,1360.16 2352.76,1360.16 \n",
       "  \"/>\n",
       "<polyline clip-path=\"url(#clip092)\" style=\"stroke:#000000; stroke-linecap:butt; stroke-linejoin:round; stroke-width:2; stroke-opacity:0.1; fill:none\" points=\"\n",
       "  149.191,1071.68 2352.76,1071.68 \n",
       "  \"/>\n",
       "<polyline clip-path=\"url(#clip092)\" style=\"stroke:#000000; stroke-linecap:butt; stroke-linejoin:round; stroke-width:2; stroke-opacity:0.1; fill:none\" points=\"\n",
       "  149.191,783.192 2352.76,783.192 \n",
       "  \"/>\n",
       "<polyline clip-path=\"url(#clip092)\" style=\"stroke:#000000; stroke-linecap:butt; stroke-linejoin:round; stroke-width:2; stroke-opacity:0.1; fill:none\" points=\"\n",
       "  149.191,494.708 2352.76,494.708 \n",
       "  \"/>\n",
       "<polyline clip-path=\"url(#clip092)\" style=\"stroke:#000000; stroke-linecap:butt; stroke-linejoin:round; stroke-width:2; stroke-opacity:0.1; fill:none\" points=\"\n",
       "  149.191,206.224 2352.76,206.224 \n",
       "  \"/>\n",
       "<polyline clip-path=\"url(#clip090)\" style=\"stroke:#000000; stroke-linecap:butt; stroke-linejoin:round; stroke-width:4; stroke-opacity:1; fill:none\" points=\"\n",
       "  149.191,1486.45 149.191,47.2441 \n",
       "  \"/>\n",
       "<polyline clip-path=\"url(#clip090)\" style=\"stroke:#000000; stroke-linecap:butt; stroke-linejoin:round; stroke-width:4; stroke-opacity:1; fill:none\" points=\"\n",
       "  149.191,1360.16 168.089,1360.16 \n",
       "  \"/>\n",
       "<polyline clip-path=\"url(#clip090)\" style=\"stroke:#000000; stroke-linecap:butt; stroke-linejoin:round; stroke-width:4; stroke-opacity:1; fill:none\" points=\"\n",
       "  149.191,1071.68 168.089,1071.68 \n",
       "  \"/>\n",
       "<polyline clip-path=\"url(#clip090)\" style=\"stroke:#000000; stroke-linecap:butt; stroke-linejoin:round; stroke-width:4; stroke-opacity:1; fill:none\" points=\"\n",
       "  149.191,783.192 168.089,783.192 \n",
       "  \"/>\n",
       "<polyline clip-path=\"url(#clip090)\" style=\"stroke:#000000; stroke-linecap:butt; stroke-linejoin:round; stroke-width:4; stroke-opacity:1; fill:none\" points=\"\n",
       "  149.191,494.708 168.089,494.708 \n",
       "  \"/>\n",
       "<polyline clip-path=\"url(#clip090)\" style=\"stroke:#000000; stroke-linecap:butt; stroke-linejoin:round; stroke-width:4; stroke-opacity:1; fill:none\" points=\"\n",
       "  149.191,206.224 168.089,206.224 \n",
       "  \"/>\n",
       "<path clip-path=\"url(#clip090)\" d=\"M50.9921 1360.61 L80.6679 1360.61 L80.6679 1364.55 L50.9921 1364.55 L50.9921 1360.61 Z\" fill=\"#000000\" fill-rule=\"evenodd\" fill-opacity=\"1\" /><path clip-path=\"url(#clip090)\" d=\"M103.608 1346.95 L91.8021 1365.4 L103.608 1365.4 L103.608 1346.95 M102.381 1342.88 L108.26 1342.88 L108.26 1365.4 L113.191 1365.4 L113.191 1369.29 L108.26 1369.29 L108.26 1377.44 L103.608 1377.44 L103.608 1369.29 L88.0058 1369.29 L88.0058 1364.78 L102.381 1342.88 Z\" fill=\"#000000\" fill-rule=\"evenodd\" fill-opacity=\"1\" /><path clip-path=\"url(#clip090)\" d=\"M53.0754 1072.13 L82.7512 1072.13 L82.7512 1076.06 L53.0754 1076.06 L53.0754 1072.13 Z\" fill=\"#000000\" fill-rule=\"evenodd\" fill-opacity=\"1\" /><path clip-path=\"url(#clip090)\" d=\"M96.8715 1085.02 L113.191 1085.02 L113.191 1088.96 L91.2465 1088.96 L91.2465 1085.02 Q93.9086 1082.27 98.4919 1077.64 Q103.098 1072.98 104.279 1071.64 Q106.524 1069.12 107.404 1067.38 Q108.307 1065.62 108.307 1063.93 Q108.307 1061.18 106.362 1059.44 Q104.441 1057.71 101.339 1057.71 Q99.14 1057.71 96.6863 1058.47 Q94.2558 1059.23 91.478 1060.78 L91.478 1056.06 Q94.3021 1054.93 96.7558 1054.35 Q99.2095 1053.77 101.246 1053.77 Q106.617 1053.77 109.811 1056.46 Q113.006 1059.14 113.006 1063.63 Q113.006 1065.76 112.196 1067.68 Q111.408 1069.58 109.302 1072.17 Q108.723 1072.84 105.621 1076.06 Q102.52 1079.26 96.8715 1085.02 Z\" fill=\"#000000\" fill-rule=\"evenodd\" fill-opacity=\"1\" /><path clip-path=\"url(#clip090)\" d=\"M101.246 768.991 Q97.6354 768.991 95.8067 772.555 Q94.0012 776.097 94.0012 783.227 Q94.0012 790.333 95.8067 793.898 Q97.6354 797.439 101.246 797.439 Q104.881 797.439 106.686 793.898 Q108.515 790.333 108.515 783.227 Q108.515 776.097 106.686 772.555 Q104.881 768.991 101.246 768.991 M101.246 765.287 Q107.057 765.287 110.112 769.893 Q113.191 774.477 113.191 783.227 Q113.191 791.953 110.112 796.56 Q107.057 801.143 101.246 801.143 Q95.4363 801.143 92.3576 796.56 Q89.3021 791.953 89.3021 783.227 Q89.3021 774.477 92.3576 769.893 Q95.4363 765.287 101.246 765.287 Z\" fill=\"#000000\" fill-rule=\"evenodd\" fill-opacity=\"1\" /><path clip-path=\"url(#clip090)\" d=\"M96.8715 508.053 L113.191 508.053 L113.191 511.988 L91.2465 511.988 L91.2465 508.053 Q93.9086 505.298 98.4919 500.669 Q103.098 496.016 104.279 494.673 Q106.524 492.15 107.404 490.414 Q108.307 488.655 108.307 486.965 Q108.307 484.21 106.362 482.474 Q104.441 480.738 101.339 480.738 Q99.14 480.738 96.6863 481.502 Q94.2558 482.266 91.478 483.817 L91.478 479.095 Q94.3021 477.96 96.7558 477.382 Q99.2095 476.803 101.246 476.803 Q106.617 476.803 109.811 479.488 Q113.006 482.173 113.006 486.664 Q113.006 488.794 112.196 490.715 Q111.408 492.613 109.302 495.206 Q108.723 495.877 105.621 499.094 Q102.52 502.289 96.8715 508.053 Z\" fill=\"#000000\" fill-rule=\"evenodd\" fill-opacity=\"1\" /><path clip-path=\"url(#clip090)\" d=\"M103.608 193.018 L91.8021 211.467 L103.608 211.467 L103.608 193.018 M102.381 188.944 L108.26 188.944 L108.26 211.467 L113.191 211.467 L113.191 215.356 L108.26 215.356 L108.26 223.504 L103.608 223.504 L103.608 215.356 L88.0058 215.356 L88.0058 210.842 L102.381 188.944 Z\" fill=\"#000000\" fill-rule=\"evenodd\" fill-opacity=\"1\" /><polyline clip-path=\"url(#clip092)\" style=\"stroke:#009af9; stroke-linecap:butt; stroke-linejoin:round; stroke-width:4; stroke-opacity:1; fill:none\" points=\"\n",
       "  211.556,783.192 221.95,698.847 232.344,909.993 242.738,794.367 253.133,643.471 263.527,797.668 273.921,674.723 284.315,780.894 294.709,966.792 305.103,1059.22 \n",
       "  315.498,1199.59 325.892,1264.28 336.286,1229.85 346.68,919.583 357.074,934.672 367.469,1014.43 377.863,999.505 388.257,1005.01 398.651,1143.2 409.045,1206.67 \n",
       "  419.439,1080.92 429.834,1014.3 440.228,823.222 450.622,845.866 461.016,930.131 471.41,1090.65 481.804,1142.69 492.199,1206.74 502.593,1156.24 512.987,1148.78 \n",
       "  523.381,1079.98 533.775,1104.73 544.17,981.459 554.564,1023.43 564.958,949.306 575.352,928.091 585.746,780.932 596.14,775.831 606.535,554.957 616.929,695.625 \n",
       "  627.323,707.422 637.717,568.453 648.111,656.366 658.505,733.199 668.9,545.637 679.294,721.185 689.688,825.086 700.082,1006.15 710.476,1137.96 720.87,1044.95 \n",
       "  731.265,1216.29 741.659,1017.43 752.053,850.715 762.447,812.129 772.841,925.645 783.236,815.691 793.63,936.073 804.024,1029.83 814.418,935.665 824.812,873.915 \n",
       "  835.206,1020.62 845.601,1067.08 855.995,1298.84 866.389,1197.66 876.783,1032.24 887.177,906.599 897.571,881.991 907.966,770.294 918.36,945.39 928.754,563.885 \n",
       "  939.148,447.643 949.542,635.189 959.936,938.169 970.331,912.442 980.725,933.929 991.119,910.806 1001.51,750.552 1011.91,812.054 1022.3,853.058 1032.7,675.058 \n",
       "  1043.09,698.259 1053.48,523.272 1063.88,650.583 1074.27,592.593 1084.67,831.887 1095.06,580.933 1105.45,664.516 1115.85,575.994 1126.24,520.089 1136.64,703.205 \n",
       "  1147.03,538.026 1157.43,541.097 1167.82,643.887 1178.21,719.389 1188.61,974.818 1199,1018.19 1209.4,1025.24 1219.79,912.305 1230.19,1140.17 1240.58,1312.5 \n",
       "  1250.97,1126.77 1261.37,1116.38 1271.76,1198.5 1282.16,1412.36 1292.55,1347.1 1302.94,1386.5 1313.34,1368.1 1323.73,1236.42 1334.13,1165.03 1344.52,1070.74 \n",
       "  1354.92,802.326 1365.31,588.73 1375.7,525.738 1386.1,501.52 1396.49,644.632 1406.89,737.58 1417.28,460.948 1427.67,575.37 1438.07,462.802 1448.46,260.308 \n",
       "  1458.86,87.9763 1469.25,135.752 1479.65,151.687 1490.04,181.934 1500.43,535.587 1510.83,492.91 1521.22,474.366 1531.62,475.449 1542.01,482.062 1552.4,537.429 \n",
       "  1562.8,360.184 1573.19,569.201 1583.59,507.482 1593.98,619.617 1604.38,526.957 1614.77,361.24 1625.16,638.02 1635.56,840.544 1645.95,566.703 1656.35,650.818 \n",
       "  1666.74,440.73 1677.13,765.208 1687.53,831.839 1697.92,641.354 1708.32,455.15 1718.71,635.692 1729.11,865.759 1739.5,920.106 1749.89,825.174 1760.29,742.112 \n",
       "  1770.68,1016.57 1781.08,1085.94 1791.47,831.156 1801.86,956.354 1812.26,1214.15 1822.65,1234.74 1833.05,1089.04 1843.44,1100.76 1853.84,1183.12 1864.23,1445.72 \n",
       "  1874.62,1376.46 1885.02,1374.02 1895.41,1281.19 1905.81,1053.18 1916.2,739.123 1926.59,837.687 1936.99,810.54 1947.38,443.758 1957.78,498.157 1968.17,687.138 \n",
       "  1978.57,399.741 1988.96,466.933 1999.35,553.644 2009.75,580.274 2020.14,617.126 2030.54,382.55 2040.93,416.088 2051.32,570.27 2061.72,552.141 2072.11,519.245 \n",
       "  2082.51,769.754 2092.9,791.131 2103.3,919.836 2113.69,836.401 2124.08,821.887 2134.48,941.347 2144.87,952.964 2155.27,983.365 2165.66,995.672 2176.05,1016.55 \n",
       "  2186.45,1007.69 2196.84,1091.81 2207.24,1129.63 2217.63,1182.66 2228.03,1225.64 2238.42,1251.58 2248.81,1170.97 2259.21,1226.34 2269.6,1200.78 2280,1361.35 \n",
       "  2290.39,1320.16 \n",
       "  \"/>\n",
       "<path clip-path=\"url(#clip090)\" d=\"\n",
       "M1982.03 198.898 L2279.3 198.898 L2279.3 95.2176 L1982.03 95.2176  Z\n",
       "  \" fill=\"#ffffff\" fill-rule=\"evenodd\" fill-opacity=\"1\"/>\n",
       "<polyline clip-path=\"url(#clip090)\" style=\"stroke:#000000; stroke-linecap:butt; stroke-linejoin:round; stroke-width:4; stroke-opacity:1; fill:none\" points=\"\n",
       "  1982.03,198.898 2279.3,198.898 2279.3,95.2176 1982.03,95.2176 1982.03,198.898 \n",
       "  \"/>\n",
       "<polyline clip-path=\"url(#clip090)\" style=\"stroke:#009af9; stroke-linecap:butt; stroke-linejoin:round; stroke-width:4; stroke-opacity:1; fill:none\" points=\"\n",
       "  2006.52,147.058 2153.42,147.058 \n",
       "  \"/>\n",
       "<path clip-path=\"url(#clip090)\" d=\"M2191.75 166.745 Q2189.94 171.375 2188.23 172.787 Q2186.52 174.199 2183.65 174.199 L2180.24 174.199 L2180.24 170.634 L2182.74 170.634 Q2184.5 170.634 2185.47 169.8 Q2186.45 168.967 2187.63 165.865 L2188.39 163.921 L2177.91 138.412 L2182.42 138.412 L2190.52 158.689 L2198.62 138.412 L2203.14 138.412 L2191.75 166.745 Z\" fill=\"#000000\" fill-rule=\"evenodd\" fill-opacity=\"1\" /><path clip-path=\"url(#clip090)\" d=\"M2210.43 160.402 L2218.07 160.402 L2218.07 134.037 L2209.76 135.703 L2209.76 131.444 L2218.02 129.778 L2222.7 129.778 L2222.7 160.402 L2230.34 160.402 L2230.34 164.338 L2210.43 164.338 L2210.43 160.402 Z\" fill=\"#000000\" fill-rule=\"evenodd\" fill-opacity=\"1\" /></svg>\n"
      ]
     },
     "execution_count": 56,
     "metadata": {},
     "output_type": "execute_result"
    }
   ],
   "source": [
    "using Plots\n",
    "ϵ = randn(200)\n",
    "x = zeros(201)\n",
    "for i in 2:201\n",
    "    x[i] = 0.9x[i-1] + ϵ[i-1]\n",
    "end\n",
    "plot(x)"
   ]
  },
  {
   "cell_type": "markdown",
   "id": "ab18b2c3",
   "metadata": {},
   "source": [
    "### Exercise 6\n",
    "\n",
    "Plot three simulated time series, one for each of the cases $ \\alpha = 0 $, $ \\alpha = 0.8 $ and $ \\alpha = 0.98 $.\n",
    "\n",
    "(The figure will illustrate how time series with the same one-step-ahead conditional volatilities, as these three processes have, can have very different unconditional volatilities)\n",
    "\n",
    "\n",
    "<a id='jbe-ex7'></a>"
   ]
  },
  {
   "cell_type": "code",
   "execution_count": 57,
   "id": "92621f40",
   "metadata": {
    "scrolled": true
   },
   "outputs": [
    {
     "data": {
      "image/svg+xml": [
       "<?xml version=\"1.0\" encoding=\"utf-8\"?>\n",
       "<svg xmlns=\"http://www.w3.org/2000/svg\" xmlns:xlink=\"http://www.w3.org/1999/xlink\" width=\"600\" height=\"400\" viewBox=\"0 0 2400 1600\">\n",
       "<defs>\n",
       "  <clipPath id=\"clip130\">\n",
       "    <rect x=\"0\" y=\"0\" width=\"2400\" height=\"1600\"/>\n",
       "  </clipPath>\n",
       "</defs>\n",
       "<path clip-path=\"url(#clip130)\" d=\"\n",
       "M0 1600 L2400 1600 L2400 0 L0 0  Z\n",
       "  \" fill=\"#ffffff\" fill-rule=\"evenodd\" fill-opacity=\"1\"/>\n",
       "<defs>\n",
       "  <clipPath id=\"clip131\">\n",
       "    <rect x=\"480\" y=\"0\" width=\"1681\" height=\"1600\"/>\n",
       "  </clipPath>\n",
       "</defs>\n",
       "<path clip-path=\"url(#clip130)\" d=\"\n",
       "M148.867 1486.45 L2352.76 1486.45 L2352.76 47.2441 L148.867 47.2441  Z\n",
       "  \" fill=\"#ffffff\" fill-rule=\"evenodd\" fill-opacity=\"1\"/>\n",
       "<defs>\n",
       "  <clipPath id=\"clip132\">\n",
       "    <rect x=\"148\" y=\"47\" width=\"2205\" height=\"1440\"/>\n",
       "  </clipPath>\n",
       "</defs>\n",
       "<polyline clip-path=\"url(#clip132)\" style=\"stroke:#000000; stroke-linecap:butt; stroke-linejoin:round; stroke-width:2; stroke-opacity:0.1; fill:none\" points=\"\n",
       "  200.845,1486.45 200.845,47.2441 \n",
       "  \"/>\n",
       "<polyline clip-path=\"url(#clip132)\" style=\"stroke:#000000; stroke-linecap:butt; stroke-linejoin:round; stroke-width:2; stroke-opacity:0.1; fill:none\" points=\"\n",
       "  720.63,1486.45 720.63,47.2441 \n",
       "  \"/>\n",
       "<polyline clip-path=\"url(#clip132)\" style=\"stroke:#000000; stroke-linecap:butt; stroke-linejoin:round; stroke-width:2; stroke-opacity:0.1; fill:none\" points=\"\n",
       "  1240.42,1486.45 1240.42,47.2441 \n",
       "  \"/>\n",
       "<polyline clip-path=\"url(#clip132)\" style=\"stroke:#000000; stroke-linecap:butt; stroke-linejoin:round; stroke-width:2; stroke-opacity:0.1; fill:none\" points=\"\n",
       "  1760.2,1486.45 1760.2,47.2441 \n",
       "  \"/>\n",
       "<polyline clip-path=\"url(#clip132)\" style=\"stroke:#000000; stroke-linecap:butt; stroke-linejoin:round; stroke-width:2; stroke-opacity:0.1; fill:none\" points=\"\n",
       "  2279.99,1486.45 2279.99,47.2441 \n",
       "  \"/>\n",
       "<polyline clip-path=\"url(#clip130)\" style=\"stroke:#000000; stroke-linecap:butt; stroke-linejoin:round; stroke-width:4; stroke-opacity:1; fill:none\" points=\"\n",
       "  148.867,1486.45 2352.76,1486.45 \n",
       "  \"/>\n",
       "<polyline clip-path=\"url(#clip130)\" style=\"stroke:#000000; stroke-linecap:butt; stroke-linejoin:round; stroke-width:4; stroke-opacity:1; fill:none\" points=\"\n",
       "  200.845,1486.45 200.845,1467.55 \n",
       "  \"/>\n",
       "<polyline clip-path=\"url(#clip130)\" style=\"stroke:#000000; stroke-linecap:butt; stroke-linejoin:round; stroke-width:4; stroke-opacity:1; fill:none\" points=\"\n",
       "  720.63,1486.45 720.63,1467.55 \n",
       "  \"/>\n",
       "<polyline clip-path=\"url(#clip130)\" style=\"stroke:#000000; stroke-linecap:butt; stroke-linejoin:round; stroke-width:4; stroke-opacity:1; fill:none\" points=\"\n",
       "  1240.42,1486.45 1240.42,1467.55 \n",
       "  \"/>\n",
       "<polyline clip-path=\"url(#clip130)\" style=\"stroke:#000000; stroke-linecap:butt; stroke-linejoin:round; stroke-width:4; stroke-opacity:1; fill:none\" points=\"\n",
       "  1760.2,1486.45 1760.2,1467.55 \n",
       "  \"/>\n",
       "<polyline clip-path=\"url(#clip130)\" style=\"stroke:#000000; stroke-linecap:butt; stroke-linejoin:round; stroke-width:4; stroke-opacity:1; fill:none\" points=\"\n",
       "  2279.99,1486.45 2279.99,1467.55 \n",
       "  \"/>\n",
       "<path clip-path=\"url(#clip130)\" d=\"M200.845 1517.37 Q197.234 1517.37 195.406 1520.93 Q193.6 1524.47 193.6 1531.6 Q193.6 1538.71 195.406 1542.27 Q197.234 1545.82 200.845 1545.82 Q204.48 1545.82 206.285 1542.27 Q208.114 1538.71 208.114 1531.6 Q208.114 1524.47 206.285 1520.93 Q204.48 1517.37 200.845 1517.37 M200.845 1513.66 Q206.655 1513.66 209.711 1518.27 Q212.79 1522.85 212.79 1531.6 Q212.79 1540.33 209.711 1544.94 Q206.655 1549.52 200.845 1549.52 Q195.035 1549.52 191.956 1544.94 Q188.901 1540.33 188.901 1531.6 Q188.901 1522.85 191.956 1518.27 Q195.035 1513.66 200.845 1513.66 Z\" fill=\"#000000\" fill-rule=\"evenodd\" fill-opacity=\"1\" /><path clip-path=\"url(#clip130)\" d=\"M695.33 1514.29 L713.686 1514.29 L713.686 1518.22 L699.612 1518.22 L699.612 1526.7 Q700.631 1526.35 701.649 1526.19 Q702.668 1526 703.686 1526 Q709.473 1526 712.853 1529.17 Q716.232 1532.34 716.232 1537.76 Q716.232 1543.34 712.76 1546.44 Q709.288 1549.52 702.969 1549.52 Q700.793 1549.52 698.524 1549.15 Q696.279 1548.78 693.871 1548.04 L693.871 1543.34 Q695.955 1544.47 698.177 1545.03 Q700.399 1545.58 702.876 1545.58 Q706.881 1545.58 709.219 1543.48 Q711.556 1541.37 711.556 1537.76 Q711.556 1534.15 709.219 1532.04 Q706.881 1529.94 702.876 1529.94 Q701.001 1529.94 699.126 1530.35 Q697.274 1530.77 695.33 1531.65 L695.33 1514.29 Z\" fill=\"#000000\" fill-rule=\"evenodd\" fill-opacity=\"1\" /><path clip-path=\"url(#clip130)\" d=\"M735.445 1517.37 Q731.834 1517.37 730.005 1520.93 Q728.2 1524.47 728.2 1531.6 Q728.2 1538.71 730.005 1542.27 Q731.834 1545.82 735.445 1545.82 Q739.079 1545.82 740.885 1542.27 Q742.714 1538.71 742.714 1531.6 Q742.714 1524.47 740.885 1520.93 Q739.079 1517.37 735.445 1517.37 M735.445 1513.66 Q741.255 1513.66 744.311 1518.27 Q747.39 1522.85 747.39 1531.6 Q747.39 1540.33 744.311 1544.94 Q741.255 1549.52 735.445 1549.52 Q729.635 1549.52 726.556 1544.94 Q723.501 1540.33 723.501 1531.6 Q723.501 1522.85 726.556 1518.27 Q729.635 1513.66 735.445 1513.66 Z\" fill=\"#000000\" fill-rule=\"evenodd\" fill-opacity=\"1\" /><path clip-path=\"url(#clip130)\" d=\"M1200.02 1544.91 L1207.66 1544.91 L1207.66 1518.55 L1199.35 1520.21 L1199.35 1515.95 L1207.61 1514.29 L1212.29 1514.29 L1212.29 1544.91 L1219.93 1544.91 L1219.93 1548.85 L1200.02 1548.85 L1200.02 1544.91 Z\" fill=\"#000000\" fill-rule=\"evenodd\" fill-opacity=\"1\" /><path clip-path=\"url(#clip130)\" d=\"M1239.37 1517.37 Q1235.76 1517.37 1233.93 1520.93 Q1232.13 1524.47 1232.13 1531.6 Q1232.13 1538.71 1233.93 1542.27 Q1235.76 1545.82 1239.37 1545.82 Q1243.01 1545.82 1244.81 1542.27 Q1246.64 1538.71 1246.64 1531.6 Q1246.64 1524.47 1244.81 1520.93 Q1243.01 1517.37 1239.37 1517.37 M1239.37 1513.66 Q1245.18 1513.66 1248.24 1518.27 Q1251.32 1522.85 1251.32 1531.6 Q1251.32 1540.33 1248.24 1544.94 Q1245.18 1549.52 1239.37 1549.52 Q1233.56 1549.52 1230.49 1544.94 Q1227.43 1540.33 1227.43 1531.6 Q1227.43 1522.85 1230.49 1518.27 Q1233.56 1513.66 1239.37 1513.66 Z\" fill=\"#000000\" fill-rule=\"evenodd\" fill-opacity=\"1\" /><path clip-path=\"url(#clip130)\" d=\"M1269.54 1517.37 Q1265.92 1517.37 1264.1 1520.93 Q1262.29 1524.47 1262.29 1531.6 Q1262.29 1538.71 1264.1 1542.27 Q1265.92 1545.82 1269.54 1545.82 Q1273.17 1545.82 1274.98 1542.27 Q1276.8 1538.71 1276.8 1531.6 Q1276.8 1524.47 1274.98 1520.93 Q1273.17 1517.37 1269.54 1517.37 M1269.54 1513.66 Q1275.35 1513.66 1278.4 1518.27 Q1281.48 1522.85 1281.48 1531.6 Q1281.48 1540.33 1278.4 1544.94 Q1275.35 1549.52 1269.54 1549.52 Q1263.73 1549.52 1260.65 1544.94 Q1257.59 1540.33 1257.59 1531.6 Q1257.59 1522.85 1260.65 1518.27 Q1263.73 1513.66 1269.54 1513.66 Z\" fill=\"#000000\" fill-rule=\"evenodd\" fill-opacity=\"1\" /><path clip-path=\"url(#clip130)\" d=\"M1719.81 1544.91 L1727.45 1544.91 L1727.45 1518.55 L1719.14 1520.21 L1719.14 1515.95 L1727.4 1514.29 L1732.08 1514.29 L1732.08 1544.91 L1739.71 1544.91 L1739.71 1548.85 L1719.81 1548.85 L1719.81 1544.91 Z\" fill=\"#000000\" fill-rule=\"evenodd\" fill-opacity=\"1\" /><path clip-path=\"url(#clip130)\" d=\"M1749.21 1514.29 L1767.56 1514.29 L1767.56 1518.22 L1753.49 1518.22 L1753.49 1526.7 Q1754.51 1526.35 1755.52 1526.19 Q1756.54 1526 1757.56 1526 Q1763.35 1526 1766.73 1529.17 Q1770.11 1532.34 1770.11 1537.76 Q1770.11 1543.34 1766.64 1546.44 Q1763.16 1549.52 1756.84 1549.52 Q1754.67 1549.52 1752.4 1549.15 Q1750.15 1548.78 1747.75 1548.04 L1747.75 1543.34 Q1749.83 1544.47 1752.05 1545.03 Q1754.27 1545.58 1756.75 1545.58 Q1760.76 1545.58 1763.09 1543.48 Q1765.43 1541.37 1765.43 1537.76 Q1765.43 1534.15 1763.09 1532.04 Q1760.76 1529.94 1756.75 1529.94 Q1754.88 1529.94 1753 1530.35 Q1751.15 1530.77 1749.21 1531.65 L1749.21 1514.29 Z\" fill=\"#000000\" fill-rule=\"evenodd\" fill-opacity=\"1\" /><path clip-path=\"url(#clip130)\" d=\"M1789.32 1517.37 Q1785.71 1517.37 1783.88 1520.93 Q1782.08 1524.47 1782.08 1531.6 Q1782.08 1538.71 1783.88 1542.27 Q1785.71 1545.82 1789.32 1545.82 Q1792.96 1545.82 1794.76 1542.27 Q1796.59 1538.71 1796.59 1531.6 Q1796.59 1524.47 1794.76 1520.93 Q1792.96 1517.37 1789.32 1517.37 M1789.32 1513.66 Q1795.13 1513.66 1798.19 1518.27 Q1801.27 1522.85 1801.27 1531.6 Q1801.27 1540.33 1798.19 1544.94 Q1795.13 1549.52 1789.32 1549.52 Q1783.51 1549.52 1780.43 1544.94 Q1777.38 1540.33 1777.38 1531.6 Q1777.38 1522.85 1780.43 1518.27 Q1783.51 1513.66 1789.32 1513.66 Z\" fill=\"#000000\" fill-rule=\"evenodd\" fill-opacity=\"1\" /><path clip-path=\"url(#clip130)\" d=\"M2243.68 1544.91 L2260 1544.91 L2260 1548.85 L2238.05 1548.85 L2238.05 1544.91 Q2240.72 1542.16 2245.3 1537.53 Q2249.91 1532.88 2251.09 1531.53 Q2253.33 1529.01 2254.21 1527.27 Q2255.11 1525.51 2255.11 1523.82 Q2255.11 1521.07 2253.17 1519.33 Q2251.25 1517.6 2248.15 1517.6 Q2245.95 1517.6 2243.49 1518.36 Q2241.06 1519.13 2238.28 1520.68 L2238.28 1515.95 Q2241.11 1514.82 2243.56 1514.24 Q2246.02 1513.66 2248.05 1513.66 Q2253.42 1513.66 2256.62 1516.35 Q2259.81 1519.03 2259.81 1523.52 Q2259.81 1525.65 2259 1527.57 Q2258.22 1529.47 2256.11 1532.07 Q2255.53 1532.74 2252.43 1535.95 Q2249.33 1539.15 2243.68 1544.91 Z\" fill=\"#000000\" fill-rule=\"evenodd\" fill-opacity=\"1\" /><path clip-path=\"url(#clip130)\" d=\"M2279.81 1517.37 Q2276.2 1517.37 2274.37 1520.93 Q2272.57 1524.47 2272.57 1531.6 Q2272.57 1538.71 2274.37 1542.27 Q2276.2 1545.82 2279.81 1545.82 Q2283.45 1545.82 2285.25 1542.27 Q2287.08 1538.71 2287.08 1531.6 Q2287.08 1524.47 2285.25 1520.93 Q2283.45 1517.37 2279.81 1517.37 M2279.81 1513.66 Q2285.62 1513.66 2288.68 1518.27 Q2291.76 1522.85 2291.76 1531.6 Q2291.76 1540.33 2288.68 1544.94 Q2285.62 1549.52 2279.81 1549.52 Q2274 1549.52 2270.92 1544.94 Q2267.87 1540.33 2267.87 1531.6 Q2267.87 1522.85 2270.92 1518.27 Q2274 1513.66 2279.81 1513.66 Z\" fill=\"#000000\" fill-rule=\"evenodd\" fill-opacity=\"1\" /><path clip-path=\"url(#clip130)\" d=\"M2309.97 1517.37 Q2306.36 1517.37 2304.53 1520.93 Q2302.73 1524.47 2302.73 1531.6 Q2302.73 1538.71 2304.53 1542.27 Q2306.36 1545.82 2309.97 1545.82 Q2313.61 1545.82 2315.41 1542.27 Q2317.24 1538.71 2317.24 1531.6 Q2317.24 1524.47 2315.41 1520.93 Q2313.61 1517.37 2309.97 1517.37 M2309.97 1513.66 Q2315.78 1513.66 2318.84 1518.27 Q2321.92 1522.85 2321.92 1531.6 Q2321.92 1540.33 2318.84 1544.94 Q2315.78 1549.52 2309.97 1549.52 Q2304.16 1549.52 2301.09 1544.94 Q2298.03 1540.33 2298.03 1531.6 Q2298.03 1522.85 2301.09 1518.27 Q2304.16 1513.66 2309.97 1513.66 Z\" fill=\"#000000\" fill-rule=\"evenodd\" fill-opacity=\"1\" /><polyline clip-path=\"url(#clip132)\" style=\"stroke:#000000; stroke-linecap:butt; stroke-linejoin:round; stroke-width:2; stroke-opacity:0.1; fill:none\" points=\"\n",
       "  148.867,1374.5 2352.76,1374.5 \n",
       "  \"/>\n",
       "<polyline clip-path=\"url(#clip132)\" style=\"stroke:#000000; stroke-linecap:butt; stroke-linejoin:round; stroke-width:2; stroke-opacity:0.1; fill:none\" points=\"\n",
       "  148.867,1094.11 2352.76,1094.11 \n",
       "  \"/>\n",
       "<polyline clip-path=\"url(#clip132)\" style=\"stroke:#000000; stroke-linecap:butt; stroke-linejoin:round; stroke-width:2; stroke-opacity:0.1; fill:none\" points=\"\n",
       "  148.867,813.713 2352.76,813.713 \n",
       "  \"/>\n",
       "<polyline clip-path=\"url(#clip132)\" style=\"stroke:#000000; stroke-linecap:butt; stroke-linejoin:round; stroke-width:2; stroke-opacity:0.1; fill:none\" points=\"\n",
       "  148.867,533.322 2352.76,533.322 \n",
       "  \"/>\n",
       "<polyline clip-path=\"url(#clip132)\" style=\"stroke:#000000; stroke-linecap:butt; stroke-linejoin:round; stroke-width:2; stroke-opacity:0.1; fill:none\" points=\"\n",
       "  148.867,252.93 2352.76,252.93 \n",
       "  \"/>\n",
       "<polyline clip-path=\"url(#clip130)\" style=\"stroke:#000000; stroke-linecap:butt; stroke-linejoin:round; stroke-width:4; stroke-opacity:1; fill:none\" points=\"\n",
       "  148.867,1486.45 148.867,47.2441 \n",
       "  \"/>\n",
       "<polyline clip-path=\"url(#clip130)\" style=\"stroke:#000000; stroke-linecap:butt; stroke-linejoin:round; stroke-width:4; stroke-opacity:1; fill:none\" points=\"\n",
       "  148.867,1374.5 167.764,1374.5 \n",
       "  \"/>\n",
       "<polyline clip-path=\"url(#clip130)\" style=\"stroke:#000000; stroke-linecap:butt; stroke-linejoin:round; stroke-width:4; stroke-opacity:1; fill:none\" points=\"\n",
       "  148.867,1094.11 167.764,1094.11 \n",
       "  \"/>\n",
       "<polyline clip-path=\"url(#clip130)\" style=\"stroke:#000000; stroke-linecap:butt; stroke-linejoin:round; stroke-width:4; stroke-opacity:1; fill:none\" points=\"\n",
       "  148.867,813.713 167.764,813.713 \n",
       "  \"/>\n",
       "<polyline clip-path=\"url(#clip130)\" style=\"stroke:#000000; stroke-linecap:butt; stroke-linejoin:round; stroke-width:4; stroke-opacity:1; fill:none\" points=\"\n",
       "  148.867,533.322 167.764,533.322 \n",
       "  \"/>\n",
       "<polyline clip-path=\"url(#clip130)\" style=\"stroke:#000000; stroke-linecap:butt; stroke-linejoin:round; stroke-width:4; stroke-opacity:1; fill:none\" points=\"\n",
       "  148.867,252.93 167.764,252.93 \n",
       "  \"/>\n",
       "<path clip-path=\"url(#clip130)\" d=\"M51.3393 1374.95 L81.0151 1374.95 L81.0151 1378.88 L51.3393 1378.88 L51.3393 1374.95 Z\" fill=\"#000000\" fill-rule=\"evenodd\" fill-opacity=\"1\" /><path clip-path=\"url(#clip130)\" d=\"M91.2465 1391.06 L91.2465 1386.8 Q93.0058 1387.63 94.8113 1388.07 Q96.6169 1388.51 98.353 1388.51 Q102.983 1388.51 105.413 1385.41 Q107.867 1382.29 108.214 1375.94 Q106.871 1377.93 104.811 1379 Q102.751 1380.06 100.251 1380.06 Q95.066 1380.06 92.0336 1376.94 Q89.0243 1373.79 89.0243 1368.35 Q89.0243 1363.03 92.1725 1359.81 Q95.3206 1356.59 100.552 1356.59 Q106.547 1356.59 109.696 1361.2 Q112.867 1365.78 112.867 1374.53 Q112.867 1382.7 108.978 1387.59 Q105.112 1392.45 98.5613 1392.45 Q96.8021 1392.45 94.9965 1392.1 Q93.191 1391.75 91.2465 1391.06 M100.552 1376.41 Q103.7 1376.41 105.529 1374.25 Q107.381 1372.1 107.381 1368.35 Q107.381 1364.62 105.529 1362.47 Q103.7 1360.3 100.552 1360.3 Q97.4039 1360.3 95.5521 1362.47 Q93.7234 1364.62 93.7234 1368.35 Q93.7234 1372.1 95.5521 1374.25 Q97.4039 1376.41 100.552 1376.41 Z\" fill=\"#000000\" fill-rule=\"evenodd\" fill-opacity=\"1\" /><path clip-path=\"url(#clip130)\" d=\"M50.9921 1094.56 L80.6679 1094.56 L80.6679 1098.49 L50.9921 1098.49 L50.9921 1094.56 Z\" fill=\"#000000\" fill-rule=\"evenodd\" fill-opacity=\"1\" /><path clip-path=\"url(#clip130)\" d=\"M101.339 1092.24 Q98.1909 1092.24 96.3391 1094.39 Q94.5104 1096.55 94.5104 1100.3 Q94.5104 1104.02 96.3391 1106.2 Q98.1909 1108.35 101.339 1108.35 Q104.487 1108.35 106.316 1106.2 Q108.168 1104.02 108.168 1100.3 Q108.168 1096.55 106.316 1094.39 Q104.487 1092.24 101.339 1092.24 M110.621 1077.59 L110.621 1081.85 Q108.862 1081.02 107.057 1080.58 Q105.274 1080.14 103.515 1080.14 Q98.8854 1080.14 96.4317 1083.26 Q94.0012 1086.39 93.6539 1092.7 Q95.0197 1090.69 97.0798 1089.63 Q99.14 1088.54 101.617 1088.54 Q106.825 1088.54 109.834 1091.71 Q112.867 1094.86 112.867 1100.3 Q112.867 1105.62 109.719 1108.84 Q106.571 1112.06 101.339 1112.06 Q95.3437 1112.06 92.1725 1107.47 Q89.0012 1102.87 89.0012 1094.14 Q89.0012 1085.95 92.89 1081.08 Q96.7789 1076.2 103.33 1076.2 Q105.089 1076.2 106.871 1076.55 Q108.677 1076.89 110.621 1077.59 Z\" fill=\"#000000\" fill-rule=\"evenodd\" fill-opacity=\"1\" /><path clip-path=\"url(#clip130)\" d=\"M51.8023 814.165 L81.4781 814.165 L81.4781 818.1 L51.8023 818.1 L51.8023 814.165 Z\" fill=\"#000000\" fill-rule=\"evenodd\" fill-opacity=\"1\" /><path clip-path=\"url(#clip130)\" d=\"M105.737 812.359 Q109.094 813.077 110.969 815.345 Q112.867 817.614 112.867 820.947 Q112.867 826.063 109.348 828.864 Q105.83 831.665 99.3483 831.665 Q97.1724 831.665 94.8576 831.225 Q92.566 830.808 90.1123 829.952 L90.1123 825.438 Q92.0567 826.572 94.3715 827.151 Q96.6863 827.73 99.2095 827.73 Q103.608 827.73 105.899 825.994 Q108.214 824.257 108.214 820.947 Q108.214 817.892 106.061 816.179 Q103.932 814.443 100.112 814.443 L96.0845 814.443 L96.0845 810.6 L100.297 810.6 Q103.746 810.6 105.575 809.234 Q107.404 807.845 107.404 805.253 Q107.404 802.591 105.506 801.179 Q103.631 799.744 100.112 799.744 Q98.1909 799.744 95.9919 800.16 Q93.7928 800.577 91.1539 801.457 L91.1539 797.29 Q93.816 796.549 96.1308 796.179 Q98.4687 795.809 100.529 795.809 Q105.853 795.809 108.955 798.239 Q112.057 800.646 112.057 804.767 Q112.057 807.637 110.413 809.628 Q108.77 811.595 105.737 812.359 Z\" fill=\"#000000\" fill-rule=\"evenodd\" fill-opacity=\"1\" /><path clip-path=\"url(#clip130)\" d=\"M100.922 519.12 Q97.3113 519.12 95.4826 522.685 Q93.6771 526.227 93.6771 533.357 Q93.6771 540.463 95.4826 544.028 Q97.3113 547.569 100.922 547.569 Q104.557 547.569 106.362 544.028 Q108.191 540.463 108.191 533.357 Q108.191 526.227 106.362 522.685 Q104.557 519.12 100.922 519.12 M100.922 515.417 Q106.733 515.417 109.788 520.023 Q112.867 524.607 112.867 533.357 Q112.867 542.083 109.788 546.69 Q106.733 551.273 100.922 551.273 Q95.1123 551.273 92.0336 546.69 Q88.978 542.083 88.978 533.357 Q88.978 524.607 92.0336 520.023 Q95.1123 515.417 100.922 515.417 Z\" fill=\"#000000\" fill-rule=\"evenodd\" fill-opacity=\"1\" /><path clip-path=\"url(#clip130)\" d=\"M105.737 251.576 Q109.094 252.293 110.969 254.562 Q112.867 256.831 112.867 260.164 Q112.867 265.28 109.348 268.08 Q105.83 270.881 99.3483 270.881 Q97.1724 270.881 94.8576 270.442 Q92.566 270.025 90.1123 269.168 L90.1123 264.655 Q92.0567 265.789 94.3715 266.367 Q96.6863 266.946 99.2095 266.946 Q103.608 266.946 105.899 265.21 Q108.214 263.474 108.214 260.164 Q108.214 257.108 106.061 255.395 Q103.932 253.659 100.112 253.659 L96.0845 253.659 L96.0845 249.817 L100.297 249.817 Q103.746 249.817 105.575 248.451 Q107.404 247.062 107.404 244.469 Q107.404 241.807 105.506 240.395 Q103.631 238.96 100.112 238.96 Q98.1909 238.96 95.9919 239.377 Q93.7928 239.794 91.1539 240.673 L91.1539 236.507 Q93.816 235.766 96.1308 235.395 Q98.4687 235.025 100.529 235.025 Q105.853 235.025 108.955 237.456 Q112.057 239.863 112.057 243.983 Q112.057 246.854 110.413 248.844 Q108.77 250.812 105.737 251.576 Z\" fill=\"#000000\" fill-rule=\"evenodd\" fill-opacity=\"1\" /><polyline clip-path=\"url(#clip132)\" style=\"stroke:#009af9; stroke-linecap:butt; stroke-linejoin:round; stroke-width:4; stroke-opacity:1; fill:none\" points=\"\n",
       "  211.241,533.322 221.637,388.659 232.032,657.639 242.428,583.867 252.824,594.327 263.22,799.654 273.615,516.229 284.011,624.429 294.407,814.321 304.802,587.393 \n",
       "  315.198,422.964 325.594,558.149 335.989,612.374 346.385,491.226 356.781,441.93 367.177,444.478 377.572,588.604 387.968,553.977 398.364,369.505 408.759,551.544 \n",
       "  419.155,501.6 429.551,614.644 439.946,645.191 450.342,491.732 460.738,432.016 471.134,526.517 481.529,506.95 491.925,756.872 502.321,713.328 512.716,515.382 \n",
       "  523.112,535.494 533.508,580.982 543.904,606.387 554.299,443.779 564.695,509.711 575.091,403.557 585.486,452.252 595.882,520.047 606.278,559.267 616.673,587.58 \n",
       "  627.069,760.698 637.465,786.023 647.861,541.709 658.256,584.206 668.652,501.536 679.048,638.566 689.443,789.715 699.839,499.742 710.235,550.561 720.63,581.468 \n",
       "  731.026,644.295 741.422,466.728 751.818,550 762.213,555.741 772.609,591.957 783.005,507.749 793.4,477.111 803.796,561.522 814.192,547.129 824.588,445.889 \n",
       "  834.983,582.714 845.379,547.147 855.775,534.133 866.17,424.409 876.566,538.07 886.962,452.577 897.357,526.366 907.753,445.234 918.149,307.721 928.545,541.812 \n",
       "  938.94,471.346 949.336,593.393 959.732,582.654 970.127,574.79 980.523,530.859 990.919,489.998 1001.31,437.135 1011.71,346.494 1022.11,584.041 1032.5,531.504 \n",
       "  1042.9,452.255 1053.29,637.952 1063.69,436.13 1074.08,467.836 1084.48,504.843 1094.88,546.373 1105.27,640.14 1115.67,282.281 1126.06,635.663 1136.46,584.371 \n",
       "  1146.85,694.586 1157.25,741.854 1167.65,584.119 1178.04,701.53 1188.44,744.855 1198.83,449.59 1209.23,443.197 1219.62,453.377 1230.02,503.469 1240.42,647.567 \n",
       "  1250.81,612.757 1261.21,626.651 1271.6,523.493 1282,494.244 1292.39,495.269 1302.79,282.398 1313.19,535.903 1323.58,625.276 1333.98,419.154 1344.37,627.45 \n",
       "  1354.77,506.706 1365.16,371.54 1375.56,477.48 1385.96,549.27 1396.35,504.565 1406.75,655.706 1417.14,411.821 1427.54,541.434 1437.93,553.35 1448.33,658.732 \n",
       "  1458.73,607.133 1469.12,597.809 1479.52,525.348 1489.91,451.204 1500.31,412.968 1510.7,664.925 1521.1,514.243 1531.5,322.735 1541.89,530.026 1552.29,683.569 \n",
       "  1562.68,611.018 1573.08,499.273 1583.47,572.326 1593.87,520.357 1604.27,437.984 1614.66,573.056 1625.06,497.175 1635.45,554.001 1645.85,685.295 1656.24,623.701 \n",
       "  1666.64,473.424 1677.04,567.509 1687.43,615.911 1697.83,570.625 1708.22,478.145 1718.62,410.888 1729.01,351.837 1739.41,668.292 1749.81,427.34 1760.2,617.837 \n",
       "  1770.6,487.188 1780.99,544.218 1791.39,462.119 1801.78,507.718 1812.18,557.312 1822.58,609.473 1832.97,620.114 1843.37,561.925 1853.76,320.695 1864.16,420.651 \n",
       "  1874.55,653.397 1884.95,432.367 1895.34,437.429 1905.74,706.275 1916.14,601.337 1926.53,498.683 1936.93,411.421 1947.32,492.02 1957.72,547.731 1968.11,580.228 \n",
       "  1978.51,591.151 1988.91,434.511 1999.3,555.489 2009.7,357.238 2020.09,435.438 2030.49,505.844 2040.88,619.696 2051.28,577.722 2061.68,497.668 2072.07,604.831 \n",
       "  2082.47,532.137 2092.86,482.594 2103.26,563.535 2113.65,417.595 2124.05,603.266 2134.45,475.678 2144.84,530.14 2155.24,620.173 2165.63,599.237 2176.03,551.467 \n",
       "  2186.42,541.824 2196.82,694.799 2207.22,769.877 2217.61,585.918 2228.01,657.26 2238.4,475.18 2248.8,585.625 2259.19,609.634 2269.59,595.096 2279.99,348.699 \n",
       "  2290.38,449.492 \n",
       "  \"/>\n",
       "<polyline clip-path=\"url(#clip132)\" style=\"stroke:#e26f46; stroke-linecap:butt; stroke-linejoin:round; stroke-width:4; stroke-opacity:1; fill:none\" points=\"\n",
       "  211.241,533.322 221.637,456.263 232.032,322.963 242.428,518.095 252.824,442.432 263.22,493.736 273.615,493.39 284.011,503.067 294.407,392.651 304.802,432.519 \n",
       "  315.198,536.579 325.594,534.258 335.989,519.782 346.385,561.47 356.781,657.901 367.177,772.238 377.572,591.203 387.968,719.382 398.364,785.935 408.759,639.221 \n",
       "  419.155,708.912 429.551,804.552 439.946,857.517 450.342,727.755 460.738,709.651 471.134,591.676 481.529,790.007 491.925,675.598 502.321,628.959 512.716,879.929 \n",
       "  523.112,881.241 533.508,792.977 543.904,896.8 554.299,976.28 564.695,1036.52 575.091,915.511 585.486,928.926 595.882,892.961 606.278,1001.93 616.673,774.609 \n",
       "  627.069,758.611 637.465,665.067 647.861,750.583 658.256,647.991 668.652,698.656 679.048,657.664 689.443,448.063 699.839,628.972 710.235,523.322 720.63,460.925 \n",
       "  731.026,421.85 741.422,494.331 751.818,451.279 762.213,516.7 772.609,541.858 783.005,538.947 793.4,507.581 803.796,455.095 814.192,505.735 824.588,416.819 \n",
       "  834.983,441.464 845.379,568.412 855.775,621.964 866.17,719.89 876.566,804.093 886.962,916.397 897.357,902.531 907.753,931.176 918.149,839.387 928.545,856.169 \n",
       "  938.94,906.59 949.336,751.172 959.732,805.315 970.127,606.57 980.523,783.27 990.919,849.194 1001.31,915.721 1011.71,910.839 1022.11,865.377 1032.5,767.095 \n",
       "  1042.9,707.582 1053.29,712.342 1063.69,571.044 1074.08,473.224 1084.48,635.257 1094.88,593.339 1105.27,657.466 1115.67,571.177 1126.06,511.863 1136.46,459.189 \n",
       "  1146.85,506.804 1157.25,561.494 1167.65,796.825 1178.04,604.59 1188.44,550.1 1198.83,453.915 1209.23,413.907 1219.62,403.923 1230.02,523.51 1240.42,484.252 \n",
       "  1250.81,601.774 1261.21,554.681 1271.6,648.761 1282,634.838 1292.39,602.083 1302.79,379.899 1313.19,281.498 1323.58,296.207 1333.98,233.782 1344.37,514.278 \n",
       "  1354.77,468.691 1365.16,453.497 1375.56,488.587 1385.96,469.766 1396.35,488.364 1406.75,487.281 1417.14,595.589 1427.54,699.356 1437.93,667.523 1448.33,798.513 \n",
       "  1458.73,576.137 1469.12,533.953 1479.52,377.508 1489.91,455.613 1500.31,366.622 1510.7,554.975 1521.1,675.745 1531.5,651.773 1541.89,685.16 1552.29,715.672 \n",
       "  1562.68,539.422 1573.08,592.422 1583.47,559.966 1593.87,473.904 1604.27,370.15 1614.66,397.38 1625.06,367.519 1635.45,328.796 1645.85,185.914 1656.24,201.276 \n",
       "  1666.64,321.941 1677.04,368.456 1687.43,208.613 1697.83,316.028 1708.22,190.241 1718.62,227.613 1729.01,256.803 1739.41,248.997 1749.81,212.678 1760.2,329.238 \n",
       "  1770.6,363.083 1780.99,357.335 1791.39,355.394 1801.78,376.96 1812.18,289.141 1822.58,471.353 1832.97,416.89 1843.37,535.033 1853.76,483.565 1864.16,464.402 \n",
       "  1874.55,400.785 1884.95,384.574 1895.34,505.051 1905.74,437.985 1916.14,634.992 1926.53,536.915 1936.93,624.886 1947.32,496.712 1957.72,454.782 1968.11,395.884 \n",
       "  1978.51,340.716 1988.91,410.289 1999.3,432.45 2009.7,512.632 2020.09,587.541 2030.49,871.377 2040.88,717.387 2051.28,649.86 2061.68,486.049 2072.07,401.646 \n",
       "  2082.47,474.239 2092.86,547.287 2103.26,578.063 2113.65,478.189 2124.05,350.085 2134.45,507.765 2144.84,494.488 2155.24,441.143 2165.63,207.657 2176.03,247.126 \n",
       "  2186.42,324.563 2196.82,343.865 2207.22,428.341 2217.61,407.109 2228.01,411.251 2238.4,327.241 2248.8,341.563 2259.19,400.463 2269.59,506.556 2279.99,385.785 \n",
       "  2290.38,537.251 \n",
       "  \"/>\n",
       "<polyline clip-path=\"url(#clip132)\" style=\"stroke:#3da44d; stroke-linecap:butt; stroke-linejoin:round; stroke-width:4; stroke-opacity:1; fill:none\" points=\"\n",
       "  211.241,533.322 221.637,645.803 232.032,629.101 242.428,697.537 252.824,750.252 263.22,859.452 273.615,876.221 284.011,783.916 294.407,613.362 304.802,529.468 \n",
       "  315.198,693.976 325.594,717.369 335.989,807.047 346.385,746.591 356.781,699.635 367.177,662.078 377.572,723.134 387.968,608.277 398.364,682.942 408.759,700.426 \n",
       "  419.155,642.644 429.551,576.579 439.946,530.703 450.342,648.922 460.738,776.397 471.134,848.834 481.529,617.232 491.925,801.561 502.321,777.48 512.716,687.272 \n",
       "  523.112,660.839 533.508,747.2 543.904,807.647 554.299,835.578 564.695,656.852 575.091,637.837 585.486,625.242 595.882,423.557 606.278,371.554 616.673,527.029 \n",
       "  627.069,617.706 637.465,782.572 647.861,729.379 658.256,923.788 668.652,957.06 679.048,932.991 689.443,979.378 699.839,1029.65 710.235,973.795 720.63,1040.58 \n",
       "  731.026,999.975 741.422,897.54 751.818,937.506 762.213,1021.66 772.609,1065.17 783.005,1230.63 793.4,1219.65 803.796,1200.12 814.192,1171.66 824.588,1008.34 \n",
       "  834.983,825.723 845.379,881.087 855.775,855.115 866.17,748.913 876.566,690.016 886.962,754.163 897.357,638.812 907.753,575.05 918.149,754.537 928.545,925.298 \n",
       "  938.94,866.807 949.336,852.204 959.732,738.011 970.127,721.3 980.523,650.962 990.919,691.042 1001.31,657.718 1011.71,745.47 1022.11,905.155 1032.5,896.846 \n",
       "  1042.9,863.449 1053.29,831.796 1063.69,927.314 1074.08,880.222 1084.48,904.343 1094.88,945.552 1105.27,810.66 1115.67,902.344 1126.06,968.52 1136.46,998.862 \n",
       "  1146.85,964.916 1157.25,953.82 1167.65,741.596 1178.04,799.824 1188.44,711.465 1198.83,700.434 1209.23,794.676 1219.62,653.507 1230.02,624.781 1240.42,531.077 \n",
       "  1250.81,512.022 1261.21,572.062 1271.6,584.434 1282,494.847 1292.39,364.987 1302.79,331.909 1313.19,247.046 1323.58,87.9763 1333.98,119.848 1344.37,230.266 \n",
       "  1354.77,420.818 1365.16,318.013 1375.56,205.22 1385.96,235.39 1396.35,385.415 1406.75,480.06 1417.14,615.524 1427.54,613.914 1437.93,679.108 1448.33,632.285 \n",
       "  1458.73,683.103 1469.12,722.65 1479.52,797.756 1489.91,881.812 1500.31,911.554 1510.7,804.917 1521.1,872.937 1531.5,930.862 1541.89,957.73 1552.29,1111.56 \n",
       "  1562.68,1217.23 1573.08,1124.07 1583.47,1161.85 1593.87,1304.55 1604.27,1158.39 1614.66,1151.82 1625.06,1139.06 1635.45,1087.57 1645.85,1206.64 1656.24,1314.65 \n",
       "  1666.64,1404.72 1677.04,1333.84 1687.43,1443.38 1697.83,1376.07 1708.22,1324.08 1718.62,1345.12 1729.01,1237.81 1739.41,1204.01 1749.81,1200.4 1760.2,1120.08 \n",
       "  1770.6,1153.18 1780.99,1284.16 1791.39,1314.04 1801.78,1369.56 1812.18,1439.66 1822.58,1358.81 1832.97,1445.72 1843.37,1355.08 1853.76,1363.2 1864.16,1404.46 \n",
       "  1874.55,1428.88 1884.95,1275.29 1895.34,1075.11 1905.74,958.456 1916.14,918.583 1926.53,946.912 1936.93,709.411 1947.32,655.776 1957.72,626.844 1968.11,494.146 \n",
       "  1978.51,528.86 1988.91,412.292 1999.3,331.02 2009.7,341.481 2020.09,351.735 2030.49,358.915 2040.88,306.757 2051.28,389.798 2061.68,365.504 2072.07,206.338 \n",
       "  2082.47,258.969 2092.86,246.363 2103.26,250.93 2113.65,265.494 2124.05,360.07 2134.45,379.613 2144.84,384.241 2155.24,278.383 2165.63,211.015 2176.03,221.431 \n",
       "  2186.42,101.916 2196.82,348.552 2207.22,303.68 2217.61,359.429 2228.01,412.935 2238.4,553.329 2248.8,619.029 2259.19,759.444 2269.59,912.566 2279.99,1056.08 \n",
       "  2290.38,1176.98 \n",
       "  \"/>\n",
       "<path clip-path=\"url(#clip130)\" d=\"\n",
       "M1733.68 302.578 L2279.29 302.578 L2279.29 95.2176 L1733.68 95.2176  Z\n",
       "  \" fill=\"#ffffff\" fill-rule=\"evenodd\" fill-opacity=\"1\"/>\n",
       "<polyline clip-path=\"url(#clip130)\" style=\"stroke:#000000; stroke-linecap:butt; stroke-linejoin:round; stroke-width:4; stroke-opacity:1; fill:none\" points=\"\n",
       "  1733.68,302.578 2279.29,302.578 2279.29,95.2176 1733.68,95.2176 1733.68,302.578 \n",
       "  \"/>\n",
       "<polyline clip-path=\"url(#clip130)\" style=\"stroke:#009af9; stroke-linecap:butt; stroke-linejoin:round; stroke-width:4; stroke-opacity:1; fill:none\" points=\"\n",
       "  1758.16,147.058 1905.09,147.058 \n",
       "  \"/>\n",
       "<path clip-path=\"url(#clip130)\" d=\"M1942.98 151.305 Q1937.82 151.305 1935.83 152.486 Q1933.84 153.666 1933.84 156.514 Q1933.84 158.782 1935.32 160.125 Q1936.82 161.444 1939.39 161.444 Q1942.93 161.444 1945.06 158.944 Q1947.22 156.421 1947.22 152.254 L1947.22 151.305 L1942.98 151.305 M1951.48 149.546 L1951.48 164.338 L1947.22 164.338 L1947.22 160.402 Q1945.76 162.763 1943.58 163.898 Q1941.41 165.009 1938.26 165.009 Q1934.28 165.009 1931.92 162.787 Q1929.58 160.541 1929.58 156.791 Q1929.58 152.416 1932.5 150.194 Q1935.43 147.972 1941.25 147.972 L1947.22 147.972 L1947.22 147.555 Q1947.22 144.615 1945.27 143.018 Q1943.35 141.398 1939.86 141.398 Q1937.63 141.398 1935.53 141.93 Q1933.42 142.463 1931.48 143.527 L1931.48 139.592 Q1933.81 138.69 1936.01 138.25 Q1938.21 137.787 1940.3 137.787 Q1945.92 137.787 1948.7 140.703 Q1951.48 143.62 1951.48 149.546 Z\" fill=\"#000000\" fill-rule=\"evenodd\" fill-opacity=\"1\" /><path clip-path=\"url(#clip130)\" d=\"M1960.25 128.319 L1964.51 128.319 L1964.51 164.338 L1960.25 164.338 L1960.25 128.319 Z\" fill=\"#000000\" fill-rule=\"evenodd\" fill-opacity=\"1\" /><path clip-path=\"url(#clip130)\" d=\"M1977.54 160.449 L1977.54 174.199 L1973.26 174.199 L1973.26 138.412 L1977.54 138.412 L1977.54 142.347 Q1978.88 140.032 1980.92 138.921 Q1982.98 137.787 1985.83 137.787 Q1990.55 137.787 1993.49 141.537 Q1996.45 145.287 1996.45 151.398 Q1996.45 157.509 1993.49 161.259 Q1990.55 165.009 1985.83 165.009 Q1982.98 165.009 1980.92 163.898 Q1978.88 162.763 1977.54 160.449 M1992.03 151.398 Q1992.03 146.699 1990.09 144.037 Q1988.17 141.352 1984.79 141.352 Q1981.41 141.352 1979.46 144.037 Q1977.54 146.699 1977.54 151.398 Q1977.54 156.097 1979.46 158.782 Q1981.41 161.444 1984.79 161.444 Q1988.17 161.444 1990.09 158.782 Q1992.03 156.097 1992.03 151.398 Z\" fill=\"#000000\" fill-rule=\"evenodd\" fill-opacity=\"1\" /><path clip-path=\"url(#clip130)\" d=\"M2025.06 148.689 L2025.06 164.338 L2020.8 164.338 L2020.8 148.828 Q2020.8 145.148 2019.37 143.319 Q2017.93 141.49 2015.06 141.49 Q2011.62 141.49 2009.62 143.69 Q2007.63 145.889 2007.63 149.685 L2007.63 164.338 L2003.35 164.338 L2003.35 128.319 L2007.63 128.319 L2007.63 142.44 Q2009.16 140.102 2011.22 138.944 Q2013.3 137.787 2016.01 137.787 Q2020.48 137.787 2022.77 140.565 Q2025.06 143.319 2025.06 148.689 Z\" fill=\"#000000\" fill-rule=\"evenodd\" fill-opacity=\"1\" /><path clip-path=\"url(#clip130)\" d=\"M2045.34 151.305 Q2040.18 151.305 2038.19 152.486 Q2036.2 153.666 2036.2 156.514 Q2036.2 158.782 2037.68 160.125 Q2039.18 161.444 2041.75 161.444 Q2045.3 161.444 2047.43 158.944 Q2049.58 156.421 2049.58 152.254 L2049.58 151.305 L2045.34 151.305 M2053.84 149.546 L2053.84 164.338 L2049.58 164.338 L2049.58 160.402 Q2048.12 162.763 2045.94 163.898 Q2043.77 165.009 2040.62 165.009 Q2036.64 165.009 2034.28 162.787 Q2031.94 160.541 2031.94 156.791 Q2031.94 152.416 2034.86 150.194 Q2037.8 147.972 2043.61 147.972 L2049.58 147.972 L2049.58 147.555 Q2049.58 144.615 2047.63 143.018 Q2045.71 141.398 2042.22 141.398 Q2039.99 141.398 2037.89 141.93 Q2035.78 142.463 2033.84 143.527 L2033.84 139.592 Q2036.18 138.69 2038.37 138.25 Q2040.57 137.787 2042.66 137.787 Q2048.28 137.787 2051.06 140.703 Q2053.84 143.62 2053.84 149.546 Z\" fill=\"#000000\" fill-rule=\"evenodd\" fill-opacity=\"1\" /><path clip-path=\"url(#clip130)\" d=\"M2078.24 142.81 L2107.91 142.81 L2107.91 146.699 L2078.24 146.699 L2078.24 142.81 M2078.24 152.254 L2107.91 152.254 L2107.91 156.189 L2078.24 156.189 L2078.24 152.254 Z\" fill=\"#000000\" fill-rule=\"evenodd\" fill-opacity=\"1\" /><path clip-path=\"url(#clip130)\" d=\"M2143.07 132.856 Q2139.46 132.856 2137.63 136.421 Q2135.83 139.963 2135.83 147.092 Q2135.83 154.199 2137.63 157.764 Q2139.46 161.305 2143.07 161.305 Q2146.71 161.305 2148.51 157.764 Q2150.34 154.199 2150.34 147.092 Q2150.34 139.963 2148.51 136.421 Q2146.71 132.856 2143.07 132.856 M2143.07 129.153 Q2148.88 129.153 2151.94 133.759 Q2155.02 138.342 2155.02 147.092 Q2155.02 155.819 2151.94 160.426 Q2148.88 165.009 2143.07 165.009 Q2137.26 165.009 2134.18 160.426 Q2131.13 155.819 2131.13 147.092 Q2131.13 138.342 2134.18 133.759 Q2137.26 129.153 2143.07 129.153 Z\" fill=\"#000000\" fill-rule=\"evenodd\" fill-opacity=\"1\" /><path clip-path=\"url(#clip130)\" d=\"M2163.23 158.458 L2168.12 158.458 L2168.12 164.338 L2163.23 164.338 L2163.23 158.458 Z\" fill=\"#000000\" fill-rule=\"evenodd\" fill-opacity=\"1\" /><path clip-path=\"url(#clip130)\" d=\"M2188.3 132.856 Q2184.69 132.856 2182.86 136.421 Q2181.06 139.963 2181.06 147.092 Q2181.06 154.199 2182.86 157.764 Q2184.69 161.305 2188.3 161.305 Q2191.94 161.305 2193.74 157.764 Q2195.57 154.199 2195.57 147.092 Q2195.57 139.963 2193.74 136.421 Q2191.94 132.856 2188.3 132.856 M2188.3 129.153 Q2194.11 129.153 2197.17 133.759 Q2200.25 138.342 2200.25 147.092 Q2200.25 155.819 2197.17 160.426 Q2194.11 165.009 2188.3 165.009 Q2182.49 165.009 2179.42 160.426 Q2176.36 155.819 2176.36 147.092 Q2176.36 138.342 2179.42 133.759 Q2182.49 129.153 2188.3 129.153 Z\" fill=\"#000000\" fill-rule=\"evenodd\" fill-opacity=\"1\" /><polyline clip-path=\"url(#clip130)\" style=\"stroke:#e26f46; stroke-linecap:butt; stroke-linejoin:round; stroke-width:4; stroke-opacity:1; fill:none\" points=\"\n",
       "  1758.16,198.898 1905.09,198.898 \n",
       "  \"/>\n",
       "<path clip-path=\"url(#clip130)\" d=\"M1942.98 203.145 Q1937.82 203.145 1935.83 204.326 Q1933.84 205.506 1933.84 208.354 Q1933.84 210.622 1935.32 211.965 Q1936.82 213.284 1939.39 213.284 Q1942.93 213.284 1945.06 210.784 Q1947.22 208.261 1947.22 204.094 L1947.22 203.145 L1942.98 203.145 M1951.48 201.386 L1951.48 216.178 L1947.22 216.178 L1947.22 212.242 Q1945.76 214.603 1943.58 215.738 Q1941.41 216.849 1938.26 216.849 Q1934.28 216.849 1931.92 214.627 Q1929.58 212.381 1929.58 208.631 Q1929.58 204.256 1932.5 202.034 Q1935.43 199.812 1941.25 199.812 L1947.22 199.812 L1947.22 199.395 Q1947.22 196.455 1945.27 194.858 Q1943.35 193.238 1939.86 193.238 Q1937.63 193.238 1935.53 193.77 Q1933.42 194.303 1931.48 195.367 L1931.48 191.432 Q1933.81 190.53 1936.01 190.09 Q1938.21 189.627 1940.3 189.627 Q1945.92 189.627 1948.7 192.543 Q1951.48 195.46 1951.48 201.386 Z\" fill=\"#000000\" fill-rule=\"evenodd\" fill-opacity=\"1\" /><path clip-path=\"url(#clip130)\" d=\"M1960.25 180.159 L1964.51 180.159 L1964.51 216.178 L1960.25 216.178 L1960.25 180.159 Z\" fill=\"#000000\" fill-rule=\"evenodd\" fill-opacity=\"1\" /><path clip-path=\"url(#clip130)\" d=\"M1977.54 212.289 L1977.54 226.039 L1973.26 226.039 L1973.26 190.252 L1977.54 190.252 L1977.54 194.187 Q1978.88 191.872 1980.92 190.761 Q1982.98 189.627 1985.83 189.627 Q1990.55 189.627 1993.49 193.377 Q1996.45 197.127 1996.45 203.238 Q1996.45 209.349 1993.49 213.099 Q1990.55 216.849 1985.83 216.849 Q1982.98 216.849 1980.92 215.738 Q1978.88 214.603 1977.54 212.289 M1992.03 203.238 Q1992.03 198.539 1990.09 195.877 Q1988.17 193.192 1984.79 193.192 Q1981.41 193.192 1979.46 195.877 Q1977.54 198.539 1977.54 203.238 Q1977.54 207.937 1979.46 210.622 Q1981.41 213.284 1984.79 213.284 Q1988.17 213.284 1990.09 210.622 Q1992.03 207.937 1992.03 203.238 Z\" fill=\"#000000\" fill-rule=\"evenodd\" fill-opacity=\"1\" /><path clip-path=\"url(#clip130)\" d=\"M2025.06 200.529 L2025.06 216.178 L2020.8 216.178 L2020.8 200.668 Q2020.8 196.988 2019.37 195.159 Q2017.93 193.33 2015.06 193.33 Q2011.62 193.33 2009.62 195.53 Q2007.63 197.729 2007.63 201.525 L2007.63 216.178 L2003.35 216.178 L2003.35 180.159 L2007.63 180.159 L2007.63 194.28 Q2009.16 191.942 2011.22 190.784 Q2013.3 189.627 2016.01 189.627 Q2020.48 189.627 2022.77 192.405 Q2025.06 195.159 2025.06 200.529 Z\" fill=\"#000000\" fill-rule=\"evenodd\" fill-opacity=\"1\" /><path clip-path=\"url(#clip130)\" d=\"M2045.34 203.145 Q2040.18 203.145 2038.19 204.326 Q2036.2 205.506 2036.2 208.354 Q2036.2 210.622 2037.68 211.965 Q2039.18 213.284 2041.75 213.284 Q2045.3 213.284 2047.43 210.784 Q2049.58 208.261 2049.58 204.094 L2049.58 203.145 L2045.34 203.145 M2053.84 201.386 L2053.84 216.178 L2049.58 216.178 L2049.58 212.242 Q2048.12 214.603 2045.94 215.738 Q2043.77 216.849 2040.62 216.849 Q2036.64 216.849 2034.28 214.627 Q2031.94 212.381 2031.94 208.631 Q2031.94 204.256 2034.86 202.034 Q2037.8 199.812 2043.61 199.812 L2049.58 199.812 L2049.58 199.395 Q2049.58 196.455 2047.63 194.858 Q2045.71 193.238 2042.22 193.238 Q2039.99 193.238 2037.89 193.77 Q2035.78 194.303 2033.84 195.367 L2033.84 191.432 Q2036.18 190.53 2038.37 190.09 Q2040.57 189.627 2042.66 189.627 Q2048.28 189.627 2051.06 192.543 Q2053.84 195.46 2053.84 201.386 Z\" fill=\"#000000\" fill-rule=\"evenodd\" fill-opacity=\"1\" /><path clip-path=\"url(#clip130)\" d=\"M2078.24 194.65 L2107.91 194.65 L2107.91 198.539 L2078.24 198.539 L2078.24 194.65 M2078.24 204.094 L2107.91 204.094 L2107.91 208.029 L2078.24 208.029 L2078.24 204.094 Z\" fill=\"#000000\" fill-rule=\"evenodd\" fill-opacity=\"1\" /><path clip-path=\"url(#clip130)\" d=\"M2143.07 184.696 Q2139.46 184.696 2137.63 188.261 Q2135.83 191.803 2135.83 198.932 Q2135.83 206.039 2137.63 209.604 Q2139.46 213.145 2143.07 213.145 Q2146.71 213.145 2148.51 209.604 Q2150.34 206.039 2150.34 198.932 Q2150.34 191.803 2148.51 188.261 Q2146.71 184.696 2143.07 184.696 M2143.07 180.993 Q2148.88 180.993 2151.94 185.599 Q2155.02 190.182 2155.02 198.932 Q2155.02 207.659 2151.94 212.266 Q2148.88 216.849 2143.07 216.849 Q2137.26 216.849 2134.18 212.266 Q2131.13 207.659 2131.13 198.932 Q2131.13 190.182 2134.18 185.599 Q2137.26 180.993 2143.07 180.993 Z\" fill=\"#000000\" fill-rule=\"evenodd\" fill-opacity=\"1\" /><path clip-path=\"url(#clip130)\" d=\"M2163.23 210.298 L2168.12 210.298 L2168.12 216.178 L2163.23 216.178 L2163.23 210.298 Z\" fill=\"#000000\" fill-rule=\"evenodd\" fill-opacity=\"1\" /><path clip-path=\"url(#clip130)\" d=\"M2188.3 199.766 Q2184.97 199.766 2183.05 201.548 Q2181.15 203.33 2181.15 206.455 Q2181.15 209.58 2183.05 211.363 Q2184.97 213.145 2188.3 213.145 Q2191.64 213.145 2193.56 211.363 Q2195.48 209.557 2195.48 206.455 Q2195.48 203.33 2193.56 201.548 Q2191.66 199.766 2188.3 199.766 M2183.63 197.775 Q2180.62 197.034 2178.93 194.974 Q2177.26 192.914 2177.26 189.951 Q2177.26 185.807 2180.2 183.4 Q2183.17 180.993 2188.3 180.993 Q2193.47 180.993 2196.41 183.4 Q2199.35 185.807 2199.35 189.951 Q2199.35 192.914 2197.66 194.974 Q2195.99 197.034 2193 197.775 Q2196.38 198.562 2198.26 200.854 Q2200.16 203.145 2200.16 206.455 Q2200.16 211.479 2197.08 214.164 Q2194.02 216.849 2188.3 216.849 Q2182.59 216.849 2179.51 214.164 Q2176.45 211.479 2176.45 206.455 Q2176.45 203.145 2178.35 200.854 Q2180.25 198.562 2183.63 197.775 M2181.92 190.391 Q2181.92 193.076 2183.58 194.58 Q2185.27 196.085 2188.3 196.085 Q2191.31 196.085 2193 194.58 Q2194.72 193.076 2194.72 190.391 Q2194.72 187.705 2193 186.201 Q2191.31 184.696 2188.3 184.696 Q2185.27 184.696 2183.58 186.201 Q2181.92 187.705 2181.92 190.391 Z\" fill=\"#000000\" fill-rule=\"evenodd\" fill-opacity=\"1\" /><polyline clip-path=\"url(#clip130)\" style=\"stroke:#3da44d; stroke-linecap:butt; stroke-linejoin:round; stroke-width:4; stroke-opacity:1; fill:none\" points=\"\n",
       "  1758.16,250.738 1905.09,250.738 \n",
       "  \"/>\n",
       "<path clip-path=\"url(#clip130)\" d=\"M1942.98 254.985 Q1937.82 254.985 1935.83 256.166 Q1933.84 257.346 1933.84 260.194 Q1933.84 262.462 1935.32 263.805 Q1936.82 265.124 1939.39 265.124 Q1942.93 265.124 1945.06 262.624 Q1947.22 260.101 1947.22 255.934 L1947.22 254.985 L1942.98 254.985 M1951.48 253.226 L1951.48 268.018 L1947.22 268.018 L1947.22 264.082 Q1945.76 266.443 1943.58 267.578 Q1941.41 268.689 1938.26 268.689 Q1934.28 268.689 1931.92 266.467 Q1929.58 264.221 1929.58 260.471 Q1929.58 256.096 1932.5 253.874 Q1935.43 251.652 1941.25 251.652 L1947.22 251.652 L1947.22 251.235 Q1947.22 248.295 1945.27 246.698 Q1943.35 245.078 1939.86 245.078 Q1937.63 245.078 1935.53 245.61 Q1933.42 246.143 1931.48 247.207 L1931.48 243.272 Q1933.81 242.37 1936.01 241.93 Q1938.21 241.467 1940.3 241.467 Q1945.92 241.467 1948.7 244.383 Q1951.48 247.3 1951.48 253.226 Z\" fill=\"#000000\" fill-rule=\"evenodd\" fill-opacity=\"1\" /><path clip-path=\"url(#clip130)\" d=\"M1960.25 231.999 L1964.51 231.999 L1964.51 268.018 L1960.25 268.018 L1960.25 231.999 Z\" fill=\"#000000\" fill-rule=\"evenodd\" fill-opacity=\"1\" /><path clip-path=\"url(#clip130)\" d=\"M1977.54 264.129 L1977.54 277.879 L1973.26 277.879 L1973.26 242.092 L1977.54 242.092 L1977.54 246.027 Q1978.88 243.712 1980.92 242.601 Q1982.98 241.467 1985.83 241.467 Q1990.55 241.467 1993.49 245.217 Q1996.45 248.967 1996.45 255.078 Q1996.45 261.189 1993.49 264.939 Q1990.55 268.689 1985.83 268.689 Q1982.98 268.689 1980.92 267.578 Q1978.88 266.443 1977.54 264.129 M1992.03 255.078 Q1992.03 250.379 1990.09 247.717 Q1988.17 245.032 1984.79 245.032 Q1981.41 245.032 1979.46 247.717 Q1977.54 250.379 1977.54 255.078 Q1977.54 259.777 1979.46 262.462 Q1981.41 265.124 1984.79 265.124 Q1988.17 265.124 1990.09 262.462 Q1992.03 259.777 1992.03 255.078 Z\" fill=\"#000000\" fill-rule=\"evenodd\" fill-opacity=\"1\" /><path clip-path=\"url(#clip130)\" d=\"M2025.06 252.369 L2025.06 268.018 L2020.8 268.018 L2020.8 252.508 Q2020.8 248.828 2019.37 246.999 Q2017.93 245.17 2015.06 245.17 Q2011.62 245.17 2009.62 247.37 Q2007.63 249.569 2007.63 253.365 L2007.63 268.018 L2003.35 268.018 L2003.35 231.999 L2007.63 231.999 L2007.63 246.12 Q2009.16 243.782 2011.22 242.624 Q2013.3 241.467 2016.01 241.467 Q2020.48 241.467 2022.77 244.245 Q2025.06 246.999 2025.06 252.369 Z\" fill=\"#000000\" fill-rule=\"evenodd\" fill-opacity=\"1\" /><path clip-path=\"url(#clip130)\" d=\"M2045.34 254.985 Q2040.18 254.985 2038.19 256.166 Q2036.2 257.346 2036.2 260.194 Q2036.2 262.462 2037.68 263.805 Q2039.18 265.124 2041.75 265.124 Q2045.3 265.124 2047.43 262.624 Q2049.58 260.101 2049.58 255.934 L2049.58 254.985 L2045.34 254.985 M2053.84 253.226 L2053.84 268.018 L2049.58 268.018 L2049.58 264.082 Q2048.12 266.443 2045.94 267.578 Q2043.77 268.689 2040.62 268.689 Q2036.64 268.689 2034.28 266.467 Q2031.94 264.221 2031.94 260.471 Q2031.94 256.096 2034.86 253.874 Q2037.8 251.652 2043.61 251.652 L2049.58 251.652 L2049.58 251.235 Q2049.58 248.295 2047.63 246.698 Q2045.71 245.078 2042.22 245.078 Q2039.99 245.078 2037.89 245.61 Q2035.78 246.143 2033.84 247.207 L2033.84 243.272 Q2036.18 242.37 2038.37 241.93 Q2040.57 241.467 2042.66 241.467 Q2048.28 241.467 2051.06 244.383 Q2053.84 247.3 2053.84 253.226 Z\" fill=\"#000000\" fill-rule=\"evenodd\" fill-opacity=\"1\" /><path clip-path=\"url(#clip130)\" d=\"M2078.24 246.49 L2107.91 246.49 L2107.91 250.379 L2078.24 250.379 L2078.24 246.49 M2078.24 255.934 L2107.91 255.934 L2107.91 259.869 L2078.24 259.869 L2078.24 255.934 Z\" fill=\"#000000\" fill-rule=\"evenodd\" fill-opacity=\"1\" /><path clip-path=\"url(#clip130)\" d=\"M2143.07 236.536 Q2139.46 236.536 2137.63 240.101 Q2135.83 243.643 2135.83 250.772 Q2135.83 257.879 2137.63 261.444 Q2139.46 264.985 2143.07 264.985 Q2146.71 264.985 2148.51 261.444 Q2150.34 257.879 2150.34 250.772 Q2150.34 243.643 2148.51 240.101 Q2146.71 236.536 2143.07 236.536 M2143.07 232.833 Q2148.88 232.833 2151.94 237.439 Q2155.02 242.022 2155.02 250.772 Q2155.02 259.499 2151.94 264.106 Q2148.88 268.689 2143.07 268.689 Q2137.26 268.689 2134.18 264.106 Q2131.13 259.499 2131.13 250.772 Q2131.13 242.022 2134.18 237.439 Q2137.26 232.833 2143.07 232.833 Z\" fill=\"#000000\" fill-rule=\"evenodd\" fill-opacity=\"1\" /><path clip-path=\"url(#clip130)\" d=\"M2163.23 262.138 L2168.12 262.138 L2168.12 268.018 L2163.23 268.018 L2163.23 262.138 Z\" fill=\"#000000\" fill-rule=\"evenodd\" fill-opacity=\"1\" /><path clip-path=\"url(#clip130)\" d=\"M2178.44 267.3 L2178.44 263.041 Q2180.2 263.874 2182.01 264.314 Q2183.81 264.754 2185.55 264.754 Q2190.18 264.754 2192.61 261.652 Q2195.06 258.527 2195.41 252.184 Q2194.07 254.175 2192.01 255.24 Q2189.95 256.305 2187.45 256.305 Q2182.26 256.305 2179.23 253.18 Q2176.22 250.032 2176.22 244.592 Q2176.22 239.268 2179.37 236.05 Q2182.52 232.833 2187.75 232.833 Q2193.74 232.833 2196.89 237.439 Q2200.06 242.022 2200.06 250.772 Q2200.06 258.944 2196.17 263.828 Q2192.31 268.689 2185.76 268.689 Q2184 268.689 2182.19 268.342 Q2180.39 267.994 2178.44 267.3 M2187.75 252.647 Q2190.9 252.647 2192.73 250.494 Q2194.58 248.342 2194.58 244.592 Q2194.58 240.865 2192.73 238.712 Q2190.9 236.536 2187.75 236.536 Q2184.6 236.536 2182.75 238.712 Q2180.92 240.865 2180.92 244.592 Q2180.92 248.342 2182.75 250.494 Q2184.6 252.647 2187.75 252.647 Z\" fill=\"#000000\" fill-rule=\"evenodd\" fill-opacity=\"1\" /><path clip-path=\"url(#clip130)\" d=\"M2218.47 251.606 Q2215.13 251.606 2213.21 253.388 Q2211.31 255.17 2211.31 258.295 Q2211.31 261.42 2213.21 263.203 Q2215.13 264.985 2218.47 264.985 Q2221.8 264.985 2223.72 263.203 Q2225.64 261.397 2225.64 258.295 Q2225.64 255.17 2223.72 253.388 Q2221.82 251.606 2218.47 251.606 M2213.79 249.615 Q2210.78 248.874 2209.09 246.814 Q2207.42 244.754 2207.42 241.791 Q2207.42 237.647 2210.36 235.24 Q2213.33 232.833 2218.47 232.833 Q2223.63 232.833 2226.57 235.24 Q2229.51 237.647 2229.51 241.791 Q2229.51 244.754 2227.82 246.814 Q2226.15 248.874 2223.16 249.615 Q2226.54 250.402 2228.42 252.694 Q2230.32 254.985 2230.32 258.295 Q2230.32 263.319 2227.24 266.004 Q2224.18 268.689 2218.47 268.689 Q2212.75 268.689 2209.67 266.004 Q2206.61 263.319 2206.61 258.295 Q2206.61 254.985 2208.51 252.694 Q2210.41 250.402 2213.79 249.615 M2212.08 242.231 Q2212.08 244.916 2213.74 246.42 Q2215.43 247.925 2218.47 247.925 Q2221.48 247.925 2223.16 246.42 Q2224.88 244.916 2224.88 242.231 Q2224.88 239.545 2223.16 238.041 Q2221.48 236.536 2218.47 236.536 Q2215.43 236.536 2213.74 238.041 Q2212.08 239.545 2212.08 242.231 Z\" fill=\"#000000\" fill-rule=\"evenodd\" fill-opacity=\"1\" /></svg>\n"
      ]
     },
     "execution_count": 57,
     "metadata": {},
     "output_type": "execute_result"
    }
   ],
   "source": [
    "αs = [0.0, 0.8, 0.98]\n",
    "n = 200\n",
    "p = plot() # naming a plot to add to\n",
    "\n",
    "for α in αs\n",
    "    x = zeros(n + 1)\n",
    "    x[1] = 0.0\n",
    "    for t in 1:n\n",
    "        x[t+1] = α * x[t] + randn()\n",
    "    end\n",
    "    plot!(p, x, label = \"alpha = $α\") # add to plot p\n",
    "end\n",
    "p # display plot"
   ]
  },
  {
   "cell_type": "markdown",
   "id": "dafb0384",
   "metadata": {},
   "source": [
    "### Exercise 7\n",
    "\n",
    "This exercise is more challenging.\n",
    "\n",
    "Take a random walk, starting from $ x_0 = 1 $\n",
    "\n",
    "$$\n",
    "x_{t+1} = \\, \\alpha \\, x_t + \\sigma\\, \\epsilon_{t+1}\n",
    "\\quad \\text{where} \\quad\n",
    "x_0 = 1\n",
    "\\quad \\text{and} \\quad t = 0,\\ldots,t_{\\max}\n",
    "$$\n",
    "\n",
    "- Furthermore, assume that the $ x_{t_{\\max}} = 0 $  (i.e. at $ t_{\\max} $, the value drops to zero, regardless of its current state).  \n",
    "- The sequence of shocks $ \\{\\epsilon_t\\} $ is assumed to be iid and standard normal.  \n",
    "- For a given path $ \\{x_t\\} $ define a **first-passage time** as $ T_a = \\min\\{t\\, |\\, x_t \\leq a\\} $, where by the assumption of the process $ T_a \\leq t_{\\max} $.  \n",
    "\n",
    "\n",
    "Start with $ \\sigma = 0.2, \\alpha = 1.0 $\n",
    "\n",
    "1. calculate the first-passage time, $ T_0 $, for 100 simulated random walks – to a $ t_{\\max} = 200 $ and plot a histogram  \n",
    "1. plot the sample mean of $ T_0 $ from the simulation for $ \\alpha \\in \\{0.8, 1.0, 1.2\\} $  \n",
    "\n",
    "\n",
    "\n",
    "<a id='jbe-ex8a'></a>"
   ]
  },
  {
   "cell_type": "code",
   "execution_count": 92,
   "id": "79010d79",
   "metadata": {},
   "outputs": [
    {
     "data": {
      "image/svg+xml": [
       "<?xml version=\"1.0\" encoding=\"utf-8\"?>\n",
       "<svg xmlns=\"http://www.w3.org/2000/svg\" xmlns:xlink=\"http://www.w3.org/1999/xlink\" width=\"600\" height=\"400\" viewBox=\"0 0 2400 1600\">\n",
       "<defs>\n",
       "  <clipPath id=\"clip450\">\n",
       "    <rect x=\"0\" y=\"0\" width=\"2400\" height=\"1600\"/>\n",
       "  </clipPath>\n",
       "</defs>\n",
       "<path clip-path=\"url(#clip450)\" d=\"\n",
       "M0 1600 L2400 1600 L2400 0 L0 0  Z\n",
       "  \" fill=\"#ffffff\" fill-rule=\"evenodd\" fill-opacity=\"1\"/>\n",
       "<defs>\n",
       "  <clipPath id=\"clip451\">\n",
       "    <rect x=\"480\" y=\"0\" width=\"1681\" height=\"1600\"/>\n",
       "  </clipPath>\n",
       "</defs>\n",
       "<path clip-path=\"url(#clip450)\" d=\"\n",
       "M141.853 1486.45 L2352.76 1486.45 L2352.76 47.2441 L141.853 47.2441  Z\n",
       "  \" fill=\"#ffffff\" fill-rule=\"evenodd\" fill-opacity=\"1\"/>\n",
       "<defs>\n",
       "  <clipPath id=\"clip452\">\n",
       "    <rect x=\"141\" y=\"47\" width=\"2212\" height=\"1440\"/>\n",
       "  </clipPath>\n",
       "</defs>\n",
       "<polyline clip-path=\"url(#clip452)\" style=\"stroke:#000000; stroke-linecap:butt; stroke-linejoin:round; stroke-width:2; stroke-opacity:0.1; fill:none\" points=\"\n",
       "  243.378,1486.45 243.378,47.2441 \n",
       "  \"/>\n",
       "<polyline clip-path=\"url(#clip452)\" style=\"stroke:#000000; stroke-linecap:butt; stroke-linejoin:round; stroke-width:2; stroke-opacity:0.1; fill:none\" points=\"\n",
       "  745.341,1486.45 745.341,47.2441 \n",
       "  \"/>\n",
       "<polyline clip-path=\"url(#clip452)\" style=\"stroke:#000000; stroke-linecap:butt; stroke-linejoin:round; stroke-width:2; stroke-opacity:0.1; fill:none\" points=\"\n",
       "  1247.3,1486.45 1247.3,47.2441 \n",
       "  \"/>\n",
       "<polyline clip-path=\"url(#clip452)\" style=\"stroke:#000000; stroke-linecap:butt; stroke-linejoin:round; stroke-width:2; stroke-opacity:0.1; fill:none\" points=\"\n",
       "  1749.27,1486.45 1749.27,47.2441 \n",
       "  \"/>\n",
       "<polyline clip-path=\"url(#clip452)\" style=\"stroke:#000000; stroke-linecap:butt; stroke-linejoin:round; stroke-width:2; stroke-opacity:0.1; fill:none\" points=\"\n",
       "  2251.23,1486.45 2251.23,47.2441 \n",
       "  \"/>\n",
       "<polyline clip-path=\"url(#clip450)\" style=\"stroke:#000000; stroke-linecap:butt; stroke-linejoin:round; stroke-width:4; stroke-opacity:1; fill:none\" points=\"\n",
       "  141.853,1486.45 2352.76,1486.45 \n",
       "  \"/>\n",
       "<polyline clip-path=\"url(#clip450)\" style=\"stroke:#000000; stroke-linecap:butt; stroke-linejoin:round; stroke-width:4; stroke-opacity:1; fill:none\" points=\"\n",
       "  243.378,1486.45 243.378,1467.55 \n",
       "  \"/>\n",
       "<polyline clip-path=\"url(#clip450)\" style=\"stroke:#000000; stroke-linecap:butt; stroke-linejoin:round; stroke-width:4; stroke-opacity:1; fill:none\" points=\"\n",
       "  745.341,1486.45 745.341,1467.55 \n",
       "  \"/>\n",
       "<polyline clip-path=\"url(#clip450)\" style=\"stroke:#000000; stroke-linecap:butt; stroke-linejoin:round; stroke-width:4; stroke-opacity:1; fill:none\" points=\"\n",
       "  1247.3,1486.45 1247.3,1467.55 \n",
       "  \"/>\n",
       "<polyline clip-path=\"url(#clip450)\" style=\"stroke:#000000; stroke-linecap:butt; stroke-linejoin:round; stroke-width:4; stroke-opacity:1; fill:none\" points=\"\n",
       "  1749.27,1486.45 1749.27,1467.55 \n",
       "  \"/>\n",
       "<polyline clip-path=\"url(#clip450)\" style=\"stroke:#000000; stroke-linecap:butt; stroke-linejoin:round; stroke-width:4; stroke-opacity:1; fill:none\" points=\"\n",
       "  2251.23,1486.45 2251.23,1467.55 \n",
       "  \"/>\n",
       "<path clip-path=\"url(#clip450)\" d=\"M243.378 1517.37 Q239.767 1517.37 237.938 1520.93 Q236.133 1524.47 236.133 1531.6 Q236.133 1538.71 237.938 1542.27 Q239.767 1545.82 243.378 1545.82 Q247.012 1545.82 248.818 1542.27 Q250.646 1538.71 250.646 1531.6 Q250.646 1524.47 248.818 1520.93 Q247.012 1517.37 243.378 1517.37 M243.378 1513.66 Q249.188 1513.66 252.244 1518.27 Q255.322 1522.85 255.322 1531.6 Q255.322 1540.33 252.244 1544.94 Q249.188 1549.52 243.378 1549.52 Q237.568 1549.52 234.489 1544.94 Q231.434 1540.33 231.434 1531.6 Q231.434 1522.85 234.489 1518.27 Q237.568 1513.66 243.378 1513.66 Z\" fill=\"#000000\" fill-rule=\"evenodd\" fill-opacity=\"1\" /><path clip-path=\"url(#clip450)\" d=\"M724.612 1544.91 L740.932 1544.91 L740.932 1548.85 L718.987 1548.85 L718.987 1544.91 Q721.649 1542.16 726.233 1537.53 Q730.839 1532.88 732.02 1531.53 Q734.265 1529.01 735.145 1527.27 Q736.047 1525.51 736.047 1523.82 Q736.047 1521.07 734.103 1519.33 Q732.182 1517.6 729.08 1517.6 Q726.881 1517.6 724.427 1518.36 Q721.996 1519.13 719.219 1520.68 L719.219 1515.95 Q722.043 1514.82 724.496 1514.24 Q726.95 1513.66 728.987 1513.66 Q734.357 1513.66 737.552 1516.35 Q740.746 1519.03 740.746 1523.52 Q740.746 1525.65 739.936 1527.57 Q739.149 1529.47 737.043 1532.07 Q736.464 1532.74 733.362 1535.95 Q730.26 1539.15 724.612 1544.91 Z\" fill=\"#000000\" fill-rule=\"evenodd\" fill-opacity=\"1\" /><path clip-path=\"url(#clip450)\" d=\"M750.793 1514.29 L769.149 1514.29 L769.149 1518.22 L755.075 1518.22 L755.075 1526.7 Q756.093 1526.35 757.112 1526.19 Q758.131 1526 759.149 1526 Q764.936 1526 768.316 1529.17 Q771.695 1532.34 771.695 1537.76 Q771.695 1543.34 768.223 1546.44 Q764.751 1549.52 758.431 1549.52 Q756.256 1549.52 753.987 1549.15 Q751.742 1548.78 749.334 1548.04 L749.334 1543.34 Q751.418 1544.47 753.64 1545.03 Q755.862 1545.58 758.339 1545.58 Q762.343 1545.58 764.681 1543.48 Q767.019 1541.37 767.019 1537.76 Q767.019 1534.15 764.681 1532.04 Q762.343 1529.94 758.339 1529.94 Q756.464 1529.94 754.589 1530.35 Q752.737 1530.77 750.793 1531.65 L750.793 1514.29 Z\" fill=\"#000000\" fill-rule=\"evenodd\" fill-opacity=\"1\" /><path clip-path=\"url(#clip450)\" d=\"M1222 1514.29 L1240.36 1514.29 L1240.36 1518.22 L1226.29 1518.22 L1226.29 1526.7 Q1227.3 1526.35 1228.32 1526.19 Q1229.34 1526 1230.36 1526 Q1236.15 1526 1239.53 1529.17 Q1242.91 1532.34 1242.91 1537.76 Q1242.91 1543.34 1239.43 1546.44 Q1235.96 1549.52 1229.64 1549.52 Q1227.47 1549.52 1225.2 1549.15 Q1222.95 1548.78 1220.55 1548.04 L1220.55 1543.34 Q1222.63 1544.47 1224.85 1545.03 Q1227.07 1545.58 1229.55 1545.58 Q1233.55 1545.58 1235.89 1543.48 Q1238.23 1541.37 1238.23 1537.76 Q1238.23 1534.15 1235.89 1532.04 Q1233.55 1529.94 1229.55 1529.94 Q1227.67 1529.94 1225.8 1530.35 Q1223.95 1530.77 1222 1531.65 L1222 1514.29 Z\" fill=\"#000000\" fill-rule=\"evenodd\" fill-opacity=\"1\" /><path clip-path=\"url(#clip450)\" d=\"M1262.12 1517.37 Q1258.51 1517.37 1256.68 1520.93 Q1254.87 1524.47 1254.87 1531.6 Q1254.87 1538.71 1256.68 1542.27 Q1258.51 1545.82 1262.12 1545.82 Q1265.75 1545.82 1267.56 1542.27 Q1269.39 1538.71 1269.39 1531.6 Q1269.39 1524.47 1267.56 1520.93 Q1265.75 1517.37 1262.12 1517.37 M1262.12 1513.66 Q1267.93 1513.66 1270.98 1518.27 Q1274.06 1522.85 1274.06 1531.6 Q1274.06 1540.33 1270.98 1544.94 Q1267.93 1549.52 1262.12 1549.52 Q1256.31 1549.52 1253.23 1544.94 Q1250.17 1540.33 1250.17 1531.6 Q1250.17 1522.85 1253.23 1518.27 Q1256.31 1513.66 1262.12 1513.66 Z\" fill=\"#000000\" fill-rule=\"evenodd\" fill-opacity=\"1\" /><path clip-path=\"url(#clip450)\" d=\"M1723.12 1514.29 L1745.34 1514.29 L1745.34 1516.28 L1732.8 1548.85 L1727.91 1548.85 L1739.72 1518.22 L1723.12 1518.22 L1723.12 1514.29 Z\" fill=\"#000000\" fill-rule=\"evenodd\" fill-opacity=\"1\" /><path clip-path=\"url(#clip450)\" d=\"M1754.51 1514.29 L1772.87 1514.29 L1772.87 1518.22 L1758.79 1518.22 L1758.79 1526.7 Q1759.81 1526.35 1760.83 1526.19 Q1761.85 1526 1762.87 1526 Q1768.65 1526 1772.03 1529.17 Q1775.41 1532.34 1775.41 1537.76 Q1775.41 1543.34 1771.94 1546.44 Q1768.47 1549.52 1762.15 1549.52 Q1759.97 1549.52 1757.71 1549.15 Q1755.46 1548.78 1753.05 1548.04 L1753.05 1543.34 Q1755.14 1544.47 1757.36 1545.03 Q1759.58 1545.58 1762.06 1545.58 Q1766.06 1545.58 1768.4 1543.48 Q1770.74 1541.37 1770.74 1537.76 Q1770.74 1534.15 1768.4 1532.04 Q1766.06 1529.94 1762.06 1529.94 Q1760.18 1529.94 1758.31 1530.35 Q1756.46 1530.77 1754.51 1531.65 L1754.51 1514.29 Z\" fill=\"#000000\" fill-rule=\"evenodd\" fill-opacity=\"1\" /><path clip-path=\"url(#clip450)\" d=\"M2210.84 1544.91 L2218.48 1544.91 L2218.48 1518.55 L2210.17 1520.21 L2210.17 1515.95 L2218.43 1514.29 L2223.11 1514.29 L2223.11 1544.91 L2230.74 1544.91 L2230.74 1548.85 L2210.84 1548.85 L2210.84 1544.91 Z\" fill=\"#000000\" fill-rule=\"evenodd\" fill-opacity=\"1\" /><path clip-path=\"url(#clip450)\" d=\"M2250.19 1517.37 Q2246.58 1517.37 2244.75 1520.93 Q2242.94 1524.47 2242.94 1531.6 Q2242.94 1538.71 2244.75 1542.27 Q2246.58 1545.82 2250.19 1545.82 Q2253.82 1545.82 2255.63 1542.27 Q2257.46 1538.71 2257.46 1531.6 Q2257.46 1524.47 2255.63 1520.93 Q2253.82 1517.37 2250.19 1517.37 M2250.19 1513.66 Q2256 1513.66 2259.05 1518.27 Q2262.13 1522.85 2262.13 1531.6 Q2262.13 1540.33 2259.05 1544.94 Q2256 1549.52 2250.19 1549.52 Q2244.38 1549.52 2241.3 1544.94 Q2238.24 1540.33 2238.24 1531.6 Q2238.24 1522.85 2241.3 1518.27 Q2244.38 1513.66 2250.19 1513.66 Z\" fill=\"#000000\" fill-rule=\"evenodd\" fill-opacity=\"1\" /><path clip-path=\"url(#clip450)\" d=\"M2280.35 1517.37 Q2276.74 1517.37 2274.91 1520.93 Q2273.11 1524.47 2273.11 1531.6 Q2273.11 1538.71 2274.91 1542.27 Q2276.74 1545.82 2280.35 1545.82 Q2283.99 1545.82 2285.79 1542.27 Q2287.62 1538.71 2287.62 1531.6 Q2287.62 1524.47 2285.79 1520.93 Q2283.99 1517.37 2280.35 1517.37 M2280.35 1513.66 Q2286.16 1513.66 2289.22 1518.27 Q2292.3 1522.85 2292.3 1531.6 Q2292.3 1540.33 2289.22 1544.94 Q2286.16 1549.52 2280.35 1549.52 Q2274.54 1549.52 2271.46 1544.94 Q2268.41 1540.33 2268.41 1531.6 Q2268.41 1522.85 2271.46 1518.27 Q2274.54 1513.66 2280.35 1513.66 Z\" fill=\"#000000\" fill-rule=\"evenodd\" fill-opacity=\"1\" /><polyline clip-path=\"url(#clip452)\" style=\"stroke:#000000; stroke-linecap:butt; stroke-linejoin:round; stroke-width:2; stroke-opacity:0.1; fill:none\" points=\"\n",
       "  141.853,1445.72 2352.76,1445.72 \n",
       "  \"/>\n",
       "<polyline clip-path=\"url(#clip452)\" style=\"stroke:#000000; stroke-linecap:butt; stroke-linejoin:round; stroke-width:2; stroke-opacity:0.1; fill:none\" points=\"\n",
       "  141.853,1122.44 2352.76,1122.44 \n",
       "  \"/>\n",
       "<polyline clip-path=\"url(#clip452)\" style=\"stroke:#000000; stroke-linecap:butt; stroke-linejoin:round; stroke-width:2; stroke-opacity:0.1; fill:none\" points=\"\n",
       "  141.853,799.173 2352.76,799.173 \n",
       "  \"/>\n",
       "<polyline clip-path=\"url(#clip452)\" style=\"stroke:#000000; stroke-linecap:butt; stroke-linejoin:round; stroke-width:2; stroke-opacity:0.1; fill:none\" points=\"\n",
       "  141.853,475.902 2352.76,475.902 \n",
       "  \"/>\n",
       "<polyline clip-path=\"url(#clip452)\" style=\"stroke:#000000; stroke-linecap:butt; stroke-linejoin:round; stroke-width:2; stroke-opacity:0.1; fill:none\" points=\"\n",
       "  141.853,152.631 2352.76,152.631 \n",
       "  \"/>\n",
       "<polyline clip-path=\"url(#clip450)\" style=\"stroke:#000000; stroke-linecap:butt; stroke-linejoin:round; stroke-width:4; stroke-opacity:1; fill:none\" points=\"\n",
       "  141.853,1486.45 141.853,47.2441 \n",
       "  \"/>\n",
       "<polyline clip-path=\"url(#clip450)\" style=\"stroke:#000000; stroke-linecap:butt; stroke-linejoin:round; stroke-width:4; stroke-opacity:1; fill:none\" points=\"\n",
       "  141.853,1445.72 160.751,1445.72 \n",
       "  \"/>\n",
       "<polyline clip-path=\"url(#clip450)\" style=\"stroke:#000000; stroke-linecap:butt; stroke-linejoin:round; stroke-width:4; stroke-opacity:1; fill:none\" points=\"\n",
       "  141.853,1122.44 160.751,1122.44 \n",
       "  \"/>\n",
       "<polyline clip-path=\"url(#clip450)\" style=\"stroke:#000000; stroke-linecap:butt; stroke-linejoin:round; stroke-width:4; stroke-opacity:1; fill:none\" points=\"\n",
       "  141.853,799.173 160.751,799.173 \n",
       "  \"/>\n",
       "<polyline clip-path=\"url(#clip450)\" style=\"stroke:#000000; stroke-linecap:butt; stroke-linejoin:round; stroke-width:4; stroke-opacity:1; fill:none\" points=\"\n",
       "  141.853,475.902 160.751,475.902 \n",
       "  \"/>\n",
       "<polyline clip-path=\"url(#clip450)\" style=\"stroke:#000000; stroke-linecap:butt; stroke-linejoin:round; stroke-width:4; stroke-opacity:1; fill:none\" points=\"\n",
       "  141.853,152.631 160.751,152.631 \n",
       "  \"/>\n",
       "<path clip-path=\"url(#clip450)\" d=\"M93.9086 1431.51 Q90.2975 1431.51 88.4688 1435.08 Q86.6632 1438.62 86.6632 1445.75 Q86.6632 1452.86 88.4688 1456.42 Q90.2975 1459.96 93.9086 1459.96 Q97.5428 1459.96 99.3483 1456.42 Q101.177 1452.86 101.177 1445.75 Q101.177 1438.62 99.3483 1435.08 Q97.5428 1431.51 93.9086 1431.51 M93.9086 1427.81 Q99.7187 1427.81 102.774 1432.42 Q105.853 1437 105.853 1445.75 Q105.853 1454.48 102.774 1459.08 Q99.7187 1463.67 93.9086 1463.67 Q88.0984 1463.67 85.0197 1459.08 Q81.9642 1454.48 81.9642 1445.75 Q81.9642 1437 85.0197 1432.42 Q88.0984 1427.81 93.9086 1427.81 Z\" fill=\"#000000\" fill-rule=\"evenodd\" fill-opacity=\"1\" /><path clip-path=\"url(#clip450)\" d=\"M57.7745 1135.79 L74.0939 1135.79 L74.0939 1139.72 L52.1495 1139.72 L52.1495 1135.79 Q54.8115 1133.03 59.3949 1128.41 Q64.0013 1123.75 65.1819 1122.41 Q67.4272 1119.89 68.3068 1118.15 Q69.2096 1116.39 69.2096 1114.7 Q69.2096 1111.95 67.2652 1110.21 Q65.3439 1108.47 62.2421 1108.47 Q60.043 1108.47 57.5893 1109.24 Q55.1588 1110 52.381 1111.55 L52.381 1106.83 Q55.2051 1105.7 57.6588 1105.12 Q60.1124 1104.54 62.1495 1104.54 Q67.5198 1104.54 70.7142 1107.22 Q73.9087 1109.91 73.9087 1114.4 Q73.9087 1116.53 73.0985 1118.45 Q72.3115 1120.35 70.205 1122.94 Q69.6263 1123.61 66.5245 1126.83 Q63.4226 1130.03 57.7745 1135.79 Z\" fill=\"#000000\" fill-rule=\"evenodd\" fill-opacity=\"1\" /><path clip-path=\"url(#clip450)\" d=\"M93.9086 1108.24 Q90.2975 1108.24 88.4688 1111.81 Q86.6632 1115.35 86.6632 1122.48 Q86.6632 1129.59 88.4688 1133.15 Q90.2975 1136.69 93.9086 1136.69 Q97.5428 1136.69 99.3483 1133.15 Q101.177 1129.59 101.177 1122.48 Q101.177 1115.35 99.3483 1111.81 Q97.5428 1108.24 93.9086 1108.24 M93.9086 1104.54 Q99.7187 1104.54 102.774 1109.15 Q105.853 1113.73 105.853 1122.48 Q105.853 1131.21 102.774 1135.81 Q99.7187 1140.4 93.9086 1140.4 Q88.0984 1140.4 85.0197 1135.81 Q81.9642 1131.21 81.9642 1122.48 Q81.9642 1113.73 85.0197 1109.15 Q88.0984 1104.54 93.9086 1104.54 Z\" fill=\"#000000\" fill-rule=\"evenodd\" fill-opacity=\"1\" /><path clip-path=\"url(#clip450)\" d=\"M66.5939 785.967 L54.7884 804.416 L66.5939 804.416 L66.5939 785.967 M65.367 781.893 L71.2466 781.893 L71.2466 804.416 L76.1772 804.416 L76.1772 808.305 L71.2466 808.305 L71.2466 816.453 L66.5939 816.453 L66.5939 808.305 L50.9921 808.305 L50.9921 803.791 L65.367 781.893 Z\" fill=\"#000000\" fill-rule=\"evenodd\" fill-opacity=\"1\" /><path clip-path=\"url(#clip450)\" d=\"M93.9086 784.972 Q90.2975 784.972 88.4688 788.537 Q86.6632 792.078 86.6632 799.208 Q86.6632 806.314 88.4688 809.879 Q90.2975 813.421 93.9086 813.421 Q97.5428 813.421 99.3483 809.879 Q101.177 806.314 101.177 799.208 Q101.177 792.078 99.3483 788.537 Q97.5428 784.972 93.9086 784.972 M93.9086 781.268 Q99.7187 781.268 102.774 785.875 Q105.853 790.458 105.853 799.208 Q105.853 807.935 102.774 812.541 Q99.7187 817.124 93.9086 817.124 Q88.0984 817.124 85.0197 812.541 Q81.9642 807.935 81.9642 799.208 Q81.9642 790.458 85.0197 785.875 Q88.0984 781.268 93.9086 781.268 Z\" fill=\"#000000\" fill-rule=\"evenodd\" fill-opacity=\"1\" /><path clip-path=\"url(#clip450)\" d=\"M64.3254 474.038 Q61.1773 474.038 59.3254 476.191 Q57.4967 478.344 57.4967 482.094 Q57.4967 485.821 59.3254 487.997 Q61.1773 490.149 64.3254 490.149 Q67.4735 490.149 69.3022 487.997 Q71.1541 485.821 71.1541 482.094 Q71.1541 478.344 69.3022 476.191 Q67.4735 474.038 64.3254 474.038 M73.6077 459.386 L73.6077 463.645 Q71.8485 462.812 70.0429 462.372 Q68.2606 461.932 66.5013 461.932 Q61.8717 461.932 59.418 465.057 Q56.9875 468.182 56.6402 474.501 Q58.006 472.487 60.0662 471.423 Q62.1263 470.335 64.6032 470.335 Q69.8115 470.335 72.8207 473.506 Q75.8531 476.654 75.8531 482.094 Q75.8531 487.418 72.705 490.636 Q69.5568 493.853 64.3254 493.853 Q58.33 493.853 55.1588 489.27 Q51.9875 484.663 51.9875 475.937 Q51.9875 467.742 55.8764 462.881 Q59.7652 457.997 66.3161 457.997 Q68.0754 457.997 69.8578 458.344 Q71.6633 458.691 73.6077 459.386 Z\" fill=\"#000000\" fill-rule=\"evenodd\" fill-opacity=\"1\" /><path clip-path=\"url(#clip450)\" d=\"M93.9086 461.701 Q90.2975 461.701 88.4688 465.265 Q86.6632 468.807 86.6632 475.937 Q86.6632 483.043 88.4688 486.608 Q90.2975 490.149 93.9086 490.149 Q97.5428 490.149 99.3483 486.608 Q101.177 483.043 101.177 475.937 Q101.177 468.807 99.3483 465.265 Q97.5428 461.701 93.9086 461.701 M93.9086 457.997 Q99.7187 457.997 102.774 462.603 Q105.853 467.187 105.853 475.937 Q105.853 484.663 102.774 489.27 Q99.7187 493.853 93.9086 493.853 Q88.0984 493.853 85.0197 489.27 Q81.9642 484.663 81.9642 475.937 Q81.9642 467.187 85.0197 462.603 Q88.0984 457.997 93.9086 457.997 Z\" fill=\"#000000\" fill-rule=\"evenodd\" fill-opacity=\"1\" /><path clip-path=\"url(#clip450)\" d=\"M63.7467 153.499 Q60.4134 153.499 58.4921 155.281 Q56.5939 157.063 56.5939 160.188 Q56.5939 163.313 58.4921 165.096 Q60.4134 166.878 63.7467 166.878 Q67.08 166.878 69.0013 165.096 Q70.9226 163.29 70.9226 160.188 Q70.9226 157.063 69.0013 155.281 Q67.1032 153.499 63.7467 153.499 M59.0708 151.508 Q56.0615 150.767 54.3717 148.707 Q52.7051 146.647 52.7051 143.684 Q52.7051 139.54 55.6449 137.133 Q58.6078 134.726 63.7467 134.726 Q68.9087 134.726 71.8485 137.133 Q74.7883 139.54 74.7883 143.684 Q74.7883 146.647 73.0985 148.707 Q71.4318 150.767 68.4457 151.508 Q71.8253 152.295 73.7003 154.587 Q75.5985 156.878 75.5985 160.188 Q75.5985 165.211 72.5198 167.897 Q69.4642 170.582 63.7467 170.582 Q58.0291 170.582 54.9504 167.897 Q51.8949 165.211 51.8949 160.188 Q51.8949 156.878 53.793 154.587 Q55.6912 152.295 59.0708 151.508 M57.3578 144.124 Q57.3578 146.809 59.0245 148.313 Q60.7143 149.818 63.7467 149.818 Q66.7559 149.818 68.4457 148.313 Q70.1587 146.809 70.1587 144.124 Q70.1587 141.438 68.4457 139.934 Q66.7559 138.429 63.7467 138.429 Q60.7143 138.429 59.0245 139.934 Q57.3578 141.438 57.3578 144.124 Z\" fill=\"#000000\" fill-rule=\"evenodd\" fill-opacity=\"1\" /><path clip-path=\"url(#clip450)\" d=\"M93.9086 138.429 Q90.2975 138.429 88.4688 141.994 Q86.6632 145.536 86.6632 152.665 Q86.6632 159.772 88.4688 163.336 Q90.2975 166.878 93.9086 166.878 Q97.5428 166.878 99.3483 163.336 Q101.177 159.772 101.177 152.665 Q101.177 145.536 99.3483 141.994 Q97.5428 138.429 93.9086 138.429 M93.9086 134.726 Q99.7187 134.726 102.774 139.332 Q105.853 143.915 105.853 152.665 Q105.853 161.392 102.774 165.999 Q99.7187 170.582 93.9086 170.582 Q88.0984 170.582 85.0197 165.999 Q81.9642 161.392 81.9642 152.665 Q81.9642 143.915 85.0197 139.332 Q88.0984 134.726 93.9086 134.726 Z\" fill=\"#000000\" fill-rule=\"evenodd\" fill-opacity=\"1\" /><path clip-path=\"url(#clip452)\" d=\"\n",
       "M263.457 87.9763 L263.457 1445.72 L273.496 1445.72 L273.496 87.9763 L263.457 87.9763 L263.457 87.9763  Z\n",
       "  \" fill=\"#009af9\" fill-rule=\"evenodd\" fill-opacity=\"1\"/>\n",
       "<polyline clip-path=\"url(#clip452)\" style=\"stroke:#000000; stroke-linecap:butt; stroke-linejoin:round; stroke-width:4; stroke-opacity:1; fill:none\" points=\"\n",
       "  263.457,87.9763 263.457,1445.72 273.496,1445.72 273.496,87.9763 263.457,87.9763 \n",
       "  \"/>\n",
       "<path clip-path=\"url(#clip452)\" d=\"\n",
       "M273.496 1445.72 L273.496 1445.72 L283.535 1445.72 L283.535 1445.72 L273.496 1445.72 L273.496 1445.72  Z\n",
       "  \" fill=\"#009af9\" fill-rule=\"evenodd\" fill-opacity=\"1\"/>\n",
       "<polyline clip-path=\"url(#clip452)\" style=\"stroke:#000000; stroke-linecap:butt; stroke-linejoin:round; stroke-width:4; stroke-opacity:1; fill:none\" points=\"\n",
       "  273.496,1445.72 273.496,1445.72 283.535,1445.72 273.496,1445.72 \n",
       "  \"/>\n",
       "<path clip-path=\"url(#clip452)\" d=\"\n",
       "M283.535 1284.08 L283.535 1445.72 L293.574 1445.72 L293.574 1284.08 L283.535 1284.08 L283.535 1284.08  Z\n",
       "  \" fill=\"#009af9\" fill-rule=\"evenodd\" fill-opacity=\"1\"/>\n",
       "<polyline clip-path=\"url(#clip452)\" style=\"stroke:#000000; stroke-linecap:butt; stroke-linejoin:round; stroke-width:4; stroke-opacity:1; fill:none\" points=\"\n",
       "  283.535,1284.08 283.535,1445.72 293.574,1445.72 293.574,1284.08 283.535,1284.08 \n",
       "  \"/>\n",
       "<path clip-path=\"url(#clip452)\" d=\"\n",
       "M293.574 1445.72 L293.574 1445.72 L303.614 1445.72 L303.614 1445.72 L293.574 1445.72 L293.574 1445.72  Z\n",
       "  \" fill=\"#009af9\" fill-rule=\"evenodd\" fill-opacity=\"1\"/>\n",
       "<polyline clip-path=\"url(#clip452)\" style=\"stroke:#000000; stroke-linecap:butt; stroke-linejoin:round; stroke-width:4; stroke-opacity:1; fill:none\" points=\"\n",
       "  293.574,1445.72 293.574,1445.72 303.614,1445.72 293.574,1445.72 \n",
       "  \"/>\n",
       "<path clip-path=\"url(#clip452)\" d=\"\n",
       "M303.614 1348.73 L303.614 1445.72 L313.653 1445.72 L313.653 1348.73 L303.614 1348.73 L303.614 1348.73  Z\n",
       "  \" fill=\"#009af9\" fill-rule=\"evenodd\" fill-opacity=\"1\"/>\n",
       "<polyline clip-path=\"url(#clip452)\" style=\"stroke:#000000; stroke-linecap:butt; stroke-linejoin:round; stroke-width:4; stroke-opacity:1; fill:none\" points=\"\n",
       "  303.614,1348.73 303.614,1445.72 313.653,1445.72 313.653,1348.73 303.614,1348.73 \n",
       "  \"/>\n",
       "<circle clip-path=\"url(#clip452)\" style=\"fill:#009af9; stroke:none; fill-opacity:0\" cx=\"268.476\" cy=\"87.9763\" r=\"2\"/>\n",
       "<circle clip-path=\"url(#clip452)\" style=\"fill:#009af9; stroke:none; fill-opacity:0\" cx=\"278.515\" cy=\"1445.72\" r=\"2\"/>\n",
       "<circle clip-path=\"url(#clip452)\" style=\"fill:#009af9; stroke:none; fill-opacity:0\" cx=\"288.555\" cy=\"1284.08\" r=\"2\"/>\n",
       "<circle clip-path=\"url(#clip452)\" style=\"fill:#009af9; stroke:none; fill-opacity:0\" cx=\"298.594\" cy=\"1445.72\" r=\"2\"/>\n",
       "<circle clip-path=\"url(#clip452)\" style=\"fill:#009af9; stroke:none; fill-opacity:0\" cx=\"308.633\" cy=\"1348.73\" r=\"2\"/>\n",
       "<path clip-path=\"url(#clip452)\" d=\"\n",
       "M263.457 524.393 L263.457 1445.72 L283.535 1445.72 L283.535 524.393 L263.457 524.393 L263.457 524.393  Z\n",
       "  \" fill=\"#e26f46\" fill-rule=\"evenodd\" fill-opacity=\"1\"/>\n",
       "<polyline clip-path=\"url(#clip452)\" style=\"stroke:#000000; stroke-linecap:butt; stroke-linejoin:round; stroke-width:4; stroke-opacity:1; fill:none\" points=\"\n",
       "  263.457,524.393 263.457,1445.72 283.535,1445.72 283.535,524.393 263.457,524.393 \n",
       "  \"/>\n",
       "<path clip-path=\"url(#clip452)\" d=\"\n",
       "M283.535 1300.24 L283.535 1445.72 L303.614 1445.72 L303.614 1300.24 L283.535 1300.24 L283.535 1300.24  Z\n",
       "  \" fill=\"#e26f46\" fill-rule=\"evenodd\" fill-opacity=\"1\"/>\n",
       "<polyline clip-path=\"url(#clip452)\" style=\"stroke:#000000; stroke-linecap:butt; stroke-linejoin:round; stroke-width:4; stroke-opacity:1; fill:none\" points=\"\n",
       "  283.535,1300.24 283.535,1445.72 303.614,1445.72 303.614,1300.24 283.535,1300.24 \n",
       "  \"/>\n",
       "<path clip-path=\"url(#clip452)\" d=\"\n",
       "M303.614 1348.73 L303.614 1445.72 L323.692 1445.72 L323.692 1348.73 L303.614 1348.73 L303.614 1348.73  Z\n",
       "  \" fill=\"#e26f46\" fill-rule=\"evenodd\" fill-opacity=\"1\"/>\n",
       "<polyline clip-path=\"url(#clip452)\" style=\"stroke:#000000; stroke-linecap:butt; stroke-linejoin:round; stroke-width:4; stroke-opacity:1; fill:none\" points=\"\n",
       "  303.614,1348.73 303.614,1445.72 323.692,1445.72 323.692,1348.73 303.614,1348.73 \n",
       "  \"/>\n",
       "<path clip-path=\"url(#clip452)\" d=\"\n",
       "M323.692 1429.55 L323.692 1445.72 L343.771 1445.72 L343.771 1429.55 L323.692 1429.55 L323.692 1429.55  Z\n",
       "  \" fill=\"#e26f46\" fill-rule=\"evenodd\" fill-opacity=\"1\"/>\n",
       "<polyline clip-path=\"url(#clip452)\" style=\"stroke:#000000; stroke-linecap:butt; stroke-linejoin:round; stroke-width:4; stroke-opacity:1; fill:none\" points=\"\n",
       "  323.692,1429.55 323.692,1445.72 343.771,1445.72 343.771,1429.55 323.692,1429.55 \n",
       "  \"/>\n",
       "<path clip-path=\"url(#clip452)\" d=\"\n",
       "M343.771 1413.39 L343.771 1445.72 L363.849 1445.72 L363.849 1413.39 L343.771 1413.39 L343.771 1413.39  Z\n",
       "  \" fill=\"#e26f46\" fill-rule=\"evenodd\" fill-opacity=\"1\"/>\n",
       "<polyline clip-path=\"url(#clip452)\" style=\"stroke:#000000; stroke-linecap:butt; stroke-linejoin:round; stroke-width:4; stroke-opacity:1; fill:none\" points=\"\n",
       "  343.771,1413.39 343.771,1445.72 363.849,1445.72 363.849,1413.39 343.771,1413.39 \n",
       "  \"/>\n",
       "<path clip-path=\"url(#clip452)\" d=\"\n",
       "M363.849 1429.55 L363.849 1445.72 L383.928 1445.72 L383.928 1429.55 L363.849 1429.55 L363.849 1429.55  Z\n",
       "  \" fill=\"#e26f46\" fill-rule=\"evenodd\" fill-opacity=\"1\"/>\n",
       "<polyline clip-path=\"url(#clip452)\" style=\"stroke:#000000; stroke-linecap:butt; stroke-linejoin:round; stroke-width:4; stroke-opacity:1; fill:none\" points=\"\n",
       "  363.849,1429.55 363.849,1445.72 383.928,1445.72 383.928,1429.55 363.849,1429.55 \n",
       "  \"/>\n",
       "<path clip-path=\"url(#clip452)\" d=\"\n",
       "M383.928 1429.55 L383.928 1445.72 L404.006 1445.72 L404.006 1429.55 L383.928 1429.55 L383.928 1429.55  Z\n",
       "  \" fill=\"#e26f46\" fill-rule=\"evenodd\" fill-opacity=\"1\"/>\n",
       "<polyline clip-path=\"url(#clip452)\" style=\"stroke:#000000; stroke-linecap:butt; stroke-linejoin:round; stroke-width:4; stroke-opacity:1; fill:none\" points=\"\n",
       "  383.928,1429.55 383.928,1445.72 404.006,1445.72 404.006,1429.55 383.928,1429.55 \n",
       "  \"/>\n",
       "<path clip-path=\"url(#clip452)\" d=\"\n",
       "M404.006 1429.55 L404.006 1445.72 L424.085 1445.72 L424.085 1429.55 L404.006 1429.55 L404.006 1429.55  Z\n",
       "  \" fill=\"#e26f46\" fill-rule=\"evenodd\" fill-opacity=\"1\"/>\n",
       "<polyline clip-path=\"url(#clip452)\" style=\"stroke:#000000; stroke-linecap:butt; stroke-linejoin:round; stroke-width:4; stroke-opacity:1; fill:none\" points=\"\n",
       "  404.006,1429.55 404.006,1445.72 424.085,1445.72 424.085,1429.55 404.006,1429.55 \n",
       "  \"/>\n",
       "<path clip-path=\"url(#clip452)\" d=\"\n",
       "M424.085 1445.72 L424.085 1445.72 L444.163 1445.72 L444.163 1445.72 L424.085 1445.72 L424.085 1445.72  Z\n",
       "  \" fill=\"#e26f46\" fill-rule=\"evenodd\" fill-opacity=\"1\"/>\n",
       "<polyline clip-path=\"url(#clip452)\" style=\"stroke:#000000; stroke-linecap:butt; stroke-linejoin:round; stroke-width:4; stroke-opacity:1; fill:none\" points=\"\n",
       "  424.085,1445.72 424.085,1445.72 444.163,1445.72 424.085,1445.72 \n",
       "  \"/>\n",
       "<path clip-path=\"url(#clip452)\" d=\"\n",
       "M444.163 1429.55 L444.163 1445.72 L464.242 1445.72 L464.242 1429.55 L444.163 1429.55 L444.163 1429.55  Z\n",
       "  \" fill=\"#e26f46\" fill-rule=\"evenodd\" fill-opacity=\"1\"/>\n",
       "<polyline clip-path=\"url(#clip452)\" style=\"stroke:#000000; stroke-linecap:butt; stroke-linejoin:round; stroke-width:4; stroke-opacity:1; fill:none\" points=\"\n",
       "  444.163,1429.55 444.163,1445.72 464.242,1445.72 464.242,1429.55 444.163,1429.55 \n",
       "  \"/>\n",
       "<path clip-path=\"url(#clip452)\" d=\"\n",
       "M464.242 1413.39 L464.242 1445.72 L484.32 1445.72 L484.32 1413.39 L464.242 1413.39 L464.242 1413.39  Z\n",
       "  \" fill=\"#e26f46\" fill-rule=\"evenodd\" fill-opacity=\"1\"/>\n",
       "<polyline clip-path=\"url(#clip452)\" style=\"stroke:#000000; stroke-linecap:butt; stroke-linejoin:round; stroke-width:4; stroke-opacity:1; fill:none\" points=\"\n",
       "  464.242,1413.39 464.242,1445.72 484.32,1445.72 484.32,1413.39 464.242,1413.39 \n",
       "  \"/>\n",
       "<path clip-path=\"url(#clip452)\" d=\"\n",
       "M484.32 1445.72 L484.32 1445.72 L504.399 1445.72 L504.399 1445.72 L484.32 1445.72 L484.32 1445.72  Z\n",
       "  \" fill=\"#e26f46\" fill-rule=\"evenodd\" fill-opacity=\"1\"/>\n",
       "<polyline clip-path=\"url(#clip452)\" style=\"stroke:#000000; stroke-linecap:butt; stroke-linejoin:round; stroke-width:4; stroke-opacity:1; fill:none\" points=\"\n",
       "  484.32,1445.72 484.32,1445.72 504.399,1445.72 484.32,1445.72 \n",
       "  \"/>\n",
       "<path clip-path=\"url(#clip452)\" d=\"\n",
       "M504.399 1445.72 L504.399 1445.72 L524.477 1445.72 L524.477 1445.72 L504.399 1445.72 L504.399 1445.72  Z\n",
       "  \" fill=\"#e26f46\" fill-rule=\"evenodd\" fill-opacity=\"1\"/>\n",
       "<polyline clip-path=\"url(#clip452)\" style=\"stroke:#000000; stroke-linecap:butt; stroke-linejoin:round; stroke-width:4; stroke-opacity:1; fill:none\" points=\"\n",
       "  504.399,1445.72 504.399,1445.72 524.477,1445.72 504.399,1445.72 \n",
       "  \"/>\n",
       "<path clip-path=\"url(#clip452)\" d=\"\n",
       "M524.477 1413.39 L524.477 1445.72 L544.556 1445.72 L544.556 1413.39 L524.477 1413.39 L524.477 1413.39  Z\n",
       "  \" fill=\"#e26f46\" fill-rule=\"evenodd\" fill-opacity=\"1\"/>\n",
       "<polyline clip-path=\"url(#clip452)\" style=\"stroke:#000000; stroke-linecap:butt; stroke-linejoin:round; stroke-width:4; stroke-opacity:1; fill:none\" points=\"\n",
       "  524.477,1413.39 524.477,1445.72 544.556,1445.72 544.556,1413.39 524.477,1413.39 \n",
       "  \"/>\n",
       "<path clip-path=\"url(#clip452)\" d=\"\n",
       "M544.556 1445.72 L544.556 1445.72 L564.634 1445.72 L564.634 1445.72 L544.556 1445.72 L544.556 1445.72  Z\n",
       "  \" fill=\"#e26f46\" fill-rule=\"evenodd\" fill-opacity=\"1\"/>\n",
       "<polyline clip-path=\"url(#clip452)\" style=\"stroke:#000000; stroke-linecap:butt; stroke-linejoin:round; stroke-width:4; stroke-opacity:1; fill:none\" points=\"\n",
       "  544.556,1445.72 544.556,1445.72 564.634,1445.72 544.556,1445.72 \n",
       "  \"/>\n",
       "<path clip-path=\"url(#clip452)\" d=\"\n",
       "M564.634 1445.72 L564.634 1445.72 L584.713 1445.72 L584.713 1445.72 L564.634 1445.72 L564.634 1445.72  Z\n",
       "  \" fill=\"#e26f46\" fill-rule=\"evenodd\" fill-opacity=\"1\"/>\n",
       "<polyline clip-path=\"url(#clip452)\" style=\"stroke:#000000; stroke-linecap:butt; stroke-linejoin:round; stroke-width:4; stroke-opacity:1; fill:none\" points=\"\n",
       "  564.634,1445.72 564.634,1445.72 584.713,1445.72 564.634,1445.72 \n",
       "  \"/>\n",
       "<path clip-path=\"url(#clip452)\" d=\"\n",
       "M584.713 1429.55 L584.713 1445.72 L604.792 1445.72 L604.792 1429.55 L584.713 1429.55 L584.713 1429.55  Z\n",
       "  \" fill=\"#e26f46\" fill-rule=\"evenodd\" fill-opacity=\"1\"/>\n",
       "<polyline clip-path=\"url(#clip452)\" style=\"stroke:#000000; stroke-linecap:butt; stroke-linejoin:round; stroke-width:4; stroke-opacity:1; fill:none\" points=\"\n",
       "  584.713,1429.55 584.713,1445.72 604.792,1445.72 604.792,1429.55 584.713,1429.55 \n",
       "  \"/>\n",
       "<path clip-path=\"url(#clip452)\" d=\"\n",
       "M604.792 1429.55 L604.792 1445.72 L624.87 1445.72 L624.87 1429.55 L604.792 1429.55 L604.792 1429.55  Z\n",
       "  \" fill=\"#e26f46\" fill-rule=\"evenodd\" fill-opacity=\"1\"/>\n",
       "<polyline clip-path=\"url(#clip452)\" style=\"stroke:#000000; stroke-linecap:butt; stroke-linejoin:round; stroke-width:4; stroke-opacity:1; fill:none\" points=\"\n",
       "  604.792,1429.55 604.792,1445.72 624.87,1445.72 624.87,1429.55 604.792,1429.55 \n",
       "  \"/>\n",
       "<path clip-path=\"url(#clip452)\" d=\"\n",
       "M624.87 1429.55 L624.87 1445.72 L644.949 1445.72 L644.949 1429.55 L624.87 1429.55 L624.87 1429.55  Z\n",
       "  \" fill=\"#e26f46\" fill-rule=\"evenodd\" fill-opacity=\"1\"/>\n",
       "<polyline clip-path=\"url(#clip452)\" style=\"stroke:#000000; stroke-linecap:butt; stroke-linejoin:round; stroke-width:4; stroke-opacity:1; fill:none\" points=\"\n",
       "  624.87,1429.55 624.87,1445.72 644.949,1445.72 644.949,1429.55 624.87,1429.55 \n",
       "  \"/>\n",
       "<path clip-path=\"url(#clip452)\" d=\"\n",
       "M644.949 1445.72 L644.949 1445.72 L665.027 1445.72 L665.027 1445.72 L644.949 1445.72 L644.949 1445.72  Z\n",
       "  \" fill=\"#e26f46\" fill-rule=\"evenodd\" fill-opacity=\"1\"/>\n",
       "<polyline clip-path=\"url(#clip452)\" style=\"stroke:#000000; stroke-linecap:butt; stroke-linejoin:round; stroke-width:4; stroke-opacity:1; fill:none\" points=\"\n",
       "  644.949,1445.72 644.949,1445.72 665.027,1445.72 644.949,1445.72 \n",
       "  \"/>\n",
       "<path clip-path=\"url(#clip452)\" d=\"\n",
       "M665.027 1445.72 L665.027 1445.72 L685.106 1445.72 L685.106 1445.72 L665.027 1445.72 L665.027 1445.72  Z\n",
       "  \" fill=\"#e26f46\" fill-rule=\"evenodd\" fill-opacity=\"1\"/>\n",
       "<polyline clip-path=\"url(#clip452)\" style=\"stroke:#000000; stroke-linecap:butt; stroke-linejoin:round; stroke-width:4; stroke-opacity:1; fill:none\" points=\"\n",
       "  665.027,1445.72 665.027,1445.72 685.106,1445.72 665.027,1445.72 \n",
       "  \"/>\n",
       "<path clip-path=\"url(#clip452)\" d=\"\n",
       "M685.106 1445.72 L685.106 1445.72 L705.184 1445.72 L705.184 1445.72 L685.106 1445.72 L685.106 1445.72  Z\n",
       "  \" fill=\"#e26f46\" fill-rule=\"evenodd\" fill-opacity=\"1\"/>\n",
       "<polyline clip-path=\"url(#clip452)\" style=\"stroke:#000000; stroke-linecap:butt; stroke-linejoin:round; stroke-width:4; stroke-opacity:1; fill:none\" points=\"\n",
       "  685.106,1445.72 685.106,1445.72 705.184,1445.72 685.106,1445.72 \n",
       "  \"/>\n",
       "<path clip-path=\"url(#clip452)\" d=\"\n",
       "M705.184 1429.55 L705.184 1445.72 L725.263 1445.72 L725.263 1429.55 L705.184 1429.55 L705.184 1429.55  Z\n",
       "  \" fill=\"#e26f46\" fill-rule=\"evenodd\" fill-opacity=\"1\"/>\n",
       "<polyline clip-path=\"url(#clip452)\" style=\"stroke:#000000; stroke-linecap:butt; stroke-linejoin:round; stroke-width:4; stroke-opacity:1; fill:none\" points=\"\n",
       "  705.184,1429.55 705.184,1445.72 725.263,1445.72 725.263,1429.55 705.184,1429.55 \n",
       "  \"/>\n",
       "<path clip-path=\"url(#clip452)\" d=\"\n",
       "M725.263 1429.55 L725.263 1445.72 L745.341 1445.72 L745.341 1429.55 L725.263 1429.55 L725.263 1429.55  Z\n",
       "  \" fill=\"#e26f46\" fill-rule=\"evenodd\" fill-opacity=\"1\"/>\n",
       "<polyline clip-path=\"url(#clip452)\" style=\"stroke:#000000; stroke-linecap:butt; stroke-linejoin:round; stroke-width:4; stroke-opacity:1; fill:none\" points=\"\n",
       "  725.263,1429.55 725.263,1445.72 745.341,1445.72 745.341,1429.55 725.263,1429.55 \n",
       "  \"/>\n",
       "<path clip-path=\"url(#clip452)\" d=\"\n",
       "M745.341 1445.72 L745.341 1445.72 L765.42 1445.72 L765.42 1445.72 L745.341 1445.72 L745.341 1445.72  Z\n",
       "  \" fill=\"#e26f46\" fill-rule=\"evenodd\" fill-opacity=\"1\"/>\n",
       "<polyline clip-path=\"url(#clip452)\" style=\"stroke:#000000; stroke-linecap:butt; stroke-linejoin:round; stroke-width:4; stroke-opacity:1; fill:none\" points=\"\n",
       "  745.341,1445.72 745.341,1445.72 765.42,1445.72 745.341,1445.72 \n",
       "  \"/>\n",
       "<path clip-path=\"url(#clip452)\" d=\"\n",
       "M765.42 1445.72 L765.42 1445.72 L785.498 1445.72 L785.498 1445.72 L765.42 1445.72 L765.42 1445.72  Z\n",
       "  \" fill=\"#e26f46\" fill-rule=\"evenodd\" fill-opacity=\"1\"/>\n",
       "<polyline clip-path=\"url(#clip452)\" style=\"stroke:#000000; stroke-linecap:butt; stroke-linejoin:round; stroke-width:4; stroke-opacity:1; fill:none\" points=\"\n",
       "  765.42,1445.72 765.42,1445.72 785.498,1445.72 765.42,1445.72 \n",
       "  \"/>\n",
       "<path clip-path=\"url(#clip452)\" d=\"\n",
       "M785.498 1445.72 L785.498 1445.72 L805.577 1445.72 L805.577 1445.72 L785.498 1445.72 L785.498 1445.72  Z\n",
       "  \" fill=\"#e26f46\" fill-rule=\"evenodd\" fill-opacity=\"1\"/>\n",
       "<polyline clip-path=\"url(#clip452)\" style=\"stroke:#000000; stroke-linecap:butt; stroke-linejoin:round; stroke-width:4; stroke-opacity:1; fill:none\" points=\"\n",
       "  785.498,1445.72 785.498,1445.72 805.577,1445.72 785.498,1445.72 \n",
       "  \"/>\n",
       "<path clip-path=\"url(#clip452)\" d=\"\n",
       "M805.577 1445.72 L805.577 1445.72 L825.655 1445.72 L825.655 1445.72 L805.577 1445.72 L805.577 1445.72  Z\n",
       "  \" fill=\"#e26f46\" fill-rule=\"evenodd\" fill-opacity=\"1\"/>\n",
       "<polyline clip-path=\"url(#clip452)\" style=\"stroke:#000000; stroke-linecap:butt; stroke-linejoin:round; stroke-width:4; stroke-opacity:1; fill:none\" points=\"\n",
       "  805.577,1445.72 805.577,1445.72 825.655,1445.72 805.577,1445.72 \n",
       "  \"/>\n",
       "<path clip-path=\"url(#clip452)\" d=\"\n",
       "M825.655 1445.72 L825.655 1445.72 L845.734 1445.72 L845.734 1445.72 L825.655 1445.72 L825.655 1445.72  Z\n",
       "  \" fill=\"#e26f46\" fill-rule=\"evenodd\" fill-opacity=\"1\"/>\n",
       "<polyline clip-path=\"url(#clip452)\" style=\"stroke:#000000; stroke-linecap:butt; stroke-linejoin:round; stroke-width:4; stroke-opacity:1; fill:none\" points=\"\n",
       "  825.655,1445.72 825.655,1445.72 845.734,1445.72 825.655,1445.72 \n",
       "  \"/>\n",
       "<path clip-path=\"url(#clip452)\" d=\"\n",
       "M845.734 1445.72 L845.734 1445.72 L865.812 1445.72 L865.812 1445.72 L845.734 1445.72 L845.734 1445.72  Z\n",
       "  \" fill=\"#e26f46\" fill-rule=\"evenodd\" fill-opacity=\"1\"/>\n",
       "<polyline clip-path=\"url(#clip452)\" style=\"stroke:#000000; stroke-linecap:butt; stroke-linejoin:round; stroke-width:4; stroke-opacity:1; fill:none\" points=\"\n",
       "  845.734,1445.72 845.734,1445.72 865.812,1445.72 845.734,1445.72 \n",
       "  \"/>\n",
       "<path clip-path=\"url(#clip452)\" d=\"\n",
       "M865.812 1445.72 L865.812 1445.72 L885.891 1445.72 L885.891 1445.72 L865.812 1445.72 L865.812 1445.72  Z\n",
       "  \" fill=\"#e26f46\" fill-rule=\"evenodd\" fill-opacity=\"1\"/>\n",
       "<polyline clip-path=\"url(#clip452)\" style=\"stroke:#000000; stroke-linecap:butt; stroke-linejoin:round; stroke-width:4; stroke-opacity:1; fill:none\" points=\"\n",
       "  865.812,1445.72 865.812,1445.72 885.891,1445.72 865.812,1445.72 \n",
       "  \"/>\n",
       "<path clip-path=\"url(#clip452)\" d=\"\n",
       "M885.891 1429.55 L885.891 1445.72 L905.969 1445.72 L905.969 1429.55 L885.891 1429.55 L885.891 1429.55  Z\n",
       "  \" fill=\"#e26f46\" fill-rule=\"evenodd\" fill-opacity=\"1\"/>\n",
       "<polyline clip-path=\"url(#clip452)\" style=\"stroke:#000000; stroke-linecap:butt; stroke-linejoin:round; stroke-width:4; stroke-opacity:1; fill:none\" points=\"\n",
       "  885.891,1429.55 885.891,1445.72 905.969,1445.72 905.969,1429.55 885.891,1429.55 \n",
       "  \"/>\n",
       "<path clip-path=\"url(#clip452)\" d=\"\n",
       "M905.969 1445.72 L905.969 1445.72 L926.048 1445.72 L926.048 1445.72 L905.969 1445.72 L905.969 1445.72  Z\n",
       "  \" fill=\"#e26f46\" fill-rule=\"evenodd\" fill-opacity=\"1\"/>\n",
       "<polyline clip-path=\"url(#clip452)\" style=\"stroke:#000000; stroke-linecap:butt; stroke-linejoin:round; stroke-width:4; stroke-opacity:1; fill:none\" points=\"\n",
       "  905.969,1445.72 905.969,1445.72 926.048,1445.72 905.969,1445.72 \n",
       "  \"/>\n",
       "<path clip-path=\"url(#clip452)\" d=\"\n",
       "M926.048 1445.72 L926.048 1445.72 L946.127 1445.72 L946.127 1445.72 L926.048 1445.72 L926.048 1445.72  Z\n",
       "  \" fill=\"#e26f46\" fill-rule=\"evenodd\" fill-opacity=\"1\"/>\n",
       "<polyline clip-path=\"url(#clip452)\" style=\"stroke:#000000; stroke-linecap:butt; stroke-linejoin:round; stroke-width:4; stroke-opacity:1; fill:none\" points=\"\n",
       "  926.048,1445.72 926.048,1445.72 946.127,1445.72 926.048,1445.72 \n",
       "  \"/>\n",
       "<path clip-path=\"url(#clip452)\" d=\"\n",
       "M946.127 1445.72 L946.127 1445.72 L966.205 1445.72 L966.205 1445.72 L946.127 1445.72 L946.127 1445.72  Z\n",
       "  \" fill=\"#e26f46\" fill-rule=\"evenodd\" fill-opacity=\"1\"/>\n",
       "<polyline clip-path=\"url(#clip452)\" style=\"stroke:#000000; stroke-linecap:butt; stroke-linejoin:round; stroke-width:4; stroke-opacity:1; fill:none\" points=\"\n",
       "  946.127,1445.72 946.127,1445.72 966.205,1445.72 946.127,1445.72 \n",
       "  \"/>\n",
       "<path clip-path=\"url(#clip452)\" d=\"\n",
       "M966.205 1445.72 L966.205 1445.72 L986.284 1445.72 L986.284 1445.72 L966.205 1445.72 L966.205 1445.72  Z\n",
       "  \" fill=\"#e26f46\" fill-rule=\"evenodd\" fill-opacity=\"1\"/>\n",
       "<polyline clip-path=\"url(#clip452)\" style=\"stroke:#000000; stroke-linecap:butt; stroke-linejoin:round; stroke-width:4; stroke-opacity:1; fill:none\" points=\"\n",
       "  966.205,1445.72 966.205,1445.72 986.284,1445.72 966.205,1445.72 \n",
       "  \"/>\n",
       "<path clip-path=\"url(#clip452)\" d=\"\n",
       "M986.284 1445.72 L986.284 1445.72 L1006.36 1445.72 L1006.36 1445.72 L986.284 1445.72 L986.284 1445.72  Z\n",
       "  \" fill=\"#e26f46\" fill-rule=\"evenodd\" fill-opacity=\"1\"/>\n",
       "<polyline clip-path=\"url(#clip452)\" style=\"stroke:#000000; stroke-linecap:butt; stroke-linejoin:round; stroke-width:4; stroke-opacity:1; fill:none\" points=\"\n",
       "  986.284,1445.72 986.284,1445.72 1006.36,1445.72 986.284,1445.72 \n",
       "  \"/>\n",
       "<path clip-path=\"url(#clip452)\" d=\"\n",
       "M1006.36 1445.72 L1006.36 1445.72 L1026.44 1445.72 L1026.44 1445.72 L1006.36 1445.72 L1006.36 1445.72  Z\n",
       "  \" fill=\"#e26f46\" fill-rule=\"evenodd\" fill-opacity=\"1\"/>\n",
       "<polyline clip-path=\"url(#clip452)\" style=\"stroke:#000000; stroke-linecap:butt; stroke-linejoin:round; stroke-width:4; stroke-opacity:1; fill:none\" points=\"\n",
       "  1006.36,1445.72 1006.36,1445.72 1026.44,1445.72 1006.36,1445.72 \n",
       "  \"/>\n",
       "<path clip-path=\"url(#clip452)\" d=\"\n",
       "M1026.44 1445.72 L1026.44 1445.72 L1046.52 1445.72 L1046.52 1445.72 L1026.44 1445.72 L1026.44 1445.72  Z\n",
       "  \" fill=\"#e26f46\" fill-rule=\"evenodd\" fill-opacity=\"1\"/>\n",
       "<polyline clip-path=\"url(#clip452)\" style=\"stroke:#000000; stroke-linecap:butt; stroke-linejoin:round; stroke-width:4; stroke-opacity:1; fill:none\" points=\"\n",
       "  1026.44,1445.72 1026.44,1445.72 1046.52,1445.72 1026.44,1445.72 \n",
       "  \"/>\n",
       "<path clip-path=\"url(#clip452)\" d=\"\n",
       "M1046.52 1445.72 L1046.52 1445.72 L1066.6 1445.72 L1066.6 1445.72 L1046.52 1445.72 L1046.52 1445.72  Z\n",
       "  \" fill=\"#e26f46\" fill-rule=\"evenodd\" fill-opacity=\"1\"/>\n",
       "<polyline clip-path=\"url(#clip452)\" style=\"stroke:#000000; stroke-linecap:butt; stroke-linejoin:round; stroke-width:4; stroke-opacity:1; fill:none\" points=\"\n",
       "  1046.52,1445.72 1046.52,1445.72 1066.6,1445.72 1046.52,1445.72 \n",
       "  \"/>\n",
       "<path clip-path=\"url(#clip452)\" d=\"\n",
       "M1066.6 1445.72 L1066.6 1445.72 L1086.68 1445.72 L1086.68 1445.72 L1066.6 1445.72 L1066.6 1445.72  Z\n",
       "  \" fill=\"#e26f46\" fill-rule=\"evenodd\" fill-opacity=\"1\"/>\n",
       "<polyline clip-path=\"url(#clip452)\" style=\"stroke:#000000; stroke-linecap:butt; stroke-linejoin:round; stroke-width:4; stroke-opacity:1; fill:none\" points=\"\n",
       "  1066.6,1445.72 1066.6,1445.72 1086.68,1445.72 1066.6,1445.72 \n",
       "  \"/>\n",
       "<path clip-path=\"url(#clip452)\" d=\"\n",
       "M1086.68 1445.72 L1086.68 1445.72 L1106.75 1445.72 L1106.75 1445.72 L1086.68 1445.72 L1086.68 1445.72  Z\n",
       "  \" fill=\"#e26f46\" fill-rule=\"evenodd\" fill-opacity=\"1\"/>\n",
       "<polyline clip-path=\"url(#clip452)\" style=\"stroke:#000000; stroke-linecap:butt; stroke-linejoin:round; stroke-width:4; stroke-opacity:1; fill:none\" points=\"\n",
       "  1086.68,1445.72 1086.68,1445.72 1106.75,1445.72 1086.68,1445.72 \n",
       "  \"/>\n",
       "<path clip-path=\"url(#clip452)\" d=\"\n",
       "M1106.75 1445.72 L1106.75 1445.72 L1126.83 1445.72 L1126.83 1445.72 L1106.75 1445.72 L1106.75 1445.72  Z\n",
       "  \" fill=\"#e26f46\" fill-rule=\"evenodd\" fill-opacity=\"1\"/>\n",
       "<polyline clip-path=\"url(#clip452)\" style=\"stroke:#000000; stroke-linecap:butt; stroke-linejoin:round; stroke-width:4; stroke-opacity:1; fill:none\" points=\"\n",
       "  1106.75,1445.72 1106.75,1445.72 1126.83,1445.72 1106.75,1445.72 \n",
       "  \"/>\n",
       "<path clip-path=\"url(#clip452)\" d=\"\n",
       "M1126.83 1445.72 L1126.83 1445.72 L1146.91 1445.72 L1146.91 1445.72 L1126.83 1445.72 L1126.83 1445.72  Z\n",
       "  \" fill=\"#e26f46\" fill-rule=\"evenodd\" fill-opacity=\"1\"/>\n",
       "<polyline clip-path=\"url(#clip452)\" style=\"stroke:#000000; stroke-linecap:butt; stroke-linejoin:round; stroke-width:4; stroke-opacity:1; fill:none\" points=\"\n",
       "  1126.83,1445.72 1126.83,1445.72 1146.91,1445.72 1126.83,1445.72 \n",
       "  \"/>\n",
       "<path clip-path=\"url(#clip452)\" d=\"\n",
       "M1146.91 1445.72 L1146.91 1445.72 L1166.99 1445.72 L1166.99 1445.72 L1146.91 1445.72 L1146.91 1445.72  Z\n",
       "  \" fill=\"#e26f46\" fill-rule=\"evenodd\" fill-opacity=\"1\"/>\n",
       "<polyline clip-path=\"url(#clip452)\" style=\"stroke:#000000; stroke-linecap:butt; stroke-linejoin:round; stroke-width:4; stroke-opacity:1; fill:none\" points=\"\n",
       "  1146.91,1445.72 1146.91,1445.72 1166.99,1445.72 1146.91,1445.72 \n",
       "  \"/>\n",
       "<path clip-path=\"url(#clip452)\" d=\"\n",
       "M1166.99 1429.55 L1166.99 1445.72 L1187.07 1445.72 L1187.07 1429.55 L1166.99 1429.55 L1166.99 1429.55  Z\n",
       "  \" fill=\"#e26f46\" fill-rule=\"evenodd\" fill-opacity=\"1\"/>\n",
       "<polyline clip-path=\"url(#clip452)\" style=\"stroke:#000000; stroke-linecap:butt; stroke-linejoin:round; stroke-width:4; stroke-opacity:1; fill:none\" points=\"\n",
       "  1166.99,1429.55 1166.99,1445.72 1187.07,1445.72 1187.07,1429.55 1166.99,1429.55 \n",
       "  \"/>\n",
       "<path clip-path=\"url(#clip452)\" d=\"\n",
       "M1187.07 1445.72 L1187.07 1445.72 L1207.15 1445.72 L1207.15 1445.72 L1187.07 1445.72 L1187.07 1445.72  Z\n",
       "  \" fill=\"#e26f46\" fill-rule=\"evenodd\" fill-opacity=\"1\"/>\n",
       "<polyline clip-path=\"url(#clip452)\" style=\"stroke:#000000; stroke-linecap:butt; stroke-linejoin:round; stroke-width:4; stroke-opacity:1; fill:none\" points=\"\n",
       "  1187.07,1445.72 1187.07,1445.72 1207.15,1445.72 1187.07,1445.72 \n",
       "  \"/>\n",
       "<path clip-path=\"url(#clip452)\" d=\"\n",
       "M1207.15 1445.72 L1207.15 1445.72 L1227.23 1445.72 L1227.23 1445.72 L1207.15 1445.72 L1207.15 1445.72  Z\n",
       "  \" fill=\"#e26f46\" fill-rule=\"evenodd\" fill-opacity=\"1\"/>\n",
       "<polyline clip-path=\"url(#clip452)\" style=\"stroke:#000000; stroke-linecap:butt; stroke-linejoin:round; stroke-width:4; stroke-opacity:1; fill:none\" points=\"\n",
       "  1207.15,1445.72 1207.15,1445.72 1227.23,1445.72 1207.15,1445.72 \n",
       "  \"/>\n",
       "<path clip-path=\"url(#clip452)\" d=\"\n",
       "M1227.23 1445.72 L1227.23 1445.72 L1247.3 1445.72 L1247.3 1445.72 L1227.23 1445.72 L1227.23 1445.72  Z\n",
       "  \" fill=\"#e26f46\" fill-rule=\"evenodd\" fill-opacity=\"1\"/>\n",
       "<polyline clip-path=\"url(#clip452)\" style=\"stroke:#000000; stroke-linecap:butt; stroke-linejoin:round; stroke-width:4; stroke-opacity:1; fill:none\" points=\"\n",
       "  1227.23,1445.72 1227.23,1445.72 1247.3,1445.72 1227.23,1445.72 \n",
       "  \"/>\n",
       "<path clip-path=\"url(#clip452)\" d=\"\n",
       "M1247.3 1445.72 L1247.3 1445.72 L1267.38 1445.72 L1267.38 1445.72 L1247.3 1445.72 L1247.3 1445.72  Z\n",
       "  \" fill=\"#e26f46\" fill-rule=\"evenodd\" fill-opacity=\"1\"/>\n",
       "<polyline clip-path=\"url(#clip452)\" style=\"stroke:#000000; stroke-linecap:butt; stroke-linejoin:round; stroke-width:4; stroke-opacity:1; fill:none\" points=\"\n",
       "  1247.3,1445.72 1247.3,1445.72 1267.38,1445.72 1247.3,1445.72 \n",
       "  \"/>\n",
       "<path clip-path=\"url(#clip452)\" d=\"\n",
       "M1267.38 1445.72 L1267.38 1445.72 L1287.46 1445.72 L1287.46 1445.72 L1267.38 1445.72 L1267.38 1445.72  Z\n",
       "  \" fill=\"#e26f46\" fill-rule=\"evenodd\" fill-opacity=\"1\"/>\n",
       "<polyline clip-path=\"url(#clip452)\" style=\"stroke:#000000; stroke-linecap:butt; stroke-linejoin:round; stroke-width:4; stroke-opacity:1; fill:none\" points=\"\n",
       "  1267.38,1445.72 1267.38,1445.72 1287.46,1445.72 1267.38,1445.72 \n",
       "  \"/>\n",
       "<path clip-path=\"url(#clip452)\" d=\"\n",
       "M1287.46 1445.72 L1287.46 1445.72 L1307.54 1445.72 L1307.54 1445.72 L1287.46 1445.72 L1287.46 1445.72  Z\n",
       "  \" fill=\"#e26f46\" fill-rule=\"evenodd\" fill-opacity=\"1\"/>\n",
       "<polyline clip-path=\"url(#clip452)\" style=\"stroke:#000000; stroke-linecap:butt; stroke-linejoin:round; stroke-width:4; stroke-opacity:1; fill:none\" points=\"\n",
       "  1287.46,1445.72 1287.46,1445.72 1307.54,1445.72 1287.46,1445.72 \n",
       "  \"/>\n",
       "<path clip-path=\"url(#clip452)\" d=\"\n",
       "M1307.54 1445.72 L1307.54 1445.72 L1327.62 1445.72 L1327.62 1445.72 L1307.54 1445.72 L1307.54 1445.72  Z\n",
       "  \" fill=\"#e26f46\" fill-rule=\"evenodd\" fill-opacity=\"1\"/>\n",
       "<polyline clip-path=\"url(#clip452)\" style=\"stroke:#000000; stroke-linecap:butt; stroke-linejoin:round; stroke-width:4; stroke-opacity:1; fill:none\" points=\"\n",
       "  1307.54,1445.72 1307.54,1445.72 1327.62,1445.72 1307.54,1445.72 \n",
       "  \"/>\n",
       "<path clip-path=\"url(#clip452)\" d=\"\n",
       "M1327.62 1445.72 L1327.62 1445.72 L1347.7 1445.72 L1347.7 1445.72 L1327.62 1445.72 L1327.62 1445.72  Z\n",
       "  \" fill=\"#e26f46\" fill-rule=\"evenodd\" fill-opacity=\"1\"/>\n",
       "<polyline clip-path=\"url(#clip452)\" style=\"stroke:#000000; stroke-linecap:butt; stroke-linejoin:round; stroke-width:4; stroke-opacity:1; fill:none\" points=\"\n",
       "  1327.62,1445.72 1327.62,1445.72 1347.7,1445.72 1327.62,1445.72 \n",
       "  \"/>\n",
       "<path clip-path=\"url(#clip452)\" d=\"\n",
       "M1347.7 1445.72 L1347.7 1445.72 L1367.78 1445.72 L1367.78 1445.72 L1347.7 1445.72 L1347.7 1445.72  Z\n",
       "  \" fill=\"#e26f46\" fill-rule=\"evenodd\" fill-opacity=\"1\"/>\n",
       "<polyline clip-path=\"url(#clip452)\" style=\"stroke:#000000; stroke-linecap:butt; stroke-linejoin:round; stroke-width:4; stroke-opacity:1; fill:none\" points=\"\n",
       "  1347.7,1445.72 1347.7,1445.72 1367.78,1445.72 1347.7,1445.72 \n",
       "  \"/>\n",
       "<path clip-path=\"url(#clip452)\" d=\"\n",
       "M1367.78 1445.72 L1367.78 1445.72 L1387.85 1445.72 L1387.85 1445.72 L1367.78 1445.72 L1367.78 1445.72  Z\n",
       "  \" fill=\"#e26f46\" fill-rule=\"evenodd\" fill-opacity=\"1\"/>\n",
       "<polyline clip-path=\"url(#clip452)\" style=\"stroke:#000000; stroke-linecap:butt; stroke-linejoin:round; stroke-width:4; stroke-opacity:1; fill:none\" points=\"\n",
       "  1367.78,1445.72 1367.78,1445.72 1387.85,1445.72 1367.78,1445.72 \n",
       "  \"/>\n",
       "<path clip-path=\"url(#clip452)\" d=\"\n",
       "M1387.85 1445.72 L1387.85 1445.72 L1407.93 1445.72 L1407.93 1445.72 L1387.85 1445.72 L1387.85 1445.72  Z\n",
       "  \" fill=\"#e26f46\" fill-rule=\"evenodd\" fill-opacity=\"1\"/>\n",
       "<polyline clip-path=\"url(#clip452)\" style=\"stroke:#000000; stroke-linecap:butt; stroke-linejoin:round; stroke-width:4; stroke-opacity:1; fill:none\" points=\"\n",
       "  1387.85,1445.72 1387.85,1445.72 1407.93,1445.72 1387.85,1445.72 \n",
       "  \"/>\n",
       "<path clip-path=\"url(#clip452)\" d=\"\n",
       "M1407.93 1445.72 L1407.93 1445.72 L1428.01 1445.72 L1428.01 1445.72 L1407.93 1445.72 L1407.93 1445.72  Z\n",
       "  \" fill=\"#e26f46\" fill-rule=\"evenodd\" fill-opacity=\"1\"/>\n",
       "<polyline clip-path=\"url(#clip452)\" style=\"stroke:#000000; stroke-linecap:butt; stroke-linejoin:round; stroke-width:4; stroke-opacity:1; fill:none\" points=\"\n",
       "  1407.93,1445.72 1407.93,1445.72 1428.01,1445.72 1407.93,1445.72 \n",
       "  \"/>\n",
       "<path clip-path=\"url(#clip452)\" d=\"\n",
       "M1428.01 1445.72 L1428.01 1445.72 L1448.09 1445.72 L1448.09 1445.72 L1428.01 1445.72 L1428.01 1445.72  Z\n",
       "  \" fill=\"#e26f46\" fill-rule=\"evenodd\" fill-opacity=\"1\"/>\n",
       "<polyline clip-path=\"url(#clip452)\" style=\"stroke:#000000; stroke-linecap:butt; stroke-linejoin:round; stroke-width:4; stroke-opacity:1; fill:none\" points=\"\n",
       "  1428.01,1445.72 1428.01,1445.72 1448.09,1445.72 1428.01,1445.72 \n",
       "  \"/>\n",
       "<path clip-path=\"url(#clip452)\" d=\"\n",
       "M1448.09 1445.72 L1448.09 1445.72 L1468.17 1445.72 L1468.17 1445.72 L1448.09 1445.72 L1448.09 1445.72  Z\n",
       "  \" fill=\"#e26f46\" fill-rule=\"evenodd\" fill-opacity=\"1\"/>\n",
       "<polyline clip-path=\"url(#clip452)\" style=\"stroke:#000000; stroke-linecap:butt; stroke-linejoin:round; stroke-width:4; stroke-opacity:1; fill:none\" points=\"\n",
       "  1448.09,1445.72 1448.09,1445.72 1468.17,1445.72 1448.09,1445.72 \n",
       "  \"/>\n",
       "<path clip-path=\"url(#clip452)\" d=\"\n",
       "M1468.17 1445.72 L1468.17 1445.72 L1488.25 1445.72 L1488.25 1445.72 L1468.17 1445.72 L1468.17 1445.72  Z\n",
       "  \" fill=\"#e26f46\" fill-rule=\"evenodd\" fill-opacity=\"1\"/>\n",
       "<polyline clip-path=\"url(#clip452)\" style=\"stroke:#000000; stroke-linecap:butt; stroke-linejoin:round; stroke-width:4; stroke-opacity:1; fill:none\" points=\"\n",
       "  1468.17,1445.72 1468.17,1445.72 1488.25,1445.72 1468.17,1445.72 \n",
       "  \"/>\n",
       "<path clip-path=\"url(#clip452)\" d=\"\n",
       "M1488.25 1445.72 L1488.25 1445.72 L1508.33 1445.72 L1508.33 1445.72 L1488.25 1445.72 L1488.25 1445.72  Z\n",
       "  \" fill=\"#e26f46\" fill-rule=\"evenodd\" fill-opacity=\"1\"/>\n",
       "<polyline clip-path=\"url(#clip452)\" style=\"stroke:#000000; stroke-linecap:butt; stroke-linejoin:round; stroke-width:4; stroke-opacity:1; fill:none\" points=\"\n",
       "  1488.25,1445.72 1488.25,1445.72 1508.33,1445.72 1488.25,1445.72 \n",
       "  \"/>\n",
       "<path clip-path=\"url(#clip452)\" d=\"\n",
       "M1508.33 1445.72 L1508.33 1445.72 L1528.4 1445.72 L1528.4 1445.72 L1508.33 1445.72 L1508.33 1445.72  Z\n",
       "  \" fill=\"#e26f46\" fill-rule=\"evenodd\" fill-opacity=\"1\"/>\n",
       "<polyline clip-path=\"url(#clip452)\" style=\"stroke:#000000; stroke-linecap:butt; stroke-linejoin:round; stroke-width:4; stroke-opacity:1; fill:none\" points=\"\n",
       "  1508.33,1445.72 1508.33,1445.72 1528.4,1445.72 1508.33,1445.72 \n",
       "  \"/>\n",
       "<path clip-path=\"url(#clip452)\" d=\"\n",
       "M1528.4 1445.72 L1528.4 1445.72 L1548.48 1445.72 L1548.48 1445.72 L1528.4 1445.72 L1528.4 1445.72  Z\n",
       "  \" fill=\"#e26f46\" fill-rule=\"evenodd\" fill-opacity=\"1\"/>\n",
       "<polyline clip-path=\"url(#clip452)\" style=\"stroke:#000000; stroke-linecap:butt; stroke-linejoin:round; stroke-width:4; stroke-opacity:1; fill:none\" points=\"\n",
       "  1528.4,1445.72 1528.4,1445.72 1548.48,1445.72 1528.4,1445.72 \n",
       "  \"/>\n",
       "<path clip-path=\"url(#clip452)\" d=\"\n",
       "M1548.48 1445.72 L1548.48 1445.72 L1568.56 1445.72 L1568.56 1445.72 L1548.48 1445.72 L1548.48 1445.72  Z\n",
       "  \" fill=\"#e26f46\" fill-rule=\"evenodd\" fill-opacity=\"1\"/>\n",
       "<polyline clip-path=\"url(#clip452)\" style=\"stroke:#000000; stroke-linecap:butt; stroke-linejoin:round; stroke-width:4; stroke-opacity:1; fill:none\" points=\"\n",
       "  1548.48,1445.72 1548.48,1445.72 1568.56,1445.72 1548.48,1445.72 \n",
       "  \"/>\n",
       "<path clip-path=\"url(#clip452)\" d=\"\n",
       "M1568.56 1445.72 L1568.56 1445.72 L1588.64 1445.72 L1588.64 1445.72 L1568.56 1445.72 L1568.56 1445.72  Z\n",
       "  \" fill=\"#e26f46\" fill-rule=\"evenodd\" fill-opacity=\"1\"/>\n",
       "<polyline clip-path=\"url(#clip452)\" style=\"stroke:#000000; stroke-linecap:butt; stroke-linejoin:round; stroke-width:4; stroke-opacity:1; fill:none\" points=\"\n",
       "  1568.56,1445.72 1568.56,1445.72 1588.64,1445.72 1568.56,1445.72 \n",
       "  \"/>\n",
       "<path clip-path=\"url(#clip452)\" d=\"\n",
       "M1588.64 1445.72 L1588.64 1445.72 L1608.72 1445.72 L1608.72 1445.72 L1588.64 1445.72 L1588.64 1445.72  Z\n",
       "  \" fill=\"#e26f46\" fill-rule=\"evenodd\" fill-opacity=\"1\"/>\n",
       "<polyline clip-path=\"url(#clip452)\" style=\"stroke:#000000; stroke-linecap:butt; stroke-linejoin:round; stroke-width:4; stroke-opacity:1; fill:none\" points=\"\n",
       "  1588.64,1445.72 1588.64,1445.72 1608.72,1445.72 1588.64,1445.72 \n",
       "  \"/>\n",
       "<path clip-path=\"url(#clip452)\" d=\"\n",
       "M1608.72 1445.72 L1608.72 1445.72 L1628.8 1445.72 L1628.8 1445.72 L1608.72 1445.72 L1608.72 1445.72  Z\n",
       "  \" fill=\"#e26f46\" fill-rule=\"evenodd\" fill-opacity=\"1\"/>\n",
       "<polyline clip-path=\"url(#clip452)\" style=\"stroke:#000000; stroke-linecap:butt; stroke-linejoin:round; stroke-width:4; stroke-opacity:1; fill:none\" points=\"\n",
       "  1608.72,1445.72 1608.72,1445.72 1628.8,1445.72 1608.72,1445.72 \n",
       "  \"/>\n",
       "<path clip-path=\"url(#clip452)\" d=\"\n",
       "M1628.8 1445.72 L1628.8 1445.72 L1648.87 1445.72 L1648.87 1445.72 L1628.8 1445.72 L1628.8 1445.72  Z\n",
       "  \" fill=\"#e26f46\" fill-rule=\"evenodd\" fill-opacity=\"1\"/>\n",
       "<polyline clip-path=\"url(#clip452)\" style=\"stroke:#000000; stroke-linecap:butt; stroke-linejoin:round; stroke-width:4; stroke-opacity:1; fill:none\" points=\"\n",
       "  1628.8,1445.72 1628.8,1445.72 1648.87,1445.72 1628.8,1445.72 \n",
       "  \"/>\n",
       "<path clip-path=\"url(#clip452)\" d=\"\n",
       "M1648.87 1445.72 L1648.87 1445.72 L1668.95 1445.72 L1668.95 1445.72 L1648.87 1445.72 L1648.87 1445.72  Z\n",
       "  \" fill=\"#e26f46\" fill-rule=\"evenodd\" fill-opacity=\"1\"/>\n",
       "<polyline clip-path=\"url(#clip452)\" style=\"stroke:#000000; stroke-linecap:butt; stroke-linejoin:round; stroke-width:4; stroke-opacity:1; fill:none\" points=\"\n",
       "  1648.87,1445.72 1648.87,1445.72 1668.95,1445.72 1648.87,1445.72 \n",
       "  \"/>\n",
       "<path clip-path=\"url(#clip452)\" d=\"\n",
       "M1668.95 1413.39 L1668.95 1445.72 L1689.03 1445.72 L1689.03 1413.39 L1668.95 1413.39 L1668.95 1413.39  Z\n",
       "  \" fill=\"#e26f46\" fill-rule=\"evenodd\" fill-opacity=\"1\"/>\n",
       "<polyline clip-path=\"url(#clip452)\" style=\"stroke:#000000; stroke-linecap:butt; stroke-linejoin:round; stroke-width:4; stroke-opacity:1; fill:none\" points=\"\n",
       "  1668.95,1413.39 1668.95,1445.72 1689.03,1445.72 1689.03,1413.39 1668.95,1413.39 \n",
       "  \"/>\n",
       "<path clip-path=\"url(#clip452)\" d=\"\n",
       "M1689.03 1429.55 L1689.03 1445.72 L1709.11 1445.72 L1709.11 1429.55 L1689.03 1429.55 L1689.03 1429.55  Z\n",
       "  \" fill=\"#e26f46\" fill-rule=\"evenodd\" fill-opacity=\"1\"/>\n",
       "<polyline clip-path=\"url(#clip452)\" style=\"stroke:#000000; stroke-linecap:butt; stroke-linejoin:round; stroke-width:4; stroke-opacity:1; fill:none\" points=\"\n",
       "  1689.03,1429.55 1689.03,1445.72 1709.11,1445.72 1709.11,1429.55 1689.03,1429.55 \n",
       "  \"/>\n",
       "<path clip-path=\"url(#clip452)\" d=\"\n",
       "M1709.11 1445.72 L1709.11 1445.72 L1729.19 1445.72 L1729.19 1445.72 L1709.11 1445.72 L1709.11 1445.72  Z\n",
       "  \" fill=\"#e26f46\" fill-rule=\"evenodd\" fill-opacity=\"1\"/>\n",
       "<polyline clip-path=\"url(#clip452)\" style=\"stroke:#000000; stroke-linecap:butt; stroke-linejoin:round; stroke-width:4; stroke-opacity:1; fill:none\" points=\"\n",
       "  1709.11,1445.72 1709.11,1445.72 1729.19,1445.72 1709.11,1445.72 \n",
       "  \"/>\n",
       "<path clip-path=\"url(#clip452)\" d=\"\n",
       "M1729.19 1445.72 L1729.19 1445.72 L1749.27 1445.72 L1749.27 1445.72 L1729.19 1445.72 L1729.19 1445.72  Z\n",
       "  \" fill=\"#e26f46\" fill-rule=\"evenodd\" fill-opacity=\"1\"/>\n",
       "<polyline clip-path=\"url(#clip452)\" style=\"stroke:#000000; stroke-linecap:butt; stroke-linejoin:round; stroke-width:4; stroke-opacity:1; fill:none\" points=\"\n",
       "  1729.19,1445.72 1729.19,1445.72 1749.27,1445.72 1729.19,1445.72 \n",
       "  \"/>\n",
       "<path clip-path=\"url(#clip452)\" d=\"\n",
       "M1749.27 1445.72 L1749.27 1445.72 L1769.35 1445.72 L1769.35 1445.72 L1749.27 1445.72 L1749.27 1445.72  Z\n",
       "  \" fill=\"#e26f46\" fill-rule=\"evenodd\" fill-opacity=\"1\"/>\n",
       "<polyline clip-path=\"url(#clip452)\" style=\"stroke:#000000; stroke-linecap:butt; stroke-linejoin:round; stroke-width:4; stroke-opacity:1; fill:none\" points=\"\n",
       "  1749.27,1445.72 1749.27,1445.72 1769.35,1445.72 1749.27,1445.72 \n",
       "  \"/>\n",
       "<path clip-path=\"url(#clip452)\" d=\"\n",
       "M1769.35 1445.72 L1769.35 1445.72 L1789.42 1445.72 L1789.42 1445.72 L1769.35 1445.72 L1769.35 1445.72  Z\n",
       "  \" fill=\"#e26f46\" fill-rule=\"evenodd\" fill-opacity=\"1\"/>\n",
       "<polyline clip-path=\"url(#clip452)\" style=\"stroke:#000000; stroke-linecap:butt; stroke-linejoin:round; stroke-width:4; stroke-opacity:1; fill:none\" points=\"\n",
       "  1769.35,1445.72 1769.35,1445.72 1789.42,1445.72 1769.35,1445.72 \n",
       "  \"/>\n",
       "<path clip-path=\"url(#clip452)\" d=\"\n",
       "M1789.42 1445.72 L1789.42 1445.72 L1809.5 1445.72 L1809.5 1445.72 L1789.42 1445.72 L1789.42 1445.72  Z\n",
       "  \" fill=\"#e26f46\" fill-rule=\"evenodd\" fill-opacity=\"1\"/>\n",
       "<polyline clip-path=\"url(#clip452)\" style=\"stroke:#000000; stroke-linecap:butt; stroke-linejoin:round; stroke-width:4; stroke-opacity:1; fill:none\" points=\"\n",
       "  1789.42,1445.72 1789.42,1445.72 1809.5,1445.72 1789.42,1445.72 \n",
       "  \"/>\n",
       "<path clip-path=\"url(#clip452)\" d=\"\n",
       "M1809.5 1445.72 L1809.5 1445.72 L1829.58 1445.72 L1829.58 1445.72 L1809.5 1445.72 L1809.5 1445.72  Z\n",
       "  \" fill=\"#e26f46\" fill-rule=\"evenodd\" fill-opacity=\"1\"/>\n",
       "<polyline clip-path=\"url(#clip452)\" style=\"stroke:#000000; stroke-linecap:butt; stroke-linejoin:round; stroke-width:4; stroke-opacity:1; fill:none\" points=\"\n",
       "  1809.5,1445.72 1809.5,1445.72 1829.58,1445.72 1809.5,1445.72 \n",
       "  \"/>\n",
       "<path clip-path=\"url(#clip452)\" d=\"\n",
       "M1829.58 1445.72 L1829.58 1445.72 L1849.66 1445.72 L1849.66 1445.72 L1829.58 1445.72 L1829.58 1445.72  Z\n",
       "  \" fill=\"#e26f46\" fill-rule=\"evenodd\" fill-opacity=\"1\"/>\n",
       "<polyline clip-path=\"url(#clip452)\" style=\"stroke:#000000; stroke-linecap:butt; stroke-linejoin:round; stroke-width:4; stroke-opacity:1; fill:none\" points=\"\n",
       "  1829.58,1445.72 1829.58,1445.72 1849.66,1445.72 1829.58,1445.72 \n",
       "  \"/>\n",
       "<path clip-path=\"url(#clip452)\" d=\"\n",
       "M1849.66 1445.72 L1849.66 1445.72 L1869.74 1445.72 L1869.74 1445.72 L1849.66 1445.72 L1849.66 1445.72  Z\n",
       "  \" fill=\"#e26f46\" fill-rule=\"evenodd\" fill-opacity=\"1\"/>\n",
       "<polyline clip-path=\"url(#clip452)\" style=\"stroke:#000000; stroke-linecap:butt; stroke-linejoin:round; stroke-width:4; stroke-opacity:1; fill:none\" points=\"\n",
       "  1849.66,1445.72 1849.66,1445.72 1869.74,1445.72 1849.66,1445.72 \n",
       "  \"/>\n",
       "<path clip-path=\"url(#clip452)\" d=\"\n",
       "M1869.74 1445.72 L1869.74 1445.72 L1889.82 1445.72 L1889.82 1445.72 L1869.74 1445.72 L1869.74 1445.72  Z\n",
       "  \" fill=\"#e26f46\" fill-rule=\"evenodd\" fill-opacity=\"1\"/>\n",
       "<polyline clip-path=\"url(#clip452)\" style=\"stroke:#000000; stroke-linecap:butt; stroke-linejoin:round; stroke-width:4; stroke-opacity:1; fill:none\" points=\"\n",
       "  1869.74,1445.72 1869.74,1445.72 1889.82,1445.72 1869.74,1445.72 \n",
       "  \"/>\n",
       "<path clip-path=\"url(#clip452)\" d=\"\n",
       "M1889.82 1445.72 L1889.82 1445.72 L1909.9 1445.72 L1909.9 1445.72 L1889.82 1445.72 L1889.82 1445.72  Z\n",
       "  \" fill=\"#e26f46\" fill-rule=\"evenodd\" fill-opacity=\"1\"/>\n",
       "<polyline clip-path=\"url(#clip452)\" style=\"stroke:#000000; stroke-linecap:butt; stroke-linejoin:round; stroke-width:4; stroke-opacity:1; fill:none\" points=\"\n",
       "  1889.82,1445.72 1889.82,1445.72 1909.9,1445.72 1889.82,1445.72 \n",
       "  \"/>\n",
       "<path clip-path=\"url(#clip452)\" d=\"\n",
       "M1909.9 1445.72 L1909.9 1445.72 L1929.97 1445.72 L1929.97 1445.72 L1909.9 1445.72 L1909.9 1445.72  Z\n",
       "  \" fill=\"#e26f46\" fill-rule=\"evenodd\" fill-opacity=\"1\"/>\n",
       "<polyline clip-path=\"url(#clip452)\" style=\"stroke:#000000; stroke-linecap:butt; stroke-linejoin:round; stroke-width:4; stroke-opacity:1; fill:none\" points=\"\n",
       "  1909.9,1445.72 1909.9,1445.72 1929.97,1445.72 1909.9,1445.72 \n",
       "  \"/>\n",
       "<path clip-path=\"url(#clip452)\" d=\"\n",
       "M1929.97 1445.72 L1929.97 1445.72 L1950.05 1445.72 L1950.05 1445.72 L1929.97 1445.72 L1929.97 1445.72  Z\n",
       "  \" fill=\"#e26f46\" fill-rule=\"evenodd\" fill-opacity=\"1\"/>\n",
       "<polyline clip-path=\"url(#clip452)\" style=\"stroke:#000000; stroke-linecap:butt; stroke-linejoin:round; stroke-width:4; stroke-opacity:1; fill:none\" points=\"\n",
       "  1929.97,1445.72 1929.97,1445.72 1950.05,1445.72 1929.97,1445.72 \n",
       "  \"/>\n",
       "<path clip-path=\"url(#clip452)\" d=\"\n",
       "M1950.05 1445.72 L1950.05 1445.72 L1970.13 1445.72 L1970.13 1445.72 L1950.05 1445.72 L1950.05 1445.72  Z\n",
       "  \" fill=\"#e26f46\" fill-rule=\"evenodd\" fill-opacity=\"1\"/>\n",
       "<polyline clip-path=\"url(#clip452)\" style=\"stroke:#000000; stroke-linecap:butt; stroke-linejoin:round; stroke-width:4; stroke-opacity:1; fill:none\" points=\"\n",
       "  1950.05,1445.72 1950.05,1445.72 1970.13,1445.72 1950.05,1445.72 \n",
       "  \"/>\n",
       "<path clip-path=\"url(#clip452)\" d=\"\n",
       "M1970.13 1445.72 L1970.13 1445.72 L1990.21 1445.72 L1990.21 1445.72 L1970.13 1445.72 L1970.13 1445.72  Z\n",
       "  \" fill=\"#e26f46\" fill-rule=\"evenodd\" fill-opacity=\"1\"/>\n",
       "<polyline clip-path=\"url(#clip452)\" style=\"stroke:#000000; stroke-linecap:butt; stroke-linejoin:round; stroke-width:4; stroke-opacity:1; fill:none\" points=\"\n",
       "  1970.13,1445.72 1970.13,1445.72 1990.21,1445.72 1970.13,1445.72 \n",
       "  \"/>\n",
       "<path clip-path=\"url(#clip452)\" d=\"\n",
       "M1990.21 1445.72 L1990.21 1445.72 L2010.29 1445.72 L2010.29 1445.72 L1990.21 1445.72 L1990.21 1445.72  Z\n",
       "  \" fill=\"#e26f46\" fill-rule=\"evenodd\" fill-opacity=\"1\"/>\n",
       "<polyline clip-path=\"url(#clip452)\" style=\"stroke:#000000; stroke-linecap:butt; stroke-linejoin:round; stroke-width:4; stroke-opacity:1; fill:none\" points=\"\n",
       "  1990.21,1445.72 1990.21,1445.72 2010.29,1445.72 1990.21,1445.72 \n",
       "  \"/>\n",
       "<path clip-path=\"url(#clip452)\" d=\"\n",
       "M2010.29 1445.72 L2010.29 1445.72 L2030.37 1445.72 L2030.37 1445.72 L2010.29 1445.72 L2010.29 1445.72  Z\n",
       "  \" fill=\"#e26f46\" fill-rule=\"evenodd\" fill-opacity=\"1\"/>\n",
       "<polyline clip-path=\"url(#clip452)\" style=\"stroke:#000000; stroke-linecap:butt; stroke-linejoin:round; stroke-width:4; stroke-opacity:1; fill:none\" points=\"\n",
       "  2010.29,1445.72 2010.29,1445.72 2030.37,1445.72 2010.29,1445.72 \n",
       "  \"/>\n",
       "<path clip-path=\"url(#clip452)\" d=\"\n",
       "M2030.37 1445.72 L2030.37 1445.72 L2050.45 1445.72 L2050.45 1445.72 L2030.37 1445.72 L2030.37 1445.72  Z\n",
       "  \" fill=\"#e26f46\" fill-rule=\"evenodd\" fill-opacity=\"1\"/>\n",
       "<polyline clip-path=\"url(#clip452)\" style=\"stroke:#000000; stroke-linecap:butt; stroke-linejoin:round; stroke-width:4; stroke-opacity:1; fill:none\" points=\"\n",
       "  2030.37,1445.72 2030.37,1445.72 2050.45,1445.72 2030.37,1445.72 \n",
       "  \"/>\n",
       "<path clip-path=\"url(#clip452)\" d=\"\n",
       "M2050.45 1445.72 L2050.45 1445.72 L2070.52 1445.72 L2070.52 1445.72 L2050.45 1445.72 L2050.45 1445.72  Z\n",
       "  \" fill=\"#e26f46\" fill-rule=\"evenodd\" fill-opacity=\"1\"/>\n",
       "<polyline clip-path=\"url(#clip452)\" style=\"stroke:#000000; stroke-linecap:butt; stroke-linejoin:round; stroke-width:4; stroke-opacity:1; fill:none\" points=\"\n",
       "  2050.45,1445.72 2050.45,1445.72 2070.52,1445.72 2050.45,1445.72 \n",
       "  \"/>\n",
       "<path clip-path=\"url(#clip452)\" d=\"\n",
       "M2070.52 1445.72 L2070.52 1445.72 L2090.6 1445.72 L2090.6 1445.72 L2070.52 1445.72 L2070.52 1445.72  Z\n",
       "  \" fill=\"#e26f46\" fill-rule=\"evenodd\" fill-opacity=\"1\"/>\n",
       "<polyline clip-path=\"url(#clip452)\" style=\"stroke:#000000; stroke-linecap:butt; stroke-linejoin:round; stroke-width:4; stroke-opacity:1; fill:none\" points=\"\n",
       "  2070.52,1445.72 2070.52,1445.72 2090.6,1445.72 2070.52,1445.72 \n",
       "  \"/>\n",
       "<path clip-path=\"url(#clip452)\" d=\"\n",
       "M2090.6 1445.72 L2090.6 1445.72 L2110.68 1445.72 L2110.68 1445.72 L2090.6 1445.72 L2090.6 1445.72  Z\n",
       "  \" fill=\"#e26f46\" fill-rule=\"evenodd\" fill-opacity=\"1\"/>\n",
       "<polyline clip-path=\"url(#clip452)\" style=\"stroke:#000000; stroke-linecap:butt; stroke-linejoin:round; stroke-width:4; stroke-opacity:1; fill:none\" points=\"\n",
       "  2090.6,1445.72 2090.6,1445.72 2110.68,1445.72 2090.6,1445.72 \n",
       "  \"/>\n",
       "<path clip-path=\"url(#clip452)\" d=\"\n",
       "M2110.68 1445.72 L2110.68 1445.72 L2130.76 1445.72 L2130.76 1445.72 L2110.68 1445.72 L2110.68 1445.72  Z\n",
       "  \" fill=\"#e26f46\" fill-rule=\"evenodd\" fill-opacity=\"1\"/>\n",
       "<polyline clip-path=\"url(#clip452)\" style=\"stroke:#000000; stroke-linecap:butt; stroke-linejoin:round; stroke-width:4; stroke-opacity:1; fill:none\" points=\"\n",
       "  2110.68,1445.72 2110.68,1445.72 2130.76,1445.72 2110.68,1445.72 \n",
       "  \"/>\n",
       "<path clip-path=\"url(#clip452)\" d=\"\n",
       "M2130.76 1445.72 L2130.76 1445.72 L2150.84 1445.72 L2150.84 1445.72 L2130.76 1445.72 L2130.76 1445.72  Z\n",
       "  \" fill=\"#e26f46\" fill-rule=\"evenodd\" fill-opacity=\"1\"/>\n",
       "<polyline clip-path=\"url(#clip452)\" style=\"stroke:#000000; stroke-linecap:butt; stroke-linejoin:round; stroke-width:4; stroke-opacity:1; fill:none\" points=\"\n",
       "  2130.76,1445.72 2130.76,1445.72 2150.84,1445.72 2130.76,1445.72 \n",
       "  \"/>\n",
       "<path clip-path=\"url(#clip452)\" d=\"\n",
       "M2150.84 1445.72 L2150.84 1445.72 L2170.92 1445.72 L2170.92 1445.72 L2150.84 1445.72 L2150.84 1445.72  Z\n",
       "  \" fill=\"#e26f46\" fill-rule=\"evenodd\" fill-opacity=\"1\"/>\n",
       "<polyline clip-path=\"url(#clip452)\" style=\"stroke:#000000; stroke-linecap:butt; stroke-linejoin:round; stroke-width:4; stroke-opacity:1; fill:none\" points=\"\n",
       "  2150.84,1445.72 2150.84,1445.72 2170.92,1445.72 2150.84,1445.72 \n",
       "  \"/>\n",
       "<path clip-path=\"url(#clip452)\" d=\"\n",
       "M2170.92 1445.72 L2170.92 1445.72 L2191 1445.72 L2191 1445.72 L2170.92 1445.72 L2170.92 1445.72  Z\n",
       "  \" fill=\"#e26f46\" fill-rule=\"evenodd\" fill-opacity=\"1\"/>\n",
       "<polyline clip-path=\"url(#clip452)\" style=\"stroke:#000000; stroke-linecap:butt; stroke-linejoin:round; stroke-width:4; stroke-opacity:1; fill:none\" points=\"\n",
       "  2170.92,1445.72 2170.92,1445.72 2191,1445.72 2170.92,1445.72 \n",
       "  \"/>\n",
       "<path clip-path=\"url(#clip452)\" d=\"\n",
       "M2191 1445.72 L2191 1445.72 L2211.07 1445.72 L2211.07 1445.72 L2191 1445.72 L2191 1445.72  Z\n",
       "  \" fill=\"#e26f46\" fill-rule=\"evenodd\" fill-opacity=\"1\"/>\n",
       "<polyline clip-path=\"url(#clip452)\" style=\"stroke:#000000; stroke-linecap:butt; stroke-linejoin:round; stroke-width:4; stroke-opacity:1; fill:none\" points=\"\n",
       "  2191,1445.72 2191,1445.72 2211.07,1445.72 2191,1445.72 \n",
       "  \"/>\n",
       "<path clip-path=\"url(#clip452)\" d=\"\n",
       "M2211.07 1429.55 L2211.07 1445.72 L2231.15 1445.72 L2231.15 1429.55 L2211.07 1429.55 L2211.07 1429.55  Z\n",
       "  \" fill=\"#e26f46\" fill-rule=\"evenodd\" fill-opacity=\"1\"/>\n",
       "<polyline clip-path=\"url(#clip452)\" style=\"stroke:#000000; stroke-linecap:butt; stroke-linejoin:round; stroke-width:4; stroke-opacity:1; fill:none\" points=\"\n",
       "  2211.07,1429.55 2211.07,1445.72 2231.15,1445.72 2231.15,1429.55 2211.07,1429.55 \n",
       "  \"/>\n",
       "<circle clip-path=\"url(#clip452)\" style=\"fill:#e26f46; stroke:none; fill-opacity:0\" cx=\"273.496\" cy=\"524.393\" r=\"2\"/>\n",
       "<circle clip-path=\"url(#clip452)\" style=\"fill:#e26f46; stroke:none; fill-opacity:0\" cx=\"293.574\" cy=\"1300.24\" r=\"2\"/>\n",
       "<circle clip-path=\"url(#clip452)\" style=\"fill:#e26f46; stroke:none; fill-opacity:0\" cx=\"313.653\" cy=\"1348.73\" r=\"2\"/>\n",
       "<circle clip-path=\"url(#clip452)\" style=\"fill:#e26f46; stroke:none; fill-opacity:0\" cx=\"333.731\" cy=\"1429.55\" r=\"2\"/>\n",
       "<circle clip-path=\"url(#clip452)\" style=\"fill:#e26f46; stroke:none; fill-opacity:0\" cx=\"353.81\" cy=\"1413.39\" r=\"2\"/>\n",
       "<circle clip-path=\"url(#clip452)\" style=\"fill:#e26f46; stroke:none; fill-opacity:0\" cx=\"373.888\" cy=\"1429.55\" r=\"2\"/>\n",
       "<circle clip-path=\"url(#clip452)\" style=\"fill:#e26f46; stroke:none; fill-opacity:0\" cx=\"393.967\" cy=\"1429.55\" r=\"2\"/>\n",
       "<circle clip-path=\"url(#clip452)\" style=\"fill:#e26f46; stroke:none; fill-opacity:0\" cx=\"414.046\" cy=\"1429.55\" r=\"2\"/>\n",
       "<circle clip-path=\"url(#clip452)\" style=\"fill:#e26f46; stroke:none; fill-opacity:0\" cx=\"434.124\" cy=\"1445.72\" r=\"2\"/>\n",
       "<circle clip-path=\"url(#clip452)\" style=\"fill:#e26f46; stroke:none; fill-opacity:0\" cx=\"454.203\" cy=\"1429.55\" r=\"2\"/>\n",
       "<circle clip-path=\"url(#clip452)\" style=\"fill:#e26f46; stroke:none; fill-opacity:0\" cx=\"474.281\" cy=\"1413.39\" r=\"2\"/>\n",
       "<circle clip-path=\"url(#clip452)\" style=\"fill:#e26f46; stroke:none; fill-opacity:0\" cx=\"494.36\" cy=\"1445.72\" r=\"2\"/>\n",
       "<circle clip-path=\"url(#clip452)\" style=\"fill:#e26f46; stroke:none; fill-opacity:0\" cx=\"514.438\" cy=\"1445.72\" r=\"2\"/>\n",
       "<circle clip-path=\"url(#clip452)\" style=\"fill:#e26f46; stroke:none; fill-opacity:0\" cx=\"534.517\" cy=\"1413.39\" r=\"2\"/>\n",
       "<circle clip-path=\"url(#clip452)\" style=\"fill:#e26f46; stroke:none; fill-opacity:0\" cx=\"554.595\" cy=\"1445.72\" r=\"2\"/>\n",
       "<circle clip-path=\"url(#clip452)\" style=\"fill:#e26f46; stroke:none; fill-opacity:0\" cx=\"574.674\" cy=\"1445.72\" r=\"2\"/>\n",
       "<circle clip-path=\"url(#clip452)\" style=\"fill:#e26f46; stroke:none; fill-opacity:0\" cx=\"594.752\" cy=\"1429.55\" r=\"2\"/>\n",
       "<circle clip-path=\"url(#clip452)\" style=\"fill:#e26f46; stroke:none; fill-opacity:0\" cx=\"614.831\" cy=\"1429.55\" r=\"2\"/>\n",
       "<circle clip-path=\"url(#clip452)\" style=\"fill:#e26f46; stroke:none; fill-opacity:0\" cx=\"634.909\" cy=\"1429.55\" r=\"2\"/>\n",
       "<circle clip-path=\"url(#clip452)\" style=\"fill:#e26f46; stroke:none; fill-opacity:0\" cx=\"654.988\" cy=\"1445.72\" r=\"2\"/>\n",
       "<circle clip-path=\"url(#clip452)\" style=\"fill:#e26f46; stroke:none; fill-opacity:0\" cx=\"675.066\" cy=\"1445.72\" r=\"2\"/>\n",
       "<circle clip-path=\"url(#clip452)\" style=\"fill:#e26f46; stroke:none; fill-opacity:0\" cx=\"695.145\" cy=\"1445.72\" r=\"2\"/>\n",
       "<circle clip-path=\"url(#clip452)\" style=\"fill:#e26f46; stroke:none; fill-opacity:0\" cx=\"715.223\" cy=\"1429.55\" r=\"2\"/>\n",
       "<circle clip-path=\"url(#clip452)\" style=\"fill:#e26f46; stroke:none; fill-opacity:0\" cx=\"735.302\" cy=\"1429.55\" r=\"2\"/>\n",
       "<circle clip-path=\"url(#clip452)\" style=\"fill:#e26f46; stroke:none; fill-opacity:0\" cx=\"755.38\" cy=\"1445.72\" r=\"2\"/>\n",
       "<circle clip-path=\"url(#clip452)\" style=\"fill:#e26f46; stroke:none; fill-opacity:0\" cx=\"775.459\" cy=\"1445.72\" r=\"2\"/>\n",
       "<circle clip-path=\"url(#clip452)\" style=\"fill:#e26f46; stroke:none; fill-opacity:0\" cx=\"795.538\" cy=\"1445.72\" r=\"2\"/>\n",
       "<circle clip-path=\"url(#clip452)\" style=\"fill:#e26f46; stroke:none; fill-opacity:0\" cx=\"815.616\" cy=\"1445.72\" r=\"2\"/>\n",
       "<circle clip-path=\"url(#clip452)\" style=\"fill:#e26f46; stroke:none; fill-opacity:0\" cx=\"835.695\" cy=\"1445.72\" r=\"2\"/>\n",
       "<circle clip-path=\"url(#clip452)\" style=\"fill:#e26f46; stroke:none; fill-opacity:0\" cx=\"855.773\" cy=\"1445.72\" r=\"2\"/>\n",
       "<circle clip-path=\"url(#clip452)\" style=\"fill:#e26f46; stroke:none; fill-opacity:0\" cx=\"875.852\" cy=\"1445.72\" r=\"2\"/>\n",
       "<circle clip-path=\"url(#clip452)\" style=\"fill:#e26f46; stroke:none; fill-opacity:0\" cx=\"895.93\" cy=\"1429.55\" r=\"2\"/>\n",
       "<circle clip-path=\"url(#clip452)\" style=\"fill:#e26f46; stroke:none; fill-opacity:0\" cx=\"916.009\" cy=\"1445.72\" r=\"2\"/>\n",
       "<circle clip-path=\"url(#clip452)\" style=\"fill:#e26f46; stroke:none; fill-opacity:0\" cx=\"936.087\" cy=\"1445.72\" r=\"2\"/>\n",
       "<circle clip-path=\"url(#clip452)\" style=\"fill:#e26f46; stroke:none; fill-opacity:0\" cx=\"956.166\" cy=\"1445.72\" r=\"2\"/>\n",
       "<circle clip-path=\"url(#clip452)\" style=\"fill:#e26f46; stroke:none; fill-opacity:0\" cx=\"976.244\" cy=\"1445.72\" r=\"2\"/>\n",
       "<circle clip-path=\"url(#clip452)\" style=\"fill:#e26f46; stroke:none; fill-opacity:0\" cx=\"996.323\" cy=\"1445.72\" r=\"2\"/>\n",
       "<circle clip-path=\"url(#clip452)\" style=\"fill:#e26f46; stroke:none; fill-opacity:0\" cx=\"1016.4\" cy=\"1445.72\" r=\"2\"/>\n",
       "<circle clip-path=\"url(#clip452)\" style=\"fill:#e26f46; stroke:none; fill-opacity:0\" cx=\"1036.48\" cy=\"1445.72\" r=\"2\"/>\n",
       "<circle clip-path=\"url(#clip452)\" style=\"fill:#e26f46; stroke:none; fill-opacity:0\" cx=\"1056.56\" cy=\"1445.72\" r=\"2\"/>\n",
       "<circle clip-path=\"url(#clip452)\" style=\"fill:#e26f46; stroke:none; fill-opacity:0\" cx=\"1076.64\" cy=\"1445.72\" r=\"2\"/>\n",
       "<circle clip-path=\"url(#clip452)\" style=\"fill:#e26f46; stroke:none; fill-opacity:0\" cx=\"1096.72\" cy=\"1445.72\" r=\"2\"/>\n",
       "<circle clip-path=\"url(#clip452)\" style=\"fill:#e26f46; stroke:none; fill-opacity:0\" cx=\"1116.79\" cy=\"1445.72\" r=\"2\"/>\n",
       "<circle clip-path=\"url(#clip452)\" style=\"fill:#e26f46; stroke:none; fill-opacity:0\" cx=\"1136.87\" cy=\"1445.72\" r=\"2\"/>\n",
       "<circle clip-path=\"url(#clip452)\" style=\"fill:#e26f46; stroke:none; fill-opacity:0\" cx=\"1156.95\" cy=\"1445.72\" r=\"2\"/>\n",
       "<circle clip-path=\"url(#clip452)\" style=\"fill:#e26f46; stroke:none; fill-opacity:0\" cx=\"1177.03\" cy=\"1429.55\" r=\"2\"/>\n",
       "<circle clip-path=\"url(#clip452)\" style=\"fill:#e26f46; stroke:none; fill-opacity:0\" cx=\"1197.11\" cy=\"1445.72\" r=\"2\"/>\n",
       "<circle clip-path=\"url(#clip452)\" style=\"fill:#e26f46; stroke:none; fill-opacity:0\" cx=\"1217.19\" cy=\"1445.72\" r=\"2\"/>\n",
       "<circle clip-path=\"url(#clip452)\" style=\"fill:#e26f46; stroke:none; fill-opacity:0\" cx=\"1237.27\" cy=\"1445.72\" r=\"2\"/>\n",
       "<circle clip-path=\"url(#clip452)\" style=\"fill:#e26f46; stroke:none; fill-opacity:0\" cx=\"1257.34\" cy=\"1445.72\" r=\"2\"/>\n",
       "<circle clip-path=\"url(#clip452)\" style=\"fill:#e26f46; stroke:none; fill-opacity:0\" cx=\"1277.42\" cy=\"1445.72\" r=\"2\"/>\n",
       "<circle clip-path=\"url(#clip452)\" style=\"fill:#e26f46; stroke:none; fill-opacity:0\" cx=\"1297.5\" cy=\"1445.72\" r=\"2\"/>\n",
       "<circle clip-path=\"url(#clip452)\" style=\"fill:#e26f46; stroke:none; fill-opacity:0\" cx=\"1317.58\" cy=\"1445.72\" r=\"2\"/>\n",
       "<circle clip-path=\"url(#clip452)\" style=\"fill:#e26f46; stroke:none; fill-opacity:0\" cx=\"1337.66\" cy=\"1445.72\" r=\"2\"/>\n",
       "<circle clip-path=\"url(#clip452)\" style=\"fill:#e26f46; stroke:none; fill-opacity:0\" cx=\"1357.74\" cy=\"1445.72\" r=\"2\"/>\n",
       "<circle clip-path=\"url(#clip452)\" style=\"fill:#e26f46; stroke:none; fill-opacity:0\" cx=\"1377.81\" cy=\"1445.72\" r=\"2\"/>\n",
       "<circle clip-path=\"url(#clip452)\" style=\"fill:#e26f46; stroke:none; fill-opacity:0\" cx=\"1397.89\" cy=\"1445.72\" r=\"2\"/>\n",
       "<circle clip-path=\"url(#clip452)\" style=\"fill:#e26f46; stroke:none; fill-opacity:0\" cx=\"1417.97\" cy=\"1445.72\" r=\"2\"/>\n",
       "<circle clip-path=\"url(#clip452)\" style=\"fill:#e26f46; stroke:none; fill-opacity:0\" cx=\"1438.05\" cy=\"1445.72\" r=\"2\"/>\n",
       "<circle clip-path=\"url(#clip452)\" style=\"fill:#e26f46; stroke:none; fill-opacity:0\" cx=\"1458.13\" cy=\"1445.72\" r=\"2\"/>\n",
       "<circle clip-path=\"url(#clip452)\" style=\"fill:#e26f46; stroke:none; fill-opacity:0\" cx=\"1478.21\" cy=\"1445.72\" r=\"2\"/>\n",
       "<circle clip-path=\"url(#clip452)\" style=\"fill:#e26f46; stroke:none; fill-opacity:0\" cx=\"1498.29\" cy=\"1445.72\" r=\"2\"/>\n",
       "<circle clip-path=\"url(#clip452)\" style=\"fill:#e26f46; stroke:none; fill-opacity:0\" cx=\"1518.36\" cy=\"1445.72\" r=\"2\"/>\n",
       "<circle clip-path=\"url(#clip452)\" style=\"fill:#e26f46; stroke:none; fill-opacity:0\" cx=\"1538.44\" cy=\"1445.72\" r=\"2\"/>\n",
       "<circle clip-path=\"url(#clip452)\" style=\"fill:#e26f46; stroke:none; fill-opacity:0\" cx=\"1558.52\" cy=\"1445.72\" r=\"2\"/>\n",
       "<circle clip-path=\"url(#clip452)\" style=\"fill:#e26f46; stroke:none; fill-opacity:0\" cx=\"1578.6\" cy=\"1445.72\" r=\"2\"/>\n",
       "<circle clip-path=\"url(#clip452)\" style=\"fill:#e26f46; stroke:none; fill-opacity:0\" cx=\"1598.68\" cy=\"1445.72\" r=\"2\"/>\n",
       "<circle clip-path=\"url(#clip452)\" style=\"fill:#e26f46; stroke:none; fill-opacity:0\" cx=\"1618.76\" cy=\"1445.72\" r=\"2\"/>\n",
       "<circle clip-path=\"url(#clip452)\" style=\"fill:#e26f46; stroke:none; fill-opacity:0\" cx=\"1638.84\" cy=\"1445.72\" r=\"2\"/>\n",
       "<circle clip-path=\"url(#clip452)\" style=\"fill:#e26f46; stroke:none; fill-opacity:0\" cx=\"1658.91\" cy=\"1445.72\" r=\"2\"/>\n",
       "<circle clip-path=\"url(#clip452)\" style=\"fill:#e26f46; stroke:none; fill-opacity:0\" cx=\"1678.99\" cy=\"1413.39\" r=\"2\"/>\n",
       "<circle clip-path=\"url(#clip452)\" style=\"fill:#e26f46; stroke:none; fill-opacity:0\" cx=\"1699.07\" cy=\"1429.55\" r=\"2\"/>\n",
       "<circle clip-path=\"url(#clip452)\" style=\"fill:#e26f46; stroke:none; fill-opacity:0\" cx=\"1719.15\" cy=\"1445.72\" r=\"2\"/>\n",
       "<circle clip-path=\"url(#clip452)\" style=\"fill:#e26f46; stroke:none; fill-opacity:0\" cx=\"1739.23\" cy=\"1445.72\" r=\"2\"/>\n",
       "<circle clip-path=\"url(#clip452)\" style=\"fill:#e26f46; stroke:none; fill-opacity:0\" cx=\"1759.31\" cy=\"1445.72\" r=\"2\"/>\n",
       "<circle clip-path=\"url(#clip452)\" style=\"fill:#e26f46; stroke:none; fill-opacity:0\" cx=\"1779.39\" cy=\"1445.72\" r=\"2\"/>\n",
       "<circle clip-path=\"url(#clip452)\" style=\"fill:#e26f46; stroke:none; fill-opacity:0\" cx=\"1799.46\" cy=\"1445.72\" r=\"2\"/>\n",
       "<circle clip-path=\"url(#clip452)\" style=\"fill:#e26f46; stroke:none; fill-opacity:0\" cx=\"1819.54\" cy=\"1445.72\" r=\"2\"/>\n",
       "<circle clip-path=\"url(#clip452)\" style=\"fill:#e26f46; stroke:none; fill-opacity:0\" cx=\"1839.62\" cy=\"1445.72\" r=\"2\"/>\n",
       "<circle clip-path=\"url(#clip452)\" style=\"fill:#e26f46; stroke:none; fill-opacity:0\" cx=\"1859.7\" cy=\"1445.72\" r=\"2\"/>\n",
       "<circle clip-path=\"url(#clip452)\" style=\"fill:#e26f46; stroke:none; fill-opacity:0\" cx=\"1879.78\" cy=\"1445.72\" r=\"2\"/>\n",
       "<circle clip-path=\"url(#clip452)\" style=\"fill:#e26f46; stroke:none; fill-opacity:0\" cx=\"1899.86\" cy=\"1445.72\" r=\"2\"/>\n",
       "<circle clip-path=\"url(#clip452)\" style=\"fill:#e26f46; stroke:none; fill-opacity:0\" cx=\"1919.94\" cy=\"1445.72\" r=\"2\"/>\n",
       "<circle clip-path=\"url(#clip452)\" style=\"fill:#e26f46; stroke:none; fill-opacity:0\" cx=\"1940.01\" cy=\"1445.72\" r=\"2\"/>\n",
       "<circle clip-path=\"url(#clip452)\" style=\"fill:#e26f46; stroke:none; fill-opacity:0\" cx=\"1960.09\" cy=\"1445.72\" r=\"2\"/>\n",
       "<circle clip-path=\"url(#clip452)\" style=\"fill:#e26f46; stroke:none; fill-opacity:0\" cx=\"1980.17\" cy=\"1445.72\" r=\"2\"/>\n",
       "<circle clip-path=\"url(#clip452)\" style=\"fill:#e26f46; stroke:none; fill-opacity:0\" cx=\"2000.25\" cy=\"1445.72\" r=\"2\"/>\n",
       "<circle clip-path=\"url(#clip452)\" style=\"fill:#e26f46; stroke:none; fill-opacity:0\" cx=\"2020.33\" cy=\"1445.72\" r=\"2\"/>\n",
       "<circle clip-path=\"url(#clip452)\" style=\"fill:#e26f46; stroke:none; fill-opacity:0\" cx=\"2040.41\" cy=\"1445.72\" r=\"2\"/>\n",
       "<circle clip-path=\"url(#clip452)\" style=\"fill:#e26f46; stroke:none; fill-opacity:0\" cx=\"2060.48\" cy=\"1445.72\" r=\"2\"/>\n",
       "<circle clip-path=\"url(#clip452)\" style=\"fill:#e26f46; stroke:none; fill-opacity:0\" cx=\"2080.56\" cy=\"1445.72\" r=\"2\"/>\n",
       "<circle clip-path=\"url(#clip452)\" style=\"fill:#e26f46; stroke:none; fill-opacity:0\" cx=\"2100.64\" cy=\"1445.72\" r=\"2\"/>\n",
       "<circle clip-path=\"url(#clip452)\" style=\"fill:#e26f46; stroke:none; fill-opacity:0\" cx=\"2120.72\" cy=\"1445.72\" r=\"2\"/>\n",
       "<circle clip-path=\"url(#clip452)\" style=\"fill:#e26f46; stroke:none; fill-opacity:0\" cx=\"2140.8\" cy=\"1445.72\" r=\"2\"/>\n",
       "<circle clip-path=\"url(#clip452)\" style=\"fill:#e26f46; stroke:none; fill-opacity:0\" cx=\"2160.88\" cy=\"1445.72\" r=\"2\"/>\n",
       "<circle clip-path=\"url(#clip452)\" style=\"fill:#e26f46; stroke:none; fill-opacity:0\" cx=\"2180.96\" cy=\"1445.72\" r=\"2\"/>\n",
       "<circle clip-path=\"url(#clip452)\" style=\"fill:#e26f46; stroke:none; fill-opacity:0\" cx=\"2201.03\" cy=\"1445.72\" r=\"2\"/>\n",
       "<circle clip-path=\"url(#clip452)\" style=\"fill:#e26f46; stroke:none; fill-opacity:0\" cx=\"2221.11\" cy=\"1429.55\" r=\"2\"/>\n",
       "<path clip-path=\"url(#clip452)\" d=\"\n",
       "M263.457 1187.1 L263.457 1445.72 L283.535 1445.72 L283.535 1187.1 L263.457 1187.1 L263.457 1187.1  Z\n",
       "  \" fill=\"#3da44d\" fill-rule=\"evenodd\" fill-opacity=\"1\"/>\n",
       "<polyline clip-path=\"url(#clip452)\" style=\"stroke:#000000; stroke-linecap:butt; stroke-linejoin:round; stroke-width:4; stroke-opacity:1; fill:none\" points=\"\n",
       "  263.457,1187.1 263.457,1445.72 283.535,1445.72 283.535,1187.1 263.457,1187.1 \n",
       "  \"/>\n",
       "<path clip-path=\"url(#clip452)\" d=\"\n",
       "M283.535 1413.39 L283.535 1445.72 L303.614 1445.72 L303.614 1413.39 L283.535 1413.39 L283.535 1413.39  Z\n",
       "  \" fill=\"#3da44d\" fill-rule=\"evenodd\" fill-opacity=\"1\"/>\n",
       "<polyline clip-path=\"url(#clip452)\" style=\"stroke:#000000; stroke-linecap:butt; stroke-linejoin:round; stroke-width:4; stroke-opacity:1; fill:none\" points=\"\n",
       "  283.535,1413.39 283.535,1445.72 303.614,1445.72 303.614,1413.39 283.535,1413.39 \n",
       "  \"/>\n",
       "<path clip-path=\"url(#clip452)\" d=\"\n",
       "M303.614 1413.39 L303.614 1445.72 L323.692 1445.72 L323.692 1413.39 L303.614 1413.39 L303.614 1413.39  Z\n",
       "  \" fill=\"#3da44d\" fill-rule=\"evenodd\" fill-opacity=\"1\"/>\n",
       "<polyline clip-path=\"url(#clip452)\" style=\"stroke:#000000; stroke-linecap:butt; stroke-linejoin:round; stroke-width:4; stroke-opacity:1; fill:none\" points=\"\n",
       "  303.614,1413.39 303.614,1445.72 323.692,1445.72 323.692,1413.39 303.614,1413.39 \n",
       "  \"/>\n",
       "<circle clip-path=\"url(#clip452)\" style=\"fill:#3da44d; stroke:none; fill-opacity:0\" cx=\"273.496\" cy=\"1187.1\" r=\"2\"/>\n",
       "<circle clip-path=\"url(#clip452)\" style=\"fill:#3da44d; stroke:none; fill-opacity:0\" cx=\"293.574\" cy=\"1413.39\" r=\"2\"/>\n",
       "<circle clip-path=\"url(#clip452)\" style=\"fill:#3da44d; stroke:none; fill-opacity:0\" cx=\"313.653\" cy=\"1413.39\" r=\"2\"/>\n",
       "<path clip-path=\"url(#clip450)\" d=\"\n",
       "M1862.66 302.578 L2279.06 302.578 L2279.06 95.2176 L1862.66 95.2176  Z\n",
       "  \" fill=\"#ffffff\" fill-rule=\"evenodd\" fill-opacity=\"1\"/>\n",
       "<polyline clip-path=\"url(#clip450)\" style=\"stroke:#000000; stroke-linecap:butt; stroke-linejoin:round; stroke-width:4; stroke-opacity:1; fill:none\" points=\"\n",
       "  1862.66,302.578 2279.06,302.578 2279.06,95.2176 1862.66,95.2176 1862.66,302.578 \n",
       "  \"/>\n",
       "<path clip-path=\"url(#clip450)\" d=\"\n",
       "M1887.23 167.794 L2034.62 167.794 L2034.62 126.322 L1887.23 126.322 L1887.23 167.794  Z\n",
       "  \" fill=\"#009af9\" fill-rule=\"evenodd\" fill-opacity=\"1\"/>\n",
       "<polyline clip-path=\"url(#clip450)\" style=\"stroke:#000000; stroke-linecap:butt; stroke-linejoin:round; stroke-width:4; stroke-opacity:1; fill:none\" points=\"\n",
       "  1887.23,167.794 2034.62,167.794 2034.62,126.322 1887.23,126.322 1887.23,167.794 \n",
       "  \"/>\n",
       "<path clip-path=\"url(#clip450)\" d=\"M2076.16 152.277 L2075.14 146.93 Q2074.1 141.444 2069.98 141.444 Q2066.87 141.444 2065.46 143.99 Q2063.68 147.185 2063.68 151.398 Q2063.68 156.49 2065.41 158.921 Q2067.17 161.398 2069.98 161.398 Q2073.08 161.398 2074.74 156.467 L2076.16 152.277 M2078.54 145.194 L2080.83 138.412 L2084.63 138.412 L2079.88 152.463 L2080.81 157.532 Q2081.02 158.666 2081.83 159.615 Q2082.78 160.726 2083.52 160.726 L2085.55 160.726 L2085.55 164.338 L2083.01 164.338 Q2080.83 164.338 2078.89 162.393 Q2077.94 161.421 2077.54 159.384 Q2076.48 161.953 2074.3 163.967 Q2073.29 164.916 2069.98 164.916 Q2064.54 164.916 2061.9 161.398 Q2059.19 157.764 2059.19 151.398 Q2059.19 144.592 2062.13 141.398 Q2065.39 137.833 2069.98 137.833 Q2077.17 137.833 2078.54 145.194 Z\" fill=\"#000000\" fill-rule=\"evenodd\" fill-opacity=\"1\" /><path clip-path=\"url(#clip450)\" d=\"M2107.91 142.81 L2137.59 142.81 L2137.59 146.699 L2107.91 146.699 L2107.91 142.81 M2107.91 152.254 L2137.59 152.254 L2137.59 156.189 L2107.91 156.189 L2107.91 152.254 Z\" fill=\"#000000\" fill-rule=\"evenodd\" fill-opacity=\"1\" /><path clip-path=\"url(#clip450)\" d=\"M2172.75 132.856 Q2169.14 132.856 2167.31 136.421 Q2165.51 139.963 2165.51 147.092 Q2165.51 154.199 2167.31 157.764 Q2169.14 161.305 2172.75 161.305 Q2176.39 161.305 2178.19 157.764 Q2180.02 154.199 2180.02 147.092 Q2180.02 139.963 2178.19 136.421 Q2176.39 132.856 2172.75 132.856 M2172.75 129.153 Q2178.56 129.153 2181.62 133.759 Q2184.7 138.342 2184.7 147.092 Q2184.7 155.819 2181.62 160.426 Q2178.56 165.009 2172.75 165.009 Q2166.94 165.009 2163.86 160.426 Q2160.81 155.819 2160.81 147.092 Q2160.81 138.342 2163.86 133.759 Q2166.94 129.153 2172.75 129.153 Z\" fill=\"#000000\" fill-rule=\"evenodd\" fill-opacity=\"1\" /><path clip-path=\"url(#clip450)\" d=\"M2192.91 158.458 L2197.8 158.458 L2197.8 164.338 L2192.91 164.338 L2192.91 158.458 Z\" fill=\"#000000\" fill-rule=\"evenodd\" fill-opacity=\"1\" /><path clip-path=\"url(#clip450)\" d=\"M2217.98 147.926 Q2214.65 147.926 2212.73 149.708 Q2210.83 151.49 2210.83 154.615 Q2210.83 157.74 2212.73 159.523 Q2214.65 161.305 2217.98 161.305 Q2221.32 161.305 2223.24 159.523 Q2225.16 157.717 2225.16 154.615 Q2225.16 151.49 2223.24 149.708 Q2221.34 147.926 2217.98 147.926 M2213.31 145.935 Q2210.3 145.194 2208.61 143.134 Q2206.94 141.074 2206.94 138.111 Q2206.94 133.967 2209.88 131.56 Q2212.84 129.153 2217.98 129.153 Q2223.15 129.153 2226.09 131.56 Q2229.03 133.967 2229.03 138.111 Q2229.03 141.074 2227.34 143.134 Q2225.67 145.194 2222.68 145.935 Q2226.06 146.722 2227.94 149.014 Q2229.84 151.305 2229.84 154.615 Q2229.84 159.639 2226.76 162.324 Q2223.7 165.009 2217.98 165.009 Q2212.27 165.009 2209.19 162.324 Q2206.13 159.639 2206.13 154.615 Q2206.13 151.305 2208.03 149.014 Q2209.93 146.722 2213.31 145.935 M2211.59 138.551 Q2211.59 141.236 2213.26 142.74 Q2214.95 144.245 2217.98 144.245 Q2220.99 144.245 2222.68 142.74 Q2224.4 141.236 2224.4 138.551 Q2224.4 135.865 2222.68 134.361 Q2220.99 132.856 2217.98 132.856 Q2214.95 132.856 2213.26 134.361 Q2211.59 135.865 2211.59 138.551 Z\" fill=\"#000000\" fill-rule=\"evenodd\" fill-opacity=\"1\" /><path clip-path=\"url(#clip450)\" d=\"\n",
       "M1887.23 219.634 L2034.62 219.634 L2034.62 178.162 L1887.23 178.162 L1887.23 219.634  Z\n",
       "  \" fill=\"#e26f46\" fill-rule=\"evenodd\" fill-opacity=\"1\"/>\n",
       "<polyline clip-path=\"url(#clip450)\" style=\"stroke:#000000; stroke-linecap:butt; stroke-linejoin:round; stroke-width:4; stroke-opacity:1; fill:none\" points=\"\n",
       "  1887.23,219.634 2034.62,219.634 2034.62,178.162 1887.23,178.162 1887.23,219.634 \n",
       "  \"/>\n",
       "<path clip-path=\"url(#clip450)\" d=\"M2076.16 204.117 L2075.14 198.77 Q2074.1 193.284 2069.98 193.284 Q2066.87 193.284 2065.46 195.83 Q2063.68 199.025 2063.68 203.238 Q2063.68 208.33 2065.41 210.761 Q2067.17 213.238 2069.98 213.238 Q2073.08 213.238 2074.74 208.307 L2076.16 204.117 M2078.54 197.034 L2080.83 190.252 L2084.63 190.252 L2079.88 204.303 L2080.81 209.372 Q2081.02 210.506 2081.83 211.455 Q2082.78 212.566 2083.52 212.566 L2085.55 212.566 L2085.55 216.178 L2083.01 216.178 Q2080.83 216.178 2078.89 214.233 Q2077.94 213.261 2077.54 211.224 Q2076.48 213.793 2074.3 215.807 Q2073.29 216.756 2069.98 216.756 Q2064.54 216.756 2061.9 213.238 Q2059.19 209.604 2059.19 203.238 Q2059.19 196.432 2062.13 193.238 Q2065.39 189.673 2069.98 189.673 Q2077.17 189.673 2078.54 197.034 Z\" fill=\"#000000\" fill-rule=\"evenodd\" fill-opacity=\"1\" /><path clip-path=\"url(#clip450)\" d=\"M2107.91 194.65 L2137.59 194.65 L2137.59 198.539 L2107.91 198.539 L2107.91 194.65 M2107.91 204.094 L2137.59 204.094 L2137.59 208.029 L2107.91 208.029 L2107.91 204.094 Z\" fill=\"#000000\" fill-rule=\"evenodd\" fill-opacity=\"1\" /><path clip-path=\"url(#clip450)\" d=\"M2163.56 212.242 L2171.2 212.242 L2171.2 185.877 L2162.89 187.543 L2162.89 183.284 L2171.16 181.618 L2175.83 181.618 L2175.83 212.242 L2183.47 212.242 L2183.47 216.178 L2163.56 216.178 L2163.56 212.242 Z\" fill=\"#000000\" fill-rule=\"evenodd\" fill-opacity=\"1\" /><path clip-path=\"url(#clip450)\" d=\"M2192.91 210.298 L2197.8 210.298 L2197.8 216.178 L2192.91 216.178 L2192.91 210.298 Z\" fill=\"#000000\" fill-rule=\"evenodd\" fill-opacity=\"1\" /><path clip-path=\"url(#clip450)\" d=\"M2217.98 184.696 Q2214.37 184.696 2212.54 188.261 Q2210.74 191.803 2210.74 198.932 Q2210.74 206.039 2212.54 209.604 Q2214.37 213.145 2217.98 213.145 Q2221.62 213.145 2223.42 209.604 Q2225.25 206.039 2225.25 198.932 Q2225.25 191.803 2223.42 188.261 Q2221.62 184.696 2217.98 184.696 M2217.98 180.993 Q2223.79 180.993 2226.85 185.599 Q2229.93 190.182 2229.93 198.932 Q2229.93 207.659 2226.85 212.266 Q2223.79 216.849 2217.98 216.849 Q2212.17 216.849 2209.09 212.266 Q2206.04 207.659 2206.04 198.932 Q2206.04 190.182 2209.09 185.599 Q2212.17 180.993 2217.98 180.993 Z\" fill=\"#000000\" fill-rule=\"evenodd\" fill-opacity=\"1\" /><path clip-path=\"url(#clip450)\" d=\"\n",
       "M1887.23 271.474 L2034.62 271.474 L2034.62 230.002 L1887.23 230.002 L1887.23 271.474  Z\n",
       "  \" fill=\"#3da44d\" fill-rule=\"evenodd\" fill-opacity=\"1\"/>\n",
       "<polyline clip-path=\"url(#clip450)\" style=\"stroke:#000000; stroke-linecap:butt; stroke-linejoin:round; stroke-width:4; stroke-opacity:1; fill:none\" points=\"\n",
       "  1887.23,271.474 2034.62,271.474 2034.62,230.002 1887.23,230.002 1887.23,271.474 \n",
       "  \"/>\n",
       "<path clip-path=\"url(#clip450)\" d=\"M2076.16 255.957 L2075.14 250.61 Q2074.1 245.124 2069.98 245.124 Q2066.87 245.124 2065.46 247.67 Q2063.68 250.865 2063.68 255.078 Q2063.68 260.17 2065.41 262.601 Q2067.17 265.078 2069.98 265.078 Q2073.08 265.078 2074.74 260.147 L2076.16 255.957 M2078.54 248.874 L2080.83 242.092 L2084.63 242.092 L2079.88 256.143 L2080.81 261.212 Q2081.02 262.346 2081.83 263.295 Q2082.78 264.406 2083.52 264.406 L2085.55 264.406 L2085.55 268.018 L2083.01 268.018 Q2080.83 268.018 2078.89 266.073 Q2077.94 265.101 2077.54 263.064 Q2076.48 265.633 2074.3 267.647 Q2073.29 268.596 2069.98 268.596 Q2064.54 268.596 2061.9 265.078 Q2059.19 261.444 2059.19 255.078 Q2059.19 248.272 2062.13 245.078 Q2065.39 241.513 2069.98 241.513 Q2077.17 241.513 2078.54 248.874 Z\" fill=\"#000000\" fill-rule=\"evenodd\" fill-opacity=\"1\" /><path clip-path=\"url(#clip450)\" d=\"M2107.91 246.49 L2137.59 246.49 L2137.59 250.379 L2107.91 250.379 L2107.91 246.49 M2107.91 255.934 L2137.59 255.934 L2137.59 259.869 L2107.91 259.869 L2107.91 255.934 Z\" fill=\"#000000\" fill-rule=\"evenodd\" fill-opacity=\"1\" /><path clip-path=\"url(#clip450)\" d=\"M2163.56 264.082 L2171.2 264.082 L2171.2 237.717 L2162.89 239.383 L2162.89 235.124 L2171.16 233.458 L2175.83 233.458 L2175.83 264.082 L2183.47 264.082 L2183.47 268.018 L2163.56 268.018 L2163.56 264.082 Z\" fill=\"#000000\" fill-rule=\"evenodd\" fill-opacity=\"1\" /><path clip-path=\"url(#clip450)\" d=\"M2192.91 262.138 L2197.8 262.138 L2197.8 268.018 L2192.91 268.018 L2192.91 262.138 Z\" fill=\"#000000\" fill-rule=\"evenodd\" fill-opacity=\"1\" /><path clip-path=\"url(#clip450)\" d=\"M2212.01 264.082 L2228.33 264.082 L2228.33 268.018 L2206.39 268.018 L2206.39 264.082 Q2209.05 261.328 2213.63 256.698 Q2218.24 252.045 2219.42 250.703 Q2221.66 248.18 2222.54 246.444 Q2223.45 244.684 2223.45 242.995 Q2223.45 240.24 2221.5 238.504 Q2219.58 236.768 2216.48 236.768 Q2214.28 236.768 2211.83 237.532 Q2209.4 238.295 2206.62 239.846 L2206.62 235.124 Q2209.44 233.99 2211.9 233.411 Q2214.35 232.833 2216.39 232.833 Q2221.76 232.833 2224.95 235.518 Q2228.15 238.203 2228.15 242.694 Q2228.15 244.823 2227.34 246.745 Q2226.55 248.643 2224.44 251.235 Q2223.86 251.907 2220.76 255.124 Q2217.66 258.319 2212.01 264.082 Z\" fill=\"#000000\" fill-rule=\"evenodd\" fill-opacity=\"1\" /></svg>\n"
      ]
     },
     "execution_count": 92,
     "metadata": {},
     "output_type": "execute_result"
    }
   ],
   "source": [
    "function drawsuntilthreshold(threshold; maxdraws=100, α=1.0, σ=0.2)\n",
    "    x = 1\n",
    "    for i in 1:maxdraws\n",
    "        ϵ = randn()\n",
    "        x = α*x + σ*ϵ\n",
    "        if x < threshold # checks threshold\n",
    "            return i # leaves function, returning draw number\n",
    "        end\n",
    "    end\n",
    "    return Inf # if here, reached maxdraws\n",
    "end\n",
    "\n",
    "p = histogram()\n",
    "for α in [0.8, 1.0, 1.2]\n",
    "    results = []\n",
    "    for j in 1:100\n",
    "        push!(results, drawsuntilthreshold(1, α=α))\n",
    "    end\n",
    "    histogram!(p, results, label=\"α = $α\")\n",
    "end\n",
    "current()"
   ]
  },
  {
   "cell_type": "markdown",
   "id": "c817beee",
   "metadata": {},
   "source": [
    "### Exercise 8(a)\n",
    "\n",
    "This exercise is more challenging.\n",
    "\n",
    "The root of a univariate function $ f(\\cdot) $ is an $ x $ such that $ f(x) = 0 $.\n",
    "\n",
    "One solution method to find local roots of smooth functions is called Newton’s method.\n",
    "\n",
    "Starting with an $ x_0 $ guess, a function $ f(\\cdot) $ and the first-derivative $ f'(\\cdot) $, the algorithm is to repeat\n",
    "\n",
    "$$\n",
    "x^{n+1} = x^n - \\frac{f(x^n)}{f'(x^n)}\n",
    "$$\n",
    "\n",
    "until $ | x^{n+1} - x^n| $ is below a tolerance\n",
    "\n",
    "1. Use a variation of the `fixedpointmap` code to implement Newton’s method, where the function would accept arguments `f, f_prime, x_0, tolerance, maxiter`.  \n",
    "1. Test it with $ f(x) = (x-1)^3 $ and another function of your choice where you can analytically find the derivative.  "
   ]
  },
  {
   "cell_type": "code",
   "execution_count": 94,
   "id": "0953d098",
   "metadata": {},
   "outputs": [
    {
     "data": {
      "text/plain": [
       "newton (generic function with 1 method)"
      ]
     },
     "execution_count": 94,
     "metadata": {},
     "output_type": "execute_result"
    }
   ],
   "source": [
    "function newton(f, f_prime, x0; tolerance=1E-6, maxiter=1000)\n",
    "    for i in 1:maxiter\n",
    "        x1 = x0 - f(x0)/f_prime(x0)\n",
    "        if abs(x1 - x0) < tolerance\n",
    "            return x1\n",
    "        end\n",
    "        x0 = x1\n",
    "    end\n",
    "    print(\"failed to converge!\")\n",
    "end"
   ]
  },
  {
   "cell_type": "code",
   "execution_count": 99,
   "id": "039557ed",
   "metadata": {},
   "outputs": [
    {
     "data": {
      "text/plain": [
       "1.0000017685599916"
      ]
     },
     "execution_count": 99,
     "metadata": {},
     "output_type": "execute_result"
    }
   ],
   "source": [
    "newton(x -> (x-1)^3, x -> 3*(x-1)^2, 100)"
   ]
  },
  {
   "cell_type": "markdown",
   "id": "2276c014",
   "metadata": {},
   "source": [
    "### Exercise 8(b)\n",
    "\n",
    "For those impatient to use more advanced features of Julia, implement a version of Exercise 8(a) where `f_prime` is calculated with auto-differentiation."
   ]
  },
  {
   "cell_type": "code",
   "execution_count": 96,
   "id": "862cee47",
   "metadata": {
    "hide-output": false
   },
   "outputs": [
    {
     "data": {
      "text/plain": [
       "(0.010000000000000002, 0.2)"
      ]
     },
     "execution_count": 96,
     "metadata": {},
     "output_type": "execute_result"
    }
   ],
   "source": [
    "using ForwardDiff\n",
    "\n",
    "# operator to get the derivative of this function using AD\n",
    "D(f) = x -> ForwardDiff.derivative(f, x)\n",
    "\n",
    "# example usage: create a function and get the derivative\n",
    "f(x) = x^2\n",
    "f_prime = D(f)\n",
    "\n",
    "f(0.1), f_prime(0.1)"
   ]
  },
  {
   "cell_type": "markdown",
   "id": "da82b9dd",
   "metadata": {},
   "source": [
    "1. Using the `D(f)` operator definition above, implement a version of Newton’s method that does not require the user to provide an analytical derivative.  \n",
    "1. Test the sorts of `f` functions which can be automatically integrated by `ForwardDff.jl`.  "
   ]
  },
  {
   "cell_type": "code",
   "execution_count": 100,
   "id": "f11eb863",
   "metadata": {},
   "outputs": [
    {
     "data": {
      "text/plain": [
       "1.0000017685599916"
      ]
     },
     "execution_count": 100,
     "metadata": {},
     "output_type": "execute_result"
    }
   ],
   "source": [
    "f(x) = (x-1)^3\n",
    "f_prime = D(f)\n",
    "\n",
    "newton(f, f_prime, 100)"
   ]
  },
  {
   "cell_type": "markdown",
   "id": "a8c9bf09",
   "metadata": {},
   "source": [
    "## Solutions"
   ]
  },
  {
   "cell_type": "markdown",
   "id": "9fabc12c",
   "metadata": {},
   "source": [
    "### Exercise 1"
   ]
  },
  {
   "cell_type": "code",
   "execution_count": null,
   "id": "76e2ca77",
   "metadata": {
    "hide-output": false
   },
   "outputs": [],
   "source": [
    "function factorial2(n)\n",
    "    k = 1\n",
    "    for i in 1:n\n",
    "        k *= i  # or k = k * i\n",
    "    end\n",
    "    return k\n",
    "end\n",
    "\n",
    "factorial2(4)"
   ]
  },
  {
   "cell_type": "code",
   "execution_count": null,
   "id": "375178c3",
   "metadata": {
    "hide-output": false
   },
   "outputs": [],
   "source": [
    "factorial2(4) == factorial(4) # built-in function"
   ]
  },
  {
   "cell_type": "markdown",
   "id": "77ddb04a",
   "metadata": {},
   "source": [
    "### Exercise 2"
   ]
  },
  {
   "cell_type": "code",
   "execution_count": null,
   "id": "eedb39ba",
   "metadata": {
    "hide-output": false
   },
   "outputs": [],
   "source": [
    "function binomial_rv(n, p)\n",
    "    count = 0\n",
    "    U = rand(n)\n",
    "    for i in 1:n\n",
    "        if U[i] < p\n",
    "            count += 1 # or count = count + 1\n",
    "        end\n",
    "    end\n",
    "    return count\n",
    "end\n",
    "\n",
    "for j in 1:25\n",
    "    b = binomial_rv(10, 0.5)\n",
    "    print(\"$b, \")\n",
    "end"
   ]
  },
  {
   "cell_type": "markdown",
   "id": "010dd753",
   "metadata": {},
   "source": [
    "### Exercise 3\n",
    "\n",
    "Consider a circle with diameter 1 embedded in a unit square.\n",
    "\n",
    "Let $ A $ be its area and let $ r = 1/2 $ be its radius.\n",
    "\n",
    "If we know $ \\pi $ then we can compute $ A $ via\n",
    "$ A = \\pi r^2 $.\n",
    "\n",
    "But the point here is to compute $ \\pi $, which we can do by\n",
    "$ \\pi = A / r^2 $.\n",
    "\n",
    "Summary: If we can estimate the area of the unit circle, then dividing\n",
    "by $ r^2 = (1/2)^2 = 1/4 $ gives an estimate of $ \\pi $.\n",
    "\n",
    "We estimate the area by sampling bivariate uniforms and looking at the\n",
    "fraction that fall into the unit circle."
   ]
  },
  {
   "cell_type": "code",
   "execution_count": null,
   "id": "657e6044",
   "metadata": {
    "hide-output": false
   },
   "outputs": [],
   "source": [
    "n = 1000000\n",
    "count = 0\n",
    "for i in 1:n\n",
    "    u, v = rand(2)\n",
    "    d = sqrt((u - 0.5)^2 + (v - 0.5)^2)  # distance from middle of square\n",
    "    if d < 0.5\n",
    "        count += 1\n",
    "    end\n",
    "end\n",
    "\n",
    "area_estimate = count / n\n",
    "\n",
    "print(area_estimate * 4)  # dividing by radius**2"
   ]
  },
  {
   "cell_type": "markdown",
   "id": "b45cadfb",
   "metadata": {},
   "source": [
    "### Exercise 4"
   ]
  },
  {
   "cell_type": "code",
   "execution_count": null,
   "id": "04ff6d91",
   "metadata": {
    "hide-output": false
   },
   "outputs": [],
   "source": [
    "payoff = 0\n",
    "count = 0\n",
    "\n",
    "print(\"Count = \")\n",
    "\n",
    "for i in 1:10\n",
    "    U = rand()\n",
    "    if U < 0.5\n",
    "        count += 1\n",
    "    else\n",
    "        count = 0\n",
    "    end\n",
    "    print(count)\n",
    "    if count == 3\n",
    "        payoff = 1\n",
    "    end\n",
    "end\n",
    "println(\"\\npayoff = $payoff\")"
   ]
  },
  {
   "cell_type": "markdown",
   "id": "c0cc6128",
   "metadata": {},
   "source": [
    "We can simplify this somewhat using the **ternary operator**. Here are\n",
    "some examples"
   ]
  },
  {
   "cell_type": "code",
   "execution_count": 47,
   "id": "52a837e2",
   "metadata": {
    "hide-output": false
   },
   "outputs": [
    {
     "data": {
      "text/plain": [
       "\"foo\""
      ]
     },
     "execution_count": 47,
     "metadata": {},
     "output_type": "execute_result"
    }
   ],
   "source": [
    "a = 1  < 2 ? \"foo\" : \"bar\""
   ]
  },
  {
   "cell_type": "code",
   "execution_count": 48,
   "id": "ef540bfd",
   "metadata": {},
   "outputs": [
    {
     "data": {
      "text/plain": [
       "\"foo\""
      ]
     },
     "execution_count": 48,
     "metadata": {},
     "output_type": "execute_result"
    }
   ],
   "source": [
    "a"
   ]
  },
  {
   "cell_type": "code",
   "execution_count": 49,
   "id": "c869c298",
   "metadata": {
    "hide-output": false
   },
   "outputs": [
    {
     "data": {
      "text/plain": [
       "\"bar\""
      ]
     },
     "execution_count": 49,
     "metadata": {},
     "output_type": "execute_result"
    }
   ],
   "source": [
    "a = 1 > 2 ? \"foo\" : \"bar\""
   ]
  },
  {
   "cell_type": "code",
   "execution_count": 50,
   "id": "fa6545da",
   "metadata": {},
   "outputs": [
    {
     "data": {
      "text/plain": [
       "\"bar\""
      ]
     },
     "execution_count": 50,
     "metadata": {},
     "output_type": "execute_result"
    }
   ],
   "source": [
    "a"
   ]
  },
  {
   "cell_type": "markdown",
   "id": "7138ad48",
   "metadata": {},
   "source": [
    "Using this construction:"
   ]
  },
  {
   "cell_type": "code",
   "execution_count": null,
   "id": "5505632c",
   "metadata": {
    "hide-output": false
   },
   "outputs": [],
   "source": [
    "payoff = 0.0\n",
    "count = 0.0\n",
    "\n",
    "print(\"Count = \")\n",
    "\n",
    "for i in 1:10\n",
    "    U = rand()\n",
    "    count = U < 0.5 ? count + 1 : 0\n",
    "    print(count)\n",
    "    if count == 3\n",
    "        payoff = 1\n",
    "    end\n",
    "end\n",
    "println(\"\\npayoff = $payoff\")"
   ]
  },
  {
   "cell_type": "markdown",
   "id": "673b59a5",
   "metadata": {},
   "source": [
    "### Exercise 5\n",
    "\n",
    "Here’s one solution"
   ]
  },
  {
   "cell_type": "code",
   "execution_count": null,
   "id": "629b2a25",
   "metadata": {
    "hide-output": false
   },
   "outputs": [],
   "source": [
    "using Plots\n",
    "α = 0.9\n",
    "n = 200\n",
    "x = zeros(n + 1)\n",
    "\n",
    "for t in 1:n\n",
    "    x[t+1] = α * x[t] + randn()\n",
    "end\n",
    "plot(x)"
   ]
  },
  {
   "cell_type": "markdown",
   "id": "1621c018",
   "metadata": {},
   "source": [
    "### Exercise 6"
   ]
  },
  {
   "cell_type": "code",
   "execution_count": null,
   "id": "d72e2f0b",
   "metadata": {
    "hide-output": false
   },
   "outputs": [],
   "source": [
    "αs = [0.0, 0.8, 0.98]\n",
    "n = 200\n",
    "p = plot() # naming a plot to add to\n",
    "\n",
    "for α in αs\n",
    "    x = zeros(n + 1)\n",
    "    x[1] = 0.0\n",
    "    for t in 1:n\n",
    "        x[t+1] = α * x[t] + randn()\n",
    "    end\n",
    "    plot!(p, x, label = \"alpha = $α\") # add to plot p\n",
    "end\n",
    "p # display plot"
   ]
  },
  {
   "cell_type": "markdown",
   "id": "0af0e198",
   "metadata": {},
   "source": [
    "### Exercise 7: Hint\n",
    "\n",
    "As a hint, notice the following pattern for finding the number of draws of a uniform random number until it is below a given threshold"
   ]
  },
  {
   "cell_type": "code",
   "execution_count": null,
   "id": "82d513ce",
   "metadata": {
    "hide-output": false
   },
   "outputs": [],
   "source": [
    "function drawsuntilthreshold(threshold; maxdraws=100)\n",
    "    for i in 1:maxdraws\n",
    "        val = rand()\n",
    "        if val < threshold # checks threshold\n",
    "            return i # leaves function, returning draw number\n",
    "        end\n",
    "    end\n",
    "    return Inf # if here, reached maxdraws\n",
    "end\n",
    "\n",
    "draws = drawsuntilthreshold(0.2, maxdraws=100)"
   ]
  },
  {
   "cell_type": "markdown",
   "id": "a57c925f",
   "metadata": {},
   "source": [
    "Additionally, it is sometimes convenient to add to just push numbers onto an array without indexing it directly"
   ]
  },
  {
   "cell_type": "code",
   "execution_count": null,
   "id": "07237057",
   "metadata": {
    "hide-output": false
   },
   "outputs": [],
   "source": [
    "vals = zeros(0) # empty vector\n",
    "\n",
    "for i in 1:100\n",
    "    val = rand()\n",
    "    if val < 0.5\n",
    "        push!(vals, val)\n",
    "    end\n",
    "end\n",
    "println(\"There were $(length(vals)) below 0.5\")"
   ]
  }
 ],
 "metadata": {
  "date": 1643875378.4925077,
  "filename": "julia_by_example.md",
  "kernelspec": {
   "display_name": "Julia 1.7.1",
   "language": "julia",
   "name": "julia-1.7"
  },
  "language_info": {
   "file_extension": ".jl",
   "mimetype": "application/julia",
   "name": "julia",
   "version": "1.7.1"
  },
  "title": "Introductory Examples",
  "toc": {
   "base_numbering": 1,
   "nav_menu": {},
   "number_sections": true,
   "sideBar": true,
   "skip_h1_title": false,
   "title_cell": "Table of Contents",
   "title_sidebar": "Contents",
   "toc_cell": false,
   "toc_position": {
    "height": "calc(100% - 180px)",
    "left": "10px",
    "top": "150px",
    "width": "253.729px"
   },
   "toc_section_display": true,
   "toc_window_display": true
  },
  "varInspector": {
   "cols": {
    "lenName": 16,
    "lenType": 16,
    "lenVar": 40
   },
   "kernels_config": {
    "python": {
     "delete_cmd_postfix": "",
     "delete_cmd_prefix": "del ",
     "library": "var_list.py",
     "varRefreshCmd": "print(var_dic_list())"
    },
    "r": {
     "delete_cmd_postfix": ") ",
     "delete_cmd_prefix": "rm(",
     "library": "var_list.r",
     "varRefreshCmd": "cat(var_dic_list()) "
    }
   },
   "types_to_exclude": [
    "module",
    "function",
    "builtin_function_or_method",
    "instance",
    "_Feature"
   ],
   "window_display": false
  }
 },
 "nbformat": 4,
 "nbformat_minor": 5
}
