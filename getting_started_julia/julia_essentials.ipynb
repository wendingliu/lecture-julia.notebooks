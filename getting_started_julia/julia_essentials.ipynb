{
 "cells": [
  {
   "cell_type": "markdown",
   "id": "bc64ced0",
   "metadata": {},
   "source": [
    "\n",
    "<a id='julia-essentials'></a>"
   ]
  },
  {
   "cell_type": "markdown",
   "id": "332ef7ed",
   "metadata": {},
   "source": [
    "# Julia Essentials"
   ]
  },
  {
   "cell_type": "markdown",
   "id": "f179abb3",
   "metadata": {},
   "source": [
    "## Contents\n",
    "\n",
    "- [Julia Essentials](#Julia-Essentials)  \n",
    "  - [Overview](#Overview)  \n",
    "  - [Common Data Types](#Common-Data-Types)  \n",
    "  - [Iterating](#Iterating)  \n",
    "  - [Comparisons and Logical Operators](#Comparisons-and-Logical-Operators)  \n",
    "  - [User-Defined Functions](#User-Defined-Functions)  \n",
    "  - [Broadcasting](#Broadcasting)  \n",
    "  - [Scoping and Closures](#Scoping-and-Closures)  \n",
    "  - [Exercises](#Exercises)  \n",
    "  - [Solutions](#Solutions)  "
   ]
  },
  {
   "cell_type": "markdown",
   "id": "70ede95e",
   "metadata": {},
   "source": [
    "Having covered a few examples, let’s now turn to a more systematic exposition\n",
    "of the essential features of the language."
   ]
  },
  {
   "cell_type": "markdown",
   "id": "505f4c81",
   "metadata": {},
   "source": [
    "## Overview\n",
    "\n",
    "Topics:\n",
    "\n",
    "- Common data types  \n",
    "- Iteration  \n",
    "- More on user-defined functions  \n",
    "- Comparisons and logic  "
   ]
  },
  {
   "cell_type": "code",
   "execution_count": 2,
   "id": "76dc56f8",
   "metadata": {
    "hide-output": false
   },
   "outputs": [],
   "source": [
    "using LinearAlgebra, Statistics"
   ]
  },
  {
   "cell_type": "markdown",
   "id": "54d3c727",
   "metadata": {},
   "source": [
    "## Common Data Types\n",
    "\n",
    "Like most languages, Julia language defines and provides functions for operating on standard data types such as\n",
    "\n",
    "- integers  \n",
    "- floats  \n",
    "- strings  \n",
    "- arrays, etc…  \n",
    "\n",
    "\n",
    "Let’s learn a bit more about them."
   ]
  },
  {
   "cell_type": "markdown",
   "id": "dc6f20fc",
   "metadata": {},
   "source": [
    "### Primitive Data Types\n",
    "\n",
    "A particularly simple data type is a Boolean value, which can be either `true` or\n",
    "`false`."
   ]
  },
  {
   "cell_type": "code",
   "execution_count": 3,
   "id": "0becefc2",
   "metadata": {
    "hide-output": false
   },
   "outputs": [
    {
     "data": {
      "text/plain": [
       "true"
      ]
     },
     "execution_count": 3,
     "metadata": {},
     "output_type": "execute_result"
    }
   ],
   "source": [
    "x = true"
   ]
  },
  {
   "cell_type": "code",
   "execution_count": 4,
   "id": "8f9c5859",
   "metadata": {
    "hide-output": false
   },
   "outputs": [
    {
     "data": {
      "text/plain": [
       "Bool"
      ]
     },
     "execution_count": 4,
     "metadata": {},
     "output_type": "execute_result"
    }
   ],
   "source": [
    "typeof(x)"
   ]
  },
  {
   "cell_type": "code",
   "execution_count": 5,
   "id": "eb467b19",
   "metadata": {
    "hide-output": false
   },
   "outputs": [
    {
     "data": {
      "text/plain": [
       "false"
      ]
     },
     "execution_count": 5,
     "metadata": {},
     "output_type": "execute_result"
    }
   ],
   "source": [
    "y = 1 > 2  # now y = false "
   ]
  },
  {
   "cell_type": "markdown",
   "id": "a9e9aecc",
   "metadata": {},
   "source": [
    "The two most common data types used to represent numbers are integers and\n",
    "floats.\n",
    "\n",
    "(Computers distinguish between floats and integers because arithmetic is\n",
    "handled in a different way)"
   ]
  },
  {
   "cell_type": "code",
   "execution_count": 6,
   "id": "3ae8d319",
   "metadata": {
    "hide-output": false
   },
   "outputs": [
    {
     "data": {
      "text/plain": [
       "Float64"
      ]
     },
     "execution_count": 6,
     "metadata": {},
     "output_type": "execute_result"
    }
   ],
   "source": [
    "typeof(1.0)"
   ]
  },
  {
   "cell_type": "code",
   "execution_count": 7,
   "id": "da37c01f",
   "metadata": {
    "hide-output": false
   },
   "outputs": [
    {
     "data": {
      "text/plain": [
       "Int64"
      ]
     },
     "execution_count": 7,
     "metadata": {},
     "output_type": "execute_result"
    }
   ],
   "source": [
    "typeof(1)"
   ]
  },
  {
   "cell_type": "markdown",
   "id": "302f8e78",
   "metadata": {},
   "source": [
    "If you’re running a 32 bit system you’ll still see `Float64`, but you will see `Int32` instead of `Int64` (see [the section on Integer types](https://docs.julialang.org/en/v1.1/manual/integers-and-floating-point-numbers/#Integers-1) from the Julia manual).\n",
    "\n",
    "Arithmetic operations are fairly standard."
   ]
  },
  {
   "cell_type": "code",
   "execution_count": 9,
   "id": "a7ff3874",
   "metadata": {
    "hide-output": false
   },
   "outputs": [],
   "source": [
    "x = 2; "
   ]
  },
  {
   "cell_type": "code",
   "execution_count": 19,
   "id": "3a01829b",
   "metadata": {},
   "outputs": [],
   "source": [
    "x = 2; y = 3.0;"
   ]
  },
  {
   "cell_type": "markdown",
   "id": "851503be",
   "metadata": {},
   "source": [
    "The `;` can be used to suppress output from a line of code, or to combine two lines of code together (as above), but is otherwise not necessary."
   ]
  },
  {
   "cell_type": "code",
   "execution_count": 20,
   "id": "ef94e8dc",
   "metadata": {
    "hide-output": false
   },
   "outputs": [
    {
     "data": {
      "text/plain": [
       "6.0"
      ]
     },
     "execution_count": 20,
     "metadata": {},
     "output_type": "execute_result"
    }
   ],
   "source": [
    "x * y"
   ]
  },
  {
   "cell_type": "code",
   "execution_count": 21,
   "id": "f5ee127d",
   "metadata": {
    "hide-output": false
   },
   "outputs": [
    {
     "data": {
      "text/plain": [
       "4"
      ]
     },
     "execution_count": 21,
     "metadata": {},
     "output_type": "execute_result"
    }
   ],
   "source": [
    "x^2"
   ]
  },
  {
   "cell_type": "code",
   "execution_count": 22,
   "id": "be2164b6",
   "metadata": {
    "hide-output": false
   },
   "outputs": [
    {
     "data": {
      "text/plain": [
       "1.5"
      ]
     },
     "execution_count": 22,
     "metadata": {},
     "output_type": "execute_result"
    }
   ],
   "source": [
    "y / x"
   ]
  },
  {
   "cell_type": "markdown",
   "id": "6355bc3f",
   "metadata": {},
   "source": [
    "Although the `*` can be omitted for multiplication between a numeric literal and a variable."
   ]
  },
  {
   "cell_type": "code",
   "execution_count": 23,
   "id": "f96dd518",
   "metadata": {
    "hide-output": false
   },
   "outputs": [
    {
     "data": {
      "text/plain": [
       "-5.0"
      ]
     },
     "execution_count": 23,
     "metadata": {},
     "output_type": "execute_result"
    }
   ],
   "source": [
    "2x - 3y"
   ]
  },
  {
   "cell_type": "markdown",
   "id": "24ed478e",
   "metadata": {},
   "source": [
    "A useful tool for displaying both expressions and code is to use the `@show` macro, which displays the text and the results."
   ]
  },
  {
   "cell_type": "code",
   "execution_count": 26,
   "id": "111ab051",
   "metadata": {
    "hide-output": false
   },
   "outputs": [
    {
     "name": "stdout",
     "output_type": "stream",
     "text": [
      "(2x) ÷ (3y) = 0.0\n",
      "x + y = 5.0\n"
     ]
    }
   ],
   "source": [
    "@show 2x ÷ 3y\n",
    "@show x + y;"
   ]
  },
  {
   "cell_type": "markdown",
   "id": "40bc1877",
   "metadata": {},
   "source": [
    "Here we have used `;` to suppress the output on the last line, which otherwise returns the results of `x + y`.\n",
    "\n",
    "Complex numbers are another primitive data type, with the imaginary part being specified by `im`."
   ]
  },
  {
   "cell_type": "code",
   "execution_count": 28,
   "id": "d47aae15",
   "metadata": {
    "hide-output": false
   },
   "outputs": [
    {
     "data": {
      "text/plain": [
       "1 + 2im"
      ]
     },
     "execution_count": 28,
     "metadata": {},
     "output_type": "execute_result"
    }
   ],
   "source": [
    "x = 1 + 2im"
   ]
  },
  {
   "cell_type": "code",
   "execution_count": 29,
   "id": "ffad2b66",
   "metadata": {
    "hide-output": false
   },
   "outputs": [
    {
     "data": {
      "text/plain": [
       "1 - 2im"
      ]
     },
     "execution_count": 29,
     "metadata": {},
     "output_type": "execute_result"
    }
   ],
   "source": [
    "y = 1 - 2im"
   ]
  },
  {
   "cell_type": "code",
   "execution_count": 30,
   "id": "762a75e0",
   "metadata": {
    "hide-output": false
   },
   "outputs": [
    {
     "data": {
      "text/plain": [
       "5 + 0im"
      ]
     },
     "execution_count": 30,
     "metadata": {},
     "output_type": "execute_result"
    }
   ],
   "source": [
    "x * y  # complex multiplication"
   ]
  },
  {
   "cell_type": "markdown",
   "id": "2f0d72d9",
   "metadata": {},
   "source": [
    "There are several more primitive data types that we’ll introduce as necessary."
   ]
  },
  {
   "cell_type": "markdown",
   "id": "5d84afdf",
   "metadata": {},
   "source": [
    "### Strings\n",
    "\n",
    "A string is a data type for storing a sequence of characters.\n",
    "\n",
    "In Julia, strings are created using double quotation marks (single quotations are\n",
    "reserved for the character type)."
   ]
  },
  {
   "cell_type": "code",
   "execution_count": 31,
   "id": "b20bc0ce",
   "metadata": {
    "hide-output": false
   },
   "outputs": [
    {
     "data": {
      "text/plain": [
       "\"foobar\""
      ]
     },
     "execution_count": 31,
     "metadata": {},
     "output_type": "execute_result"
    }
   ],
   "source": [
    "x = \"foobar\""
   ]
  },
  {
   "cell_type": "code",
   "execution_count": 32,
   "id": "fdb0dc58",
   "metadata": {
    "hide-output": false
   },
   "outputs": [
    {
     "data": {
      "text/plain": [
       "String"
      ]
     },
     "execution_count": 32,
     "metadata": {},
     "output_type": "execute_result"
    }
   ],
   "source": [
    "typeof(x)"
   ]
  },
  {
   "cell_type": "code",
   "execution_count": 35,
   "id": "807dbfb4",
   "metadata": {},
   "outputs": [
    {
     "name": "stdout",
     "output_type": "stream",
     "text": [
      "foobar"
     ]
    }
   ],
   "source": [
    "for i in x\n",
    "    print(i)\n",
    "end"
   ]
  },
  {
   "cell_type": "markdown",
   "id": "5bb7b14b",
   "metadata": {},
   "source": [
    "You’ve already seen examples of Julia’s simple string formatting operations."
   ]
  },
  {
   "cell_type": "code",
   "execution_count": 36,
   "id": "91503e13",
   "metadata": {
    "hide-output": false
   },
   "outputs": [
    {
     "data": {
      "text/plain": [
       "20"
      ]
     },
     "execution_count": 36,
     "metadata": {},
     "output_type": "execute_result"
    }
   ],
   "source": [
    "x = 10; y = 20"
   ]
  },
  {
   "cell_type": "markdown",
   "id": "cc530788",
   "metadata": {},
   "source": [
    "The `$` inside of a string is used to interpolate a variable."
   ]
  },
  {
   "cell_type": "code",
   "execution_count": 37,
   "id": "720c20e3",
   "metadata": {
    "hide-output": false
   },
   "outputs": [
    {
     "data": {
      "text/plain": [
       "\"x = 10\""
      ]
     },
     "execution_count": 37,
     "metadata": {},
     "output_type": "execute_result"
    }
   ],
   "source": [
    "\"x = $x\""
   ]
  },
  {
   "cell_type": "markdown",
   "id": "3370a5d2",
   "metadata": {},
   "source": [
    "With parentheses, you can splice the results of expressions into strings as well."
   ]
  },
  {
   "cell_type": "code",
   "execution_count": 38,
   "id": "25aed947",
   "metadata": {
    "hide-output": false
   },
   "outputs": [
    {
     "data": {
      "text/plain": [
       "\"x + y = 30\""
      ]
     },
     "execution_count": 38,
     "metadata": {},
     "output_type": "execute_result"
    }
   ],
   "source": [
    "\"x + y = $(x + y)\""
   ]
  },
  {
   "cell_type": "code",
   "execution_count": 40,
   "id": "ae43089f",
   "metadata": {},
   "outputs": [
    {
     "data": {
      "text/plain": [
       "\"x + y = 10 + y\""
      ]
     },
     "execution_count": 40,
     "metadata": {},
     "output_type": "execute_result"
    }
   ],
   "source": [
    "\"x + y = $x + y\""
   ]
  },
  {
   "cell_type": "markdown",
   "id": "118209c7",
   "metadata": {},
   "source": [
    "To concatenate strings use `*`"
   ]
  },
  {
   "cell_type": "code",
   "execution_count": 41,
   "id": "8a557ed9",
   "metadata": {
    "hide-output": false
   },
   "outputs": [
    {
     "data": {
      "text/plain": [
       "\"foobar\""
      ]
     },
     "execution_count": 41,
     "metadata": {},
     "output_type": "execute_result"
    }
   ],
   "source": [
    "\"foo\" * \"bar\""
   ]
  },
  {
   "cell_type": "markdown",
   "id": "de104526",
   "metadata": {},
   "source": [
    "Julia provides many functions for working with strings."
   ]
  },
  {
   "cell_type": "code",
   "execution_count": 42,
   "id": "5f2c37db",
   "metadata": {
    "hide-output": false
   },
   "outputs": [
    {
     "data": {
      "text/plain": [
       "\"Charlie don't surf\""
      ]
     },
     "execution_count": 42,
     "metadata": {},
     "output_type": "execute_result"
    }
   ],
   "source": [
    "s = \"Charlie don't surf\""
   ]
  },
  {
   "cell_type": "code",
   "execution_count": 49,
   "id": "2e02ccb1",
   "metadata": {},
   "outputs": [
    {
     "data": {
      "text/plain": [
       "3-element Vector{SubString{String}}:\n",
       " \"Charlie\"\n",
       " \"don't\"\n",
       " \"surf\""
      ]
     },
     "execution_count": 49,
     "metadata": {},
     "output_type": "execute_result"
    }
   ],
   "source": [
    "split(s)"
   ]
  },
  {
   "cell_type": "code",
   "execution_count": 48,
   "id": "18afab25",
   "metadata": {
    "hide-output": false
   },
   "outputs": [
    {
     "data": {
      "text/plain": [
       "2-element Vector{SubString{String}}:\n",
       " \"Char\"\n",
       " \"ie don't surf\""
      ]
     },
     "execution_count": 48,
     "metadata": {},
     "output_type": "execute_result"
    }
   ],
   "source": [
    "split(s, \"l\")"
   ]
  },
  {
   "cell_type": "code",
   "execution_count": 46,
   "id": "c92f2dd0",
   "metadata": {
    "hide-output": false
   },
   "outputs": [
    {
     "data": {
      "text/plain": [
       "\"Charlie don't ski\""
      ]
     },
     "execution_count": 46,
     "metadata": {},
     "output_type": "execute_result"
    }
   ],
   "source": [
    "replace(s, \"surf\" => \"ski\")"
   ]
  },
  {
   "cell_type": "code",
   "execution_count": 47,
   "id": "43776e6e",
   "metadata": {
    "hide-output": false
   },
   "outputs": [
    {
     "data": {
      "text/plain": [
       "3-element Vector{SubString{String}}:\n",
       " \"fee\"\n",
       " \"fi\"\n",
       " \"fo\""
      ]
     },
     "execution_count": 47,
     "metadata": {},
     "output_type": "execute_result"
    }
   ],
   "source": [
    "split(\"fee,fi,fo\", \",\")"
   ]
  },
  {
   "cell_type": "code",
   "execution_count": 50,
   "id": "4f457a71",
   "metadata": {
    "hide-output": false
   },
   "outputs": [
    {
     "data": {
      "text/plain": [
       "\"foobar\""
      ]
     },
     "execution_count": 50,
     "metadata": {},
     "output_type": "execute_result"
    }
   ],
   "source": [
    "strip(\" foobar \")  # remove whitespace"
   ]
  },
  {
   "cell_type": "markdown",
   "id": "b1cdf48e",
   "metadata": {},
   "source": [
    "Julia can also find and replace using [regular expressions](https://en.wikipedia.org/wiki/Regular_expression) ([see regular expressions documentation](https://docs.julialang.org/en/v1/manual/strings/#Regular-Expressions-1) for more info)."
   ]
  },
  {
   "cell_type": "code",
   "execution_count": 54,
   "id": "85874b0b",
   "metadata": {
    "hide-output": false
   },
   "outputs": [
    {
     "data": {
      "text/plain": [
       "RegexMatch(\"100\", 1=\"100\")"
      ]
     },
     "execution_count": 54,
     "metadata": {},
     "output_type": "execute_result"
    }
   ],
   "source": [
    "match(r\"(\\d+)\", \"Top 100\")  # find digits in string"
   ]
  },
  {
   "cell_type": "markdown",
   "id": "414fdd58",
   "metadata": {},
   "source": [
    "### Containers\n",
    "\n",
    "Julia has several basic types for storing collections of data.\n",
    "\n",
    "We have already discussed arrays.\n",
    "\n",
    "A related data type is a **tuple**, which is immutable and can contain different types."
   ]
  },
  {
   "cell_type": "code",
   "execution_count": 55,
   "id": "5906bba4",
   "metadata": {
    "hide-output": false
   },
   "outputs": [
    {
     "data": {
      "text/plain": [
       "(\"foo\", 2)"
      ]
     },
     "execution_count": 55,
     "metadata": {},
     "output_type": "execute_result"
    }
   ],
   "source": [
    "x = (\"foo\", \"bar\")\n",
    "y = (\"foo\", 2)"
   ]
  },
  {
   "cell_type": "code",
   "execution_count": 56,
   "id": "0c3efa9a",
   "metadata": {
    "hide-output": false
   },
   "outputs": [
    {
     "data": {
      "text/plain": [
       "(Tuple{String, String}, Tuple{String, Int64})"
      ]
     },
     "execution_count": 56,
     "metadata": {},
     "output_type": "execute_result"
    }
   ],
   "source": [
    "typeof(x), typeof(y)"
   ]
  },
  {
   "cell_type": "markdown",
   "id": "cb9e1c0d",
   "metadata": {},
   "source": [
    "An immutable value is one that cannot be altered once it resides in memory.\n",
    "\n",
    "In particular, tuples do not support item assignment (i.e. `x[1] = \"test\"` would fail).\n",
    "\n",
    "Tuples can be constructed with or without parentheses."
   ]
  },
  {
   "cell_type": "code",
   "execution_count": 57,
   "id": "f7dec248",
   "metadata": {
    "hide-output": false
   },
   "outputs": [
    {
     "data": {
      "text/plain": [
       "(\"foo\", 1)"
      ]
     },
     "execution_count": 57,
     "metadata": {},
     "output_type": "execute_result"
    }
   ],
   "source": [
    "x = \"foo\", 1"
   ]
  },
  {
   "cell_type": "code",
   "execution_count": 58,
   "id": "e0d44bea",
   "metadata": {
    "hide-output": false
   },
   "outputs": [
    {
     "data": {
      "text/plain": [
       "(\"foo\", 1)"
      ]
     },
     "execution_count": 58,
     "metadata": {},
     "output_type": "execute_result"
    }
   ],
   "source": [
    "function f()\n",
    "    return \"foo\", 1\n",
    "end\n",
    "f()"
   ]
  },
  {
   "cell_type": "markdown",
   "id": "8cc04fdc",
   "metadata": {},
   "source": [
    "Tuples can also be unpacked directly into variables."
   ]
  },
  {
   "cell_type": "code",
   "execution_count": 59,
   "id": "aa328f1f",
   "metadata": {
    "hide-output": false
   },
   "outputs": [
    {
     "data": {
      "text/plain": [
       "(\"foo\", 1)"
      ]
     },
     "execution_count": 59,
     "metadata": {},
     "output_type": "execute_result"
    }
   ],
   "source": [
    "x = (\"foo\", 1)"
   ]
  },
  {
   "cell_type": "code",
   "execution_count": 60,
   "id": "c1fa53b4",
   "metadata": {
    "hide-output": false
   },
   "outputs": [
    {
     "name": "stdout",
     "output_type": "stream",
     "text": [
      "word = foo, val = 1\n"
     ]
    }
   ],
   "source": [
    "word, val = x\n",
    "println(\"word = $word, val = $val\")"
   ]
  },
  {
   "cell_type": "markdown",
   "id": "9287b226",
   "metadata": {},
   "source": [
    "Tuples can be created with a hanging `,` – this is useful to create a tuple with one element."
   ]
  },
  {
   "cell_type": "code",
   "execution_count": 62,
   "id": "d13a40cb",
   "metadata": {
    "hide-output": false
   },
   "outputs": [
    {
     "data": {
      "text/plain": [
       "(Tuple{String, Int64}, Tuple{String})"
      ]
     },
     "execution_count": 62,
     "metadata": {},
     "output_type": "execute_result"
    }
   ],
   "source": [
    "x = (\"foo\", 1,)\n",
    "y = (\"foo\",) # Tuples can be created with a hanging `,` – this is useful to create a tuple with one element.\n",
    "typeof(x), typeof(y)"
   ]
  },
  {
   "cell_type": "markdown",
   "id": "885e00a2",
   "metadata": {},
   "source": [
    "#### Referencing Items\n",
    "\n",
    "The last element of a sequence type can be accessed with the keyword `end`."
   ]
  },
  {
   "cell_type": "code",
   "execution_count": 63,
   "id": "357943b7",
   "metadata": {
    "hide-output": false
   },
   "outputs": [
    {
     "data": {
      "text/plain": [
       "4-element Vector{Int64}:\n",
       " 10\n",
       " 20\n",
       " 30\n",
       " 40"
      ]
     },
     "execution_count": 63,
     "metadata": {},
     "output_type": "execute_result"
    }
   ],
   "source": [
    "x = [10, 20, 30, 40]"
   ]
  },
  {
   "cell_type": "code",
   "execution_count": 64,
   "id": "bddd1bcc",
   "metadata": {
    "hide-output": false
   },
   "outputs": [
    {
     "data": {
      "text/plain": [
       "40"
      ]
     },
     "execution_count": 64,
     "metadata": {},
     "output_type": "execute_result"
    }
   ],
   "source": [
    "x[end]"
   ]
  },
  {
   "cell_type": "code",
   "execution_count": 65,
   "id": "d478fa34",
   "metadata": {
    "hide-output": false
   },
   "outputs": [
    {
     "data": {
      "text/plain": [
       "30"
      ]
     },
     "execution_count": 65,
     "metadata": {},
     "output_type": "execute_result"
    }
   ],
   "source": [
    "x[end-1]"
   ]
  },
  {
   "cell_type": "markdown",
   "id": "f0dfdaf2",
   "metadata": {},
   "source": [
    "To access multiple elements of an array or tuple, you can use slice notation."
   ]
  },
  {
   "cell_type": "code",
   "execution_count": 66,
   "id": "8a7cca62",
   "metadata": {
    "hide-output": false
   },
   "outputs": [
    {
     "data": {
      "text/plain": [
       "3-element Vector{Int64}:\n",
       " 10\n",
       " 20\n",
       " 30"
      ]
     },
     "execution_count": 66,
     "metadata": {},
     "output_type": "execute_result"
    }
   ],
   "source": [
    "x[1:3]"
   ]
  },
  {
   "cell_type": "code",
   "execution_count": 84,
   "id": "9ad273ce",
   "metadata": {},
   "outputs": [
    {
     "data": {
      "text/plain": [
       "2-element Vector{Int64}:\n",
       " 10\n",
       " 30"
      ]
     },
     "execution_count": 84,
     "metadata": {},
     "output_type": "execute_result"
    }
   ],
   "source": [
    "x[[1, 3]]"
   ]
  },
  {
   "cell_type": "code",
   "execution_count": 67,
   "id": "65c98643",
   "metadata": {
    "hide-output": false
   },
   "outputs": [
    {
     "data": {
      "text/plain": [
       "3-element Vector{Int64}:\n",
       " 20\n",
       " 30\n",
       " 40"
      ]
     },
     "execution_count": 67,
     "metadata": {},
     "output_type": "execute_result"
    }
   ],
   "source": [
    "x[2:end]"
   ]
  },
  {
   "cell_type": "markdown",
   "id": "5f7d3dc0",
   "metadata": {},
   "source": [
    "The same slice notation works on strings."
   ]
  },
  {
   "cell_type": "code",
   "execution_count": 68,
   "id": "f3ec2210",
   "metadata": {
    "hide-output": false
   },
   "outputs": [
    {
     "data": {
      "text/plain": [
       "\"obar\""
      ]
     },
     "execution_count": 68,
     "metadata": {},
     "output_type": "execute_result"
    }
   ],
   "source": [
    "\"foobar\"[3:end]"
   ]
  },
  {
   "cell_type": "markdown",
   "id": "77a7b39a",
   "metadata": {},
   "source": [
    "#### Dictionaries\n",
    "\n",
    "Another container type worth mentioning is dictionaries.\n",
    "\n",
    "Dictionaries are like arrays except that the items are named instead of numbered."
   ]
  },
  {
   "cell_type": "code",
   "execution_count": 69,
   "id": "ff0cf6d2",
   "metadata": {
    "hide-output": false
   },
   "outputs": [
    {
     "data": {
      "text/plain": [
       "Dict{String, Any} with 2 entries:\n",
       "  \"name\" => \"Frodo\"\n",
       "  \"age\"  => 33"
      ]
     },
     "execution_count": 69,
     "metadata": {},
     "output_type": "execute_result"
    }
   ],
   "source": [
    "d = Dict(\"name\" => \"Frodo\", \"age\" => 33)"
   ]
  },
  {
   "cell_type": "code",
   "execution_count": 70,
   "id": "661aa6d5",
   "metadata": {
    "hide-output": false
   },
   "outputs": [
    {
     "data": {
      "text/plain": [
       "33"
      ]
     },
     "execution_count": 70,
     "metadata": {},
     "output_type": "execute_result"
    }
   ],
   "source": [
    "d[\"age\"]"
   ]
  },
  {
   "cell_type": "markdown",
   "id": "40cf0567",
   "metadata": {},
   "source": [
    "The strings `name` and `age` are called the **keys**.\n",
    "\n",
    "The keys are mapped to **values** (in this case `\"Frodo\"` and `33`).\n",
    "\n",
    "They can be accessed via `keys(d)` and `values(d)` respectively.\n",
    "\n",
    "**Note** Unlike in Python and some other dynamic languages, dictionaries\n",
    "are rarely the right approach (ie. often referred to as “the devil’s datastructure”).\n",
    "\n",
    "The flexibility (i.e. can store anything and use anything as a key) frequently\n",
    "comes at the cost of performance if misused.\n",
    "\n",
    "**It is usually better to have collections of parameters and results in a named\n",
    "tuple, which both provide the compiler with more opportunties to optimize the\n",
    "performance, and also makes the code more safe.**\n",
    "\n",
    "\n",
    "<a id='iterating-version-1'></a>"
   ]
  },
  {
   "cell_type": "markdown",
   "id": "2e0eb3b7",
   "metadata": {},
   "source": [
    "## Iterating\n",
    "\n",
    "One of the most important tasks in computing is stepping through a\n",
    "sequence of data and performing a given action.\n",
    "\n",
    "Julia provides neat and flexible tools for iteration as we now discuss."
   ]
  },
  {
   "cell_type": "markdown",
   "id": "3a3c1500",
   "metadata": {},
   "source": [
    "### Iterables\n",
    "\n",
    "An **iterable** is something you can put on the right hand side of `for` and loop over.\n",
    "\n",
    "These include sequence data types like arrays."
   ]
  },
  {
   "cell_type": "code",
   "execution_count": 71,
   "id": "9470b016",
   "metadata": {
    "hide-output": false
   },
   "outputs": [
    {
     "name": "stdout",
     "output_type": "stream",
     "text": [
      "Charlie doesn't surf\n",
      "Charlie doesn't ski\n"
     ]
    }
   ],
   "source": [
    "actions = [\"surf\", \"ski\"]\n",
    "for action in actions\n",
    "    println(\"Charlie doesn't $action\")\n",
    "end"
   ]
  },
  {
   "cell_type": "markdown",
   "id": "d09f14e9",
   "metadata": {},
   "source": [
    "They also include so-called **iterators**.\n",
    "\n",
    "You’ve already come across these types of values"
   ]
  },
  {
   "cell_type": "code",
   "execution_count": 73,
   "id": "e0209efb",
   "metadata": {
    "hide-output": false
   },
   "outputs": [
    {
     "name": "stdout",
     "output_type": "stream",
     "text": [
      "123"
     ]
    }
   ],
   "source": [
    "for i in 1:3  #1:3 is an interator\n",
    "    print(i)\n",
    "end"
   ]
  },
  {
   "cell_type": "markdown",
   "id": "11241c4d",
   "metadata": {},
   "source": [
    "If you ask for the keys of dictionary you get an iterator"
   ]
  },
  {
   "cell_type": "code",
   "execution_count": 74,
   "id": "94d813c2",
   "metadata": {
    "hide-output": false
   },
   "outputs": [
    {
     "data": {
      "text/plain": [
       "Dict{String, Any} with 2 entries:\n",
       "  \"name\" => \"Frodo\"\n",
       "  \"age\"  => 33"
      ]
     },
     "execution_count": 74,
     "metadata": {},
     "output_type": "execute_result"
    }
   ],
   "source": [
    "d = Dict(\"name\" => \"Frodo\", \"age\" => 33)"
   ]
  },
  {
   "cell_type": "code",
   "execution_count": 76,
   "id": "b1714326",
   "metadata": {
    "hide-output": false
   },
   "outputs": [
    {
     "name": "stdout",
     "output_type": "stream",
     "text": [
      "name\n",
      "age\n"
     ]
    }
   ],
   "source": [
    "for i in keys(d)\n",
    "    println(i)\n",
    "end"
   ]
  },
  {
   "cell_type": "markdown",
   "id": "8dd8bd5e",
   "metadata": {},
   "source": [
    "This makes sense, since the most common thing you want to do with keys is loop over them.\n",
    "\n",
    "The benefit of providing an iterator rather than an array, say, is that the former is more memory efficient.\n",
    "\n",
    "Should you need to transform an iterator into an array you can always use `collect()`."
   ]
  },
  {
   "cell_type": "code",
   "execution_count": 77,
   "id": "8ee4a51f",
   "metadata": {
    "hide-output": false
   },
   "outputs": [
    {
     "data": {
      "text/plain": [
       "2-element Vector{String}:\n",
       " \"name\"\n",
       " \"age\""
      ]
     },
     "execution_count": 77,
     "metadata": {},
     "output_type": "execute_result"
    }
   ],
   "source": [
    "collect(keys(d))"
   ]
  },
  {
   "cell_type": "markdown",
   "id": "9a3e6738",
   "metadata": {},
   "source": [
    "### Looping without Indices\n",
    "\n",
    "You can loop over sequences without explicit indexing, which often leads to\n",
    "neater code.\n",
    "\n",
    "For example compare"
   ]
  },
  {
   "cell_type": "code",
   "execution_count": 78,
   "id": "857c1daf",
   "metadata": {
    "hide-output": false
   },
   "outputs": [
    {
     "data": {
      "text/plain": [
       "1:5"
      ]
     },
     "execution_count": 78,
     "metadata": {},
     "output_type": "execute_result"
    }
   ],
   "source": [
    "x_values = 1:5"
   ]
  },
  {
   "cell_type": "code",
   "execution_count": 79,
   "id": "b796e165",
   "metadata": {
    "hide-output": false
   },
   "outputs": [
    {
     "name": "stdout",
     "output_type": "stream",
     "text": [
      "1\n",
      "4\n",
      "9\n",
      "16\n",
      "25\n"
     ]
    }
   ],
   "source": [
    "for x in x_values\n",
    "    println(x * x)\n",
    "end"
   ]
  },
  {
   "cell_type": "code",
   "execution_count": 82,
   "id": "f3991447",
   "metadata": {},
   "outputs": [
    {
     "data": {
      "text/plain": [
       "5-element Vector{Int64}:\n",
       " 1\n",
       " 2\n",
       " 3\n",
       " 4\n",
       " 5"
      ]
     },
     "execution_count": 82,
     "metadata": {},
     "output_type": "execute_result"
    }
   ],
   "source": [
    "collect(eachindex(x_values))"
   ]
  },
  {
   "cell_type": "code",
   "execution_count": 80,
   "id": "7d8ab60d",
   "metadata": {
    "hide-output": false
   },
   "outputs": [
    {
     "name": "stdout",
     "output_type": "stream",
     "text": [
      "1\n",
      "4\n",
      "9\n",
      "16\n",
      "25\n"
     ]
    }
   ],
   "source": [
    "for i in eachindex(x_values)\n",
    "    println(x_values[i] * x_values[i])\n",
    "end"
   ]
  },
  {
   "cell_type": "code",
   "execution_count": 83,
   "id": "49709a42",
   "metadata": {},
   "outputs": [
    {
     "data": {
      "text/plain": [
       "2-element Vector{Any}:\n",
       " 1\n",
       "  \"ai\""
      ]
     },
     "execution_count": 83,
     "metadata": {},
     "output_type": "execute_result"
    }
   ],
   "source": [
    "[1, \"ai\"]"
   ]
  },
  {
   "cell_type": "markdown",
   "id": "0ed80dfb",
   "metadata": {},
   "source": [
    "Julia provides some functional-style helper functions (similar to Python and R) to facilitate looping without indices.\n",
    "\n",
    "One is `zip()`, which is used for stepping through pairs from two sequences.\n",
    "\n",
    "For example, try running the following code"
   ]
  },
  {
   "cell_type": "code",
   "execution_count": 85,
   "id": "29f45e9d",
   "metadata": {
    "hide-output": false
   },
   "outputs": [
    {
     "name": "stdout",
     "output_type": "stream",
     "text": [
      "The capital of Japan is Tokyo\n",
      "The capital of Korea is Seoul\n",
      "The capital of China is Beijing\n"
     ]
    }
   ],
   "source": [
    "countries = (\"Japan\", \"Korea\", \"China\")\n",
    "cities = (\"Tokyo\", \"Seoul\", \"Beijing\")\n",
    "for (country, city) in zip(countries, cities)\n",
    "    println(\"The capital of $country is $city\")\n",
    "end"
   ]
  },
  {
   "cell_type": "markdown",
   "id": "c8124985",
   "metadata": {},
   "source": [
    "If we happen to need the index as well as the value, one option is to use `enumerate()`.\n",
    "\n",
    "The following snippet will give you the idea"
   ]
  },
  {
   "cell_type": "code",
   "execution_count": 86,
   "id": "5f46fc63",
   "metadata": {
    "hide-output": false
   },
   "outputs": [
    {
     "name": "stdout",
     "output_type": "stream",
     "text": [
      "1: The capital of Japan is Tokyo\n",
      "2: The capital of Korea is Seoul\n",
      "3: The capital of China is Beijing\n"
     ]
    }
   ],
   "source": [
    "countries = (\"Japan\", \"Korea\", \"China\")\n",
    "cities = (\"Tokyo\", \"Seoul\", \"Beijing\")\n",
    "for (i, country) in enumerate(countries)\n",
    "    city = cities[i]\n",
    "    println(\"$i: The capital of $country is $city\")\n",
    "end"
   ]
  },
  {
   "cell_type": "markdown",
   "id": "9895ef1e",
   "metadata": {},
   "source": [
    "### Comprehensions\n",
    "\n",
    "([See comprehensions documentation](https://docs.julialang.org/en/v1/manual/arrays/#man-comprehensions-1))\n",
    "\n",
    "Comprehensions are an elegant tool for creating new arrays, dictionaries, etc. from iterables.\n",
    "\n",
    "Here are some examples"
   ]
  },
  {
   "cell_type": "code",
   "execution_count": 87,
   "id": "fadc5146",
   "metadata": {
    "hide-output": false
   },
   "outputs": [
    {
     "data": {
      "text/plain": [
       "4-element Vector{Int64}:\n",
       " 2\n",
       " 4\n",
       " 6\n",
       " 8"
      ]
     },
     "execution_count": 87,
     "metadata": {},
     "output_type": "execute_result"
    }
   ],
   "source": [
    "doubles = [ 2i for i in 1:4 ]"
   ]
  },
  {
   "cell_type": "code",
   "execution_count": 88,
   "id": "41041c92",
   "metadata": {
    "hide-output": false
   },
   "outputs": [],
   "source": [
    "animals = [\"dog\", \"cat\", \"bird\"];   # Semicolon suppresses output"
   ]
  },
  {
   "cell_type": "code",
   "execution_count": 89,
   "id": "3a16194a",
   "metadata": {
    "hide-output": false
   },
   "outputs": [
    {
     "data": {
      "text/plain": [
       "3-element Vector{String}:\n",
       " \"dogs\"\n",
       " \"cats\"\n",
       " \"birds\""
      ]
     },
     "execution_count": 89,
     "metadata": {},
     "output_type": "execute_result"
    }
   ],
   "source": [
    "plurals = [ animal * \"s\" for animal in animals ]"
   ]
  },
  {
   "cell_type": "code",
   "execution_count": 91,
   "id": "77d640a3",
   "metadata": {
    "hide-output": false
   },
   "outputs": [
    {
     "data": {
      "text/plain": [
       "3×3 Matrix{Int64}:\n",
       " 5  6  7\n",
       " 6  7  8\n",
       " 7  8  9"
      ]
     },
     "execution_count": 91,
     "metadata": {},
     "output_type": "execute_result"
    }
   ],
   "source": [
    "[ i + j for i in 1:3, j in 4:6 ] # different form python!! (generates matrix here)"
   ]
  },
  {
   "cell_type": "code",
   "execution_count": 92,
   "id": "b9357e81",
   "metadata": {
    "hide-output": false
   },
   "outputs": [
    {
     "data": {
      "text/plain": [
       "3×3×3 Array{Int64, 3}:\n",
       "[:, :, 1] =\n",
       " 12  13  14\n",
       " 13  14  15\n",
       " 14  15  16\n",
       "\n",
       "[:, :, 2] =\n",
       " 13  14  15\n",
       " 14  15  16\n",
       " 15  16  17\n",
       "\n",
       "[:, :, 3] =\n",
       " 14  15  16\n",
       " 15  16  17\n",
       " 16  17  18"
      ]
     },
     "execution_count": 92,
     "metadata": {},
     "output_type": "execute_result"
    }
   ],
   "source": [
    "[ i + j + k for i in 1:3, j in 4:6, k in 7:9 ]"
   ]
  },
  {
   "cell_type": "markdown",
   "id": "d4aeab53",
   "metadata": {},
   "source": [
    "Comprehensions can also create arrays of tuples or named tuples"
   ]
  },
  {
   "cell_type": "code",
   "execution_count": 93,
   "id": "b10aaeaa",
   "metadata": {
    "hide-output": false
   },
   "outputs": [
    {
     "data": {
      "text/plain": [
       "2×3 Matrix{Tuple{Int64, String}}:\n",
       " (1, \"dog\")  (1, \"cat\")  (1, \"bird\")\n",
       " (2, \"dog\")  (2, \"cat\")  (2, \"bird\")"
      ]
     },
     "execution_count": 93,
     "metadata": {},
     "output_type": "execute_result"
    }
   ],
   "source": [
    "[ (i, j) for i in 1:2, j in animals]"
   ]
  },
  {
   "cell_type": "code",
   "execution_count": 94,
   "id": "993a981d",
   "metadata": {
    "hide-output": false
   },
   "outputs": [
    {
     "data": {
      "text/plain": [
       "2×3 Matrix{NamedTuple{(:num, :animal), Tuple{Int64, String}}}:\n",
       " (num = 1, animal = \"dog\")  …  (num = 1, animal = \"bird\")\n",
       " (num = 2, animal = \"dog\")     (num = 2, animal = \"bird\")"
      ]
     },
     "execution_count": 94,
     "metadata": {},
     "output_type": "execute_result"
    }
   ],
   "source": [
    "[ (num = i, animal = j) for i in 1:2, j in animals]"
   ]
  },
  {
   "cell_type": "code",
   "execution_count": 96,
   "id": "0ac2726a",
   "metadata": {},
   "outputs": [
    {
     "data": {
      "text/plain": [
       "(a = 1, b = 2, c = \"dog\")"
      ]
     },
     "execution_count": 96,
     "metadata": {},
     "output_type": "execute_result"
    }
   ],
   "source": [
    "x = (a = 1, b = 2, c = \"dog\")"
   ]
  },
  {
   "cell_type": "code",
   "execution_count": 102,
   "id": "49fc52fc",
   "metadata": {},
   "outputs": [
    {
     "data": {
      "text/plain": [
       "\"dog\""
      ]
     },
     "execution_count": 102,
     "metadata": {},
     "output_type": "execute_result"
    }
   ],
   "source": [
    "x.c"
   ]
  },
  {
   "cell_type": "code",
   "execution_count": 103,
   "id": "c5f3d7c5",
   "metadata": {},
   "outputs": [
    {
     "data": {
      "text/plain": [
       "\"dog\""
      ]
     },
     "execution_count": 103,
     "metadata": {},
     "output_type": "execute_result"
    }
   ],
   "source": [
    "x[:c]"
   ]
  },
  {
   "cell_type": "code",
   "execution_count": 104,
   "id": "c96c6cb0",
   "metadata": {},
   "outputs": [
    {
     "data": {
      "text/plain": [
       "1"
      ]
     },
     "execution_count": 104,
     "metadata": {},
     "output_type": "execute_result"
    }
   ],
   "source": [
    "x[1]"
   ]
  },
  {
   "cell_type": "markdown",
   "id": "05e31005",
   "metadata": {},
   "source": [
    "### Generators\n",
    "\n",
    "([See generator documentation](https://docs.julialang.org/en/v1/manual/arrays/#Generator-Expressions-1))\n",
    "\n",
    "In some cases, you may wish to use a comprehension to create an iterable list rather\n",
    "than actually making it a concrete array.\n",
    "\n",
    "The benefit of this is that **you can use functions which take general iterators rather\n",
    "than arrays without allocating and storing any temporary values.**\n",
    "\n",
    "For example, the following code generates a temporary array of size 10,000 and finds the sum."
   ]
  },
  {
   "cell_type": "code",
   "execution_count": 105,
   "id": "fe824c12",
   "metadata": {
    "hide-output": false
   },
   "outputs": [
    {
     "data": {
      "text/plain": [
       "333383335000"
      ]
     },
     "execution_count": 105,
     "metadata": {},
     "output_type": "execute_result"
    }
   ],
   "source": [
    "xs = 1:10000\n",
    "f(x) = x^2\n",
    "f_x = f.(xs)\n",
    "sum(f_x)"
   ]
  },
  {
   "cell_type": "markdown",
   "id": "aaebe865",
   "metadata": {},
   "source": [
    "We could have created the temporary using a comprehension, or even done the comprehension\n",
    "within the `sum` function, but these all create temporary arrays."
   ]
  },
  {
   "cell_type": "code",
   "execution_count": 106,
   "id": "0f26f8fb",
   "metadata": {
    "hide-output": false
   },
   "outputs": [
    {
     "name": "stdout",
     "output_type": "stream",
     "text": [
      "sum(f_x2) = 333383335000\n",
      "sum([f(x) for x = xs]) = 333383335000\n"
     ]
    }
   ],
   "source": [
    "f_x2 = [f(x) for x in xs]\n",
    "@show sum(f_x2)\n",
    "@show sum([f(x) for x in xs]); # still allocates temporary"
   ]
  },
  {
   "cell_type": "markdown",
   "id": "bfa4b623",
   "metadata": {},
   "source": [
    "Note, that if you were hand-code this, you would be able to calculate the sum by simply\n",
    "iterating to 10000, applying `f` to each number, and accumulating the results.  No temporary\n",
    "vectors would be necessary.\n",
    "\n",
    "A generator can emulate this behavior, leading to clear (and sometimes more efficient) code when used\n",
    "with any function that accepts iterators.  All you need to do is drop the `]` brackets."
   ]
  },
  {
   "cell_type": "code",
   "execution_count": 107,
   "id": "f4cdba6e",
   "metadata": {
    "hide-output": false
   },
   "outputs": [
    {
     "data": {
      "text/plain": [
       "333383335000"
      ]
     },
     "execution_count": 107,
     "metadata": {},
     "output_type": "execute_result"
    }
   ],
   "source": [
    "sum(f(x) for x in xs) # generator leads to faster code in this case!!"
   ]
  },
  {
   "cell_type": "markdown",
   "id": "1ffded82",
   "metadata": {},
   "source": [
    "We can use `BenchmarkTools` to investigate"
   ]
  },
  {
   "cell_type": "code",
   "execution_count": 109,
   "id": "b0058a2b",
   "metadata": {
    "hide-output": false
   },
   "outputs": [
    {
     "name": "stdout",
     "output_type": "stream",
     "text": [
      "  5.942 μs (4 allocations: 78.22 KiB)\n",
      "  5.551 μs (2 allocations: 78.17 KiB)\n",
      "  1.352 μs (0 allocations: 0 bytes)\n"
     ]
    }
   ],
   "source": [
    "using BenchmarkTools\n",
    "@btime sum([f(x) for x in xs])\n",
    "@btime sum(f.($xs))\n",
    "@btime sum(f(x) for x in $xs);"
   ]
  },
  {
   "cell_type": "markdown",
   "id": "c114d8d2",
   "metadata": {},
   "source": [
    "Notice that the first two cases are nearly identical, and allocate a temporary array, while the\n",
    "final case using generators has no allocations.\n",
    "\n",
    "In this example you may see a speedup of over 1000x.  Whether using generators leads to code that is faster or slower depends on the cirumstances, and you should (1) always profile rather than guess; and (2) worry about code clarify first, and performance second—if ever."
   ]
  },
  {
   "cell_type": "markdown",
   "id": "52e81bac",
   "metadata": {},
   "source": [
    "## Comparisons and Logical Operators"
   ]
  },
  {
   "cell_type": "markdown",
   "id": "25c23a67",
   "metadata": {},
   "source": [
    "### Comparisons\n",
    "\n",
    "As we saw earlier, when testing for equality we use `==`."
   ]
  },
  {
   "cell_type": "code",
   "execution_count": 110,
   "id": "da943443",
   "metadata": {
    "hide-output": false
   },
   "outputs": [
    {
     "data": {
      "text/plain": [
       "1"
      ]
     },
     "execution_count": 110,
     "metadata": {},
     "output_type": "execute_result"
    }
   ],
   "source": [
    "x = 1"
   ]
  },
  {
   "cell_type": "code",
   "execution_count": 111,
   "id": "128f2a6b",
   "metadata": {
    "hide-output": false
   },
   "outputs": [
    {
     "data": {
      "text/plain": [
       "false"
      ]
     },
     "execution_count": 111,
     "metadata": {},
     "output_type": "execute_result"
    }
   ],
   "source": [
    "x == 2"
   ]
  },
  {
   "cell_type": "markdown",
   "id": "d5115c94",
   "metadata": {},
   "source": [
    "For “not equal” use `!=` or `≠` (`\\ne<TAB>`)."
   ]
  },
  {
   "cell_type": "code",
   "execution_count": 112,
   "id": "249ffe43",
   "metadata": {
    "hide-output": false
   },
   "outputs": [
    {
     "data": {
      "text/plain": [
       "true"
      ]
     },
     "execution_count": 112,
     "metadata": {},
     "output_type": "execute_result"
    }
   ],
   "source": [
    "x != 3"
   ]
  },
  {
   "cell_type": "markdown",
   "id": "c9b29729",
   "metadata": {},
   "source": [
    "Julia can also test approximate equality with `≈` (`\\approx<TAB>`)."
   ]
  },
  {
   "cell_type": "code",
   "execution_count": 114,
   "id": "f249946b",
   "metadata": {
    "hide-output": false
   },
   "outputs": [
    {
     "data": {
      "text/plain": [
       "true"
      ]
     },
     "execution_count": 114,
     "metadata": {},
     "output_type": "execute_result"
    }
   ],
   "source": [
    "1 + 1E-8 ≈ 1"
   ]
  },
  {
   "cell_type": "markdown",
   "id": "ffd5385a",
   "metadata": {},
   "source": [
    "Be careful when using this, however, as there are subtleties involving the scales of the quantities compared."
   ]
  },
  {
   "cell_type": "markdown",
   "id": "cb538fe0",
   "metadata": {},
   "source": [
    "### Combining Expressions\n",
    "\n",
    "Here are the standard logical connectives (conjunction, disjunction)"
   ]
  },
  {
   "cell_type": "code",
   "execution_count": 115,
   "id": "362918ea",
   "metadata": {
    "hide-output": false
   },
   "outputs": [
    {
     "data": {
      "text/plain": [
       "false"
      ]
     },
     "execution_count": 115,
     "metadata": {},
     "output_type": "execute_result"
    }
   ],
   "source": [
    "true && false"
   ]
  },
  {
   "cell_type": "code",
   "execution_count": 116,
   "id": "e7f837ca",
   "metadata": {
    "hide-output": false
   },
   "outputs": [
    {
     "data": {
      "text/plain": [
       "true"
      ]
     },
     "execution_count": 116,
     "metadata": {},
     "output_type": "execute_result"
    }
   ],
   "source": [
    "true || false"
   ]
  },
  {
   "cell_type": "markdown",
   "id": "7fd27658",
   "metadata": {},
   "source": [
    "Remember\n",
    "\n",
    "- `P && Q` is `true` if both are `true`, otherwise it’s `false`.  \n",
    "- `P || Q` is `false` if both are `false`, otherwise it’s `true`.  "
   ]
  },
  {
   "cell_type": "markdown",
   "id": "bcb0fae6",
   "metadata": {},
   "source": [
    "## User-Defined Functions\n",
    "\n",
    "Let’s talk a little more about user-defined functions.\n",
    "\n",
    "User-defined functions are important for improving the clarity of your code by\n",
    "\n",
    "- separating different strands of logic  \n",
    "- facilitating code reuse (writing the same thing twice is always a bad idea)  \n",
    "\n",
    "\n",
    "Julia functions are convenient:\n",
    "\n",
    "- Any number of functions can be defined in a given file.  \n",
    "- Any “value” can be passed to a function as an argument, including other functions.  \n",
    "- Functions can be (and often are) defined inside other functions.  \n",
    "- A function can return any kind of value, including functions.  \n",
    "\n",
    "\n",
    "We’ll see many examples of these structures in the following lectures.\n",
    "\n",
    "For now let’s just cover some of the different ways of defining functions."
   ]
  },
  {
   "cell_type": "markdown",
   "id": "d70bc0b8",
   "metadata": {},
   "source": [
    "### Return Statement\n",
    "\n",
    "In Julia, the `return` statement is optional, so that the following functions\n",
    "have identical behavior"
   ]
  },
  {
   "cell_type": "code",
   "execution_count": 117,
   "id": "9376f130",
   "metadata": {
    "hide-output": false
   },
   "outputs": [
    {
     "data": {
      "text/plain": [
       "f2 (generic function with 1 method)"
      ]
     },
     "execution_count": 117,
     "metadata": {},
     "output_type": "execute_result"
    }
   ],
   "source": [
    "function f1(a, b)\n",
    "    return a * b\n",
    "end\n",
    "\n",
    "function f2(a, b)\n",
    "    a * b\n",
    "end"
   ]
  },
  {
   "cell_type": "markdown",
   "id": "12915a62",
   "metadata": {},
   "source": [
    "When no return statement is present, the last value obtained when executing the code block is returned.\n",
    "\n",
    "Although some prefer the second option, we often favor the former on the basis that explicit is better than implicit.\n",
    "\n",
    "A function can have arbitrarily many `return` statements, with execution terminating when the first return is hit.\n",
    "\n",
    "You can see this in action when experimenting with the following function"
   ]
  },
  {
   "cell_type": "code",
   "execution_count": 118,
   "id": "1b450096",
   "metadata": {
    "hide-output": false
   },
   "outputs": [
    {
     "data": {
      "text/plain": [
       "foo (generic function with 1 method)"
      ]
     },
     "execution_count": 118,
     "metadata": {},
     "output_type": "execute_result"
    }
   ],
   "source": [
    "function foo(x)\n",
    "    if x > 0\n",
    "        return \"positive\"\n",
    "    end\n",
    "    return \"nonpositive\"\n",
    "end"
   ]
  },
  {
   "cell_type": "markdown",
   "id": "37f78882",
   "metadata": {},
   "source": [
    "### Other Syntax for Defining Functions\n",
    "\n",
    "For short function definitions Julia offers some attractive simplified syntax.\n",
    "\n",
    "First, when the function body is a simple expression, it can be defined\n",
    "without the `function` keyword or `end`."
   ]
  },
  {
   "cell_type": "code",
   "execution_count": 119,
   "id": "624cbb47",
   "metadata": {
    "hide-output": false
   },
   "outputs": [
    {
     "data": {
      "text/plain": [
       "f (generic function with 2 methods)"
      ]
     },
     "execution_count": 119,
     "metadata": {},
     "output_type": "execute_result"
    }
   ],
   "source": [
    "f(x) = sin(1 / x)"
   ]
  },
  {
   "cell_type": "markdown",
   "id": "71ea5a4a",
   "metadata": {},
   "source": [
    "Let’s check that it works"
   ]
  },
  {
   "cell_type": "code",
   "execution_count": 120,
   "id": "f467c7ce",
   "metadata": {
    "hide-output": false
   },
   "outputs": [
    {
     "data": {
      "text/plain": [
       "1.2246467991473532e-16"
      ]
     },
     "execution_count": 120,
     "metadata": {},
     "output_type": "execute_result"
    }
   ],
   "source": [
    "f(1 / pi)"
   ]
  },
  {
   "cell_type": "markdown",
   "id": "41cd60c6",
   "metadata": {},
   "source": [
    "Julia also allows you to define anonymous functions.\n",
    "\n",
    "For example, to define `f(x) = sin(1 / x)` you can use `x -> sin(1 / x)`.\n",
    "\n",
    "The difference is that the second function has no name bound to it.\n",
    "\n",
    "How can you use a function with no name?\n",
    "\n",
    "Typically it’s as an argument to another function"
   ]
  },
  {
   "cell_type": "code",
   "execution_count": 157,
   "id": "d15a66d4",
   "metadata": {
    "hide-output": false
   },
   "outputs": [
    {
     "data": {
      "text/plain": [
       "3-element Vector{Float64}:\n",
       " 0.0\n",
       " 1.0\n",
       " 1.2246467991473532e-16"
      ]
     },
     "execution_count": 157,
     "metadata": {},
     "output_type": "execute_result"
    }
   ],
   "source": [
    "map(x -> sin(x), [0, 0.5π, π])  # apply function to each element"
   ]
  },
  {
   "cell_type": "markdown",
   "id": "c97d329f",
   "metadata": {},
   "source": [
    "### Optional and Keyword Arguments\n",
    "\n",
    "([See keyword arguments documentation](https://docs.julialang.org/en/v1/manual/functions/#Keyword-Arguments-1))\n",
    "\n",
    "Function arguments can be given default values"
   ]
  },
  {
   "cell_type": "code",
   "execution_count": 1,
   "id": "c92ab586",
   "metadata": {
    "hide-output": false
   },
   "outputs": [
    {
     "data": {
      "text/plain": [
       "f (generic function with 2 methods)"
      ]
     },
     "execution_count": 1,
     "metadata": {},
     "output_type": "execute_result"
    }
   ],
   "source": [
    "f(x, a = 1) = exp(cos(a * x))"
   ]
  },
  {
   "cell_type": "markdown",
   "id": "f28c0c1f",
   "metadata": {},
   "source": [
    "If the argument is not supplied, the default value is substituted."
   ]
  },
  {
   "cell_type": "code",
   "execution_count": 2,
   "id": "6629a5da",
   "metadata": {
    "hide-output": false
   },
   "outputs": [
    {
     "data": {
      "text/plain": [
       "0.36787944117144233"
      ]
     },
     "execution_count": 2,
     "metadata": {},
     "output_type": "execute_result"
    }
   ],
   "source": [
    "f(pi)"
   ]
  },
  {
   "cell_type": "code",
   "execution_count": 6,
   "id": "9ac88335",
   "metadata": {
    "hide-output": false
   },
   "outputs": [
    {
     "data": {
      "text/plain": [
       "2.718281828459045"
      ]
     },
     "execution_count": 6,
     "metadata": {},
     "output_type": "execute_result"
    }
   ],
   "source": [
    "f(pi, 2)"
   ]
  },
  {
   "cell_type": "markdown",
   "id": "f0808a75",
   "metadata": {},
   "source": [
    "Another option is to use **keyword** arguments.\n",
    "\n",
    "The difference between keyword and standard (positional) arguments is that\n",
    "they are parsed and bounded by name rather than the order in the function call.\n",
    "\n",
    "For example, in the call"
   ]
  },
  {
   "cell_type": "code",
   "execution_count": 10,
   "id": "a851cf65",
   "metadata": {
    "hide-output": false
   },
   "outputs": [
    {
     "data": {
      "text/plain": [
       "true"
      ]
     },
     "execution_count": 10,
     "metadata": {},
     "output_type": "execute_result"
    }
   ],
   "source": [
    "f(x; a = 1) = exp(cos(a * x))  # note the ; in the definition\n",
    "\n",
    "f(a = 2, π)  == f(π, 2) == f(π, a = 2) # calling with ; is usually optional and generally discouraged"
   ]
  },
  {
   "cell_type": "markdown",
   "id": "a510516e",
   "metadata": {},
   "source": [
    "## Broadcasting\n",
    "\n",
    "([See broadcasting documentation](https://docs.julialang.org/en/v1/manual/arrays/#Broadcasting-1))\n",
    "\n",
    "A common scenario in computing is that\n",
    "\n",
    "- we have a function `f` such that `f(x)` returns a number for any number `x`  \n",
    "- we wish to apply `f` to every element of an iterable `x_vec` to produce a new result `y_vec`  \n",
    "\n",
    "\n",
    "In Julia loops are fast and we can do this easily enough with a loop.\n",
    "\n",
    "For example, suppose that we want to apply `sin` to `x_vec = [2.0, 4.0, 6.0, 8.0]`.\n",
    "\n",
    "The following code will do the job"
   ]
  },
  {
   "cell_type": "code",
   "execution_count": 15,
   "id": "970bc77d",
   "metadata": {
    "hide-output": false
   },
   "outputs": [
    {
     "data": {
      "text/plain": [
       "4-element Vector{Float64}:\n",
       "  0.9092974268256817\n",
       " -0.7568024953079282\n",
       " -0.27941549819892586\n",
       "  0.9893582466233818"
      ]
     },
     "execution_count": 15,
     "metadata": {},
     "output_type": "execute_result"
    }
   ],
   "source": [
    "x_vec = [2.0, 4.0, 6.0, 8.0]\n",
    "y_vec = similar(x_vec)\n",
    "for (i, x) in enumerate(x_vec)\n",
    "    y_vec[i] = sin(x)\n",
    "end\n",
    "y_vec"
   ]
  },
  {
   "cell_type": "markdown",
   "id": "c1fc179e",
   "metadata": {},
   "source": [
    "But this is a bit unwieldy so Julia offers the alternative syntax"
   ]
  },
  {
   "cell_type": "code",
   "execution_count": 25,
   "id": "a778a767",
   "metadata": {},
   "outputs": [
    {
     "data": {
      "text/plain": [
       "4-element Vector{Float64}:\n",
       " 3.0\n",
       " 5.0\n",
       " 7.0\n",
       " 9.0"
      ]
     },
     "execution_count": 25,
     "metadata": {},
     "output_type": "execute_result"
    }
   ],
   "source": [
    "x_vec .+ y_vec; x_vec .+ 1"
   ]
  },
  {
   "cell_type": "code",
   "execution_count": 24,
   "id": "f9f7ddce",
   "metadata": {
    "hide-output": false
   },
   "outputs": [
    {
     "data": {
      "text/plain": [
       "4-element Vector{Float64}:\n",
       "  0.9092974268256817\n",
       " -0.7568024953079282\n",
       " -0.27941549819892586\n",
       "  0.9893582466233818"
      ]
     },
     "execution_count": 24,
     "metadata": {},
     "output_type": "execute_result"
    }
   ],
   "source": [
    "y_vec = sin.(x_vec)"
   ]
  },
  {
   "cell_type": "markdown",
   "id": "d99a34a5",
   "metadata": {},
   "source": [
    "**More generally, if `f` is any Julia function, then `f.` references the broadcasted version.**\n",
    "\n",
    "Conveniently, this applies to user-defined functions as well.\n",
    "\n",
    "To illustrate, let’s write a function `chisq` such that `chisq(k)` returns a chi-squared random variable with `k` degrees of freedom when `k` is an integer.\n",
    "\n",
    "In doing this we’ll exploit the fact that, if we take `k` independent standard normals, square them all and sum, we get a chi-squared with `k` degrees of freedom."
   ]
  },
  {
   "cell_type": "code",
   "execution_count": 31,
   "id": "2946f8a8",
   "metadata": {
    "hide-output": false
   },
   "outputs": [
    {
     "data": {
      "text/plain": [
       "chisq (generic function with 1 method)"
      ]
     },
     "execution_count": 31,
     "metadata": {},
     "output_type": "execute_result"
    }
   ],
   "source": [
    "function chisq(k)\n",
    "    @assert k > 0\n",
    "    y = randn(k)\n",
    "    return sum(z -> z^2, y)  # same as `sum(x^2 for x in y)`\n",
    "end"
   ]
  },
  {
   "cell_type": "markdown",
   "id": "67bf5ab9",
   "metadata": {},
   "source": [
    "The macro `@assert` will check that the next expression evaluates to `true`, and will stop and display an error otherwise."
   ]
  },
  {
   "cell_type": "code",
   "execution_count": 33,
   "id": "f6436c3c",
   "metadata": {
    "hide-output": false
   },
   "outputs": [
    {
     "data": {
      "text/plain": [
       "4.651202872861777"
      ]
     },
     "execution_count": 33,
     "metadata": {},
     "output_type": "execute_result"
    }
   ],
   "source": [
    "chisq(3)"
   ]
  },
  {
   "cell_type": "markdown",
   "id": "1147422c",
   "metadata": {},
   "source": [
    "Note that calls with integers less than 1 will trigger an assertion failure inside\n",
    "the function body."
   ]
  },
  {
   "cell_type": "code",
   "execution_count": 34,
   "id": "6a485168",
   "metadata": {
    "hide-output": false
   },
   "outputs": [],
   "source": [
    "# chisq(-2)"
   ]
  },
  {
   "cell_type": "markdown",
   "id": "7832a520",
   "metadata": {},
   "source": [
    "Let’s try this out on an array of integers, adding the broadcast"
   ]
  },
  {
   "cell_type": "code",
   "execution_count": 35,
   "id": "2c45d13a",
   "metadata": {
    "hide-output": false
   },
   "outputs": [
    {
     "data": {
      "text/plain": [
       "3-element Vector{Float64}:\n",
       " 0.37711850981430595\n",
       " 1.4888054753464468\n",
       " 5.938489921370673"
      ]
     },
     "execution_count": 35,
     "metadata": {},
     "output_type": "execute_result"
    }
   ],
   "source": [
    "chisq.([2, 4, 6])"
   ]
  },
  {
   "cell_type": "markdown",
   "id": "29168397",
   "metadata": {},
   "source": [
    "The broadcasting notation is not simply vectorization, as it is able to “fuse” multiple broadcasts together to generate efficient code."
   ]
  },
  {
   "cell_type": "code",
   "execution_count": 52,
   "id": "dcb85197",
   "metadata": {
    "hide-output": false
   },
   "outputs": [
    {
     "name": "stdout",
     "output_type": "stream",
     "text": [
      "[1.0, 2.0, 3.0, 4.0, 5.0]\n",
      "[2.1585290151921033, 5.090702573174318, 7.858879991940133, 10.756802495307928, 13.958924274663138]\n",
      "[2.1585290151921033, 5.090702573174318, 7.858879991940133, 10.756802495307928, 13.958924274663138]\n"
     ]
    }
   ],
   "source": [
    "x = 1.0:1.:5.0\n",
    "println(collect(x))\n",
    "y = [2.0, 4.0, 5.0, 6.0, 8.0]\n",
    "z = similar(y)\n",
    "z .= x .+ y .- sin.(x)\n",
    "println(z) # generates efficient code instead of many temporaries\n",
    "z = x .+ y .- sin.(x)\n",
    "println(z) # `.=` (binary operator) is same as `=`"
   ]
  },
  {
   "cell_type": "code",
   "execution_count": 53,
   "id": "8c070b66",
   "metadata": {},
   "outputs": [
    {
     "data": {
      "text/plain": [
       "2-element Vector{Int64}:\n",
       " 3\n",
       " 1"
      ]
     },
     "execution_count": 53,
     "metadata": {},
     "output_type": "execute_result"
    }
   ],
   "source": [
    "a = [5,2]\n",
    "a .= [3, 1]"
   ]
  },
  {
   "cell_type": "markdown",
   "id": "cb1871cf",
   "metadata": {},
   "source": [
    "A convenience macro for adding broadcasting on every function call is `@.`"
   ]
  },
  {
   "cell_type": "code",
   "execution_count": 56,
   "id": "e08868be",
   "metadata": {
    "hide-output": false
   },
   "outputs": [
    {
     "data": {
      "text/plain": [
       "3-element Vector{Float64}:\n",
       " 4.158529015192103\n",
       " 6.090702573174318\n",
       " 8.858879991940134"
      ]
     },
     "execution_count": 56,
     "metadata": {},
     "output_type": "execute_result"
    }
   ],
   "source": [
    "x = [1., 2., 3.]\n",
    "y = [4., 5., 6.]\n",
    "z = similar(x)\n",
    "@. z = x + y - sin(x)"
   ]
  },
  {
   "cell_type": "markdown",
   "id": "3c25080c",
   "metadata": {},
   "source": [
    "Since the `+, -, =` operators are functions, behind the scenes this is broadcasting against both the `x` and `y` vectors.\n",
    "\n",
    "The compiler will fix anything which is a scalar, and otherwise iterate across every vector"
   ]
  },
  {
   "cell_type": "code",
   "execution_count": 57,
   "id": "833f557d",
   "metadata": {
    "hide-output": false
   },
   "outputs": [
    {
     "name": "stdout",
     "output_type": "stream",
     "text": [
      "f.(a, b) = [5 7 9]\n",
      "f.(a, 2) = [3 4 5]\n"
     ]
    }
   ],
   "source": [
    "f(a, b) = a + b # bivariate function\n",
    "a = [1 2 3]\n",
    "b = [4 5 6]\n",
    "@show f.(a, b) # across both\n",
    "@show f.(a, 2); # fix scalar for second"
   ]
  },
  {
   "cell_type": "markdown",
   "id": "a2949d60",
   "metadata": {},
   "source": [
    "The compiler is only able to detect “scalar” values in this way for a limited number of types (e.g. integers, floating points, etc) and some packages (e.g. Distributions).\n",
    "\n",
    "For other types, you will need to wrap any scalars in `Ref` to fix them, or else it will try to broadcast the value.\n",
    "\n",
    "Another place that you may use a `Ref` is to fix a function parameter you do not want to broadcast over."
   ]
  },
  {
   "cell_type": "code",
   "execution_count": 85,
   "id": "303da9ed",
   "metadata": {
    "hide-output": false
   },
   "outputs": [
    {
     "name": "stdout",
     "output_type": "stream",
     "text": [
      "28\n",
      "f.(Ref([3, 4, 5]), [3, 2]) = [29, 28]\n"
     ]
    },
    {
     "data": {
      "text/plain": [
       "2-element Vector{Int64}:\n",
       " 29\n",
       " 28"
      ]
     },
     "execution_count": 85,
     "metadata": {},
     "output_type": "execute_result"
    }
   ],
   "source": [
    "using LinearAlgebra\n",
    "f(x, y) = [1, 2, 3] ⋅ x + y   # \"⋅\" can be typed by \\cdot<tab>\n",
    "println(f([3, 4, 5], 2))   # uses vector as first parameter\n",
    "@show f.(Ref([3, 4, 5]), [3, 2])   # broadcasting over 2nd parameter, fixing first\n",
    "# println(f([3, 4, 5], Ref([3])))"
   ]
  },
  {
   "cell_type": "markdown",
   "id": "1bafd97e",
   "metadata": {},
   "source": [
    "## Scoping and Closures\n",
    "\n",
    "Since global variables are usually a bad idea, we will concentrate on understanding the role of good local scoping practice.\n",
    "\n",
    "That said, while many of the variables in these Jupyter notebook are global, we have been careful to write the code so that the entire code could be copied inside of a function.\n",
    "\n",
    "When copied inside a function, variables become local and functions become closures.\n",
    "\n",
    "**Warning**.\n",
    "\n",
    "For/while loops and global variables in Jupyter vs. the REPL:\n",
    "\n",
    "- In the current version of Julia, there is a distinction between the use of scope in an interactive Jupyter environment.  \n",
    "- The description here of globals applies to Jupyter notebooks, and may also apply to the REPL and top-level scripts.  \n",
    "- **In general, you should be creating functions when working with .jl files**, and the distinction generally won’t apply.  \n",
    "\n",
    "\n",
    "For more information on using globals outside of Jupyter,\n",
    "([see variable scoping documentation](https://docs.julialang.org/en/v1/manual/variables-and-scoping/)), though these rules are likely to become consistent in a future version."
   ]
  },
  {
   "cell_type": "markdown",
   "id": "e052e90b",
   "metadata": {},
   "source": [
    "### Functions\n",
    "\n",
    "The scope of a variable name determines where it is valid to refer to it, and how clashes between names can occur.\n",
    "\n",
    "Think of the scope as a list of all of the name bindings of relevant variables.\n",
    "\n",
    "Different scopes could contain the same name but be assigned to different things.\n",
    "\n",
    "An obvious place to start is to notice that functions introduce their own local names."
   ]
  },
  {
   "cell_type": "code",
   "execution_count": 77,
   "id": "bd032c48",
   "metadata": {
    "hide-output": false
   },
   "outputs": [
    {
     "data": {
      "text/plain": [
       "25"
      ]
     },
     "execution_count": 77,
     "metadata": {},
     "output_type": "execute_result"
    }
   ],
   "source": [
    "f(x) = x^2  # local `x` in scope\n",
    "\n",
    "# x is not bound to anything in this outer scope\n",
    "y = 5\n",
    "f(y)"
   ]
  },
  {
   "cell_type": "markdown",
   "id": "f6295c91",
   "metadata": {},
   "source": [
    "This would be roughly equivalent to"
   ]
  },
  {
   "cell_type": "code",
   "execution_count": 78,
   "id": "7da6d85f",
   "metadata": {
    "hide-output": false
   },
   "outputs": [
    {
     "data": {
      "text/plain": [
       "25"
      ]
     },
     "execution_count": 78,
     "metadata": {},
     "output_type": "execute_result"
    }
   ],
   "source": [
    "function g() # scope within the `g` function\n",
    "\n",
    "    f(x) = x^2 # local `x` in scope\n",
    "\n",
    "    # x is not bound to anything in this outer scope\n",
    "    y = 5\n",
    "    f(y)\n",
    "end\n",
    "g() # run the function"
   ]
  },
  {
   "cell_type": "markdown",
   "id": "fba7bd36",
   "metadata": {},
   "source": [
    "This is also equivalent if the `y` was changed to `x`, since it is a different scope."
   ]
  },
  {
   "cell_type": "code",
   "execution_count": 79,
   "id": "e2860925",
   "metadata": {
    "hide-output": false
   },
   "outputs": [
    {
     "data": {
      "text/plain": [
       "25"
      ]
     },
     "execution_count": 79,
     "metadata": {},
     "output_type": "execute_result"
    }
   ],
   "source": [
    "f(x) = x^2  # local `x` in scope\n",
    "\n",
    "# x is not bound to anything in this outer scope\n",
    "x = 5   # a different `x` than the local variable name\n",
    "f(x)    # calling `f` with `x`"
   ]
  },
  {
   "cell_type": "markdown",
   "id": "41992c89",
   "metadata": {},
   "source": [
    "The scoping also applies to named arguments in functions."
   ]
  },
  {
   "cell_type": "code",
   "execution_count": 80,
   "id": "98e58125",
   "metadata": {
    "hide-output": false
   },
   "outputs": [
    {
     "data": {
      "text/plain": [
       "2.1"
      ]
     },
     "execution_count": 80,
     "metadata": {},
     "output_type": "execute_result"
    }
   ],
   "source": [
    "f(x; y = 1) = x + y  # `x` and `y` are names local to the `f` function\n",
    "xval = 0.1\n",
    "yval = 2\n",
    "f(xval; y = yval)"
   ]
  },
  {
   "cell_type": "markdown",
   "id": "cbe523fd",
   "metadata": {},
   "source": [
    "Due to scoping, you could write this as"
   ]
  },
  {
   "cell_type": "code",
   "execution_count": 81,
   "id": "5ae6972e",
   "metadata": {
    "hide-output": false
   },
   "outputs": [
    {
     "data": {
      "text/plain": [
       "2.1"
      ]
     },
     "execution_count": 81,
     "metadata": {},
     "output_type": "execute_result"
    }
   ],
   "source": [
    "f(x; y = 1) = x + y  # `x` and `y` are names local to the `f` function\n",
    "x = 0.1\n",
    "y = 2\n",
    "f(x; y = y) # left hand `y` is the local name of the argument in the function"
   ]
  },
  {
   "cell_type": "markdown",
   "id": "a2093042",
   "metadata": {},
   "source": [
    "Similarly to named arguments, the local scope also works with named tuples."
   ]
  },
  {
   "cell_type": "code",
   "execution_count": 89,
   "id": "1b44c042",
   "metadata": {
    "hide-output": false
   },
   "outputs": [
    {
     "name": "stdout",
     "output_type": "stream",
     "text": [
      "(x = xval, y = yval) = (x = 0.1, y = 2)\n"
     ]
    },
    {
     "data": {
      "text/plain": [
       "(0.1, 2)"
      ]
     },
     "execution_count": 89,
     "metadata": {},
     "output_type": "execute_result"
    }
   ],
   "source": [
    "xval = 0.1\n",
    "yval = 2\n",
    "@show (x = xval, y = yval)  # named tuple with names `x` and `y`\n",
    "\n",
    "x = 0.1\n",
    "y = 2\n",
    "\n",
    "# create a named tuple with names `x` and `y` local to the tuple, bound to the RHS `x` and `y`\n",
    "t = (x = x, y = y)\n",
    "t.x, t.y"
   ]
  },
  {
   "cell_type": "markdown",
   "id": "d1a5674e",
   "metadata": {},
   "source": [
    "As you use Julia, you will find that scoping is very natural and that there is no reason to avoid using `x` and `y` in both places.\n",
    "\n",
    "In fact, it frequently leads to clear code closer to the math when you don’t need to specify intermediaries.\n",
    "\n",
    "Another example is with broadcasting"
   ]
  },
  {
   "cell_type": "code",
   "execution_count": 90,
   "id": "f5315919",
   "metadata": {
    "hide-output": false
   },
   "outputs": [
    {
     "data": {
      "text/plain": [
       "5-element Vector{Int64}:\n",
       "  1\n",
       "  4\n",
       "  9\n",
       " 16\n",
       " 25"
      ]
     },
     "execution_count": 90,
     "metadata": {},
     "output_type": "execute_result"
    }
   ],
   "source": [
    "f(x) = x^2  # local `x` in scope\n",
    "\n",
    "x = 1:5     # not an integer\n",
    "\n",
    "f.(x)       # broadcasts the x^2 function over the vector"
   ]
  },
  {
   "cell_type": "markdown",
   "id": "fe2c0099",
   "metadata": {},
   "source": [
    "### Closures\n",
    "\n",
    "Frequently, you will want to have a function that calculates a value given some fixed parameters."
   ]
  },
  {
   "cell_type": "code",
   "execution_count": 91,
   "id": "ac003983",
   "metadata": {
    "hide-output": false
   },
   "outputs": [
    {
     "data": {
      "text/plain": [
       "0.2"
      ]
     },
     "execution_count": 91,
     "metadata": {},
     "output_type": "execute_result"
    }
   ],
   "source": [
    "f(x, a) = a * x^2\n",
    "\n",
    "f(1, 0.2)"
   ]
  },
  {
   "cell_type": "markdown",
   "id": "089f94d2",
   "metadata": {},
   "source": [
    "While the above was convenient, there are other times when you want to simply fix a variable or refer to something already calculated."
   ]
  },
  {
   "cell_type": "code",
   "execution_count": 92,
   "id": "991c5017",
   "metadata": {
    "hide-output": false
   },
   "outputs": [
    {
     "data": {
      "text/plain": [
       "0.2"
      ]
     },
     "execution_count": 92,
     "metadata": {},
     "output_type": "execute_result"
    }
   ],
   "source": [
    "a = 0.2\n",
    "f(x) = a * x^2     # refers to the `a` in the outer scope\n",
    "f(1)               # univariate function"
   ]
  },
  {
   "cell_type": "markdown",
   "id": "e50d42f8",
   "metadata": {},
   "source": [
    "When the function `f` is parsed in Julia, it will look to see if any of the variables are already defined in the current scope.\n",
    "\n",
    "In this case, it finds the `a` since it was defined previously, whereas if the\n",
    "code defines `a = 0.2` **after** the `f(x)` definition, it would fail.\n",
    "\n",
    "This also works when embedded in other functions"
   ]
  },
  {
   "cell_type": "code",
   "execution_count": 93,
   "id": "7596dc16",
   "metadata": {
    "hide-output": false
   },
   "outputs": [
    {
     "data": {
      "text/plain": [
       "0.2"
      ]
     },
     "execution_count": 93,
     "metadata": {},
     "output_type": "execute_result"
    }
   ],
   "source": [
    "function g(a)\n",
    "    f(x) = a * x^2  # refers to the `a` passed in the function\n",
    "    f(1)            # univariate function\n",
    "end\n",
    "g(0.2)"
   ]
  },
  {
   "cell_type": "markdown",
   "id": "a70bb0f2",
   "metadata": {},
   "source": [
    "Comparing the two:  the key here is not that `a` is a global variable, but rather that **the `f` function is defined to capture a variable from an outer scope.**\n",
    "\n",
    "This is called a **closure**, and are used throughout the lectures.\n",
    "\n",
    "It is generally bad practice to modify the captured variable in the function, but otherwise the code becomes very clear.\n",
    "\n",
    "One place where this can be helpful is in a string of dependent calculations.\n",
    "\n",
    "For example, if you wanted to calculate a `(a, b, c)` from $ a = f(x), b = g(a), c = h(a, b) $ where $ f(x) = x^2, g(a) = 2 a, h(a, b) = a + b $"
   ]
  },
  {
   "cell_type": "code",
   "execution_count": 96,
   "id": "00814c1c",
   "metadata": {
    "hide-output": false
   },
   "outputs": [
    {
     "name": "stdout",
     "output_type": "stream",
     "text": [
      "solvemodel(0.1) = (a = 0.010000000000000002, b = 0.020000000000000004, c = 0.030000000000000006)\n",
      "2\n"
     ]
    }
   ],
   "source": [
    "a = 2\n",
    "function solvemodel(x)\n",
    "    a = x^2\n",
    "    b = 2 * a\n",
    "    c = a + b\n",
    "    return (a = a, b = b, c = c)  # note local scope of tuples!\n",
    "end\n",
    "\n",
    "@show solvemodel(0.1)\n",
    "println(a)"
   ]
  },
  {
   "cell_type": "markdown",
   "id": "1173616e",
   "metadata": {},
   "source": [
    "### Higher-Order Functions\n",
    "\n",
    "One of the benefits of working with closures and functions is that you can return them from other functions.\n",
    "\n",
    "This leads to some natural programming patterns we have already been using, where we can use **functions of functions** and **functions returning functions** (or closures).\n",
    "\n",
    "To see a simple example, consider functions that accept other functions (including closures)"
   ]
  },
  {
   "cell_type": "code",
   "execution_count": 98,
   "id": "df81f330",
   "metadata": {
    "hide-output": false
   },
   "outputs": [
    {
     "name": "stdout",
     "output_type": "stream",
     "text": [
      "twice(f, 2.0) = 16.0\n",
      "twice((x->begin\n",
      "            #= In[98]:5 =#\n",
      "            x ^ 2\n",
      "        end), 2.0) = 16.0\n",
      "twice(g, 2.0) = 50.0\n"
     ]
    }
   ],
   "source": [
    "twice(f, x) = f(f(x))  # applies f to itself twice\n",
    "f(x) = x^2\n",
    "@show twice(f, 2.0)\n",
    "\n",
    "@show twice(x -> x^2, 2.0)\n",
    "\n",
    "a = 5\n",
    "g(x) = a * x\n",
    "@show twice(g, 2.0);   # using a closure 5 * (5 * 2) "
   ]
  },
  {
   "cell_type": "markdown",
   "id": "6a4c3377",
   "metadata": {},
   "source": [
    "This pattern has already been used extensively in our code and is key to keeping things like interpolation, numerical integration, and plotting generic.\n",
    "\n",
    "One example of using this in a library is [Expectations.jl](https://github.com/QuantEcon/Expectations.jl), where we can pass a function to the `expectation` function."
   ]
  },
  {
   "cell_type": "code",
   "execution_count": 100,
   "id": "a2ac5eea",
   "metadata": {
    "hide-output": false
   },
   "outputs": [
    {
     "name": "stdout",
     "output_type": "stream",
     "text": [
      "d = Exponential(2.0) = Exponential{Float64}(θ=2.0)\n",
      "expectation(f, d) = 8.00000000000004\n"
     ]
    }
   ],
   "source": [
    "using Expectations, Distributions\n",
    "\n",
    "@show d = Exponential(2.0)\n",
    "\n",
    "f(x) = x^2\n",
    "@show expectation(f, d);  # E(f(x)) = Ex^{2} = 4 + 4 = 8"
   ]
  },
  {
   "cell_type": "markdown",
   "id": "32252f0c",
   "metadata": {},
   "source": [
    "Another example is for a function that returns a closure itself."
   ]
  },
  {
   "cell_type": "code",
   "execution_count": 102,
   "id": "769811a7",
   "metadata": {
    "hide-output": false
   },
   "outputs": [
    {
     "data": {
      "text/plain": [
       "18.0"
      ]
     },
     "execution_count": 102,
     "metadata": {},
     "output_type": "execute_result"
    }
   ],
   "source": [
    "function multiplyit(a, g)\n",
    "    return x -> a * g(x)  # function with `g` used in the closure\n",
    "end\n",
    "\n",
    "f(x) = x^2\n",
    "h = multiplyit(2.0, f)    # use our quadratic, returns a new function which doubles the result\n",
    "h(3)     # returned function is like any other function 2 * 3^2 = 18"
   ]
  },
  {
   "cell_type": "markdown",
   "id": "e1d9709d",
   "metadata": {},
   "source": [
    "You can create and define using `function` as well"
   ]
  },
  {
   "cell_type": "code",
   "execution_count": 108,
   "id": "14dfee14",
   "metadata": {
    "hide-output": false
   },
   "outputs": [
    {
     "data": {
      "image/svg+xml": [
       "<?xml version=\"1.0\" encoding=\"utf-8\"?>\n",
       "<svg xmlns=\"http://www.w3.org/2000/svg\" xmlns:xlink=\"http://www.w3.org/1999/xlink\" width=\"600\" height=\"400\" viewBox=\"0 0 2400 1600\">\n",
       "<defs>\n",
       "  <clipPath id=\"clip280\">\n",
       "    <rect x=\"0\" y=\"0\" width=\"2400\" height=\"1600\"/>\n",
       "  </clipPath>\n",
       "</defs>\n",
       "<path clip-path=\"url(#clip280)\" d=\"\n",
       "M0 1600 L2400 1600 L2400 0 L0 0  Z\n",
       "  \" fill=\"#ffffff\" fill-rule=\"evenodd\" fill-opacity=\"1\"/>\n",
       "<defs>\n",
       "  <clipPath id=\"clip281\">\n",
       "    <rect x=\"480\" y=\"0\" width=\"1681\" height=\"1600\"/>\n",
       "  </clipPath>\n",
       "</defs>\n",
       "<path clip-path=\"url(#clip280)\" d=\"\n",
       "M112.177 1486.45 L2352.76 1486.45 L2352.76 47.2441 L112.177 47.2441  Z\n",
       "  \" fill=\"#ffffff\" fill-rule=\"evenodd\" fill-opacity=\"1\"/>\n",
       "<defs>\n",
       "  <clipPath id=\"clip282\">\n",
       "    <rect x=\"112\" y=\"47\" width=\"2242\" height=\"1440\"/>\n",
       "  </clipPath>\n",
       "</defs>\n",
       "<polyline clip-path=\"url(#clip282)\" style=\"stroke:#000000; stroke-linecap:butt; stroke-linejoin:round; stroke-width:2; stroke-opacity:0.1; fill:none\" points=\"\n",
       "  175.59,1486.45 175.59,47.2441 \n",
       "  \"/>\n",
       "<polyline clip-path=\"url(#clip282)\" style=\"stroke:#000000; stroke-linecap:butt; stroke-linejoin:round; stroke-width:2; stroke-opacity:0.1; fill:none\" points=\"\n",
       "  880.174,1486.45 880.174,47.2441 \n",
       "  \"/>\n",
       "<polyline clip-path=\"url(#clip282)\" style=\"stroke:#000000; stroke-linecap:butt; stroke-linejoin:round; stroke-width:2; stroke-opacity:0.1; fill:none\" points=\"\n",
       "  1584.76,1486.45 1584.76,47.2441 \n",
       "  \"/>\n",
       "<polyline clip-path=\"url(#clip282)\" style=\"stroke:#000000; stroke-linecap:butt; stroke-linejoin:round; stroke-width:2; stroke-opacity:0.1; fill:none\" points=\"\n",
       "  2289.34,1486.45 2289.34,47.2441 \n",
       "  \"/>\n",
       "<polyline clip-path=\"url(#clip280)\" style=\"stroke:#000000; stroke-linecap:butt; stroke-linejoin:round; stroke-width:4; stroke-opacity:1; fill:none\" points=\"\n",
       "  112.177,1486.45 2352.76,1486.45 \n",
       "  \"/>\n",
       "<polyline clip-path=\"url(#clip280)\" style=\"stroke:#000000; stroke-linecap:butt; stroke-linejoin:round; stroke-width:4; stroke-opacity:1; fill:none\" points=\"\n",
       "  175.59,1486.45 175.59,1467.55 \n",
       "  \"/>\n",
       "<polyline clip-path=\"url(#clip280)\" style=\"stroke:#000000; stroke-linecap:butt; stroke-linejoin:round; stroke-width:4; stroke-opacity:1; fill:none\" points=\"\n",
       "  880.174,1486.45 880.174,1467.55 \n",
       "  \"/>\n",
       "<polyline clip-path=\"url(#clip280)\" style=\"stroke:#000000; stroke-linecap:butt; stroke-linejoin:round; stroke-width:4; stroke-opacity:1; fill:none\" points=\"\n",
       "  1584.76,1486.45 1584.76,1467.55 \n",
       "  \"/>\n",
       "<polyline clip-path=\"url(#clip280)\" style=\"stroke:#000000; stroke-linecap:butt; stroke-linejoin:round; stroke-width:4; stroke-opacity:1; fill:none\" points=\"\n",
       "  2289.34,1486.45 2289.34,1467.55 \n",
       "  \"/>\n",
       "<path clip-path=\"url(#clip280)\" d=\"M175.59 1517.37 Q171.979 1517.37 170.15 1520.93 Q168.344 1524.47 168.344 1531.6 Q168.344 1538.71 170.15 1542.27 Q171.979 1545.82 175.59 1545.82 Q179.224 1545.82 181.03 1542.27 Q182.858 1538.71 182.858 1531.6 Q182.858 1524.47 181.03 1520.93 Q179.224 1517.37 175.59 1517.37 M175.59 1513.66 Q181.4 1513.66 184.455 1518.27 Q187.534 1522.85 187.534 1531.6 Q187.534 1540.33 184.455 1544.94 Q181.4 1549.52 175.59 1549.52 Q169.78 1549.52 166.701 1544.94 Q163.645 1540.33 163.645 1531.6 Q163.645 1522.85 166.701 1518.27 Q169.78 1513.66 175.59 1513.66 Z\" fill=\"#000000\" fill-rule=\"evenodd\" fill-opacity=\"1\" /><path clip-path=\"url(#clip280)\" d=\"M870.556 1544.91 L878.195 1544.91 L878.195 1518.55 L869.885 1520.21 L869.885 1515.95 L878.149 1514.29 L882.825 1514.29 L882.825 1544.91 L890.464 1544.91 L890.464 1548.85 L870.556 1548.85 L870.556 1544.91 Z\" fill=\"#000000\" fill-rule=\"evenodd\" fill-opacity=\"1\" /><path clip-path=\"url(#clip280)\" d=\"M1579.41 1544.91 L1595.73 1544.91 L1595.73 1548.85 L1573.79 1548.85 L1573.79 1544.91 Q1576.45 1542.16 1581.03 1537.53 Q1585.64 1532.88 1586.82 1531.53 Q1589.06 1529.01 1589.94 1527.27 Q1590.85 1525.51 1590.85 1523.82 Q1590.85 1521.07 1588.9 1519.33 Q1586.98 1517.6 1583.88 1517.6 Q1581.68 1517.6 1579.23 1518.36 Q1576.8 1519.13 1574.02 1520.68 L1574.02 1515.95 Q1576.84 1514.82 1579.3 1514.24 Q1581.75 1513.66 1583.79 1513.66 Q1589.16 1513.66 1592.35 1516.35 Q1595.55 1519.03 1595.55 1523.52 Q1595.55 1525.65 1594.74 1527.57 Q1593.95 1529.47 1591.84 1532.07 Q1591.26 1532.74 1588.16 1535.95 Q1585.06 1539.15 1579.41 1544.91 Z\" fill=\"#000000\" fill-rule=\"evenodd\" fill-opacity=\"1\" /><path clip-path=\"url(#clip280)\" d=\"M2293.59 1530.21 Q2296.95 1530.93 2298.82 1533.2 Q2300.72 1535.47 2300.72 1538.8 Q2300.72 1543.92 2297.2 1546.72 Q2293.68 1549.52 2287.2 1549.52 Q2285.03 1549.52 2282.71 1549.08 Q2280.42 1548.66 2277.97 1547.81 L2277.97 1543.29 Q2279.91 1544.43 2282.23 1545.01 Q2284.54 1545.58 2287.06 1545.58 Q2291.46 1545.58 2293.75 1543.85 Q2296.07 1542.11 2296.07 1538.8 Q2296.07 1535.75 2293.92 1534.03 Q2291.79 1532.3 2287.97 1532.3 L2283.94 1532.3 L2283.94 1528.45 L2288.15 1528.45 Q2291.6 1528.45 2293.43 1527.09 Q2295.26 1525.7 2295.26 1523.11 Q2295.26 1520.45 2293.36 1519.03 Q2291.48 1517.6 2287.97 1517.6 Q2286.04 1517.6 2283.85 1518.01 Q2281.65 1518.43 2279.01 1519.31 L2279.01 1515.14 Q2281.67 1514.4 2283.98 1514.03 Q2286.32 1513.66 2288.38 1513.66 Q2293.71 1513.66 2296.81 1516.09 Q2299.91 1518.5 2299.91 1522.62 Q2299.91 1525.49 2298.27 1527.48 Q2296.62 1529.45 2293.59 1530.21 Z\" fill=\"#000000\" fill-rule=\"evenodd\" fill-opacity=\"1\" /><polyline clip-path=\"url(#clip282)\" style=\"stroke:#000000; stroke-linecap:butt; stroke-linejoin:round; stroke-width:2; stroke-opacity:0.1; fill:none\" points=\"\n",
       "  112.177,1445.72 2352.76,1445.72 \n",
       "  \"/>\n",
       "<polyline clip-path=\"url(#clip282)\" style=\"stroke:#000000; stroke-linecap:butt; stroke-linejoin:round; stroke-width:2; stroke-opacity:0.1; fill:none\" points=\"\n",
       "  112.177,1174.17 2352.76,1174.17 \n",
       "  \"/>\n",
       "<polyline clip-path=\"url(#clip282)\" style=\"stroke:#000000; stroke-linecap:butt; stroke-linejoin:round; stroke-width:2; stroke-opacity:0.1; fill:none\" points=\"\n",
       "  112.177,902.62 2352.76,902.62 \n",
       "  \"/>\n",
       "<polyline clip-path=\"url(#clip282)\" style=\"stroke:#000000; stroke-linecap:butt; stroke-linejoin:round; stroke-width:2; stroke-opacity:0.1; fill:none\" points=\"\n",
       "  112.177,631.072 2352.76,631.072 \n",
       "  \"/>\n",
       "<polyline clip-path=\"url(#clip282)\" style=\"stroke:#000000; stroke-linecap:butt; stroke-linejoin:round; stroke-width:2; stroke-opacity:0.1; fill:none\" points=\"\n",
       "  112.177,359.524 2352.76,359.524 \n",
       "  \"/>\n",
       "<polyline clip-path=\"url(#clip282)\" style=\"stroke:#000000; stroke-linecap:butt; stroke-linejoin:round; stroke-width:2; stroke-opacity:0.1; fill:none\" points=\"\n",
       "  112.177,87.9763 2352.76,87.9763 \n",
       "  \"/>\n",
       "<polyline clip-path=\"url(#clip280)\" style=\"stroke:#000000; stroke-linecap:butt; stroke-linejoin:round; stroke-width:4; stroke-opacity:1; fill:none\" points=\"\n",
       "  112.177,1486.45 112.177,47.2441 \n",
       "  \"/>\n",
       "<polyline clip-path=\"url(#clip280)\" style=\"stroke:#000000; stroke-linecap:butt; stroke-linejoin:round; stroke-width:4; stroke-opacity:1; fill:none\" points=\"\n",
       "  112.177,1445.72 131.075,1445.72 \n",
       "  \"/>\n",
       "<polyline clip-path=\"url(#clip280)\" style=\"stroke:#000000; stroke-linecap:butt; stroke-linejoin:round; stroke-width:4; stroke-opacity:1; fill:none\" points=\"\n",
       "  112.177,1174.17 131.075,1174.17 \n",
       "  \"/>\n",
       "<polyline clip-path=\"url(#clip280)\" style=\"stroke:#000000; stroke-linecap:butt; stroke-linejoin:round; stroke-width:4; stroke-opacity:1; fill:none\" points=\"\n",
       "  112.177,902.62 131.075,902.62 \n",
       "  \"/>\n",
       "<polyline clip-path=\"url(#clip280)\" style=\"stroke:#000000; stroke-linecap:butt; stroke-linejoin:round; stroke-width:4; stroke-opacity:1; fill:none\" points=\"\n",
       "  112.177,631.072 131.075,631.072 \n",
       "  \"/>\n",
       "<polyline clip-path=\"url(#clip280)\" style=\"stroke:#000000; stroke-linecap:butt; stroke-linejoin:round; stroke-width:4; stroke-opacity:1; fill:none\" points=\"\n",
       "  112.177,359.524 131.075,359.524 \n",
       "  \"/>\n",
       "<polyline clip-path=\"url(#clip280)\" style=\"stroke:#000000; stroke-linecap:butt; stroke-linejoin:round; stroke-width:4; stroke-opacity:1; fill:none\" points=\"\n",
       "  112.177,87.9763 131.075,87.9763 \n",
       "  \"/>\n",
       "<path clip-path=\"url(#clip280)\" d=\"M66.5939 1432.51 L54.7884 1450.96 L66.5939 1450.96 L66.5939 1432.51 M65.367 1428.44 L71.2466 1428.44 L71.2466 1450.96 L76.1772 1450.96 L76.1772 1454.85 L71.2466 1454.85 L71.2466 1463 L66.5939 1463 L66.5939 1454.85 L50.9921 1454.85 L50.9921 1450.33 L65.367 1428.44 Z\" fill=\"#000000\" fill-rule=\"evenodd\" fill-opacity=\"1\" /><path clip-path=\"url(#clip280)\" d=\"M55.2745 1156.89 L73.6309 1156.89 L73.6309 1160.82 L59.5569 1160.82 L59.5569 1169.3 Q60.5754 1168.95 61.5939 1168.79 Q62.6124 1168.6 63.6309 1168.6 Q69.418 1168.6 72.7976 1171.77 Q76.1772 1174.94 76.1772 1180.36 Q76.1772 1185.94 72.705 1189.04 Q69.2328 1192.12 62.9134 1192.12 Q60.7374 1192.12 58.4689 1191.75 Q56.2236 1191.38 53.8162 1190.64 L53.8162 1185.94 Q55.8995 1187.07 58.1217 1187.63 Q60.3439 1188.18 62.8208 1188.18 Q66.8254 1188.18 69.1633 1186.08 Q71.5013 1183.97 71.5013 1180.36 Q71.5013 1176.75 69.1633 1174.64 Q66.8254 1172.54 62.8208 1172.54 Q60.9458 1172.54 59.0708 1172.95 Q57.2189 1173.37 55.2745 1174.25 L55.2745 1156.89 Z\" fill=\"#000000\" fill-rule=\"evenodd\" fill-opacity=\"1\" /><path clip-path=\"url(#clip280)\" d=\"M64.6495 900.757 Q61.5013 900.757 59.6495 902.909 Q57.8208 905.062 57.8208 908.812 Q57.8208 912.539 59.6495 914.715 Q61.5013 916.868 64.6495 916.868 Q67.7976 916.868 69.6263 914.715 Q71.4781 912.539 71.4781 908.812 Q71.4781 905.062 69.6263 902.909 Q67.7976 900.757 64.6495 900.757 M73.9318 886.104 L73.9318 890.363 Q72.1726 889.53 70.367 889.09 Q68.5846 888.65 66.8254 888.65 Q62.1958 888.65 59.7421 891.775 Q57.3115 894.9 56.9643 901.219 Q58.33 899.206 60.3902 898.141 Q62.4504 897.053 64.9272 897.053 Q70.1355 897.053 73.1448 900.224 Q76.1772 903.372 76.1772 908.812 Q76.1772 914.136 73.029 917.354 Q69.8809 920.571 64.6495 920.571 Q58.6541 920.571 55.4828 915.988 Q52.3116 911.381 52.3116 902.655 Q52.3116 894.46 56.2004 889.599 Q60.0893 884.715 66.6402 884.715 Q68.3994 884.715 70.1818 885.062 Q71.9874 885.409 73.9318 886.104 Z\" fill=\"#000000\" fill-rule=\"evenodd\" fill-opacity=\"1\" /><path clip-path=\"url(#clip280)\" d=\"M53.9551 613.792 L76.1772 613.792 L76.1772 615.783 L63.6309 648.352 L58.7467 648.352 L70.5522 617.727 L53.9551 617.727 L53.9551 613.792 Z\" fill=\"#000000\" fill-rule=\"evenodd\" fill-opacity=\"1\" /><path clip-path=\"url(#clip280)\" d=\"M64.3254 360.392 Q60.9921 360.392 59.0708 362.175 Q57.1726 363.957 57.1726 367.082 Q57.1726 370.207 59.0708 371.989 Q60.9921 373.772 64.3254 373.772 Q67.6587 373.772 69.58 371.989 Q71.5013 370.184 71.5013 367.082 Q71.5013 363.957 69.58 362.175 Q67.6819 360.392 64.3254 360.392 M59.6495 358.401 Q56.6402 357.661 54.9504 355.601 Q53.2838 353.54 53.2838 350.577 Q53.2838 346.434 56.2236 344.027 Q59.1865 341.619 64.3254 341.619 Q69.4874 341.619 72.4272 344.027 Q75.367 346.434 75.367 350.577 Q75.367 353.54 73.6772 355.601 Q72.0105 357.661 69.0244 358.401 Q72.404 359.189 74.279 361.48 Q76.1772 363.772 76.1772 367.082 Q76.1772 372.105 73.0985 374.79 Q70.0429 377.475 64.3254 377.475 Q58.6078 377.475 55.5291 374.79 Q52.4736 372.105 52.4736 367.082 Q52.4736 363.772 54.3717 361.48 Q56.2699 359.189 59.6495 358.401 M57.9365 351.017 Q57.9365 353.702 59.6032 355.207 Q61.293 356.712 64.3254 356.712 Q67.3346 356.712 69.0244 355.207 Q70.7374 353.702 70.7374 351.017 Q70.7374 348.332 69.0244 346.827 Q67.3346 345.323 64.3254 345.323 Q61.293 345.323 59.6032 346.827 Q57.9365 348.332 57.9365 351.017 Z\" fill=\"#000000\" fill-rule=\"evenodd\" fill-opacity=\"1\" /><path clip-path=\"url(#clip280)\" d=\"M54.5569 104.539 L54.5569 100.279 Q56.3162 101.113 58.1217 101.553 Q59.9273 101.992 61.6634 101.992 Q66.293 101.992 68.7235 98.8906 Q71.1772 95.7656 71.5244 89.423 Q70.1818 91.4138 68.1217 92.4786 Q66.0615 93.5434 63.5615 93.5434 Q58.3763 93.5434 55.344 90.4184 Q52.3347 87.2703 52.3347 81.8305 Q52.3347 76.5064 55.4828 73.2889 Q58.631 70.0713 63.8624 70.0713 Q69.8578 70.0713 73.0059 74.6777 Q76.1772 79.261 76.1772 88.011 Q76.1772 96.1823 72.2883 101.066 Q68.4226 105.928 61.8717 105.928 Q60.1124 105.928 58.3069 105.58 Q56.5014 105.233 54.5569 104.539 M63.8624 89.886 Q67.0106 89.886 68.8393 87.7332 Q70.6911 85.5805 70.6911 81.8305 Q70.6911 78.1036 68.8393 75.9509 Q67.0106 73.775 63.8624 73.775 Q60.7143 73.775 58.8625 75.9509 Q57.0338 78.1036 57.0338 81.8305 Q57.0338 85.5805 58.8625 87.7332 Q60.7143 89.886 63.8624 89.886 Z\" fill=\"#000000\" fill-rule=\"evenodd\" fill-opacity=\"1\" /><polyline clip-path=\"url(#clip282)\" style=\"stroke:#009af9; stroke-linecap:butt; stroke-linejoin:round; stroke-width:4; stroke-opacity:1; fill:none\" points=\"\n",
       "  175.59,1445.72 246.048,1445.72 316.507,1445.72 386.965,1445.72 457.424,1445.72 527.882,1445.72 598.34,1445.72 668.799,1445.72 739.257,1445.72 809.716,1445.72 \n",
       "  880.174,1445.72 950.633,1445.72 1021.09,1445.72 1091.55,1445.72 1162.01,1445.72 1232.47,1445.72 1302.92,1445.72 1373.38,1445.72 1443.84,1445.72 1514.3,1445.72 \n",
       "  1584.76,1445.72 1655.22,1334.38 1725.68,1217.62 1796.13,1095.42 1866.59,967.791 1937.05,834.733 2007.51,696.244 2077.97,552.323 2148.43,402.972 2218.88,248.19 \n",
       "  2289.34,87.9763 \n",
       "  \"/>\n",
       "<path clip-path=\"url(#clip280)\" d=\"\n",
       "M1976.69 198.898 L2278.07 198.898 L2278.07 95.2176 L1976.69 95.2176  Z\n",
       "  \" fill=\"#ffffff\" fill-rule=\"evenodd\" fill-opacity=\"1\"/>\n",
       "<polyline clip-path=\"url(#clip280)\" style=\"stroke:#000000; stroke-linecap:butt; stroke-linejoin:round; stroke-width:4; stroke-opacity:1; fill:none\" points=\"\n",
       "  1976.69,198.898 2278.07,198.898 2278.07,95.2176 1976.69,95.2176 1976.69,198.898 \n",
       "  \"/>\n",
       "<polyline clip-path=\"url(#clip280)\" style=\"stroke:#009af9; stroke-linecap:butt; stroke-linejoin:round; stroke-width:4; stroke-opacity:1; fill:none\" points=\"\n",
       "  2001.58,147.058 2150.95,147.058 \n",
       "  \"/>\n",
       "<path clip-path=\"url(#clip280)\" d=\"M2189.69 166.745 Q2187.89 171.375 2186.17 172.787 Q2184.46 174.199 2181.59 174.199 L2178.19 174.199 L2178.19 170.634 L2180.69 170.634 Q2182.45 170.634 2183.42 169.8 Q2184.39 168.967 2185.57 165.865 L2186.34 163.921 L2175.85 138.412 L2180.36 138.412 L2188.46 158.689 L2196.57 138.412 L2201.08 138.412 L2189.69 166.745 Z\" fill=\"#000000\" fill-rule=\"evenodd\" fill-opacity=\"1\" /><path clip-path=\"url(#clip280)\" d=\"M2208.37 160.402 L2216.01 160.402 L2216.01 134.037 L2207.7 135.703 L2207.7 131.444 L2215.96 129.778 L2220.64 129.778 L2220.64 160.402 L2228.28 160.402 L2228.28 164.338 L2208.37 164.338 L2208.37 160.402 Z\" fill=\"#000000\" fill-rule=\"evenodd\" fill-opacity=\"1\" /></svg>\n"
      ]
     },
     "execution_count": 108,
     "metadata": {},
     "output_type": "execute_result"
    }
   ],
   "source": [
    "function snapabove(g, a)\n",
    "    function f(x)\n",
    "        if x > a         # \"a\" is captured in the closure f\n",
    "            return g(x)\n",
    "        else\n",
    "            return g(a)\n",
    "        end\n",
    "    end\n",
    "    return f    # closure with the embedded a\n",
    "end\n",
    "\n",
    "f(x) = x^2\n",
    "h = snapabove(f, 2) # f(2) = 4\n",
    "\n",
    "using Plots\n",
    "\n",
    "plot(h, 0.0:0.1:3.0)"
   ]
  },
  {
   "cell_type": "markdown",
   "id": "f9160446",
   "metadata": {},
   "source": [
    "### Loops\n",
    "\n",
    "The `for` and `while` loops also introduce a local scope, and you can roughly reason about them the same way you would a function/closure.\n",
    "\n",
    "In particular"
   ]
  },
  {
   "cell_type": "code",
   "execution_count": 110,
   "id": "1357031e",
   "metadata": {
    "hide-output": false
   },
   "outputs": [
    {
     "name": "stdout",
     "output_type": "stream",
     "text": [
      "1\n",
      "2\n",
      "1\n",
      "2\n"
     ]
    }
   ],
   "source": [
    "for i in 1:2  # introduces local i\n",
    "    dval1 = i\n",
    "    println(i)\n",
    "end\n",
    "\n",
    "# @show (i, dval1)  # would fail as neither exists in this scope\n",
    "\n",
    "for i in 1:2  # introduces a different local i\n",
    "    println(i)\n",
    "end"
   ]
  },
  {
   "cell_type": "markdown",
   "id": "78fd0ead",
   "metadata": {},
   "source": [
    "On the other hand just as with closures, if a variable is already defined it will be available in the inner scope."
   ]
  },
  {
   "cell_type": "code",
   "execution_count": 113,
   "id": "a10200ae",
   "metadata": {
    "hide-output": false
   },
   "outputs": [
    {
     "data": {
      "text/plain": [
       "2"
      ]
     },
     "execution_count": 113,
     "metadata": {},
     "output_type": "execute_result"
    }
   ],
   "source": [
    "dval2 = 0  # introduces variables\n",
    "for i in 1:2   # introduces local i\n",
    "    dval2 = i  # refers to outer variable\n",
    "end\n",
    "\n",
    "dval2 # still can't refer to `i`\n",
    "# i"
   ]
  },
  {
   "cell_type": "markdown",
   "id": "e3a0b57d",
   "metadata": {},
   "source": [
    "Similarly, for while loops"
   ]
  },
  {
   "cell_type": "code",
   "execution_count": 114,
   "id": "bb533ae6",
   "metadata": {
    "hide-output": false
   },
   "outputs": [
    {
     "name": "stdout",
     "output_type": "stream",
     "text": [
      "val = 0.001953125\n"
     ]
    }
   ],
   "source": [
    "val = 1.0\n",
    "tol = 0.002\n",
    "while val > tol\n",
    "    old = val\n",
    "    val = val / 2\n",
    "    difference = val - old\n",
    "end\n",
    "\n",
    "@show val;\n",
    "# @show difference fails, not in scope"
   ]
  },
  {
   "cell_type": "markdown",
   "id": "5fbfb25c",
   "metadata": {},
   "source": [
    "### A Quick Check for Scoping Design\n",
    "\n",
    "While we have argued against global variables as poor practice, you may have noticed that in Jupyter notebooks we have been using them throughout.\n",
    "\n",
    "Here, global variables are used in an interactive editor because they are convenient, and not because they are essential to the design of functions.\n",
    "\n",
    "A simple test of the difference is to take a segment of code and wrap it in a function, for example"
   ]
  },
  {
   "cell_type": "code",
   "execution_count": 115,
   "id": "ef64020d",
   "metadata": {
    "hide-output": false
   },
   "outputs": [
    {
     "name": "stdout",
     "output_type": "stream",
     "text": [
      "z = 12.0\n"
     ]
    }
   ],
   "source": [
    "x = 2.0\n",
    "f(y) = x + y\n",
    "z = f(4.0)\n",
    "\n",
    "for i in 1:3\n",
    "    z += i\n",
    "end\n",
    "\n",
    "println(\"z = $z\")"
   ]
  },
  {
   "cell_type": "markdown",
   "id": "55c37870",
   "metadata": {},
   "source": [
    "Here, the `x` and `z` are global variables, the function `f` refers to the global variable `x`, and the global variable `z` is modified in the `for` loop.\n",
    "\n",
    "However, you can simply wrap the entire code in a function"
   ]
  },
  {
   "cell_type": "code",
   "execution_count": 116,
   "id": "cd36a264",
   "metadata": {
    "hide-output": false
   },
   "outputs": [
    {
     "name": "stdout",
     "output_type": "stream",
     "text": [
      "z = 12.0\n"
     ]
    },
    {
     "name": "stderr",
     "output_type": "stream",
     "text": [
      "WARNING: both Plots and LinearAlgebra export \"rotate!\"; uses of it in module Main must be qualified\n"
     ]
    }
   ],
   "source": [
    "function wrapped()\n",
    "    x = 2.0\n",
    "    f(y) = x + y\n",
    "    z = f(4.0)\n",
    "\n",
    "    for i in 1:3\n",
    "        z += i\n",
    "    end\n",
    "\n",
    "    println(\"z = $z\")\n",
    "end\n",
    "\n",
    "wrapped()"
   ]
  },
  {
   "cell_type": "markdown",
   "id": "fb24e2f4",
   "metadata": {},
   "source": [
    "Now, there are no global variables.\n",
    "\n",
    "While it is convenient to skip wrapping our code throughout, in general you will want to **wrap any performance sensitive code in this way.**"
   ]
  },
  {
   "cell_type": "markdown",
   "id": "5c9c34cb",
   "metadata": {},
   "source": [
    "## Exercises\n",
    "\n",
    "\n",
    "<a id='pyess-ex1'></a>"
   ]
  },
  {
   "cell_type": "markdown",
   "id": "f481316b",
   "metadata": {},
   "source": [
    "### Exercise 1\n",
    "\n",
    "Part 1: Given two numeric arrays or tuples `x_vals` and `y_vals` of equal length, compute\n",
    "their inner product using `zip()`.\n",
    "\n",
    "Part 2: Using a comprehension, count the number of even numbers between 0 and 99.\n",
    "\n",
    "- Hint: `iseven` returns `true` for even numbers and `false` for odds.  \n",
    "\n",
    "\n",
    "Part 3: Using a comprehension, take `pairs = ((2, 5), (4, 2), (9, 8), (12, 10))` and count the number of pairs `(a, b)` such that both `a` and `b` are even.\n",
    "\n",
    "\n",
    "<a id='pyess-ex2'></a>"
   ]
  },
  {
   "cell_type": "code",
   "execution_count": 119,
   "id": "cc90a3c4",
   "metadata": {},
   "outputs": [
    {
     "data": {
      "text/plain": [
       "11"
      ]
     },
     "execution_count": 119,
     "metadata": {},
     "output_type": "execute_result"
    }
   ],
   "source": [
    "# part 1\n",
    "function inner_product(x_vals, y_vals)\n",
    "    product = 0\n",
    "    for (x, y) in zip(x_vals, y_vals)\n",
    "        product += x * y\n",
    "    end\n",
    "    return product\n",
    "end\n",
    "\n",
    "inner_product([1,2], [3,4])"
   ]
  },
  {
   "cell_type": "code",
   "execution_count": 121,
   "id": "56773147",
   "metadata": {},
   "outputs": [
    {
     "data": {
      "text/plain": [
       "50"
      ]
     },
     "execution_count": 121,
     "metadata": {},
     "output_type": "execute_result"
    }
   ],
   "source": [
    "# part 2\n",
    "sum([iseven(i) for i in 0:99])"
   ]
  },
  {
   "cell_type": "code",
   "execution_count": 140,
   "id": "04fb611f",
   "metadata": {},
   "outputs": [
    {
     "data": {
      "text/plain": [
       "2"
      ]
     },
     "execution_count": 140,
     "metadata": {},
     "output_type": "execute_result"
    }
   ],
   "source": [
    "pairs1 = ((2, 5), (4, 2), (9, 8), (12, 10))\n",
    "sum(xy -> all(iseven, xy), pairs1)"
   ]
  },
  {
   "cell_type": "code",
   "execution_count": 168,
   "id": "88a0037f",
   "metadata": {},
   "outputs": [
    {
     "ename": "LoadError",
     "evalue": "cannot assign a value to variable Base.abs from module Main",
     "output_type": "error",
     "traceback": [
      "cannot assign a value to variable Base.abs from module Main",
      "",
      "Stacktrace:",
      " [1] top-level scope",
      "   @ In[168]:1",
      " [2] eval",
      "   @ ./boot.jl:373 [inlined]",
      " [3] include_string(mapexpr::typeof(REPL.softscope), mod::Module, code::String, filename::String)",
      "   @ Base ./loading.jl:1196"
     ]
    }
   ],
   "source": [
    "abs = 1"
   ]
  },
  {
   "cell_type": "markdown",
   "id": "c2b9661d",
   "metadata": {},
   "source": [
    "### Exercise 2\n",
    "\n",
    "Consider the polynomial\n",
    "\n",
    "\n",
    "<a id='equation-polynom0'></a>\n",
    "$$\n",
    "p(x)\n",
    "= a_0 + a_1 x + a_2 x^2 + \\cdots a_n x^n\n",
    "= \\sum_{i=0}^n a_i x^i \\tag{3.1}\n",
    "$$\n",
    "\n",
    "Using `enumerate()` in your loop, write a function `p` such that `p(x, coeff)` computes the value in [(3.1)](#equation-polynom0) given a point `x` and an array of coefficients `coeff`.\n",
    "\n",
    "\n",
    "<a id='pyess-ex3'></a>"
   ]
  },
  {
   "cell_type": "code",
   "execution_count": 144,
   "id": "82f1cc43",
   "metadata": {},
   "outputs": [
    {
     "data": {
      "text/plain": [
       "17"
      ]
     },
     "execution_count": 144,
     "metadata": {},
     "output_type": "execute_result"
    }
   ],
   "source": [
    "function p(x, coeff)\n",
    "    value = 0\n",
    "    for (n, a) in enumerate(coeff)\n",
    "        value += a * x^(n-1)\n",
    "    end\n",
    "    return value\n",
    "end\n",
    "\n",
    "p(2, [1, 2, 3])"
   ]
  },
  {
   "cell_type": "markdown",
   "id": "f30aef63",
   "metadata": {},
   "source": [
    "### Exercise 3\n",
    "\n",
    "Write a function that takes a string as an argument and returns the number of capital letters in the string.\n",
    "\n",
    "Hint: `uppercase(\"foo\")` returns `\"FOO\"`.\n",
    "\n",
    "\n",
    "<a id='pyess-ex4'></a>"
   ]
  },
  {
   "cell_type": "code",
   "execution_count": 148,
   "id": "070cf6cc",
   "metadata": {},
   "outputs": [
    {
     "data": {
      "text/plain": [
       "3"
      ]
     },
     "execution_count": 148,
     "metadata": {},
     "output_type": "execute_result"
    }
   ],
   "source": [
    "g(str) = sum(s -> uppercase(s) == s, str)\n",
    "g(\"HeLLo\")"
   ]
  },
  {
   "cell_type": "markdown",
   "id": "06ac88a2",
   "metadata": {},
   "source": [
    "### Exercise 4\n",
    "\n",
    "Write a function that takes two sequences `seq_a` and `seq_b` as arguments and\n",
    "returns `true` if every element in `seq_a` is also an element of `seq_b`, else\n",
    "`false`.\n",
    "\n",
    "- By “sequence” we mean an array, tuple or string.  \n",
    "\n",
    "\n",
    "\n",
    "<a id='pyess-ex5'></a>"
   ]
  },
  {
   "cell_type": "code",
   "execution_count": 152,
   "id": "1ae9ab0c",
   "metadata": {},
   "outputs": [
    {
     "data": {
      "text/plain": [
       "true"
      ]
     },
     "execution_count": 152,
     "metadata": {},
     "output_type": "execute_result"
    }
   ],
   "source": [
    "function a_in_b(seq_a, seq_b)\n",
    "    all(x -> x in seq_b, seq_a)\n",
    "end\n",
    "\n",
    "a_in_b(\"Bill\", \"Bill Clinton\")"
   ]
  },
  {
   "cell_type": "markdown",
   "id": "ad7b2f8f",
   "metadata": {},
   "source": [
    "### Exercise 5\n",
    "\n",
    "The Julia libraries include functions for interpolation and approximation.\n",
    "\n",
    "Nevertheless, let’s write our own function approximation routine as an exercise.\n",
    "\n",
    "In particular, write a function `linapprox` that takes as arguments\n",
    "\n",
    "- A function `f` mapping some interval $ [a, b] $ into $ \\mathbb R $.  \n",
    "- two scalars `a` and `b` providing the limits of this interval.  \n",
    "- An integer `n` determining the number of grid points.  \n",
    "- A number `x` satisfying `a ≤ x ≤ b`.  \n",
    "\n",
    "\n",
    "and returns the [piecewise linear interpolation](https://en.wikipedia.org/wiki/Linear_interpolation) of `f` at `x`, based on `n` evenly spaced grid points `a = point[1] < point[2] < ... < point[n] = b`.\n",
    "\n",
    "Aim for clarity, not efficiency.\n",
    "\n",
    "Hint: use the function `range` to linearly space numbers."
   ]
  },
  {
   "cell_type": "markdown",
   "id": "a2de7698",
   "metadata": {},
   "source": [
    "### Exercise 6\n",
    "\n",
    "The following data lists US cities and their populations.\n",
    "\n",
    "Copy this text into a text file called `us_cities.txt` and save it in your present working directory.\n",
    "\n",
    "- That is, save it in the location Julia returns when you call `pwd()`.  \n",
    "\n",
    "\n",
    "This can also be achieved by running the following Julia code:"
   ]
  },
  {
   "cell_type": "code",
   "execution_count": 165,
   "id": "d604d1fe",
   "metadata": {
    "hide-output": false
   },
   "outputs": [
    {
     "data": {
      "text/plain": [
       "167"
      ]
     },
     "execution_count": 165,
     "metadata": {},
     "output_type": "execute_result"
    }
   ],
   "source": [
    "open(\"us_cities.txt\", \"w\") do f\n",
    "  write(f,\n",
    "\"new york: 8244910\n",
    "los angeles: 3819702\n",
    "chicago: 2707120\n",
    "houston: 2145146\n",
    "philadelphia: 1536471\n",
    "phoenix: 1469471\n",
    "san antonio: 1359758\n",
    "san diego: 1326179\n",
    "dallas: 1223229\")\n",
    "end"
   ]
  },
  {
   "cell_type": "markdown",
   "id": "d9d5fb6f",
   "metadata": {},
   "source": [
    "Write a program to calculate total population across these cities.\n",
    "\n",
    "Hints:\n",
    "\n",
    "- If `f` is a file type then `eachline(f)` provides an iterable that steps you through the lines in the file.  \n",
    "- `parse(Int, \"100\")` converts the string `\"100\"` into an integer.  \n",
    "\n",
    "\n",
    "\n",
    "<a id='pyess-ex7'></a>"
   ]
  },
  {
   "cell_type": "code",
   "execution_count": 166,
   "id": "5ae88f82",
   "metadata": {},
   "outputs": [
    {
     "name": "stdout",
     "output_type": "stream",
     "text": [
      "Total population = 23831986\n"
     ]
    }
   ],
   "source": [
    "f_ex6 = open(\"us_cities.txt\", \"r\")\n",
    "total_pop = 0\n",
    "for line in eachline(f_ex6)\n",
    "    city, population = split(line, ':')  # tuple unpacking\n",
    "    total_pop += parse(Int, population)\n",
    "end\n",
    "close(f_ex6)\n",
    "println(\"Total population = $total_pop\")"
   ]
  },
  {
   "cell_type": "markdown",
   "id": "a95fd139",
   "metadata": {},
   "source": [
    "### Exercise 7\n",
    "\n",
    "Redo Exercise 5 except\n",
    "\n",
    "1. Pass in a range instead of the `a, b,` and `n`.  Test with a range such as `nodes = -1.0:0.5:1.0`.  \n",
    "1. Instead of the `while` used in the solution to Exercise 5, find a better way to efficiently bracket the `x` in the nodes.  \n",
    "\n",
    "\n",
    "Hints:\n",
    "\n",
    "- Rather than the signature as `function linapprox(f, a, b, n, x)`, it should be called as `function linapprox(f, nodes, x)`.  \n",
    "- `step(nodes), length(nodes), nodes[1]`, and `nodes[end]` may be useful.  \n",
    "- Type `?÷` into jupyter to explore quotients from Euclidean division for more efficient bracketing.  "
   ]
  },
  {
   "cell_type": "markdown",
   "id": "8e057965",
   "metadata": {},
   "source": [
    "## Solutions"
   ]
  },
  {
   "cell_type": "markdown",
   "id": "7b6f4ec3",
   "metadata": {},
   "source": [
    "### Exercise 1\n",
    "\n",
    "Part 1 solution:\n",
    "\n",
    "Here’s one possible solution"
   ]
  },
  {
   "cell_type": "code",
   "execution_count": null,
   "id": "c07c43fc",
   "metadata": {
    "hide-output": false
   },
   "outputs": [],
   "source": [
    "x_vals = [1, 2, 3]\n",
    "y_vals = [1, 1, 1]\n",
    "sum(x * y for (x, y) in zip(x_vals, y_vals))"
   ]
  },
  {
   "cell_type": "markdown",
   "id": "18d0ce8f",
   "metadata": {},
   "source": [
    "Part 2 solution:\n",
    "\n",
    "One solution is"
   ]
  },
  {
   "cell_type": "code",
   "execution_count": null,
   "id": "720a774d",
   "metadata": {
    "hide-output": false
   },
   "outputs": [],
   "source": [
    "sum(iseven, 0:99)"
   ]
  },
  {
   "cell_type": "markdown",
   "id": "9679d567",
   "metadata": {},
   "source": [
    "Part 3 solution:\n",
    "\n",
    "Here’s one possibility"
   ]
  },
  {
   "cell_type": "code",
   "execution_count": 169,
   "id": "b3da99a3",
   "metadata": {
    "hide-output": false
   },
   "outputs": [
    {
     "ename": "LoadError",
     "evalue": "cannot assign a value to variable Base.pairs from module Main",
     "output_type": "error",
     "traceback": [
      "cannot assign a value to variable Base.pairs from module Main",
      "",
      "Stacktrace:",
      " [1] top-level scope",
      "   @ In[169]:1",
      " [2] eval",
      "   @ ./boot.jl:373 [inlined]",
      " [3] include_string(mapexpr::typeof(REPL.softscope), mod::Module, code::String, filename::String)",
      "   @ Base ./loading.jl:1196"
     ]
    }
   ],
   "source": [
    "pairs = ((2, 5), (4, 2), (9, 8), (12, 10))\n",
    "sum(xy -> all(iseven, xy), pairs)"
   ]
  },
  {
   "cell_type": "markdown",
   "id": "d6aba0c1",
   "metadata": {},
   "source": [
    "### Exercise 2"
   ]
  },
  {
   "cell_type": "code",
   "execution_count": null,
   "id": "3526c344",
   "metadata": {
    "hide-output": false
   },
   "outputs": [],
   "source": [
    "p(x, coeff) = sum(a * x^(i-1) for (i, a) in enumerate(coeff))"
   ]
  },
  {
   "cell_type": "code",
   "execution_count": null,
   "id": "2e2124e7",
   "metadata": {
    "hide-output": false
   },
   "outputs": [],
   "source": [
    "p(1, (2, 4))"
   ]
  },
  {
   "cell_type": "markdown",
   "id": "d4c1cf24",
   "metadata": {},
   "source": [
    "### Exercise 3\n",
    "\n",
    "Here’s one solutions:"
   ]
  },
  {
   "cell_type": "code",
   "execution_count": null,
   "id": "368c7a3d",
   "metadata": {
    "hide-output": false
   },
   "outputs": [],
   "source": [
    "function f_ex3(string)\n",
    "    count = 0\n",
    "    for letter in string\n",
    "        if (letter == uppercase(letter)) && isletter(letter)\n",
    "            count += 1\n",
    "        end\n",
    "    end\n",
    "    return count\n",
    "end\n",
    "\n",
    "f_ex3(\"The Rain in Spain\")"
   ]
  },
  {
   "cell_type": "markdown",
   "id": "78cc0bb4",
   "metadata": {},
   "source": [
    "### Exercise 4\n",
    "\n",
    "Here’s one solutions:"
   ]
  },
  {
   "cell_type": "code",
   "execution_count": null,
   "id": "49415d4c",
   "metadata": {
    "hide-output": false
   },
   "outputs": [],
   "source": [
    "function f_ex4(seq_a, seq_b)\n",
    "    is_subset = true\n",
    "    for a in seq_a\n",
    "        if a ∉ seq_b\n",
    "            is_subset = false\n",
    "        end\n",
    "    end\n",
    "    return is_subset\n",
    "end\n",
    "\n",
    "# test\n",
    "println(f_ex4([1, 2], [1, 2, 3]))\n",
    "println(f_ex4([1, 2, 3], [1, 2]))"
   ]
  },
  {
   "cell_type": "markdown",
   "id": "69910135",
   "metadata": {},
   "source": [
    "if we use the Set data type then the solution is easier"
   ]
  },
  {
   "cell_type": "code",
   "execution_count": null,
   "id": "661d03ed",
   "metadata": {
    "hide-output": false
   },
   "outputs": [],
   "source": [
    "f_ex4_2(seq_a, seq_b) = Set(seq_a) ⊆ Set(seq_b) # \\subseteq (⊆) is unicode for `issubset`\n",
    "\n",
    "println(f_ex4_2([1, 2], [1, 2, 3]))\n",
    "println(f_ex4_2([1, 2, 3], [1, 2]))"
   ]
  },
  {
   "cell_type": "markdown",
   "id": "9e22696f",
   "metadata": {},
   "source": [
    "### Exercise 5"
   ]
  },
  {
   "cell_type": "code",
   "execution_count": 158,
   "id": "b08ef898",
   "metadata": {
    "hide-output": false
   },
   "outputs": [
    {
     "data": {
      "text/plain": [
       "linapprox (generic function with 1 method)"
      ]
     },
     "execution_count": 158,
     "metadata": {},
     "output_type": "execute_result"
    }
   ],
   "source": [
    "function linapprox(f, a, b, n, x)\n",
    "    # evaluates the piecewise linear interpolant of f at x,\n",
    "    # on the interval [a, b], with n evenly spaced grid points.\n",
    "\n",
    "    length_of_interval = b - a\n",
    "    num_subintervals = n - 1\n",
    "    step = length_of_interval / num_subintervals\n",
    "\n",
    "    # find first grid point larger than x\n",
    "    point = a\n",
    "    while point ≤ x\n",
    "        point += step\n",
    "    end\n",
    "\n",
    "    # x must lie between the gridpoints (point - step) and point\n",
    "    u, v = point - step, point\n",
    "\n",
    "    return f(u) + (x - u) * (f(v) - f(u)) / (v - u)\n",
    "end"
   ]
  },
  {
   "cell_type": "markdown",
   "id": "c8d8f856",
   "metadata": {},
   "source": [
    "Let’s test it"
   ]
  },
  {
   "cell_type": "code",
   "execution_count": 159,
   "id": "6d87b736",
   "metadata": {
    "hide-output": false
   },
   "outputs": [
    {
     "data": {
      "text/plain": [
       "g_ex5 (generic function with 1 method)"
      ]
     },
     "execution_count": 159,
     "metadata": {},
     "output_type": "execute_result"
    }
   ],
   "source": [
    "f_ex5(x) = x^2\n",
    "g_ex5(x) = linapprox(f_ex5, -1, 1, 3, x)"
   ]
  },
  {
   "cell_type": "code",
   "execution_count": 163,
   "id": "9b38f769",
   "metadata": {},
   "outputs": [
    {
     "data": {
      "text/plain": [
       "4-element Vector{Float64}:\n",
       " 1.0\n",
       " 1.6666666666666667\n",
       " 2.3333333333333335\n",
       " 3.0"
      ]
     },
     "execution_count": 163,
     "metadata": {},
     "output_type": "execute_result"
    }
   ],
   "source": [
    "collect(range(1, 3, 4))"
   ]
  },
  {
   "cell_type": "code",
   "execution_count": 164,
   "id": "577c9372",
   "metadata": {
    "hide-output": false
   },
   "outputs": [
    {
     "data": {
      "image/svg+xml": [
       "<?xml version=\"1.0\" encoding=\"utf-8\"?>\n",
       "<svg xmlns=\"http://www.w3.org/2000/svg\" xmlns:xlink=\"http://www.w3.org/1999/xlink\" width=\"600\" height=\"400\" viewBox=\"0 0 2400 1600\">\n",
       "<defs>\n",
       "  <clipPath id=\"clip320\">\n",
       "    <rect x=\"0\" y=\"0\" width=\"2400\" height=\"1600\"/>\n",
       "  </clipPath>\n",
       "</defs>\n",
       "<path clip-path=\"url(#clip320)\" d=\"\n",
       "M0 1600 L2400 1600 L2400 0 L0 0  Z\n",
       "  \" fill=\"#ffffff\" fill-rule=\"evenodd\" fill-opacity=\"1\"/>\n",
       "<defs>\n",
       "  <clipPath id=\"clip321\">\n",
       "    <rect x=\"480\" y=\"0\" width=\"1681\" height=\"1600\"/>\n",
       "  </clipPath>\n",
       "</defs>\n",
       "<path clip-path=\"url(#clip320)\" d=\"\n",
       "M186.274 1486.45 L2352.76 1486.45 L2352.76 47.2441 L186.274 47.2441  Z\n",
       "  \" fill=\"#ffffff\" fill-rule=\"evenodd\" fill-opacity=\"1\"/>\n",
       "<defs>\n",
       "  <clipPath id=\"clip322\">\n",
       "    <rect x=\"186\" y=\"47\" width=\"2167\" height=\"1440\"/>\n",
       "  </clipPath>\n",
       "</defs>\n",
       "<polyline clip-path=\"url(#clip322)\" style=\"stroke:#000000; stroke-linecap:butt; stroke-linejoin:round; stroke-width:2; stroke-opacity:0.1; fill:none\" points=\"\n",
       "  247.59,1486.45 247.59,47.2441 \n",
       "  \"/>\n",
       "<polyline clip-path=\"url(#clip322)\" style=\"stroke:#000000; stroke-linecap:butt; stroke-linejoin:round; stroke-width:2; stroke-opacity:0.1; fill:none\" points=\"\n",
       "  758.552,1486.45 758.552,47.2441 \n",
       "  \"/>\n",
       "<polyline clip-path=\"url(#clip322)\" style=\"stroke:#000000; stroke-linecap:butt; stroke-linejoin:round; stroke-width:2; stroke-opacity:0.1; fill:none\" points=\"\n",
       "  1269.51,1486.45 1269.51,47.2441 \n",
       "  \"/>\n",
       "<polyline clip-path=\"url(#clip322)\" style=\"stroke:#000000; stroke-linecap:butt; stroke-linejoin:round; stroke-width:2; stroke-opacity:0.1; fill:none\" points=\"\n",
       "  1780.48,1486.45 1780.48,47.2441 \n",
       "  \"/>\n",
       "<polyline clip-path=\"url(#clip322)\" style=\"stroke:#000000; stroke-linecap:butt; stroke-linejoin:round; stroke-width:2; stroke-opacity:0.1; fill:none\" points=\"\n",
       "  2291.44,1486.45 2291.44,47.2441 \n",
       "  \"/>\n",
       "<polyline clip-path=\"url(#clip320)\" style=\"stroke:#000000; stroke-linecap:butt; stroke-linejoin:round; stroke-width:4; stroke-opacity:1; fill:none\" points=\"\n",
       "  186.274,1486.45 2352.76,1486.45 \n",
       "  \"/>\n",
       "<polyline clip-path=\"url(#clip320)\" style=\"stroke:#000000; stroke-linecap:butt; stroke-linejoin:round; stroke-width:4; stroke-opacity:1; fill:none\" points=\"\n",
       "  247.59,1486.45 247.59,1467.55 \n",
       "  \"/>\n",
       "<polyline clip-path=\"url(#clip320)\" style=\"stroke:#000000; stroke-linecap:butt; stroke-linejoin:round; stroke-width:4; stroke-opacity:1; fill:none\" points=\"\n",
       "  758.552,1486.45 758.552,1467.55 \n",
       "  \"/>\n",
       "<polyline clip-path=\"url(#clip320)\" style=\"stroke:#000000; stroke-linecap:butt; stroke-linejoin:round; stroke-width:4; stroke-opacity:1; fill:none\" points=\"\n",
       "  1269.51,1486.45 1269.51,1467.55 \n",
       "  \"/>\n",
       "<polyline clip-path=\"url(#clip320)\" style=\"stroke:#000000; stroke-linecap:butt; stroke-linejoin:round; stroke-width:4; stroke-opacity:1; fill:none\" points=\"\n",
       "  1780.48,1486.45 1780.48,1467.55 \n",
       "  \"/>\n",
       "<polyline clip-path=\"url(#clip320)\" style=\"stroke:#000000; stroke-linecap:butt; stroke-linejoin:round; stroke-width:4; stroke-opacity:1; fill:none\" points=\"\n",
       "  2291.44,1486.45 2291.44,1467.55 \n",
       "  \"/>\n",
       "<path clip-path=\"url(#clip320)\" d=\"M194.118 1532.02 L223.793 1532.02 L223.793 1535.95 L194.118 1535.95 L194.118 1532.02 Z\" fill=\"#000000\" fill-rule=\"evenodd\" fill-opacity=\"1\" /><path clip-path=\"url(#clip320)\" d=\"M234.696 1544.91 L242.335 1544.91 L242.335 1518.55 L234.025 1520.21 L234.025 1515.95 L242.289 1514.29 L246.965 1514.29 L246.965 1544.91 L254.603 1544.91 L254.603 1548.85 L234.696 1548.85 L234.696 1544.91 Z\" fill=\"#000000\" fill-rule=\"evenodd\" fill-opacity=\"1\" /><path clip-path=\"url(#clip320)\" d=\"M264.048 1542.97 L268.932 1542.97 L268.932 1548.85 L264.048 1548.85 L264.048 1542.97 Z\" fill=\"#000000\" fill-rule=\"evenodd\" fill-opacity=\"1\" /><path clip-path=\"url(#clip320)\" d=\"M289.117 1517.37 Q285.506 1517.37 283.677 1520.93 Q281.872 1524.47 281.872 1531.6 Q281.872 1538.71 283.677 1542.27 Q285.506 1545.82 289.117 1545.82 Q292.751 1545.82 294.557 1542.27 Q296.386 1538.71 296.386 1531.6 Q296.386 1524.47 294.557 1520.93 Q292.751 1517.37 289.117 1517.37 M289.117 1513.66 Q294.927 1513.66 297.983 1518.27 Q301.061 1522.85 301.061 1531.6 Q301.061 1540.33 297.983 1544.94 Q294.927 1549.52 289.117 1549.52 Q283.307 1549.52 280.228 1544.94 Q277.173 1540.33 277.173 1531.6 Q277.173 1522.85 280.228 1518.27 Q283.307 1513.66 289.117 1513.66 Z\" fill=\"#000000\" fill-rule=\"evenodd\" fill-opacity=\"1\" /><path clip-path=\"url(#clip320)\" d=\"M705.578 1532.02 L735.254 1532.02 L735.254 1535.95 L705.578 1535.95 L705.578 1532.02 Z\" fill=\"#000000\" fill-rule=\"evenodd\" fill-opacity=\"1\" /><path clip-path=\"url(#clip320)\" d=\"M755.346 1517.37 Q751.735 1517.37 749.906 1520.93 Q748.101 1524.47 748.101 1531.6 Q748.101 1538.71 749.906 1542.27 Q751.735 1545.82 755.346 1545.82 Q758.98 1545.82 760.786 1542.27 Q762.615 1538.71 762.615 1531.6 Q762.615 1524.47 760.786 1520.93 Q758.98 1517.37 755.346 1517.37 M755.346 1513.66 Q761.156 1513.66 764.212 1518.27 Q767.291 1522.85 767.291 1531.6 Q767.291 1540.33 764.212 1544.94 Q761.156 1549.52 755.346 1549.52 Q749.536 1549.52 746.457 1544.94 Q743.402 1540.33 743.402 1531.6 Q743.402 1522.85 746.457 1518.27 Q749.536 1513.66 755.346 1513.66 Z\" fill=\"#000000\" fill-rule=\"evenodd\" fill-opacity=\"1\" /><path clip-path=\"url(#clip320)\" d=\"M775.508 1542.97 L780.392 1542.97 L780.392 1548.85 L775.508 1548.85 L775.508 1542.97 Z\" fill=\"#000000\" fill-rule=\"evenodd\" fill-opacity=\"1\" /><path clip-path=\"url(#clip320)\" d=\"M790.624 1514.29 L808.98 1514.29 L808.98 1518.22 L794.906 1518.22 L794.906 1526.7 Q795.925 1526.35 796.943 1526.19 Q797.962 1526 798.98 1526 Q804.767 1526 808.147 1529.17 Q811.526 1532.34 811.526 1537.76 Q811.526 1543.34 808.054 1546.44 Q804.582 1549.52 798.263 1549.52 Q796.087 1549.52 793.818 1549.15 Q791.573 1548.78 789.166 1548.04 L789.166 1543.34 Q791.249 1544.47 793.471 1545.03 Q795.693 1545.58 798.17 1545.58 Q802.175 1545.58 804.513 1543.48 Q806.851 1541.37 806.851 1537.76 Q806.851 1534.15 804.513 1532.04 Q802.175 1529.94 798.17 1529.94 Q796.295 1529.94 794.42 1530.35 Q792.568 1530.77 790.624 1531.65 L790.624 1514.29 Z\" fill=\"#000000\" fill-rule=\"evenodd\" fill-opacity=\"1\" /><path clip-path=\"url(#clip320)\" d=\"M1246.9 1517.37 Q1243.29 1517.37 1241.46 1520.93 Q1239.65 1524.47 1239.65 1531.6 Q1239.65 1538.71 1241.46 1542.27 Q1243.29 1545.82 1246.9 1545.82 Q1250.53 1545.82 1252.34 1542.27 Q1254.17 1538.71 1254.17 1531.6 Q1254.17 1524.47 1252.34 1520.93 Q1250.53 1517.37 1246.9 1517.37 M1246.9 1513.66 Q1252.71 1513.66 1255.77 1518.27 Q1258.84 1522.85 1258.84 1531.6 Q1258.84 1540.33 1255.77 1544.94 Q1252.71 1549.52 1246.9 1549.52 Q1241.09 1549.52 1238.01 1544.94 Q1234.95 1540.33 1234.95 1531.6 Q1234.95 1522.85 1238.01 1518.27 Q1241.09 1513.66 1246.9 1513.66 Z\" fill=\"#000000\" fill-rule=\"evenodd\" fill-opacity=\"1\" /><path clip-path=\"url(#clip320)\" d=\"M1267.06 1542.97 L1271.95 1542.97 L1271.95 1548.85 L1267.06 1548.85 L1267.06 1542.97 Z\" fill=\"#000000\" fill-rule=\"evenodd\" fill-opacity=\"1\" /><path clip-path=\"url(#clip320)\" d=\"M1292.13 1517.37 Q1288.52 1517.37 1286.69 1520.93 Q1284.89 1524.47 1284.89 1531.6 Q1284.89 1538.71 1286.69 1542.27 Q1288.52 1545.82 1292.13 1545.82 Q1295.76 1545.82 1297.57 1542.27 Q1299.4 1538.71 1299.4 1531.6 Q1299.4 1524.47 1297.57 1520.93 Q1295.76 1517.37 1292.13 1517.37 M1292.13 1513.66 Q1297.94 1513.66 1301 1518.27 Q1304.07 1522.85 1304.07 1531.6 Q1304.07 1540.33 1301 1544.94 Q1297.94 1549.52 1292.13 1549.52 Q1286.32 1549.52 1283.24 1544.94 Q1280.19 1540.33 1280.19 1531.6 Q1280.19 1522.85 1283.24 1518.27 Q1286.32 1513.66 1292.13 1513.66 Z\" fill=\"#000000\" fill-rule=\"evenodd\" fill-opacity=\"1\" /><path clip-path=\"url(#clip320)\" d=\"M1758.36 1517.37 Q1754.75 1517.37 1752.92 1520.93 Q1751.11 1524.47 1751.11 1531.6 Q1751.11 1538.71 1752.92 1542.27 Q1754.75 1545.82 1758.36 1545.82 Q1761.99 1545.82 1763.8 1542.27 Q1765.63 1538.71 1765.63 1531.6 Q1765.63 1524.47 1763.8 1520.93 Q1761.99 1517.37 1758.36 1517.37 M1758.36 1513.66 Q1764.17 1513.66 1767.23 1518.27 Q1770.3 1522.85 1770.3 1531.6 Q1770.3 1540.33 1767.23 1544.94 Q1764.17 1549.52 1758.36 1549.52 Q1752.55 1549.52 1749.47 1544.94 Q1746.42 1540.33 1746.42 1531.6 Q1746.42 1522.85 1749.47 1518.27 Q1752.55 1513.66 1758.36 1513.66 Z\" fill=\"#000000\" fill-rule=\"evenodd\" fill-opacity=\"1\" /><path clip-path=\"url(#clip320)\" d=\"M1778.52 1542.97 L1783.41 1542.97 L1783.41 1548.85 L1778.52 1548.85 L1778.52 1542.97 Z\" fill=\"#000000\" fill-rule=\"evenodd\" fill-opacity=\"1\" /><path clip-path=\"url(#clip320)\" d=\"M1793.64 1514.29 L1811.99 1514.29 L1811.99 1518.22 L1797.92 1518.22 L1797.92 1526.7 Q1798.94 1526.35 1799.96 1526.19 Q1800.98 1526 1801.99 1526 Q1807.78 1526 1811.16 1529.17 Q1814.54 1532.34 1814.54 1537.76 Q1814.54 1543.34 1811.07 1546.44 Q1807.6 1549.52 1801.28 1549.52 Q1799.1 1549.52 1796.83 1549.15 Q1794.59 1548.78 1792.18 1548.04 L1792.18 1543.34 Q1794.26 1544.47 1796.48 1545.03 Q1798.71 1545.58 1801.18 1545.58 Q1805.19 1545.58 1807.53 1543.48 Q1809.86 1541.37 1809.86 1537.76 Q1809.86 1534.15 1807.53 1532.04 Q1805.19 1529.94 1801.18 1529.94 Q1799.31 1529.94 1797.43 1530.35 Q1795.58 1530.77 1793.64 1531.65 L1793.64 1514.29 Z\" fill=\"#000000\" fill-rule=\"evenodd\" fill-opacity=\"1\" /><path clip-path=\"url(#clip320)\" d=\"M2258.59 1544.91 L2266.23 1544.91 L2266.23 1518.55 L2257.92 1520.21 L2257.92 1515.95 L2266.19 1514.29 L2270.86 1514.29 L2270.86 1544.91 L2278.5 1544.91 L2278.5 1548.85 L2258.59 1548.85 L2258.59 1544.91 Z\" fill=\"#000000\" fill-rule=\"evenodd\" fill-opacity=\"1\" /><path clip-path=\"url(#clip320)\" d=\"M2287.95 1542.97 L2292.83 1542.97 L2292.83 1548.85 L2287.95 1548.85 L2287.95 1542.97 Z\" fill=\"#000000\" fill-rule=\"evenodd\" fill-opacity=\"1\" /><path clip-path=\"url(#clip320)\" d=\"M2313.01 1517.37 Q2309.4 1517.37 2307.57 1520.93 Q2305.77 1524.47 2305.77 1531.6 Q2305.77 1538.71 2307.57 1542.27 Q2309.4 1545.82 2313.01 1545.82 Q2316.65 1545.82 2318.45 1542.27 Q2320.28 1538.71 2320.28 1531.6 Q2320.28 1524.47 2318.45 1520.93 Q2316.65 1517.37 2313.01 1517.37 M2313.01 1513.66 Q2318.82 1513.66 2321.88 1518.27 Q2324.96 1522.85 2324.96 1531.6 Q2324.96 1540.33 2321.88 1544.94 Q2318.82 1549.52 2313.01 1549.52 Q2307.2 1549.52 2304.13 1544.94 Q2301.07 1540.33 2301.07 1531.6 Q2301.07 1522.85 2304.13 1518.27 Q2307.2 1513.66 2313.01 1513.66 Z\" fill=\"#000000\" fill-rule=\"evenodd\" fill-opacity=\"1\" /><polyline clip-path=\"url(#clip322)\" style=\"stroke:#000000; stroke-linecap:butt; stroke-linejoin:round; stroke-width:2; stroke-opacity:0.1; fill:none\" points=\"\n",
       "  186.274,1445.85 2352.76,1445.85 \n",
       "  \"/>\n",
       "<polyline clip-path=\"url(#clip322)\" style=\"stroke:#000000; stroke-linecap:butt; stroke-linejoin:round; stroke-width:2; stroke-opacity:0.1; fill:none\" points=\"\n",
       "  186.274,1106.38 2352.76,1106.38 \n",
       "  \"/>\n",
       "<polyline clip-path=\"url(#clip322)\" style=\"stroke:#000000; stroke-linecap:butt; stroke-linejoin:round; stroke-width:2; stroke-opacity:0.1; fill:none\" points=\"\n",
       "  186.274,766.915 2352.76,766.915 \n",
       "  \"/>\n",
       "<polyline clip-path=\"url(#clip322)\" style=\"stroke:#000000; stroke-linecap:butt; stroke-linejoin:round; stroke-width:2; stroke-opacity:0.1; fill:none\" points=\"\n",
       "  186.274,427.446 2352.76,427.446 \n",
       "  \"/>\n",
       "<polyline clip-path=\"url(#clip322)\" style=\"stroke:#000000; stroke-linecap:butt; stroke-linejoin:round; stroke-width:2; stroke-opacity:0.1; fill:none\" points=\"\n",
       "  186.274,87.9763 2352.76,87.9763 \n",
       "  \"/>\n",
       "<polyline clip-path=\"url(#clip320)\" style=\"stroke:#000000; stroke-linecap:butt; stroke-linejoin:round; stroke-width:4; stroke-opacity:1; fill:none\" points=\"\n",
       "  186.274,1486.45 186.274,47.2441 \n",
       "  \"/>\n",
       "<polyline clip-path=\"url(#clip320)\" style=\"stroke:#000000; stroke-linecap:butt; stroke-linejoin:round; stroke-width:4; stroke-opacity:1; fill:none\" points=\"\n",
       "  186.274,1445.85 205.172,1445.85 \n",
       "  \"/>\n",
       "<polyline clip-path=\"url(#clip320)\" style=\"stroke:#000000; stroke-linecap:butt; stroke-linejoin:round; stroke-width:4; stroke-opacity:1; fill:none\" points=\"\n",
       "  186.274,1106.38 205.172,1106.38 \n",
       "  \"/>\n",
       "<polyline clip-path=\"url(#clip320)\" style=\"stroke:#000000; stroke-linecap:butt; stroke-linejoin:round; stroke-width:4; stroke-opacity:1; fill:none\" points=\"\n",
       "  186.274,766.915 205.172,766.915 \n",
       "  \"/>\n",
       "<polyline clip-path=\"url(#clip320)\" style=\"stroke:#000000; stroke-linecap:butt; stroke-linejoin:round; stroke-width:4; stroke-opacity:1; fill:none\" points=\"\n",
       "  186.274,427.446 205.172,427.446 \n",
       "  \"/>\n",
       "<polyline clip-path=\"url(#clip320)\" style=\"stroke:#000000; stroke-linecap:butt; stroke-linejoin:round; stroke-width:4; stroke-opacity:1; fill:none\" points=\"\n",
       "  186.274,87.9763 205.172,87.9763 \n",
       "  \"/>\n",
       "<path clip-path=\"url(#clip320)\" d=\"M62.9365 1431.65 Q59.3254 1431.65 57.4967 1435.22 Q55.6912 1438.76 55.6912 1445.89 Q55.6912 1453 57.4967 1456.56 Q59.3254 1460.1 62.9365 1460.1 Q66.5707 1460.1 68.3763 1456.56 Q70.205 1453 70.205 1445.89 Q70.205 1438.76 68.3763 1435.22 Q66.5707 1431.65 62.9365 1431.65 M62.9365 1427.95 Q68.7467 1427.95 71.8022 1432.56 Q74.8809 1437.14 74.8809 1445.89 Q74.8809 1454.62 71.8022 1459.22 Q68.7467 1463.81 62.9365 1463.81 Q57.1264 1463.81 54.0477 1459.22 Q50.9921 1454.62 50.9921 1445.89 Q50.9921 1437.14 54.0477 1432.56 Q57.1264 1427.95 62.9365 1427.95 Z\" fill=\"#000000\" fill-rule=\"evenodd\" fill-opacity=\"1\" /><path clip-path=\"url(#clip320)\" d=\"M83.0984 1457.25 L87.9827 1457.25 L87.9827 1463.13 L83.0984 1463.13 L83.0984 1457.25 Z\" fill=\"#000000\" fill-rule=\"evenodd\" fill-opacity=\"1\" /><path clip-path=\"url(#clip320)\" d=\"M108.168 1431.65 Q104.557 1431.65 102.728 1435.22 Q100.922 1438.76 100.922 1445.89 Q100.922 1453 102.728 1456.56 Q104.557 1460.1 108.168 1460.1 Q111.802 1460.1 113.608 1456.56 Q115.436 1453 115.436 1445.89 Q115.436 1438.76 113.608 1435.22 Q111.802 1431.65 108.168 1431.65 M108.168 1427.95 Q113.978 1427.95 117.033 1432.56 Q120.112 1437.14 120.112 1445.89 Q120.112 1454.62 117.033 1459.22 Q113.978 1463.81 108.168 1463.81 Q102.358 1463.81 99.2789 1459.22 Q96.2234 1454.62 96.2234 1445.89 Q96.2234 1437.14 99.2789 1432.56 Q102.358 1427.95 108.168 1427.95 Z\" fill=\"#000000\" fill-rule=\"evenodd\" fill-opacity=\"1\" /><path clip-path=\"url(#clip320)\" d=\"M138.33 1431.65 Q134.719 1431.65 132.89 1435.22 Q131.084 1438.76 131.084 1445.89 Q131.084 1453 132.89 1456.56 Q134.719 1460.1 138.33 1460.1 Q141.964 1460.1 143.769 1456.56 Q145.598 1453 145.598 1445.89 Q145.598 1438.76 143.769 1435.22 Q141.964 1431.65 138.33 1431.65 M138.33 1427.95 Q144.14 1427.95 147.195 1432.56 Q150.274 1437.14 150.274 1445.89 Q150.274 1454.62 147.195 1459.22 Q144.14 1463.81 138.33 1463.81 Q132.519 1463.81 129.441 1459.22 Q126.385 1454.62 126.385 1445.89 Q126.385 1437.14 129.441 1432.56 Q132.519 1427.95 138.33 1427.95 Z\" fill=\"#000000\" fill-rule=\"evenodd\" fill-opacity=\"1\" /><path clip-path=\"url(#clip320)\" d=\"M63.9319 1092.18 Q60.3208 1092.18 58.4921 1095.75 Q56.6865 1099.29 56.6865 1106.42 Q56.6865 1113.53 58.4921 1117.09 Q60.3208 1120.63 63.9319 1120.63 Q67.5661 1120.63 69.3717 1117.09 Q71.2004 1113.53 71.2004 1106.42 Q71.2004 1099.29 69.3717 1095.75 Q67.5661 1092.18 63.9319 1092.18 M63.9319 1088.48 Q69.742 1088.48 72.7976 1093.09 Q75.8763 1097.67 75.8763 1106.42 Q75.8763 1115.15 72.7976 1119.75 Q69.742 1124.34 63.9319 1124.34 Q58.1217 1124.34 55.043 1119.75 Q51.9875 1115.15 51.9875 1106.42 Q51.9875 1097.67 55.043 1093.09 Q58.1217 1088.48 63.9319 1088.48 Z\" fill=\"#000000\" fill-rule=\"evenodd\" fill-opacity=\"1\" /><path clip-path=\"url(#clip320)\" d=\"M84.0938 1117.79 L88.978 1117.79 L88.978 1123.66 L84.0938 1123.66 L84.0938 1117.79 Z\" fill=\"#000000\" fill-rule=\"evenodd\" fill-opacity=\"1\" /><path clip-path=\"url(#clip320)\" d=\"M103.191 1119.73 L119.51 1119.73 L119.51 1123.66 L97.566 1123.66 L97.566 1119.73 Q100.228 1116.97 104.811 1112.35 Q109.418 1107.69 110.598 1106.35 Q112.844 1103.83 113.723 1102.09 Q114.626 1100.33 114.626 1098.64 Q114.626 1095.89 112.682 1094.15 Q110.76 1092.41 107.658 1092.41 Q105.459 1092.41 103.006 1093.18 Q100.575 1093.94 97.7974 1095.49 L97.7974 1090.77 Q100.621 1089.64 103.075 1089.06 Q105.529 1088.48 107.566 1088.48 Q112.936 1088.48 116.131 1091.16 Q119.325 1093.85 119.325 1098.34 Q119.325 1100.47 118.515 1102.39 Q117.728 1104.29 115.621 1106.88 Q115.043 1107.55 111.941 1110.77 Q108.839 1113.97 103.191 1119.73 Z\" fill=\"#000000\" fill-rule=\"evenodd\" fill-opacity=\"1\" /><path clip-path=\"url(#clip320)\" d=\"M129.371 1089.1 L147.728 1089.1 L147.728 1093.04 L133.654 1093.04 L133.654 1101.51 Q134.672 1101.16 135.691 1101 Q136.709 1100.82 137.728 1100.82 Q143.515 1100.82 146.894 1103.99 Q150.274 1107.16 150.274 1112.58 Q150.274 1118.16 146.802 1121.26 Q143.33 1124.34 137.01 1124.34 Q134.834 1124.34 132.566 1123.97 Q130.32 1123.6 127.913 1122.85 L127.913 1118.16 Q129.996 1119.29 132.219 1119.85 Q134.441 1120.4 136.918 1120.4 Q140.922 1120.4 143.26 1118.29 Q145.598 1116.19 145.598 1112.58 Q145.598 1108.97 143.26 1106.86 Q140.922 1104.75 136.918 1104.75 Q135.043 1104.75 133.168 1105.17 Q131.316 1105.59 129.371 1106.47 L129.371 1089.1 Z\" fill=\"#000000\" fill-rule=\"evenodd\" fill-opacity=\"1\" /><path clip-path=\"url(#clip320)\" d=\"M62.9365 752.714 Q59.3254 752.714 57.4967 756.279 Q55.6912 759.82 55.6912 766.95 Q55.6912 774.056 57.4967 777.621 Q59.3254 781.163 62.9365 781.163 Q66.5707 781.163 68.3763 777.621 Q70.205 774.056 70.205 766.95 Q70.205 759.82 68.3763 756.279 Q66.5707 752.714 62.9365 752.714 M62.9365 749.01 Q68.7467 749.01 71.8022 753.617 Q74.8809 758.2 74.8809 766.95 Q74.8809 775.677 71.8022 780.283 Q68.7467 784.867 62.9365 784.867 Q57.1264 784.867 54.0477 780.283 Q50.9921 775.677 50.9921 766.95 Q50.9921 758.2 54.0477 753.617 Q57.1264 749.01 62.9365 749.01 Z\" fill=\"#000000\" fill-rule=\"evenodd\" fill-opacity=\"1\" /><path clip-path=\"url(#clip320)\" d=\"M83.0984 778.316 L87.9827 778.316 L87.9827 784.195 L83.0984 784.195 L83.0984 778.316 Z\" fill=\"#000000\" fill-rule=\"evenodd\" fill-opacity=\"1\" /><path clip-path=\"url(#clip320)\" d=\"M98.2141 749.635 L116.57 749.635 L116.57 753.57 L102.496 753.57 L102.496 762.043 Q103.515 761.695 104.534 761.533 Q105.552 761.348 106.571 761.348 Q112.358 761.348 115.737 764.519 Q119.117 767.691 119.117 773.107 Q119.117 778.686 115.645 781.788 Q112.172 784.867 105.853 784.867 Q103.677 784.867 101.409 784.496 Q99.1632 784.126 96.7558 783.385 L96.7558 778.686 Q98.8391 779.82 101.061 780.376 Q103.284 780.931 105.76 780.931 Q109.765 780.931 112.103 778.825 Q114.441 776.718 114.441 773.107 Q114.441 769.496 112.103 767.39 Q109.765 765.283 105.76 765.283 Q103.885 765.283 102.01 765.7 Q100.159 766.117 98.2141 766.996 L98.2141 749.635 Z\" fill=\"#000000\" fill-rule=\"evenodd\" fill-opacity=\"1\" /><path clip-path=\"url(#clip320)\" d=\"M138.33 752.714 Q134.719 752.714 132.89 756.279 Q131.084 759.82 131.084 766.95 Q131.084 774.056 132.89 777.621 Q134.719 781.163 138.33 781.163 Q141.964 781.163 143.769 777.621 Q145.598 774.056 145.598 766.95 Q145.598 759.82 143.769 756.279 Q141.964 752.714 138.33 752.714 M138.33 749.01 Q144.14 749.01 147.195 753.617 Q150.274 758.2 150.274 766.95 Q150.274 775.677 147.195 780.283 Q144.14 784.867 138.33 784.867 Q132.519 784.867 129.441 780.283 Q126.385 775.677 126.385 766.95 Q126.385 758.2 129.441 753.617 Q132.519 749.01 138.33 749.01 Z\" fill=\"#000000\" fill-rule=\"evenodd\" fill-opacity=\"1\" /><path clip-path=\"url(#clip320)\" d=\"M63.9319 413.244 Q60.3208 413.244 58.4921 416.809 Q56.6865 420.351 56.6865 427.48 Q56.6865 434.587 58.4921 438.152 Q60.3208 441.693 63.9319 441.693 Q67.5661 441.693 69.3717 438.152 Q71.2004 434.587 71.2004 427.48 Q71.2004 420.351 69.3717 416.809 Q67.5661 413.244 63.9319 413.244 M63.9319 409.541 Q69.742 409.541 72.7976 414.147 Q75.8763 418.731 75.8763 427.48 Q75.8763 436.207 72.7976 440.814 Q69.742 445.397 63.9319 445.397 Q58.1217 445.397 55.043 440.814 Q51.9875 436.207 51.9875 427.48 Q51.9875 418.731 55.043 414.147 Q58.1217 409.541 63.9319 409.541 Z\" fill=\"#000000\" fill-rule=\"evenodd\" fill-opacity=\"1\" /><path clip-path=\"url(#clip320)\" d=\"M84.0938 438.846 L88.978 438.846 L88.978 444.726 L84.0938 444.726 L84.0938 438.846 Z\" fill=\"#000000\" fill-rule=\"evenodd\" fill-opacity=\"1\" /><path clip-path=\"url(#clip320)\" d=\"M97.9826 410.166 L120.205 410.166 L120.205 412.156 L107.658 444.726 L102.774 444.726 L114.58 414.101 L97.9826 414.101 L97.9826 410.166 Z\" fill=\"#000000\" fill-rule=\"evenodd\" fill-opacity=\"1\" /><path clip-path=\"url(#clip320)\" d=\"M129.371 410.166 L147.728 410.166 L147.728 414.101 L133.654 414.101 L133.654 422.573 Q134.672 422.226 135.691 422.064 Q136.709 421.879 137.728 421.879 Q143.515 421.879 146.894 425.05 Q150.274 428.221 150.274 433.638 Q150.274 439.217 146.802 442.318 Q143.33 445.397 137.01 445.397 Q134.834 445.397 132.566 445.027 Q130.32 444.656 127.913 443.916 L127.913 439.217 Q129.996 440.351 132.219 440.906 Q134.441 441.462 136.918 441.462 Q140.922 441.462 143.26 439.355 Q145.598 437.249 145.598 433.638 Q145.598 430.027 143.26 427.92 Q140.922 425.814 136.918 425.814 Q135.043 425.814 133.168 426.23 Q131.316 426.647 129.371 427.527 L129.371 410.166 Z\" fill=\"#000000\" fill-rule=\"evenodd\" fill-opacity=\"1\" /><path clip-path=\"url(#clip320)\" d=\"M53.7467 101.321 L61.3856 101.321 L61.3856 74.9555 L53.0754 76.6222 L53.0754 72.3629 L61.3393 70.6963 L66.0152 70.6963 L66.0152 101.321 L73.654 101.321 L73.654 105.256 L53.7467 105.256 L53.7467 101.321 Z\" fill=\"#000000\" fill-rule=\"evenodd\" fill-opacity=\"1\" /><path clip-path=\"url(#clip320)\" d=\"M83.0984 99.3767 L87.9827 99.3767 L87.9827 105.256 L83.0984 105.256 L83.0984 99.3767 Z\" fill=\"#000000\" fill-rule=\"evenodd\" fill-opacity=\"1\" /><path clip-path=\"url(#clip320)\" d=\"M108.168 73.775 Q104.557 73.775 102.728 77.3398 Q100.922 80.8814 100.922 88.011 Q100.922 95.1174 102.728 98.6822 Q104.557 102.224 108.168 102.224 Q111.802 102.224 113.608 98.6822 Q115.436 95.1174 115.436 88.011 Q115.436 80.8814 113.608 77.3398 Q111.802 73.775 108.168 73.775 M108.168 70.0713 Q113.978 70.0713 117.033 74.6777 Q120.112 79.261 120.112 88.011 Q120.112 96.7378 117.033 101.344 Q113.978 105.928 108.168 105.928 Q102.358 105.928 99.2789 101.344 Q96.2234 96.7378 96.2234 88.011 Q96.2234 79.261 99.2789 74.6777 Q102.358 70.0713 108.168 70.0713 Z\" fill=\"#000000\" fill-rule=\"evenodd\" fill-opacity=\"1\" /><path clip-path=\"url(#clip320)\" d=\"M138.33 73.775 Q134.719 73.775 132.89 77.3398 Q131.084 80.8814 131.084 88.011 Q131.084 95.1174 132.89 98.6822 Q134.719 102.224 138.33 102.224 Q141.964 102.224 143.769 98.6822 Q145.598 95.1174 145.598 88.011 Q145.598 80.8814 143.769 77.3398 Q141.964 73.775 138.33 73.775 M138.33 70.0713 Q144.14 70.0713 147.195 74.6777 Q150.274 79.261 150.274 88.011 Q150.274 96.7378 147.195 101.344 Q144.14 105.928 138.33 105.928 Q132.519 105.928 129.441 101.344 Q126.385 96.7378 126.385 88.011 Q126.385 79.261 129.441 74.6777 Q132.519 70.0713 138.33 70.0713 Z\" fill=\"#000000\" fill-rule=\"evenodd\" fill-opacity=\"1\" /><polyline clip-path=\"url(#clip322)\" style=\"stroke:#009af9; stroke-linecap:butt; stroke-linejoin:round; stroke-width:4; stroke-opacity:1; fill:none\" points=\"\n",
       "  247.59,87.9763 268.234,142.286 288.879,195.487 309.524,247.58 330.169,298.564 350.814,348.441 371.459,397.208 392.104,444.868 412.749,491.419 433.394,536.862 \n",
       "  454.039,581.196 474.684,624.422 495.329,666.54 515.974,707.549 536.619,747.45 557.264,786.242 577.909,823.926 598.554,860.502 619.199,895.97 639.844,930.329 \n",
       "  660.489,963.58 681.134,995.722 701.779,1026.76 722.424,1056.68 743.069,1085.5 763.713,1113.21 784.358,1139.81 805.003,1165.3 825.648,1189.68 846.293,1212.96 \n",
       "  866.938,1235.13 887.583,1256.19 908.228,1276.14 928.873,1294.98 949.518,1312.71 970.163,1329.34 990.808,1344.86 1011.45,1359.26 1032.1,1372.56 1052.74,1384.76 \n",
       "  1073.39,1395.84 1094.03,1405.81 1114.68,1414.68 1135.32,1422.44 1155.97,1429.09 1176.61,1434.63 1197.26,1439.07 1217.9,1442.39 1238.55,1444.61 1259.19,1445.72 \n",
       "  1279.84,1445.72 1300.48,1444.61 1321.13,1442.39 1341.77,1439.07 1362.42,1434.63 1383.06,1429.09 1403.71,1422.44 1424.35,1414.68 1445,1405.81 1465.64,1395.84 \n",
       "  1486.29,1384.76 1506.93,1372.56 1527.58,1359.26 1548.22,1344.86 1568.87,1329.34 1589.51,1312.71 1610.16,1294.98 1630.8,1276.14 1651.45,1256.19 1672.09,1235.13 \n",
       "  1692.74,1212.96 1713.38,1189.68 1734.03,1165.3 1754.67,1139.81 1775.32,1113.21 1795.96,1085.5 1816.61,1056.68 1837.25,1026.76 1857.9,995.722 1878.54,963.58 \n",
       "  1899.19,930.329 1919.83,895.97 1940.48,860.502 1961.12,823.926 1981.77,786.242 2002.41,747.45 2023.06,707.549 2043.7,666.54 2064.35,624.422 2084.99,581.196 \n",
       "  2105.64,536.862 2126.28,491.419 2146.93,444.868 2167.57,397.208 2188.22,348.441 2208.86,298.564 2229.51,247.58 2250.15,195.487 2270.8,142.286 2291.44,87.9763 \n",
       "  \n",
       "  \"/>\n",
       "<polyline clip-path=\"url(#clip322)\" style=\"stroke:#e26f46; stroke-linecap:butt; stroke-linejoin:round; stroke-width:4; stroke-opacity:1; fill:none\" points=\"\n",
       "  247.59,87.9763 268.234,115.408 288.879,142.84 309.524,170.272 330.169,197.704 350.814,225.136 371.459,252.568 392.104,279.999 412.749,307.431 433.394,334.863 \n",
       "  454.039,362.295 474.684,389.727 495.329,417.159 515.974,444.591 536.619,472.023 557.264,499.454 577.909,526.886 598.554,554.318 619.199,581.75 639.844,609.182 \n",
       "  660.489,636.614 681.134,664.046 701.779,691.478 722.424,718.909 743.069,746.341 763.713,773.773 784.358,801.205 805.003,828.637 825.648,856.069 846.293,883.501 \n",
       "  866.938,910.933 887.583,938.364 908.228,965.796 928.873,993.228 949.518,1020.66 970.163,1048.09 990.808,1075.52 1011.45,1102.96 1032.1,1130.39 1052.74,1157.82 \n",
       "  1073.39,1185.25 1094.03,1212.68 1114.68,1240.12 1135.32,1267.55 1155.97,1294.98 1176.61,1322.41 1197.26,1349.84 1217.9,1377.27 1238.55,1404.71 1259.19,1432.14 \n",
       "  1279.84,1432.14 1300.48,1404.71 1321.13,1377.27 1341.77,1349.84 1362.42,1322.41 1383.06,1294.98 1403.71,1267.55 1424.35,1240.12 1445,1212.68 1465.64,1185.25 \n",
       "  1486.29,1157.82 1506.93,1130.39 1527.58,1102.96 1548.22,1075.52 1568.87,1048.09 1589.51,1020.66 1610.16,993.228 1630.8,965.796 1651.45,938.364 1672.09,910.933 \n",
       "  1692.74,883.501 1713.38,856.069 1734.03,828.637 1754.67,801.205 1775.32,773.773 1795.96,746.341 1816.61,718.909 1837.25,691.478 1857.9,664.046 1878.54,636.614 \n",
       "  1899.19,609.182 1919.83,581.75 1940.48,554.318 1961.12,526.886 1981.77,499.454 2002.41,472.023 2023.06,444.591 2043.7,417.159 2064.35,389.727 2084.99,362.295 \n",
       "  2105.64,334.863 2126.28,307.431 2146.93,279.999 2167.57,252.568 2188.22,225.136 2208.86,197.704 2229.51,170.272 2250.15,142.84 2270.8,115.408 2291.44,87.9763 \n",
       "  \n",
       "  \"/>\n",
       "<path clip-path=\"url(#clip320)\" d=\"\n",
       "M1704.2 250.738 L2280.54 250.738 L2280.54 95.2176 L1704.2 95.2176  Z\n",
       "  \" fill=\"#ffffff\" fill-rule=\"evenodd\" fill-opacity=\"1\"/>\n",
       "<polyline clip-path=\"url(#clip320)\" style=\"stroke:#000000; stroke-linecap:butt; stroke-linejoin:round; stroke-width:4; stroke-opacity:1; fill:none\" points=\"\n",
       "  1704.2,250.738 2280.54,250.738 2280.54,95.2176 1704.2,95.2176 1704.2,250.738 \n",
       "  \"/>\n",
       "<polyline clip-path=\"url(#clip320)\" style=\"stroke:#009af9; stroke-linecap:butt; stroke-linejoin:round; stroke-width:4; stroke-opacity:1; fill:none\" points=\"\n",
       "  1728.27,147.058 1872.7,147.058 \n",
       "  \"/>\n",
       "<path clip-path=\"url(#clip320)\" d=\"M1904.18 131.051 L1904.18 138.412 L1912.95 138.412 L1912.95 141.722 L1904.18 141.722 L1904.18 155.796 Q1904.18 158.967 1905.04 159.87 Q1905.92 160.773 1908.58 160.773 L1912.95 160.773 L1912.95 164.338 L1908.58 164.338 Q1903.65 164.338 1901.77 162.509 Q1899.9 160.657 1899.9 155.796 L1899.9 141.722 L1896.77 141.722 L1896.77 138.412 L1899.9 138.412 L1899.9 131.051 L1904.18 131.051 Z\" fill=\"#000000\" fill-rule=\"evenodd\" fill-opacity=\"1\" /><path clip-path=\"url(#clip320)\" d=\"M1933.58 142.393 Q1932.86 141.977 1932 141.791 Q1931.17 141.583 1930.15 141.583 Q1926.54 141.583 1924.6 143.944 Q1922.68 146.282 1922.68 150.68 L1922.68 164.338 L1918.39 164.338 L1918.39 138.412 L1922.68 138.412 L1922.68 142.44 Q1924.02 140.078 1926.17 138.944 Q1928.32 137.787 1931.4 137.787 Q1931.84 137.787 1932.37 137.856 Q1932.91 137.903 1933.55 138.018 L1933.58 142.393 Z\" fill=\"#000000\" fill-rule=\"evenodd\" fill-opacity=\"1\" /><path clip-path=\"url(#clip320)\" d=\"M1937.61 154.106 L1937.61 138.412 L1941.86 138.412 L1941.86 153.944 Q1941.86 157.625 1943.3 159.476 Q1944.74 161.305 1947.61 161.305 Q1951.05 161.305 1953.05 159.106 Q1955.06 156.907 1955.06 153.111 L1955.06 138.412 L1959.32 138.412 L1959.32 164.338 L1955.06 164.338 L1955.06 160.356 Q1953.51 162.717 1951.45 163.875 Q1949.41 165.009 1946.7 165.009 Q1942.24 165.009 1939.92 162.231 Q1937.61 159.453 1937.61 154.106 M1948.32 137.787 L1948.32 137.787 Z\" fill=\"#000000\" fill-rule=\"evenodd\" fill-opacity=\"1\" /><path clip-path=\"url(#clip320)\" d=\"M1990.27 150.31 L1990.27 152.393 L1970.68 152.393 Q1970.96 156.791 1973.32 159.106 Q1975.71 161.398 1979.94 161.398 Q1982.4 161.398 1984.69 160.796 Q1987 160.194 1989.27 158.99 L1989.27 163.018 Q1986.98 163.99 1984.57 164.5 Q1982.17 165.009 1979.69 165.009 Q1973.49 165.009 1969.85 161.398 Q1966.24 157.787 1966.24 151.629 Q1966.24 145.264 1969.67 141.537 Q1973.11 137.787 1978.95 137.787 Q1984.18 137.787 1987.21 141.166 Q1990.27 144.523 1990.27 150.31 M1986.01 149.06 Q1985.96 145.565 1984.04 143.481 Q1982.14 141.398 1978.99 141.398 Q1975.43 141.398 1973.28 143.412 Q1971.15 145.426 1970.82 149.083 L1986.01 149.06 Z\" fill=\"#000000\" fill-rule=\"evenodd\" fill-opacity=\"1\" /><polyline clip-path=\"url(#clip320)\" style=\"stroke:#e26f46; stroke-linecap:butt; stroke-linejoin:round; stroke-width:4; stroke-opacity:1; fill:none\" points=\"\n",
       "  1728.27,198.898 1872.7,198.898 \n",
       "  \"/>\n",
       "<path clip-path=\"url(#clip320)\" d=\"M1910.18 203.145 Q1905.01 203.145 1903.02 204.326 Q1901.03 205.506 1901.03 208.354 Q1901.03 210.622 1902.51 211.965 Q1904.02 213.284 1906.59 213.284 Q1910.13 213.284 1912.26 210.784 Q1914.41 208.261 1914.41 204.094 L1914.41 203.145 L1910.18 203.145 M1918.67 201.386 L1918.67 216.178 L1914.41 216.178 L1914.41 212.242 Q1912.95 214.603 1910.78 215.738 Q1908.6 216.849 1905.45 216.849 Q1901.47 216.849 1899.11 214.627 Q1896.77 212.381 1896.77 208.631 Q1896.77 204.256 1899.69 202.034 Q1902.63 199.812 1908.44 199.812 L1914.41 199.812 L1914.41 199.395 Q1914.41 196.455 1912.47 194.858 Q1910.55 193.238 1907.05 193.238 Q1904.83 193.238 1902.72 193.77 Q1900.62 194.303 1898.67 195.367 L1898.67 191.432 Q1901.01 190.53 1903.21 190.09 Q1905.41 189.627 1907.49 189.627 Q1913.12 189.627 1915.89 192.543 Q1918.67 195.46 1918.67 201.386 Z\" fill=\"#000000\" fill-rule=\"evenodd\" fill-opacity=\"1\" /><path clip-path=\"url(#clip320)\" d=\"M1931.56 212.289 L1931.56 226.039 L1927.28 226.039 L1927.28 190.252 L1931.56 190.252 L1931.56 194.187 Q1932.91 191.872 1934.94 190.761 Q1937 189.627 1939.85 189.627 Q1944.57 189.627 1947.51 193.377 Q1950.48 197.127 1950.48 203.238 Q1950.48 209.349 1947.51 213.099 Q1944.57 216.849 1939.85 216.849 Q1937 216.849 1934.94 215.738 Q1932.91 214.603 1931.56 212.289 M1946.05 203.238 Q1946.05 198.539 1944.11 195.877 Q1942.19 193.192 1938.81 193.192 Q1935.43 193.192 1933.49 195.877 Q1931.56 198.539 1931.56 203.238 Q1931.56 207.937 1933.49 210.622 Q1935.43 213.284 1938.81 213.284 Q1942.19 213.284 1944.11 210.622 Q1946.05 207.937 1946.05 203.238 Z\" fill=\"#000000\" fill-rule=\"evenodd\" fill-opacity=\"1\" /><path clip-path=\"url(#clip320)\" d=\"M1961.66 212.289 L1961.66 226.039 L1957.37 226.039 L1957.37 190.252 L1961.66 190.252 L1961.66 194.187 Q1963 191.872 1965.04 190.761 Q1967.1 189.627 1969.94 189.627 Q1974.67 189.627 1977.61 193.377 Q1980.57 197.127 1980.57 203.238 Q1980.57 209.349 1977.61 213.099 Q1974.67 216.849 1969.94 216.849 Q1967.1 216.849 1965.04 215.738 Q1963 214.603 1961.66 212.289 M1976.15 203.238 Q1976.15 198.539 1974.2 195.877 Q1972.28 193.192 1968.9 193.192 Q1965.52 193.192 1963.58 195.877 Q1961.66 198.539 1961.66 203.238 Q1961.66 207.937 1963.58 210.622 Q1965.52 213.284 1968.9 213.284 Q1972.28 213.284 1974.2 210.622 Q1976.15 207.937 1976.15 203.238 Z\" fill=\"#000000\" fill-rule=\"evenodd\" fill-opacity=\"1\" /><path clip-path=\"url(#clip320)\" d=\"M2002.65 194.233 Q2001.93 193.817 2001.08 193.631 Q2000.24 193.423 1999.23 193.423 Q1995.61 193.423 1993.67 195.784 Q1991.75 198.122 1991.75 202.52 L1991.75 216.178 L1987.47 216.178 L1987.47 190.252 L1991.75 190.252 L1991.75 194.28 Q1993.09 191.918 1995.24 190.784 Q1997.4 189.627 2000.48 189.627 Q2000.92 189.627 2001.45 189.696 Q2001.98 189.743 2002.63 189.858 L2002.65 194.233 Z\" fill=\"#000000\" fill-rule=\"evenodd\" fill-opacity=\"1\" /><path clip-path=\"url(#clip320)\" d=\"M2016.12 193.238 Q2012.7 193.238 2010.71 195.923 Q2008.72 198.585 2008.72 203.238 Q2008.72 207.891 2010.68 210.576 Q2012.67 213.238 2016.12 213.238 Q2019.53 213.238 2021.52 210.553 Q2023.51 207.867 2023.51 203.238 Q2023.51 198.631 2021.52 195.946 Q2019.53 193.238 2016.12 193.238 M2016.12 189.627 Q2021.68 189.627 2024.85 193.238 Q2028.02 196.849 2028.02 203.238 Q2028.02 209.604 2024.85 213.238 Q2021.68 216.849 2016.12 216.849 Q2010.55 216.849 2007.37 213.238 Q2004.23 209.604 2004.23 203.238 Q2004.23 196.849 2007.37 193.238 Q2010.55 189.627 2016.12 189.627 Z\" fill=\"#000000\" fill-rule=\"evenodd\" fill-opacity=\"1\" /><path clip-path=\"url(#clip320)\" d=\"M2055.17 190.252 L2045.8 202.867 L2055.66 216.178 L2050.64 216.178 L2043.09 205.992 L2035.55 216.178 L2030.52 216.178 L2040.59 202.613 L2031.38 190.252 L2036.4 190.252 L2043.28 199.488 L2050.15 190.252 L2055.17 190.252 Z\" fill=\"#000000\" fill-rule=\"evenodd\" fill-opacity=\"1\" /><path clip-path=\"url(#clip320)\" d=\"M2061.68 190.252 L2065.94 190.252 L2065.94 216.178 L2061.68 216.178 L2061.68 190.252 M2061.68 180.159 L2065.94 180.159 L2065.94 185.553 L2061.68 185.553 L2061.68 180.159 Z\" fill=\"#000000\" fill-rule=\"evenodd\" fill-opacity=\"1\" /><path clip-path=\"url(#clip320)\" d=\"M2095.04 195.229 Q2096.63 192.358 2098.85 190.993 Q2101.08 189.627 2104.09 189.627 Q2108.14 189.627 2110.34 192.474 Q2112.54 195.298 2112.54 200.529 L2112.54 216.178 L2108.25 216.178 L2108.25 200.668 Q2108.25 196.942 2106.93 195.136 Q2105.61 193.33 2102.91 193.33 Q2099.6 193.33 2097.67 195.53 Q2095.75 197.729 2095.75 201.525 L2095.75 216.178 L2091.47 216.178 L2091.47 200.668 Q2091.47 196.918 2090.15 195.136 Q2088.83 193.33 2086.08 193.33 Q2082.81 193.33 2080.89 195.553 Q2078.97 197.752 2078.97 201.525 L2078.97 216.178 L2074.69 216.178 L2074.69 190.252 L2078.97 190.252 L2078.97 194.28 Q2080.43 191.895 2082.47 190.761 Q2084.5 189.627 2087.3 189.627 Q2090.13 189.627 2092.1 191.062 Q2094.09 192.497 2095.04 195.229 Z\" fill=\"#000000\" fill-rule=\"evenodd\" fill-opacity=\"1\" /><path clip-path=\"url(#clip320)\" d=\"M2132.81 203.145 Q2127.65 203.145 2125.66 204.326 Q2123.67 205.506 2123.67 208.354 Q2123.67 210.622 2125.15 211.965 Q2126.66 213.284 2129.23 213.284 Q2132.77 213.284 2134.9 210.784 Q2137.05 208.261 2137.05 204.094 L2137.05 203.145 L2132.81 203.145 M2141.31 201.386 L2141.31 216.178 L2137.05 216.178 L2137.05 212.242 Q2135.59 214.603 2133.41 215.738 Q2131.24 216.849 2128.09 216.849 Q2124.11 216.849 2121.75 214.627 Q2119.41 212.381 2119.41 208.631 Q2119.41 204.256 2122.33 202.034 Q2125.27 199.812 2131.08 199.812 L2137.05 199.812 L2137.05 199.395 Q2137.05 196.455 2135.1 194.858 Q2133.18 193.238 2129.69 193.238 Q2127.47 193.238 2125.36 193.77 Q2123.25 194.303 2121.31 195.367 L2121.31 191.432 Q2123.65 190.53 2125.85 190.09 Q2128.04 189.627 2130.13 189.627 Q2135.75 189.627 2138.53 192.543 Q2141.31 195.46 2141.31 201.386 Z\" fill=\"#000000\" fill-rule=\"evenodd\" fill-opacity=\"1\" /><path clip-path=\"url(#clip320)\" d=\"M2154.29 182.891 L2154.29 190.252 L2163.07 190.252 L2163.07 193.562 L2154.29 193.562 L2154.29 207.636 Q2154.29 210.807 2155.15 211.71 Q2156.03 212.613 2158.69 212.613 L2163.07 212.613 L2163.07 216.178 L2158.69 216.178 Q2153.76 216.178 2151.89 214.349 Q2150.01 212.497 2150.01 207.636 L2150.01 193.562 L2146.89 193.562 L2146.89 190.252 L2150.01 190.252 L2150.01 182.891 L2154.29 182.891 Z\" fill=\"#000000\" fill-rule=\"evenodd\" fill-opacity=\"1\" /><path clip-path=\"url(#clip320)\" d=\"M2168.67 190.252 L2172.93 190.252 L2172.93 216.178 L2168.67 216.178 L2168.67 190.252 M2168.67 180.159 L2172.93 180.159 L2172.93 185.553 L2168.67 185.553 L2168.67 180.159 Z\" fill=\"#000000\" fill-rule=\"evenodd\" fill-opacity=\"1\" /><path clip-path=\"url(#clip320)\" d=\"M2191.89 193.238 Q2188.46 193.238 2186.47 195.923 Q2184.48 198.585 2184.48 203.238 Q2184.48 207.891 2186.45 210.576 Q2188.44 213.238 2191.89 213.238 Q2195.29 213.238 2197.28 210.553 Q2199.27 207.867 2199.27 203.238 Q2199.27 198.631 2197.28 195.946 Q2195.29 193.238 2191.89 193.238 M2191.89 189.627 Q2197.44 189.627 2200.61 193.238 Q2203.78 196.849 2203.78 203.238 Q2203.78 209.604 2200.61 213.238 Q2197.44 216.849 2191.89 216.849 Q2186.31 216.849 2183.14 213.238 Q2179.99 209.604 2179.99 203.238 Q2179.99 196.849 2183.14 193.238 Q2186.31 189.627 2191.89 189.627 Z\" fill=\"#000000\" fill-rule=\"evenodd\" fill-opacity=\"1\" /><path clip-path=\"url(#clip320)\" d=\"M2232.4 200.529 L2232.4 216.178 L2228.14 216.178 L2228.14 200.668 Q2228.14 196.988 2226.7 195.159 Q2225.27 193.33 2222.4 193.33 Q2218.95 193.33 2216.96 195.53 Q2214.97 197.729 2214.97 201.525 L2214.97 216.178 L2210.68 216.178 L2210.68 190.252 L2214.97 190.252 L2214.97 194.28 Q2216.49 191.942 2218.55 190.784 Q2220.64 189.627 2223.34 189.627 Q2227.81 189.627 2230.1 192.405 Q2232.4 195.159 2232.4 200.529 Z\" fill=\"#000000\" fill-rule=\"evenodd\" fill-opacity=\"1\" /></svg>\n"
      ]
     },
     "execution_count": 164,
     "metadata": {},
     "output_type": "execute_result"
    }
   ],
   "source": [
    "x_grid = range(-1.0, 1.0, length = 100)\n",
    "y_vals = f_ex5.(x_grid)\n",
    "y = g_ex5.(x_grid)\n",
    "plot(x_grid, y_vals, label = \"true\")\n",
    "plot!(x_grid, y, label = \"approximation\")"
   ]
  },
  {
   "cell_type": "markdown",
   "id": "2b67d955",
   "metadata": {},
   "source": [
    "### Exercise 6"
   ]
  },
  {
   "cell_type": "code",
   "execution_count": null,
   "id": "4d767187",
   "metadata": {
    "hide-output": false
   },
   "outputs": [],
   "source": [
    "f_ex6 = open(\"us_cities.txt\", \"r\")\n",
    "total_pop = 0\n",
    "for line in eachline(f_ex6)\n",
    "    city, population = split(line, ':')  # tuple unpacking\n",
    "    total_pop += parse(Int, population)\n",
    "end\n",
    "close(f_ex6)\n",
    "println(\"Total population = $total_pop\")"
   ]
  }
 ],
 "metadata": {
  "date": 1643875378.7985115,
  "filename": "julia_essentials.md",
  "kernelspec": {
   "display_name": "Julia 1.7.1",
   "language": "julia",
   "name": "julia-1.7"
  },
  "language_info": {
   "file_extension": ".jl",
   "mimetype": "application/julia",
   "name": "julia",
   "version": "1.7.1"
  },
  "title": "Julia Essentials",
  "toc": {
   "base_numbering": 1,
   "nav_menu": {},
   "number_sections": true,
   "sideBar": true,
   "skip_h1_title": false,
   "title_cell": "Table of Contents",
   "title_sidebar": "Contents",
   "toc_cell": false,
   "toc_position": {},
   "toc_section_display": true,
   "toc_window_display": true
  },
  "varInspector": {
   "cols": {
    "lenName": 16,
    "lenType": 16,
    "lenVar": 40
   },
   "kernels_config": {
    "python": {
     "delete_cmd_postfix": "",
     "delete_cmd_prefix": "del ",
     "library": "var_list.py",
     "varRefreshCmd": "print(var_dic_list())"
    },
    "r": {
     "delete_cmd_postfix": ") ",
     "delete_cmd_prefix": "rm(",
     "library": "var_list.r",
     "varRefreshCmd": "cat(var_dic_list()) "
    }
   },
   "types_to_exclude": [
    "module",
    "function",
    "builtin_function_or_method",
    "instance",
    "_Feature"
   ],
   "window_display": false
  }
 },
 "nbformat": 4,
 "nbformat_minor": 5
}
